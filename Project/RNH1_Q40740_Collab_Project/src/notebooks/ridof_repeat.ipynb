{
 "cells": [
  {
   "cell_type": "code",
   "execution_count": 2,
   "metadata": {},
   "outputs": [
    {
     "name": "stdout",
     "output_type": "stream",
     "text": [
      "Done. 1862 unique entries written to /Users/conny/Desktop/AlphaFold/unique_proteins_ids.txt.\n",
      "Repeated entries written to /Users/conny/Desktop/AlphaFold/repeated_proteins_ids.txt.\n"
     ]
    }
   ],
   "source": [
    "# existing code...\n",
    "input_file = '/Users/conny/Desktop/AlphaFold/protein_ids.txt'\n",
    "unique_output_file = '/Users/conny/Desktop/AlphaFold/unique_proteins_ids.txt'\n",
    "repeated_output_file = '/Users/conny/Desktop/AlphaFold/repeated_proteins_ids.txt'\n",
    "\n",
    "# Read and deduplicate\n",
    "with open(input_file, 'r') as f:\n",
    "    lines = f.read().splitlines()\n",
    "\n",
    "# Remove duplicates while preserving order\n",
    "seen = set()\n",
    "unique_lines = []\n",
    "repeated_lines = set()\n",
    "for line in lines:\n",
    "    if line in seen:\n",
    "        repeated_lines.add(line)\n",
    "    else:\n",
    "        seen.add(line)\n",
    "        unique_lines.append(line)\n",
    "\n",
    "# Write unique entries to a new file\n",
    "with open(unique_output_file, 'w') as f:\n",
    "    for line in unique_lines:\n",
    "        f.write(line + '\\n')\n",
    "\n",
    "# Write repeated entries to a separate file\n",
    "with open(repeated_output_file, 'w') as f:\n",
    "    for line in repeated_lines:\n",
    "        f.write(line + '\\n')\n",
    "\n",
    "print(f\"Done. {len(unique_lines)} unique entries written to {unique_output_file}.\")\n",
    "print(f\"Repeated entries written to {repeated_output_file}.\")\n",
    "# existing code..."
   ]
  },
  {
   "cell_type": "code",
   "execution_count": 5,
   "metadata": {},
   "outputs": [
    {
     "name": "stdout",
     "output_type": "stream",
     "text": [
      "[]\n"
     ]
    }
   ],
   "source": [
    "# Code to check if a txt file has repeated line\n",
    "file_path = '/Users/conny/Desktop/AlphaFold/unique_protein_ids.txt'\n",
    "# Read the file\n",
    "with open(file_path, 'r') as file:\n",
    "    lines = file.readlines()\n",
    "\n",
    "# Create a set to track seen lines\n",
    "seen_lines = set()\n",
    "repeated_lines = []\n",
    "\n",
    "# Iterate through the lines\n",
    "for line in lines:\n",
    "    # Strip whitespace and check if the line has already been seen\n",
    "    line = line.strip()\n",
    "    if line in seen_lines:\n",
    "        print(f\"Repeated line found: {line}\")\n",
    "        repeated_lines.append(line)\n",
    "    else:\n",
    "        seen_lines.add(line)\n",
    "\n",
    "print(repeated_lines)\n"
   ]
  },
  {
   "cell_type": "code",
   "execution_count": null,
   "metadata": {},
   "outputs": [],
   "source": []
  },
  {
   "cell_type": "code",
   "execution_count": 4,
   "metadata": {},
   "outputs": [],
   "source": [
    "# I have 2 txt files, and I want to remove the repeated lines in one of them\n",
    "# The files are:\n",
    "# 1. /Users/conny/Desktop/AlphaFold/missing_id.txt\n",
    "# 2. /Users/conny/Desktop/AlphaFold/unique_protein_ids_JackDB.txt\n",
    "# I want to remove the repeated lines in the second file from the first file\n",
    "# I want to save the result in the same file\n",
    "\n",
    "\n",
    "with open('/Users/conny/Desktop/AlphaFold/missing_id.txt', 'r') as file1:\n",
    "    missing_ids = file1.readlines()\n",
    "\n",
    "with open('/Users/conny/Desktop/AlphaFold/unique_protein_ids_JackDB.txt', 'r') as file2:\n",
    "    jackdb_ids = file2.readlines()\n",
    "\n",
    "    # Remove repeated lines from missing_ids\n",
    "unique_missing_ids = [line for line in jackdb_ids if line not in missing_ids]\n",
    "\n",
    "    # Write the result to the same file\n",
    "with open('/Users/conny/Desktop/AlphaFold/unique_protein_ids_JackDB.txt', 'w') as file1:\n",
    "        for line in unique_missing_ids:\n",
    "            file1.write(line)\n",
    "\n",
    "\n",
    "\n",
    "\n",
    "\n",
    "\n",
    "\n",
    "\n",
    "\n",
    "\n",
    "\n",
    "\n",
    "\n"
   ]
  }
 ],
 "metadata": {
  "kernelspec": {
   "display_name": "Python 3",
   "language": "python",
   "name": "python3"
  },
  "language_info": {
   "codemirror_mode": {
    "name": "ipython",
    "version": 3
   },
   "file_extension": ".py",
   "mimetype": "text/x-python",
   "name": "python",
   "nbconvert_exporter": "python",
   "pygments_lexer": "ipython3",
   "version": "3.11.1"
  }
 },
 "nbformat": 4,
 "nbformat_minor": 2
}
