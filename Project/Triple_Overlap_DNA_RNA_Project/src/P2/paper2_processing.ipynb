{
 "cells": [
  {
   "cell_type": "code",
   "execution_count": 2,
   "metadata": {},
   "outputs": [
    {
     "name": "stdout",
     "output_type": "stream",
     "text": [
      "['Q8TDN6', 'Q6PK04', 'P46087', 'Q92522', 'Q9NVP1', 'O76021', 'Q9NQ55', 'Q9NR30', 'O00567', 'Q9BYG3', 'Q9Y5J1', 'Q9UKD2', 'Q13838', 'Q9BQG0', 'Q15050', 'P22087', 'Q9UKM9', 'Q9H7B2', 'P38159', 'O43390', 'Q5T3I0', 'Q9BXY0', 'Q9Y3B9', 'Q8IY81', 'P38919', 'Q08211', 'Q8WWQ0', 'P55769', 'O95478', 'Q9NX58', 'P42696', 'Q9GZL7', 'Q9HCE1', 'Q99729-3', 'Q8WYP5', 'Q13310-2', 'Q9Y3C1', 'Q8TDD1-2', 'Q9NY12', 'P07910-2', 'Q9BRT6', 'Q15061', 'P62314', 'O00571', 'Q9Y3A4', 'P17844', 'Q15717', 'Q9H9Y2', 'Q13823', 'Q9BWF3', 'Q14684', 'Q14137', 'P16401', 'Q13601', 'O75683', 'P19525', 'P31942', 'O15226', 'G5E9M5', 'Q96KR1', 'Q9NUL3', 'Q86V81', 'Q9H6F5', 'Q9NY93', 'P14678', 'P52272', 'P50990', 'O75367', 'Q14692', 'O60506', 'Q8TED0', 'Q9BVJ6', 'Q15029', 'Q13610', 'Q09161', 'Q12905', 'P61978', 'Q1KMD3', 'P61326', 'P84090', 'Q9Y2P8', 'O76094', 'O96028', 'O14979', 'Q9H8H2', 'O15213', 'Q14739', 'Q14690', 'O43143', 'Q9NVX2', 'Q5BKZ1', 'Q14151', 'P49711', 'Q92900', 'P51114', 'P07910', 'Q9NV31', 'P62316', 'Q9Y5S9', 'Q8IWA0', 'Q7Z7K6', 'Q9Y3A2', 'P62304', 'E9PLD3', 'Q9P275', 'O60832', 'Q96HS1', 'Q7L2J0', 'Q5SSJ5', 'O00566', 'Q03169', 'P56537', 'Q15424', 'Q9BRJ6', 'Q9Y2X3', 'Q9BRU9', 'Q9UMS4', 'P31943', 'Q9H6R4', 'P55795', 'Q9BQ67', 'Q00839', 'Q5HYZ1', 'P62805', 'P67809', 'O75643', 'Q9NZM5', 'P11940', 'P62318', 'Q969X6', 'P09661', 'P09651', 'P07305', 'Q9H0D6', 'Q12788', 'Q15233', 'Q96T37', 'Q9BUJ2', 'Q96E39', 'Q9Y324', 'P16403', 'Q96MU7', 'Q1ED39', 'Q8NI36', 'Q13427', 'Q92499', 'Q13595', 'Q9UMY1', 'Q92769', 'Q6RFH5', 'O94776', 'Q9NVN8', 'Q13151', 'Q9UIG0', 'P49756', 'Q9GZR7', 'Q5T280', 'Q02241', 'Q5JTH9', 'Q9H8H0', 'Q9UNX4', 'P34932', 'P11388', 'P62140', 'A0JLT2', 'Q96T88', 'Q5T5E6', 'Q8N9T8', 'Q15361', 'O43660', 'P35659', 'Q96DI7', 'Q96CW1', 'P49368', 'Q99575', 'Q13243', 'Q9UIF9', 'Q9H9L3', 'Q8IXT5', 'Q9NV06', 'P05141', 'Q96SB4', 'P62879', 'P46013', 'O75400', 'P35637', 'Q9UKV3', 'Q99459', 'Q9BU76', 'Q9NZI8', 'Q9HCD5', 'Q8N5F7', 'Q8WTT2', 'O75607', 'Q9UH17', 'Q9BZE4', 'Q01081', 'Q99848', 'P16989-2', 'Q13428-7', 'Q96GQ7', 'Q8N8U2', 'P0C0S8', 'Q13523', 'O15371', 'Q2NL82', 'P14866', 'Q86XK6', 'Q9P258', 'Q9UBB5', 'Q8NC51', 'Q9NWT1', 'P37108', 'O00148', 'Q96PK6', 'Q13148', 'P43243', 'P41091', 'Q9BQ39', 'P78527', 'Q92841', 'P42285', 'Q96SI9', 'Q6P2Q9', 'Q9BUQ8', 'P08243', 'P62258', 'Q9NX24', 'P40227', 'P14868', 'Q96BK5', 'Q9H2U1', 'P55081', 'Q5QJE6', 'P16989', 'Q5T6W5', 'P08670', 'O43395', 'Q13242', 'Q7Z5J4', 'Q9NP64', 'P45880', 'O95793', 'Q53HL2', 'Q14980-2', 'P62995', 'O75475-2', 'P49458', 'Q15633', 'P09874', 'Q9H0A0', 'Q03701', 'Q9BVP2', 'Q9HB58', 'O75494', 'Q9HC52', 'Q96K58', 'Q03164', 'Q8NFW8', 'Q9Y232', 'Q7Z7K6-3', 'P78563', 'P55265', 'Q9ULW0', 'O00159', 'P17980', 'Q9NRW3', 'O43172', 'P62306', 'P52597', 'Q9UBU9', 'P22626', 'Q9NQS7', 'P62308', 'P38432', 'Q9Y3B4', 'Q9BWT6', 'P23246', 'Q9BSC4', 'Q9NPI1', 'P08107', 'Q9H8M2', 'P46013-2', 'Q8IYB3', 'Q08170', 'Q15149', 'Q2TB10', 'O15381', 'Q7KZF4', 'Q9Y2R4', 'O43290', 'Q7L2E3', 'Q14694', 'Q8ND82', 'Q15269', 'Q13185', 'H3BQG7', 'O00425', 'Q8TAD8', 'Q9UN86', 'Q9UGY1', 'Q8NE71', 'Q9H0S4', 'Q92804', 'Q9Y696', 'Q14103', 'P26196', 'Q9UGN5', 'P15311', 'P51991', 'O00488', 'P19338', 'Q7Z6E9', 'Q9H583', 'Q15397', 'P06748', 'Q05519', 'Q9Y224', 'Q9P031', 'Q9H7N4', 'Q7Z2W4', 'P51532', 'Q9GZR2', 'Q14331', 'P27816', 'P51149', 'Q13247', 'P12004', 'Q9NYH9', 'Q6PKG0', 'Q15365', 'Q9BZJ0', 'Q5VWQ0', 'P26640', 'Q9H4L4', 'Q9Y230', 'Q9UHA3', 'P08621', 'P26358', 'Q9Y3I0', 'P11387', 'Q9Y3Y2', 'P63244', 'O60508', 'Q9Y5B9', 'Q9NW64', 'P08575', 'P01112', 'Q9H1E3', 'O43818', 'O95232', 'P08754', 'P26368', 'Q14974', 'Q13573', 'Q6UN15', 'P78371', 'Q15366', 'Q13428-3', 'Q58FF8', 'O75152', 'Q7L014', 'P78362', 'P50991', 'Q9Y388', 'Q13283', 'P09234', 'Q16531', 'Q16629', 'P60842', 'Q15326', 'Q15020', 'P15153', 'O43684', 'P05198', 'P84103', 'P58107', 'Q8WVV9', 'Q8NCA5', 'Q9NWB6', 'Q9HCS7', 'P26641', 'P33992', 'P54136', 'Q99880', 'O43670', 'P30041', 'Q9H6Y2', 'Q09028', 'Q9NW13', 'Q9NY61', 'P56182', 'Q02040', 'P11142', 'P35579', 'O43175', 'P13639', 'Q06323', 'Q14498', 'Q9P2J5', 'P00558', 'Q03188', 'Q01130', 'O43159', 'Q71DI3', 'P17987', 'P63241', 'O60841', 'P60891', 'P31146', 'P14618', 'Q9Y3F4', 'Q9NPE3', 'Q8NDF8', 'Q8WU90', 'Q8NEJ9', 'Q96G21', 'P62937', 'P06733', 'Q07955', 'Q15287', 'Q9NWH9', 'Q02790', 'Q9NS39', 'O00541', 'P08238', 'O43463', 'P18583', 'P61204', 'Q9UJV9', 'Q9H6W3', 'Q96EY1', 'P62820', 'Q08AN1', 'P18669', 'Q06830', 'P45973', 'Q08945', 'Q92979', 'P26599', 'P23528', 'Q96GD4', 'Q9Y2W1', 'Q15102', 'Q9UQ35', 'Q9BVI4', 'P15121', 'Q13435', 'P25205', 'P68104', 'E9PAV3', 'Q9Y383', 'Q9UQ80', 'P04075', 'P07737', 'O15042', 'Q00610', 'P61981', 'O00303', 'O15197', 'Q9NXE8', 'O60264', 'P30153', 'Q9BPU6', 'Q14978', 'Q13347', 'P62834', 'P26639', 'P05204']\n"
     ]
    }
   ],
   "source": [
    "# Check the gene names\n",
    "import pandas as pd\n",
    "import requests\n",
    "\n",
    "# Read Document 1 (assumes an Excel file with a column \"Protein\" containing gene names)\n",
    "df1 = pd.read_excel('/Users/conny/Desktop/AlphaFold/Summer Project/data/Paper 2 data.xlsx', header=11)\n",
    "\n",
    "# Now you can access the 'Protein' column\n",
    "protein_columns = df1['T: Majority protein IDs'].dropna().unique()\n",
    "\n",
    "#print(protein_columns)\n",
    "#Get the first entry inside each list\n",
    "# Extract the first protein ID from each entry\n",
    "protein_ids = [entry.split(';')[0].strip() for entry in protein_columns]\n",
    "\n",
    "# Now protein_ids will contain only the first ID from each entry\n",
    "print(protein_ids)\n",
    "#gene_names = df1['Protein'].dropna().unique()  # unique gene names, drop NaNs if any\n"
   ]
  },
  {
   "cell_type": "code",
   "execution_count": 2,
   "metadata": {},
   "outputs": [
    {
     "name": "stderr",
     "output_type": "stream",
     "text": [
      "Fetching sequences: 100%|██████████| 469/469 [03:12<00:00,  2.43it/s]"
     ]
    },
    {
     "name": "stdout",
     "output_type": "stream",
     "text": [
      "\n",
      "Results summary:\n",
      "- Total proteins processed: 469\n",
      "- Successfully retrieved: 466 sequences\n",
      "\n",
      "Output files:\n",
      "- paper2_reviewed_results.csv: Contains all retrieved entries with descriptions\n",
      "- paper2_protein_sequences.fasta: Contains protein sequences in FASTA format\n"
     ]
    },
    {
     "name": "stderr",
     "output_type": "stream",
     "text": [
      "\n"
     ]
    }
   ],
   "source": [
    "import pandas as pd\n",
    "import requests\n",
    "from tqdm import tqdm\n",
    "import sys\n",
    "import json\n",
    "import time\n",
    "from requests.adapters import HTTPAdapter\n",
    "from urllib3.util.retry import Retry\n",
    "import random\n",
    "\n",
    "def fetch_sequence(protein_id):\n",
    "    \"\"\"\n",
    "    Fetch sequence from UniProt\n",
    "    \"\"\"\n",
    "    url = f\"https://rest.uniprot.org/uniprotkb/{protein_id}\"\n",
    "    params = {\"fields\": [\"sequence\"]}\n",
    "    headers = {\"accept\": \"application/json\"}\n",
    "    \n",
    "    response = requests.get(url, headers=headers, params=params)\n",
    "    if response.ok:\n",
    "        data = response.json()\n",
    "        sequence_info = data.get(\"sequence\", {})\n",
    "        return sequence_info.get(\"value\", None)\n",
    "    else:\n",
    "        print(f\"Warning: Failed to fetch {protein_id}\", file=sys.stderr)\n",
    "        return None\n",
    "\n",
    "def main():\n",
    "    # Read the Excel file\n",
    "    excel_file = \"/Users/conny/Desktop/AlphaFold/Summer Project/data/Paper 2 data.xlsx\"\n",
    "    \n",
    "    # Read the relevant columns\n",
    "    df = pd.read_excel(excel_file, header=11)\n",
    "    \n",
    "    # Extract protein IDs and descriptions\n",
    "    protein_data = []\n",
    "    for _, row in df.iterrows():\n",
    "        protein_ids = row['T: Majority protein IDs'].split(';')\n",
    "        description = row['T: Protein names']\n",
    "        \n",
    "        # Get the first protein ID from each entry\n",
    "        primary_id = protein_ids[0].strip()\n",
    "        protein_data.append({\n",
    "            'accession': primary_id,\n",
    "            'description': description\n",
    "        })\n",
    "    \n",
    "    # Get sequences and create results\n",
    "    results = []\n",
    "    for entry in tqdm(protein_data, desc=\"Fetching sequences\"):\n",
    "        sequence = fetch_sequence(entry['accession'])\n",
    "        if sequence:\n",
    "            results.append({\n",
    "                'accession': entry['accession'],\n",
    "                'description': entry['description'],\n",
    "                'sequence': sequence\n",
    "            })\n",
    "    \n",
    "    # Save results to CSV\n",
    "    results_df = pd.DataFrame(results)\n",
    "    results_df.to_csv(\"paper2_reviewed_results.csv\", index=False)\n",
    "    \n",
    "    # Save sequences to FASTA file\n",
    "    with open(\"paper2_protein_sequences.fasta\", \"w\") as f:\n",
    "        for result in results:\n",
    "            f.write(f\">{result['accession']}\\n\")\n",
    "            f.write(f\"{result['sequence']}\\n\")\n",
    "    \n",
    "    print(\"\\nResults summary:\")\n",
    "    print(f\"- Total proteins processed: {len(protein_data)}\")\n",
    "    print(f\"- Successfully retrieved: {len(results)} sequences\")\n",
    "    print(\"\\nOutput files:\")\n",
    "    print(\"- paper2_reviewed_results.csv: Contains all retrieved entries with descriptions\")\n",
    "    print(\"- paper2_protein_sequences.fasta: Contains protein sequences in FASTA format\")\n",
    "\n",
    "if __name__ == \"__main__\":\n",
    "    main()"
   ]
  },
  {
   "cell_type": "code",
   "execution_count": 5,
   "metadata": {},
   "outputs": [
    {
     "name": "stdout",
     "output_type": "stream",
     "text": [
      "Total proteins in original data: 469\n",
      "Successfully retrieved proteins: 466\n",
      "Missing proteins: ['Q5HYZ1', 'P08107', 'Q5T6W5']\n",
      "\n",
      "Missing proteins:\n"
     ]
    }
   ],
   "source": [
    "import pandas as pd\n",
    "\n",
    "# Read the original Paper 2 data\n",
    "paper2_data = pd.read_excel('/Users/conny/Desktop/AlphaFold/Summer Project/data/Paper 2 data.xlsx', header=11)\n",
    "\n",
    "# Read the retrieved sequences\n",
    "retrieved_sequences = pd.read_csv('paper2_reviewed_results.csv')\n",
    "\n",
    "# Get unique proteins from both datasets\n",
    "original_proteins = protein_ids\n",
    "retrieved_proteins = list(set(retrieved_sequences['accession'].unique()))\n",
    "\n",
    "# Find proteins that weren't retrieved\n",
    "missing_proteins = list(set(original_proteins) - set(retrieved_proteins))  # This works\n",
    "\n",
    "# Create a DataFrame with the missing proteins and their descriptions\n",
    "#missing_df = paper2_data[paper2_data['gene'].isin(missing_proteins)][['gene', 'description']]\n",
    "\n",
    "# Print summary\n",
    "print(f\"Total proteins in original data: {len(original_proteins)}\")\n",
    "print(f\"Successfully retrieved proteins: {len(retrieved_proteins)}\")\n",
    "print(f\"Missing proteins: {(missing_proteins)}\")\n",
    "print(\"\\nMissing proteins:\")\n",
    "#print(missing_df.to_string())\n",
    "\n",
    "# Save missing proteins to CSV for further analysis\n",
    "#missing_df.to_csv(\"paper2_missing_proteins.csv\", index=False)\n",
    "#print(\"\\nSaved missing proteins to paper2_missing_proteins.csv\")"
   ]
  },
  {
   "cell_type": "code",
   "execution_count": 2,
   "metadata": {},
   "outputs": [
    {
     "name": "stderr",
     "output_type": "stream",
     "text": [
      "Fetching sequences:   0%|          | 1/469 [00:00<03:24,  2.29it/s]"
     ]
    },
    {
     "name": "stdout",
     "output_type": "stream",
     "text": [
      "{'entryType': 'UniProtKB reviewed (Swiss-Prot)', 'primaryAccession': 'Q8TDN6', 'proteinDescription': {'recommendedName': {'fullName': {'value': 'Ribosome biogenesis protein BRX1 homolog'}}, 'alternativeNames': [{'fullName': {'value': 'Brix domain-containing protein 2'}}]}, 'genes': [{'geneName': {'value': 'BRIX1'}, 'synonyms': [{'value': 'BRIX'}, {'value': 'BXDC2'}]}], 'sequence': {'value': 'MAATKRKRRGGFAVQAKKPKRNEIDAEPPAKRHATAEEVEEEERDRIPGPVCKGKWKNKERILIFSSRGINFRTRHLMQDLRMLMPHSKADTKMDRKDKLFVINEVCEMKNCNKCIYFEAKKKQDLYMWLSNSPHGPSAKFLVQNIHTLAELKMTGNCLKGSRPLLSFDPAFDELPHYALLKELLIQIFSTPRYHPKSQPFVDHVFTFTILDNRIWFRNFQIIEEDAALVEIGPRFVLNLIKIFQGSFGGPTLYENPHYQSPNMHRRVIRSITAAKYREKQQVKDVQKLRKKEPKTLLPHDPTADVFVTPAEEKPIEIQWVKPEPKVDLKARKKRIYKRQRKMKQRMDSGKTK', 'length': 353, 'molWeight': 41401, 'crc64': 'F05597673A13B7CC', 'md5': '75B4A1FC32ED97A1B0C124B39BC4CBEE'}, 'extraAttributes': {'uniParcId': 'UPI000007186B'}}\n"
     ]
    },
    {
     "name": "stderr",
     "output_type": "stream",
     "text": [
      "Fetching sequences:   0%|          | 2/469 [00:00<03:23,  2.29it/s]"
     ]
    },
    {
     "name": "stdout",
     "output_type": "stream",
     "text": [
      "{'entryType': 'UniProtKB reviewed (Swiss-Prot)', 'primaryAccession': 'Q6PK04', 'proteinDescription': {'recommendedName': {'fullName': {'value': 'Coiled-coil domain-containing protein 137'}}}, 'genes': [{'geneName': {'value': 'CCDC137'}, 'synonyms': [{'evidences': [{'evidenceCode': 'ECO:0000303', 'source': 'PubMed', 'id': '20813266'}], 'value': 'cPERP-B'}]}], 'sequence': {'value': 'MAGAGRGAAVSRVQAGPGSPRRARGRQQVQPLGKQRPAPWPGLRSKEKKKVNCKPKNQDEQEIPFRLREIMRSRQEMKNPISNKKRKKAAQVTFRKTLEKEAKGEEPDIAVPKFKQRKGESDGAYIHRMQQEAQHVLFLSKNQAIRQPEVQAAPKEKSEQKKAKKAFQKRRLDKVRRKKEEKAADRLEQELLRDTVKFGEVVLQPPELTARPQRSVSKDQPGRRSQMLRMLLSPGGVSQPLTASLARQRIVEEERERAVQAYRALKQRQQQLHGERPHLTSRKKPEPQL', 'length': 289, 'molWeight': 33231, 'crc64': 'B8C4E6EC64360771', 'md5': '62B4EF81784A75BC0A239598345511D7'}, 'extraAttributes': {'uniParcId': 'UPI00001983C7'}}\n"
     ]
    },
    {
     "name": "stderr",
     "output_type": "stream",
     "text": [
      "Fetching sequences:   1%|          | 3/469 [00:01<03:24,  2.28it/s]"
     ]
    },
    {
     "name": "stdout",
     "output_type": "stream",
     "text": [
      "{'entryType': 'UniProtKB reviewed (Swiss-Prot)', 'primaryAccession': 'P46087', 'proteinDescription': {'recommendedName': {'fullName': {'value': '28S rRNA (cytosine(4447)-C(5))-methyltransferase'}, 'ecNumbers': [{'value': '2.1.1.-'}]}, 'alternativeNames': [{'fullName': {'value': 'Nucleolar protein 1'}}, {'fullName': {'value': 'Nucleolar protein 2 homolog'}}, {'fullName': {'value': 'Proliferating-cell nucleolar antigen p120'}}, {'fullName': {'evidences': [{'evidenceCode': 'ECO:0000303', 'source': 'PubMed', 'id': '26196125'}], 'value': 'Proliferation-associated nucleolar protein p120'}}]}, 'genes': [{'geneName': {'value': 'NOP2'}, 'synonyms': [{'value': 'NOL1'}, {'value': 'NSUN1'}]}], 'sequence': {'value': 'MGRKLDPTKEKRGPGRKARKQKGAETELVRFLPAVSDENSKRLSSRARKRAAKRRLGSVEAPKTNKSPEAKPLPGKLPKGISAGAVQTAGKKGPQSLFNAPRGKKRPAPGSDEEEEEEDSEEDGMVNHGDLWGSEDDADTVDDYGADSNSEDEEEGEALLPIERAARKQKAREAAAGIQWSEEETEDEEEEKEVTPESGPPKVEEADGGLQINVDEEPFVLPPAGEMEQDAQAPDLQRVHKRIQDIVGILRDFGAQREEGRSRSEYLNRLKKDLAIYYSYGDFLLGKLMDLFPLSELVEFLEANEVPRPVTLRTNTLKTRRRDLAQALINRGVNLDPLGKWSKTGLVVYDSSVPIGATPEYLAGHYMLQGASSMLPVMALAPQEHERILDMCCAPGGKTSYMAQLMKNTGVILANDANAERLKSVVGNLHRLGVTNTIISHYDGRQFPKVVGGFDRVLLDAPCSGTGVISKDPAVKTNKDEKDILRCAHLQKELLLSAIDSVNATSKTGGYLVYCTCSITVEENEWVVDYALKKRNVRLVPTGLDFGQEGFTRFRERRFHPSLRSTRRFYPHTHNMDGFFIAKFKKFSNSIPQSQTGNSETATPTNVDLPQVIPKSENSSQPAKKAKGAAKTKQQLQKQQHPKKASFQKLNGISKGADSELSTVPSVTKTQASSSFQDSSQPAGKAEGIREPKVTGKLKQRSPKLQSSKKVAFLRQNAPPKGTDTQTPAVLSPSKTQATLKPKDHHQPLGRAKGVEKQQLPEQPFEKAAFQKQNDTPKGPQPPTVSPIRSSRPPPAKRKKSQSRGNSQLLLS', 'length': 812, 'molWeight': 89302, 'crc64': '4C7A1BE79388F1C5', 'md5': '7AAC4E11070A02A23B5E4169EC6D980F'}, 'extraAttributes': {'uniParcId': 'UPI00000373D6'}}\n"
     ]
    },
    {
     "name": "stderr",
     "output_type": "stream",
     "text": [
      "Fetching sequences:   1%|          | 4/469 [00:01<03:21,  2.31it/s]"
     ]
    },
    {
     "name": "stdout",
     "output_type": "stream",
     "text": [
      "{'entryType': 'UniProtKB reviewed (Swiss-Prot)', 'primaryAccession': 'Q92522', 'proteinDescription': {'recommendedName': {'fullName': {'evidences': [{'evidenceCode': 'ECO:0000305'}], 'value': 'Histone H1.10'}}, 'alternativeNames': [{'fullName': {'value': 'Histone H1x'}}]}, 'genes': [{'geneName': {'evidences': [{'evidenceCode': 'ECO:0000312', 'source': 'HGNC', 'id': 'HGNC:4722'}], 'value': 'H1-10'}, 'synonyms': [{'evidences': [{'evidenceCode': 'ECO:0000312', 'source': 'HGNC', 'id': 'HGNC:4722'}], 'value': 'H1FX'}]}], 'sequence': {'value': 'MSVELEEALPVTTAEGMAKKVTKAGGSAALSPSKKRKNSKKKNQPGKYSQLVVETIRRLGERNGSSLAKIYTEAKKVPWFDQQNGRTYLKYSIKALVQNDTLLQVKGTGANGSFKLNRKKLEGGGERRGAPAAATAPAPTAHKAKKAAPGAAGSRRADKKPARGQKPEQRSHKKGAGAKKDKGGKAKKTAAAGGKKVKKAAKPSVPKVPKGRK', 'length': 213, 'molWeight': 22487, 'crc64': '11548D85C5448FF2', 'md5': '1CF3726C9262FE6A56E21377F7FA8458'}, 'extraAttributes': {'uniParcId': 'UPI000012BF2F'}}\n"
     ]
    },
    {
     "name": "stderr",
     "output_type": "stream",
     "text": [
      "Fetching sequences:   1%|          | 5/469 [00:02<03:20,  2.31it/s]"
     ]
    },
    {
     "name": "stdout",
     "output_type": "stream",
     "text": [
      "{'entryType': 'UniProtKB reviewed (Swiss-Prot)', 'primaryAccession': 'Q9NVP1', 'proteinDescription': {'recommendedName': {'fullName': {'value': 'ATP-dependent RNA helicase DDX18'}, 'ecNumbers': [{'value': '3.6.4.13'}]}, 'alternativeNames': [{'fullName': {'value': 'DEAD box protein 18'}}, {'fullName': {'value': 'Myc-regulated DEAD box protein'}, 'shortNames': [{'value': 'MrDb'}]}]}, 'genes': [{'geneName': {'value': 'DDX18'}, 'synonyms': [{'evidences': [{'evidenceCode': 'ECO:0000303', 'source': 'PubMed', 'id': '20813266'}], 'value': 'cPERP-D'}]}], 'sequence': {'value': 'MSHLPMKLLRKKIEKRNLKLRQRNLKFQGASNLTLSETQNGDVSEETMGSRKVKKSKQKPMNVGLSETQNGGMSQEAVGNIKVTKSPQKSTVLTNGEAAMQSSNSESKKKKKKKRKMVNDAEPDTKKAKTENKGKSEEESAETTKETENNVEKPDNDEDESEVPSLPLGLTGAFEDTSFASLCNLVNENTLKAIKEMGFTNMTEIQHKSIRPLLEGRDLLAAAKTGSGKTLAFLIPAVELIVKLRFMPRNGTGVLILSPTRELAMQTFGVLKELMTHHVHTYGLIMGGSNRSAEAQKLGNGINIIVATPGRLLDHMQNTPGFMYKNLQCLVIDEADRILDVGFEEELKQIIKLLPTRRQTMLFSATQTRKVEDLARISLKKEPLYVGVDDDKANATVDGLEQGYVVCPSEKRFLLLFTFLKKNRKKKLMVFFSSCMSVKYHYELLNYIDLPVLAIHGKQKQNKRTTTFFQFCNADSGTLLCTDVAARGLDIPEVDWIVQYDPPDDPKEYIHRVGRTARGLNGRGHALLILRPEELGFLRYLKQSKVPLSEFDFSWSKISDIQSQLEKLIEKNYFLHKSAQEAYKSYIRAYDSHSLKQIFNVNNLNLPQVALSFGFKVPPFVDLNVNSNEGKQKKRGGGGGFGYQKTKKVEKSKIFKHISKKSSDSRQFSH', 'length': 670, 'molWeight': 75407, 'crc64': '2FE653A98751F9DC', 'md5': '7C9C9F346CD7BF5B9095607BD8B0FF21'}, 'extraAttributes': {'uniParcId': 'UPI000012907E'}}\n"
     ]
    },
    {
     "name": "stderr",
     "output_type": "stream",
     "text": [
      "Fetching sequences:   1%|▏         | 6/469 [00:02<03:20,  2.30it/s]"
     ]
    },
    {
     "name": "stdout",
     "output_type": "stream",
     "text": [
      "{'entryType': 'UniProtKB reviewed (Swiss-Prot)', 'primaryAccession': 'O76021', 'proteinDescription': {'recommendedName': {'fullName': {'value': 'Ribosomal L1 domain-containing protein 1'}}, 'alternativeNames': [{'fullName': {'value': 'CATX-11'}}, {'fullName': {'evidences': [{'evidenceCode': 'ECO:0000303', 'source': 'PubMed', 'id': '18678645'}], 'value': 'Cellular senescence-inhibited gene protein'}}, {'fullName': {'value': 'Protein PBK1'}}]}, 'genes': [{'geneName': {'value': 'RSL1D1'}, 'synonyms': [{'value': 'CATX11'}, {'evidences': [{'evidenceCode': 'ECO:0000303', 'source': 'PubMed', 'id': '18678645'}], 'value': 'CSIG'}, {'value': 'PBK1'}], 'orfNames': [{'value': 'L12'}]}], 'sequence': {'value': 'MEDSASASLSSAAATGTSTSTPAAPTARKQLDKEQVRKAVDALLTHCKSRKNNYGLLLNENESLFLMVVLWKIPSKELRVRLTLPHSIRSDSEDICLFTKDEPNSTPEKTEQFYRKLLNKHGIKTVSQIISLQTLKKEYKSYEAKLRLLSSFDFFLTDARIRRLLPSLIGRHFYQRKKVPVSVNLLSKNLSREINDCIGGTVLNISKSGSCSAIRIGHVGMQIEHIIENIVAVTKGLSEKLPEKWESVKLLFVKTEKSAALPIFSSFVSNWDEATKRSLLNKKKKEARRKRRERNFEKQKERKKKRQQARKTASVLSKDDVAPESGDTTVKKPESKKEQTPEHGKKKRGRGKAQVKATNESEDEIPQLVPIGKKTPANEKVEIQKHATGKKSPAKSPNPSTPRGKKRKALPASETPKAAESETPGKSPEKKPKIKEEAVKEKSPSLGKKDARQTPKKPEAKFFTTPSKSVRKASHTPKKWPKKPKVPQST', 'length': 490, 'molWeight': 54973, 'crc64': '5E5CDB8AA8BC3709', 'md5': '1B0581BDA1038759720F89D6E9E314B2'}, 'extraAttributes': {'uniParcId': 'UPI000007374D'}}\n"
     ]
    },
    {
     "name": "stderr",
     "output_type": "stream",
     "text": [
      "Fetching sequences:   1%|▏         | 7/469 [00:03<03:21,  2.30it/s]"
     ]
    },
    {
     "name": "stdout",
     "output_type": "stream",
     "text": [
      "{'entryType': 'UniProtKB reviewed (Swiss-Prot)', 'primaryAccession': 'Q9NQ55', 'proteinDescription': {'recommendedName': {'fullName': {'value': 'Suppressor of SWI4 1 homolog'}, 'shortNames': [{'value': 'Ssf-1'}]}, 'alternativeNames': [{'fullName': {'value': 'Brix domain-containing protein 3'}}, {'fullName': {'value': 'Peter Pan homolog'}}]}, 'genes': [{'geneName': {'value': 'PPAN'}, 'synonyms': [{'value': 'BXDC3'}, {'value': 'SSF1'}]}], 'sequence': {'value': 'MGQSGRSRHQKRARAQAQLRNLEAYAANPHSFVFTRGCTGRNIRQLSLDVRRVMEPLTASRLQVRKKNSLKDCVAVAGPLGVTHFLILSKTETNVYFKLMRLPGGPTLTFQVKKYSLVRDVVSSLRRHRMHEQQFAHPPLLVLNSFGPHGMHVKLMATMFQNLFPSINVHKVNLNTIKRCLLIDYNPDSQELDFRHYSIKVVPVGASRGMKKLLQEKFPNMSRLQDISELLATGAGLSESEAEPDGDHNITELPQAVAGRGNMRAQQSAVRLTEIGPRMTLQLIKVQEGVGEGKVMFHSFVSKTEEELQAILEAKEKKLRLKAQRQAQQAQNVQRKQEQREAHRKKSLEGMKKARVGGSDEEASGIPSRTASLELGEDDDEQEDDDIEYFCQAVGEAPSEDLFPEAKQKRLAKSPGRKRKRWEMDRGRGRLCDQKFPKTKDKSQGAQARRGPRGASRDGGRGRGRGRPGKRVA', 'length': 473, 'molWeight': 53194, 'crc64': '9FF7B7201BD37BEC', 'md5': '4B57BF8DD63773009470FF9074057DE9'}, 'extraAttributes': {'uniParcId': 'UPI0000135FBE'}}\n"
     ]
    },
    {
     "name": "stderr",
     "output_type": "stream",
     "text": [
      "Fetching sequences:   2%|▏         | 8/469 [00:04<05:50,  1.32it/s]"
     ]
    },
    {
     "name": "stdout",
     "output_type": "stream",
     "text": [
      "{'entryType': 'UniProtKB reviewed (Swiss-Prot)', 'primaryAccession': 'Q9NR30', 'proteinDescription': {'recommendedName': {'fullName': {'evidences': [{'evidenceCode': 'ECO:0000305'}], 'value': 'Nucleolar RNA helicase 2'}, 'ecNumbers': [{'evidences': [{'evidenceCode': 'ECO:0000269', 'source': 'PubMed', 'id': '28790157'}, {'evidenceCode': 'ECO:0000269', 'source': 'PubMed', 'id': '9461305'}], 'value': '3.6.4.13'}]}, 'alternativeNames': [{'fullName': {'value': 'DEAD box protein 21'}}, {'fullName': {'value': 'Gu-alpha'}}, {'fullName': {'value': 'Nucleolar RNA helicase Gu'}}, {'fullName': {'value': 'Nucleolar RNA helicase II'}}, {'fullName': {'value': 'RH II/Gu'}}]}, 'genes': [{'geneName': {'value': 'DDX21'}}], 'sequence': {'value': 'MPGKLRSDAGLESDTAMKKGETLRKQTEEKEKKEKPKSDKTEEIAEEEETVFPKAKQVKKKAEPSEVDMNSPKSKKAKKKEEPSQNDISPKTKSLRKKKEPIEKKVVSSKTKKVTKNEEPSEEEIDAPKPKKMKKEKEMNGETREKSPKLKNGFPHPEPDCNPSEAASEESNSEIEQEIPVEQKEGAFSNFPISEETIKLLKGRGVTFLFPIQAKTFHHVYSGKDLIAQARTGTGKTFSFAIPLIEKLHGELQDRKRGRAPQVLVLAPTRELANQVSKDFSDITKKLSVACFYGGTPYGGQFERMRNGIDILVGTPGRIKDHIQNGKLDLTKLKHVVLDEVDQMLDMGFADQVEEILSVAYKKDSEDNPQTLLFSATCPHWVFNVAKKYMKSTYEQVDLIGKKTQKTAITVEHLAIKCHWTQRAAVIGDVIRVYSGHQGRTIIFCETKKEAQELSQNSAIKQDAQSLHGDIPQKQREITLKGFRNGSFGVLVATNVAARGLDIPEVDLVIQSSPPKDVESYIHRSGRTGRAGRTGVCICFYQHKEEYQLVQVEQKAGIKFKRIGVPSATEIIKASSKDAIRLLDSVPPTAISHFKQSAEKLIEEKGAVEALAAALAHISGATSVDQRSLINSNVGFVTMILQCSIEMPNISYAWKELKEQLGEEIDSKVKGMVFLKGKLGVCFDVPTASVTEIQEKWHDSRRWQLSVATEQPELEGPREGYGGFRGQREGSRGFRGQRDGNRRFRGQREGSRGPRGQRSGGGNKSNRSQNKGQKRSFSKAFGQ', 'length': 783, 'molWeight': 87344, 'crc64': '4F6673E38686644F', 'md5': '06E02620DCF7D6FAFC9E6ABC07226169'}, 'extraAttributes': {'uniParcId': 'UPI00001A92E8'}}\n"
     ]
    },
    {
     "name": "stderr",
     "output_type": "stream",
     "text": [
      "Fetching sequences:   2%|▏         | 9/469 [00:04<05:02,  1.52it/s]"
     ]
    },
    {
     "name": "stdout",
     "output_type": "stream",
     "text": [
      "{'entryType': 'UniProtKB reviewed (Swiss-Prot)', 'primaryAccession': 'O00567', 'proteinDescription': {'recommendedName': {'fullName': {'value': 'Nucleolar protein 56'}}, 'alternativeNames': [{'fullName': {'value': 'Nucleolar protein 5A'}}]}, 'genes': [{'geneName': {'evidences': [{'evidenceCode': 'ECO:0000312', 'source': 'HGNC', 'id': 'HGNC:15911'}], 'value': 'NOP56'}, 'synonyms': [{'value': 'NOL5A'}]}], 'sequence': {'value': 'MVLLHVLFEHAVGYALLALKEVEEISLLQPQVEESVLNLGKFHSIVRLVAFCPFASSQVALENANAVSEGVVHEDLRLLLETHLPSKKKKVLLGVGDPKIGAAIQEELGYNCQTGGVIAEILRGVRLHFHNLVKGLTDLSACKAQLGLGHSYSRAKVKFNVNRVDNMIIQSISLLDQLDKDINTFSMRVREWYGYHFPELVKIINDNATYCRLAQFIGNRRELNEDKLEKLEELTMDGAKAKAILDASRSSMGMDISAIDLINIESFSSRVVSLSEYRQSLHTYLRSKMSQVAPSLSALIGEAVGARLIAHAGSLTNLAKYPASTVQILGAEKALFRALKTRGNTPKYGLIFHSTFIGRAAAKNKGRISRYLANKCSIASRIDCFSEVPTSVFGEKLREQVEERLSFYETGEIPRKNLDVMKEAMVQAEEAAAEITRKLEKQEKKRLKKEKKRLAALALASSENSSSTPEECEEMSEKPKKKKKQKPQEVPQENGMEDPSISFSKPKKKKSFSKEELMSSDLEETAGSTSIPKRKKSTPKEETVNDPEEAGHRSGSKKKRKFSKEEPVSSGPEEAVGKSSSKKKKKFHKASQED', 'length': 594, 'molWeight': 66050, 'crc64': '17D81E25DEBD052F', 'md5': 'FD99B4A9C35D665683D35935614E234C'}, 'extraAttributes': {'uniParcId': 'UPI000016A81D'}}\n"
     ]
    },
    {
     "name": "stderr",
     "output_type": "stream",
     "text": [
      "Fetching sequences:   2%|▏         | 10/469 [00:05<04:31,  1.69it/s]"
     ]
    },
    {
     "name": "stdout",
     "output_type": "stream",
     "text": [
      "{'entryType': 'UniProtKB reviewed (Swiss-Prot)', 'primaryAccession': 'Q9BYG3', 'proteinDescription': {'recommendedName': {'fullName': {'value': 'MKI67 FHA domain-interacting nucleolar phosphoprotein'}}, 'alternativeNames': [{'fullName': {'value': 'Nucleolar phosphoprotein Nopp34'}}, {'fullName': {'value': 'Nucleolar protein interacting with the FHA domain of pKI-67'}, 'shortNames': [{'value': 'hNIFK'}]}]}, 'genes': [{'geneName': {'value': 'NIFK'}, 'synonyms': [{'value': 'MKI67IP'}, {'value': 'NOPP34'}]}], 'sequence': {'value': 'MATFSGPAGPILSLNPQEDVEFQKEVAQVRKRITQRKKQEQLTPGVVYVRHLPNLLDETQIFSYFSQFGTVTRFRLSRSKRTGNSKGYAFVEFESEDVAKIVAETMNNYLFGERLLECHFMPPEKVHKELFKDWNIPFKQPSYPSVKRYNRNRTLTQKLRMEERFKKKERLLRKKLAKKGIDYDFPSLILQKTESISKTNRQTSTKGQVLRKKKKKVSGTLDTPEKTVDSQGPTPVCTPTFLERRKSQVAELNDDDKDDEIVFKQPISCVKEEIQETQTPTHSRKKRRRSSNQ', 'length': 293, 'molWeight': 34222, 'crc64': '9D288ECF2B4CE119', 'md5': '812F7F5D24ACD7735184C50A4DDEF15C'}, 'extraAttributes': {'uniParcId': 'UPI00000738EB'}}\n"
     ]
    },
    {
     "name": "stderr",
     "output_type": "stream",
     "text": [
      "Fetching sequences:   2%|▏         | 11/469 [00:05<04:10,  1.83it/s]"
     ]
    },
    {
     "name": "stdout",
     "output_type": "stream",
     "text": [
      "{'entryType': 'UniProtKB reviewed (Swiss-Prot)', 'primaryAccession': 'Q9Y5J1', 'proteinDescription': {'recommendedName': {'fullName': {'value': 'U3 small nucleolar RNA-associated protein 18 homolog'}}, 'alternativeNames': [{'fullName': {'value': 'WD repeat-containing protein 50'}}]}, 'genes': [{'geneName': {'evidences': [{'evidenceCode': 'ECO:0000312', 'source': 'HGNC', 'id': 'HGNC:24274'}], 'value': 'UTP18'}, 'synonyms': [{'value': 'WDR50'}], 'orfNames': [{'value': 'CDABP0061'}, {'value': 'CGI-48'}]}], 'sequence': {'value': 'MPPERRRRMKLDRRTGAKPKRKPGMRPDWKAGAGPGGPPQKPAPSSQRKPPARPSAAAAAIAVAAAEEERRLRQRNRLRLEEDKPAVERCLEELVFGDVENDEDALLRRLRGPRVQEHEDSGDSEVENEAKGNFPPQKKPVWVDEEDEDEEMVDMMNNRFRKDMMKNASESKLSKDNLKKRLKEEFQHAMGGVPAWAETTKRKTSSDDESEEDEDDLLQRTGNFISTSTSLPRGILKMKNCQHANAERPTVARISSVQFHPGAQIVMVAGLDNAVSLFQVDGKTNPKIQSIYLERFPIFKACFSANGEEVLATSTHSKVLYVYDMLAGKLIPVHQVRGLKEKIVRSFEVSPDGSFLLINGIAGYLHLLAMKTKELIGSMKINGRVAASTFSSDSKKVYASSGDGEVYVWDVNSRKCLNRFVDEGSLYGLSIATSRNGQYVACGSNCGVVNIYNQDSCLQETNPKPIKAIMNLVTGVTSLTFNPTTEILAIASEKMKEAVRLVHLPSCTVFSNFPVIKNKNISHVHTMDFSPRSGYFALGNEKGKALMYRLHHYSDF', 'length': 556, 'molWeight': 62004, 'crc64': '800139F974F4EDF6', 'md5': '870F633FBD7E2AF043DBDD1E24528641'}, 'extraAttributes': {'uniParcId': 'UPI000051E38C'}}\n"
     ]
    },
    {
     "name": "stderr",
     "output_type": "stream",
     "text": [
      "Fetching sequences:   3%|▎         | 12/469 [00:06<03:56,  1.93it/s]"
     ]
    },
    {
     "name": "stdout",
     "output_type": "stream",
     "text": [
      "{'entryType': 'UniProtKB reviewed (Swiss-Prot)', 'primaryAccession': 'Q9UKD2', 'proteinDescription': {'recommendedName': {'fullName': {'evidences': [{'evidenceCode': 'ECO:0000250', 'source': 'UniProtKB', 'id': 'P33201'}], 'value': 'mRNA turnover protein 4 homolog'}}, 'alternativeNames': [{'fullName': {'evidences': [{'evidenceCode': 'ECO:0000250', 'source': 'UniProtKB', 'id': 'P33201'}, {'evidenceCode': 'ECO:0000305'}], 'value': 'Ribosome assembly factor MRTO4'}}]}, 'genes': [{'geneName': {'value': 'MRTO4'}, 'synonyms': [{'value': 'C1orf33'}, {'value': 'MRT4'}]}], 'sequence': {'value': 'MPKSKRDKKVSLTKTAKKGLELKQNLIEELRKCVDTYKYLFIFSVANMRNSKLKDIRNAWKHSRMFFGKNKVMMVALGRSPSDEYKDNLHQVSKRLRGEVGLLFTNRTKEEVNEWFTKYTEMDYARAGNKAAFTVSLDPGPLEQFPHSMEPQLRQLGLPTALKRGVVTLLSDYEVCKEGDVLTPEQARVLKLFGYEMAEFKVTIKYMWDSQSGRFQQMGDDLPESASESTEESDSEDDD', 'length': 239, 'molWeight': 27560, 'crc64': 'F1BFF6E566FF942F', 'md5': 'BEFA582CC14528E18704B34B7DBA8EE7'}, 'extraAttributes': {'uniParcId': 'UPI00000467E9'}}\n"
     ]
    },
    {
     "name": "stderr",
     "output_type": "stream",
     "text": [
      "Fetching sequences:   3%|▎         | 13/469 [00:06<03:45,  2.03it/s]"
     ]
    },
    {
     "name": "stdout",
     "output_type": "stream",
     "text": [
      "{'entryType': 'UniProtKB reviewed (Swiss-Prot)', 'primaryAccession': 'Q13838', 'proteinDescription': {'recommendedName': {'fullName': {'evidences': [{'evidenceCode': 'ECO:0000305'}], 'value': 'Spliceosome RNA helicase DDX39B'}, 'ecNumbers': [{'evidences': [{'evidenceCode': 'ECO:0000269', 'source': 'PubMed', 'id': '17984224'}], 'value': '3.6.4.13'}]}, 'alternativeNames': [{'fullName': {'value': '56 kDa U2AF65-associated protein'}}, {'fullName': {'value': 'ATP-dependent RNA helicase p47'}}, {'fullName': {'value': 'DEAD box protein UAP56'}}, {'fullName': {'value': 'HLA-B-associated transcript 1 protein'}}]}, 'genes': [{'geneName': {'evidences': [{'evidenceCode': 'ECO:0000312', 'source': 'HGNC', 'id': 'HGNC:13917'}], 'value': 'DDX39B'}, 'synonyms': [{'value': 'BAT1'}, {'value': 'UAP56'}]}], 'sequence': {'value': 'MAENDVDNELLDYEDDEVETAAGGDGAEAPAKKDVKGSYVSIHSSGFRDFLLKPELLRAIVDCGFEHPSEVQHECIPQAILGMDVLCQAKSGMGKTAVFVLATLQQLEPVTGQVSVLVMCHTRELAFQISKEYERFSKYMPNVKVAVFFGGLSIKKDEEVLKKNCPHIVVGTPGRILALARNKSLNLKHIKHFILDECDKMLEQLDMRRDVQEIFRMTPHEKQVMMFSATLSKEIRPVCRKFMQDPMEIFVDDETKLTLHGLQQYYVKLKDNEKNRKLFDLLDVLEFNQVVIFVKSVQRCIALAQLLVEQNFPAIAIHRGMPQEERLSRYQQFKDFQRRILVATNLFGRGMDIERVNIAFNYDMPEDSDTYLHRVARAGRFGTKGLAITFVSDENDAKILNDVQDRFEVNISELPDEIDISSYIEQTR', 'length': 428, 'molWeight': 48991, 'crc64': '7A55167BF576FB6F', 'md5': 'EB103FBABF2E79F354FCCAAC14D4FBC9'}, 'extraAttributes': {'uniParcId': 'UPI0000001D0B'}}\n"
     ]
    },
    {
     "name": "stderr",
     "output_type": "stream",
     "text": [
      "Fetching sequences:   3%|▎         | 14/469 [00:07<03:37,  2.09it/s]"
     ]
    },
    {
     "name": "stdout",
     "output_type": "stream",
     "text": [
      "{'entryType': 'UniProtKB reviewed (Swiss-Prot)', 'primaryAccession': 'Q9BQG0', 'proteinDescription': {'recommendedName': {'fullName': {'value': 'Myb-binding protein 1A'}}}, 'genes': [{'geneName': {'value': 'MYBBP1A'}, 'synonyms': [{'value': 'P160'}]}], 'sequence': {'value': 'MESRDPAQPMSPGEATQSGARPADRYGLLKHSREFLDFFWDIAKPEQETRLAATEKLLEYLRGRPKGSEMKYALKRLITGLGVGRETARPCYSLALAQLLQSFEDLPLCSILQQIQEKYDLHQVKKAMLRPALFANLFGVLALFQSGRLVKDQEALMKSVKLLQALAQYQNHLQEQPRKALVDILSEVSKATLQEILPEVLKADLNIILSSPEQLELFLLAQQKVPSKLKKLVGSVNLFSDENVPRLVNVLKMAASSVKKDRKLPAIALDLLRLALKEDKFPRFWKEVVEQGLLKMQFWPASYLCFRLLGAALPLLTKEQLHLVMQGDVIRHYGEHVCTAKLPKQFKFAPEMDDYVGTFLEGCQDDPERQLAVLVAFSSVTNQGLPVTPTFWRVVRFLSPPALQGYVAWLRAMFLQPDLDSLVDFSTNNQKKAQDSSLHMPERAVFRLRKWIIFRLVSIVDSLHLEMEEALTEQVARFCLFHSFFVTKKPTSQIPETKHPFSFPLENQAREAVSSAFFSLLQTLSTQFKQAPGQTQGGQPWTYHLVQFADLLLNHSHNVTTVTPFTAQQRQAWDRMLQTLKELEAHSAEARAAAFQHLLLLVGIHLLKSPAESCDLLGDIQTCIRKSLGEKPRRSRTKTIDPQEPPWVEVLVEILLALLAQPSHLMRQVARSVFGHICSHLTPRALQLILDVLNPETSEDENDRVVVTDDSDERRLKGAEDKSEEGEDNRSSESEEESEGEESEEEERDGDVDQGFREQLMTVLQAGKALGGEDSENEEELGDEAMMALDQSLASLFAEQKLRIQARRDEKNKLQKEKALRRDFQIRVLDLVEVLVTKQPENALVLELLEPLLSIIRRSLRSSSSKQEQDLLHKTARIFTHHLCRARRYCHDLGERAGALHAQVERLVQQAGRQPDSPTALYHFNASLYLLRVLKGNTAEGCVHETQEKQKAGTDPSHMPTGPQAASCLDLNLVTRVYSTALSSFLTKRNSPLTVPMFLSLFSRHPVLCQSLLPILVQHITGPVRPRHQACLLLQKTLSMREVRSCFEDPEWKQLMGQVLAKVTENLRVLGEAQTKAQHQQALSSLELLNVLFRTCKHEKLTLDLTVLLGVLQGQQQSLQQGAHSTGSSRLHDLYWQAMKTLGVQRPKLEKKDAKEIPSATQSPISKKRKKKGFLPETKKRKKRKSEDGTPAEDGTPAATGGSQPPSMGRKKRNRTKAKVPAQANGTPTTKSPAPGAPTRSPSTPAKSPKLQKKNQKPSQVNGAPGSPTEPAGQKQHQKALPKKGVLGKSPLSALARKKARLSLVIRSPSLLQSGAKKKAQVRKAGKP', 'length': 1328, 'molWeight': 148855, 'crc64': '0B053465D5B3511F', 'md5': 'A7EA418E66B036785805F61B520203DC'}, 'extraAttributes': {'uniParcId': 'UPI000013CE54'}}\n"
     ]
    },
    {
     "name": "stderr",
     "output_type": "stream",
     "text": [
      "Fetching sequences:   3%|▎         | 15/469 [00:07<03:32,  2.14it/s]"
     ]
    },
    {
     "name": "stdout",
     "output_type": "stream",
     "text": [
      "{'entryType': 'UniProtKB reviewed (Swiss-Prot)', 'primaryAccession': 'Q15050', 'proteinDescription': {'recommendedName': {'fullName': {'value': 'Ribosome biogenesis regulatory protein homolog'}}}, 'genes': [{'geneName': {'value': 'RRS1'}, 'synonyms': [{'value': 'KIAA0112'}, {'value': 'RRR'}]}], 'sequence': {'value': 'MEGQSVEELLAKAEQDEAEKLQRITVHKELELQFDLGNLLASDRNPPTGLRCAGPTPEAELQALARDNTQLLINQLWQLPTERVEEAIVARLPEPTTRLPREKPLPRPRPLTRWQQFARLKGIRPKKKTNLVWDEVSGQWRRRWGYQRARDDTKEWLIEVPGNADPLEDQFAKRIQAKKERVAKNELNRLRNLARAHKMQLPSAAGLHPTGHQSKEELGRAMQVAKVSTASVGRFQERLPKEKVPRGSGKKRKFQPLFGDFAAEKKNQLELLRVMNSKKPQLDVTRATNKQMREEDQEEAAKRRKMSQKGKRKGGRQGPGGKRKGGPPSQGGKRKGGLGGKMNSGPPGLGGKRKGGQRPGGKRRK', 'length': 365, 'molWeight': 41193, 'crc64': '061C3A6174C2E7C2', 'md5': 'C6DEFB963A5E1AC8E2982E92B905259B'}, 'extraAttributes': {'uniParcId': 'UPI0000134B8A'}}\n"
     ]
    },
    {
     "name": "stderr",
     "output_type": "stream",
     "text": [
      "Fetching sequences:   3%|▎         | 16/469 [00:08<03:28,  2.17it/s]"
     ]
    },
    {
     "name": "stdout",
     "output_type": "stream",
     "text": [
      "{'entryType': 'UniProtKB reviewed (Swiss-Prot)', 'primaryAccession': 'P22087', 'proteinDescription': {'recommendedName': {'fullName': {'value': \"rRNA 2'-O-methyltransferase fibrillarin\"}, 'ecNumbers': [{'evidences': [{'evidenceCode': 'ECO:0000269', 'source': 'PubMed', 'id': '24352239'}, {'evidenceCode': 'ECO:0000305', 'source': 'PubMed', 'id': '32017898'}], 'value': '2.1.1.-'}]}, 'alternativeNames': [{'fullName': {'value': '34 kDa nucleolar scleroderma antigen'}}, {'fullName': {'value': 'Histone-glutamine methyltransferase'}}, {'fullName': {'evidences': [{'evidenceCode': 'ECO:0000305'}], 'value': \"U6 snRNA 2'-O-methyltransferase fibrillarin\"}}]}, 'genes': [{'geneName': {'evidences': [{'evidenceCode': 'ECO:0000312', 'source': 'HGNC', 'id': 'HGNC:3599'}], 'value': 'FBL'}, 'synonyms': [{'value': 'FIB1'}, {'value': 'FLRN'}]}], 'sequence': {'value': 'MKPGFSPRGGGFGGRGGFGDRGGRGGRGGFGGGRGRGGGFRGRGRGGGGGGGGGGGGGRGGGGFHSGGNRGRGRGGKRGNQSGKNVMVEPHRHEGVFICRGKEDALVTKNLVPGESVYGEKRVSISEGDDKIEYRAWNPFRSKLAAAILGGVDQIHIKPGAKVLYLGAASGTTVSHVSDIVGPDGLVYAVEFSHRSGRDLINLAKKRTNIIPVIEDARHPHKYRMLIAMVDVIFADVAQPDQTRIVALNAHTFLRNGGHFVISIKANCIDSTASAEAVFASEVKKMQQENMKPQEQLTLEPYERDHAVVVGVYRPPPKVKN', 'length': 321, 'molWeight': 33784, 'crc64': '2123F41E01EC557A', 'md5': '830456F99AF28367D5174745784532FD'}, 'extraAttributes': {'uniParcId': 'UPI000012A578'}}\n"
     ]
    },
    {
     "name": "stderr",
     "output_type": "stream",
     "text": [
      "Fetching sequences:   4%|▎         | 17/469 [00:08<03:25,  2.20it/s]"
     ]
    },
    {
     "name": "stdout",
     "output_type": "stream",
     "text": [
      "{'entryType': 'UniProtKB reviewed (Swiss-Prot)', 'primaryAccession': 'Q9UKM9', 'proteinDescription': {'recommendedName': {'fullName': {'value': 'RNA-binding protein Raly'}}, 'alternativeNames': [{'fullName': {'value': 'Autoantigen p542'}}, {'fullName': {'value': 'Heterogeneous nuclear ribonucleoprotein C-like 2'}, 'shortNames': [{'value': 'hnRNP core protein C-like 2'}]}, {'fullName': {'value': 'hnRNP associated with lethal yellow protein homolog'}}]}, 'genes': [{'geneName': {'value': 'RALY'}, 'synonyms': [{'value': 'HNRPCL2'}, {'value': 'P542'}]}], 'sequence': {'value': 'MSLKLQASNVTNKNDPKSINSRVFIGNLNTALVKKSDVETIFSKYGRVAGCSVHKGYAFVQYSNERHARAAVLGENGRVLAGQTLDINMAGEPKPDRPKGLKRAASAIYSGYIFDYDYYRDDFYDRLFDYRGRLSPVPVPRAVPVKRPRVTVPLVRRVKTNVPVKLFARSTAVTTSSAKIKLKSSELQAIKTELTQIKSNIDALLSRLEQIAAEQKANPDGKKKGDGGGAGGGGGGGGSGGGGSGGGGGGGSSRPPAPQENTTSEAGLPQGEARTRDDGDEEGLLTHSEEELEHSQDTDADDGALQ', 'length': 306, 'molWeight': 32463, 'crc64': '7F4376D3BD8E4728', 'md5': '1C4E644C2B826E84E1B423863C4146ED'}, 'extraAttributes': {'uniParcId': 'UPI00000467E6'}}\n"
     ]
    },
    {
     "name": "stderr",
     "output_type": "stream",
     "text": [
      "Fetching sequences:   4%|▍         | 18/469 [00:08<03:25,  2.19it/s]"
     ]
    },
    {
     "name": "stdout",
     "output_type": "stream",
     "text": [
      "{'entryType': 'UniProtKB reviewed (Swiss-Prot)', 'primaryAccession': 'Q9H7B2', 'proteinDescription': {'recommendedName': {'fullName': {'value': 'Ribosome production factor 2 homolog'}}, 'alternativeNames': [{'fullName': {'value': 'Brix domain-containing protein 1'}}, {'fullName': {'value': 'Ribosome biogenesis protein RPF2 homolog'}}]}, 'genes': [{'geneName': {'value': 'RPF2'}, 'synonyms': [{'value': 'BXDC1'}]}], 'sequence': {'value': 'MDTLDRVVKPKTKRAKRFLEKREPKLNENIKNAMLIKGGNANATVTKVLKDVYALKKPYGVLYKKKNITRPFEDQTSLEFFSKKSDCSLFMFGSHNKKRPNNLVIGRMYDYHVLDMIELGIENFVSLKDIKNSKCPEGTKPMLIFAGDDFDVTEDYRRLKSLLIDFFRGPTVSNIRLAGLEYVLHFTALNGKIYFRSYKLLLKKSGCRTPRIELEEMGPSLDLVLRRTHLASDDLYKLSMKMPKALKPKKKKNISHDTFGTTYGRIHMQKQDLSKLQTRKMKGLKKRPAERITEDHEKKSKRIKKN', 'length': 306, 'molWeight': 35583, 'crc64': '377F53E1371A0BB1', 'md5': '2BDA5DECB720EC50D192BEB1BF8B3F9A'}, 'extraAttributes': {'uniParcId': 'UPI000006E56D'}}\n"
     ]
    },
    {
     "name": "stderr",
     "output_type": "stream",
     "text": [
      "Fetching sequences:   4%|▍         | 19/469 [00:09<03:22,  2.23it/s]"
     ]
    },
    {
     "name": "stdout",
     "output_type": "stream",
     "text": [
      "{'entryType': 'UniProtKB reviewed (Swiss-Prot)', 'primaryAccession': 'P38159', 'proteinDescription': {'recommendedName': {'fullName': {'value': 'RNA-binding motif protein, X chromosome'}}, 'alternativeNames': [{'fullName': {'value': 'Glycoprotein p43'}}, {'fullName': {'value': 'Heterogeneous nuclear ribonucleoprotein G'}, 'shortNames': [{'value': 'hnRNP G'}]}], 'contains': [{'recommendedName': {'fullName': {'value': 'RNA-binding motif protein, X chromosome, N-terminally processed'}}}]}, 'genes': [{'geneName': {'value': 'RBMX'}, 'synonyms': [{'value': 'HNRPG'}, {'value': 'RBMXP1'}]}], 'sequence': {'value': 'MVEADRPGKLFIGGLNTETNEKALEAVFGKYGRIVEVLLMKDRETNKSRGFAFVTFESPADAKDAARDMNGKSLDGKAIKVEQATKPSFESGRRGPPPPPRSRGPPRGLRGGRGGSGGTRGPPSRGGHMDDGGYSMNFNMSSSRGPLPVKRGPPPRSGGPPPKRSAPSGPVRSSSGMGGRAPVSRGRDSYGGPPRREPLPSRRDVYLSPRDDGYSTKDSYSSRDYPSSRDTRDYAPPPRDYTYRDYGHSSSRDDYPSRGYSDRDGYGRDRDYSDHPSGGSYRDSYESYGNSRSAPPTRGPPPSYGGSSRYDDYSSSRDGYGGSRDSYSSSRSDLYSSGRDRVGRQERGLPPSMERGYPPPRDSYSSSSRGAPRGGGRGGSRSDRGGGRSRY', 'length': 391, 'molWeight': 42332, 'crc64': '904FEB9BFC573546', 'md5': '482F027BE87AC3709B8080BFA73AAA57'}, 'extraAttributes': {'uniParcId': 'UPI0000134535'}}\n"
     ]
    },
    {
     "name": "stderr",
     "output_type": "stream",
     "text": [
      "Fetching sequences:   4%|▍         | 20/469 [00:09<03:19,  2.25it/s]"
     ]
    },
    {
     "name": "stdout",
     "output_type": "stream",
     "text": [
      "{'entryType': 'UniProtKB reviewed (Swiss-Prot)', 'primaryAccession': 'O43390', 'proteinDescription': {'recommendedName': {'fullName': {'value': 'Heterogeneous nuclear ribonucleoprotein R'}, 'shortNames': [{'value': 'hnRNP R'}]}}, 'genes': [{'geneName': {'value': 'HNRNPR'}, 'synonyms': [{'value': 'HNRPR'}]}], 'sequence': {'value': 'MANQVNGNAVQLKEEEEPMDTSSVTHTEHYKTLIEAGLPQKVAERLDEIFQTGLVAYVDLDERAIDALREFNEEGALSVLQQFKESDLSHVQNKSAFLCGVMKTYRQREKQGSKVQESTKGPDEAKIKALLERTGYTLDVTTGQRKYGGPPPDSVYSGVQPGIGTEVFVGKIPRDLYEDELVPLFEKAGPIWDLRLMMDPLSGQNRGYAFITFCGKEAAQEAVKLCDSYEIRPGKHLGVCISVANNRLFVGSIPKNKTKENILEEFSKVTEGLVDVILYHQPDDKKKNRGFCFLEYEDHKSAAQARRRLMSGKVKVWGNVVTVEWADPVEEPDPEVMAKVKVLFVRNLATTVTEEILEKSFSEFGKLERVKKLKDYAFVHFEDRGAAVKAMDEMNGKEIEGEEIEIVLAKPPDKKRKERQAARQASRSTAYEDYYYHPPPRMPPPIRGRGRGGGRGGYGYPPDYYGYEDYYDDYYGYDYHDYRGGYEDPYYGYDDGYAVRGRGGGRGGRGAPPPPRGRGAPPPRGRAGYSQRGAPLGPPRGSRGGRGGPAQQQRGRGSRGSRGNRGGNVGGKRKADGYNQPDSKRRQTNNQQNWGSQPIAQQPLQQGGDYSGNYGYNNDNQEFYQDTYGQQWK', 'length': 633, 'molWeight': 70943, 'crc64': '088341F6465ED46F', 'md5': '05974FBC22A2F163CAC4CE587B590B19'}, 'extraAttributes': {'uniParcId': 'UPI000013454C'}}\n"
     ]
    },
    {
     "name": "stderr",
     "output_type": "stream",
     "text": [
      "Fetching sequences:   4%|▍         | 21/469 [00:10<03:18,  2.26it/s]"
     ]
    },
    {
     "name": "stdout",
     "output_type": "stream",
     "text": [
      "{'entryType': 'UniProtKB reviewed (Swiss-Prot)', 'primaryAccession': 'Q5T3I0', 'proteinDescription': {'recommendedName': {'fullName': {'value': 'G patch domain-containing protein 4'}}}, 'genes': [{'geneName': {'value': 'GPATCH4'}, 'synonyms': [{'value': 'GPATC4'}]}], 'sequence': {'value': 'MNVTPEVKSRGMKFAEEQLLKHGWTQGKGLGRKENGITQALRVTLKQDTHGVGHDPAKEFTNHWWNELFNKTAANLVVETGQDGVQIRSLSKETTRYNHPKPNLLYQKFVKMATLTSGGEKPNKDLESCSDDDNQGSKSPKILTDEMLLQACEGRTAHKAARLGITMKAKLARLEAQEQAFLARLKGQDPGAPQLQSESKPPKKKKKKRRQKEEEEATASERNDADEKHPEHAEQNIRKSKKKKRRHQEGKVSDEREGTTKGNEKEDAAGTSGLGELNSREQTNQSLRKGKKKKRWHHEEEKMGVLEEGGKGKEAAGSVRTEEVESRAYADPCSRRKKRQQQEEEDLNLEDRGEETVLGGGTREAESRACSDGRSRKSKKKRQQHQEEEDILDVRDEKDGGAREAESRAHTGSSSRGKRKRQQHPKKERAGVSTVQKAKKKQKKRD', 'length': 446, 'molWeight': 50381, 'crc64': '51D64BF5B4AEB3C6', 'md5': '98F0274EC08637AA329A805F6BE4354F'}, 'extraAttributes': {'uniParcId': 'UPI00001CE01F'}}\n"
     ]
    },
    {
     "name": "stderr",
     "output_type": "stream",
     "text": [
      "Fetching sequences:   5%|▍         | 22/469 [00:10<03:17,  2.26it/s]"
     ]
    },
    {
     "name": "stdout",
     "output_type": "stream",
     "text": [
      "{'entryType': 'UniProtKB reviewed (Swiss-Prot)', 'primaryAccession': 'Q9BXY0', 'proteinDescription': {'recommendedName': {'fullName': {'value': 'Protein MAK16 homolog'}}, 'alternativeNames': [{'fullName': {'value': 'NNP78'}}, {'fullName': {'value': 'Protein RBM13'}}]}, 'genes': [{'geneName': {'value': 'MAK16'}, 'synonyms': [{'value': 'RBM13'}]}], 'sequence': {'value': 'MQSDDVIWDTLGNKQFCSFKIRTKTQSFCRNEYSLTGLCNRSSCPLANSQYATIKEEKGQCYLYMKVIERAAFPRRLWERVRLSKNYEKALEQIDENLIYWPRFIRHKCKQRFTKITQYLIRIRKLTLKRQRKLVPLSKKVERREKRREEKALIAAQLDNAIEKELLERLKQDTYGDIYNFPIHAFDKALEQQEAESDSSDTEEKDDDDDDEEDVGKREFVEDGEVDESDISDFEDMDKLDASSDEDQDGKSSSEEEEEKALSAKHKGKMPLRGPLQRKRAYVEIEYEQETEPVAKAKTT', 'length': 300, 'molWeight': 35369, 'crc64': '2A757589C4749760', 'md5': '5678FBFD39FEA03FB73A28E8FE923298'}, 'extraAttributes': {'uniParcId': 'UPI000019080B'}}\n"
     ]
    },
    {
     "name": "stderr",
     "output_type": "stream",
     "text": [
      "Fetching sequences:   5%|▍         | 23/469 [00:11<03:16,  2.27it/s]"
     ]
    },
    {
     "name": "stdout",
     "output_type": "stream",
     "text": [
      "{'entryType': 'UniProtKB reviewed (Swiss-Prot)', 'primaryAccession': 'Q9Y3B9', 'proteinDescription': {'recommendedName': {'fullName': {'value': 'RRP15-like protein'}}, 'alternativeNames': [{'fullName': {'value': 'Ribosomal RNA-processing protein 15'}}]}, 'genes': [{'geneName': {'value': 'RRP15'}, 'synonyms': [{'value': 'KIAA0507'}], 'orfNames': [{'value': 'CGI-115'}]}], 'sequence': {'value': 'MAAAAPDSRVSEEENLKKTPKKKMKMVTGAVASVLEDEATDTSDSEGSCGSEKDHFYSDDDAIEADSEGDAEPCDKENENDGESSVGTNMGWADAMAKVLNKKTPESKPTILVKNKKLEKEKEKLKQERLEKIKQRDKRLEWEMMCRVKPDVVQDKETERNLQRIATRGVVQLFNAVQKHQKNVDEKVKEAGSSMRKRAKLISTVSKKDFISVLRGMDGSTNETASSRKKPKAKQTEVKSEEGPGWTILRDDFMMGASMKDWDKESDGPDDSRPESASDSDT', 'length': 282, 'molWeight': 31484, 'crc64': '3FB1E3D861FB938F', 'md5': '2D5991760BE2F7826B109D200DC9CF3C'}, 'extraAttributes': {'uniParcId': 'UPI0000205BC1'}}\n"
     ]
    },
    {
     "name": "stderr",
     "output_type": "stream",
     "text": [
      "Fetching sequences:   5%|▌         | 24/469 [00:11<04:04,  1.82it/s]"
     ]
    },
    {
     "name": "stdout",
     "output_type": "stream",
     "text": [
      "{'entryType': 'UniProtKB reviewed (Swiss-Prot)', 'primaryAccession': 'Q8IY81', 'proteinDescription': {'recommendedName': {'fullName': {'evidences': [{'evidenceCode': 'ECO:0000255', 'source': 'HAMAP-Rule', 'id': 'MF_03163'}], 'value': \"pre-rRNA 2'-O-ribose RNA methyltransferase FTSJ3\"}, 'ecNumbers': [{'evidences': [{'evidenceCode': 'ECO:0000255', 'source': 'HAMAP-Rule', 'id': 'MF_03163'}, {'evidenceCode': 'ECO:0000269', 'source': 'PubMed', 'id': '30626973'}], 'value': '2.1.1.-'}]}, 'alternativeNames': [{'fullName': {'evidences': [{'evidenceCode': 'ECO:0000255', 'source': 'HAMAP-Rule', 'id': 'MF_03163'}], 'value': 'Protein ftsJ homolog 3'}}, {'fullName': {'evidences': [{'evidenceCode': 'ECO:0000255', 'source': 'HAMAP-Rule', 'id': 'MF_03163'}], 'value': 'Putative rRNA methyltransferase 3'}}]}, 'genes': [{'geneName': {'evidences': [{'evidenceCode': 'ECO:0000255', 'source': 'HAMAP-Rule', 'id': 'MF_03163'}], 'value': 'FTSJ3'}, 'orfNames': [{'value': 'SB92'}]}], 'sequence': {'value': 'MGKKGKVGKSRRDKFYHLAKETGYRSRSAFKLIQLNRRFQFLQKARALLDLCAAPGGWLQVAAKFMPVSSLIVGVDLVPIKPLPNVVTLQQDITTERCRQALRKELKTWKVDVVLNDGAPNVGASWVHDAYSQAHLTLMALRLACDFLARGGSFITKVFRSRDYQPLLWIFQQLFRRVQATKPQASRHESAEIFVVCQGFLAPDKVDSKFFDPKFAFKEVEVQAKTVTELVTKKKPKAEGYAEGDLTLYHRTSVTDFLRAANPVDFLSKASEIMVDDEELAQHPATTEDIRVCCQDIRVLGRKELRSLLNWRTKLRRYVAKKLKEQAKALDISLSSGEEDEGDEEDSTAGTTKQPSKEEEEEEEEEQLNQTLAEMKAQEVAELKRKKKKLLREQRKQRERVELKMDLPGVSIADEGETGMFSLSTIRGHQLLEEVTQGDMSAADTFLSDLPRDDIYVSDVEDDGDDTSLDSDLDPEELAGVRGHQGLRDQKRMRLTEVQDDKEEEEEENPLLVPLEEKAVLQEEQANLWFSKGSFAGIEDDADEALEISQAQLLFENRRKGRQQQQKQQLPQTPPSCLKTEIMSPLYQDEAPKGTEASSGTEAATGLEGEEKDGISDSDSSTSSEEEESWEPLRGKKRSRGPKSDDDGFEIVPIEDPAKHRILDPEGLALGAVIASSKKAKRDLIDNSFNRYTFNEDEGELPEWFVQEEKQHRIRQLPVGKKEVEHYRKRWREINARPIKKVAEAKARKKRRMLKRLEQTRKKAEAVVNTVDISEREKVAQLRSLYKKAGLGKEKRHVTYVVAKKGVGRKVRRPAGVRGHFKVVDSRMKKDQRAQQRKEQKKKHKRK', 'length': 847, 'molWeight': 96558, 'crc64': '06B2F4D28A48026F', 'md5': 'BCD65D7CBA29BEDB57A79A50C1BC0764'}, 'extraAttributes': {'uniParcId': 'UPI000013C87B'}}\n"
     ]
    },
    {
     "name": "stderr",
     "output_type": "stream",
     "text": [
      "Fetching sequences:   5%|▌         | 25/469 [00:12<03:49,  1.94it/s]"
     ]
    },
    {
     "name": "stdout",
     "output_type": "stream",
     "text": [
      "{'entryType': 'UniProtKB reviewed (Swiss-Prot)', 'primaryAccession': 'P38919', 'proteinDescription': {'recommendedName': {'fullName': {'value': 'Eukaryotic initiation factor 4A-III'}, 'shortNames': [{'value': 'eIF-4A-III'}, {'value': 'eIF4A-III'}], 'ecNumbers': [{'evidences': [{'evidenceCode': 'ECO:0000269', 'source': 'PubMed', 'id': '16170325'}, {'evidenceCode': 'ECO:0000269', 'source': 'PubMed', 'id': '17375189'}, {'evidenceCode': 'ECO:0000269', 'source': 'PubMed', 'id': '22961380'}], 'value': '3.6.4.13'}]}, 'alternativeNames': [{'fullName': {'value': 'ATP-dependent RNA helicase DDX48'}}, {'fullName': {'value': 'ATP-dependent RNA helicase eIF4A-3'}}, {'fullName': {'value': 'DEAD box protein 48'}}, {'fullName': {'value': 'Eukaryotic initiation factor 4A-like NUK-34'}}, {'fullName': {'value': 'Eukaryotic translation initiation factor 4A isoform 3'}}, {'fullName': {'value': 'Nuclear matrix protein 265'}, 'shortNames': [{'value': 'NMP 265'}, {'value': 'hNMP 265'}]}], 'contains': [{'recommendedName': {'fullName': {'value': 'Eukaryotic initiation factor 4A-III, N-terminally processed'}}}]}, 'genes': [{'geneName': {'value': 'EIF4A3'}, 'synonyms': [{'value': 'DDX48'}, {'value': 'KIAA0111'}]}], 'sequence': {'value': 'MATTATMATSGSARKRLLKEEDMTKVEFETSEEVDVTPTFDTMGLREDLLRGIYAYGFEKPSAIQQRAIKQIIKGRDVIAQSQSGTGKTATFSISVLQCLDIQVRETQALILAPTRELAVQIQKGLLALGDYMNVQCHACIGGTNVGEDIRKLDYGQHVVAGTPGRVFDMIRRRSLRTRAIKMLVLDEADEMLNKGFKEQIYDVYRYLPPATQVVLISATLPHEILEMTNKFMTDPIRILVKRDELTLEGIKQFFVAVEREEWKFDTLCDLYDTLTITQAVIFCNTKRKVDWLTEKMREANFTVSSMHGDMPQKERESIMKEFRSGASRVLISTDVWARGLDVPQVSLIINYDLPNNRELYIHRIGRSGRYGRKGVAINFVKNDDIRILRDIEQYYSTQIDEMPMNVADLI', 'length': 411, 'molWeight': 46871, 'crc64': '3A21888CA96CA5EA', 'md5': '6EF77A64AA95CC9DB9B75C2AFA459C3E'}, 'extraAttributes': {'uniParcId': 'UPI000012D374'}}\n"
     ]
    },
    {
     "name": "stderr",
     "output_type": "stream",
     "text": [
      "Fetching sequences:   6%|▌         | 26/469 [00:12<03:38,  2.03it/s]"
     ]
    },
    {
     "name": "stdout",
     "output_type": "stream",
     "text": [
      "{'entryType': 'UniProtKB reviewed (Swiss-Prot)', 'primaryAccession': 'Q08211', 'proteinDescription': {'recommendedName': {'fullName': {'evidences': [{'evidenceCode': 'ECO:0000305'}], 'value': 'ATP-dependent RNA helicase A'}, 'ecNumbers': [{'evidences': [{'evidenceCode': 'ECO:0000269', 'source': 'PubMed', 'id': '11416126'}, {'evidenceCode': 'ECO:0000269', 'source': 'PubMed', 'id': '1537828'}, {'evidenceCode': 'ECO:0000269', 'source': 'PubMed', 'id': '20510246'}, {'evidenceCode': 'ECO:0000269', 'source': 'PubMed', 'id': '20669935'}, {'evidenceCode': 'ECO:0000269', 'source': 'PubMed', 'id': '24049074'}, {'evidenceCode': 'ECO:0000269', 'source': 'PubMed', 'id': '25062910'}, {'evidenceCode': 'ECO:0000269', 'source': 'PubMed', 'id': '8690889'}], 'value': '3.6.4.13'}]}, 'alternativeNames': [{'fullName': {'value': 'DEAH box protein 9'}}, {'fullName': {'evidences': [{'evidenceCode': 'ECO:0000312', 'source': 'HGNC', 'id': 'HGNC:2750'}], 'value': 'DExH-box helicase 9'}}, {'fullName': {'evidences': [{'evidenceCode': 'ECO:0000303', 'source': 'PubMed', 'id': '8690889'}], 'value': 'Leukophysin'}, 'shortNames': [{'evidences': [{'evidenceCode': 'ECO:0000303', 'source': 'PubMed', 'id': '8690889'}], 'value': 'LKP'}]}, {'fullName': {'evidences': [{'evidenceCode': 'ECO:0000303', 'source': 'PubMed', 'id': '1537828'}, {'evidenceCode': 'ECO:0000303', 'source': 'PubMed', 'id': '8344961'}, {'evidenceCode': 'ECO:0000303', 'source': 'PubMed', 'id': '9111062'}], 'value': 'Nuclear DNA helicase II'}, 'shortNames': [{'evidences': [{'evidenceCode': 'ECO:0000303', 'source': 'PubMed', 'id': '8344961'}, {'evidenceCode': 'ECO:0000303', 'source': 'PubMed', 'id': '9111062'}], 'value': 'NDH II'}]}, {'fullName': {'evidences': [{'evidenceCode': 'ECO:0000303', 'source': 'PubMed', 'id': '9111062'}], 'value': 'RNA helicase A'}}]}, 'genes': [{'geneName': {'evidences': [{'evidenceCode': 'ECO:0000312', 'source': 'HGNC', 'id': 'HGNC:2750'}], 'value': 'DHX9'}, 'synonyms': [{'evidences': [{'evidenceCode': 'ECO:0000312', 'source': 'HGNC', 'id': 'HGNC:2750'}], 'value': 'DDX9'}, {'value': 'LKP'}, {'value': 'NDH2'}]}], 'sequence': {'value': 'MGDVKNFLYAWCGKRKMTPSYEIRAVGNKNRQKFMCEVQVEGYNYTGMGNSTNKKDAQSNAARDFVNYLVRINEIKSEEVPAFGVASPPPLTDTPDTTANAEGDLPTTMGGPLPPHLALKAENNSEVGASGYGVPGPTWDRGANLKDYYSRKEEQEVQATLESEEVDLNAGLHGNWTLENAKARLNQYFQKEKIQGEYKYTQVGPDHNRSFIAEMTIYIKQLGRRIFAREHGSNKKLAAQSCALSLVRQLYHLGVVEAYSGLTKKKEGETVEPYKVNLSQDLEHQLQNIIQELNLEILPPPEDPSVPVALNIGKLAQFEPSQRQNQVGVVPWSPPQSNWNPWTSSNIDEGPLAFATPEQISMDLKNELMYQLEQDHDLQAILQERELLPVKKFESEILEAISQNSVVIIRGATGCGKTTQVPQFILDDFIQNDRAAECNIVVTQPRRISAVSVAERVAFERGEEPGKSCGYSVRFESILPRPHASIMFCTVGVLLRKLEAGIRGISHVIVDEIHERDINTDFLLVVLRDVVQAYPEVRIVLMSATIDTSMFCEYFFNCPIIEVYGRTYPVQEYFLEDCIQMTHFVPPPKDKKKKDKDDDGGEDDDANCNLICGDEYGPETRLSMSQLNEKETPFELIEALLKYIETLNVPGAVLVFLPGWNLIYTMQKHLEMNPHFGSHRYQILPLHSQIPREEQRKVFDPVPVGVTKVILSTNIAETSITINDVVYVIDSCKQKVKLFTAHNNMTNYATVWASKTNLEQRKGRAGRVRPGFCFHLCSRARFERLETHMTPEMFRTPLHEIALSIKLLRLGGIGQFLAKAIEPPPLDAVIEAEHTLRELDALDANDELTPLGRILAKLPIEPRFGKMMIMGCIFYVGDAICTIAAATCFPEPFINEGKRLGYIHRNFAGNRFSDHVALLSVFQAWDDARMGGEEAEIRFCEHKRLNMATLRMTWEAKVQLKEILINSGFPEDCLLTQVFTNTGPDNNLDVVISLLAFGVYPNVCYHKEKRKILTTEGRNALIHKSSVNCPFSSQDMKYPSPFFVFGEKIRTRAISAKGMTLVTPLQLLLFASKKVQSDGQIVLVDDWIKLQISHEAAACITGLRAAMEALVVEVTKQPAIISQLDPVNERMLNMIRQISRPSAAGINLMIGSTRYGDGPRPPKMARYDNGSGYRRGGSSYSGGGYGGGYSSGGYGSGGYGGSANSFRAGYGAGVGGGYRGVSRGGFRGNSGGDYRGPSGGYRGSGGFQRGGGRGAYGTGYFGQGRGGGGY', 'length': 1270, 'molWeight': 140958, 'crc64': 'A607DA8F4C4B217A', 'md5': 'ECB85E71F99C5A0AF49C22BC29AF238A'}, 'extraAttributes': {'uniParcId': 'UPI00001AEF15'}}\n"
     ]
    },
    {
     "name": "stderr",
     "output_type": "stream",
     "text": [
      "Fetching sequences:   6%|▌         | 27/469 [00:13<03:30,  2.10it/s]"
     ]
    },
    {
     "name": "stdout",
     "output_type": "stream",
     "text": [
      "{'entryType': 'UniProtKB reviewed (Swiss-Prot)', 'primaryAccession': 'Q8WWQ0', 'proteinDescription': {'recommendedName': {'fullName': {'value': 'PH-interacting protein'}, 'shortNames': [{'value': 'PHIP'}]}, 'alternativeNames': [{'fullName': {'value': 'DDB1- and CUL4-associated factor 14'}}, {'fullName': {'value': 'IRS-1 PH domain-binding protein'}}, {'fullName': {'value': 'WD repeat-containing protein 11'}}]}, 'genes': [{'geneName': {'value': 'PHIP'}, 'synonyms': [{'value': 'DCAF14'}, {'value': 'WDR11'}]}], 'sequence': {'value': 'MSCERKGLSELRSELYFLIARFLEDGPCQQAAQVLIREVAEKELLPRRTDWTGKEHPRTYQNLVKYYRHLAPDHLLQICHRLGPLLEQEIPQSVPGVQTLLGAGRQSLLRTNKSCKHVVWKGSALAALHCGRPPESPVNYGSPPSIADTLFSRKLNGKYRLERLVPTAVYQHMKMHKRILGHLSSVYCVTFDRTGRRIFTGSDDCLVKIWATDDGRLLATLRGHAAEISDMAVNYENTMIAAGSCDKMIRVWCLRTCAPLAVLQGHSASITSLQFSPLCSGSKRYLSSTGADGTICFWLWDAGTLKINPRPAKFTERPRPGVQMICSSFSAGGMFLATGSTDHIIRVYFFGSGQPEKISELEFHTDKVDSIQFSNTSNRFVSGSRDGTARIWQFKRREWKSILLDMATRPAGQNLQGIEDKITKMKVTMVAWDRHDNTVITAVNNMTLKVWNSYTGQLIHVLMGHEDEVFVLEPHPFDPRVLFSAGHDGNVIVWDLARGVKIRSYFNMIEGQGHGAVFDCKCSPDGQHFACTDSHGHLLIFGFGSSSKYDKIADQMFFHSDYRPLIRDANNFVLDEQTQQAPHLMPPPFLVDVDGNPHPSRYQRLVPGRENCREEQLIPQMGVTSSGLNQVLSQQANQEISPLDSMIQRLQQEQDLRRSGEAVISNTSRLSRGSISSTSEVHSPPNVGLRRSGQIEGVRQMHSNAPRSEIATERDLVAWSRRVVVPELSAGVASRQEEWRTAKGEEEIKTYRSEEKRKHLTVPKENKIPTVSKNHAHEHFLDLGESKKQQTNQHNYRTRSALEETPRPSEEIENGSSSSDEGEVVAVSGGTSEEEERAWHSDGSSSDYSSDYSDWTADAGINLQPPKKVPKNKTKKAESSSDEEEESEKQKQKQIKKEKKKVNEEKDGPISPKKKKPKERKQKRLAVGELTENGLTLEEWLPSTWITDTIPRRCPFVPQMGDEVYYFRQGHEAYVEMARKNKIYSINPKKQPWHKMELREQELMKIVGIKYEVGLPTLCCLKLAFLDPDTGKLTGGSFTMKYHDMPDVIDFLVLRQQFDDAKYRRWNIGDRFRSVIDDAWWFGTIESQEPLQLEYPDSLFQCYNVCWDNGDTEKMSPWDMELIPNNAVFPEELGTSVPLTDGECRSLIYKPLDGEWGTNPRDEECERIVAGINQLMTLDIASAFVAPVDLQAYPMYCTVVAYPTDLSTIKQRLENRFYRRVSSLMWEVRYIEHNTRTFNEPGSPIVKSAKFVTDLLLHFIKDQTCYNIIPLYNSMKKKVLSDSEDEEKDADVPGTSTRKRKDHQPRRRLRNRAQSYDIQAWKKQCEELLNLIFQCEDSEPFRQPVDLLEYPDYRDIIDTPMDFATVRETLEAGNYESPMELCKDVRLIFSNSKAYTPSKRSRIYSMSLRLSAFFEEHISSVLSDYKSALRFHKRNTITKRRKKRNRSSSVSSSAASSPERKKRILKPQLKSESSTSAFSTPTRSIPPRHNAAQINGKTESSSVVRTRSNRVVVDPVVTEQPSTSSAAKTFITKANASAIPGKTILENSVKHSKALNTLSSPGQSSFSHGTRNNSAKENMEKEKPVKRKMKSSVLPKASTLSKSSAVIEQGDCKNNALVPGTIQVNGHGGQPSKLVKRGPGRKPKVEVNTNSGEIIHKKRGRKPKKLQYAKPEDLEQNNVHPIRDEVLPSSTCNFLSETNNVKEDLLQKKNRGGRKPKRKMKTQKLDADLLVPASVKVLRRSNRKKIDDPIDEEEEFEELKGSEPHMRTRNQGRRTAFYNEDDSEEEQRQLLFEDTSLTFGTSSRGRVRKLTEKAKANLIGW', 'length': 1821, 'molWeight': 206689, 'crc64': '88688EF8743C980F', 'md5': '611D171B94A33E0850EFC5669BEC6E41'}, 'extraAttributes': {'uniParcId': 'UPI000013DA40'}}\n"
     ]
    },
    {
     "name": "stderr",
     "output_type": "stream",
     "text": [
      "Fetching sequences:   6%|▌         | 28/469 [00:13<03:25,  2.15it/s]"
     ]
    },
    {
     "name": "stdout",
     "output_type": "stream",
     "text": [
      "{'entryType': 'UniProtKB reviewed (Swiss-Prot)', 'primaryAccession': 'P55769', 'proteinDescription': {'recommendedName': {'fullName': {'value': 'NHP2-like protein 1'}}, 'alternativeNames': [{'fullName': {'value': 'High mobility group-like nuclear protein 2 homolog 1'}}, {'fullName': {'value': 'OTK27'}}, {'fullName': {'value': 'SNU13 homolog'}, 'shortNames': [{'value': 'hSNU13'}]}, {'fullName': {'evidences': [{'evidenceCode': 'ECO:0000312', 'source': 'HGNC', 'id': 'HGNC:7819'}], 'value': 'U4/U6.U5 small nuclear ribonucleoprotein SNU13'}}, {'fullName': {'value': 'U4/U6.U5 tri-snRNP 15.5 kDa protein'}}], 'contains': [{'recommendedName': {'fullName': {'value': 'NHP2-like protein 1, N-terminally processed'}}}]}, 'genes': [{'geneName': {'evidences': [{'evidenceCode': 'ECO:0000312', 'source': 'HGNC', 'id': 'HGNC:7819'}], 'value': 'SNU13'}, 'synonyms': [{'value': 'NHP2L1'}]}], 'sequence': {'value': 'MTEADVNPKAYPLADAHLTKKLLDLVQQSCNYKQLRKGANEATKTLNRGISEFIVMAADAEPLEIILHLPLLCEDKNVPYVFVRSKQALGRACGVSRPVIACSVTIKEGSQLKQQIQSIQQSIERLLV', 'length': 128, 'molWeight': 14174, 'crc64': '78849EBB497089ED', 'md5': '257FCD2624A2CC1C6BF61584A4DE8D35'}, 'extraAttributes': {'uniParcId': 'UPI0000026E49'}}\n"
     ]
    },
    {
     "name": "stderr",
     "output_type": "stream",
     "text": [
      "Fetching sequences:   6%|▌         | 29/469 [00:14<03:22,  2.17it/s]"
     ]
    },
    {
     "name": "stdout",
     "output_type": "stream",
     "text": [
      "{'entryType': 'UniProtKB reviewed (Swiss-Prot)', 'primaryAccession': 'O95478', 'proteinDescription': {'recommendedName': {'fullName': {'value': 'Ribosome biogenesis protein NSA2 homolog'}}, 'alternativeNames': [{'fullName': {'value': 'Hairy cell leukemia protein 1'}}, {'fullName': {'value': 'TGF-beta-inducible nuclear protein 1'}}]}, 'genes': [{'geneName': {'value': 'NSA2'}, 'synonyms': [{'value': 'TINP1'}], 'orfNames': [{'value': 'HUSSY-29'}]}], 'sequence': {'value': 'MPQNEYIELHRKRYGYRLDYHEKKRKKESREAHERSKKAKKMIGLKAKLYHKQRHAEKIQMKKTIKMHEKRNTKQKNDEKTPQGAVPAYLLDREGQSRAKVLSNMIKQKRKEKAGKWEVPLPKVRAQGETEVLKVIRTGKRKKKAWKRMVTKVCFVGDGFTRKPPKYERFIRPMGLRFKKAHVTHPELKATFCLPILGVKKNPSSPLYTTLGVITKGTVIEVNVSELGLVTQGGKVIWGKYAQVTNNPENDGCINAVLLV', 'length': 260, 'molWeight': 30065, 'crc64': 'C42D3E8EFB2669D8', 'md5': '919A4AAAA761736FD779DFE47FB03346'}, 'extraAttributes': {'uniParcId': 'UPI0000073FFF'}}\n"
     ]
    },
    {
     "name": "stderr",
     "output_type": "stream",
     "text": [
      "Fetching sequences:   6%|▋         | 30/469 [00:14<03:19,  2.20it/s]"
     ]
    },
    {
     "name": "stdout",
     "output_type": "stream",
     "text": [
      "{'entryType': 'UniProtKB reviewed (Swiss-Prot)', 'primaryAccession': 'Q9NX58', 'proteinDescription': {'recommendedName': {'fullName': {'value': 'Cell growth-regulating nucleolar protein'}}}, 'genes': [{'geneName': {'value': 'LYAR'}, 'orfNames': [{'value': 'PNAS-5'}]}], 'sequence': {'value': 'MVFFTCNACGESVKKIQVEKHVSVCRNCECLSCIDCGKDFWGDDYKNHVKCISEDQKYGGKGYEGKTHKGDIKQQAWIQKISELIKRPNVSPKVRELLEQISAFDNVPRKKAKFQNWMKNSLKVHNESILDQVWNIFSEASNSEPVNKEQDQRPLHPVANPHAEISTKVPASKVKDAVEQQGEVKKNKRERKEERQKKRKREKKELKLENHQENSRNQKPKKRKKGQEADLEAGGEEVPEANGSAGKRSKKKKQRKDSASEEEARVGAGKRKRRHSEVETDSKKKKMKLPEHPEGGEPEDDEAPAKGKFNWKGTIKAILKQAPDNEITIKKLRKKVLAQYYTVTDEHHRSEEELLVIFNKKISKNPTFKLLKDKVKLVK', 'length': 379, 'molWeight': 43634, 'crc64': 'AF159483CF93ECB6', 'md5': '072EE785C66897CF5474996BE7DAFFF7'}, 'extraAttributes': {'uniParcId': 'UPI0000037C40'}}\n"
     ]
    },
    {
     "name": "stderr",
     "output_type": "stream",
     "text": [
      "Fetching sequences:   7%|▋         | 31/469 [00:15<03:18,  2.21it/s]"
     ]
    },
    {
     "name": "stdout",
     "output_type": "stream",
     "text": [
      "{'entryType': 'UniProtKB reviewed (Swiss-Prot)', 'primaryAccession': 'P42696', 'proteinDescription': {'recommendedName': {'fullName': {'value': 'RNA-binding protein 34'}}, 'alternativeNames': [{'fullName': {'value': 'RNA-binding motif protein 34'}}]}, 'genes': [{'geneName': {'value': 'RBM34'}, 'synonyms': [{'value': 'KIAA0117'}]}], 'sequence': {'value': 'MALEGMSKRKRKRSVQEGENPDDGVRGSPPEDYRLGQVASSLFRGEHHSRGGTGRLASLFSSLEPQIQPVYVPVPKQTIKKTKRNEEEESTSQIERPLSQEPAKKVKAKKKHTNAEKKLADRESALASADLEEEIHQKQGQKRKNSQPGVKVADRKILDDTEDTVVSQRKKIQINQEEERLKNERTVFVGNLPVTCNKKKLKSFFKEYGQIESVRFRSLIPAEGTLSKKLAAIKRKIHPDQKNINAYVVFKEESAATQALKRNGAQIADGFRIRVDLASETSSRDKRSVFVGNLPYKVEESAIEKHFLDCGSIMAVRIVRDKMTGIGKGFGYVLFENTDSVHLALKLNNSELMGRKLRVMRSVNKEKFKQQNSNPRLKNVSKPKQGLNFTSKTAEGHPKSLFIGEKAVLLKTKKKGQKKSGRPKKQRKQK', 'length': 430, 'molWeight': 48565, 'crc64': '6BA5C901E1C7C935', 'md5': '6048D3A96F1E247696E7C5210A2350B0'}, 'extraAttributes': {'uniParcId': 'UPI00001D7E4C'}}\n"
     ]
    },
    {
     "name": "stderr",
     "output_type": "stream",
     "text": [
      "Fetching sequences:   7%|▋         | 32/469 [00:15<03:16,  2.23it/s]"
     ]
    },
    {
     "name": "stdout",
     "output_type": "stream",
     "text": [
      "{'entryType': 'UniProtKB reviewed (Swiss-Prot)', 'primaryAccession': 'Q9GZL7', 'proteinDescription': {'recommendedName': {'fullName': {'evidences': [{'evidenceCode': 'ECO:0000255', 'source': 'HAMAP-Rule', 'id': 'MF_03029'}], 'value': 'Ribosome biogenesis protein WDR12'}}, 'alternativeNames': [{'fullName': {'evidences': [{'evidenceCode': 'ECO:0000255', 'source': 'HAMAP-Rule', 'id': 'MF_03029'}], 'value': 'WD repeat-containing protein 12'}}]}, 'genes': [{'geneName': {'evidences': [{'evidenceCode': 'ECO:0000255', 'source': 'HAMAP-Rule', 'id': 'MF_03029'}], 'value': 'WDR12'}}], 'sequence': {'value': 'MAQLQTRFYTDNKKYAVDDVPFSIPAASEIADLSNIINKLLKDKNEFHKHVEFDFLIKGQFLRMPLDKHMEMENISSEEVVEIEYVEKYTAPQPEQCMFHDDWISSIKGAEEWILTGSYDKTSRIWSLEGKSIMTIVGHTDVVKDVAWVKKDSLSCLLLSASMDQTILLWEWNVERNKVKALHCCRGHAGSVDSIAVDGSGTKFCSGSWDKMLKIWSTVPTDEEDEMEESTNRPRKKQKTEQLGLTRTPIVTLSGHMEAVSSVLWSDAEEICSASWDHTIRVWDVESGSLKSTLTGNKVFNCISYSPLCKRLASGSTDRHIRLWDPRTKDGSLVSLSLTSHTGWVTSVKWSPTHEQQLISGSLDNIVKLWDTRSCKAPLYDLAAHEDKVLSVDWTDTGLLLSGGADNKLYSYRYSPTTSHVGA', 'length': 423, 'molWeight': 47708, 'crc64': '6D088C640AC981D8', 'md5': '17D7C6550241169C92889E6967F02691'}, 'extraAttributes': {'uniParcId': 'UPI0000138ED2'}}\n"
     ]
    },
    {
     "name": "stderr",
     "output_type": "stream",
     "text": [
      "Fetching sequences:   7%|▋         | 33/469 [00:15<03:13,  2.26it/s]"
     ]
    },
    {
     "name": "stdout",
     "output_type": "stream",
     "text": [
      "{'entryType': 'UniProtKB reviewed (Swiss-Prot)', 'primaryAccession': 'Q9HCE1', 'proteinDescription': {'recommendedName': {'fullName': {'evidences': [{'evidenceCode': 'ECO:0000305'}], 'value': 'Helicase MOV-10'}, 'ecNumbers': [{'evidences': [{'evidenceCode': 'ECO:0000269', 'source': 'PubMed', 'id': '24726324'}], 'value': '3.6.4.13'}]}, 'alternativeNames': [{'fullName': {'evidences': [{'evidenceCode': 'ECO:0000303', 'source': 'PubMed', 'id': '17507929'}], 'value': 'Armitage homolog'}}, {'fullName': {'value': 'Moloney leukemia virus 10 protein'}}]}, 'genes': [{'geneName': {'evidences': [{'evidenceCode': 'ECO:0000312', 'source': 'HGNC', 'id': 'HGNC:7200'}], 'value': 'MOV10'}, 'synonyms': [{'value': 'KIAA1631'}]}], 'sequence': {'value': 'MPSKFSCRQLREAGQCFESFLVVRGLDMETDRERLRTIYNRDFKISFGTPAPGFSSMLYGMKIANLAYVTKTRVRFFRLDRWADVRFPEKRRMKLGSDISKHHKSLLAKIFYDRAEYLHGKHGVDVEVQGPHEARDGQLLIRLDLNRKEVLTLRLRNGGTQSVTLTHLFPLCRTPQFAFYNEDQELPCPLGPGECYELHVHCKTSFVGYFPATVLWELLGPGESGSEGAGTFYIARFLAAVAHSPLAAQLKPMTPFKRTRITGNPVVTNRIEEGERPDRAKGYDLELSMALGTYYPPPRLRQLLPMLLQGTSIFTAPKEIAEIKAQLETALKWRNYEVKLRLLLHLEELQMEHDIRHYDLESVPMTWDPVDQNPRLLTLEVPGVTESRPSVLRGDHLFALLSSETHQEDPITYKGFVHKVELDRVKLSFSMSLLSRFVDGLTFKVNFTFNRQPLRVQHRALELTGRWLLWPMLFPVAPRDVPLLPSDVKLKLYDRSLESNPEQLQAMRHIVTGTTRPAPYIIFGPPGTGKTVTLVEAIKQVVKHLPKAHILACAPSNSGADLLCQRLRVHLPSSIYRLLAPSRDIRMVPEDIKPCCNWDAKKGEYVFPAKKKLQEYRVLITTLITAGRLVSAQFPIDHFTHIFIDEAGHCMEPESLVAIAGLMEVKETGDPGGQLVLAGDPRQLGPVLRSPLTQKHGLGYSLLERLLTYNSLYKKGPDGYDPQFITKLLRNYRSHPTILDIPNQLYYEGELQACADVVDRERFCRWAGLPRQGFPIIFHGVMGKDEREGNSPSFFNPEEAATVTSYLKLLLAPSSKKGKARLSPRSVGVISPYRKQVEKIRYCITKLDRELRGLDDIKDLKVGSVEEFQGQERSVILISTVRSSQSFVQLDLDFNLGFLKNPKRFNVAVTRAKALLIIVGNPLLLGHDPDWKVFLEFCKENGGYTGCPFPAKLDLQQGQNLLQGLSKLSPSTSGPHSHDYLPQEREGEGGLSLQVEPEWRNEL', 'length': 1003, 'molWeight': 113671, 'crc64': '28A8B3BF9B5B54FC', 'md5': 'BCF8078AAFCF0E851EB2C586AECF3FFF'}, 'extraAttributes': {'uniParcId': 'UPI000012FA84'}}\n"
     ]
    },
    {
     "name": "stderr",
     "output_type": "stream",
     "text": [
      "Fetching sequences:   7%|▋         | 34/469 [00:16<03:13,  2.24it/s]"
     ]
    },
    {
     "name": "stdout",
     "output_type": "stream",
     "text": [
      "{'entryType': 'UniProtKB reviewed (Swiss-Prot)', 'primaryAccession': 'Q99729-3', 'proteinDescription': {'recommendedName': {'fullName': {'value': 'Isoform 3 of Heterogeneous nuclear ribonucleoprotein A/B'}, 'shortNames': [{'value': 'hnRNP A/B'}]}, 'alternativeNames': [{'fullName': {'value': 'APOBEC1-binding protein 1'}, 'shortNames': [{'value': 'ABBP-1'}]}]}, 'genes': [{'geneName': {'value': 'HNRNPAB'}, 'synonyms': [{'value': 'ABBP1'}, {'value': 'HNRPAB'}]}], 'sequence': {'value': 'MSEAGEEQPMETTGATENGHEAVPEGESPAGAGTGAAAGAGGATAAPPSGNQNGAEGDQINASKNEEDAGKMFVGGLSWDTSKKDLKDYFTKFGEVVDCTIKMDPNTGRSRGFGFILFKDAASVEKVLDQKEHRLDGRVIDPKKAMAMKKDPVKKIFVGGLNPEATEEKIREYFGEFGEIEAIELPMDPKLNKRRGFVFITFKEEEPVKKVLEKKFHTVSGSKCEIKVAQPKEVYQQQQYGSGGRGNRNRGNRGSGGGGGGGGQGSTNYGKSQRRGGHQNNYKPY', 'length': 285, 'molWeight': 30588, 'crc64': '3E4F386C2F5B9705', 'md5': '11FB6B31458F6F102CBA6392D351DAF8'}, 'extraAttributes': {'uniParcId': 'UPI0000072D22'}}\n"
     ]
    },
    {
     "name": "stderr",
     "output_type": "stream",
     "text": [
      "Fetching sequences:   7%|▋         | 35/469 [00:16<03:14,  2.24it/s]"
     ]
    },
    {
     "name": "stdout",
     "output_type": "stream",
     "text": [
      "{'entryType': 'UniProtKB reviewed (Swiss-Prot)', 'primaryAccession': 'Q8WYP5', 'proteinDescription': {'recommendedName': {'fullName': {'value': 'Protein ELYS'}}, 'alternativeNames': [{'fullName': {'value': 'Embryonic large molecule derived from yolk sac'}}, {'fullName': {'value': 'Protein MEL-28'}}, {'fullName': {'value': 'Putative AT-hook-containing transcription factor 1'}}]}, 'genes': [{'geneName': {'value': 'AHCTF1'}, 'synonyms': [{'value': 'ELYS'}, {'value': 'TMBS62'}], 'orfNames': [{'value': 'MSTP108'}]}], 'sequence': {'value': 'MRDLRAQVTSGLLPFPEVTLQALGEDEITLESVLRGKFAAGKNGLACLACGPQLEVVNSITGERLSAYRFSGVNEQPPVVLAVKEFSWQKRTGLLIGLEETEGSVLCLYDLGISKVVKAVVLPGRVTAIEPIINHGGASASTQHLHPSLRWLFGVAAVVTDVGQILLVDLCLDDLSCNQNEVEASDLEVLTGIPAEVPHIRESVMRQGRHLCFQLVSPTGTAVSTLSYISRTNQLAVGFSDGYLALWNMKSMKREYYIQLESGQVPVYAVTFQEPENDPRNCCYLWAVQSTQDSEGDVLSLHLLQLAFGNRKCLASGQILYEGLEYCEERYTLDLTGGMFPLRGQTSNTKLLGCQSIEKFRSHGDREEGVNEALSPDTSVSVFTWQVNIYGQGKPSVYLGLFDINRWYHAQMPDSLRSGEYLHNCSYFALWSLESVVSRTSPHGILDILVHERSLNRGVPPSYPPPEQFFNPSTYNFDATCLLNSGVVHLTCTGFQKETLTFLKKSGPSLNELIPDGYNRCLVAGLLSPRFVDVQPSSLSQEEQLEAILSAAIQTSSLGLLTGYIRRWITEEQPNSATNLRFVLEWTWNKVVLTKEEFDRLCVPLFDGSCHFMDPQTIQSIQQCYLLLSNLNIVLSCFASEAREITERGLIDLSNKFVVSHLICQYAQVVLWFSHSGLLPEGIDDSVQLSRLCYNYPVIQNYYTSRRQKFERLSRGKWNPDCLMIDGLVSQLGERIEKLWKRDEGGTGKYPPASLHAVLDMYLLDGVTEAAKHSITIYLLLDIMYSFPNKTDTPIESFPTVFAISWGQVKLIQGFWLIDHNDYESGLDLLFHPATAKPLSWQHSKIIQAFMSQGEHRQALRYIQTMKPTVSSGNDVILHLTVLLFNRCMVEAWNFLRQHCNRLNIEELLKHMYEVCQEMGLMEDLLKLPFTDTEQECLVKFLQSSASVQNHEFLLVHHLQRANYVPALKLNQTLKINVMNDRDPRLRERSLARNSILDQYGKILPRVHRKLAIERAKPYHLSTSSVFRLVSRPKPLSAVPKQVVTGTVLTRSVFINNVLSKIGEVWASKEPINSTTPFNSSKIEEPSPIVYSLPAPELPEAFFGTPISKASQKISRLLDLVVQPVPRPSQCSEFIQQSSMKSPLYLVSRSLPSSSQLKGSPQAISRASELHLLETPLVVKKAKSLAMSVTTSGFSEFTPQSILRSTLRSTPLASPSPSPGRSPQRLKETRISFVEEDVHPKWIPGAADDSKLEVFTTPKKCAVPVETEWLKSKDRTTSFFLNSPEKEHQEMDEGSQSLEKLDVSKGNSSVSITSDETTLEYQDAPSPEDLEETVFTASKPKSSSTALTTNVTEQTEKDGDKDVFASEVTPSDLQKQMGNLEDAETKDLLVAAEAFSELNHLSPVQGTEASLCAPSVYEGKIFTQKSKVPVLDEGLTSVETYTPAIRANDNKSMADVLGDGGNSSLTISEGPIVSERRLNQEVALNLKEDHEVEVGVLKESVDLPEEKLPISDSPPDTQEIHVIEQEKLEAQDSGEEARNLSFNELYPSGTLKLQYNFDTIDQQFCDLADNKDTAECDIAEVDGELFVAQSNFTLILEGEEGEVEPGDFASSDVLPKAANTATEEKLVCSGENDNHGQIANLPSAVTSDQKSQKVDTLPYVPEPIKVAIAENLLDVIKDTRSKEITSDTMEQSIHETIPLVSQNIMCPTKLVKSAFKTAQETSTMTMNVSQVDDVVSSKTRTRGQRIQNVNVKSAQQEASADVATPKMPGQSVRKKTRKAKEISEASENIYSDVRGLSQNQQIPQNSVTPRRGRRKKEVNQDILENTSSVEQELQITTGRESKRLKSSQLLEPAVEETTKKEVKVSSVTKRTPRRIKRSVENQESVEIINDLKVSTVTSPSRMIRKLRSTNLDASENTGNKQDDKSSDKQLRIKHVRRVRGREVSPSDVREDSNLESSQLTVQAEFDMSAIPRKRGRPRKINPSEDVGSKAVKEERSPKKKEAPSIRRRSTRNTPAKSENVDVGKPALGKSILVPNEELSMVMSSKKKLTKKTESQSQKRSLHSVSEERTDEMTHKETNEQEERLLATASFTKSSRSSRTRSSKAILLPDLSEPNNEPLFSPASEVPRKAKAKKIEVPAQLKELVSDLSSQFVISPPALRSRQKNTSNKNKLEDELKDDAQSVETLGKPKAKRIRTSKTKQASKNTEKESAWSPPPIEIRLISPLASPADGVKSKPRKTTEVTGTGLGRNRKKLSSYPKQILRRKML', 'length': 2266, 'molWeight': 252498, 'crc64': '465452FD42ACCFAE', 'md5': 'FBA9A78EEA202BC20D5D7D353DE70687'}, 'extraAttributes': {'uniParcId': 'UPI0000456337'}}\n"
     ]
    },
    {
     "name": "stderr",
     "output_type": "stream",
     "text": [
      "Fetching sequences:   8%|▊         | 36/469 [00:17<03:13,  2.24it/s]"
     ]
    },
    {
     "name": "stdout",
     "output_type": "stream",
     "text": [
      "{'entryType': 'UniProtKB reviewed (Swiss-Prot)', 'primaryAccession': 'Q13310-2', 'proteinDescription': {'recommendedName': {'fullName': {'value': 'Isoform 2 of Polyadenylate-binding protein 4'}, 'shortNames': [{'value': 'PABP-4'}, {'value': 'Poly(A)-binding protein 4'}]}, 'alternativeNames': [{'fullName': {'value': 'Activated-platelet protein 1'}, 'shortNames': [{'value': 'APP-1'}]}, {'fullName': {'value': 'Inducible poly(A)-binding protein'}, 'shortNames': [{'value': 'iPABP'}]}]}, 'genes': [{'geneName': {'value': 'PABPC4'}, 'synonyms': [{'value': 'APP1'}, {'value': 'PABP4'}]}], 'sequence': {'value': 'MNAAASSYPMASLYVGDLHSDVTEAMLYEKFSPAGPVLSIRVCRDMITRRSLGYAYVNFQQPADAERALDTMNFDVIKGKPIRIMWSQRDPSLRKSGVGNVFIKNLDKSIDNKALYDTFSAFGNILSCKVVCDENGSKGYAFVHFETQEAADKAIEKMNGMLLNDRKVFVGRFKSRKEREAELGAKAKEFTNVYIKNFGEEVDDESLKELFSQFGKTLSVKVMRDPNGKSKGFGFVSYEKHEDANKAVEEMNGKEISGKIIFVGRAQKKVERQAELKRKFEQLKQERISRYQGVNLYIKNLDDTIDDEKLRKEFSPFGSITSAKVMLEDGRSKGFGFVCFSSPEEATKAVTEMNGRIVGSKPLYVALAQRKEERKAHLTNQYMQRVAGMRALPANAILNQFQPAAGGYFVPAVPQAQGRPPYYTPNQLAQMRPNPRWQQGGRPQGFQGMPSAIRQSGPRPTLRHLAPTGNAPASRGLPTTTQRVGVPTAVQNLAPRAAVAAAAPRAVAPYKYASSVRSPHPAIQPLQAPQPAVHVQGQEPLTASMLAAAPPQEQKQMLGERLFPLIQTMHSNLAGKITGMLLEIDNSELLHMLESPESLRSKVDEAVAVLQAHHAKKEAAQKVGAVAAATS', 'length': 631, 'molWeight': 69579, 'crc64': '1891E205916695F6', 'md5': '34A9EDAA267AB8661DC05AFA5B917B73'}, 'extraAttributes': {'uniParcId': 'UPI00004F6F0C'}}\n"
     ]
    },
    {
     "name": "stderr",
     "output_type": "stream",
     "text": [
      "Fetching sequences:   8%|▊         | 37/469 [00:17<03:11,  2.25it/s]"
     ]
    },
    {
     "name": "stdout",
     "output_type": "stream",
     "text": [
      "{'entryType': 'UniProtKB reviewed (Swiss-Prot)', 'primaryAccession': 'Q9Y3C1', 'proteinDescription': {'recommendedName': {'fullName': {'value': 'Nucleolar protein 16'}}, 'alternativeNames': [{'fullName': {'value': 'HBV pre-S2 trans-regulated protein 3'}}]}, 'genes': [{'geneName': {'value': 'NOP16'}, 'orfNames': [{'value': 'CGI-117'}, {'value': 'HSPC111'}]}], 'sequence': {'value': 'MPKAKGKTRRQKFGYSVNRKRLNRNARRKAAPRIECSHIRHAWDHAKSVRQNLAEMGLAVDPNRAVPLRKRKVKAMEVDIEERPKELVRKPYVLNDLEAEASLPEKKGNTLSRDLIDYVRYMVENHGEDYKAMARDEKNYYQDTPKQIRSKINVYKRFYPAEWQDFLDSLQKRKMEVE', 'length': 178, 'molWeight': 21188, 'crc64': 'D9139BE32DA81FC5', 'md5': '1D032A581F014BCEBF23FF030CA22AE0'}, 'extraAttributes': {'uniParcId': 'UPI0000074383'}}\n"
     ]
    },
    {
     "name": "stderr",
     "output_type": "stream",
     "text": [
      "Fetching sequences:   8%|▊         | 38/469 [00:18<03:11,  2.25it/s]"
     ]
    },
    {
     "name": "stdout",
     "output_type": "stream",
     "text": [
      "{'entryType': 'UniProtKB reviewed (Swiss-Prot)', 'primaryAccession': 'Q8TDD1-2', 'proteinDescription': {'recommendedName': {'fullName': {'value': 'Isoform 2 of ATP-dependent RNA helicase DDX54'}, 'ecNumbers': [{'value': '3.6.4.13'}]}, 'alternativeNames': [{'fullName': {'value': 'ATP-dependent RNA helicase DP97'}}, {'fullName': {'value': 'DEAD box RNA helicase 97 kDa'}}, {'fullName': {'value': 'DEAD box protein 54'}}]}, 'genes': [{'geneName': {'value': 'DDX54'}}], 'sequence': {'value': 'MAADKGPAAGPRSRAAMAQWRKKKGLRKRRGAASQARGSDSEDGEFEIQAEDDARARKLGPGRPLPTFPTSECTSDVEPDTREMVRAQNKKKKKSGGFQSMGLSYPVFKGIMKKGYKVPTPIQRKTIPVILDGKDVVAMARTGSGKTACFLLPMFERLKTHSAQTGARALILSPTRELALQTLKFTKELGKFTGLKTALILGGDRMEDQFAALHENPDIIIATPGRLVHVAVEMSLKLQSVEYVVFDEADRLFEMGFAEQLQEIIARLPGGHQTVLFSATLPKLLVEFARAGLTEPVLIRLDVDTKLNEQLKTSFFLVREDTKAAVLLHLLHNVVRPQDQTVVFVATKHHAEYLTELLTTQRVSCAHIYSALDPTARKINLAKFTLGKCSTLIVTDLAARGLDIPLLDNVINYSFPAKGKLFLHRVGRVARAGRSGTAYSLVAPDEIPYLLDLHLFLGRSLTLARPLKEPSGVAGVDGMLGRVPQSVVDEEDSGLQSTLEASLELRGLARVADNAQQQYVRSRPAPSPESIKRAKEMDLVGLGLHPLFSSRFEEEELQRLRLVDSIKNYRSRATIFEINASSRDLCSQVMRAKRQKDRKAIARFQQGQQGRQEQQEGPVGPAPSRPALQEKQPEKEEEEEAGESVEDIFSEVVGRKRQRSGPNRGAKRRREEARQRDQEFYIPYRPKDFDSERGLSISGEGGAFEQQAAGAVLDLMGDEAQNLTRGRQQLKWDRKKKRFVGQSGQEDKKKIKTESGRYISSSYKRDLYQKWKQKQKIDDRDSDEEGASDRRGPERRGGKRDRGQAGASRPHAPGTPAGRVRPELKTKQQILKQRRRAQKLHFLQRGGLKQLSARNRRRVQELQQGAFGRGARSKKGKMRKRM', 'length': 882, 'molWeight': 98666, 'crc64': '947F50470F865F96', 'md5': '02AA22FBB6B2D89E6EDAFE13E9DF8269'}, 'extraAttributes': {'uniParcId': 'UPI000006F3A5'}}\n"
     ]
    },
    {
     "name": "stderr",
     "output_type": "stream",
     "text": [
      "Fetching sequences:   8%|▊         | 39/469 [00:18<03:10,  2.26it/s]"
     ]
    },
    {
     "name": "stdout",
     "output_type": "stream",
     "text": [
      "{'entryType': 'UniProtKB reviewed (Swiss-Prot)', 'primaryAccession': 'Q9NY12', 'proteinDescription': {'recommendedName': {'fullName': {'value': 'H/ACA ribonucleoprotein complex subunit 1'}}, 'alternativeNames': [{'fullName': {'value': 'Nucleolar protein family A member 1'}}, {'fullName': {'value': 'snoRNP protein GAR1'}}]}, 'genes': [{'geneName': {'value': 'GAR1'}, 'synonyms': [{'value': 'NOLA1'}]}], 'sequence': {'value': 'MSFRGGGRGGFNRGGGGGGFNRGGSSNHFRGGGGGGGGGNFRGGGRGGFGRGGGRGGFNKGQDQGPPERVVLLGEFLHPCEDDIVCKCTTDENKVPYFNAPVYLENKEQIGKVDEIFGQLRDFYFSVKLSENMKASSFKKLQKFYIDPYKLLPLQRFLPRPPGEKGPPRGGGRGGRGGGRGGGGRGGGRGGGFRGGRGGGGGGFRGGRGGGFRGRGH', 'length': 217, 'molWeight': 22348, 'crc64': '48CF04B78836EF91', 'md5': '8D2F2A9C085E10F90BD9096FF34D8EB1'}, 'extraAttributes': {'uniParcId': 'UPI0000070C13'}}\n"
     ]
    },
    {
     "name": "stderr",
     "output_type": "stream",
     "text": [
      "Fetching sequences:   9%|▊         | 40/469 [00:19<03:18,  2.16it/s]"
     ]
    },
    {
     "name": "stdout",
     "output_type": "stream",
     "text": [
      "{'entryType': 'UniProtKB reviewed (Swiss-Prot)', 'primaryAccession': 'P07910-2', 'proteinDescription': {'recommendedName': {'fullName': {'value': 'Isoform C1 of Heterogeneous nuclear ribonucleoproteins C1/C2'}, 'shortNames': [{'value': 'hnRNP C1/C2'}]}}, 'genes': [{'geneName': {'value': 'HNRNPC'}, 'synonyms': [{'value': 'HNRPC'}]}], 'sequence': {'value': 'MASNVTNKTDPRSMNSRVFIGNLNTLVVKKSDVEAIFSKYGKIVGCSVHKGFAFVQYVNERNARAAVAGEDGRMIAGQVLDINLAAEPKVNRGKAGVKRSAAEMYGSSFDLDYDFQRDYYDRMYSYPARVPPPPPIARAVVPSKRQRVSGNTSRRGKSGFNSKSGQRGSSKSGKLKGDDLQAIKKELTQIKQKVDSLLENLEKIEKEQSKQAVEMKNDKSEEEQSSSSVKKDETNVKMESEGGADDSAEEGDLLDDDDNEDRGDDQLELIKDDEKEAEEGEDDRDSANGEDDS', 'length': 293, 'molWeight': 32338, 'crc64': 'B90DDFD06A77FEE8', 'md5': 'DE8BEDF145698E6E3A4456E984E1C9CA'}, 'extraAttributes': {'uniParcId': 'UPI000000CBC5'}}\n"
     ]
    },
    {
     "name": "stderr",
     "output_type": "stream",
     "text": [
      "Fetching sequences:   9%|▊         | 41/469 [00:19<03:18,  2.16it/s]"
     ]
    },
    {
     "name": "stdout",
     "output_type": "stream",
     "text": [
      "{'entryType': 'UniProtKB reviewed (Swiss-Prot)', 'primaryAccession': 'Q9BRT6', 'proteinDescription': {'recommendedName': {'fullName': {'value': 'Protein LLP homolog'}}, 'alternativeNames': [{'fullName': {'value': 'Protein LAPS18-like'}}]}, 'genes': [{'geneName': {'value': 'LLPH'}, 'synonyms': [{'value': 'C12orf31'}, {'evidences': [{'evidenceCode': 'ECO:0000303', 'source': 'PubMed', 'id': '20813266'}], 'value': 'cPERP-G'}]}], 'sequence': {'value': 'MAKSLRSKWKRKMRAEKRKKNAPKEASRLKSILKLDGDVLMKDVQEIATVVVPKPKHCQEKMQCEVKDEKDDMKMETDIKRNKKTLLDQHGQYPIWMNQRQRKRLKAKREKRKGKSKAKAVKVAKGLAW', 'length': 129, 'molWeight': 15225, 'crc64': '71C2CE6F79B63E4D', 'md5': 'A782C0A994922154106B69996BA401DA'}, 'extraAttributes': {'uniParcId': 'UPI000006E52D'}}\n"
     ]
    },
    {
     "name": "stderr",
     "output_type": "stream",
     "text": [
      "Fetching sequences:   9%|▉         | 42/469 [00:19<03:15,  2.18it/s]"
     ]
    },
    {
     "name": "stdout",
     "output_type": "stream",
     "text": [
      "{'entryType': 'UniProtKB reviewed (Swiss-Prot)', 'primaryAccession': 'Q15061', 'proteinDescription': {'recommendedName': {'fullName': {'value': 'WD repeat-containing protein 43'}}, 'alternativeNames': [{'fullName': {'value': 'U3 small nucleolar RNA-associated protein 5 homolog'}}]}, 'genes': [{'geneName': {'evidences': [{'evidenceCode': 'ECO:0000312', 'source': 'HGNC', 'id': 'HGNC:28945'}], 'value': 'WDR43'}, 'synonyms': [{'value': 'KIAA0007'}, {'value': 'UTP5'}]}], 'sequence': {'value': 'MAAGGGGSCDPLAPAGVPCAFSPHSQAYFALASTDGHLRVWETANNRLHQEYVPSAHLSGTCTCLAWAPARLQAKESPQRKKRKSEAVGMSNQTDLLALGTAVGSILLYSTVKGELHSKLISGGHDNRVNCIQWHQDSGCLYSCSDDKHIVEWNVQTCKVKCKWKGDNSSVSSLCISPDGKMLLSAGRTIKLWVLETKEVYRHFTGHATPVSSLMFTTIRPPNESQPFDGITGLYFLSGAVHDRLLNVWQVRSENKEKSAVMSFTVTDEPVYIDLTLSENKEEPVKLAVVCRDGQVHLFEHILNGYCKKPLTSNCTIQIATPGKGKKSTPKPIPILAAGFCSDKMSLLLVYGSWFQPTIERVALNSREPHMCLVRDISNCWAPKVETAITKVRTPVMNSEAKVLVPGIPGHHAAIKPAPPQTEQVESKRKSGGNEVSIEERLGAMDIDTHKKGKEDLQTNSFPVLLTQGLESNDFEMLNKVLQTRNVNLIKKTVLRMPLHTIIPLLQELTKRLQGHPNSAVLMVQWLKCVLTVHASYLSTLPDLVPQLGTLYQLMESRVKTFQKLSHLHGKLILLITQVTASEKTKGATSPGQKAKLVYEEESSEEESDDEIADKDSEDNWDEDEEESESEKDEDVEEEDEDAEGKDEENGEDRDTASEKELNGDSDLDPENESEEE', 'length': 677, 'molWeight': 74891, 'crc64': '4EEAD92C30118ACD', 'md5': '8705ACB480F663CD56DD2412033AA263'}, 'extraAttributes': {'uniParcId': 'UPI00001C1DCD'}}\n"
     ]
    },
    {
     "name": "stderr",
     "output_type": "stream",
     "text": [
      "Fetching sequences:   9%|▉         | 43/469 [00:20<03:11,  2.22it/s]"
     ]
    },
    {
     "name": "stdout",
     "output_type": "stream",
     "text": [
      "{'entryType': 'UniProtKB reviewed (Swiss-Prot)', 'primaryAccession': 'P62314', 'proteinDescription': {'recommendedName': {'fullName': {'value': 'Small nuclear ribonucleoprotein Sm D1'}, 'shortNames': [{'value': 'Sm-D1'}]}, 'alternativeNames': [{'fullName': {'value': 'Sm-D autoantigen'}}, {'fullName': {'value': 'snRNP core protein D1'}}]}, 'genes': [{'geneName': {'value': 'SNRPD1'}}], 'sequence': {'value': 'MKLVRFLMKLSHETVTIELKNGTQVHGTITGVDVSMNTHLKAVKMTLKNREPVQLETLSIRGNNIRYFILPDSLPLDTLLVDVEPKVKSKKREAVAGRGRGRGRGRGRGRGRGRGGPRR', 'length': 119, 'molWeight': 13282, 'crc64': '0C81C94BF98E0810', 'md5': '53C1A299CCD07B7A9534F13602286082'}, 'extraAttributes': {'uniParcId': 'UPI0000006BEC'}}\n"
     ]
    },
    {
     "name": "stderr",
     "output_type": "stream",
     "text": [
      "Fetching sequences:   9%|▉         | 44/469 [00:20<03:09,  2.24it/s]"
     ]
    },
    {
     "name": "stdout",
     "output_type": "stream",
     "text": [
      "{'entryType': 'UniProtKB reviewed (Swiss-Prot)', 'primaryAccession': 'O00571', 'proteinDescription': {'recommendedName': {'fullName': {'value': 'ATP-dependent RNA helicase DDX3X'}, 'ecNumbers': [{'evidences': [{'evidenceCode': 'ECO:0000269', 'source': 'PubMed', 'id': '15507209'}, {'evidenceCode': 'ECO:0000269', 'source': 'PubMed', 'id': '17357160'}, {'evidenceCode': 'ECO:0000269', 'source': 'PubMed', 'id': '21589879'}, {'evidenceCode': 'ECO:0000269', 'source': 'PubMed', 'id': '31300642'}, {'evidenceCode': 'ECO:0000269', 'source': 'PubMed', 'id': '31575075'}], 'value': '3.6.4.13'}]}, 'alternativeNames': [{'fullName': {'value': 'CAP-Rf'}}, {'fullName': {'value': 'DEAD box protein 3, X-chromosomal'}}, {'fullName': {'value': 'DEAD box, X isoform'}, 'shortNames': [{'value': 'DBX'}]}, {'fullName': {'value': 'Helicase-like protein 2'}, 'shortNames': [{'value': 'HLP2'}]}]}, 'genes': [{'geneName': {'value': 'DDX3X'}, 'synonyms': [{'evidences': [{'evidenceCode': 'ECO:0000303', 'source': 'PubMed', 'id': '15294876'}], 'value': 'DBX'}, {'value': 'DDX3'}]}], 'sequence': {'value': 'MSHVAVENALGLDQQFAGLDLNSSDNQSGGSTASKGRYIPPHLRNREATKGFYDKDSSGWSSSKDKDAYSSFGSRSDSRGKSSFFSDRGSGSRGRFDDRGRSDYDGIGSRGDRSGFGKFERGGNSRWCDKSDEDDWSKPLPPSERLEQELFSGGNTGINFEKYDDIPVEATGNNCPPHIESFSDVEMGEIIMGNIELTRYTRPTPVQKHAIPIIKEKRDLMACAQTGSGKTAAFLLPILSQIYSDGPGEALRAMKENGRYGRRKQYPISLVLAPTRELAVQIYEEARKFSYRSRVRPCVVYGGADIGQQIRDLERGCHLLVATPGRLVDMMERGKIGLDFCKYLVLDEADRMLDMGFEPQIRRIVEQDTMPPKGVRHTMMFSATFPKEIQMLARDFLDEYIFLAVGRVGSTSENITQKVVWVEESDKRSFLLDLLNATGKDSLTLVFVETKKGADSLEDFLYHEGYACTSIHGDRSQRDREEALHQFRSGKSPILVATAVAARGLDISNVKHVINFDLPSDIEEYVHRIGRTGRVGNLGLATSFFNERNINITKDLLDLLVEAKQEVPSWLENMAYEHHYKGSSRGRSKSSRFSGGFGARDYRQSSGASSSSFSSSRASSSRSGGGGHGSSRGFGGGGYGGFYNSDGYGGNYNSQGVDWWGN', 'length': 662, 'molWeight': 73243, 'crc64': '7074D2B8A6EBBF09', 'md5': 'F7459C1BFD7D91E94812C126B65A6652'}, 'extraAttributes': {'uniParcId': 'UPI000013CB6D'}}\n"
     ]
    },
    {
     "name": "stderr",
     "output_type": "stream",
     "text": [
      "Fetching sequences:  10%|▉         | 45/469 [00:21<03:08,  2.25it/s]"
     ]
    },
    {
     "name": "stdout",
     "output_type": "stream",
     "text": [
      "{'entryType': 'UniProtKB reviewed (Swiss-Prot)', 'primaryAccession': 'Q9Y3A4', 'proteinDescription': {'recommendedName': {'fullName': {'value': 'Ribosomal RNA-processing protein 7 homolog A'}}, 'alternativeNames': [{'fullName': {'value': 'Gastric cancer antigen Zg14'}}]}, 'genes': [{'geneName': {'evidences': [{'evidenceCode': 'ECO:0000312', 'source': 'HGNC', 'id': 'HGNC:24286'}], 'value': 'RRP7A'}, 'orfNames': [{'value': 'CGI-96'}]}], 'sequence': {'value': 'MVARRRKCAARDPEDRIPSPLGYAAIPIKFSEKQQASHYLYVRAHGVRQGTKSTWPQKRTLFVLNVPPYCTEESLSRLLSTCGLVQSVELQEKPDLAESPKESRSKFFHPKPVPGFQVAYVVFQKPSGVSAALALKGPLLVSTESHPVKSGIHKWISDYADSVPDPEALRVEVDTFMEAYDQKIAEEEAKAKEEEGVPDEEGWVKVTRRGRRPVLPRTEAASLRVLERERRKRSRKELLNFYAWQHRESKMEHLAQLRKKFEEDKQRIELLRAQRKFRPY', 'length': 280, 'molWeight': 32334, 'crc64': '3625D609B0FF2F76', 'md5': 'B4334414980FEE5A97BABF9F25224F2D'}, 'extraAttributes': {'uniParcId': 'UPI000013C6B7'}}\n"
     ]
    },
    {
     "name": "stderr",
     "output_type": "stream",
     "text": [
      "Fetching sequences:  10%|▉         | 46/469 [00:21<03:07,  2.26it/s]"
     ]
    },
    {
     "name": "stdout",
     "output_type": "stream",
     "text": [
      "{'entryType': 'UniProtKB reviewed (Swiss-Prot)', 'primaryAccession': 'P17844', 'proteinDescription': {'recommendedName': {'fullName': {'value': 'Probable ATP-dependent RNA helicase DDX5'}, 'ecNumbers': [{'value': '3.6.4.13'}]}, 'alternativeNames': [{'fullName': {'value': 'DEAD box protein 5'}}, {'fullName': {'value': 'RNA helicase p68'}}]}, 'genes': [{'geneName': {'value': 'DDX5'}, 'synonyms': [{'value': 'G17P1'}, {'value': 'HELR'}, {'value': 'HLR1'}]}], 'sequence': {'value': 'MSGYSSDRDRGRDRGFGAPRFGGSRAGPLSGKKFGNPGEKLVKKKWNLDELPKFEKNFYQEHPDLARRTAQEVETYRRSKEITVRGHNCPKPVLNFYEANFPANVMDVIARQNFTEPTAIQAQGWPVALSGLDMVGVAQTGSGKTLSYLLPAIVHINHQPFLERGDGPICLVLAPTRELAQQVQQVAAEYCRACRLKSTCIYGGAPKGPQIRDLERGVEICIATPGRLIDFLECGKTNLRRTTYLVLDEADRMLDMGFEPQIRKIVDQIRPDRQTLMWSATWPKEVRQLAEDFLKDYIHINIGALELSANHNILQIVDVCHDVEKDEKLIRLMEEIMSEKENKTIVFVETKRRCDELTRKMRRDGWPAMGIHGDKSQQERDWVLNEFKHGKAPILIATDVASRGLDVEDVKFVINYDYPNSSEDYIHRIGRTARSTKTGTAYTFFTPNNIKQVSDLISVLREANQAINPKLLQLVEDRGSGRSRGRGGMKDDRRDRYSAGKRGGFNTFRDRENYDRGYSSLLKRDFGAKTQNGVYSAANYTNGSFGSNFVSAGIQTSFRTGNPTGTYQNGYDSTQQYGSNVPNMHNGMNQQAYAYPATAAAPMIGYPMPTGYSQ', 'length': 614, 'molWeight': 69148, 'crc64': '84DF684FD6871594', 'md5': 'DF98A051E230230EF598639957C5820B'}, 'extraAttributes': {'uniParcId': 'UPI000003B456'}}\n"
     ]
    },
    {
     "name": "stderr",
     "output_type": "stream",
     "text": [
      "Fetching sequences:  10%|█         | 47/469 [00:22<03:05,  2.28it/s]"
     ]
    },
    {
     "name": "stdout",
     "output_type": "stream",
     "text": [
      "{'entryType': 'UniProtKB reviewed (Swiss-Prot)', 'primaryAccession': 'Q15717', 'proteinDescription': {'recommendedName': {'fullName': {'value': 'ELAV-like protein 1'}}, 'alternativeNames': [{'fullName': {'value': 'Hu-antigen R'}, 'shortNames': [{'evidences': [{'evidenceCode': 'ECO:0000303', 'source': 'PubMed', 'id': '8626503'}], 'value': 'HuR'}]}]}, 'genes': [{'geneName': {'value': 'ELAVL1'}, 'synonyms': [{'value': 'HUR'}]}], 'sequence': {'value': 'MSNGYEDHMAEDCRGDIGRTNLIVNYLPQNMTQDELRSLFSSIGEVESAKLIRDKVAGHSLGYGFVNYVTAKDAERAINTLNGLRLQSKTIKVSYARPSSEVIKDANLYISGLPRTMTQKDVEDMFSRFGRIINSRVLVDQTTGLSRGVAFIRFDKRSEAEEAITSFNGHKPPGSSEPITVKFAANPNQNKNVALLSQLYHSPARRFGGPVHHQAQRFRFSPMGVDHMSGLSGVNVPGNASSGWCIFIYNLGQDADEGILWQMFGPFGAVTNVKVIRDFNTNKCKGFGFVTMTNYEEAAMAIASLNGYRLGDKILQVSFKTNKSHK', 'length': 326, 'molWeight': 36092, 'crc64': '0B86143805264DEF', 'md5': 'E8FAC0E2F3CFB806E4F1C004530F2608'}, 'extraAttributes': {'uniParcId': 'UPI0000129E74'}}\n"
     ]
    },
    {
     "name": "stderr",
     "output_type": "stream",
     "text": [
      "Fetching sequences:  10%|█         | 48/469 [00:22<03:05,  2.27it/s]"
     ]
    },
    {
     "name": "stdout",
     "output_type": "stream",
     "text": [
      "{'entryType': 'UniProtKB reviewed (Swiss-Prot)', 'primaryAccession': 'Q9H9Y2', 'proteinDescription': {'recommendedName': {'fullName': {'value': 'Ribosome production factor 1'}}, 'alternativeNames': [{'fullName': {'value': 'Brix domain-containing protein 5'}}, {'fullName': {'value': 'Ribosome biogenesis protein RPF1'}}]}, 'genes': [{'geneName': {'value': 'RPF1'}, 'synonyms': [{'value': 'BXDC5'}]}], 'sequence': {'value': 'MAKAGDKSSSSGKKSLKRKAAAEELQEAAGAGDGATENGVQPPKAAAFPPGFSISEIKNKQRRHLMFTRWKQQQRKEKLAAKKKLKKEREALGDKAPPKPVPKTIDNQRVYDETTVDPNDEEVAYDEATDEFASYFNKQTSPKILITTSDRPHGRTVRLCEQLSTVIPNSHVYYRRGLALKKIIPQCIARDFTDLIVINEDRKTPNGLILSHLPNGPTAHFKMSSVRLRKEIKRRGKDPTEHIPEIILNNFTTRLGHSIGRMFASLFPHNPQFIGRQVATFHNQRDYIFFRFHRYIFRSEKKVGIQELGPRFTLKLRSLQKGTFDSKYGEYEWVHKPREMDTSRRKFHL', 'length': 349, 'molWeight': 40111, 'crc64': 'F939904B3AB79890', 'md5': 'B6432DADC48158409214999C3856B123'}, 'extraAttributes': {'uniParcId': 'UPI0000034DF7'}}\n"
     ]
    },
    {
     "name": "stderr",
     "output_type": "stream",
     "text": [
      "Fetching sequences:  10%|█         | 49/469 [00:23<03:06,  2.26it/s]"
     ]
    },
    {
     "name": "stdout",
     "output_type": "stream",
     "text": [
      "{'entryType': 'UniProtKB reviewed (Swiss-Prot)', 'primaryAccession': 'Q13823', 'proteinDescription': {'recommendedName': {'fullName': {'value': 'Nucleolar GTP-binding protein 2'}}, 'alternativeNames': [{'fullName': {'value': 'Autoantigen NGP-1'}}]}, 'genes': [{'geneName': {'value': 'GNL2'}, 'synonyms': [{'value': 'NGP1'}]}], 'sequence': {'value': 'MVKPKYKGRSTINPSKASTNPDRVQGAGGQNMRDRATIRRLNMYRQKERRNSRGKIIKPLQYQSTVASGTVARVEPNIKWFGNTRVIKQSSLQKFQEEMDTVMKDPYKVVMKQSKLPMSLLHDRIRPHNLKVHILDTESFETTFGPKSQRKRPNLFASDMQSLIENAEMSTESYDQGKDRDLVTEDTGVRNEAQEEIYKKGQSKRIWGELYKVIDSSDVVVQVLDARDPMGTRSPHIETYLKKEKPWKHLIFVLNKCDLVPTWATKRWVAVLSQDYPTLAFHASLTNPFGKGAFIQLLRQFGKLHTDKKQISVGFIGYPNVGKSSVINTLRSKKVCNVAPIAGETKVWQYITLMRRIFLIDCPGVVYPSEDSETDIVLKGVVQVEKIKSPEDHIGAVLERAKPEYISKTYKIDSWENAEDFLEKLAFRTGKLLKGGEPDLQTVGKMVLNDWQRGRIPFFVKPPNAEPLVAPQLLPSSSLEVVPEAAQNNPGEEVTETAGEGSESIIKEETEENSHCDANTEMQQILTRVRQNFGKINVVPQFSGDDLVPVEVSDLEEELESFSDEEEEEQEQQRDDAEESSSEPEEENVGNDTKAVIKALDEKIAKYQKFLDKAKAKKFSAVRISKGLSEKIFAKPEEQRKTLEEDVDDRAPSKKGKKRKAQREEEQEHSNKAPRALTSKERRRAVRQQRPKKVGVRYYETHNVKNRNRNKKKTNDSEGQKHKRKKFRQKQ', 'length': 731, 'molWeight': 83655, 'crc64': 'E90C638B58C0886E', 'md5': '01621A0B7A44E107DA3A264F3C048272'}, 'extraAttributes': {'uniParcId': 'UPI0000000C9E'}}\n"
     ]
    },
    {
     "name": "stderr",
     "output_type": "stream",
     "text": [
      "Fetching sequences:  11%|█         | 50/469 [00:23<03:05,  2.25it/s]"
     ]
    },
    {
     "name": "stdout",
     "output_type": "stream",
     "text": [
      "{'entryType': 'UniProtKB reviewed (Swiss-Prot)', 'primaryAccession': 'Q9BWF3', 'proteinDescription': {'recommendedName': {'fullName': {'value': 'RNA-binding protein 4'}}, 'alternativeNames': [{'fullName': {'value': 'Lark homolog'}, 'shortNames': [{'value': 'hLark'}]}, {'fullName': {'value': 'RNA-binding motif protein 4'}}, {'fullName': {'value': 'RNA-binding motif protein 4a'}}]}, 'genes': [{'geneName': {'value': 'RBM4'}, 'synonyms': [{'value': 'RBM4A'}]}], 'sequence': {'value': 'MVKLFIGNLPREATEQEIRSLFEQYGKVLECDIIKNYGFVHIEDKTAAEDAIRNLHHYKLHGVNINVEASKNKSKTSTKLHVGNISPTCTNKELRAKFEEYGPVIECDIVKDYAFVHMERAEDAVEAIRGLDNTEFQGKRMHVQLSTSRLRTAPGMGDQSGCYRCGKEGHWSKECPIDRSGRVADLTEQYNEQYGAVRTPYTMSYGDSLYYNNAYGALDAYYKRCRAARSYEAVAAAAASVYNYAEQTLSQLPQVQNTAMASHLTSTSLDPYDRHLLPTSGAAATAAAAAAAAAAVTAASTSYYGRDRSPLRRATAPVPTVGEGYGYGHESELSQASAAARNSLYDMARYEREQYADRARYSAF', 'length': 364, 'molWeight': 40314, 'crc64': '3EA1C80D4C9122A2', 'md5': 'D3EF83A2BE034099220A4745FE936DA9'}, 'extraAttributes': {'uniParcId': 'UPI0000073FC1'}}\n"
     ]
    },
    {
     "name": "stderr",
     "output_type": "stream",
     "text": [
      "Fetching sequences:  11%|█         | 51/469 [00:23<03:05,  2.25it/s]"
     ]
    },
    {
     "name": "stdout",
     "output_type": "stream",
     "text": [
      "{'entryType': 'UniProtKB reviewed (Swiss-Prot)', 'primaryAccession': 'Q14684', 'proteinDescription': {'recommendedName': {'fullName': {'value': 'Ribosomal RNA processing protein 1 homolog B'}}, 'alternativeNames': [{'fullName': {'value': 'RRP1-like protein B'}}]}, 'genes': [{'geneName': {'value': 'RRP1B'}, 'synonyms': [{'value': 'KIAA0179'}]}], 'sequence': {'value': 'MAPAMQPAEIQFAQRLASSEKGIRDRAVKKLRQYISVKTQRETGGFSQEELLKIWKGLFYCMWVQDEPLLQEELANTIAQLVHAVNNSAAQHLFIQTFWQTMNREWKGIDRLRLDKYYMLIRLVLRQSFEVLKRNGWEESRIKVFLDVLMKEVLCPESQSPNGVRFHFIDIYLDELSKVGGKELLADQNLKFIDPFCKIAAKTKDHTLVQTIARGVFEAIVDQSPFVPEETMEEQKTKVGDGDLSAEEIPENEVSLRRAVSKKKTALGKNHSRKDGLSDERGRDDCGTFEDTGPLLQFDYKAVADRLLEMTSRKNTPHFNRKRLSKLIKKFQDLSEGSSISQLSFAEDISADEDDQILSQGKHKKKGNKLLEKTNLEKEKGSRVFCVEEEDSESSLQKRRRKKKKKHHLQPENPGPGGAAPSLEQNRGREPEASGLKALKARVAEPGAEATSSTGEESGSEHPPAVPMHNKRKRPRKKSPRAHREMLESAVLPPEDMSQSGPSGSHPQGPRGSPTGGAQLLKRKRKLGVVPVNGSGLSTPAWPPLQQEGPPTGPAEGANSHTTLPQRRRLQKKKAGPGSLELCGLPSQKTASLKKRKKMRVMSNLVEHNGVLESEAGQPQALGSSGTCSSLKKQKLRAESDFVKFDTPFLPKPLFFRRAKSSTATHPPGPAVQLNKTPSSSKKVTFGLNRNMTAEFKKTDKSILVSPTGPSRVAFDPEQKPLHGVLKTPTSSPASSPLVAKKPLTTTPRRRPRAMDFF', 'length': 758, 'molWeight': 84428, 'crc64': '738117A7062054F2', 'md5': 'BE55AC1710CA7240D6CF6C7D221C44FF'}, 'extraAttributes': {'uniParcId': 'UPI0000198EE6'}}\n"
     ]
    },
    {
     "name": "stderr",
     "output_type": "stream",
     "text": [
      "Fetching sequences:  11%|█         | 52/469 [00:24<03:04,  2.26it/s]"
     ]
    },
    {
     "name": "stdout",
     "output_type": "stream",
     "text": [
      "{'entryType': 'UniProtKB reviewed (Swiss-Prot)', 'primaryAccession': 'Q14137', 'proteinDescription': {'recommendedName': {'fullName': {'evidences': [{'evidenceCode': 'ECO:0000255', 'source': 'HAMAP-Rule', 'id': 'MF_03027'}], 'value': 'Ribosome biogenesis protein BOP1'}}, 'alternativeNames': [{'fullName': {'evidences': [{'evidenceCode': 'ECO:0000255', 'source': 'HAMAP-Rule', 'id': 'MF_03027'}], 'value': 'Block of proliferation 1 protein'}}]}, 'genes': [{'geneName': {'evidences': [{'evidenceCode': 'ECO:0000255', 'source': 'HAMAP-Rule', 'id': 'MF_03027'}], 'value': 'BOP1'}, 'synonyms': [{'value': 'KIAA0124'}]}], 'sequence': {'value': 'MAGSRGAGRTAAPSVRPEKRRSEPELEPEPEPEPPLLCTSPLSHSTGSDSGVSDSEESVFSGLEDSGSDSSEDDDEGDEEGEDGALDDEGHSGIKKTTEEQVQASTPCPRTEMASARIGDEYAEDSSDEEDIRNTVGNVPLEWYDDFPHVGYDLDGRRIYKPLRTRDELDQFLDKMDDPDYWRTVQDPMTGRDLRLTDEQVALVRRLQSGQFGDVGFNPYEPAVDFFSGDVMIHPVTNRPADKRSFIPSLVEKEKVSRMVHAIKMGWIQPRRPRDPTPSFYDLWAQEDPNAVLGRHKMHVPAPKLALPGHAESYNPPPEYLLSEEERLAWEQQEPGERKLSFLPRKFPSLRAVPAYGRFIQERFERCLDLYLCPRQRKMRVNVDPEDLIPKLPRPRDLQPFPTCQALVYRGHSDLVRCLSVSPGGQWLVSGSDDGSLRLWEVATARCVRTVPVGGVVKSVAWNPSPAVCLVAAAVEDSVLLLNPALGDRLVAGSTDQLLSAFVPPEEPPLQPARWLEASEEERQVGLRLRICHGKPVTQVTWHGRGDYLAVVLATQGHTQVLIHQLSRRRSQSPFRRSHGQVQRVAFHPARPFLLVASQRSVRLYHLLRQELTKKLMPNCKWVSSLAVHPAGDNVICGSYDSKLVWFDLDLSTKPYRMLRHHKKALRAVAFHPRYPLFASGSDDGSVIVCHGMVYNDLLQNPLLVPVKVLKGHVLTRDLGVLDVIFHPTQPWVFSSGADGTVRLFT', 'length': 746, 'molWeight': 83630, 'crc64': '49A97BE21B0EB3DD', 'md5': '50FE258519D1C2F0C3E80FD6270D3ECB'}, 'extraAttributes': {'uniParcId': 'UPI0000126A63'}}\n"
     ]
    },
    {
     "name": "stderr",
     "output_type": "stream",
     "text": [
      "Fetching sequences:  11%|█▏        | 53/469 [00:24<03:02,  2.28it/s]"
     ]
    },
    {
     "name": "stdout",
     "output_type": "stream",
     "text": [
      "{'entryType': 'UniProtKB reviewed (Swiss-Prot)', 'primaryAccession': 'P16401', 'proteinDescription': {'recommendedName': {'fullName': {'value': 'Histone H1.5'}}, 'alternativeNames': [{'fullName': {'value': 'Histone H1a'}}, {'fullName': {'value': 'Histone H1b'}}, {'fullName': {'value': 'Histone H1s-3'}}]}, 'genes': [{'geneName': {'evidences': [{'evidenceCode': 'ECO:0000312', 'source': 'HGNC', 'id': 'HGNC:4719'}], 'value': 'H1-5'}, 'synonyms': [{'value': 'H1F5'}, {'evidences': [{'evidenceCode': 'ECO:0000312', 'source': 'HGNC', 'id': 'HGNC:4719'}], 'value': 'HIST1H1B'}]}], 'sequence': {'value': 'MSETAPAETATPAPVEKSPAKKKATKKAAGAGAAKRKATGPPVSELITKAVAASKERNGLSLAALKKALAAGGYDVEKNNSRIKLGLKSLVSKGTLVQTKGTGASGSFKLNKKAASGEAKPKAKKAGAAKAKKPAGATPKKAKKAAGAKKAVKKTPKKAKKPAAAGVKKVAKSPKKAKAAAKPKKATKSPAKPKAVKPKAAKPKAAKPKAAKPKAAKAKKAAAKKK', 'length': 226, 'molWeight': 22580, 'crc64': '0BA1402101766FDF', 'md5': 'D460A9A6E59C7E4C48FF92D4FAA7CF04'}, 'extraAttributes': {'uniParcId': 'UPI0000001BDA'}}\n"
     ]
    },
    {
     "name": "stderr",
     "output_type": "stream",
     "text": [
      "Fetching sequences:  12%|█▏        | 54/469 [00:25<03:03,  2.26it/s]"
     ]
    },
    {
     "name": "stdout",
     "output_type": "stream",
     "text": [
      "{'entryType': 'UniProtKB reviewed (Swiss-Prot)', 'primaryAccession': 'Q13601', 'proteinDescription': {'recommendedName': {'fullName': {'value': 'KRR1 small subunit processome component homolog'}}, 'alternativeNames': [{'fullName': {'value': 'HIV-1 Rev-binding protein 2'}}, {'fullName': {'value': 'KRR-R motif-containing protein 1'}}, {'fullName': {'value': 'Rev-interacting protein 1'}, 'shortNames': [{'value': 'Rip-1'}]}]}, 'genes': [{'geneName': {'evidences': [{'evidenceCode': 'ECO:0000312', 'source': 'HGNC', 'id': 'HGNC:5176'}], 'value': 'KRR1'}, 'synonyms': [{'value': 'HRB2'}]}], 'sequence': {'value': 'MASPSLERPEKGAGKSEFRNQKPKPENQDESELLTVPDGWKEPAFSKEDNPRGLLEESSFATLFPKYREAYLKECWPLVQKALNEHHVNATLDLIEGSMTVCTTKKTFDPYIIIRARDLIKLLARSVSFEQAVRILQDDVACDIIKIGSLVRNKERFVKRRQRLIGPKGSTLKALELLTNCYIMVQGNTVSAIGPFSGLKEVRKVVLDTMKNIHPIYNIKSLMIKRELAKDSELRSQSWERFLPQFKHKNVNKRKEPKKKTVKKEYTPFPPPQPESQIDKELASGEYFLKANQKKRQKMEAIKAKQAEAISKRQEERNKAFIPPKEKPIVKPKEASTETKIDVASIKEKVKKAKNKKLGALTAEEIALKMEADEKKKKKKK', 'length': 381, 'molWeight': 43665, 'crc64': '8F242FCC36BF079B', 'md5': '98FA37659747C1072800599B8F609FFF'}, 'extraAttributes': {'uniParcId': 'UPI00001403EE'}}\n"
     ]
    },
    {
     "name": "stderr",
     "output_type": "stream",
     "text": [
      "Fetching sequences:  12%|█▏        | 55/469 [00:25<03:04,  2.24it/s]"
     ]
    },
    {
     "name": "stdout",
     "output_type": "stream",
     "text": [
      "{'entryType': 'UniProtKB reviewed (Swiss-Prot)', 'primaryAccession': 'O75683', 'proteinDescription': {'recommendedName': {'fullName': {'value': 'Surfeit locus protein 6'}}}, 'genes': [{'geneName': {'value': 'SURF6'}, 'synonyms': [{'value': 'SURF-6'}]}], 'sequence': {'value': 'MASLLAKDAYLQSLAKKICSHSAPEQQARTRAGKTQGSETAGPPKKKRKKTQKKFRKREEKAAEHKAKSLGEKSPAASGARRPEAAKEEAAWASSSAGNPADGLATEPESVFALDVLRQRLHEKIQEARGQGSAKELSPAALEKRRRRKQERDRKKRKRKELRAKEKARKAEEATEAQEVVEATPEGACTEPREPPGLIFNKVEVSEDEPASKAQRRKEKRQRVKGNLTPLTGRNYRQLLERLQARQSRLDELRGQDEGKAQELEAKMKWTNLLYKAEGVKIRDDERLLQEALKRKEKRRAQRQRRWEKRTAGVVEKMQQRQDRRRQNLRRKKAARAERRLLRARKKGRILPQDLERAGLV', 'length': 361, 'molWeight': 41450, 'crc64': '34F63992E3E82797', 'md5': '60F7269AE334D7862ADB80C9FAEE5A3C'}, 'extraAttributes': {'uniParcId': 'UPI000013623E'}}\n"
     ]
    },
    {
     "name": "stderr",
     "output_type": "stream",
     "text": [
      "Fetching sequences:  12%|█▏        | 56/469 [00:26<03:03,  2.25it/s]"
     ]
    },
    {
     "name": "stdout",
     "output_type": "stream",
     "text": [
      "{'entryType': 'UniProtKB reviewed (Swiss-Prot)', 'primaryAccession': 'P19525', 'proteinDescription': {'recommendedName': {'fullName': {'value': 'Interferon-induced, double-stranded RNA-activated protein kinase'}, 'ecNumbers': [{'value': '2.7.11.1'}]}, 'alternativeNames': [{'fullName': {'value': 'Eukaryotic translation initiation factor 2-alpha kinase 2'}, 'shortNames': [{'value': 'eIF-2A protein kinase 2'}]}, {'fullName': {'value': 'Interferon-inducible RNA-dependent protein kinase'}}, {'fullName': {'value': 'P1/eIF-2A protein kinase'}}, {'fullName': {'value': 'Protein kinase RNA-activated'}, 'shortNames': [{'value': 'PKR'}, {'evidences': [{'evidenceCode': 'ECO:0000303', 'source': 'PubMed', 'id': '11438532'}], 'value': 'Protein kinase R'}]}, {'fullName': {'value': 'Tyrosine-protein kinase EIF2AK2'}, 'ecNumbers': [{'value': '2.7.10.2'}]}, {'fullName': {'value': 'p68 kinase'}}]}, 'genes': [{'geneName': {'value': 'EIF2AK2'}, 'synonyms': [{'value': 'PKR'}, {'value': 'PRKR'}]}], 'sequence': {'value': 'MAGDLSAGFFMEELNTYRQKQGVVLKYQELPNSGPPHDRRFTFQVIIDGREFPEGEGRSKKEAKNAAAKLAVEILNKEKKAVSPLLLTTTNSSEGLSMGNYIGLINRIAQKKRLTVNYEQCASGVHGPEGFHYKCKMGQKEYSIGTGSTKQEAKQLAAKLAYLQILSEETSVKSDYLSSGSFATTCESQSNSLVTSTLASESSSEGDFSADTSEINSNSDSLNSSSLLMNGLRNNQRKAKRSLAPRFDLPDMKETKYTVDKRFGMDFKEIELIGSGGFGQVFKAKHRIDGKTYVIKRVKYNNEKAEREVKALAKLDHVNIVHYNGCWDGFDYDPETSDDSLESSDYDPENSKNSSRSKTKCLFIQMEFCDKGTLEQWIEKRRGEKLDKVLALELFEQITKGVDYIHSKKLIHRDLKPSNIFLVDTKQVKIGDFGLVTSLKNDGKRTRSKGTLRYMSPEQISSQDYGKEVDLYALGLILAELLHVCDTAFETSKFFTDLRDGIISDIFDKKEKTLLQKLLSKKPEDRPNTSEILRTLTVWKKSPEKNERHTC', 'length': 551, 'molWeight': 62094, 'crc64': '815AD83ACAB45DA3', 'md5': '35647E82876C1DD6F63ECFAEC98C20F4'}, 'extraAttributes': {'uniParcId': 'UPI000000D925'}}\n"
     ]
    },
    {
     "name": "stderr",
     "output_type": "stream",
     "text": [
      "Fetching sequences:  12%|█▏        | 57/469 [00:26<03:03,  2.25it/s]"
     ]
    },
    {
     "name": "stdout",
     "output_type": "stream",
     "text": [
      "{'entryType': 'UniProtKB reviewed (Swiss-Prot)', 'primaryAccession': 'P31942', 'proteinDescription': {'recommendedName': {'fullName': {'value': 'Heterogeneous nuclear ribonucleoprotein H3'}, 'shortNames': [{'value': 'hnRNP H3'}]}, 'alternativeNames': [{'fullName': {'value': 'Heterogeneous nuclear ribonucleoprotein 2H9'}, 'shortNames': [{'value': 'hnRNP 2H9'}]}]}, 'genes': [{'geneName': {'value': 'HNRNPH3'}, 'synonyms': [{'value': 'HNRPH3'}]}], 'sequence': {'value': 'MDWVMKHNGPNDASDGTVRLRGLPFGCSKEEIVQFFQGLEIVPNGITLTMDYQGRSTGEAFVQFASKEIAENALGKHKERIGHRYIEIFRSSRSEIKGFYDPPRRLLGQRPGPYDRPIGGRGGYYGAGRGSMYDRMRRGGDGYDGGYGGFDDYGGYNNYGYGNDGFDDRMRDGRGMGGHGYGGAGDASSGFHGGHFVHMRGLPFRATENDIANFFSPLNPIRVHIDIGADGRATGEADVEFVTHEDAVAAMSKDKNNMQHRYIELFLNSTPGGGSGMGGSGMGGYGRDGMDNQGGYGSVGRMGMGNNYSGGYGTPDGLGGYGRGGGGSGGYYGQGGMSGGGWRGMY', 'length': 346, 'molWeight': 36926, 'crc64': 'F7D14C2947930E9E', 'md5': 'F3FB8F5A1AD7517B29F722273EAD1FD8'}, 'extraAttributes': {'uniParcId': 'UPI0000134539'}}\n"
     ]
    },
    {
     "name": "stderr",
     "output_type": "stream",
     "text": [
      "Fetching sequences:  12%|█▏        | 58/469 [00:27<03:01,  2.27it/s]"
     ]
    },
    {
     "name": "stdout",
     "output_type": "stream",
     "text": [
      "{'entryType': 'UniProtKB reviewed (Swiss-Prot)', 'primaryAccession': 'O15226', 'proteinDescription': {'recommendedName': {'fullName': {'value': 'NF-kappa-B-repressing factor'}, 'shortNames': [{'evidences': [{'evidenceCode': 'ECO:0000303', 'source': 'PubMed', 'id': '10562553'}], 'value': 'NFkB-repressing factor'}, {'evidences': [{'evidenceCode': 'ECO:0000303', 'source': 'PubMed', 'id': '10562553'}], 'value': 'NRF'}]}, 'alternativeNames': [{'fullName': {'value': 'Protein ITBA4'}}]}, 'genes': [{'geneName': {'evidences': [{'evidenceCode': 'ECO:0000303', 'source': 'PubMed', 'id': '32179686'}, {'evidenceCode': 'ECO:0000312', 'source': 'HGNC', 'id': 'HGNC:19374'}], 'value': 'NKRF'}, 'synonyms': [{'value': 'ITBA4'}, {'evidences': [{'evidenceCode': 'ECO:0000303', 'source': 'PubMed', 'id': '10562553'}], 'value': 'NRF'}]}], 'sequence': {'value': 'MEKILQMAEGIDIGEMPSYDLVLSKPSKGQKRHLSTCDGQNPPKKQAGSKFHARPRFEPVHFVASSSKDERQEDPYGPQTKEVNEQTHFASMPRDIYQDYTQDSFSIQDGNSQYCDSSGFILTKDQPVTANMYFDSGNPAPSTTSQQANSQSTPEPSPSQTFPESVVAEKQYFIEKLTATIWKNLSNPEMTSGSDKINYTYMLTRCIQACKTNPEYIYAPLKEIPPADIPKNKKLLTDGYACEVRCQNIYLTTGYAGSKNGSRDRATELAVKLLQKRIEVRVVRRKFKHTFGEDLVVCQIGMSSYEFPPALKPPEDLVVLGKDASGQPIFNASAKHWTNFVITENANDAIGILNNSASFNKMSIEYKYEMMPNRTWRCRVFLQDHCLAEGYGTKKTSKHAAADEALKILQKTQPTYPSVKSSQCHTGSSPRGSGKKKDIKDLVVYENSSNPVCTLNDTAQFNRMTVEYVYERMTGLRWKCKVILESEVIAEAVGVKKTVKYEAAGEAVKTLKKTQPTVINNLKKGAVEDVISRNEIQGRSAEEAYKQQIKEDNIGNQLLRKMGWTGGGLGKSGEGIREPISVKEQHKREGLGLDVERVNKIAKRDIEQIIRNYARSESHTDLTFSRELTNDERKQIHQIAQKYGLKSKSHGVGHDRYLVVGRKRRKEDLLDQLKQEGQVGHYELVMPQAN', 'length': 690, 'molWeight': 77673, 'crc64': '3067A52671A7AE8F', 'md5': '6FAF866D62F4D7E56AEA5952EB36A1CB'}, 'extraAttributes': {'uniParcId': 'UPI00001BBB5F'}}\n"
     ]
    },
    {
     "name": "stderr",
     "output_type": "stream",
     "text": [
      "Fetching sequences:  13%|█▎        | 59/469 [00:27<03:24,  2.00it/s]"
     ]
    },
    {
     "name": "stdout",
     "output_type": "stream",
     "text": [
      "{'entryType': 'UniProtKB reviewed (Swiss-Prot)', 'primaryAccession': 'Q12906', 'secondaryAccessions': ['A8K6F2', 'G5E9M5', 'O43409', 'Q6P1X1', 'Q86XY7', 'Q99544', 'Q99545', 'Q9BZH4', 'Q9BZH5', 'Q9NQ95', 'Q9NQ96', 'Q9NQ97', 'Q9NQ98', 'Q9NQ99', 'Q9NQA0', 'Q9NQA1', 'Q9NQA2', 'Q9NRN2', 'Q9NRN3', 'Q9NRN4', 'Q9UMZ9', 'Q9UN00', 'Q9UN84', 'Q9UNA2'], 'uniProtkbId': 'ILF3_HUMAN', 'entryAudit': {'firstPublicDate': '2002-01-31', 'lastAnnotationUpdateDate': '2025-04-09', 'lastSequenceUpdateDate': '2005-04-12', 'entryVersion': 244, 'sequenceVersion': 3}, 'annotationScore': 5.0, 'organism': {'scientificName': 'Homo sapiens', 'commonName': 'Human', 'taxonId': 9606, 'lineage': ['Eukaryota', 'Metazoa', 'Chordata', 'Craniata', 'Vertebrata', 'Euteleostomi', 'Mammalia', 'Eutheria', 'Euarchontoglires', 'Primates', 'Haplorrhini', 'Catarrhini', 'Hominidae', 'Homo']}, 'proteinExistence': '1: Evidence at protein level', 'proteinDescription': {'recommendedName': {'fullName': {'value': 'Interleukin enhancer-binding factor 3'}}, 'alternativeNames': [{'fullName': {'value': 'Double-stranded RNA-binding protein 76'}, 'shortNames': [{'value': 'DRBP76'}]}, {'fullName': {'value': 'M-phase phosphoprotein 4'}, 'shortNames': [{'value': 'MPP4'}]}, {'fullName': {'value': 'Nuclear factor associated with dsRNA'}, 'shortNames': [{'value': 'NFAR'}]}, {'fullName': {'value': 'Nuclear factor of activated T-cells 90 kDa'}, 'shortNames': [{'value': 'NF-AT-90'}]}, {'fullName': {'value': 'Translational control protein 80'}, 'shortNames': [{'value': 'TCP80'}]}]}, 'genes': [{'geneName': {'value': 'ILF3'}, 'synonyms': [{'value': 'DRBF'}, {'value': 'MPHOSPH4'}, {'value': 'NF90'}]}], 'comments': [{'texts': [{'evidences': [{'evidenceCode': 'ECO:0000269', 'source': 'PubMed', 'id': '14731398'}, {'evidenceCode': 'ECO:0000269', 'source': 'PubMed', 'id': '21123651'}, {'evidenceCode': 'ECO:0000269', 'source': 'PubMed', 'id': '28625552'}, {'evidenceCode': 'ECO:0000269', 'source': 'PubMed', 'id': '9442054'}], 'value': \"RNA-binding protein that plays an essential role in the biogenesis of circular RNAs (circRNAs) which are produced by back-splicing circularization of pre-mRNAs. Within the nucleus, promotes circRNAs processing by stabilizing the regulatory elements residing in the flanking introns of the circularized exons. Plays thereby a role in the back-splicing of a subset of circRNAs (PubMed:28625552). As a consequence, participates in a wide range of transcriptional and post-transcriptional processes. Binds to poly-U elements and AU-rich elements (AREs) in the 3'-UTR of target mRNAs (PubMed:14731398). Upon viral infection, ILF3 accumulates in the cytoplasm and participates in the innate antiviral response (PubMed:21123651, PubMed:34110282). Mechanistically, ILF3 becomes phosphorylated and activated by the double-stranded RNA-activated protein kinase/PKR which releases ILF3 from cellular mature circRNAs. In turn, unbound ILF3 molecules are able to interact with and thus inhibit viral mRNAs (PubMed:21123651, PubMed:28625552)\"}], 'commentType': 'FUNCTION'}, {'texts': [{'evidences': [{'evidenceCode': 'ECO:0000269', 'source': 'PubMed', 'id': '26891316'}], 'value': '(Microbial infection) Plays a positive role in HIV-1 virus production by binding to and thereby stabilizing HIV-1 RNA, together with ILF3'}], 'commentType': 'FUNCTION'}, {'texts': [{'evidences': [{'evidenceCode': 'ECO:0000269', 'source': 'PubMed', 'id': '10574923'}, {'evidenceCode': 'ECO:0000269', 'source': 'PubMed', 'id': '10749851'}, {'evidenceCode': 'ECO:0000269', 'source': 'PubMed', 'id': '11739746'}, {'evidenceCode': 'ECO:0000269', 'source': 'PubMed', 'id': '11777942'}, {'evidenceCode': 'ECO:0000269', 'source': 'PubMed', 'id': '14570900'}, {'evidenceCode': 'ECO:0000269', 'source': 'PubMed', 'id': '14731398'}, {'evidenceCode': 'ECO:0000269', 'source': 'PubMed', 'id': '15254228'}, {'evidenceCode': 'ECO:0000269', 'source': 'PubMed', 'id': '17289661'}, {'evidenceCode': 'ECO:0000269', 'source': 'PubMed', 'id': '17890166'}, {'evidenceCode': 'ECO:0000269', 'source': 'PubMed', 'id': '17932509'}, {'evidenceCode': 'ECO:0000269', 'source': 'PubMed', 'id': '19029303'}, {'evidenceCode': 'ECO:0000269', 'source': 'PubMed', 'id': '26240280'}, {'evidenceCode': 'ECO:0000269', 'source': 'PubMed', 'id': '28625552'}, {'evidenceCode': 'ECO:0000269', 'source': 'PubMed', 'id': '34110282'}, {'evidenceCode': 'ECO:0000269', 'source': 'PubMed', 'id': '9442054'}], 'value': 'Identified in a IGF2BP1-dependent mRNP granule complex containing untranslated mRNAs. Interacts with FUS and SMN. Interacts (via C-terminus) with PRMT1. Forms a complex with ILF2. Can also bind to PRKDC/XRCC7: this may stabilize the interaction of PRKDC/XRCC7 and the heterodimeric complex of XRCC6/KU70 and XRCC5/KU80. Forms a heteromeric complex with ZNF346 and ILF3. Found in a nuclear export complex with XPO5, ILF3, Ran and double-stranded RNA or double-stranded minihelix VA1 RNA. Found in a nuclear export complex with XPO5, RAN, ILF3, ZNF346 and double-stranded RNA. Interacts with XPO5 and ZNF346. Forms a complex with ILF2, YLPM1, KHDRBS1, RBMX, NCOA5 and PPP1CA. Interacts with AGO1 and AGO2. Interacts with DHX36; this interaction occurs in a RNA-dependent manner (PubMed:14731398). Interacts with ELAVL1; this interaction occurs in a RNA-dependent manner (PubMed:14731398). Interacts with HAVCR2; this interaction promotes ILF3 ubiquitination and subsequent degradation (PubMed:34110282)'}], 'commentType': 'SUBUNIT'}, {'commentType': 'INTERACTION', 'interactions': [{'interactantOne': {'uniProtKBAccession': 'Q12906', 'intActId': 'EBI-78756'}, 'interactantTwo': {'uniProtKBAccession': 'P22626', 'geneName': 'HNRNPA2B1', 'intActId': 'EBI-299649'}, 'numberOfExperiments': 3, 'organismDiffer': False}, {'interactantOne': {'uniProtKBAccession': 'Q12906', 'intActId': 'EBI-78756'}, 'interactantTwo': {'uniProtKBAccession': 'P14866-1', 'geneName': 'HNRNPL', 'intActId': 'EBI-16071645'}, 'numberOfExperiments': 2, 'organismDiffer': False}, {'interactantOne': {'uniProtKBAccession': 'Q12906', 'intActId': 'EBI-78756'}, 'interactantTwo': {'uniProtKBAccession': 'Q99873', 'geneName': 'PRMT1', 'intActId': 'EBI-78738'}, 'numberOfExperiments': 4, 'organismDiffer': False}, {'interactantOne': {'uniProtKBAccession': 'Q12906', 'intActId': 'EBI-78756'}, 'interactantTwo': {'uniProtKBAccession': 'P08325', 'geneName': 'M', 'intActId': 'EBI-15693250'}, 'numberOfExperiments': 2, 'organismDiffer': True}, {'interactantOne': {'uniProtKBAccession': 'Q12906', 'intActId': 'EBI-78756'}, 'interactantTwo': {'uniProtKBAccession': 'P03496', 'geneName': 'NS', 'intActId': 'EBI-2547442'}, 'numberOfExperiments': 3, 'organismDiffer': True}, {'interactantOne': {'uniProtKBAccession': 'Q12906', 'intActId': 'EBI-78756'}, 'interactantTwo': {'uniProtKBAccession': 'Q05127', 'geneName': 'VP35', 'intActId': 'EBI-6148294'}, 'numberOfExperiments': 6, 'organismDiffer': True}, {'interactantOne': {'uniProtKBAccession': 'Q12906-6', 'intActId': 'EBI-12904528'}, 'interactantTwo': {'uniProtKBAccession': 'Q13148', 'geneName': 'TARDBP', 'intActId': 'EBI-372899'}, 'numberOfExperiments': 6, 'organismDiffer': False}, {'interactantOne': {'uniProtKBAccession': 'Q12906-6', 'intActId': 'EBI-12904528'}, 'interactantTwo': {'uniProtKBAccession': 'A5D8V6', 'geneName': 'VPS37C', 'intActId': 'EBI-2559305'}, 'numberOfExperiments': 3, 'organismDiffer': False}]}, {'commentType': 'SUBCELLULAR LOCATION', 'note': {'texts': [{'evidences': [{'evidenceCode': 'ECO:0000269', 'source': 'PubMed', 'id': '21123651'}], 'value': 'Localizes in the cytoplasm in response to viral infection. The unphosphorylated form is retained in the nucleus by ILF2. Phosphorylation at Thr-188 and Thr-315 causes the dissociation of ILF2 from the ILF2-ILF3 complex resulting in a cytoplasmic sequestration of ILF3. Localized in cytoplasmic mRNP granules containing untranslated mRNAs'}]}, 'subcellularLocations': [{'location': {'evidences': [{'evidenceCode': 'ECO:0000269', 'source': 'PubMed', 'id': '26240280'}], 'value': 'Nucleus, nucleolus', 'id': 'SL-0188'}}, {'location': {'evidences': [{'evidenceCode': 'ECO:0000269', 'source': 'PubMed', 'id': '28625552'}], 'value': 'Cytoplasm', 'id': 'SL-0086'}}, {'location': {'evidences': [{'evidenceCode': 'ECO:0000269', 'source': 'PubMed', 'id': '10749851'}, {'evidenceCode': 'ECO:0000269', 'source': 'PubMed', 'id': '26240280'}, {'evidenceCode': 'ECO:0000269', 'source': 'PubMed', 'id': '28625552'}], 'value': 'Nucleus', 'id': 'SL-0191'}}]}, {'commentType': 'ALTERNATIVE PRODUCTS', 'events': ['Alternative splicing'], 'isoforms': [{'name': {'value': '1'}, 'synonyms': [{'value': 'NFAR-2'}, {'value': 'ILF3-E'}], 'isoformIds': ['Q12906-1'], 'isoformSequenceStatus': 'Displayed'}, {'name': {'value': '2'}, 'synonyms': [{'value': 'NFAR-1'}, {'value': 'DRBP76'}], 'isoformIds': ['Q12906-2'], 'sequenceIds': ['VSP_003888', 'VSP_003889'], 'isoformSequenceStatus': 'Described'}, {'name': {'value': '3'}, 'isoformIds': ['Q12906-3'], 'sequenceIds': ['VSP_003890', 'VSP_003891'], 'isoformSequenceStatus': 'Described'}, {'name': {'value': '4'}, 'synonyms': [{'value': 'DRBP76 Alpha'}, {'value': 'ILF3-A'}], 'isoformIds': ['Q12906-4'], 'sequenceIds': ['VSP_003883', 'VSP_003884', 'VSP_003885'], 'isoformSequenceStatus': 'Described'}, {'name': {'value': '5'}, 'synonyms': [{'value': 'DRBP76 Delta'}, {'value': 'Gamma'}, {'value': 'ILF3-C'}], 'isoformIds': ['Q12906-5'], 'sequenceIds': ['VSP_003886', 'VSP_003887'], 'isoformSequenceStatus': 'Described'}, {'name': {'value': '6'}, 'isoformIds': ['Q12906-6'], 'sequenceIds': ['VSP_003883', 'VSP_003888', 'VSP_003889'], 'isoformSequenceStatus': 'Described'}, {'name': {'value': '7'}, 'isoformIds': ['Q12906-7'], 'sequenceIds': ['VSP_003883'], 'isoformSequenceStatus': 'Described'}]}, {'texts': [{'value': 'Ubiquitous'}], 'commentType': 'TISSUE SPECIFICITY'}, {'texts': [{'evidences': [{'evidenceCode': 'ECO:0000269', 'source': 'PubMed', 'id': '21123651'}], 'value': 'Phosphorylated at Thr-188 and Thr-315 by PKR in response to certain RNA viruses. This phosphorylation results in the dissociation of ILF2 from the ILF2-ILF3 complex resulting in a cytoplasmic sequestration of ILF3 where it can bind to viral RNAs and impede viral replication'}], 'commentType': 'PTM'}, {'texts': [{'evidences': [{'evidenceCode': 'ECO:0000269', 'source': 'PubMed', 'id': '10749851'}], 'value': 'Methylated by protein arginine N-methyltransferase 1'}], 'commentType': 'PTM'}, {'texts': [{'evidences': [{'evidenceCode': 'ECO:0000269', 'source': 'PubMed', 'id': '34110282'}], 'value': \"Ubiquitinated at Lys-297 in a TRIM47-dependent manner; this 'Lys-48'-linked ubiquitination promotes ILF3 degradation\"}], 'commentType': 'PTM'}, {'texts': [{'evidences': [{'evidenceCode': 'ECO:0000305'}], 'value': 'Dubious isoform produced through aberrant splice sites'}], 'commentType': 'MISCELLANEOUS', 'molecule': 'Isoform 3'}, {'commentType': 'SEQUENCE CAUTION', 'sequenceCautionType': 'Miscellaneous discrepancy', 'sequence': 'AAA20994.1', 'note': 'Sequencing errors.', 'evidences': [{'evidenceCode': 'ECO:0000305'}]}, {'commentType': 'SEQUENCE CAUTION', 'sequenceCautionType': 'Miscellaneous discrepancy', 'sequence': 'AAH48314.1', 'note': 'Contaminating sequence. Potential poly-A sequence.', 'evidences': [{'evidenceCode': 'ECO:0000305'}]}], 'features': [{'type': 'Chain', 'location': {'start': {'value': 1, 'modifier': 'EXACT'}, 'end': {'value': 894, 'modifier': 'EXACT'}}, 'description': 'Interleukin enhancer-binding factor 3', 'featureId': 'PRO_0000126070'}, {'type': 'Domain', 'location': {'start': {'value': 5, 'modifier': 'EXACT'}, 'end': {'value': 378, 'modifier': 'EXACT'}}, 'description': 'DZF', 'evidences': [{'evidenceCode': 'ECO:0000255', 'source': 'PROSITE-ProRule', 'id': 'PRU01040'}]}, {'type': 'Domain', 'location': {'start': {'value': 398, 'modifier': 'EXACT'}, 'end': {'value': 467, 'modifier': 'EXACT'}}, 'description': 'DRBM 1', 'evidences': [{'evidenceCode': 'ECO:0000255', 'source': 'PROSITE-ProRule', 'id': 'PRU00266'}]}, {'type': 'Domain', 'location': {'start': {'value': 524, 'modifier': 'EXACT'}, 'end': {'value': 590, 'modifier': 'EXACT'}}, 'description': 'DRBM 2', 'evidences': [{'evidenceCode': 'ECO:0000255', 'source': 'PROSITE-ProRule', 'id': 'PRU00266'}]}, {'type': 'Region', 'location': {'start': {'value': 50, 'modifier': 'EXACT'}, 'end': {'value': 86, 'modifier': 'EXACT'}}, 'description': 'Disordered', 'evidences': [{'evidenceCode': 'ECO:0000256', 'source': 'SAM', 'id': 'MobiDB-lite'}]}, {'type': 'Region', 'location': {'start': {'value': 363, 'modifier': 'EXACT'}, 'end': {'value': 401, 'modifier': 'EXACT'}}, 'description': 'Disordered', 'evidences': [{'evidenceCode': 'ECO:0000256', 'source': 'SAM', 'id': 'MobiDB-lite'}]}, {'type': 'Region', 'location': {'start': {'value': 466, 'modifier': 'EXACT'}, 'end': {'value': 524, 'modifier': 'EXACT'}}, 'description': 'Disordered', 'evidences': [{'evidenceCode': 'ECO:0000256', 'source': 'SAM', 'id': 'MobiDB-lite'}]}, {'type': 'Region', 'location': {'start': {'value': 609, 'modifier': 'EXACT'}, 'end': {'value': 894, 'modifier': 'EXACT'}}, 'description': 'Interaction with PRMT1', 'evidences': [{'evidenceCode': 'ECO:0000269', 'source': 'PubMed', 'id': '10749851'}]}, {'type': 'Region', 'location': {'start': {'value': 625, 'modifier': 'EXACT'}, 'end': {'value': 660, 'modifier': 'EXACT'}}, 'description': 'Disordered', 'evidences': [{'evidenceCode': 'ECO:0000256', 'source': 'SAM', 'id': 'MobiDB-lite'}]}, {'type': 'Region', 'location': {'start': {'value': 718, 'modifier': 'EXACT'}, 'end': {'value': 894, 'modifier': 'EXACT'}}, 'description': 'Disordered', 'evidences': [{'evidenceCode': 'ECO:0000256', 'source': 'SAM', 'id': 'MobiDB-lite'}]}, {'type': 'Motif', 'location': {'start': {'value': 371, 'modifier': 'EXACT'}, 'end': {'value': 389, 'modifier': 'EXACT'}}, 'description': 'Bipartite nuclear localization signal', 'evidences': [{'evidenceCode': 'ECO:0000255'}]}, {'type': 'Compositional bias', 'location': {'start': {'value': 60, 'modifier': 'EXACT'}, 'end': {'value': 73, 'modifier': 'EXACT'}}, 'description': 'Acidic residues', 'evidences': [{'evidenceCode': 'ECO:0000256', 'source': 'SAM', 'id': 'MobiDB-lite'}]}, {'type': 'Compositional bias', 'location': {'start': {'value': 74, 'modifier': 'EXACT'}, 'end': {'value': 86, 'modifier': 'EXACT'}}, 'description': 'Basic and acidic residues', 'evidences': [{'evidenceCode': 'ECO:0000256', 'source': 'SAM', 'id': 'MobiDB-lite'}]}, {'type': 'Compositional bias', 'location': {'start': {'value': 372, 'modifier': 'EXACT'}, 'end': {'value': 383, 'modifier': 'EXACT'}}, 'description': 'Basic and acidic residues', 'evidences': [{'evidenceCode': 'ECO:0000256', 'source': 'SAM', 'id': 'MobiDB-lite'}]}, {'type': 'Compositional bias', 'location': {'start': {'value': 472, 'modifier': 'EXACT'}, 'end': {'value': 481, 'modifier': 'EXACT'}}, 'description': 'Basic and acidic residues', 'evidences': [{'evidenceCode': 'ECO:0000256', 'source': 'SAM', 'id': 'MobiDB-lite'}]}, {'type': 'Compositional bias', 'location': {'start': {'value': 489, 'modifier': 'EXACT'}, 'end': {'value': 508, 'modifier': 'EXACT'}}, 'description': 'Low complexity', 'evidences': [{'evidenceCode': 'ECO:0000256', 'source': 'SAM', 'id': 'MobiDB-lite'}]}, {'type': 'Compositional bias', 'location': {'start': {'value': 644, 'modifier': 'EXACT'}, 'end': {'value': 660, 'modifier': 'EXACT'}}, 'description': 'Gly residues', 'evidences': [{'evidenceCode': 'ECO:0000256', 'source': 'SAM', 'id': 'MobiDB-lite'}]}, {'type': 'Compositional bias', 'location': {'start': {'value': 743, 'modifier': 'EXACT'}, 'end': {'value': 770, 'modifier': 'EXACT'}}, 'description': 'Low complexity', 'evidences': [{'evidenceCode': 'ECO:0000256', 'source': 'SAM', 'id': 'MobiDB-lite'}]}, {'type': 'Compositional bias', 'location': {'start': {'value': 777, 'modifier': 'EXACT'}, 'end': {'value': 792, 'modifier': 'EXACT'}}, 'description': 'Low complexity', 'evidences': [{'evidenceCode': 'ECO:0000256', 'source': 'SAM', 'id': 'MobiDB-lite'}]}, {'type': 'Compositional bias', 'location': {'start': {'value': 811, 'modifier': 'EXACT'}, 'end': {'value': 825, 'modifier': 'EXACT'}}, 'description': 'Gly residues', 'evidences': [{'evidenceCode': 'ECO:0000256', 'source': 'SAM', 'id': 'MobiDB-lite'}]}, {'type': 'Compositional bias', 'location': {'start': {'value': 832, 'modifier': 'EXACT'}, 'end': {'value': 851, 'modifier': 'EXACT'}}, 'description': 'Gly residues', 'evidences': [{'evidenceCode': 'ECO:0000256', 'source': 'SAM', 'id': 'MobiDB-lite'}]}, {'type': 'Compositional bias', 'location': {'start': {'value': 857, 'modifier': 'EXACT'}, 'end': {'value': 866, 'modifier': 'EXACT'}}, 'description': 'Polar residues', 'evidences': [{'evidenceCode': 'ECO:0000256', 'source': 'SAM', 'id': 'MobiDB-lite'}]}, {'type': 'Compositional bias', 'location': {'start': {'value': 867, 'modifier': 'EXACT'}, 'end': {'value': 878, 'modifier': 'EXACT'}}, 'description': 'Low complexity', 'evidences': [{'evidenceCode': 'ECO:0000256', 'source': 'SAM', 'id': 'MobiDB-lite'}]}, {'type': 'Modified residue', 'location': {'start': {'value': 62, 'modifier': 'EXACT'}, 'end': {'value': 62, 'modifier': 'EXACT'}}, 'description': 'Phosphoserine', 'evidences': [{'evidenceCode': 'ECO:0007744', 'source': 'PubMed', 'id': '20068231'}, {'evidenceCode': 'ECO:0007744', 'source': 'PubMed', 'id': '21406692'}, {'evidenceCode': 'ECO:0007744', 'source': 'PubMed', 'id': '23186163'}, {'evidenceCode': 'ECO:0007744', 'source': 'PubMed', 'id': '24275569'}]}, {'type': 'Modified residue', 'location': {'start': {'value': 100, 'modifier': 'EXACT'}, 'end': {'value': 100, 'modifier': 'EXACT'}}, 'description': 'N6-acetyllysine', 'evidences': [{'evidenceCode': 'ECO:0007744', 'source': 'PubMed', 'id': '19608861'}]}, {'type': 'Modified residue', 'location': {'start': {'value': 188, 'modifier': 'EXACT'}, 'end': {'value': 188, 'modifier': 'EXACT'}}, 'description': 'Phosphothreonine; by PKR', 'evidences': [{'evidenceCode': 'ECO:0000269', 'source': 'PubMed', 'id': '21123651'}]}, {'type': 'Modified residue', 'location': {'start': {'value': 190, 'modifier': 'EXACT'}, 'end': {'value': 190, 'modifier': 'EXACT'}}, 'description': 'Phosphoserine', 'evidences': [{'evidenceCode': 'ECO:0007744', 'source': 'PubMed', 'id': '18669648'}, {'evidenceCode': 'ECO:0007744', 'source': 'PubMed', 'id': '20068231'}, {'evidenceCode': 'ECO:0007744', 'source': 'PubMed', 'id': '21406692'}]}, {'type': 'Modified residue', 'location': {'start': {'value': 315, 'modifier': 'EXACT'}, 'end': {'value': 315, 'modifier': 'EXACT'}}, 'description': 'Phosphothreonine; by PKR', 'evidences': [{'evidenceCode': 'ECO:0000269', 'source': 'PubMed', 'id': '21123651'}]}, {'type': 'Modified residue', 'location': {'start': {'value': 382, 'modifier': 'EXACT'}, 'end': {'value': 382, 'modifier': 'EXACT'}}, 'description': 'Phosphoserine', 'evidences': [{'evidenceCode': 'ECO:0007744', 'source': 'PubMed', 'id': '20068231'}, {'evidenceCode': 'ECO:0007744', 'source': 'PubMed', 'id': '21406692'}, {'evidenceCode': 'ECO:0007744', 'source': 'PubMed', 'id': '23186163'}]}, {'type': 'Modified residue', 'location': {'start': {'value': 384, 'modifier': 'EXACT'}, 'end': {'value': 384, 'modifier': 'EXACT'}}, 'description': 'Phosphoserine', 'evidences': [{'evidenceCode': 'ECO:0007744', 'source': 'PubMed', 'id': '20068231'}]}, {'type': 'Modified residue', 'location': {'start': {'value': 460, 'modifier': 'EXACT'}, 'end': {'value': 460, 'modifier': 'EXACT'}}, 'description': 'N6-acetyllysine', 'evidences': [{'evidenceCode': 'ECO:0007744', 'source': 'PubMed', 'id': '19608861'}]}, {'type': 'Modified residue', 'location': {'start': {'value': 476, 'modifier': 'EXACT'}, 'end': {'value': 476, 'modifier': 'EXACT'}}, 'description': 'Phosphoserine', 'evidences': [{'evidenceCode': 'ECO:0007744', 'source': 'PubMed', 'id': '21406692'}, {'evidenceCode': 'ECO:0007744', 'source': 'PubMed', 'id': '24275569'}]}, {'type': 'Modified residue', 'location': {'start': {'value': 477, 'modifier': 'EXACT'}, 'end': {'value': 477, 'modifier': 'EXACT'}}, 'description': 'Phosphoserine', 'evidences': [{'evidenceCode': 'ECO:0007744', 'source': 'PubMed', 'id': '24275569'}]}, {'type': 'Modified residue', 'location': {'start': {'value': 482, 'modifier': 'EXACT'}, 'end': {'value': 482, 'modifier': 'EXACT'}}, 'description': 'Phosphoserine', 'evidences': [{'evidenceCode': 'ECO:0007744', 'source': 'PubMed', 'id': '17081983'}, {'evidenceCode': 'ECO:0007744', 'source': 'PubMed', 'id': '20068231'}, {'evidenceCode': 'ECO:0007744', 'source': 'PubMed', 'id': '21406692'}, {'evidenceCode': 'ECO:0007744', 'source': 'PubMed', 'id': '24275569'}]}, {'type': 'Modified residue', 'location': {'start': {'value': 592, 'modifier': 'EXACT'}, 'end': {'value': 592, 'modifier': 'EXACT'}}, 'description': 'Phosphothreonine', 'evidences': [{'evidenceCode': 'ECO:0007744', 'source': 'PubMed', 'id': '16964243'}, {'evidenceCode': 'ECO:0007744', 'source': 'PubMed', 'id': '17081983'}, {'evidenceCode': 'ECO:0007744', 'source': 'PubMed', 'id': '19690332'}, {'evidenceCode': 'ECO:0007744', 'source': 'PubMed', 'id': '20068231'}, {'evidenceCode': 'ECO:0007744', 'source': 'PubMed', 'id': '21406692'}, {'evidenceCode': 'ECO:0007744', 'source': 'PubMed', 'id': '23186163'}]}, {'type': 'Modified residue', 'location': {'start': {'value': 792, 'modifier': 'EXACT'}, 'end': {'value': 792, 'modifier': 'EXACT'}}, 'description': 'Phosphoserine', 'evidences': [{'evidenceCode': 'ECO:0007744', 'source': 'PubMed', 'id': '18669648'}, {'evidenceCode': 'ECO:0007744', 'source': 'PubMed', 'id': '19690332'}, {'evidenceCode': 'ECO:0007744', 'source': 'PubMed', 'id': '21406692'}, {'evidenceCode': 'ECO:0007744', 'source': 'PubMed', 'id': '23186163'}]}, {'type': 'Modified residue', 'location': {'start': {'value': 810, 'modifier': 'EXACT'}, 'end': {'value': 810, 'modifier': 'EXACT'}}, 'description': 'Phosphoserine', 'evidences': [{'evidenceCode': 'ECO:0007744', 'source': 'PubMed', 'id': '24275569'}]}, {'type': 'Modified residue', 'location': {'start': {'value': 812, 'modifier': 'EXACT'}, 'end': {'value': 812, 'modifier': 'EXACT'}}, 'description': 'Phosphoserine', 'evidences': [{'evidenceCode': 'ECO:0007744', 'source': 'PubMed', 'id': '18669648'}, {'evidenceCode': 'ECO:0007744', 'source': 'PubMed', 'id': '20068231'}, {'evidenceCode': 'ECO:0007744', 'source': 'PubMed', 'id': '21406692'}]}, {'type': 'Modified residue', 'location': {'start': {'value': 816, 'modifier': 'EXACT'}, 'end': {'value': 816, 'modifier': 'EXACT'}}, 'description': 'Phosphoserine', 'evidences': [{'evidenceCode': 'ECO:0007744', 'source': 'PubMed', 'id': '23186163'}]}, {'type': 'Cross-link', 'location': {'start': {'value': 297, 'modifier': 'EXACT'}, 'end': {'value': 297, 'modifier': 'EXACT'}}, 'description': 'Glycyl lysine isopeptide (Lys-Gly) (interchain with G-Cter in ubiquitin)', 'evidences': [{'evidenceCode': 'ECO:0000269', 'source': 'PubMed', 'id': '34110282'}]}, {'type': 'Cross-link', 'location': {'start': {'value': 348, 'modifier': 'EXACT'}, 'end': {'value': 348, 'modifier': 'EXACT'}}, 'description': 'Glycyl lysine isopeptide (Lys-Gly) (interchain with G-Cter in SUMO1)', 'evidences': [{'evidenceCode': 'ECO:0007744', 'source': 'PubMed', 'id': '25114211'}]}, {'type': 'Cross-link', 'location': {'start': {'value': 396, 'modifier': 'EXACT'}, 'end': {'value': 396, 'modifier': 'EXACT'}}, 'description': 'Glycyl lysine isopeptide (Lys-Gly) (interchain with G-Cter in SUMO2)', 'evidences': [{'evidenceCode': 'ECO:0007744', 'source': 'PubMed', 'id': '28112733'}]}, {'type': 'Cross-link', 'location': {'start': {'value': 489, 'modifier': 'EXACT'}, 'end': {'value': 489, 'modifier': 'EXACT'}}, 'description': 'Glycyl lysine isopeptide (Lys-Gly) (interchain with G-Cter in SUMO2)', 'evidences': [{'evidenceCode': 'ECO:0007744', 'source': 'PubMed', 'id': '28112733'}]}, {'type': 'Alternative sequence', 'location': {'start': {'value': 516, 'modifier': 'EXACT'}, 'end': {'value': 516, 'modifier': 'EXACT'}}, 'description': 'in isoform 4, isoform 6 and isoform 7', 'evidences': [{'evidenceCode': 'ECO:0000303', 'source': 'PubMed', 'id': '11167023'}, {'evidenceCode': 'ECO:0000303', 'source': 'PubMed', 'id': '14702039'}, {'evidenceCode': 'ECO:0000303', 'source': 'PubMed', 'id': '15489334'}], 'featureId': 'VSP_003883', 'alternativeSequence': {'originalSequence': 'E', 'alternativeSequences': ['ENVKQ']}}, {'type': 'Alternative sequence', 'location': {'start': {'value': 687, 'modifier': 'EXACT'}, 'end': {'value': 690, 'modifier': 'EXACT'}}, 'description': 'in isoform 5', 'evidences': [{'evidenceCode': 'ECO:0000303', 'source': 'PubMed', 'id': '11167023'}], 'featureId': 'VSP_003886', 'alternativeSequence': {'originalSequence': 'SQFY', 'alternativeSequences': ['TGFV']}}, {'type': 'Alternative sequence', 'location': {'start': {'value': 688, 'modifier': 'EXACT'}, 'end': {'value': 702, 'modifier': 'EXACT'}}, 'description': 'in isoform 2 and isoform 6', 'evidences': [{'evidenceCode': 'ECO:0000303', 'source': 'PubMed', 'id': '10400669'}, {'evidenceCode': 'ECO:0000303', 'source': 'PubMed', 'id': '11161820'}, {'evidenceCode': 'ECO:0000303', 'source': 'PubMed', 'id': '11167023'}, {'evidenceCode': 'ECO:0000303', 'source': 'PubMed', 'id': '11438536'}, {'evidenceCode': 'ECO:0000303', 'source': 'PubMed', 'id': '14702039'}, {'evidenceCode': 'ECO:0000303', 'source': 'PubMed', 'id': '15489334'}, {'evidenceCode': 'ECO:0000303', 'source': 'Reference', 'id': 'Ref.13'}], 'featureId': 'VSP_003888', 'alternativeSequence': {'originalSequence': 'QFYSNGGHSGNASGG', 'alternativeSequences': ['DFFTDCYGYHDFGSS']}}, {'type': 'Alternative sequence', 'location': {'start': {'value': 688, 'modifier': 'EXACT'}, 'end': {'value': 694, 'modifier': 'EXACT'}}, 'description': 'in isoform 4', 'evidences': [{'evidenceCode': 'ECO:0000303', 'source': 'PubMed', 'id': '11167023'}], 'featureId': 'VSP_003884', 'alternativeSequence': {'originalSequence': 'QFYSNGG', 'alternativeSequences': ['KCAFLSV']}}, {'type': 'Alternative sequence', 'location': {'start': {'value': 690, 'modifier': 'EXACT'}, 'end': {'value': 764, 'modifier': 'EXACT'}}, 'description': 'in isoform 3', 'evidences': [{'evidenceCode': 'ECO:0000303', 'source': 'PubMed', 'id': '10607473'}, {'evidenceCode': 'ECO:0000303', 'source': 'Reference', 'id': 'Ref.13'}], 'featureId': 'VSP_003890', 'alternativeSequence': {'originalSequence': 'YSNGGHSGNASGGGGGGGGGSSGYGSYYQGDNYNSPVPPKHAGKKQPHGGQQKPSYGSGYQSHQGQQQSYNQSPY', 'alternativeSequences': ['SRPPPPSRPRCCVVRCSGSPCGPSCDPYLAVFGTPCLQWFVSCHYNFVWVEFLSFCSSVSLCLFTLRVSGNSVCL']}}, {'type': 'Alternative sequence', 'location': {'start': {'value': 691, 'modifier': 'EXACT'}, 'end': {'value': 894, 'modifier': 'EXACT'}}, 'description': 'in isoform 5', 'evidences': [{'evidenceCode': 'ECO:0000303', 'source': 'PubMed', 'id': '11167023'}], 'featureId': 'VSP_003887', 'alternativeSequence': {}}, {'type': 'Alternative sequence', 'location': {'start': {'value': 695, 'modifier': 'EXACT'}, 'end': {'value': 894, 'modifier': 'EXACT'}}, 'description': 'in isoform 4', 'evidences': [{'evidenceCode': 'ECO:0000303', 'source': 'PubMed', 'id': '11167023'}], 'featureId': 'VSP_003885', 'alternativeSequence': {}}, {'type': 'Alternative sequence', 'location': {'start': {'value': 703, 'modifier': 'EXACT'}, 'end': {'value': 894, 'modifier': 'EXACT'}}, 'description': 'in isoform 2 and isoform 6', 'evidences': [{'evidenceCode': 'ECO:0000303', 'source': 'PubMed', 'id': '10400669'}, {'evidenceCode': 'ECO:0000303', 'source': 'PubMed', 'id': '11161820'}, {'evidenceCode': 'ECO:0000303', 'source': 'PubMed', 'id': '11167023'}, {'evidenceCode': 'ECO:0000303', 'source': 'PubMed', 'id': '11438536'}, {'evidenceCode': 'ECO:0000303', 'source': 'PubMed', 'id': '14702039'}, {'evidenceCode': 'ECO:0000303', 'source': 'PubMed', 'id': '15489334'}, {'evidenceCode': 'ECO:0000303', 'source': 'Reference', 'id': 'Ref.13'}], 'featureId': 'VSP_003889', 'alternativeSequence': {}}, {'type': 'Alternative sequence', 'location': {'start': {'value': 765, 'modifier': 'EXACT'}, 'end': {'value': 894, 'modifier': 'EXACT'}}, 'description': 'in isoform 3', 'evidences': [{'evidenceCode': 'ECO:0000303', 'source': 'PubMed', 'id': '10607473'}, {'evidenceCode': 'ECO:0000303', 'source': 'Reference', 'id': 'Ref.13'}], 'featureId': 'VSP_003891', 'alternativeSequence': {}}, {'type': 'Natural variant', 'location': {'start': {'value': 50, 'modifier': 'EXACT'}, 'end': {'value': 50, 'modifier': 'EXACT'}}, 'description': 'in dbSNP:rs1064493', 'featureCrossReferences': [{'database': 'dbSNP', 'id': 'rs1064493'}], 'evidences': [{'evidenceCode': 'ECO:0000269', 'source': 'PubMed', 'id': '11161820'}], 'featureId': 'VAR_022159', 'alternativeSequence': {'originalSequence': 'D', 'alternativeSequences': ['H']}}, {'type': 'Natural variant', 'location': {'start': {'value': 501, 'modifier': 'EXACT'}, 'end': {'value': 501, 'modifier': 'EXACT'}}, 'description': 'in dbSNP:rs34520379', 'featureCrossReferences': [{'database': 'dbSNP', 'id': 'rs34520379'}], 'featureId': 'VAR_048906', 'alternativeSequence': {'originalSequence': 'A', 'alternativeSequences': ['S']}}, {'type': 'Sequence conflict', 'location': {'start': {'value': 101, 'modifier': 'EXACT'}, 'end': {'value': 101, 'modifier': 'EXACT'}}, 'description': 'in Ref. 5; AAD51098/AAD51099 and 6; AAK07424/AAK07425', 'evidences': [{'evidenceCode': 'ECO:0000305'}], 'alternativeSequence': {'originalSequence': 'G', 'alternativeSequences': ['C']}}, {'type': 'Sequence conflict', 'location': {'start': {'value': 260, 'modifier': 'EXACT'}, 'end': {'value': 260, 'modifier': 'EXACT'}}, 'description': 'in Ref. 2; AAD33966 and 11; CAA66918', 'evidences': [{'evidenceCode': 'ECO:0000305'}], 'alternativeSequence': {'originalSequence': 'G', 'alternativeSequences': ['V']}}, {'type': 'Sequence conflict', 'location': {'start': {'value': 647, 'modifier': 'EXACT'}, 'end': {'value': 647, 'modifier': 'EXACT'}}, 'description': 'in Ref. 2; AAD33966 and 6; AAK07424/AAK07425', 'evidences': [{'evidenceCode': 'ECO:0000305'}], 'alternativeSequence': {'originalSequence': 'S', 'alternativeSequences': ['T']}}, {'type': 'Sequence conflict', 'location': {'start': {'value': 688, 'modifier': 'EXACT'}, 'end': {'value': 689, 'modifier': 'EXACT'}}, 'description': 'in Ref. 13; AAF82687', 'evidences': [{'evidenceCode': 'ECO:0000305'}], 'alternativeSequence': {'originalSequence': 'QF', 'alternativeSequences': ['N']}}, {'type': 'Sequence conflict', 'location': {'start': {'value': 763, 'modifier': 'EXACT'}, 'end': {'value': 763, 'modifier': 'EXACT'}}, 'description': 'in Ref. 4; CAC01407', 'evidences': [{'evidenceCode': 'ECO:0000305'}], 'alternativeSequence': {'originalSequence': 'P', 'alternativeSequences': ['L']}}, {'type': 'Sequence conflict', 'location': {'start': {'value': 797, 'modifier': 'EXACT'}, 'end': {'value': 797, 'modifier': 'EXACT'}}, 'description': 'in Ref. 4; CAC01124 and 6; AAK07425', 'evidences': [{'evidenceCode': 'ECO:0000305'}], 'alternativeSequence': {'originalSequence': 'G', 'alternativeSequences': ['R']}}, {'type': 'Sequence conflict', 'location': {'start': {'value': 799, 'modifier': 'EXACT'}, 'end': {'value': 799, 'modifier': 'EXACT'}}, 'description': 'in Ref. 13; AAF82685', 'evidences': [{'evidenceCode': 'ECO:0000305'}], 'alternativeSequence': {'originalSequence': 'S', 'alternativeSequences': ['SGS']}}, {'type': 'Sequence conflict', 'location': {'start': {'value': 813, 'modifier': 'EXACT'}, 'end': {'value': 813, 'modifier': 'EXACT'}}, 'description': 'in Ref. 6; AAK07425', 'evidences': [{'evidenceCode': 'ECO:0000305'}], 'alternativeSequence': {'originalSequence': 'G', 'alternativeSequences': ['E']}}, {'type': 'Helix', 'location': {'start': {'value': 102, 'modifier': 'EXACT'}, 'end': {'value': 104, 'modifier': 'EXACT'}}, 'description': '', 'evidences': [{'evidenceCode': 'ECO:0007829', 'source': 'PDB', 'id': '7RJQ'}]}, {'type': 'Helix', 'location': {'start': {'value': 528, 'modifier': 'EXACT'}, 'end': {'value': 535, 'modifier': 'EXACT'}}, 'description': '', 'evidences': [{'evidenceCode': 'ECO:0007829', 'source': 'PDB', 'id': '3P1X'}]}, {'type': 'Beta strand', 'location': {'start': {'value': 541, 'modifier': 'EXACT'}, 'end': {'value': 548, 'modifier': 'EXACT'}}, 'description': '', 'evidences': [{'evidenceCode': 'ECO:0007829', 'source': 'PDB', 'id': '3P1X'}]}, {'type': 'Beta strand', 'location': {'start': {'value': 554, 'modifier': 'EXACT'}, 'end': {'value': 561, 'modifier': 'EXACT'}}, 'description': '', 'evidences': [{'evidenceCode': 'ECO:0007829', 'source': 'PDB', 'id': '3P1X'}]}, {'type': 'Beta strand', 'location': {'start': {'value': 564, 'modifier': 'EXACT'}, 'end': {'value': 572, 'modifier': 'EXACT'}}, 'description': '', 'evidences': [{'evidenceCode': 'ECO:0007829', 'source': 'PDB', 'id': '3P1X'}]}, {'type': 'Helix', 'location': {'start': {'value': 573, 'modifier': 'EXACT'}, 'end': {'value': 588, 'modifier': 'EXACT'}}, 'description': '', 'evidences': [{'evidenceCode': 'ECO:0007829', 'source': 'PDB', 'id': '3P1X'}]}, {'type': 'Modified residue', 'location': {'start': {'value': 482, 'modifier': 'EXACT'}, 'end': {'value': 482, 'modifier': 'EXACT'}, 'sequence': 'Q12906-4'}, 'description': 'Phosphoserine', 'evidences': [{'evidenceCode': 'ECO:0007744', 'source': 'PubMed', 'id': '18669648'}, {'evidenceCode': 'ECO:0007744', 'source': 'PubMed', 'id': '19690332'}]}, {'type': 'Modified residue', 'location': {'start': {'value': 482, 'modifier': 'EXACT'}, 'end': {'value': 482, 'modifier': 'EXACT'}, 'sequence': 'Q12906-6'}, 'description': 'Phosphoserine', 'evidences': [{'evidenceCode': 'ECO:0007744', 'source': 'PubMed', 'id': '18669648'}, {'evidenceCode': 'ECO:0007744', 'source': 'PubMed', 'id': '19690332'}]}, {'type': 'Modified residue', 'location': {'start': {'value': 482, 'modifier': 'EXACT'}, 'end': {'value': 482, 'modifier': 'EXACT'}, 'sequence': 'Q12906-7'}, 'description': 'Phosphoserine', 'evidences': [{'evidenceCode': 'ECO:0007744', 'source': 'PubMed', 'id': '18669648'}, {'evidenceCode': 'ECO:0007744', 'source': 'PubMed', 'id': '19690332'}]}], 'keywords': [{'id': 'KW-0002', 'category': 'Technical term', 'name': '3D-structure'}, {'id': 'KW-0007', 'category': 'PTM', 'name': 'Acetylation'}, {'id': 'KW-0025', 'category': 'Coding sequence diversity', 'name': 'Alternative splicing'}, {'id': 'KW-0051', 'category': 'Biological process', 'name': 'Antiviral defense'}, {'id': 'KW-0963', 'category': 'Cellular component', 'name': 'Cytoplasm'}, {'id': 'KW-0903', 'category': 'Technical term', 'name': 'Direct protein sequencing'}, {'id': 'KW-0238', 'category': 'Molecular function', 'name': 'DNA-binding'}, {'id': 'KW-1017', 'category': 'PTM', 'name': 'Isopeptide bond'}, {'id': 'KW-0488', 'category': 'PTM', 'name': 'Methylation'}, {'id': 'KW-0539', 'category': 'Cellular component', 'name': 'Nucleus'}, {'id': 'KW-0597', 'category': 'PTM', 'name': 'Phosphoprotein'}, {'id': 'KW-1267', 'category': 'Technical term', 'name': 'Proteomics identification'}, {'id': 'KW-1185', 'category': 'Technical term', 'name': 'Reference proteome'}, {'id': 'KW-0677', 'category': 'Domain', 'name': 'Repeat'}, {'id': 'KW-0694', 'category': 'Molecular function', 'name': 'RNA-binding'}, {'id': 'KW-0804', 'category': 'Biological process', 'name': 'Transcription'}, {'id': 'KW-0805', 'category': 'Biological process', 'name': 'Transcription regulation'}, {'id': 'KW-0832', 'category': 'PTM', 'name': 'Ubl conjugation'}], 'references': [{'referenceNumber': 1, 'citation': {'id': '7519613', 'citationType': 'journal article', 'authors': ['Kao P.N.', 'Chen L.', 'Brock G.', 'Ng J.', 'Kenny J.', 'Smith A.J.', 'Corthesy B.'], 'citationCrossReferences': [{'database': 'PubMed', 'id': '7519613'}, {'database': 'DOI', 'id': '10.1016/s0021-9258(17)32048-3'}], 'title': 'Cloning and expression of cyclosporin A- and FK506-sensitive nuclear factor of activated T-cells: NF45 and NF90.', 'publicationDate': '1994', 'journal': 'J. Biol. Chem.', 'firstPage': '20691', 'lastPage': '20699', 'volume': '269'}, 'referencePositions': ['PRELIMINARY NUCLEOTIDE SEQUENCE [MRNA]', 'PROTEIN SEQUENCE OF 19-41; 491-510 AND 555-565'], 'referenceComments': [{'value': 'T-cell lymphoma', 'type': 'TISSUE'}]}, {'referenceNumber': 2, 'citation': {'id': '10400669', 'citationType': 'journal article', 'authors': ['Patel R.C.', 'Vestal D.J.', 'Xu Z.', 'Bandyopadhyay S.', 'Guo W.', 'Erme S.M.', 'Williams B.R.', 'Sen G.C.'], 'citationCrossReferences': [{'database': 'PubMed', 'id': '10400669'}, {'database': 'DOI', 'id': '10.1074/jbc.274.29.20432'}], 'title': 'DRBP76, a double-stranded RNA-binding nuclear protein, is phosphorylated by the interferon-induced protein kinase, PKR.', 'publicationDate': '1999', 'journal': 'J. Biol. Chem.', 'firstPage': '20432', 'lastPage': '20437', 'volume': '274'}, 'referencePositions': ['NUCLEOTIDE SEQUENCE [MRNA] (ISOFORM 2)', 'PROTEIN SEQUENCE OF N-TERMINUS'], 'referenceComments': [{'value': 'Cervix carcinoma', 'type': 'TISSUE'}]}, {'referenceNumber': 3, 'citation': {'id': '10607473', 'citationType': 'journal article', 'authors': ['Xu Y.-H.', 'Grabowski G.A.'], 'citationCrossReferences': [{'database': 'PubMed', 'id': '10607473'}, {'database': 'DOI', 'id': '10.1006/mgme.1999.2934'}], 'title': 'Molecular cloning and characterization of a translational inhibitory protein that binds to coding sequences of human acid beta-glucosidase and other mRNAs.', 'publicationDate': '1999', 'journal': 'Mol. Genet. Metab.', 'firstPage': '441', 'lastPage': '454', 'volume': '68'}, 'referencePositions': ['NUCLEOTIDE SEQUENCE [MRNA] (ISOFORM 3)', 'CHARACTERIZATION'], 'referenceComments': [{'value': 'Liver', 'type': 'TISSUE'}]}, {'referenceNumber': 4, 'citation': {'id': '11167023', 'citationType': 'journal article', 'authors': ['Duchange N.', 'Pidoux J.', 'Camus E.', 'Sauvaget D.'], 'citationCrossReferences': [{'database': 'PubMed', 'id': '11167023'}, {'database': 'DOI', 'id': '10.1016/s0378-1119(00)00495-9'}], 'title': 'Alternative splicing in the human interleukin enhancer binding factor 3 (ILF3) gene.', 'publicationDate': '2000', 'journal': 'Gene', 'firstPage': '345', 'lastPage': '353', 'volume': '261'}, 'referencePositions': ['NUCLEOTIDE SEQUENCE [GENOMIC DNA / MRNA] (ISOFORMS 1; 2; 4 AND 5)', 'ALTERNATIVE SPLICING'], 'referenceComments': [{'value': 'Melanoma', 'type': 'TISSUE'}]}, {'referenceNumber': 5, 'citation': {'id': '11438536', 'citationType': 'journal article', 'authors': ['Saunders L.R.', 'Perkins D.J.', 'Balachandran S.', 'Michaels R.', 'Ford R.', 'Mayeda A.', 'Barber G.N.'], 'citationCrossReferences': [{'database': 'PubMed', 'id': '11438536'}, {'database': 'DOI', 'id': '10.1074/jbc.m104207200'}], 'title': 'Characterization of two evolutionarily conserved, alternatively spliced nuclear phosphoproteins, NFAR-1 and -2, that function in mRNA processing and interact with the double-stranded RNA-dependent protein kinase, PKR.', 'publicationDate': '2001', 'journal': 'J. Biol. Chem.', 'firstPage': '32300', 'lastPage': '32312', 'volume': '276'}, 'referencePositions': ['NUCLEOTIDE SEQUENCE [GENOMIC DNA / MRNA] (ISOFORMS 1 AND 2)', 'CHARACTERIZATION']}, {'referenceNumber': 6, 'citation': {'id': '11161820', 'citationType': 'journal article', 'authors': ['Saunders L.R.', 'Jurecic V.', 'Barber G.N.'], 'citationCrossReferences': [{'database': 'PubMed', 'id': '11161820'}, {'database': 'DOI', 'id': '10.1006/geno.2000.6423'}], 'title': 'The 90- and 110-kDa human NFAR proteins are translated from two differentially spliced mRNAs encoded on chromosome 19p13.', 'publicationDate': '2001', 'journal': 'Genomics', 'firstPage': '256', 'lastPage': '259', 'volume': '71'}, 'referencePositions': ['NUCLEOTIDE SEQUENCE [GENOMIC DNA / MRNA] (ISOFORMS 1 AND 2)', 'VARIANT HIS-50'], 'referenceComments': [{'value': 'T-cell', 'type': 'TISSUE'}]}, {'referenceNumber': 7, 'citation': {'id': '14702039', 'citationType': 'journal article', 'authors': ['Ota T.', 'Suzuki Y.', 'Nishikawa T.', 'Otsuki T.', 'Sugiyama T.', 'Irie R.', 'Wakamatsu A.', 'Hayashi K.', 'Sato H.', 'Nagai K.', 'Kimura K.', 'Makita H.', 'Sekine M.', 'Obayashi M.', 'Nishi T.', 'Shibahara T.', 'Tanaka T.', 'Ishii S.', 'Yamamoto J.', 'Saito K.', 'Kawai Y.', 'Isono Y.', 'Nakamura Y.', 'Nagahari K.', 'Murakami K.', 'Yasuda T.', 'Iwayanagi T.', 'Wagatsuma M.', 'Shiratori A.', 'Sudo H.', 'Hosoiri T.', 'Kaku Y.', 'Kodaira H.', 'Kondo H.', 'Sugawara M.', 'Takahashi M.', 'Kanda K.', 'Yokoi T.', 'Furuya T.', 'Kikkawa E.', 'Omura Y.', 'Abe K.', 'Kamihara K.', 'Katsuta N.', 'Sato K.', 'Tanikawa M.', 'Yamazaki M.', 'Ninomiya K.', 'Ishibashi T.', 'Yamashita H.', 'Murakawa K.', 'Fujimori K.', 'Tanai H.', 'Kimata M.', 'Watanabe M.', 'Hiraoka S.', 'Chiba Y.', 'Ishida S.', 'Ono Y.', 'Takiguchi S.', 'Watanabe S.', 'Yosida M.', 'Hotuta T.', 'Kusano J.', 'Kanehori K.', 'Takahashi-Fujii A.', 'Hara H.', 'Tanase T.-O.', 'Nomura Y.', 'Togiya S.', 'Komai F.', 'Hara R.', 'Takeuchi K.', 'Arita M.', 'Imose N.', 'Musashino K.', 'Yuuki H.', 'Oshima A.', 'Sasaki N.', 'Aotsuka S.', 'Yoshikawa Y.', 'Matsunawa H.', 'Ichihara T.', 'Shiohata N.', 'Sano S.', 'Moriya S.', 'Momiyama H.', 'Satoh N.', 'Takami S.', 'Terashima Y.', 'Suzuki O.', 'Nakagawa S.', 'Senoh A.', 'Mizoguchi H.', 'Goto Y.', 'Shimizu F.', 'Wakebe H.', 'Hishigaki H.', 'Watanabe T.', 'Sugiyama A.', 'Takemoto M.', 'Kawakami B.', 'Yamazaki M.', 'Watanabe K.', 'Kumagai A.', 'Itakura S.', 'Fukuzumi Y.', 'Fujimori Y.', 'Komiyama M.', 'Tashiro H.', 'Tanigami A.', 'Fujiwara T.', 'Ono T.', 'Yamada K.', 'Fujii Y.', 'Ozaki K.', 'Hirao M.', 'Ohmori Y.', 'Kawabata A.', 'Hikiji T.', 'Kobatake N.', 'Inagaki H.', 'Ikema Y.', 'Okamoto S.', 'Okitani R.', 'Kawakami T.', 'Noguchi S.', 'Itoh T.', 'Shigeta K.', 'Senba T.', 'Matsumura K.', 'Nakajima Y.', 'Mizuno T.', 'Morinaga M.', 'Sasaki M.', 'Togashi T.', 'Oyama M.', 'Hata H.', 'Watanabe M.', 'Komatsu T.', 'Mizushima-Sugano J.', 'Satoh T.', 'Shirai Y.', 'Takahashi Y.', 'Nakagawa K.', 'Okumura K.', 'Nagase T.', 'Nomura N.', 'Kikuchi H.', 'Masuho Y.', 'Yamashita R.', 'Nakai K.', 'Yada T.', 'Nakamura Y.', 'Ohara O.', 'Isogai T.', 'Sugano S.'], 'citationCrossReferences': [{'database': 'PubMed', 'id': '14702039'}, {'database': 'DOI', 'id': '10.1038/ng1285'}], 'title': 'Complete sequencing and characterization of 21,243 full-length human cDNAs.', 'publicationDate': '2004', 'journal': 'Nat. Genet.', 'firstPage': '40', 'lastPage': '45', 'volume': '36'}, 'referencePositions': ['NUCLEOTIDE SEQUENCE [LARGE SCALE MRNA] (ISOFORM 6)'], 'referenceComments': [{'value': 'Placenta', 'type': 'TISSUE'}]}, {'referenceNumber': 8, 'citation': {'id': '15057824', 'citationType': 'journal article', 'authors': ['Grimwood J.', 'Gordon L.A.', 'Olsen A.S.', 'Terry A.', 'Schmutz J.', 'Lamerdin J.E.', 'Hellsten U.', 'Goodstein D.', 'Couronne O.', 'Tran-Gyamfi M.', 'Aerts A.', 'Altherr M.', 'Ashworth L.', 'Bajorek E.', 'Black S.', 'Branscomb E.', 'Caenepeel S.', 'Carrano A.V.', 'Caoile C.', 'Chan Y.M.', 'Christensen M.', 'Cleland C.A.', 'Copeland A.', 'Dalin E.', 'Dehal P.', 'Denys M.', 'Detter J.C.', 'Escobar J.', 'Flowers D.', 'Fotopulos D.', 'Garcia C.', 'Georgescu A.M.', 'Glavina T.', 'Gomez M.', 'Gonzales E.', 'Groza M.', 'Hammon N.', 'Hawkins T.', 'Haydu L.', 'Ho I.', 'Huang W.', 'Israni S.', 'Jett J.', 'Kadner K.', 'Kimball H.', 'Kobayashi A.', 'Larionov V.', 'Leem S.-H.', 'Lopez F.', 'Lou Y.', 'Lowry S.', 'Malfatti S.', 'Martinez D.', 'McCready P.M.', 'Medina C.', 'Morgan J.', 'Nelson K.', 'Nolan M.', 'Ovcharenko I.', 'Pitluck S.', 'Pollard M.', 'Popkie A.P.', 'Predki P.', 'Quan G.', 'Ramirez L.', 'Rash S.', 'Retterer J.', 'Rodriguez A.', 'Rogers S.', 'Salamov A.', 'Salazar A.', 'She X.', 'Smith D.', 'Slezak T.', 'Solovyev V.', 'Thayer N.', 'Tice H.', 'Tsai M.', 'Ustaszewska A.', 'Vo N.', 'Wagner M.', 'Wheeler J.', 'Wu K.', 'Xie G.', 'Yang J.', 'Dubchak I.', 'Furey T.S.', 'DeJong P.', 'Dickson M.', 'Gordon D.', 'Eichler E.E.', 'Pennacchio L.A.', 'Richardson P.', 'Stubbs L.', 'Rokhsar D.S.', 'Myers R.M.', 'Rubin E.M.', 'Lucas S.M.'], 'citationCrossReferences': [{'database': 'PubMed', 'id': '15057824'}, {'database': 'DOI', 'id': '10.1038/nature02399'}], 'title': 'The DNA sequence and biology of human chromosome 19.', 'publicationDate': '2004', 'journal': 'Nature', 'firstPage': '529', 'lastPage': '535', 'volume': '428'}, 'referencePositions': ['NUCLEOTIDE SEQUENCE [LARGE SCALE GENOMIC DNA]']}, {'referenceNumber': 9, 'citation': {'id': 'CI-5GBDQ6B103N1E', 'citationType': 'submission', 'authors': ['Mural R.J.', 'Istrail S.', 'Sutton G.G.', 'Florea L.', 'Halpern A.L.', 'Mobarry C.M.', 'Lippert R.', 'Walenz B.', 'Shatkay H.', 'Dew I.', 'Miller J.R.', 'Flanigan M.J.', 'Edwards N.J.', 'Bolanos R.', 'Fasulo D.', 'Halldorsson B.V.', 'Hannenhalli S.', 'Turner R.', 'Yooseph S.', 'Lu F.', 'Nusskern D.R.', 'Shue B.C.', 'Zheng X.H.', 'Zhong F.', 'Delcher A.L.', 'Huson D.H.', 'Kravitz S.A.', 'Mouchard L.', 'Reinert K.', 'Remington K.A.', 'Clark A.G.', 'Waterman M.S.', 'Eichler E.E.', 'Adams M.D.', 'Hunkapiller M.W.', 'Myers E.W.', 'Venter J.C.'], 'publicationDate': 'JUL-2005', 'submissionDatabase': 'EMBL/GenBank/DDBJ databases'}, 'referencePositions': ['NUCLEOTIDE SEQUENCE [LARGE SCALE GENOMIC DNA]']}, {'referenceNumber': 10, 'citation': {'id': '15489334', 'citationType': 'journal article', 'authoringGroup': ['The MGC Project Team'], 'citationCrossReferences': [{'database': 'PubMed', 'id': '15489334'}, {'database': 'DOI', 'id': '10.1101/gr.2596504'}], 'title': 'The status, quality, and expansion of the NIH full-length cDNA project: the Mammalian Gene Collection (MGC).', 'publicationDate': '2004', 'journal': 'Genome Res.', 'firstPage': '2121', 'lastPage': '2127', 'volume': '14'}, 'referencePositions': ['NUCLEOTIDE SEQUENCE [LARGE SCALE MRNA] (ISOFORM 6)'], 'referenceComments': [{'value': 'Duodenum', 'type': 'TISSUE'}, {'value': 'Uterus', 'type': 'TISSUE'}]}, {'referenceNumber': 11, 'citation': {'id': '8885239', 'citationType': 'journal article', 'authors': ['Matsumoto-Taniura N.', 'Pirollet F.', 'Monroe R.', 'Gerace L.', 'Westendorf J.M.'], 'citationCrossReferences': [{'database': 'PubMed', 'id': '8885239'}, {'database': 'DOI', 'id': '10.1091/mbc.7.9.1455'}], 'title': 'Identification of novel M phase phosphoproteins by expression cloning.', 'publicationDate': '1996', 'journal': 'Mol. Biol. Cell', 'firstPage': '1455', 'lastPage': '1469', 'volume': '7'}, 'referencePositions': ['NUCLEOTIDE SEQUENCE [MRNA] OF 1-611'], 'referenceComments': [{'value': 'Blood', 'type': 'TISSUE'}, {'value': 'Cervix', 'type': 'TISSUE'}]}, {'referenceNumber': 12, 'citation': {'id': '9442054', 'citationType': 'journal article', 'authors': ['Ting N.S.Y.', 'Kao P.N.', 'Chan D.W.', 'Lintott L.G.', 'Lees-Miller S.P.'], 'citationCrossReferences': [{'database': 'PubMed', 'id': '9442054'}, {'database': 'DOI', 'id': '10.1074/jbc.273.4.2136'}], 'title': 'DNA-dependent protein kinase interacts with antigen receptor response element binding proteins NF90 and NF45.', 'publicationDate': '1998', 'journal': 'J. Biol. Chem.', 'firstPage': '2136', 'lastPage': '2145', 'volume': '273'}, 'referencePositions': ['PROTEIN SEQUENCE OF 1-10', 'FUNCTION', 'INTERACTION WITH XRCC6; PRKDC AND XRCC5']}, {'referenceNumber': 13, 'citation': {'id': 'CI-5MDHA0LQ8LSFG', 'citationType': 'submission', 'authors': ['MacArdle J.', 'Cantarella G.M.', 'Veyrune J.-L.', 'Krasnoselskaya I.', 'Kumar A.'], 'title': 'Structure and functional characterization of hDRBF gene.', 'publicationDate': 'NOV-1999', 'submissionDatabase': 'EMBL/GenBank/DDBJ databases'}, 'referencePositions': ['NUCLEOTIDE SEQUENCE [MRNA] OF 188-894 (ISOFORMS 1; 2 AND 3)']}, {'referenceNumber': 14, 'citation': {'id': 'CI-1VRMTLFHUFGGC', 'citationType': 'submission', 'authors': ['Yu W.', 'Sarginson J.', 'Gibbs R.A.'], 'publicationDate': 'JUN-1997', 'submissionDatabase': 'EMBL/GenBank/DDBJ databases'}, 'referencePositions': ['NUCLEOTIDE SEQUENCE [LARGE SCALE MRNA] OF 587-894 (ISOFORM 1)'], 'referenceComments': [{'value': 'Brain', 'type': 'TISSUE'}]}, {'referenceNumber': 15, 'citation': {'id': '10574923', 'citationType': 'journal article', 'authors': ['Satoh M.', 'Shaheen V.M.', 'Kao P.N.', 'Okano T.', 'Shaw M.', 'Yoshida H.', 'Richards H.B.', 'Reeves W.H.'], 'citationCrossReferences': [{'database': 'PubMed', 'id': '10574923'}, {'database': 'DOI', 'id': '10.1074/jbc.274.49.34598'}], 'title': 'Autoantibodies define a family of proteins with conserved double-stranded RNA-binding domains as well as DNA binding activity.', 'publicationDate': '1999', 'journal': 'J. Biol. Chem.', 'firstPage': '34598', 'lastPage': '34604', 'volume': '274'}, 'referencePositions': ['INTERACTION WITH ILF2']}, {'referenceNumber': 16, 'citation': {'id': '10749851', 'citationType': 'journal article', 'authors': ['Tang J.', 'Kao P.N.', 'Herschman H.R.'], 'citationCrossReferences': [{'database': 'PubMed', 'id': '10749851'}, {'database': 'DOI', 'id': '10.1074/jbc.m000023200'}], 'title': 'Protein-arginine methyltransferase I, the predominant protein-arginine methyltransferase in cells, interacts with and is regulated by interleukin enhancer-binding factor 3.', 'publicationDate': '2000', 'journal': 'J. Biol. Chem.', 'firstPage': '19866', 'lastPage': '19876', 'volume': '275'}, 'referencePositions': ['INTERACTION WITH PRMT1', 'SUBCELLULAR LOCATION', 'METHYLATION']}, {'referenceNumber': 17, 'citation': {'id': '11777942', 'citationType': 'journal article', 'authors': ['Brownawell A.M.', 'Macara I.G.'], 'citationCrossReferences': [{'database': 'PubMed', 'id': '11777942'}, {'database': 'DOI', 'id': '10.1083/jcb.200110082'}], 'title': 'Exportin-5, a novel karyopherin, mediates nuclear export of double-stranded RNA binding proteins.', 'publicationDate': '2002', 'journal': 'J. Cell Biol.', 'firstPage': '53', 'lastPage': '64', 'volume': '156'}, 'referencePositions': ['IDENTIFICATION IN A NUCLEAR EXPORT RECEPTOR COMPLEX WITH XPO5; RAN AND DOUBLE-STRANDED RNA', 'INTERACTION WITH XPO5']}, {'referenceNumber': 18, 'citation': {'id': '12429849', 'citationType': 'journal article', 'authors': ['Scherl A.', 'Coute Y.', 'Deon C.', 'Calle A.', 'Kindbeiter K.', 'Sanchez J.-C.', 'Greco A.', 'Hochstrasser D.F.', 'Diaz J.-J.'], 'citationCrossReferences': [{'database': 'PubMed', 'id': '12429849'}, {'database': 'DOI', 'id': '10.1091/mbc.e02-05-0271'}], 'title': 'Functional proteomic analysis of human nucleolus.', 'publicationDate': '2002', 'journal': 'Mol. Biol. Cell', 'firstPage': '4100', 'lastPage': '4109', 'volume': '13'}, 'referencePositions': ['SUBCELLULAR LOCATION [LARGE SCALE ANALYSIS]'], 'referenceComments': [{'value': 'Cervix carcinoma', 'type': 'TISSUE'}]}, {'referenceNumber': 19, 'citation': {'id': '11739746', 'citationType': 'journal article', 'authors': ['Reichman T.W.', 'Muniz L.C.', 'Mathews M.B.'], 'citationCrossReferences': [{'database': 'PubMed', 'id': '11739746'}, {'database': 'DOI', 'id': '10.1128/mcb.22.1.343-356.2002'}], 'title': 'The RNA binding protein nuclear factor 90 functions as both a positive and negative regulator of gene expression in mammalian cells.', 'publicationDate': '2002', 'journal': 'Mol. Cell. Biol.', 'firstPage': '343', 'lastPage': '356', 'volume': '22'}, 'referencePositions': ['INTERACTION WITH ILF2']}, {'referenceNumber': 20, 'citation': {'id': '14570900', 'citationType': 'journal article', 'authors': ['Gwizdek C.', 'Ossareh-Nazari B.', 'Brownawell A.M.', 'Evers S.', 'Macara I.G.', 'Dargemont C.'], 'citationCrossReferences': [{'database': 'PubMed', 'id': '14570900'}, {'database': 'DOI', 'id': '10.1074/jbc.m306808200'}], 'title': 'Minihelix-containing RNAs mediate exportin-5-dependent nuclear export of the double-stranded RNA-binding protein ILF3.', 'publicationDate': '2004', 'journal': 'J. Biol. Chem.', 'firstPage': '884', 'lastPage': '891', 'volume': '279'}, 'referencePositions': ['IDENTIFICATION IN A NUCLEAR EXPORT RECEPTOR COMPLEX WITH XPO5; RAN AND VA1 RNA']}, {'referenceNumber': 21, 'citation': {'id': '14731398', 'citationType': 'journal article', 'authors': ['Tran H.', 'Schilling M.', 'Wirbelauer C.', 'Hess D.', 'Nagamine Y.'], 'citationCrossReferences': [{'database': 'PubMed', 'id': '14731398'}, {'database': 'DOI', 'id': '10.1016/s1097-2765(03)00481-7'}], 'title': 'Facilitation of mRNA deadenylation and decay by the exosome-bound, DExH protein RHAU.', 'publicationDate': '2004', 'journal': 'Mol. Cell', 'firstPage': '101', 'lastPage': '111', 'volume': '13'}, 'referencePositions': ['FUNCTION', 'INTERACTION WITH DHX36 AND ELAVL1', 'IDENTIFICATION BY MASS SPECTROMETRY']}, {'referenceNumber': 22, 'citation': {'id': '15254228', 'citationType': 'journal article', 'authors': ['Chen T.', 'Brownawell A.M.', 'Macara I.G.'], 'citationCrossReferences': [{'database': 'PubMed', 'id': '15254228'}, {'database': 'DOI', 'id': '10.1128/mcb.24.15.6608-6619.2004'}], 'title': 'Nucleocytoplasmic shuttling of JAZ, a new cargo protein for exportin-5.', 'publicationDate': '2004', 'journal': 'Mol. Cell. Biol.', 'firstPage': '6608', 'lastPage': '6619', 'volume': '24'}, 'referencePositions': ['IDENTIFICATION IN A NUCLEAR EXPORT RECEPTOR COMPLEX WITH XPO5; RAN; ZNF346 AND DOUBLE-STRANDED RNA', 'INTERACTION WITH XPO5 AND ZNF346']}, {'referenceNumber': 23, 'citation': {'id': '17081983', 'citationType': 'journal article', 'authors': ['Olsen J.V.', 'Blagoev B.', 'Gnad F.', 'Macek B.', 'Kumar C.', 'Mortensen P.', 'Mann M.'], 'citationCrossReferences': [{'database': 'PubMed', 'id': '17081983'}, {'database': 'DOI', 'id': '10.1016/j.cell.2006.09.026'}], 'title': 'Global, in vivo, and site-specific phosphorylation dynamics in signaling networks.', 'publicationDate': '2006', 'journal': 'Cell', 'firstPage': '635', 'lastPage': '648', 'volume': '127'}, 'referencePositions': ['PHOSPHORYLATION [LARGE SCALE ANALYSIS] AT SER-482 AND THR-592', 'IDENTIFICATION BY MASS SPECTROMETRY [LARGE SCALE ANALYSIS]'], 'referenceComments': [{'value': 'Cervix carcinoma', 'type': 'TISSUE'}]}, {'referenceNumber': 24, 'citation': {'id': '16964243', 'citationType': 'journal article', 'authors': ['Beausoleil S.A.', 'Villen J.', 'Gerber S.A.', 'Rush J.', 'Gygi S.P.'], 'citationCrossReferences': [{'database': 'PubMed', 'id': '16964243'}, {'database': 'DOI', 'id': '10.1038/nbt1240'}], 'title': 'A probability-based approach for high-throughput protein phosphorylation analysis and site localization.', 'publicationDate': '2006', 'journal': 'Nat. Biotechnol.', 'firstPage': '1285', 'lastPage': '1292', 'volume': '24'}, 'referencePositions': ['PHOSPHORYLATION [LARGE SCALE ANALYSIS] AT THR-592', 'IDENTIFICATION BY MASS SPECTROMETRY [LARGE SCALE ANALYSIS]'], 'referenceComments': [{'value': 'Cervix carcinoma', 'type': 'TISSUE'}]}, {'referenceNumber': 25, 'citation': {'id': '17890166', 'citationType': 'journal article', 'authors': ['Ulke-Lemee A.', 'Trinkle-Mulcahy L.', 'Chaulk S.', 'Bernstein N.K.', 'Morrice N.', 'Glover M.', 'Lamond A.I.', 'Moorhead G.B.G.'], 'citationCrossReferences': [{'database': 'PubMed', 'id': '17890166'}, {'database': 'DOI', 'id': '10.1016/j.bbapap.2007.07.015'}], 'title': 'The nuclear PP1 interacting protein ZAP3 (ZAP) is a putative nucleoside kinase that complexes with SAM68, CIA, NF110/45, and HNRNP-G.', 'publicationDate': '2007', 'journal': 'Biochim. Biophys. Acta', 'firstPage': '1339', 'lastPage': '1350', 'volume': '1774'}, 'referencePositions': ['IDENTIFICATION IN A COMPLEX WITH ILF2; YLPM1; KHDRBS1; RBMX; NCOA5 AND PPP1CA']}, {'referenceNumber': 26, 'citation': {'id': '17932509', 'citationType': 'journal article', 'authors': ['Hoeck J.', 'Weinmann L.', 'Ender C.', 'Ruedel S.', 'Kremmer E.', 'Raabe M.', 'Urlaub H.', 'Meister G.'], 'citationCrossReferences': [{'database': 'PubMed', 'id': '17932509'}, {'database': 'DOI', 'id': '10.1038/sj.embor.7401088'}], 'title': 'Proteomic and functional analysis of Argonaute-containing mRNA-protein complexes in human cells.', 'publicationDate': '2007', 'journal': 'EMBO Rep.', 'firstPage': '1052', 'lastPage': '1060', 'volume': '8'}, 'referencePositions': ['INTERACTION WITH AGO1 AND AGO2']}, {'referenceNumber': 27, 'citation': {'id': '17289661', 'citationType': 'journal article', 'authors': ['Joeson L.', 'Vikesaa J.', 'Krogh A.', 'Nielsen L.K.', 'Hansen T.', 'Borup R.', 'Johnsen A.H.', 'Christiansen J.', 'Nielsen F.C.'], 'citationCrossReferences': [{'database': 'PubMed', 'id': '17289661'}, {'database': 'DOI', 'id': '10.1074/mcp.m600346-mcp200'}], 'title': 'Molecular composition of IMP1 ribonucleoprotein granules.', 'publicationDate': '2007', 'journal': 'Mol. Cell. Proteomics', 'firstPage': '798', 'lastPage': '811', 'volume': '6'}, 'referencePositions': ['IDENTIFICATION IN A MRNP GRANULE COMPLEX', 'IDENTIFICATION BY MASS SPECTROMETRY', 'SUBCELLULAR LOCATION']}, {'referenceNumber': 28, 'citation': {'id': '18669648', 'citationType': 'journal article', 'authors': ['Dephoure N.', 'Zhou C.', 'Villen J.', 'Beausoleil S.A.', 'Bakalarski C.E.', 'Elledge S.J.', 'Gygi S.P.'], 'citationCrossReferences': [{'database': 'PubMed', 'id': '18669648'}, {'database': 'DOI', 'id': '10.1073/pnas.0805139105'}], 'title': 'A quantitative atlas of mitotic phosphorylation.', 'publicationDate': '2008', 'journal': 'Proc. Natl. Acad. Sci. U.S.A.', 'firstPage': '10762', 'lastPage': '10767', 'volume': '105'}, 'referencePositions': ['PHOSPHORYLATION [LARGE SCALE ANALYSIS] AT SER-190; SER-792 AND SER-812', 'PHOSPHORYLATION [LARGE SCALE ANALYSIS] AT SER-482 (ISOFORMS 4; 6 AND 7)', 'IDENTIFICATION BY MASS SPECTROMETRY [LARGE SCALE ANALYSIS]'], 'referenceComments': [{'value': 'Cervix carcinoma', 'type': 'TISSUE'}]}, {'referenceNumber': 29, 'citation': {'id': '19413330', 'citationType': 'journal article', 'authors': ['Gauci S.', 'Helbig A.O.', 'Slijper M.', 'Krijgsveld J.', 'Heck A.J.', 'Mohammed S.'], 'citationCrossReferences': [{'database': 'PubMed', 'id': '19413330'}, {'database': 'DOI', 'id': '10.1021/ac9004309'}], 'title': 'Lys-N and trypsin cover complementary parts of the phosphoproteome in a refined SCX-based approach.', 'publicationDate': '2009', 'journal': 'Anal. Chem.', 'firstPage': '4493', 'lastPage': '4501', 'volume': '81'}, 'referencePositions': ['IDENTIFICATION BY MASS SPECTROMETRY [LARGE SCALE ANALYSIS]']}, {'referenceNumber': 30, 'citation': {'id': '19029303', 'citationType': 'journal article', 'authors': ['Weidensdorfer D.', 'Stoehr N.', 'Baude A.', 'Lederer M.', 'Koehn M.', 'Schierhorn A.', 'Buchmeier S.', 'Wahle E.', 'Huettelmaiery S.'], 'citationCrossReferences': [{'database': 'PubMed', 'id': '19029303'}, {'database': 'DOI', 'id': '10.1261/rna.1175909'}], 'title': 'Control of c-myc mRNA stability by IGF2BP1-associated cytoplasmic RNPs.', 'publicationDate': '2009', 'journal': 'RNA', 'firstPage': '104', 'lastPage': '115', 'volume': '15'}, 'referencePositions': ['IDENTIFICATION IN A MRNP COMPLEX', 'IDENTIFICATION BY MASS SPECTROMETRY']}, {'referenceNumber': 31, 'citation': {'id': '19690332', 'citationType': 'journal article', 'authors': ['Mayya V.', 'Lundgren D.H.', 'Hwang S.-I.', 'Rezaul K.', 'Wu L.', 'Eng J.K.', 'Rodionov V.', 'Han D.K.'], 'citationCrossReferences': [{'database': 'PubMed', 'id': '19690332'}, {'database': 'DOI', 'id': '10.1126/scisignal.2000007'}], 'title': 'Quantitative phosphoproteomic analysis of T cell receptor signaling reveals system-wide modulation of protein-protein interactions.', 'publicationDate': '2009', 'journal': 'Sci. Signal.', 'firstPage': 'RA46', 'lastPage': 'RA46', 'volume': '2'}, 'referencePositions': ['PHOSPHORYLATION [LARGE SCALE ANALYSIS] AT THR-592 AND SER-792', 'PHOSPHORYLATION [LARGE SCALE ANALYSIS] AT SER-482 (ISOFORMS 4; 6 AND 7)', 'IDENTIFICATION BY MASS SPECTROMETRY [LARGE SCALE ANALYSIS]'], 'referenceComments': [{'value': 'Leukemic T-cell', 'type': 'TISSUE'}]}, {'referenceNumber': 32, 'citation': {'id': '19608861', 'citationType': 'journal article', 'authors': ['Choudhary C.', 'Kumar C.', 'Gnad F.', 'Nielsen M.L.', 'Rehman M.', 'Walther T.C.', 'Olsen J.V.', 'Mann M.'], 'citationCrossReferences': [{'database': 'PubMed', 'id': '19608861'}, {'database': 'DOI', 'id': '10.1126/science.1175371'}], 'title': 'Lysine acetylation targets protein complexes and co-regulates major cellular functions.', 'publicationDate': '2009', 'journal': 'Science', 'firstPage': '834', 'lastPage': '840', 'volume': '325'}, 'referencePositions': ['ACETYLATION [LARGE SCALE ANALYSIS] AT LYS-100 AND LYS-460', 'IDENTIFICATION BY MASS SPECTROMETRY [LARGE SCALE ANALYSIS]']}, {'referenceNumber': 33, 'citation': {'id': '21123651', 'citationType': 'journal article', 'authors': ['Harashima A.', 'Guettouche T.', 'Barber G.N.'], 'citationCrossReferences': [{'database': 'PubMed', 'id': '21123651'}, {'database': 'DOI', 'id': '10.1101/gad.1965010'}], 'title': 'Phosphorylation of the NFAR proteins by the dsRNA-dependent protein kinase PKR constitutes a novel mechanism of translational regulation and cellular defense.', 'publicationDate': '2010', 'journal': 'Genes Dev.', 'firstPage': '2640', 'lastPage': '2653', 'volume': '24'}, 'referencePositions': ['FUNCTION', 'SUBCELLULAR LOCATION', 'PHOSPHORYLATION AT THR-188 AND THR-315']}, {'referenceNumber': 34, 'citation': {'id': '20068231', 'citationType': 'journal article', 'authors': ['Olsen J.V.', 'Vermeulen M.', 'Santamaria A.', 'Kumar C.', 'Miller M.L.', 'Jensen L.J.', 'Gnad F.', 'Cox J.', 'Jensen T.S.', 'Nigg E.A.', 'Brunak S.', 'Mann M.'], 'citationCrossReferences': [{'database': 'PubMed', 'id': '20068231'}, {'database': 'DOI', 'id': '10.1126/scisignal.2000475'}], 'title': 'Quantitative phosphoproteomics reveals widespread full phosphorylation site occupancy during mitosis.', 'publicationDate': '2010', 'journal': 'Sci. Signal.', 'firstPage': 'RA3', 'lastPage': 'RA3', 'volume': '3'}, 'referencePositions': ['PHOSPHORYLATION [LARGE SCALE ANALYSIS] AT SER-62; SER-190; SER-382; SER-384; SER-482; THR-592 AND SER-812', 'IDENTIFICATION BY MASS SPECTROMETRY [LARGE SCALE ANALYSIS]'], 'referenceComments': [{'value': 'Cervix carcinoma', 'type': 'TISSUE'}]}, {'referenceNumber': 35, 'citation': {'id': '21269460', 'citationType': 'journal article', 'authors': ['Burkard T.R.', 'Planyavsky M.', 'Kaupe I.', 'Breitwieser F.P.', 'Buerckstuemmer T.', 'Bennett K.L.', 'Superti-Furga G.', 'Colinge J.'], 'citationCrossReferences': [{'database': 'PubMed', 'id': '21269460'}, {'database': 'DOI', 'id': '10.1186/1752-0509-5-17'}], 'title': 'Initial characterization of the human central proteome.', 'publicationDate': '2011', 'journal': 'BMC Syst. Biol.', 'firstPage': '17', 'lastPage': '17', 'volume': '5'}, 'referencePositions': ['IDENTIFICATION BY MASS SPECTROMETRY [LARGE SCALE ANALYSIS]']}, {'referenceNumber': 36, 'citation': {'id': '21406692', 'citationType': 'journal article', 'authors': ['Rigbolt K.T.', 'Prokhorova T.A.', 'Akimov V.', 'Henningsen J.', 'Johansen P.T.', 'Kratchmarova I.', 'Kassem M.', 'Mann M.', 'Olsen J.V.', 'Blagoev B.'], 'citationCrossReferences': [{'database': 'PubMed', 'id': '21406692'}, {'database': 'DOI', 'id': '10.1126/scisignal.2001570'}], 'title': 'System-wide temporal characterization of the proteome and phosphoproteome of human embryonic stem cell differentiation.', 'publicationDate': '2011', 'journal': 'Sci. Signal.', 'firstPage': 'RS3', 'lastPage': 'RS3', 'volume': '4'}, 'referencePositions': ['PHOSPHORYLATION [LARGE SCALE ANALYSIS] AT SER-62; SER-190; SER-382; SER-476; SER-482; THR-592; SER-792 AND SER-812', 'IDENTIFICATION BY MASS SPECTROMETRY [LARGE SCALE ANALYSIS]']}, {'referenceNumber': 37, 'citation': {'id': '23186163', 'citationType': 'journal article', 'authors': ['Zhou H.', 'Di Palma S.', 'Preisinger C.', 'Peng M.', 'Polat A.N.', 'Heck A.J.', 'Mohammed S.'], 'citationCrossReferences': [{'database': 'PubMed', 'id': '23186163'}, {'database': 'DOI', 'id': '10.1021/pr300630k'}], 'title': 'Toward a comprehensive characterization of a human cancer cell phosphoproteome.', 'publicationDate': '2013', 'journal': 'J. Proteome Res.', 'firstPage': '260', 'lastPage': '271', 'volume': '12'}, 'referencePositions': ['PHOSPHORYLATION [LARGE SCALE ANALYSIS] AT SER-62; SER-382; THR-592; SER-792 AND SER-816', 'IDENTIFICATION BY MASS SPECTROMETRY [LARGE SCALE ANALYSIS]'], 'referenceComments': [{'value': 'Cervix carcinoma', 'type': 'TISSUE'}, {'value': 'Erythroleukemia', 'type': 'TISSUE'}]}, {'referenceNumber': 38, 'citation': {'id': '24275569', 'citationType': 'journal article', 'authors': ['Bian Y.', 'Song C.', 'Cheng K.', 'Dong M.', 'Wang F.', 'Huang J.', 'Sun D.', 'Wang L.', 'Ye M.', 'Zou H.'], 'citationCrossReferences': [{'database': 'PubMed', 'id': '24275569'}, {'database': 'DOI', 'id': '10.1016/j.jprot.2013.11.014'}], 'title': 'An enzyme assisted RP-RPLC approach for in-depth analysis of human liver phosphoproteome.', 'publicationDate': '2014', 'journal': 'J. Proteomics', 'firstPage': '253', 'lastPage': '262', 'volume': '96'}, 'referencePositions': ['PHOSPHORYLATION [LARGE SCALE ANALYSIS] AT SER-62; SER-476; SER-477; SER-482 AND SER-810', 'IDENTIFICATION BY MASS SPECTROMETRY [LARGE SCALE ANALYSIS]'], 'referenceComments': [{'value': 'Liver', 'type': 'TISSUE'}]}, {'referenceNumber': 39, 'citation': {'id': '25114211', 'citationType': 'journal article', 'authors': ['Impens F.', 'Radoshevich L.', 'Cossart P.', 'Ribet D.'], 'citationCrossReferences': [{'database': 'PubMed', 'id': '25114211'}, {'database': 'DOI', 'id': '10.1073/pnas.1413825111'}], 'title': 'Mapping of SUMO sites and analysis of SUMOylation changes induced by external stimuli.', 'publicationDate': '2014', 'journal': 'Proc. Natl. Acad. Sci. U.S.A.', 'firstPage': '12432', 'lastPage': '12437', 'volume': '111'}, 'referencePositions': ['SUMOYLATION [LARGE SCALE ANALYSIS] AT LYS-348', 'IDENTIFICATION BY MASS SPECTROMETRY [LARGE SCALE ANALYSIS]']}, {'referenceNumber': 40, 'citation': {'id': '26240280', 'citationType': 'journal article', 'authors': ['Wandrey F.', 'Montellese C.', 'Koos K.', 'Badertscher L.', 'Bammert L.', 'Cook A.G.', 'Zemp I.', 'Horvath P.', 'Kutay U.'], 'citationCrossReferences': [{'database': 'PubMed', 'id': '26240280'}, {'database': 'DOI', 'id': '10.1128/mcb.00306-15'}], 'title': 'The NF45/NF90 Heterodimer Contributes to the Biogenesis of 60S Ribosomal Subunits and Influences Nucleolar Morphology.', 'publicationDate': '2015', 'journal': 'Mol. Cell. Biol.', 'firstPage': '3491', 'lastPage': '3503', 'volume': '35'}, 'referencePositions': ['SUBCELLULAR LOCATION', 'INTERACTION WITH ILF2']}, {'referenceNumber': 41, 'citation': {'id': '26891316', 'citationType': 'journal article', 'authors': ['Li Y.', 'Belshan M.'], 'citationCrossReferences': [{'database': 'PubMed', 'id': '26891316'}, {'database': 'DOI', 'id': '10.3390/v8020047'}], 'title': 'NF45 and NF90 Bind HIV-1 RNA and Modulate HIV Gene Expression.', 'publicationDate': '2016', 'journal': 'Viruses', 'firstPage': '0', 'lastPage': '0', 'volume': '8'}, 'referencePositions': ['FUNCTION (MICROBIAL INFECTION)']}, {'referenceNumber': 42, 'citation': {'id': '28625552', 'citationType': 'journal article', 'authors': ['Li X.', 'Liu C.X.', 'Xue W.', 'Zhang Y.', 'Jiang S.', 'Yin Q.F.', 'Wei J.', 'Yao R.W.', 'Yang L.', 'Chen L.L.'], 'citationCrossReferences': [{'database': 'PubMed', 'id': '28625552'}, {'database': 'DOI', 'id': '10.1016/j.molcel.2017.05.023'}], 'title': 'Coordinated circRNA Biogenesis and Function with NF90/NF110 in Viral Infection.', 'publicationDate': '2017', 'journal': 'Mol. Cell', 'firstPage': '0', 'lastPage': '0', 'volume': '0'}, 'referencePositions': ['FUNCTION', 'INTERACTION WITH ILF2', 'SUBCELLULAR LOCATION']}, {'referenceNumber': 43, 'citation': {'id': '28112733', 'citationType': 'journal article', 'authors': ['Hendriks I.A.', 'Lyon D.', 'Young C.', 'Jensen L.J.', 'Vertegaal A.C.', 'Nielsen M.L.'], 'citationCrossReferences': [{'database': 'PubMed', 'id': '28112733'}, {'database': 'DOI', 'id': '10.1038/nsmb.3366'}], 'title': 'Site-specific mapping of the human SUMO proteome reveals co-modification with phosphorylation.', 'publicationDate': '2017', 'journal': 'Nat. Struct. Mol. Biol.', 'firstPage': '325', 'lastPage': '336', 'volume': '24'}, 'referencePositions': ['SUMOYLATION [LARGE SCALE ANALYSIS] AT LYS-396 AND LYS-489', 'IDENTIFICATION BY MASS SPECTROMETRY [LARGE SCALE ANALYSIS]']}, {'referenceNumber': 44, 'citation': {'id': '34110282', 'citationType': 'journal article', 'authors': ['Dou S.', 'Li G.', 'Li G.', 'Hou C.', 'Zheng Y.', 'Tang L.', 'Gao Y.', 'Mo R.', 'Li Y.', 'Wang R.', 'Shen B.', 'Zhang J.', 'Han G.'], 'citationCrossReferences': [{'database': 'PubMed', 'id': '34110282'}, {'database': 'DOI', 'id': '10.7554/elife.66501'}], 'title': 'Ubiquitination and degradation of NF90 by Tim-3 inhibits antiviral innate immunity.', 'publicationDate': '2021', 'journal': 'Elife', 'firstPage': '0', 'lastPage': '0', 'volume': '10'}, 'referencePositions': ['FUNCTION', 'UBIQUITINATION AT LYS-297', 'MUTAGENESIS OF LYS-297', 'INTERACTION WITH HAVCR2']}, {'referenceNumber': 45, 'citation': {'id': 'CI-5S276U3A6CI59', 'citationType': 'submission', 'authoringGroup': ['Northeast structural genomics consortium (NESG)'], 'title': 'Crystal structure of DRBM 2 domain of interleukin enhancer-binding factor 3 from Homo sapiens, Northeast structural genomics consortium target HR4527E.', 'publicationDate': 'DEC-2010', 'submissionDatabase': 'PDB data bank'}, 'referencePositions': ['X-RAY CRYSTALLOGRAPHY (1.9 ANGSTROMS) OF 520-594']}, {'referenceNumber': 46, 'citation': {'id': 'CI-D77HTTN676KIR', 'citationType': 'submission', 'authoringGroup': ['Northeast structural genomics consortium (NESG)'], 'title': 'Northeast structural genomics consortium target HR4527E.', 'publicationDate': 'SEP-2010', 'submissionDatabase': 'PDB data bank'}, 'referencePositions': ['STRUCTURE BY NMR OF 521-600']}], 'uniProtKBCrossReferences': [{'database': 'EMBL', 'id': 'U10324', 'properties': [{'key': 'ProteinId', 'value': 'AAA20994.1'}, {'key': 'Status', 'value': 'ALT_SEQ'}, {'key': 'MoleculeType', 'value': 'mRNA'}]}, {'database': 'EMBL', 'id': 'AF147209', 'properties': [{'key': 'ProteinId', 'value': 'AAD33966.1'}, {'key': 'Status', 'value': '-'}, {'key': 'MoleculeType', 'value': 'mRNA'}]}, {'database': 'EMBL', 'id': 'AF141870', 'properties': [{'key': 'ProteinId', 'value': 'AAD37575.1'}, {'key': 'Status', 'value': '-'}, {'key': 'MoleculeType', 'value': 'mRNA'}]}, {'database': 'EMBL', 'id': 'AJ271741', 'properties': [{'key': 'ProteinId', 'value': 'CAC01121.1'}, {'key': 'Status', 'value': '-'}, {'key': 'MoleculeType', 'value': 'Genomic_DNA'}]}, {'database': 'EMBL', 'id': 'AJ271741', 'properties': [{'key': 'ProteinId', 'value': 'CAC01122.1'}, {'key': 'Status', 'value': '-'}, {'key': 'MoleculeType', 'value': 'Genomic_DNA'}]}, {'database': 'EMBL', 'id': 'AJ271741', 'properties': [{'key': 'ProteinId', 'value': 'CAC01123.1'}, {'key': 'Status', 'value': '-'}, {'key': 'MoleculeType', 'value': 'Genomic_DNA'}]}, {'database': 'EMBL', 'id': 'AJ271741', 'properties': [{'key': 'ProteinId', 'value': 'CAC01124.1'}, {'key': 'Status', 'value': '-'}, {'key': 'MoleculeType', 'value': 'Genomic_DNA'}]}, {'database': 'EMBL', 'id': 'AJ271744', 'properties': [{'key': 'ProteinId', 'value': 'CAC01404.1'}, {'key': 'Status', 'value': '-'}, {'key': 'MoleculeType', 'value': 'mRNA'}]}, {'database': 'EMBL', 'id': 'AJ271745', 'properties': [{'key': 'ProteinId', 'value': 'CAC01405.1'}, {'key': 'Status', 'value': '-'}, {'key': 'MoleculeType', 'value': 'mRNA'}]}, {'database': 'EMBL', 'id': 'AJ271746', 'properties': [{'key': 'ProteinId', 'value': 'CAC01406.1'}, {'key': 'Status', 'value': '-'}, {'key': 'MoleculeType', 'value': 'mRNA'}]}, {'database': 'EMBL', 'id': 'AJ271747', 'properties': [{'key': 'ProteinId', 'value': 'CAC01407.1'}, {'key': 'Status', 'value': '-'}, {'key': 'MoleculeType', 'value': 'mRNA'}]}, {'database': 'EMBL', 'id': 'AF167569', 'properties': [{'key': 'ProteinId', 'value': 'AAD51098.1'}, {'key': 'Status', 'value': '-'}, {'key': 'MoleculeType', 'value': 'mRNA'}]}, {'database': 'EMBL', 'id': 'AF167570', 'properties': [{'key': 'ProteinId', 'value': 'AAD51099.1'}, {'key': 'Status', 'value': '-'}, {'key': 'MoleculeType', 'value': 'mRNA'}]}, {'database': 'EMBL', 'id': 'AF320244', 'properties': [{'key': 'ProteinId', 'value': 'AAK07424.1'}, {'key': 'Status', 'value': '-'}, {'key': 'MoleculeType', 'value': 'Genomic_DNA'}]}, {'database': 'EMBL', 'id': 'AF320228', 'properties': [{'key': 'ProteinId', 'value': 'AAK07424.1'}, {'key': 'Status', 'value': 'JOINED'}, {'key': 'MoleculeType', 'value': 'Genomic_DNA'}]}, {'database': 'EMBL', 'id': 'AF320229', 'properties': [{'key': 'ProteinId', 'value': 'AAK07424.1'}, {'key': 'Status', 'value': 'JOINED'}, {'key': 'MoleculeType', 'value': 'Genomic_DNA'}]}, {'database': 'EMBL', 'id': 'AF320230', 'properties': [{'key': 'ProteinId', 'value': 'AAK07424.1'}, {'key': 'Status', 'value': 'JOINED'}, {'key': 'MoleculeType', 'value': 'Genomic_DNA'}]}, {'database': 'EMBL', 'id': 'AF320231', 'properties': [{'key': 'ProteinId', 'value': 'AAK07424.1'}, {'key': 'Status', 'value': 'JOINED'}, {'key': 'MoleculeType', 'value': 'Genomic_DNA'}]}, {'database': 'EMBL', 'id': 'AF320232', 'properties': [{'key': 'ProteinId', 'value': 'AAK07424.1'}, {'key': 'Status', 'value': 'JOINED'}, {'key': 'MoleculeType', 'value': 'Genomic_DNA'}]}, {'database': 'EMBL', 'id': 'AF320233', 'properties': [{'key': 'ProteinId', 'value': 'AAK07424.1'}, {'key': 'Status', 'value': 'JOINED'}, {'key': 'MoleculeType', 'value': 'Genomic_DNA'}]}, {'database': 'EMBL', 'id': 'AF320234', 'properties': [{'key': 'ProteinId', 'value': 'AAK07424.1'}, {'key': 'Status', 'value': 'JOINED'}, {'key': 'MoleculeType', 'value': 'Genomic_DNA'}]}, {'database': 'EMBL', 'id': 'AF320235', 'properties': [{'key': 'ProteinId', 'value': 'AAK07424.1'}, {'key': 'Status', 'value': 'JOINED'}, {'key': 'MoleculeType', 'value': 'Genomic_DNA'}]}, {'database': 'EMBL', 'id': 'AF320236', 'properties': [{'key': 'ProteinId', 'value': 'AAK07424.1'}, {'key': 'Status', 'value': 'JOINED'}, {'key': 'MoleculeType', 'value': 'Genomic_DNA'}]}, {'database': 'EMBL', 'id': 'AF320237', 'properties': [{'key': 'ProteinId', 'value': 'AAK07424.1'}, {'key': 'Status', 'value': 'JOINED'}, {'key': 'MoleculeType', 'value': 'Genomic_DNA'}]}, {'database': 'EMBL', 'id': 'AF320238', 'properties': [{'key': 'ProteinId', 'value': 'AAK07424.1'}, {'key': 'Status', 'value': 'JOINED'}, {'key': 'MoleculeType', 'value': 'Genomic_DNA'}]}, {'database': 'EMBL', 'id': 'AF320239', 'properties': [{'key': 'ProteinId', 'value': 'AAK07424.1'}, {'key': 'Status', 'value': 'JOINED'}, {'key': 'MoleculeType', 'value': 'Genomic_DNA'}]}, {'database': 'EMBL', 'id': 'AF320240', 'properties': [{'key': 'ProteinId', 'value': 'AAK07424.1'}, {'key': 'Status', 'value': 'JOINED'}, {'key': 'MoleculeType', 'value': 'Genomic_DNA'}]}, {'database': 'EMBL', 'id': 'AF320241', 'properties': [{'key': 'ProteinId', 'value': 'AAK07424.1'}, {'key': 'Status', 'value': 'JOINED'}, {'key': 'MoleculeType', 'value': 'Genomic_DNA'}]}, {'database': 'EMBL', 'id': 'AF320242', 'properties': [{'key': 'ProteinId', 'value': 'AAK07424.1'}, {'key': 'Status', 'value': 'JOINED'}, {'key': 'MoleculeType', 'value': 'Genomic_DNA'}]}, {'database': 'EMBL', 'id': 'AF320243', 'properties': [{'key': 'ProteinId', 'value': 'AAK07424.1'}, {'key': 'Status', 'value': 'JOINED'}, {'key': 'MoleculeType', 'value': 'Genomic_DNA'}]}, {'database': 'EMBL', 'id': 'AF320247', 'properties': [{'key': 'ProteinId', 'value': 'AAK07425.1'}, {'key': 'Status', 'value': '-'}, {'key': 'MoleculeType', 'value': 'Genomic_DNA'}]}, {'database': 'EMBL', 'id': 'AF320228', 'properties': [{'key': 'ProteinId', 'value': 'AAK07425.1'}, {'key': 'Status', 'value': 'JOINED'}, {'key': 'MoleculeType', 'value': 'Genomic_DNA'}]}, {'database': 'EMBL', 'id': 'AF320229', 'properties': [{'key': 'ProteinId', 'value': 'AAK07425.1'}, {'key': 'Status', 'value': 'JOINED'}, {'key': 'MoleculeType', 'value': 'Genomic_DNA'}]}, {'database': 'EMBL', 'id': 'AF320230', 'properties': [{'key': 'ProteinId', 'value': 'AAK07425.1'}, {'key': 'Status', 'value': 'JOINED'}, {'key': 'MoleculeType', 'value': 'Genomic_DNA'}]}, {'database': 'EMBL', 'id': 'AF320231', 'properties': [{'key': 'ProteinId', 'value': 'AAK07425.1'}, {'key': 'Status', 'value': 'JOINED'}, {'key': 'MoleculeType', 'value': 'Genomic_DNA'}]}, {'database': 'EMBL', 'id': 'AF320232', 'properties': [{'key': 'ProteinId', 'value': 'AAK07425.1'}, {'key': 'Status', 'value': 'JOINED'}, {'key': 'MoleculeType', 'value': 'Genomic_DNA'}]}, {'database': 'EMBL', 'id': 'AF320233', 'properties': [{'key': 'ProteinId', 'value': 'AAK07425.1'}, {'key': 'Status', 'value': 'JOINED'}, {'key': 'MoleculeType', 'value': 'Genomic_DNA'}]}, {'database': 'EMBL', 'id': 'AF320234', 'properties': [{'key': 'ProteinId', 'value': 'AAK07425.1'}, {'key': 'Status', 'value': 'JOINED'}, {'key': 'MoleculeType', 'value': 'Genomic_DNA'}]}, {'database': 'EMBL', 'id': 'AF320235', 'properties': [{'key': 'ProteinId', 'value': 'AAK07425.1'}, {'key': 'Status', 'value': 'JOINED'}, {'key': 'MoleculeType', 'value': 'Genomic_DNA'}]}, {'database': 'EMBL', 'id': 'AF320236', 'properties': [{'key': 'ProteinId', 'value': 'AAK07425.1'}, {'key': 'Status', 'value': 'JOINED'}, {'key': 'MoleculeType', 'value': 'Genomic_DNA'}]}, {'database': 'EMBL', 'id': 'AF320237', 'properties': [{'key': 'ProteinId', 'value': 'AAK07425.1'}, {'key': 'Status', 'value': 'JOINED'}, {'key': 'MoleculeType', 'value': 'Genomic_DNA'}]}, {'database': 'EMBL', 'id': 'AF320238', 'properties': [{'key': 'ProteinId', 'value': 'AAK07425.1'}, {'key': 'Status', 'value': 'JOINED'}, {'key': 'MoleculeType', 'value': 'Genomic_DNA'}]}, {'database': 'EMBL', 'id': 'AF320239', 'properties': [{'key': 'ProteinId', 'value': 'AAK07425.1'}, {'key': 'Status', 'value': 'JOINED'}, {'key': 'MoleculeType', 'value': 'Genomic_DNA'}]}, {'database': 'EMBL', 'id': 'AF320240', 'properties': [{'key': 'ProteinId', 'value': 'AAK07425.1'}, {'key': 'Status', 'value': 'JOINED'}, {'key': 'MoleculeType', 'value': 'Genomic_DNA'}]}, {'database': 'EMBL', 'id': 'AF320241', 'properties': [{'key': 'ProteinId', 'value': 'AAK07425.1'}, {'key': 'Status', 'value': 'JOINED'}, {'key': 'MoleculeType', 'value': 'Genomic_DNA'}]}, {'database': 'EMBL', 'id': 'AF320242', 'properties': [{'key': 'ProteinId', 'value': 'AAK07425.1'}, {'key': 'Status', 'value': 'JOINED'}, {'key': 'MoleculeType', 'value': 'Genomic_DNA'}]}, {'database': 'EMBL', 'id': 'AF320243', 'properties': [{'key': 'ProteinId', 'value': 'AAK07425.1'}, {'key': 'Status', 'value': 'JOINED'}, {'key': 'MoleculeType', 'value': 'Genomic_DNA'}]}, {'database': 'EMBL', 'id': 'AF320245', 'properties': [{'key': 'ProteinId', 'value': 'AAK07425.1'}, {'key': 'Status', 'value': 'JOINED'}, {'key': 'MoleculeType', 'value': 'Genomic_DNA'}]}, {'database': 'EMBL', 'id': 'AF320246', 'properties': [{'key': 'ProteinId', 'value': 'AAK07425.1'}, {'key': 'Status', 'value': 'JOINED'}, {'key': 'MoleculeType', 'value': 'Genomic_DNA'}]}, {'database': 'EMBL', 'id': 'AK291617', 'properties': [{'key': 'ProteinId', 'value': 'BAF84306.1'}, {'key': 'Status', 'value': '-'}, {'key': 'MoleculeType', 'value': 'mRNA'}]}, {'database': 'EMBL', 'id': 'AC011475', 'properties': [{'key': 'ProteinId', 'value': '-'}, {'key': 'Status', 'value': 'NOT_ANNOTATED_CDS'}, {'key': 'MoleculeType', 'value': 'Genomic_DNA'}]}, {'database': 'EMBL', 'id': 'CH471106', 'properties': [{'key': 'ProteinId', 'value': 'EAW84132.1'}, {'key': 'Status', 'value': '-'}, {'key': 'MoleculeType', 'value': 'Genomic_DNA'}]}, {'database': 'EMBL', 'id': 'BC048314', 'properties': [{'key': 'ProteinId', 'value': 'AAH48314.1'}, {'key': 'Status', 'value': 'ALT_SEQ'}, {'key': 'MoleculeType', 'value': 'mRNA'}]}, {'database': 'EMBL', 'id': 'BC064836', 'properties': [{'key': 'ProteinId', 'value': 'AAH64836.1'}, {'key': 'Status', 'value': '-'}, {'key': 'MoleculeType', 'value': 'mRNA'}]}, {'database': 'EMBL', 'id': 'X98264', 'properties': [{'key': 'ProteinId', 'value': 'CAA66917.1'}, {'key': 'Status', 'value': '-'}, {'key': 'MoleculeType', 'value': 'mRNA'}]}, {'database': 'EMBL', 'id': 'X98265', 'properties': [{'key': 'ProteinId', 'value': 'CAA66918.1'}, {'key': 'Status', 'value': '-'}, {'key': 'MoleculeType', 'value': 'mRNA'}]}, {'database': 'EMBL', 'id': 'AF202445', 'properties': [{'key': 'ProteinId', 'value': 'AAF82685.1'}, {'key': 'Status', 'value': '-'}, {'key': 'MoleculeType', 'value': 'Genomic_DNA'}]}, {'database': 'EMBL', 'id': 'AF202445', 'properties': [{'key': 'ProteinId', 'value': 'AAF82686.1'}, {'key': 'Status', 'value': '-'}, {'key': 'MoleculeType', 'value': 'Genomic_DNA'}]}, {'database': 'EMBL', 'id': 'AF202445', 'properties': [{'key': 'ProteinId', 'value': 'AAF82687.1'}, {'key': 'Status', 'value': '-'}, {'key': 'MoleculeType', 'value': 'Genomic_DNA'}]}, {'database': 'EMBL', 'id': 'AF007140', 'properties': [{'key': 'ProteinId', 'value': 'AAC19152.1'}, {'key': 'Status', 'value': '-'}, {'key': 'MoleculeType', 'value': 'mRNA'}]}, {'database': 'CCDS', 'id': 'CCDS12246.1', 'properties': [{'key': 'Description', 'value': '-'}], 'isoformId': 'Q12906-1'}, {'database': 'CCDS', 'id': 'CCDS12247.1', 'properties': [{'key': 'Description', 'value': '-'}], 'isoformId': 'Q12906-2'}, {'database': 'CCDS', 'id': 'CCDS45965.1', 'properties': [{'key': 'Description', 'value': '-'}], 'isoformId': 'Q12906-7'}, {'database': 'CCDS', 'id': 'CCDS45966.1', 'properties': [{'key': 'Description', 'value': '-'}], 'isoformId': 'Q12906-5'}, {'database': 'CCDS', 'id': 'CCDS45967.1', 'properties': [{'key': 'Description', 'value': '-'}], 'isoformId': 'Q12906-6'}, {'database': 'PIR', 'id': 'B54857', 'properties': [{'key': 'EntryName', 'value': 'B54857'}]}, {'database': 'RefSeq', 'id': 'NP_001131145.1', 'properties': [{'key': 'NucleotideSequenceId', 'value': 'NM_001137673.2'}], 'isoformId': 'Q12906-6'}, {'database': 'RefSeq', 'id': 'NP_001381737.1', 'properties': [{'key': 'NucleotideSequenceId', 'value': 'NM_001394808.1'}], 'isoformId': 'Q12906-7'}, {'database': 'RefSeq', 'id': 'NP_001381738.1', 'properties': [{'key': 'NucleotideSequenceId', 'value': 'NM_001394809.1'}], 'isoformId': 'Q12906-7'}, {'database': 'RefSeq', 'id': 'NP_001381739.1', 'properties': [{'key': 'NucleotideSequenceId', 'value': 'NM_001394810.1'}], 'isoformId': 'Q12906-7'}, {'database': 'RefSeq', 'id': 'NP_001381740.1', 'properties': [{'key': 'NucleotideSequenceId', 'value': 'NM_001394811.1'}], 'isoformId': 'Q12906-1'}, {'database': 'RefSeq', 'id': 'NP_001381741.1', 'properties': [{'key': 'NucleotideSequenceId', 'value': 'NM_001394812.1'}], 'isoformId': 'Q12906-1'}, {'database': 'RefSeq', 'id': 'NP_001381750.1', 'properties': [{'key': 'NucleotideSequenceId', 'value': 'NM_001394821.1'}], 'isoformId': 'Q12906-6'}, {'database': 'RefSeq', 'id': 'NP_001381751.1', 'properties': [{'key': 'NucleotideSequenceId', 'value': 'NM_001394822.1'}], 'isoformId': 'Q12906-6'}, {'database': 'RefSeq', 'id': 'NP_001381752.1', 'properties': [{'key': 'NucleotideSequenceId', 'value': 'NM_001394823.1'}], 'isoformId': 'Q12906-6'}, {'database': 'RefSeq', 'id': 'NP_001381753.1', 'properties': [{'key': 'NucleotideSequenceId', 'value': 'NM_001394824.1'}], 'isoformId': 'Q12906-2'}, {'database': 'RefSeq', 'id': 'NP_001381755.1', 'properties': [{'key': 'NucleotideSequenceId', 'value': 'NM_001394826.1'}], 'isoformId': 'Q12906-2'}, {'database': 'RefSeq', 'id': 'NP_004507.2', 'properties': [{'key': 'NucleotideSequenceId', 'value': 'NM_004516.3'}], 'isoformId': 'Q12906-2'}, {'database': 'RefSeq', 'id': 'NP_036350.2', 'properties': [{'key': 'NucleotideSequenceId', 'value': 'NM_012218.3'}], 'isoformId': 'Q12906-1'}, {'database': 'RefSeq', 'id': 'NP_060090.2', 'properties': [{'key': 'NucleotideSequenceId', 'value': 'NM_017620.2'}], 'isoformId': 'Q12906-7'}, {'database': 'RefSeq', 'id': 'NP_703194.1', 'properties': [{'key': 'NucleotideSequenceId', 'value': 'NM_153464.3'}], 'isoformId': 'Q12906-5'}, {'database': 'RefSeq', 'id': 'XP_011526286.2', 'properties': [{'key': 'NucleotideSequenceId', 'value': 'XM_011527984.2'}]}, {'database': 'RefSeq', 'id': 'XP_016882252.1', 'properties': [{'key': 'NucleotideSequenceId', 'value': 'XM_017026763.1'}]}, {'database': 'RefSeq', 'id': 'XP_047294734.1', 'properties': [{'key': 'NucleotideSequenceId', 'value': 'XM_047438778.1'}], 'isoformId': 'Q12906-7'}, {'database': 'RefSeq', 'id': 'XP_047294735.1', 'properties': [{'key': 'NucleotideSequenceId', 'value': 'XM_047438779.1'}], 'isoformId': 'Q12906-7'}, {'database': 'RefSeq', 'id': 'XP_054176869.1', 'properties': [{'key': 'NucleotideSequenceId', 'value': 'XM_054320894.1'}], 'isoformId': 'Q12906-7'}, {'database': 'RefSeq', 'id': 'XP_054176870.1', 'properties': [{'key': 'NucleotideSequenceId', 'value': 'XM_054320895.1'}], 'isoformId': 'Q12906-7'}, {'database': 'PDB', 'id': '2L33', 'properties': [{'key': 'Method', 'value': 'NMR'}, {'key': 'Resolution', 'value': '-'}, {'key': 'Chains', 'value': 'A=521-600'}]}, {'database': 'PDB', 'id': '3P1X', 'properties': [{'key': 'Method', 'value': 'X-ray'}, {'key': 'Resolution', 'value': '1.90 A'}, {'key': 'Chains', 'value': 'A/B=520-594'}]}, {'database': 'PDB', 'id': '7RJM', 'properties': [{'key': 'Method', 'value': 'X-ray'}, {'key': 'Resolution', 'value': '2.10 A'}, {'key': 'Chains', 'value': 'C=99-106'}]}, {'database': 'PDB', 'id': '7RJQ', 'properties': [{'key': 'Method', 'value': 'X-ray'}, {'key': 'Resolution', 'value': '1.72 A'}, {'key': 'Chains', 'value': 'B=99-106'}]}, {'database': 'PDBsum', 'id': '2L33', 'properties': [{'key': 'Description', 'value': '-'}]}, {'database': 'PDBsum', 'id': '3P1X', 'properties': [{'key': 'Description', 'value': '-'}]}, {'database': 'PDBsum', 'id': '7RJM', 'properties': [{'key': 'Description', 'value': '-'}]}, {'database': 'PDBsum', 'id': '7RJQ', 'properties': [{'key': 'Description', 'value': '-'}]}, {'database': 'AlphaFoldDB', 'id': 'Q12906', 'properties': [{'key': 'Description', 'value': '-'}]}, {'database': 'SMR', 'id': 'Q12906', 'properties': [{'key': 'Description', 'value': '-'}]}, {'database': 'BioGRID', 'id': '109822', 'properties': [{'key': 'Interactions', 'value': '918'}]}, {'database': 'CORUM', 'id': 'Q12906', 'properties': [{'key': 'Description', 'value': '-'}]}, {'database': 'DIP', 'id': 'DIP-29853N', 'properties': [{'key': 'Description', 'value': '-'}]}, {'database': 'IntAct', 'id': 'Q12906', 'properties': [{'key': 'Interactions', 'value': '734'}]}, {'database': 'MINT', 'id': 'Q12906', 'properties': [{'key': 'Description', 'value': '-'}]}, {'database': 'STRING', 'id': '9606.ENSP00000404121', 'properties': [{'key': 'Description', 'value': '-'}]}, {'database': 'ChEMBL', 'id': 'CHEMBL5465305', 'properties': [{'key': 'Description', 'value': '-'}]}, {'database': 'GlyGen', 'id': 'Q12906', 'properties': [{'key': 'glycosylation', 'value': '3 sites, 1 O-linked glycan (3 sites)'}]}, {'database': 'iPTMnet', 'id': 'Q12906', 'properties': [{'key': 'Description', 'value': '-'}]}, {'database': 'MetOSite', 'id': 'Q12906', 'properties': [{'key': 'Description', 'value': '-'}]}, {'database': 'PhosphoSitePlus', 'id': 'Q12906', 'properties': [{'key': 'Description', 'value': '-'}]}, {'database': 'SwissPalm', 'id': 'Q12906', 'properties': [{'key': 'Description', 'value': '-'}]}, {'database': 'BioMuta', 'id': 'ILF3', 'properties': [{'key': 'Description', 'value': '-'}]}, {'database': 'DMDM', 'id': '62512150', 'properties': [{'key': 'Description', 'value': '-'}]}, {'database': 'CPTAC', 'id': 'CPTAC-395', 'properties': [{'key': 'Description', 'value': '-'}]}, {'database': 'CPTAC', 'id': 'CPTAC-396', 'properties': [{'key': 'Description', 'value': '-'}]}, {'database': 'jPOST', 'id': 'Q12906', 'properties': [{'key': 'Description', 'value': '-'}]}, {'database': 'MassIVE', 'id': 'Q12906', 'properties': [{'key': 'Description', 'value': '-'}]}, {'database': 'PaxDb', 'id': '9606-ENSP00000404121', 'properties': [{'key': 'Description', 'value': '-'}]}, {'database': 'PeptideAtlas', 'id': 'Q12906', 'properties': [{'key': 'Description', 'value': '-'}]}, {'database': 'ProteomicsDB', 'id': '33984', 'properties': [{'key': 'Description', 'value': '-'}]}, {'database': 'ProteomicsDB', 'id': '59014', 'properties': [{'key': 'Description', 'value': '-'}], 'isoformId': 'Q12906-1'}, {'database': 'ProteomicsDB', 'id': '59015', 'properties': [{'key': 'Description', 'value': '-'}], 'isoformId': 'Q12906-2'}, {'database': 'ProteomicsDB', 'id': '59016', 'properties': [{'key': 'Description', 'value': '-'}], 'isoformId': 'Q12906-3'}, {'database': 'ProteomicsDB', 'id': '59017', 'properties': [{'key': 'Description', 'value': '-'}], 'isoformId': 'Q12906-4'}, {'database': 'ProteomicsDB', 'id': '59018', 'properties': [{'key': 'Description', 'value': '-'}], 'isoformId': 'Q12906-5'}, {'database': 'ProteomicsDB', 'id': '59019', 'properties': [{'key': 'Description', 'value': '-'}], 'isoformId': 'Q12906-6'}, {'database': 'Pumba', 'id': 'Q12906', 'properties': [{'key': 'Description', 'value': '-'}]}, {'database': 'TopDownProteomics', 'id': 'Q12906-1', 'properties': [{'key': 'Description', 'value': '-'}], 'isoformId': 'Q12906-1'}, {'database': 'Antibodypedia', 'id': '1051', 'properties': [{'key': 'antibodies', 'value': '435 antibodies from 37 providers'}]}, {'database': 'DNASU', 'id': '3609', 'properties': [{'key': 'Description', 'value': '-'}]}, {'database': 'Ensembl', 'id': 'ENST00000250241.12', 'properties': [{'key': 'ProteinId', 'value': 'ENSP00000250241.8'}, {'key': 'GeneId', 'value': 'ENSG00000129351.18'}], 'isoformId': 'Q12906-5'}, {'database': 'Ensembl', 'id': 'ENST00000407004.8', 'properties': [{'key': 'ProteinId', 'value': 'ENSP00000384660.2'}, {'key': 'GeneId', 'value': 'ENSG00000129351.18'}], 'isoformId': 'Q12906-6'}, {'database': 'Ensembl', 'id': 'ENST00000588657.6', 'properties': [{'key': 'ProteinId', 'value': 'ENSP00000468181.1'}, {'key': 'GeneId', 'value': 'ENSG00000129351.18'}], 'isoformId': 'Q12906-7'}, {'database': 'Ensembl', 'id': 'ENST00000589998.6', 'properties': [{'key': 'ProteinId', 'value': 'ENSP00000465219.1'}, {'key': 'GeneId', 'value': 'ENSG00000129351.18'}], 'isoformId': 'Q12906-2'}, {'database': 'Ensembl', 'id': 'ENST00000590261.5', 'properties': [{'key': 'ProteinId', 'value': 'ENSP00000468156.1'}, {'key': 'GeneId', 'value': 'ENSG00000129351.18'}], 'isoformId': 'Q12906-1'}, {'database': 'Ensembl', 'id': 'ENST00000592763.5', 'properties': [{'key': 'ProteinId', 'value': 'ENSP00000465515.1'}, {'key': 'GeneId', 'value': 'ENSG00000129351.18'}], 'isoformId': 'Q12906-4'}, {'database': 'GeneID', 'id': '3609', 'properties': [{'key': 'Description', 'value': '-'}]}, {'database': 'KEGG', 'id': 'hsa:3609', 'properties': [{'key': 'Description', 'value': '-'}]}, {'database': 'MANE-Select', 'id': 'ENST00000588657.6', 'properties': [{'key': 'ProteinId', 'value': 'ENSP00000468181.1'}, {'key': 'RefSeqNucleotideId', 'value': 'NM_017620.3'}, {'key': 'RefSeqProteinId', 'value': 'NP_060090.2'}], 'isoformId': 'Q12906-7'}, {'database': 'UCSC', 'id': 'uc002mpl.3', 'properties': [{'key': 'OrganismName', 'value': 'human'}], 'isoformId': 'Q12906-1'}, {'database': 'AGR', 'id': 'HGNC:6038', 'properties': [{'key': 'Description', 'value': '-'}]}, {'database': 'CTD', 'id': '3609', 'properties': [{'key': 'Description', 'value': '-'}]}, {'database': 'DisGeNET', 'id': '3609', 'properties': [{'key': 'Description', 'value': '-'}]}, {'database': 'GeneCards', 'id': 'ILF3', 'properties': [{'key': 'Description', 'value': '-'}]}, {'database': 'HGNC', 'id': 'HGNC:6038', 'properties': [{'key': 'GeneName', 'value': 'ILF3'}]}, {'database': 'HPA', 'id': 'ENSG00000129351', 'properties': [{'key': 'ExpressionPatterns', 'value': 'Low tissue specificity'}]}, {'database': 'MIM', 'id': '603182', 'properties': [{'key': 'Type', 'value': 'gene'}]}, {'database': 'neXtProt', 'id': 'NX_Q12906', 'properties': [{'key': 'Description', 'value': '-'}]}, {'database': 'OpenTargets', 'id': 'ENSG00000129351', 'properties': [{'key': 'Description', 'value': '-'}]}, {'database': 'PharmGKB', 'id': 'PA29853', 'properties': [{'key': 'Description', 'value': '-'}]}, {'database': 'VEuPathDB', 'id': 'HostDB:ENSG00000129351', 'properties': [{'key': 'Description', 'value': '-'}]}, {'database': 'eggNOG', 'id': 'KOG3792', 'properties': [{'key': 'ToxonomicScope', 'value': 'Eukaryota'}]}, {'database': 'GeneTree', 'id': 'ENSGT00940000156719', 'properties': [{'key': 'Description', 'value': '-'}]}, {'database': 'HOGENOM', 'id': 'CLU_015490_0_0_1', 'properties': [{'key': 'Description', 'value': '-'}]}, {'database': 'InParanoid', 'id': 'Q12906', 'properties': [{'key': 'Description', 'value': '-'}]}, {'database': 'OMA', 'id': 'PANHTQY', 'properties': [{'key': 'Fingerprint', 'value': '-'}]}, {'database': 'OrthoDB', 'id': '8898434at2759', 'properties': [{'key': 'Description', 'value': '-'}]}, {'database': 'PhylomeDB', 'id': 'Q12906', 'properties': [{'key': 'Description', 'value': '-'}]}, {'database': 'TreeFam', 'id': 'TF320194', 'properties': [{'key': 'Description', 'value': '-'}]}, {'database': 'PathwayCommons', 'id': 'Q12906', 'properties': [{'key': 'Description', 'value': '-'}]}, {'database': 'Reactome', 'id': 'R-HSA-9762293', 'properties': [{'key': 'PathwayName', 'value': 'Regulation of CDH11 gene transcription'}]}, {'database': 'Reactome', 'id': 'R-HSA-9833482', 'properties': [{'key': 'PathwayName', 'value': 'PKR-mediated signaling'}]}, {'database': 'SignaLink', 'id': 'Q12906', 'properties': [{'key': 'Description', 'value': '-'}]}, {'database': 'SIGNOR', 'id': 'Q12906', 'properties': [{'key': 'Description', 'value': '-'}]}, {'database': 'BioGRID-ORCS', 'id': '3609', 'properties': [{'key': 'hits', 'value': '672 hits in 1165 CRISPR screens'}]}, {'database': 'CD-CODE', 'id': '232F8A39', 'properties': [{'key': 'EntryName', 'value': 'P-body'}]}, {'database': 'CD-CODE', 'id': '804901D1', 'properties': [{'key': 'EntryName', 'value': 'Nuclear speckle'}]}, {'database': 'CD-CODE', 'id': '91857CE7', 'properties': [{'key': 'EntryName', 'value': 'Nucleolus'}]}, {'database': 'CD-CODE', 'id': 'DEE660B4', 'properties': [{'key': 'EntryName', 'value': 'Stress granule'}]}, {'database': 'CD-CODE', 'id': 'F85A2E29', 'properties': [{'key': 'EntryName', 'value': 'IMP1 RNP granule'}]}, {'database': 'ChiTaRS', 'id': 'ILF3', 'properties': [{'key': 'OrganismName', 'value': 'human'}]}, {'database': 'EvolutionaryTrace', 'id': 'Q12906', 'properties': [{'key': 'Description', 'value': '-'}]}, {'database': 'GeneWiki', 'id': 'ILF3', 'properties': [{'key': 'Description', 'value': '-'}]}, {'database': 'GenomeRNAi', 'id': '3609', 'properties': [{'key': 'Description', 'value': '-'}]}, {'database': 'Pharos', 'id': 'Q12906', 'properties': [{'key': 'DevelopmentLevel', 'value': 'Tbio'}]}, {'database': 'PRO', 'id': 'PR:Q12906', 'properties': [{'key': 'Description', 'value': '-'}]}, {'database': 'Proteomes', 'id': 'UP000005640', 'properties': [{'key': 'Component', 'value': 'Chromosome 19'}]}, {'database': 'RNAct', 'id': 'Q12906', 'properties': [{'key': 'moleculeType', 'value': 'protein'}]}, {'database': 'Bgee', 'id': 'ENSG00000129351', 'properties': [{'key': 'ExpressionPatterns', 'value': 'Expressed in ganglionic eminence and 207 other cell types or tissues'}]}, {'database': 'ExpressionAtlas', 'id': 'Q12906', 'properties': [{'key': 'ExpressionPatterns', 'value': 'baseline and differential'}]}, {'database': 'GO', 'id': 'GO:0005737', 'properties': [{'key': 'GoTerm', 'value': 'C:cytoplasm'}, {'key': 'GoEvidenceType', 'value': 'IDA:UniProtKB'}], 'evidences': [{'evidenceCode': 'ECO:0000314', 'source': 'PubMed', 'id': '21123651'}]}, {'database': 'GO', 'id': 'GO:0005829', 'properties': [{'key': 'GoTerm', 'value': 'C:cytosol'}, {'key': 'GoEvidenceType', 'value': 'TAS:Reactome'}]}, {'database': 'GO', 'id': 'GO:0005576', 'properties': [{'key': 'GoTerm', 'value': 'C:extracellular region'}, {'key': 'GoEvidenceType', 'value': 'HDA:BHF-UCL'}], 'evidences': [{'evidenceCode': 'ECO:0007005', 'source': 'PubMed', 'id': '27068509'}]}, {'database': 'GO', 'id': 'GO:0016020', 'properties': [{'key': 'GoTerm', 'value': 'C:membrane'}, {'key': 'GoEvidenceType', 'value': 'HDA:UniProtKB'}], 'evidences': [{'evidenceCode': 'ECO:0007005', 'source': 'PubMed', 'id': '19946888'}]}, {'database': 'GO', 'id': 'GO:0005739', 'properties': [{'key': 'GoTerm', 'value': 'C:mitochondrion'}, {'key': 'GoEvidenceType', 'value': 'IDA:HPA'}]}, {'database': 'GO', 'id': 'GO:0005730', 'properties': [{'key': 'GoTerm', 'value': 'C:nucleolus'}, {'key': 'GoEvidenceType', 'value': 'IDA:HPA'}]}, {'database': 'GO', 'id': 'GO:0005654', 'properties': [{'key': 'GoTerm', 'value': 'C:nucleoplasm'}, {'key': 'GoEvidenceType', 'value': 'IDA:HPA'}]}, {'database': 'GO', 'id': 'GO:0005634', 'properties': [{'key': 'GoTerm', 'value': 'C:nucleus'}, {'key': 'GoEvidenceType', 'value': 'IDA:UniProtKB'}], 'evidences': [{'evidenceCode': 'ECO:0000314', 'source': 'PubMed', 'id': '11739746'}, {'evidenceCode': 'ECO:0000314', 'source': 'PubMed', 'id': '21123651'}, {'evidenceCode': 'ECO:0000314', 'source': 'PubMed', 'id': '8885239'}]}, {'database': 'GO', 'id': 'GO:1990904', 'properties': [{'key': 'GoTerm', 'value': 'C:ribonucleoprotein complex'}, {'key': 'GoEvidenceType', 'value': 'IDA:UniProtKB'}], 'evidences': [{'evidenceCode': 'ECO:0000314', 'source': 'PubMed', 'id': '17289661'}]}, {'database': 'GO', 'id': 'GO:0003677', 'properties': [{'key': 'GoTerm', 'value': 'F:DNA binding'}, {'key': 'GoEvidenceType', 'value': 'IDA:UniProtKB'}], 'evidences': [{'evidenceCode': 'ECO:0000314', 'source': 'PubMed', 'id': '10574923'}, {'evidenceCode': 'ECO:0000314', 'source': 'PubMed', 'id': '7519613'}]}, {'database': 'GO', 'id': 'GO:0003725', 'properties': [{'key': 'GoTerm', 'value': 'F:double-stranded RNA binding'}, {'key': 'GoEvidenceType', 'value': 'IDA:UniProtKB'}], 'evidences': [{'evidenceCode': 'ECO:0000314', 'source': 'PubMed', 'id': '10574923'}]}, {'database': 'GO', 'id': 'GO:0035925', 'properties': [{'key': 'GoTerm', 'value': \"F:mRNA 3'-UTR AU-rich region binding\"}, {'key': 'GoEvidenceType', 'value': 'IDA:GO_Central'}], 'evidences': [{'evidenceCode': 'ECO:0000314', 'source': 'PubMed', 'id': '14731398'}]}, {'database': 'GO', 'id': 'GO:0003723', 'properties': [{'key': 'GoTerm', 'value': 'F:RNA binding'}, {'key': 'GoEvidenceType', 'value': 'HDA:UniProtKB'}], 'evidences': [{'evidenceCode': 'ECO:0007005', 'source': 'PubMed', 'id': '22658674'}, {'evidenceCode': 'ECO:0007005', 'source': 'PubMed', 'id': '22681889'}]}, {'database': 'GO', 'id': 'GO:0003727', 'properties': [{'key': 'GoTerm', 'value': 'F:single-stranded RNA binding'}, {'key': 'GoEvidenceType', 'value': 'IBA:GO_Central'}]}, {'database': 'GO', 'id': 'GO:0001618', 'properties': [{'key': 'GoTerm', 'value': 'F:virus receptor activity'}, {'key': 'GoEvidenceType', 'value': 'IDA:UniProt'}], 'evidences': [{'evidenceCode': 'ECO:0000314', 'source': 'PubMed', 'id': '21123651'}]}, {'database': 'GO', 'id': 'GO:0051607', 'properties': [{'key': 'GoTerm', 'value': 'P:defense response to virus'}, {'key': 'GoEvidenceType', 'value': 'IEA:UniProtKB-KW'}]}, {'database': 'GO', 'id': 'GO:0045892', 'properties': [{'key': 'GoTerm', 'value': 'P:negative regulation of DNA-templated transcription'}, {'key': 'GoEvidenceType', 'value': 'IDA:UniProtKB'}], 'evidences': [{'evidenceCode': 'ECO:0000314', 'source': 'PubMed', 'id': '11739746'}]}, {'database': 'GO', 'id': 'GO:0017148', 'properties': [{'key': 'GoTerm', 'value': 'P:negative regulation of translation'}, {'key': 'GoEvidenceType', 'value': 'ISS:UniProtKB'}]}, {'database': 'GO', 'id': 'GO:0045071', 'properties': [{'key': 'GoTerm', 'value': 'P:negative regulation of viral genome replication'}, {'key': 'GoEvidenceType', 'value': 'ISS:UniProtKB'}]}, {'database': 'GO', 'id': 'GO:0045893', 'properties': [{'key': 'GoTerm', 'value': 'P:positive regulation of DNA-templated transcription'}, {'key': 'GoEvidenceType', 'value': 'IDA:UniProtKB'}], 'evidences': [{'evidenceCode': 'ECO:0000314', 'source': 'PubMed', 'id': '11739746'}]}, {'database': 'GO', 'id': 'GO:0006468', 'properties': [{'key': 'GoTerm', 'value': 'P:protein phosphorylation'}, {'key': 'GoEvidenceType', 'value': 'IDA:UniProtKB'}], 'evidences': [{'evidenceCode': 'ECO:0000314', 'source': 'PubMed', 'id': '21123651'}]}, {'database': 'GO', 'id': 'GO:0160091', 'properties': [{'key': 'GoTerm', 'value': 'P:spliceosome-depend formation of circular RNA'}, {'key': 'GoEvidenceType', 'value': 'IDA:UniProtKB'}], 'evidences': [{'evidenceCode': 'ECO:0000314', 'source': 'PubMed', 'id': '28625552'}]}, {'database': 'CDD', 'id': 'cd19910', 'properties': [{'key': 'EntryName', 'value': 'DSRM_ILF3_rpt1'}, {'key': 'MatchStatus', 'value': '1'}]}, {'database': 'CDD', 'id': 'cd19912', 'properties': [{'key': 'EntryName', 'value': 'DSRM_ILF3_rpt2'}, {'key': 'MatchStatus', 'value': '1'}]}, {'database': 'FunFam', 'id': '1.10.1410.40:FF:000001', 'properties': [{'key': 'EntryName', 'value': 'interleukin enhancer-binding factor 3 isoform X1'}, {'key': 'MatchStatus', 'value': '1'}]}, {'database': 'FunFam', 'id': '3.30.160.20:FF:000006', 'properties': [{'key': 'EntryName', 'value': 'interleukin enhancer-binding factor 3 isoform X2'}, {'key': 'MatchStatus', 'value': '1'}]}, {'database': 'FunFam', 'id': '3.30.160.20:FF:000008', 'properties': [{'key': 'EntryName', 'value': 'interleukin enhancer-binding factor 3 isoform X2'}, {'key': 'MatchStatus', 'value': '1'}]}, {'database': 'Gene3D', 'id': '1.10.1410.40', 'properties': [{'key': 'EntryName', 'value': '-'}, {'key': 'MatchStatus', 'value': '1'}]}, {'database': 'Gene3D', 'id': '3.30.160.20', 'properties': [{'key': 'EntryName', 'value': '-'}, {'key': 'MatchStatus', 'value': '2'}]}, {'database': 'Gene3D', 'id': '3.30.460.10', 'properties': [{'key': 'EntryName', 'value': 'Beta Polymerase, domain 2'}, {'key': 'MatchStatus', 'value': '2'}]}, {'database': 'InterPro', 'id': 'IPR014720', 'properties': [{'key': 'EntryName', 'value': 'dsRBD_dom'}]}, {'database': 'InterPro', 'id': 'IPR033099', 'properties': [{'key': 'EntryName', 'value': 'DSRM1_ILF3'}]}, {'database': 'InterPro', 'id': 'IPR006561', 'properties': [{'key': 'EntryName', 'value': 'DZF_dom'}]}, {'database': 'InterPro', 'id': 'IPR049402', 'properties': [{'key': 'EntryName', 'value': 'DZF_dom_C'}]}, {'database': 'InterPro', 'id': 'IPR049401', 'properties': [{'key': 'EntryName', 'value': 'DZF_dom_N'}]}, {'database': 'InterPro', 'id': 'IPR043519', 'properties': [{'key': 'EntryName', 'value': 'NT_sf'}]}, {'database': 'PANTHER', 'id': 'PTHR45762:SF4', 'properties': [{'key': 'EntryName', 'value': 'INTERLEUKIN ENHANCER-BINDING FACTOR 3'}, {'key': 'MatchStatus', 'value': '1'}]}, {'database': 'PANTHER', 'id': 'PTHR45762', 'properties': [{'key': 'EntryName', 'value': 'ZINC FINGER RNA-BINDING PROTEIN'}, {'key': 'MatchStatus', 'value': '1'}]}, {'database': 'Pfam', 'id': 'PF00035', 'properties': [{'key': 'EntryName', 'value': 'dsrm'}, {'key': 'MatchStatus', 'value': '2'}]}, {'database': 'Pfam', 'id': 'PF20965', 'properties': [{'key': 'EntryName', 'value': 'DZF_C'}, {'key': 'MatchStatus', 'value': '1'}]}, {'database': 'Pfam', 'id': 'PF07528', 'properties': [{'key': 'EntryName', 'value': 'DZF_N'}, {'key': 'MatchStatus', 'value': '1'}]}, {'database': 'SMART', 'id': 'SM00358', 'properties': [{'key': 'EntryName', 'value': 'DSRM'}, {'key': 'MatchStatus', 'value': '2'}]}, {'database': 'SMART', 'id': 'SM00572', 'properties': [{'key': 'EntryName', 'value': 'DZF'}, {'key': 'MatchStatus', 'value': '1'}]}, {'database': 'SUPFAM', 'id': 'SSF54768', 'properties': [{'key': 'EntryName', 'value': 'dsRNA-binding domain-like'}, {'key': 'MatchStatus', 'value': '2'}]}, {'database': 'PROSITE', 'id': 'PS50137', 'properties': [{'key': 'EntryName', 'value': 'DS_RBD'}, {'key': 'MatchStatus', 'value': '2'}]}, {'database': 'PROSITE', 'id': 'PS51703', 'properties': [{'key': 'EntryName', 'value': 'DZF'}, {'key': 'MatchStatus', 'value': '1'}]}], 'sequence': {'value': 'MRPMRIFVNDDRHVMAKHSSVYPTQEELEAVQNMVSHTERALKAVSDWIDEQEKGSSEQAESDNMDVPPEDDSKEGAGEQKTEHMTRTLRGVMRVGLVAKGLLLKGDLDLELVLLCKEKPTTALLDKVADNLAIQLAAVTEDKYEILQSVDDAAIVIKNTKEPPLSLTIHLTSPVVREEMEKVLAGETLSVNDPPDVLDRQKCLAALASLRHAKWFQARANGLKSCVIVIRVLRDLCTRVPTWGPLRGWPLELLCEKSIGTANRPMGAGEALRRVLECLASGIVMPDGSGIYDPCEKEATDAIGHLDRQQREDITQSAQHALRLAAFGQLHKVLGMDPLPSKMPKKPKNENPVDYTVQIPPSTTYAITPMKRPMEEDGEEKSPSKKKKKIQKKEEKAEPPQAMNALMRLNQLKPGLQYKLVSQTGPVHAPIFTMSVEVDGNSFEASGPSKKTAKLHVAVKVLQDMGLPTGAEGRDSSKGEDSAEETEAKPAVVAPAPVVEAVSTPSAAFPSDATAEQGPILTKHGKNPVMELNEKRRGLKYELISETGGSHDKRFVMEVEVDGQKFQGAGSNKKVAKAYAALAALEKLFPDTPLALDANKKKRAPVPVRGGPKFAAKPHNPGFGMGGPMHNEVPPPPNLRGRGRGGSIRGRGRGRGFGGANHGGYMNAGAGYGSYGYGGNSATAGYSQFYSNGGHSGNASGGGGGGGGGSSGYGSYYQGDNYNSPVPPKHAGKKQPHGGQQKPSYGSGYQSHQGQQQSYNQSPYSNYGPPQGKQKGYNHGQGSYSYSNSYNSPGGGGGSDYNYESKFNYSGSGGRSGGNSYGSGGASYNPGSHGGYGGGSGGGSSYQGKQGGYSQSNYNSPGSGQNYSGPPSSYQSSQGGYGRNADHSMNYQYR', 'length': 894, 'molWeight': 95338, 'crc64': '20903ABD0331F370', 'md5': '3E0974F2BB11AB541968256653C68638'}, 'extraAttributes': {'countByCommentType': {'FUNCTION': 2, 'SUBUNIT': 1, 'INTERACTION': 8, 'SUBCELLULAR LOCATION': 1, 'ALTERNATIVE PRODUCTS': 7, 'TISSUE SPECIFICITY': 1, 'PTM': 3, 'MISCELLANEOUS': 1, 'SEQUENCE CAUTION': 2}, 'countByFeatureType': {'Chain': 1, 'Domain': 3, 'Region': 6, 'Motif': 1, 'Compositional bias': 12, 'Modified residue': 19, 'Cross-link': 4, 'Alternative sequence': 9, 'Natural variant': 2, 'Sequence conflict': 8, 'Helix': 3, 'Beta strand': 3}, 'uniParcId': 'UPI0000163A87'}}\n"
     ]
    },
    {
     "name": "stderr",
     "output_type": "stream",
     "text": [
      "Fetching sequences:  13%|█▎        | 60/469 [00:28<03:15,  2.09it/s]"
     ]
    },
    {
     "name": "stdout",
     "output_type": "stream",
     "text": [
      "{'entryType': 'UniProtKB reviewed (Swiss-Prot)', 'primaryAccession': 'Q96KR1', 'proteinDescription': {'recommendedName': {'fullName': {'value': 'Zinc finger RNA-binding protein'}, 'shortNames': [{'value': 'hZFR'}]}, 'alternativeNames': [{'fullName': {'value': 'M-phase phosphoprotein homolog'}}]}, 'genes': [{'geneName': {'value': 'ZFR'}}], 'sequence': {'value': 'MIPICPVVSFTYVPSRLGEDAKMATGNYFGFTHSGAAAAAAAAQYSQQPASGVAYSHPTTVASYTVHQAPVAAHTVTAAYAPAAATVAVARPAPVAVAAAATAAAYGGYPTAHTATDYGYTQRQQEAPPPPPPATTQNYQDSYSYVRSTAPAVAYDSKQYYQQPTATAAAVAAAAQPQPSVAETYYQTAPKAGYSQGATQYTQAQQTRQVTAIKPATPSPATTTFSIYPVSSTVQPVAAAATVVPSYTQSATYSTTAVTYSGTSYSGYEAAVYSAASSYYQQQQQQQKQAAAAAAAAAATAAWTGTTFTKKAPFQNKQLKPKQPPKPPQIHYCDVCKISCAGPQTYKEHLEGQKHKKKEAALKASQNTSSSNSSTRGTQNQLRCELCDVSCTGADAYAAHIRGAKHQKVVKLHTKLGKPIPSTEPNVVSQATSSTAVSASKPTASPSSIAANNCTVNTSSVATSSMKGLTTTGNSSLNSTSNTKVSAVPTNMAAKKTSTPKINFVGGNKLQSTGNKAEDIKGTECVKSTPVTSAVQIPEVKQDTVSEPVTPASLAALQSDVQPVGHDYVEEVRNDEGKVIRFHCKLCECSFNDPNAKEMHLKGRRHRLQYKKKVNPDLQVEVKPSIRARKIQEEKMRKQMQKEEYWRRREEEERWRMEMRRYEEDMYWRRMEEEQHHWDDRRRMPDGGYPHGPPGPLGLLGVRPGMPPQPQGPAPLRRPDSSDDRYVMTKHATIYPTEEELQAVQKIVSITERALKLVSDSLSEHEKNKNKEGDDKKEGGKDRALKGVLRVGVLAKGLLLRGDRNVNLVLLCSEKPSKTLLSRIAENLPKQLAVISPEKYDIKCAVSEAAIILNSCVEPKMQVTITLTSPIIREENMREGDVTSGMVKDPPDVLDRQKCLDALAALRHAKWFQARANGLQSCVIIIRILRDLCQRVPTWSDFPSWAMELLVEKAISSASSPQSPGDALRRVFECISSGIILKGSPGLLDPCEKDPFDTLATMTDQQREDITSSAQFALRLLAFRQIHKVLGMDPLPQMSQRFNIHNNRKRRRDSDGVDGFEAEGKKDKKDYDNF', 'length': 1074, 'molWeight': 117012, 'crc64': '3E43654E7134E9FC', 'md5': '914465F2FDFDB70B253E8962115F4C6F'}, 'extraAttributes': {'uniParcId': 'UPI00001BBB38'}}\n"
     ]
    },
    {
     "name": "stderr",
     "output_type": "stream",
     "text": [
      "Fetching sequences:  13%|█▎        | 61/469 [00:28<03:11,  2.13it/s]"
     ]
    },
    {
     "name": "stdout",
     "output_type": "stream",
     "text": [
      "{'entryType': 'UniProtKB reviewed (Swiss-Prot)', 'primaryAccession': 'Q9NUL3', 'proteinDescription': {'recommendedName': {'fullName': {'value': 'Double-stranded RNA-binding protein Staufen homolog 2'}}}, 'genes': [{'geneName': {'value': 'STAU2'}}], 'sequence': {'value': 'MANPKEKTAMCLVNELARFNRVQPQYKLLNERGPAHSKMFSVQLSLGEQTWESEGSSIKKAQQAVANKALTESTLPKPVQKPPKSNVNNNPGSITPTVELNGLAMKRGEPAIYRPLDPKPFPNYRANYNFRGMYNQRYHCPVPKIFYVQLTVGNNEFFGEGKTRQAARHNAAMKALQALQNEPIPERSPQNGESGKDVDDDKDANKSEISLVFEIALKRNMPVSFEVIKESGPPHMKSFVTRVSVGEFSAEGEGNSKKLSKKRAATTVLQELKKLPPLPVVEKPKLFFKKRPKTIVKAGPEYGQGMNPISRLAQIQQAKKEKEPDYVLLSERGMPRRREFVMQVKVGNEVATGTGPNKKIAKKNAAEAMLLQLGYKASTNLQDQLEKTGENKGWSGPKPGFPEPTNNTPKGILHLSPDVYQEMEASRHKVISGTTLGYLSPKDMNQPSSSFFSISPTSNSSATIARELLMNGTSSTAEAIGLKGSSPTPPCSPVQPSKQLEYLARIQGFQAALSALKQFSEQGLDPIDGAMNIEKGSLEKQAKHLREKADNNQAPPGSIAQDCKKSNSAV', 'length': 570, 'molWeight': 62608, 'crc64': '0F07B59D9456D9FA', 'md5': '605452232B8EF56C53AFB1BA2D70FECB'}, 'extraAttributes': {'uniParcId': 'UPI000013D271'}}\n"
     ]
    },
    {
     "name": "stderr",
     "output_type": "stream",
     "text": [
      "Fetching sequences:  13%|█▎        | 62/469 [00:28<03:07,  2.17it/s]"
     ]
    },
    {
     "name": "stdout",
     "output_type": "stream",
     "text": [
      "{'entryType': 'UniProtKB reviewed (Swiss-Prot)', 'primaryAccession': 'Q86V81', 'proteinDescription': {'recommendedName': {'fullName': {'value': 'THO complex subunit 4'}, 'shortNames': [{'value': 'Tho4'}]}, 'alternativeNames': [{'fullName': {'value': 'Ally of AML-1 and LEF-1'}}, {'fullName': {'value': 'Aly/REF export factor'}}, {'fullName': {'value': 'Transcriptional coactivator Aly/REF'}}, {'fullName': {'value': 'bZIP-enhancing factor BEF'}}]}, 'genes': [{'geneName': {'value': 'ALYREF'}, 'synonyms': [{'value': 'ALY'}, {'value': 'BEF'}, {'value': 'THOC4'}]}], 'sequence': {'value': 'MADKMDMSLDDIIKLNRSQRGGRGGGRGRGRAGSQGGRGGGAQAAARVNRGGGPIRNRPAIARGAAGGGGRNRPAPYSRPKQLPDKWQHDLFDSGFGGGAGVETGGKLLVSNLDFGVSDADIQELFAEFGTLKKAAVHYDRSGRSLGTADVHFERKADALKAMKQYNGVPLDGRPMNIQLVTSQIDAQRRPAQSVNRGGMTRNRGAGGFGGGGGTRRGTRGGARGRGRGAGRNSKQQLSAEELDAQLDAYNARMDTS', 'length': 257, 'molWeight': 26888, 'crc64': 'E2B5021DA579919A', 'md5': 'FA7C28F7E20D6ADFDB4F446129AEBB10'}, 'extraAttributes': {'uniParcId': 'UPI00001969CC'}}\n"
     ]
    },
    {
     "name": "stderr",
     "output_type": "stream",
     "text": [
      "Fetching sequences:  13%|█▎        | 63/469 [00:29<03:05,  2.19it/s]"
     ]
    },
    {
     "name": "stdout",
     "output_type": "stream",
     "text": [
      "{'entryType': 'UniProtKB reviewed (Swiss-Prot)', 'primaryAccession': 'Q9H6F5', 'proteinDescription': {'recommendedName': {'fullName': {'value': 'Coiled-coil domain-containing protein 86'}}, 'alternativeNames': [{'fullName': {'value': 'Cytokine-induced protein with coiled-coil domain'}}]}, 'genes': [{'geneName': {'value': 'CCDC86'}, 'synonyms': [{'value': 'CYCLON'}]}], 'sequence': {'value': 'MDTPLRRSRRLGGLRPESPESLTSVSRTRRALVEFESNPEETREPGSPPSVQRAGLGSPERPPKTSPGSPRLQQGAGLESPQGQPEPGAASPQRQQDLHLESPQRQPEYSPESPRCQPKPSEEAPKCSQDQGVLASELAQNKEELTPGAPQHQLPPVPGSPEPYPGQQAPGPEPSQPLLELTPRAPGSPRGQHEPSKPPPAGETVTGGFGAKKRKGSSSQAPASKKLNKEELPVIPKGKPKSGRVWKDRSKKRFSQMLQDKPLRTSWQRKMKERQERKLAKDFARHLEEEKERRRQEKKQRRAENLKRRLENERKAEVVQVIRNPAKLKRAKKKQLRSIEKRDTLALLQKQPPQQPAAKI', 'length': 360, 'molWeight': 40236, 'crc64': '5599506F3E799A6C', 'md5': 'C28A9797338D030A2AAA487095ABE866'}, 'extraAttributes': {'uniParcId': 'UPI000003DBBA'}}\n"
     ]
    },
    {
     "name": "stderr",
     "output_type": "stream",
     "text": [
      "Fetching sequences:  14%|█▎        | 64/469 [00:29<03:05,  2.18it/s]"
     ]
    },
    {
     "name": "stdout",
     "output_type": "stream",
     "text": [
      "{'entryType': 'UniProtKB reviewed (Swiss-Prot)', 'primaryAccession': 'Q9NY93', 'proteinDescription': {'recommendedName': {'fullName': {'value': 'Probable ATP-dependent RNA helicase DDX56'}, 'ecNumbers': [{'value': '3.6.4.13'}]}, 'alternativeNames': [{'fullName': {'value': 'ATP-dependent 61 kDa nucleolar RNA helicase'}}, {'fullName': {'value': 'DEAD box protein 21'}}, {'fullName': {'value': 'DEAD box protein 56'}}]}, 'genes': [{'geneName': {'value': 'DDX56'}, 'synonyms': [{'value': 'DDX21'}, {'value': 'NOH61'}]}], 'sequence': {'value': 'MEDSEALGFEHMGLDPRLLQAVTDLGWSRPTLIQEKAIPLALEGKDLLARARTGSGKTAAYAIPMLQLLLHRKATGPVVEQAVRGLVLVPTKELARQAQSMIQQLATYCARDVRVANVSAAEDSVSQRAVLMEKPDVVVGTPSRILSHLQQDSLKLRDSLELLVVDEADLLFSFGFEEELKSLLCHLPRIYQAFLMSATFNEDVQALKELILHNPVTLKLQESQLPGPDQLQQFQVVCETEEDKFLLLYALLKLSLIRGKSLLFVNTLERSYRLRLFLEQFSIPTCVLNGELPLRSRCHIISQFNQGFYDCVIATDAEVLGAPVKGKRRGRGPKGDKASDPEAGVARGIDFHHVSAVLNFDLPPTPEAYIHRAGRTARANNPGIVLTFVLPTEQFHLGKIEELLSGENRGPILLPYQFRMEEIEGFRYRCRDAMRSVTKQAIREARLKEIKEELLHSEKLKTYFEDNPRDLQLLRHDLPLHPAVVKPHLGHVPDYLVPPALRGLVRPHKKRKKLSSSCRKAKRAKSQNPLRSFKHKGKKFRPTAKPS', 'length': 547, 'molWeight': 61590, 'crc64': '6D127CDAA73610D2', 'md5': '4A5841F973D34757A1710924E7C3F29C'}, 'extraAttributes': {'uniParcId': 'UPI0000037BB1'}}\n"
     ]
    },
    {
     "name": "stderr",
     "output_type": "stream",
     "text": [
      "Fetching sequences:  14%|█▍        | 65/469 [00:30<03:01,  2.22it/s]"
     ]
    },
    {
     "name": "stdout",
     "output_type": "stream",
     "text": [
      "{'entryType': 'UniProtKB reviewed (Swiss-Prot)', 'primaryAccession': 'P14678', 'proteinDescription': {'recommendedName': {'fullName': {'value': \"Small nuclear ribonucleoprotein-associated proteins B and B'\"}, 'shortNames': [{'value': 'snRNP-B'}]}, 'alternativeNames': [{'fullName': {'value': \"Sm protein B/B'\"}, 'shortNames': [{'value': \"Sm-B/B'\"}, {'value': \"SmB/B'\"}]}]}, 'genes': [{'geneName': {'value': 'SNRPB'}, 'synonyms': [{'value': 'COD'}, {'value': 'SNRPB1'}]}], 'sequence': {'value': 'MTVGKSSKMLQHIDYRMRCILQDGRIFIGTFKAFDKHMNLILCDCDEFRKIKPKNSKQAEREEKRVLGLVLLRGENLVSMTVEGPPPKDTGIARVPLAGAAGGPGIGRAAGRGIPAGVPMPQAPAGLAGPVRGVGGPSQQVMTPQGRGTVAAAAAAATASIAGAPTQYPPGRGGPPPPMGRGAPPPGMMGPPPGMRPPMGPPMGIPPGRGTPMGMPPPGMRPPPPGMRGPPPPGMRPPRP', 'length': 240, 'molWeight': 24610, 'crc64': 'F2E1D5E11A601170', 'md5': '88FBB9CDB817998A04201C3F9FF42D97'}, 'extraAttributes': {'uniParcId': 'UPI00001351FF'}}\n"
     ]
    },
    {
     "name": "stderr",
     "output_type": "stream",
     "text": [
      "Fetching sequences:  14%|█▍        | 66/469 [00:30<03:00,  2.23it/s]"
     ]
    },
    {
     "name": "stdout",
     "output_type": "stream",
     "text": [
      "{'entryType': 'UniProtKB reviewed (Swiss-Prot)', 'primaryAccession': 'P52272', 'proteinDescription': {'recommendedName': {'fullName': {'value': 'Heterogeneous nuclear ribonucleoprotein M'}, 'shortNames': [{'value': 'hnRNP M'}]}}, 'genes': [{'geneName': {'value': 'HNRNPM'}, 'synonyms': [{'value': 'HNRPM'}, {'value': 'NAGR1'}]}], 'sequence': {'value': 'MAAGVEAAAEVAATEIKMEEESGAPGVPSGNGAPGPKGEGERPAQNEKRKEKNIKRGGNRFEPYANPTKRYRAFITNIPFDVKWQSLKDLVKEKVGEVTYVELLMDAEGKSRGCAVVEFKMEESMKKAAEVLNKHSLSGRPLKVKEDPDGEHARRAMQKVMATTGGMGMGPGGPGMITIPPSILNNPNIPNEIIHALQAGRLGSTVFVANLDYKVGWKKLKEVFSMAGVVVRADILEDKDGKSRGIGTVTFEQSIEAVQAISMFNGQLLFDRPMHVKMDERALPKGDFFPPERPQQLPHGLGGIGMGLGPGGQPIDANHLNKGIGMGNIGPAGMGMEGIGFGINKMGGMEGPFGGGMENMGRFGSGMNMGRINEILSNALKRGEIIAKQGGGGGGGSVPGIERMGPGIDRLGGAGMERMGAGLGHGMDRVGSEIERMGLVMDRMGSVERMGSGIERMGPLGLDHMASSIERMGQTMERIGSGVERMGAGMGFGLERMAAPIDRVGQTIERMGSGVERMGPAIERMGLSMERMVPAGMGAGLERMGPVMDRMATGLERMGANNLERMGLERMGANSLERMGLERMGANSLERMGPAMGPALGAGIERMGLAMGGGGGASFDRAIEMERGNFGGSFAGSFGGAGGHAPGVARKACQIFVRNLPFDFTWKMLKDKFNECGHVLYADIKMENGKSKGCGVVKFESPEVAERACRMMNGMKLSGREIDVRIDRNA', 'length': 730, 'molWeight': 77516, 'crc64': '1A73DD35A3501861', 'md5': '2F14C633E4FA6D22A35A8D91F0D10E0B'}, 'extraAttributes': {'uniParcId': 'UPI000006E7A2'}}\n"
     ]
    },
    {
     "name": "stderr",
     "output_type": "stream",
     "text": [
      "Fetching sequences:  14%|█▍        | 67/469 [00:31<02:59,  2.25it/s]"
     ]
    },
    {
     "name": "stdout",
     "output_type": "stream",
     "text": [
      "{'entryType': 'UniProtKB reviewed (Swiss-Prot)', 'primaryAccession': 'P50990', 'proteinDescription': {'recommendedName': {'fullName': {'value': 'T-complex protein 1 subunit theta'}, 'shortNames': [{'value': 'TCP-1-theta'}]}, 'alternativeNames': [{'fullName': {'value': 'CCT-theta'}}, {'fullName': {'value': 'Chaperonin containing T-complex polypeptide 1 subunit 8'}}, {'fullName': {'value': 'Renal carcinoma antigen NY-REN-15'}}]}, 'genes': [{'geneName': {'value': 'CCT8'}, 'synonyms': [{'value': 'C21orf112'}, {'value': 'CCTQ'}, {'value': 'KIAA0002'}]}], 'sequence': {'value': 'MALHVPKAPGFAQMLKEGAKHFSGLEEAVYRNIQACKELAQTTRTAYGPNGMNKMVINHLEKLFVTNDAATILRELEVQHPAAKMIVMASHMQEQEVGDGTNFVLVFAGALLELAEELLRIGLSVSEVIEGYEIACRKAHEILPNLVCCSAKNLRDIDEVSSLLRTSIMSKQYGNEVFLAKLIAQACVSIFPDSGHFNVDNIRVCKILGSGISSSSVLHGMVFKKETEGDVTSVKDAKIAVYSCPFDGMITETKGTVLIKTAEELMNFSKGEENLMDAQVKAIADTGANVVVTGGKVADMALHYANKYNIMLVRLNSKWDLRRLCKTVGATALPRLTPPVLEEMGHCDSVYLSEVGDTQVVVFKHEKEDGAISTIVLRGSTDNLMDDIERAVDDGVNTFKVLTRDKRLVPGGGATEIELAKQITSYGETCPGLEQYAIKKFAEAFEAIPRALAENSGVKANEVISKLYAVHQEGNKNVGLDIEAEVPAVKDMLEAGILDTYLGKYWAIKLATNAAVTVLRVDQIIMAKPAGGPKPPSGKKDWDDDQND', 'length': 548, 'molWeight': 59621, 'crc64': '566A6622BC2D15E9', 'md5': 'C53F5627BDC70D4B9671C3097A4C2D23'}, 'extraAttributes': {'uniParcId': 'UPI0000136B0D'}}\n"
     ]
    },
    {
     "name": "stderr",
     "output_type": "stream",
     "text": [
      "Fetching sequences:  14%|█▍        | 68/469 [00:31<02:58,  2.24it/s]"
     ]
    },
    {
     "name": "stdout",
     "output_type": "stream",
     "text": [
      "{'entryType': 'UniProtKB reviewed (Swiss-Prot)', 'primaryAccession': 'O75367', 'proteinDescription': {'recommendedName': {'fullName': {'value': 'Core histone macro-H2A.1'}, 'shortNames': [{'value': 'Histone macroH2A1'}, {'value': 'mH2A1'}]}, 'alternativeNames': [{'fullName': {'value': 'Histone H2A.y'}, 'shortNames': [{'value': 'H2A/y'}]}, {'fullName': {'value': 'Medulloblastoma antigen MU-MB-50.205'}}]}, 'genes': [{'geneName': {'evidences': [{'evidenceCode': 'ECO:0000312', 'source': 'HGNC', 'id': 'HGNC:4740'}], 'value': 'MACROH2A1'}, 'synonyms': [{'evidences': [{'evidenceCode': 'ECO:0000312', 'source': 'HGNC', 'id': 'HGNC:4740'}], 'value': 'H2AFY'}]}], 'sequence': {'value': 'MSSRGGKKKSTKTSRSAKAGVIFPVGRMLRYIKKGHPKYRIGVGAPVYMAAVLEYLTAEILELAGNAARDNKKGRVTPRHILLAVANDEELNQLLKGVTIASGGVLPNIHPELLAKKRGSKGKLEAIITPPPAKKAKSPSQKKPVSKKAGGKKGARKSKKKQGEVSKAASADSTTEGTPADGFTVLSTKSLFLGQKLQVVQADIASIDSDAVVHPTNTDFYIGGEVGNTLEKKGGKEFVEAVLELRKKNGPLEVAGAAVSAGHGLPAKFVIHCNSPVWGADKCEELLEKTVKNCLALADDKKLKSIAFPSIGSGRNGFPKQTAAQLILKAISSYFVSTMSSSIKTVYFVLFDSESIGIYVQEMAKLDAN', 'length': 369, 'molWeight': 39184, 'crc64': 'D21A4CE6C7AA3BB1', 'md5': '3834940FE763831FB458643ECA46EA6E'}, 'extraAttributes': {'uniParcId': 'UPI000013E965'}}\n"
     ]
    },
    {
     "name": "stderr",
     "output_type": "stream",
     "text": [
      "Fetching sequences:  15%|█▍        | 69/469 [00:32<02:58,  2.24it/s]"
     ]
    },
    {
     "name": "stdout",
     "output_type": "stream",
     "text": [
      "{'entryType': 'UniProtKB reviewed (Swiss-Prot)', 'primaryAccession': 'Q14692', 'proteinDescription': {'recommendedName': {'fullName': {'value': 'Ribosome biogenesis protein BMS1 homolog'}, 'ecNumbers': [{'evidences': [{'evidenceCode': 'ECO:0000250', 'source': 'UniProtKB', 'id': 'Q08965'}], 'value': '3.6.5.-'}]}, 'alternativeNames': [{'fullName': {'value': 'Ribosome assembly protein BMS1 homolog'}}]}, 'genes': [{'geneName': {'evidences': [{'evidenceCode': 'ECO:0000312', 'source': 'HGNC', 'id': 'HGNC:23505'}], 'value': 'BMS1'}, 'synonyms': [{'value': 'BMS1L'}, {'value': 'KIAA0187'}]}], 'sequence': {'value': 'MEAKDQKKHRKKNSGPKAAKKKKRLLQDLQLGDEEDARKRNPKAFAVQSAVRMARSFHRTQDLKTKKHHIPVVDRTPLEPPPIVVVVMGPPKVGKSTLIQCLIRNFTRQKLTEIRGPVTIVSGKKRRLTIIECGCDINMMIDLAKVADLVLMLIDASFGFEMETFEFLNICQVHGFPKIMGVLTHLDSFKHNKQLKKTKKRLKHRFWTEVYPGAKLFYLSGMVHGEYQNQEIHNLGRFITVMKFRPLTWQTSHPYILADRMEDLTNPEDIRTNIKCDRKVSLYGYLRGAHLKNKSQIHMPGVGDFAVSDISFLPDPCALPEQQKKRCLNEKEKLVYAPLSGVGGVLYDKDAVYVDLGGSHVFQDEVGPTHELVQSLISTHSTIDAKMASSRVTLFSDSKPLGSEDIDNQGLMMPKEEKQMDLNTGRMRRKAIFGDEDESGDSDDEEDDEMSEDDGLENGSSDEEAEEEENAEMTDQYMAVKGIKRRKLELEEDSEMDLPAFADSDDDLERSSAEEGEAEEADESSEEEDCTAGEKGISGSKAAGEGSKAGLSPANCQSDRVNLEKSLLMKKAALPTFDSGHCTAEEVFASEDESEESSSLSAEEEDSENEEAIRKKLSKPSQVSSGQKLGPQNFIDETSDIENLLKEEEDYKEENNDSKETSGALKWKEDLSRKAAEAFLRQQQAAPNLRKLIYGTVTEDNEEEDDDTLEELGGLFRVNQPDRECKHKADSLDCSRFLVEAPHDWDLEEVMNSIRDCFVTGKWEDDKDAAKVLAEDEELYGDFEDLETGDVHKGKSGPNTQNEDIEKEVKEEIDPDEEESAKKKHLDKKRKLKEMFDAEYDEGESTYFDDLKGEMQKQAQLNRAEFEDQDDEARVQYEGFRPGMYVRIEIENVPCEFVQNFDPHYPIILGGLGNSEGNVGYVQMRLKKHRWYKKILKSRDPIIFSVGWRRFQTIPLYYIEDHNGRQRLLKYTPQHMHCGAAFWGPITPQGTGFLAIQSVSGIMPDFRIAATGVVLDLDKSIKIVKKLKLTGFPYKIFKNTSFIKGMFNSALEVAKFEGAVIRTVSGIRGQIKKALRAPEGAFRASFEDKLLMSDIVFMRTWYPVSIPAFYNPVTSLLKPVGEKDTWSGMRTTGQLRLAHGVRLKANKDSLYKPILRQKKHFNSLHIPKALQKALPFKNKPKTQAKAGKVPKDRRRPAVIREPHERKILALLDALSTVHSQKMKKAKEQRHLHNKEHFRAKQKEEEEKLKRQKDLRKKLFRIQGQKERRNQKSSLKGAEGQLQ', 'length': 1282, 'molWeight': 145807, 'crc64': '54A736ED250A5138', 'md5': 'E82C1CF433F68C9A0FC4A866EA7113B9'}, 'extraAttributes': {'uniParcId': 'UPI0000126A3E'}}\n"
     ]
    },
    {
     "name": "stderr",
     "output_type": "stream",
     "text": [
      "Fetching sequences:  15%|█▍        | 70/469 [00:32<02:57,  2.25it/s]"
     ]
    },
    {
     "name": "stdout",
     "output_type": "stream",
     "text": [
      "{'entryType': 'UniProtKB reviewed (Swiss-Prot)', 'primaryAccession': 'O60506', 'proteinDescription': {'recommendedName': {'fullName': {'value': 'Heterogeneous nuclear ribonucleoprotein Q'}, 'shortNames': [{'value': 'hnRNP Q'}]}, 'alternativeNames': [{'fullName': {'value': 'Glycine- and tyrosine-rich RNA-binding protein'}, 'shortNames': [{'value': 'GRY-RBP'}]}, {'fullName': {'value': 'NS1-associated protein 1'}}, {'fullName': {'value': 'Synaptotagmin-binding, cytoplasmic RNA-interacting protein'}}]}, 'genes': [{'geneName': {'value': 'SYNCRIP'}, 'synonyms': [{'value': 'HNRPQ'}, {'value': 'NSAP1'}]}], 'sequence': {'value': 'MATEHVNGNGTEEPMDTTSAVIHSENFQTLLDAGLPQKVAEKLDEIYVAGLVAHSDLDERAIEALKEFNEDGALAVLQQFKDSDLSHVQNKSAFLCGVMKTYRQREKQGTKVADSSKGPDEAKIKALLERTGYTLDVTTGQRKYGGPPPDSVYSGQQPSVGTEIFVGKIPRDLFEDELVPLFEKAGPIWDLRLMMDPLTGLNRGYAFVTFCTKEAAQEAVKLYNNHEIRSGKHIGVCISVANNRLFVGSIPKSKTKEQILEEFSKVTEGLTDVILYHQPDDKKKNRGFCFLEYEDHKTAAQARRRLMSGKVKVWGNVGTVEWADPIEDPDPEVMAKVKVLFVRNLANTVTEEILEKAFSQFGKLERVKKLKDYAFIHFDERDGAVKAMEEMNGKDLEGENIEIVFAKPPDQKRKERKAQRQAAKNQMYDDYYYYGPPHMPPPTRGRGRGGRGGYGYPPDYYGYEDYYDYYGYDYHNYRGGYEDPYYGYEDFQVGARGRGGRGARGAAPSRGRGAAPPRGRAGYSQRGGPGSARGVRGARGGAQQQRGRGVRGARGGRGGNVGGKRKADGYNQPDSKRRQTNNQNWGSQPIAQQPLQGGDHSGNYGYKSENQEFYQDTFGQQWK', 'length': 623, 'molWeight': 69603, 'crc64': '0669FA604E8FBBDF', 'md5': '5F60A285D2A9C03E8BDDB238E6A2668E'}, 'extraAttributes': {'uniParcId': 'UPI000013CF84'}}\n"
     ]
    },
    {
     "name": "stderr",
     "output_type": "stream",
     "text": [
      "Fetching sequences:  15%|█▌        | 71/469 [00:32<02:57,  2.24it/s]"
     ]
    },
    {
     "name": "stdout",
     "output_type": "stream",
     "text": [
      "{'entryType': 'UniProtKB reviewed (Swiss-Prot)', 'primaryAccession': 'Q8TED0', 'proteinDescription': {'recommendedName': {'fullName': {'value': 'U3 small nucleolar RNA-associated protein 15 homolog'}}}, 'genes': [{'geneName': {'evidences': [{'evidenceCode': 'ECO:0000312', 'source': 'HGNC', 'id': 'HGNC:25758'}], 'value': 'UTP15'}}], 'sequence': {'value': 'MAGYKPVAIQTYPILGEKITQDTLYWNNYKTPVQIKEFGAVSKVDFSPQPPYNYAVTASSRIHIYGRYSQEPIKTFSRFKDTAYCATFRQDGRLLVAGSEDGGVQLFDISGRAPLRQFEGHTKAVHTVDFTADKYHVVSGADDYTVKLWDIPNSKEILTFKEHSDYVRCGCASKLNPDLFITGSYDHTVKMFDARTSESVLSVEHGQPVESVLLFPSGGLLVSAGGRYVKVWDMLKGGQLLVSLKNHHKTVTCLCLSSSGQRLLSGSLDRKVKVYSTTSYKVVHSFDYAASILSLALAHEDETIVVGMTNGILSVKHRKSEAKKESLPRRRRPAYRTFIKGKNYMKQRDDILINRPAKKHLELYDRDLKHFRISKALDRVLDPTCTIKTPEITVSIIKELNRRGVLANALAGRDEKEISHVLNFLIRNLSQPRFAPVLINAAEIIIDIYLPVIGQSPVVDKKFLLLQGLVEKEIDYQRELLETLGMMDMLFATMRRKEGTSVLEHTSDGFPENKKIES', 'length': 518, 'molWeight': 58415, 'crc64': 'CB1994E968981BD0', 'md5': '8698C1A48289123365525AFA3A953BE7'}, 'extraAttributes': {'uniParcId': 'UPI000020CADC'}}\n"
     ]
    },
    {
     "name": "stderr",
     "output_type": "stream",
     "text": [
      "Fetching sequences:  15%|█▌        | 72/469 [00:33<02:55,  2.26it/s]"
     ]
    },
    {
     "name": "stdout",
     "output_type": "stream",
     "text": [
      "{'entryType': 'UniProtKB reviewed (Swiss-Prot)', 'primaryAccession': 'Q9BVJ6', 'proteinDescription': {'recommendedName': {'fullName': {'value': 'U3 small nucleolar RNA-associated protein 14 homolog A'}}, 'alternativeNames': [{'fullName': {'value': 'Antigen NY-CO-16'}}, {'fullName': {'value': 'Serologically defined colon cancer antigen 16'}}]}, 'genes': [{'geneName': {'value': 'UTP14A'}, 'synonyms': [{'value': 'SDCCAG16'}]}], 'sequence': {'value': 'MTANRLAESLLALSQQEELADLPKDYLLSESEDEGDNDGERKHQKLLEAISSLDGKNRRKLAERSEASLKVSEFNVSSEGSGEKLVLADLLEPVKTSSSLATVKKQLSRVKSKKTVELPLNKEEIERIHREVAFNKTAQVLSKWDPVVLKNRQAEQLVFPLEKEEPAIAPIEHVLSGWKARTPLEQEIFNLLHKNKQPVTDPLLTPVEKASLRAMSLEEAKMRRAELQRARALQSYYEAKARREKKIKSKKYHKVVKKGKAKKALKEFEQLRKVNPAAALEELEKIEKARMMERMSLKHQNSGKWAKSKAIMAKYDLEARQAMQEQLSKNKELTQKLQVASESEEEEGGTEDVEELLVPDVVNEVQMNADGPNPWMLRSCTSDTKEAATQEDPEQLPELEAHGVSESEGEERPVAEEEILLREFEERRSLRKRSELSQDAEPAGSQETKDSGSQEVLSELRVLSQKLKENHQSRKQKASSEGTIPQVQREEPAPEEEEPLLLQRPERVQTLEELEELGKEECFQNKELPRPVLEGQQSERTPNNRPDAPKEKKKKEQMIDLQNLLTTQSPSVKSLAVPTIEELEDEEERNHRQMIKEAFAGDDVIRDFLKEKREAVEASKPKDVDLTLPGWGEWGGVGLKPSAKKRRRFLIKAPEGPPRKDKNLPNVIINEKRNIHAAAHQVRVLPYPFTHHWQFERTIQTPIGSTWNTQRAFQKLTTPKVVTKPGHIINPIKAEDVGYRSSSRSDLSVIQRNPKRITTRHKKQLKKCSVD', 'length': 771, 'molWeight': 87978, 'crc64': 'DF82C264BA6486FE', 'md5': '1A0712582B8BD5ABA9CDC5B6BA74D4BB'}, 'extraAttributes': {'uniParcId': 'UPI0000072A7B'}}\n"
     ]
    },
    {
     "name": "stderr",
     "output_type": "stream",
     "text": [
      "Fetching sequences:  16%|█▌        | 73/469 [00:33<02:55,  2.25it/s]"
     ]
    },
    {
     "name": "stdout",
     "output_type": "stream",
     "text": [
      "{'entryType': 'UniProtKB reviewed (Swiss-Prot)', 'primaryAccession': 'Q15029', 'proteinDescription': {'recommendedName': {'fullName': {'value': '116 kDa U5 small nuclear ribonucleoprotein component'}}, 'alternativeNames': [{'fullName': {'value': 'Elongation factor Tu GTP-binding domain-containing protein 2'}}, {'fullName': {'value': 'SNU114 homolog'}, 'shortNames': [{'value': 'hSNU114'}]}, {'fullName': {'value': 'U5 snRNP-specific protein, 116 kDa'}, 'shortNames': [{'value': 'U5-116 kDa'}]}]}, 'genes': [{'geneName': {'value': 'EFTUD2'}, 'synonyms': [{'value': 'KIAA0031'}, {'value': 'SNRP116'}]}], 'sequence': {'value': 'MDTDLYDEFGNYIGPELDSDEDDDELGRETKDLDEMDDDDDDDDVGDHDDDHPGMEVVLHEDKKYYPTAEEVYGPEVETIVQEEDTQPLTEPIIKPVKTKKFTLMEQTLPVTVYEMDFLADLMDNSELIRNVTLCGHLHHGKTCFVDCLIEQTHPEIRKRYDQDLCYTDILFTEQERGVGIKSTPVTVVLPDTKGKSYLFNIMDTPGHVNFSDEVTAGLRISDGVVLFIDAAEGVMLNTERLIKHAVQERLAVTVCINKIDRLILELKLPPTDAYYKLRHIVDEVNGLISMYSTDENLILSPLLGNVCFSSSQYSICFTLGSFAKIYADTFGDINYQEFAKRLWGDIYFNPKTRKFTKKAPTSSSQRSFVEFILEPLYKILAQVVGDVDTSLPRTLDELGIHLTKEELKLNIRPLLRLVCKKFFGEFTGFVDMCVQHIPSPKVGAKPKIEHTYTGGVDSDLGEAMSDCDPDGPLMCHTTKMYSTDDGVQFHAFGRVLSGTIHAGQPVKVLGENYTLEDEEDSQICTVGRLWISVARYHIEVNRVPAGNWVLIEGVDQPIVKTATITEPRGNEEAQIFRPLKFNTTSVIKIAVEPVNPSELPKMLDGLRKVNKSYPSLTTKVEESGEHVILGTGELYLDCVMHDLRKMYSEIDIKVADPVVTFCETVVETSSLKCFAETPNKKNKITMIAEPLEKGLAEDIENEVVQITWNRKKLGEFFQTKYDWDLLAARSIWAFGPDATGPNILVDDTLPSEVDKALLGSVKDSIVQGFQWGTREGPLCDELIRNVKFKILDAVVAQEPLHRGGGQIIPTARRVVYSAFLMATPRLMEPYYFVEVQAPADCVSAVYTVLARRRGHVTQDAPIPGSPLYTIKAFIPAIDSFGFETDLRTHTQGQAFSLSVFHHWQIVPGDPLDKSIVIRPLEPQPAPHLAREFMIKTRRRKGLSEDVSISKFFDDPMLLELAKQDVVLNYPM', 'length': 972, 'molWeight': 109436, 'crc64': '862BD6CA7993F118', 'md5': '9E68DAE90E5ADA633EEE8B82071BAF2C'}, 'extraAttributes': {'uniParcId': 'UPI0000137931'}}\n"
     ]
    },
    {
     "name": "stderr",
     "output_type": "stream",
     "text": [
      "Fetching sequences:  16%|█▌        | 74/469 [00:34<02:53,  2.28it/s]"
     ]
    },
    {
     "name": "stdout",
     "output_type": "stream",
     "text": [
      "{'entryType': 'UniProtKB reviewed (Swiss-Prot)', 'primaryAccession': 'Q13610', 'proteinDescription': {'recommendedName': {'fullName': {'evidences': [{'evidenceCode': 'ECO:0000312', 'source': 'HGNC', 'id': 'HGNC:17015'}], 'value': 'Periodic tryptophan protein 1 homolog'}}, 'alternativeNames': [{'fullName': {'value': 'Keratinocyte protein IEF SSP 9502'}}]}, 'genes': [{'geneName': {'value': 'PWP1'}}], 'sequence': {'value': 'MNRSRQVTCVAWVRCGVAKETPDKVELSKEEVKRLIAEAKEKLQEEGGGSDEEETGSPSEDGMQSARTQARPREPLEDGDPEDDRTLDDDELAEYDLDKYDEEGDPDAETLGESLLGLTVYGSNDQDPYVTLKDTEQYEREDFLIKPSDNLIVCGRAEQDQCNLEVHVYNQEEDSFYVHHDILLSAYPLSVEWLNFDPSPDDSTGNYIAVGNMTPVIEVWDLDIVDSLEPVFTLGSKLSKKKKKKGKKSSSAEGHTDAVLDLSWNKLIRNVLASASADNTVILWDMSLGKPAASLAVHTDKVQTLQFHPFEAQTLISGSYDKSVALYDCRSPDESHRMWRFSGQIERVTWNHFSPCHFLASTDDGFVYNLDARSDKPIFTLNAHNDEISGLDLSSQIKGCLVTASADKYVKIWDILGDRPSLVHSRDMKMGVLFCSSCCPDLPFIYAFGGQKEGLRVWDISTVSSVNEAFGRRERLVLGSARNSSISGPFGSRSSDTPMES', 'length': 501, 'molWeight': 55828, 'crc64': '16CC8EF2BAC8DFF0', 'md5': '2F23D86F2DF81B40E41387838A943722'}, 'extraAttributes': {'uniParcId': 'UPI0000132B9C'}}\n"
     ]
    },
    {
     "name": "stderr",
     "output_type": "stream",
     "text": [
      "Fetching sequences:  16%|█▌        | 75/469 [00:34<02:54,  2.26it/s]"
     ]
    },
    {
     "name": "stdout",
     "output_type": "stream",
     "text": [
      "{'entryType': 'UniProtKB reviewed (Swiss-Prot)', 'primaryAccession': 'Q09161', 'proteinDescription': {'recommendedName': {'fullName': {'value': 'Nuclear cap-binding protein subunit 1'}}, 'alternativeNames': [{'fullName': {'value': '80 kDa nuclear cap-binding protein'}, 'shortNames': [{'value': 'CBP80'}, {'value': 'NCBP 80 kDa subunit'}]}]}, 'genes': [{'geneName': {'value': 'NCBP1'}, 'synonyms': [{'value': 'CBP80'}, {'value': 'NCBP'}]}], 'sequence': {'value': 'MSRRRHSDENDGGQPHKRRKTSDANETEDHLESLICKVGEKSACSLESNLEGLAGVLEADLPNYKSKILRLLCTVARLLPEKLTIYTTLVGLLNARNYNFGGEFVEAMIRQLKESLKANNYNEAVYLVRFLSDLVNCHVIAAPSMVAMFENFVSVTQEEDVPQVRRDWYVYAFLSSLPWVGKELYEKKDAEMDRIFANTESYLKRRQKTHVPMLQVWTADKPHPQEEYLDCLWAQIQKLKKDRWQERHILRPYLAFDSILCEALQHNLPPFTPPPHTEDSVYPMPRVIFRMFDYTDDPEGPVMPGSHSVERFVIEENLHCIIKSHWKERKTCAAQLVSYPGKNKIPLNYHIVEVIFAELFQLPAPPHIDVMYTTLLIELCKLQPGSLPQVLAQATEMLYMRLDTMNTTCVDRFINWFSHHLSNFQFRWSWEDWSDCLSQDPESPKPKFVREVLEKCMRLSYHQRILDIVPPTFSALCPANPTCIYKYGDESSNSLPGHSVALCLAVAFKSKATNDEIFSILKDVPNPNQDDDDDEGFSFNPLKIEVFVQTLLHLAAKSFSHSFSALAKFHEVFKTLAESDEGKLHVLRVMFEVWRNHPQMIAVLVDKMIRTQIVDCAAVANWIFSSELSRDFTRLFVWEILHSTIRKMNKHVLKIQKELEEAKEKLARQHKRRSDDDDRSSDRKDGVLEEQIERLQEKVESAQSEQKNLFLVIFQRFIMILTEHLVRCETDGTSVLTPWYKNCIERLQQIFLQHHQIIQQYMVTLENLLFTAELDPHILAVFQQFCALQA', 'length': 790, 'molWeight': 91839, 'crc64': 'F10DE7B9D16FDA0B', 'md5': 'B6F5CE6B351355F88E2478CAB29E3FFC'}, 'extraAttributes': {'uniParcId': 'UPI0000112754'}}\n"
     ]
    },
    {
     "name": "stderr",
     "output_type": "stream",
     "text": [
      "Fetching sequences:  16%|█▌        | 76/469 [00:35<02:52,  2.27it/s]"
     ]
    },
    {
     "name": "stdout",
     "output_type": "stream",
     "text": [
      "{'entryType': 'UniProtKB reviewed (Swiss-Prot)', 'primaryAccession': 'Q12905', 'proteinDescription': {'recommendedName': {'fullName': {'value': 'Interleukin enhancer-binding factor 2'}}, 'alternativeNames': [{'fullName': {'value': 'Nuclear factor of activated T-cells 45 kDa'}}]}, 'genes': [{'geneName': {'value': 'ILF2'}, 'synonyms': [{'value': 'NF45'}], 'orfNames': [{'value': 'PRO3063'}]}], 'sequence': {'value': 'MRGDRGRGRGGRFGSRGGPGGGFRPFVPHIPFDFYLCEMAFPRVKPAPDETSFSEALLKRNQDLAPNSAEQASILSLVTKINNVIDNLIVAPGTFEVQIEEVRQVGSYKKGTMTTGHNVADLVVILKILPTLEAVAALGNKVVESLRAQDPSEVLTMLTNETGFEISSSDATVKILITTVPPNLRKLDPELHLDIKVLQSALAAIRHARWFEENASQSTVKVLIRLLKDLRIRFPGFEPLTPWILDLLGHYAVMNNPTRQPLALNVAYRRCLQILAAGLFLPGSVGITDPCESGNFRVHTVMTLEQQDMVCYTAQTLVRILSHGGFRKILGQEGDASYLASEISTWDGVIVTPSEKAYEKPPEKKEGEEEEENTEEPPQGEEEESMETQE', 'length': 390, 'molWeight': 43062, 'crc64': '75BAD022DCD4EE01', 'md5': '481AFF984F0E802B9A09386677902B84'}, 'extraAttributes': {'uniParcId': 'UPI0000027483'}}\n"
     ]
    },
    {
     "name": "stderr",
     "output_type": "stream",
     "text": [
      "Fetching sequences:  16%|█▋        | 77/469 [00:35<02:52,  2.27it/s]"
     ]
    },
    {
     "name": "stdout",
     "output_type": "stream",
     "text": [
      "{'entryType': 'UniProtKB reviewed (Swiss-Prot)', 'primaryAccession': 'P61978', 'proteinDescription': {'recommendedName': {'fullName': {'value': 'Heterogeneous nuclear ribonucleoprotein K'}, 'shortNames': [{'value': 'hnRNP K'}]}, 'alternativeNames': [{'fullName': {'value': 'Transformation up-regulated nuclear protein'}, 'shortNames': [{'value': 'TUNP'}]}]}, 'genes': [{'geneName': {'value': 'HNRNPK'}, 'synonyms': [{'value': 'HNRPK'}]}], 'sequence': {'value': 'METEQPEETFPNTETNGEFGKRPAEDMEEEQAFKRSRNTDEMVELRILLQSKNAGAVIGKGGKNIKALRTDYNASVSVPDSSGPERILSISADIETIGEILKKIIPTLEEGLQLPSPTATSQLPLESDAVECLNYQHYKGSDFDCELRLLIHQSLAGGIIGVKGAKIKELRENTQTTIKLFQECCPHSTDRVVLIGGKPDRVVECIKIILDLISESPIKGRAQPYDPNFYDETYDYGGFTMMFDDRRGRPVGFPMRGRGGFDRMPPGRGGRPMPPSRRDYDDMSPRRGPPPPPPGRGGRGGSRARNLPLPPPPPPRGGDLMAYDRRGRPGDRYDGMVGFSADETWDSAIDTWSPSEWQMAYEPQGGSGYDYSYAGGRGSYGDLGGPIITTQVTIPKDLAGSIIGKGGQRIKQIRHESGASIKIDEPLEGSEDRIITITGTQDQIQNAQYLLQNSVKQYSGKFF', 'length': 463, 'molWeight': 50976, 'crc64': '0F70EE169B2A064A', 'md5': '3E488F6B0FE1F0E10BEF73C610406D39'}, 'extraAttributes': {'uniParcId': 'UPI000013453B'}}\n"
     ]
    },
    {
     "name": "stderr",
     "output_type": "stream",
     "text": [
      "Fetching sequences:  17%|█▋        | 78/469 [00:36<02:51,  2.28it/s]"
     ]
    },
    {
     "name": "stdout",
     "output_type": "stream",
     "text": [
      "{'entryType': 'UniProtKB reviewed (Swiss-Prot)', 'primaryAccession': 'Q1KMD3', 'proteinDescription': {'recommendedName': {'fullName': {'value': 'Heterogeneous nuclear ribonucleoprotein U-like protein 2'}}, 'alternativeNames': [{'fullName': {'value': 'Scaffold-attachment factor A2'}, 'shortNames': [{'value': 'SAF-A2'}]}]}, 'genes': [{'geneName': {'value': 'HNRNPUL2'}, 'synonyms': [{'value': 'HNRPUL2'}]}], 'sequence': {'value': 'MEVKRLKVTELRSELQRRGLDSRGLKVDLAQRLQEALDAEMLEDEAGGGGAGPGGACKAEPRPVAASGGGPGGDEEEDEEEEEEDEEALLEDEDEEPPPAQALGQAAQPPPEPPEAAAMEAAAEPDASEKPAEATAGSGGVNGGEEQGLGKREEDEPEERSGDETPGSEVPGDKAAEEQGDDQDSEKSKPAGSDGERRGVKRQRDEKDEHGRAYYEFREEAYHSRSKSPLPPEEEAKDEEEDQTLVNLDTYTSDLHFQVSKDRYGGQPLFSEKFPTLWSGARSTYGVTKGKVCFEAKVTQNLPMKEGCTEVSLLRVGWSVDFSRPQLGEDEFSYGFDGRGLKAENGQFEEFGQTFGENDVIGCFANFETEEVELSFSKNGEDLGVAFWISKDSLADRALLPHVLCKNCVVELNFGQKEEPFFPPPEEFVFIHAVPVEERVRTAVPPKTIEECEVILMVGLPGSGKTQWALKYAKENPEKRYNVLGAETVLNQMRMKGLEEPEMDPKSRDLLVQQASQCLSKLVQIASRTKRNFILDQCNVYNSGQRRKLLLFKTFSRKVVVVVPNEEDWKKRLELRKEVEGDDVPESIMLEMKANFSLPEKCDYMDEVTYGELEKEEAQPIVTKYKEEARKLLPPSEKRTNRRNNRNKRNRQNRSRGQGYVGGQRRGYDNRAYGQQYWGQPGNRGGYRNFYDRYRGDYDRFYGRDYEYNRYRDYYRQYNRDWQSYYYHHPQDRDRYYRNYYGYQGYR', 'length': 747, 'molWeight': 85105, 'crc64': '7EAAC2F598330AAA', 'md5': '6A63C4DCA59958F4A58FD07D10E26808'}, 'extraAttributes': {'uniParcId': 'UPI0000161949'}}\n"
     ]
    },
    {
     "name": "stderr",
     "output_type": "stream",
     "text": [
      "Fetching sequences:  17%|█▋        | 79/469 [00:36<02:51,  2.28it/s]"
     ]
    },
    {
     "name": "stdout",
     "output_type": "stream",
     "text": [
      "{'entryType': 'UniProtKB reviewed (Swiss-Prot)', 'primaryAccession': 'P61326', 'proteinDescription': {'recommendedName': {'fullName': {'value': 'Protein mago nashi homolog'}}}, 'genes': [{'geneName': {'value': 'MAGOH'}, 'synonyms': [{'value': 'MAGOHA'}]}], 'sequence': {'value': 'MESDFYLRYYVGHKGKFGHEFLEFEFRPDGKLRYANNSNYKNDVMIRKEAYVHKSVMEELKRIIDDSEITKEDDALWPPPDRVGRQELEIVIGDEHISFTTSKIGSLIDVNQSKDPEGLRVFYYLVQDLKCLVFSLIGLHFKIKPI', 'length': 146, 'molWeight': 17164, 'crc64': 'FFAD0B075E045875', 'md5': 'A193321F66C41F6A04DEFA464AF9190A'}, 'extraAttributes': {'uniParcId': 'UPI0000022F39'}}\n"
     ]
    },
    {
     "name": "stderr",
     "output_type": "stream",
     "text": [
      "Fetching sequences:  17%|█▋        | 80/469 [00:36<02:51,  2.27it/s]"
     ]
    },
    {
     "name": "stdout",
     "output_type": "stream",
     "text": [
      "{'entryType': 'UniProtKB reviewed (Swiss-Prot)', 'primaryAccession': 'P84090', 'proteinDescription': {'recommendedName': {'fullName': {'value': 'Enhancer of rudimentary homolog'}}}, 'genes': [{'geneName': {'value': 'ERH'}}], 'sequence': {'value': 'MSHTILLVQPTKRPEGRTYADYESVNECMEGVCKMYEEHLKRMNPNSPSITYDISQLFDFIDDLADLSCLVYRADTQTYQPYNKDWIKEKIYVLLRRQAQQAGK', 'length': 104, 'molWeight': 12259, 'crc64': 'C609AFF7F63E5279', 'md5': 'B302EA4651148F9B6E9F215DAB43D0A2'}, 'extraAttributes': {'uniParcId': 'UPI0000000284'}}\n"
     ]
    },
    {
     "name": "stderr",
     "output_type": "stream",
     "text": [
      "Fetching sequences:  17%|█▋        | 81/469 [00:37<02:51,  2.26it/s]"
     ]
    },
    {
     "name": "stdout",
     "output_type": "stream",
     "text": [
      "{'entryType': 'UniProtKB reviewed (Swiss-Prot)', 'primaryAccession': 'Q9Y2P8', 'proteinDescription': {'recommendedName': {'fullName': {'value': \"RNA 3'-terminal phosphate cyclase-like protein\"}}}, 'genes': [{'geneName': {'evidences': [{'evidenceCode': 'ECO:0000312', 'source': 'HGNC', 'id': 'HGNC:17687'}], 'value': 'RCL1'}, 'synonyms': [{'value': 'RNAC'}, {'value': 'RPC2'}, {'value': 'RPCL1'}, {'value': 'RTC2'}], 'orfNames': [{'value': 'HSPC338'}]}], 'sequence': {'value': 'MATQAHSLSYAGCNFLRQRLVLSTLSGRPVKIRKIRARDDNPGLRDFEASFIRLLDKITNGSRIEINQTGTTLYYQPGLLYGGSVEHDCSVLRGIGYYLESLLCLAPFMKHPLKIVLRGVTNDQVDPSVDVLKATALPLLKQFGIDGESFELKIVRRGMPPGGGGEVVFSCPVRKVLKPIQLTDPGKIKRIRGMAYSVRVSPQMANRIVDSARSILNKFIPDIYIYTDHMKGVNSGKSPGFGLSLVAETTSGTFLSAELASNPQGQGAAVLPEDLGRNCARLLLEEIYRGGCVDSTNQSLALLLMTLGQQDVSKVLLGPLSPYTIEFLRHLKSFFQIMFKIETKPCGEELKGGDKVLMTCVGIGFSNLSKTLK', 'length': 373, 'molWeight': 40843, 'crc64': '533FAE8420AF93CB', 'md5': '4E2B4F3D4DB2B2056F9A0DE74AAC81C7'}, 'extraAttributes': {'uniParcId': 'UPI000013CA7B'}}\n"
     ]
    },
    {
     "name": "stderr",
     "output_type": "stream",
     "text": [
      "Fetching sequences:  17%|█▋        | 82/469 [00:37<02:51,  2.26it/s]"
     ]
    },
    {
     "name": "stdout",
     "output_type": "stream",
     "text": [
      "{'entryType': 'UniProtKB reviewed (Swiss-Prot)', 'primaryAccession': 'O76094', 'proteinDescription': {'recommendedName': {'fullName': {'value': 'Signal recognition particle subunit SRP72'}, 'shortNames': [{'value': 'SRP72'}]}, 'alternativeNames': [{'fullName': {'value': 'Signal recognition particle 72 kDa protein'}}]}, 'genes': [{'geneName': {'value': 'SRP72'}}], 'sequence': {'value': 'MASGGSGGVSVPALWSEVNRYGQNGDFTRALKTVNKILQINKDDVTALHCKVVCLIQNGSFKEALNVINTHTKVLANNSLSFEKAYCEYRLNRIENALKTIESANQQTDKLKELYGQVLYRLERYDECLAVYRDLVRNSQDDYDEERKTNLSAVVAAQSNWEKVVPENLGLQEGTHELCYNTACALIGQGQLNQAMKILQKAEDLCRRSLSEDTDGTEEDPQAELAIIHGQMAYILQLQGRTEEALQLYNQIIKLKPTDVGLLAVIANNIITINKDQNVFDSKKKVKLTNAEGVEFKLSKKQLQAIEFNKALLAMYTNQAEQCRKISASLQSQSPEHLLPVLIQAAQLCREKQHTKAIELLQEFSDQHPENAAEIKLTMAQLKISQGNISKACLILRSIEELKHKPGMVSALVTMYSHEEDIDSAIEVFTQAIQWYQNHQPKSPAHLSLIREAANFKLKYGRKKEAISDLQQLWKQNPKDIHTLAQLISAYSLVDPEKAKALSKHLPSSDSMSLKVDVEALENSAGATYIRKKGGKVTGDSQPKEQGQGDLKKKKKKKKGKLPKNYDPKVTPDPERWLPMRERSYYRGRKKGKKKDQIGKGTQGATAGASSELDASKTVSSPPTSPRPGSAATVSASTSNIIPPRHQKPAGAPATKKKQQQKKKKGGKGGW', 'length': 671, 'molWeight': 74606, 'crc64': 'CC0BA17AC52E3613', 'md5': 'E85CF346747CFA24DAB9BD51F2C25894'}, 'extraAttributes': {'uniParcId': 'UPI000013EEB0'}}\n"
     ]
    },
    {
     "name": "stderr",
     "output_type": "stream",
     "text": [
      "Fetching sequences:  18%|█▊        | 83/469 [00:38<02:51,  2.25it/s]"
     ]
    },
    {
     "name": "stdout",
     "output_type": "stream",
     "text": [
      "{'entryType': 'UniProtKB reviewed (Swiss-Prot)', 'primaryAccession': 'O96028', 'proteinDescription': {'recommendedName': {'fullName': {'value': 'Histone-lysine N-methyltransferase NSD2'}, 'ecNumbers': [{'evidences': [{'evidenceCode': 'ECO:0000269', 'source': 'PubMed', 'id': '19808676'}, {'evidenceCode': 'ECO:0000269', 'source': 'PubMed', 'id': '22099308'}, {'evidenceCode': 'ECO:0000269', 'source': 'PubMed', 'id': '27571355'}, {'evidenceCode': 'ECO:0000269', 'source': 'PubMed', 'id': '29728617'}], 'value': '2.1.1.357'}]}, 'alternativeNames': [{'fullName': {'evidences': [{'evidenceCode': 'ECO:0000303', 'source': 'PubMed', 'id': '9787135'}], 'value': 'Multiple myeloma SET domain-containing protein'}, 'shortNames': [{'evidences': [{'evidenceCode': 'ECO:0000303', 'source': 'PubMed', 'id': '9787135'}], 'value': 'MMSET'}]}, {'fullName': {'value': 'Nuclear SET domain-containing protein 2'}}, {'fullName': {'value': 'Protein trithorax-5'}}, {'fullName': {'value': 'Wolf-Hirschhorn syndrome candidate 1 protein'}}]}, 'genes': [{'geneName': {'evidences': [{'evidenceCode': 'ECO:0000312', 'source': 'HGNC', 'id': 'HGNC:12766'}], 'value': 'NSD2'}, 'synonyms': [{'value': 'KIAA1090'}, {'value': 'MMSET'}, {'value': 'TRX5'}, {'value': 'WHSC1'}]}], 'sequence': {'value': 'MEFSIKQSPLSVQSVVKCIKMKQAPEILGSANGKTPSCEVNRECSVFLSKAQLSSSLQEGVMQKFNGHDALPFIPADKLKDLTSRVFNGEPGAHDAKLRFESQEMKGIGTPPNTTPIKNGSPEIKLKITKTYMNGKPLFESSICGDSAADVSQSEENGQKPENKARRNRKRSIKYDSLLEQGLVEAALVSKISSPSDKKIPAKKESCPNTGRDKDHLLKYNVGDLVWSKVSGYPWWPCMVSADPLLHSYTKLKGQKKSARQYHVQFFGDAPERAWIFEKSLVAFEGEGQFEKLCQESAKQAPTKAEKIKLLKPISGKLRAQWEMGIVQAEEAASMSVEERKAKFTFLYVGDQLHLNPQVAKEAGIAAESLGEMAESSGVSEEAAENPKSVREECIPMKRRRRAKLCSSAETLESHPDIGKSTPQKTAEADPRRGVGSPPGRKKTTVSMPRSRKGDAASQFLVFCQKHRDEVVAEHPDASGEEIEELLRSQWSLLSEKQRARYNTKFALVAPVQAEEDSGNVNGKKRNHTKRIQDPTEDAEAEDTPRKRLRTDKHSLRKRDTITDKTARTSSYKAMEAASSLKSQAATKNLSDACKPLKKRNRASTAASSALGFSKSSSPSASLTENEVSDSPGDEPSESPYESADETQTEVSVSSKKSERGVTAKKEYVCQLCEKPGSLLLCEGPCCGAFHLACLGLSRRPEGRFTCSECASGIHSCFVCKESKTDVKRCVVTQCGKFYHEACVKKYPLTVFESRGFRCPLHSCVSCHASNPSNPRPSKGKMMRCVRCPVAYHSGDACLAAGCSVIASNSIICTAHFTARKGKRHHAHVNVSWCFVCSKGGSLLCCESCPAAFHPDCLNIEMPDGSWFCNDCRAGKKLHFQDIIWVKLGNYRWWPAEVCHPKNVPPNIQKMKHEIGEFPVFFFGSKDYYWTHQARVFPYMEGDRGSRYQGVRGIGRVFKNALQEAEARFREIKLQREARETQESERKPPPYKHIKVNKPYGKVQIYTADISEIPKCNCKPTDENPCGFDSECLNRMLMFECHPQVCPAGEFCQNQCFTKRQYPETKIIKTDGKGWGLVAKRDIRKGEFVNEYVGELIDEEECMARIKHAHENDITHFYMLTIDKDRIIDAGPKGNYSRFMNHSCQPNCETLKWTVNGDTRVGLFAVCDIPAGTELTFNYNLDCLGNEKTVCRCGASNCSGFLGDRPKTSTTLSSEEKGKKTKKKTRRRRAKGEGKRQSEDECFRCGDGGQLVLCDRKFCTKAYHLSCLGLGKRPFGKWECPWHHCDVCGKPSTSFCHLCPNSFCKEHQDGTAFSCTPDGRSYCCEHDLGAASVRSTKTEKPPPEPGKPKGKRRRRRGWRRVTEGK', 'length': 1365, 'molWeight': 152258, 'crc64': '7B3128E1FA893AAA', 'md5': '7A5A17AA7CA531AEFCB4E9B1B83E332D'}, 'extraAttributes': {'uniParcId': 'UPI0000073F57'}}\n"
     ]
    },
    {
     "name": "stderr",
     "output_type": "stream",
     "text": [
      "Fetching sequences:  18%|█▊        | 84/469 [00:38<02:50,  2.26it/s]"
     ]
    },
    {
     "name": "stdout",
     "output_type": "stream",
     "text": [
      "{'entryType': 'UniProtKB reviewed (Swiss-Prot)', 'primaryAccession': 'O14979', 'proteinDescription': {'recommendedName': {'fullName': {'value': 'Heterogeneous nuclear ribonucleoprotein D-like'}, 'shortNames': [{'value': 'hnRNP D-like'}, {'value': 'hnRNP DL'}]}, 'alternativeNames': [{'fullName': {'value': 'AU-rich element RNA-binding factor'}}, {'fullName': {'value': 'JKT41-binding protein'}}, {'fullName': {'value': 'Protein laAUF1'}}]}, 'genes': [{'geneName': {'value': 'HNRNPDL'}, 'synonyms': [{'value': 'HNRPDL'}, {'value': 'JKTBP'}]}], 'sequence': {'value': 'MEVPPRLSHVPPPLFPSAPATLASRSLSHWRPRPPRQLAPLLPSLAPSSARQGARRAQRHVTAQQPSRLAGGAAIKGGRRRRPDLFRRHFKSSSIQRSAAAAAATRTARQHPPADSSVTMEDMNEYSNIEEFAEGSKINASKNQQDDGKMFIGGLSWDTSKKDLTEYLSRFGEVVDCTIKTDPVTGRSRGFGFVLFKDAASVDKVLELKEHKLDGKLIDPKRAKALKGKEPPKKVFVGGLSPDTSEEQIKEYFGAFGEIENIELPMDTKTNERRGFCFITYTDEEPVKKLLESRYHQIGSGKCEIKVAQPKEVYRQQQQQQKGGRGAAAGGRGGTRGRGRGQGQNWNQGFNNYYDQGYGNYNSAYGGDQNYSGYGGYDYTGYNYGNYGYGQGYADYSGQQSTYGKASRGGGNHQNNYQPY', 'length': 420, 'molWeight': 46438, 'crc64': '00F631863859D0CA', 'md5': 'C3FEDE6E0AE850F01BF98310B0245241'}, 'extraAttributes': {'uniParcId': 'UPI0000073377'}}\n"
     ]
    },
    {
     "name": "stderr",
     "output_type": "stream",
     "text": [
      "Fetching sequences:  18%|█▊        | 85/469 [00:39<02:59,  2.14it/s]"
     ]
    },
    {
     "name": "stdout",
     "output_type": "stream",
     "text": [
      "{'entryType': 'UniProtKB reviewed (Swiss-Prot)', 'primaryAccession': 'Q9H8H2', 'proteinDescription': {'recommendedName': {'fullName': {'value': 'ATP-dependent DNA helicase DDX31'}, 'ecNumbers': [{'evidences': [{'evidenceCode': 'ECO:0000250', 'source': 'UniProtKB', 'id': 'Q8IBN8'}], 'value': '5.6.2.-'}]}, 'alternativeNames': [{'fullName': {'value': 'DEAD box protein 31'}}, {'fullName': {'value': 'Helicain'}}, {'fullName': {'evidences': [{'evidenceCode': 'ECO:0000305'}], 'value': 'Probable ATP-dependent RNA helicase DDX31'}, 'ecNumbers': [{'evidences': [{'evidenceCode': 'ECO:0000250', 'source': 'UniProtKB', 'id': 'Q8IBN8'}], 'value': '3.6.4.13'}]}]}, 'genes': [{'geneName': {'evidences': [{'evidenceCode': 'ECO:0000312', 'source': 'HGNC', 'id': 'HGNC:16715'}], 'value': 'DDX31'}}], 'sequence': {'value': 'MAPDLASQRHSESFPSVNSRPNVILPGREGRREGLPPGGGTRGSLVPTRPVPPSPAPLGTSPYSWSRSGPGRGGGAGSSRVPRGVPGPAVCAPGSLLHHASPTQTMAAADGSLFDNPRTFSRRPPAQASRQAKATKRKYQASSEAPPAKRRNETSFLPAKKTSVKETQRTFKGNAQKMFSPKKHSVSTSDRNQEERQCIKTSSLFKNNPDIPELHRPVVKQVQEKVFTSAAFHELGLHPHLISTINTVLKMSSMTSVQKQSIPVLLEGRDALVRSQTGSGKTLAYCIPVVQSLQAMESKIQRSDGPYALVLVPTRELALQSFDTVQKLLKPFTWIVPGVLMGGEKRKSEKARLRKGINILISTPGRLVDHIKSTKNIHFSRLRWLVFDEADRILDLGFEKDITVILNAVNAECQKRQNVLLSATLTEGVTRLADISLHDPVSISVLDKSHDQLNPKDKAVQEVCPPPAGDKLDSFAIPESLKQHVTVVPSKLRLVCLAAFILQKCKFEEDQKMVVFFSSCELVEFHYSLFLQTLLSSSGAPASGQLPSASMRLKFLRLHGGMEQEERTAVFQEFSHSRRGVLLCTDVAARGLDLPQVTWIVQYNAPSSPAEYIHRIGRTARIGCHGSSLLILAPSEAEYVNSLASHKINVSEIKMEDILCVLTRDDCFKGKRWGAQKSHAVGPQEIRERATVLQTVFEDYVHSSERRVSWAKKALQSFIQAYATYPRELKHIFHVRSLHLGHVAKSFGLRDAPRNLSALTRKKRKAHVKRPDLHKKTQSKHSLAEILRSEYSSGMEADIAKVKKQNAPGEPGGRPLQHSLQPTPCFGRGKTLKWRKTQKGVQRDSKTSQKV', 'length': 851, 'molWeight': 94087, 'crc64': 'E3C73701FF2F37E7', 'md5': '68390FAD7692202C3648604EFC9F6618'}, 'extraAttributes': {'uniParcId': 'UPI00000736CA'}}\n"
     ]
    },
    {
     "name": "stderr",
     "output_type": "stream",
     "text": [
      "Fetching sequences:  18%|█▊        | 86/469 [00:39<02:56,  2.17it/s]"
     ]
    },
    {
     "name": "stdout",
     "output_type": "stream",
     "text": [
      "{'entryType': 'UniProtKB reviewed (Swiss-Prot)', 'primaryAccession': 'O15213', 'proteinDescription': {'recommendedName': {'fullName': {'value': 'WD repeat-containing protein 46'}}, 'alternativeNames': [{'fullName': {'value': 'WD repeat-containing protein BING4'}}]}, 'genes': [{'geneName': {'value': 'WDR46'}, 'synonyms': [{'value': 'BING4'}, {'value': 'C6orf11'}], 'orfNames': [{'value': 'FP221'}]}], 'sequence': {'value': 'METAPKPGKDVPPKKDKLQTKRKKPRRYWEEETVPTTAGASPGPPRNKKNRELRPQRPKNAYILKKSRISKKPQVPKKPREWKNPESQRGLSGTQDPFPGPAPVPVEVVQKFCRIDKSRKLPHSKAKTRSRLEVAEAEEEETSIKAARSELLLAEEPGFLEGEDGEDTAKICQADIVEAVDIASAAKHFDLNLRQFGPYRLNYSRTGRHLAFGGRRGHVAALDWVTKKLMCEINVMEAVRDIRFLHSEALLAVAQNRWLHIYDNQGIELHCIRRCDRVTRLEFLPFHFLLATASETGFLTYLDVSVGKIVAALNARAGRLDVMSQNPYNAVIHLGHSNGTVSLWSPAMKEPLAKILCHRGGVRAVAVDSTGTYMATSGLDHQLKIFDLRGTYQPLSTRTLPHGAGHLAFSQRGLLVAGMGDVVNIWAGQGKASPPSLEQPYLTHRLSGPVHGLQFCPFEDVLGVGHTGGITSMLVPGAGEPNFDGLESNPYRSRKQRQEWEVKALLEKVPAELICLDPRALAEVDVISLEQGKKEQIERLGYDPQAKAPFQPKPKQKGRSSTASLVKRKRKVMDEEHRDKVRQSLQQQHHKEAKAKPTGARPSALDRFVR', 'length': 610, 'molWeight': 68071, 'crc64': '0C11DA8ED92CA39E', 'md5': 'F278564C977348928D9861938673D64E'}, 'extraAttributes': {'uniParcId': 'UPI000045741F'}}\n"
     ]
    },
    {
     "name": "stderr",
     "output_type": "stream",
     "text": [
      "Fetching sequences:  19%|█▊        | 87/469 [00:40<02:52,  2.21it/s]"
     ]
    },
    {
     "name": "stdout",
     "output_type": "stream",
     "text": [
      "{'entryType': 'UniProtKB reviewed (Swiss-Prot)', 'primaryAccession': 'Q14739', 'proteinDescription': {'recommendedName': {'fullName': {'value': 'Delta(14)-sterol reductase LBR'}, 'shortNames': [{'value': 'Delta-14-SR'}], 'ecNumbers': [{'evidences': [{'evidenceCode': 'ECO:0000269', 'source': 'PubMed', 'id': '12618959'}, {'evidenceCode': 'ECO:0000269', 'source': 'PubMed', 'id': '9630650'}], 'value': '1.3.1.70'}]}, 'alternativeNames': [{'fullName': {'evidences': [{'evidenceCode': 'ECO:0000303', 'source': 'PubMed', 'id': '16784888'}], 'value': '3-beta-hydroxysterol Delta (14)-reductase'}}, {'fullName': {'value': 'C-14 sterol reductase'}, 'shortNames': [{'value': 'C14SR'}]}, {'fullName': {'evidences': [{'evidenceCode': 'ECO:0000303', 'source': 'PubMed', 'id': '10828963'}], 'value': 'Integral nuclear envelope inner membrane protein'}}, {'fullName': {'value': 'LMN2R'}}, {'fullName': {'evidences': [{'evidenceCode': 'ECO:0000303', 'source': 'PubMed', 'id': '8157662'}, {'evidenceCode': 'ECO:0000303', 'source': 'PubMed', 'id': '8157663'}], 'value': 'Lamin-B receptor'}}, {'fullName': {'value': 'Sterol C14-reductase'}}]}, 'genes': [{'geneName': {'value': 'LBR'}}], 'sequence': {'value': 'MPSRKFADGEVVRGRWPGSSLYYEVEILSHDSTSQLYTVKYKDGTELELKENDIKPLTSFRQRKGGSTSSSPSRRRGSRSRSRSRSPGRPPKSARRSASASHQADIKEARREVEVKLTPLILKPFGNSISRYNGEPEHIERNDAPHKNTQEKFSLSQESSYIATQYSLRPRREEVKLKEIDSKEEKYVAKELAVRTFEVTPIRAKDLEFGGVPGVFLIMFGLPVFLFLLLLMCKQKDPSLLNFPPPLPALYELWETRVFGVYLLWFLIQVLFYLLPIGKVVEGTPLIDGRRLKYRLNGFYAFILTSAVIGTSLFQGVEFHYVYSHFLQFALAATVFCVVLSVYLYMRSLKAPRNDLSPASSGNAVYDFFIGRELNPRIGTFDLKYFCELRPGLIGWVVINLVMLLAEMKIQDRAVPSLAMILVNSFQLLYVVDALWNEEALLTTMDIIHDGFGFMLAFGDLVWVPFIYSFQAFYLVSHPNEVSWPMASLIIVLKLCGYVIFRGANSQKNAFRKNPSDPKLAHLKTIHTSTGKNLLVSGWWGFVRHPNYLGDLIMALAWSLPCGFNHILPYFYIIYFTMLLVHREARDEYHCKKKYGVAWEKYCQRVPYRIFPYIY', 'length': 615, 'molWeight': 70703, 'crc64': '5A7388776F43C66D', 'md5': 'E42282E5A291F42498318AD864C6AC1C'}, 'extraAttributes': {'uniParcId': 'UPI000012E256'}}\n"
     ]
    },
    {
     "name": "stderr",
     "output_type": "stream",
     "text": [
      "Fetching sequences:  19%|█▉        | 88/469 [00:40<02:50,  2.24it/s]"
     ]
    },
    {
     "name": "stdout",
     "output_type": "stream",
     "text": [
      "{'entryType': 'UniProtKB reviewed (Swiss-Prot)', 'primaryAccession': 'Q14690', 'proteinDescription': {'recommendedName': {'fullName': {'value': 'Protein RRP5 homolog'}}, 'alternativeNames': [{'fullName': {'value': 'NF-kappa-B-binding protein'}, 'shortNames': [{'value': 'NFBP'}]}, {'fullName': {'value': 'Programmed cell death protein 11'}}]}, 'genes': [{'geneName': {'value': 'PDCD11'}, 'synonyms': [{'value': 'KIAA0185'}]}], 'sequence': {'value': 'MANLEESFPRGGTRKIHKPEKAFQQSVEQDNLFDISTEEGSTKRKKSQKGPAKTKKLKIEKRESSKSAREKFEILSVESLCEGMRILGCVKEVNELELVISLPNGLQGFVQVTEICDAYTKKLNEQVTQEQPLKDLLHLPELFSPGMLVRCVVSSLGITDRGKKSVKLSLNPKNVNRVLSAEALKPGMLLTGTVSSLEDHGYLVDIGVDGTRAFLPLLKAQEYIRQKNKGAKLKVGQYLNCIVEKVKGNGGVVSLSVGHSEVSTAIATEQQSWNLNNLLPGLVVKAQVQKVTPFGLTLNFLTFFTGVVDFMHLDPKKAGTYFSNQAVRACILCVHPRTRVVHLSLRPIFLQPGRPLTRLSCQNLGAVLDDVPVQGFFKKAGATFRLKDGVLAYARLSHLSDSKNVFNPEAFKPGNTHKCRIIDYSQMDELALLSLRTSIIEAQYLRYHDIEPGAVVKGTVLTIKSYGMLVKVGEQMRGLVPPMHLADILMKNPEKKYHIGDEVKCRVLLCDPEAKKLMMTLKKTLIESKLPVITCYADAKPGLQTHGFIIRVKDYGCIVKFYNNVQGLVPKHELSTEYIPDPERVFYTGQVVKVVVLNCEPSKERMLLSFKLSSDPEPKKEPAGHSQKKGKAINIGQLVDVKVLEKTKDGLEVAVLPHNIRAFLPTSHLSDHVANGPLLHHWLQAGDILHRVLCLSQSEGRVLLCRKPALVSTVEGGQDPKNFSEIHPGMLLIGFVKSIKDYGVFIQFPSGLSGLAPKAIMSDKFVTSTSDHFVEGQTVAAKVTNVDEEKQRMLLSLRLSDCGLGDLAITSLLLLNQCLEELQGVRSLMSNRDSVLIQTLAEMTPGMFLDLVVQEVLEDGSVVFSGGPVPDLVLKASRYHRAGQEVESGQKKKVVILNVDLLKLEVHVSLHQDLVNRKARKLRKGSEHQAIVQHLEKSFAIASLVETGHLAAFSLTSHLNDTFRFDSEKLQVGQGVSLTLKTTEPGVTGLLLAVEGPAAKRTMRPTQKDSETVDEDEEVDPALTVGTIKKHTLSIGDMVTGTVKSIKPTHVVVTLEDGIIGCIHASHILDDVPEGTSPTTKLKVGKTVTARVIGGRDMKTFKYLPISHPRFVRTIPELSVRPSELEDGHTALNTHSVSPMEKIKQYQAGQTVTCFLKKYNVVKKWLEVEIAPDIRGRIPLLLTSLSFKVLKHPDKKFRVGQALRATVVGPDSSKTLLCLSLTGPHKLEEGEVAMGRVVKVTPNEGLTVSFPFGKIGTVSIFHMSDSYSETPLEDFVPQKVVRCYILSTADNVLTLSLRSSRTNPETKSKVEDPEINSIQDIKEGQLLRGYVGSIQPHGVFFRLGPSVVGLARYSHVSQHSPSKKALYNKHLPEGKLLTARVLRLNHQKNLVELSFLPGDTGKPDVLSASLEGQLTKQEERKTEAEERDQKGEKKNQKRNEKKNQKGQEEVEMPSKEKQQPQKPQAQKRGGRECRESGSEQERVSKKPKKAGLSEEDDSLVDVYYREGKEEAEETNVLPKEKQTKPAEAPRLQLSSGFAWNVGLDSLTPALPPLAESSDSEEDEKPHQATIKKSKKERELEKQKAEKELSRIEEALMDPGRQPESADDFDRLVLSSPNSSILWLQYMAFHLQATEIEKARAVAERALKTISFREEQEKLNVWVALLNLENMYGSQESLTKVFERAVQYNEPLKVFLHLADIYAKSEKFQEAGELYNRMLKRFRQEKAVWIKYGAFLLRRSQAAASHRVLQRALECLPSKEHVDVIAKFAQLEFQLGDAERAKAIFENTLSTYPKRTDVWSVYIDMTIKHGSQKDVRDIFERVIHLSLAPKRMKFFFKRYLDYEKQHGTEKDVQAVKAKALEYVEAKSSVLED', 'length': 1871, 'molWeight': 208701, 'crc64': '8ED3665EB503CBB0', 'md5': '95146A8FDE5F481BACCC1CC25D86CDAF'}, 'extraAttributes': {'uniParcId': 'UPI00001C1ED1'}}\n"
     ]
    },
    {
     "name": "stderr",
     "output_type": "stream",
     "text": [
      "Fetching sequences:  19%|█▉        | 89/469 [00:41<02:48,  2.25it/s]"
     ]
    },
    {
     "name": "stdout",
     "output_type": "stream",
     "text": [
      "{'entryType': 'UniProtKB reviewed (Swiss-Prot)', 'primaryAccession': 'O43143', 'proteinDescription': {'recommendedName': {'fullName': {'evidences': [{'evidenceCode': 'ECO:0000305'}], 'value': 'ATP-dependent RNA helicase DHX15'}, 'ecNumbers': [{'evidences': [{'evidenceCode': 'ECO:0000269', 'source': 'PubMed', 'id': '19432882'}, {'evidenceCode': 'ECO:0000269', 'source': 'PubMed', 'id': '32179686'}], 'value': '3.6.4.13'}]}, 'alternativeNames': [{'fullName': {'value': 'ATP-dependent RNA helicase #46'}}, {'fullName': {'value': 'DEAH box protein 15'}}, {'fullName': {'evidences': [{'evidenceCode': 'ECO:0000303', 'source': 'PubMed', 'id': '12458796'}], 'value': 'Splicing factor Prp43'}, 'shortNames': [{'evidences': [{'evidenceCode': 'ECO:0000303', 'source': 'PubMed', 'id': '12458796'}], 'value': 'hPrp43'}]}]}, 'genes': [{'geneName': {'evidences': [{'evidenceCode': 'ECO:0000303', 'source': 'PubMed', 'id': '24990078'}, {'evidenceCode': 'ECO:0000312', 'source': 'HGNC', 'id': 'HGNC:2738'}], 'value': 'DHX15'}, 'synonyms': [{'evidences': [{'evidenceCode': 'ECO:0000303', 'source': 'PubMed', 'id': '9388478'}], 'value': 'DBP1'}, {'value': 'DDX15'}]}], 'sequence': {'value': 'MSKRHRLDLGEDYPSGKKRAGTDGKDRDRDRDREDRSKDRDRERDRGDREREREKEKEKELRASTNAMLISAGLPPLKASHSAHSTHSAHSTHSTHSAHSTHAGHAGHTSLPQCINPFTNLPHTPRYYDILKKRLQLPVWEYKDRFTDILVRHQSFVLVGETGSGKTTQIPQWCVEYMRSLPGPKRGVACTQPRRVAAMSVAQRVADEMDVMLGQEVGYSIRFEDCSSAKTILKYMTDGMLLREAMNDPLLERYGVIILDEAHERTLATDILMGVLKEVVRQRSDLKVIVMSATLDAGKFQIYFDNCPLLTIPGRTHPVEIFYTPEPERDYLEAAIRTVIQIHMCEEEEGDLLLFLTGQEEIDEACKRIKREVDDLGPEVGDIKIIPLYSTLPPQQQQRIFEPPPPKKQNGAIGRKVVVSTNIAETSLTIDGVVFVIDPGFAKQKVYNPRIRVESLLVTAISKASAQQRAGRAGRTRPGKCFRLYTEKAYKTEMQDNTYPEILRSNLGSVVLQLKKLGIDDLVHFDFMDPPAPETLMRALELLNYLAALNDDGDLTELGSMMAEFPLDPQLAKMVIASCDYNCSNEVLSITAMLSVPQCFVRPTEAKKAADEAKMRFAHIDGDHLTLLNVYHAFKQNHESVQWCYDNFINYRSLMSADNVRQQLSRIMDRFNLPRRSTDFTSRDYYINIRKALVTGYFMQVAHLERTGHYLTVKDNQVVQLHPSTVLDHKPEWVLYNEFVLTTKNYIRTCTDIKPEWLVKIAPQYYDMSNFPQCEAKRQLDRIIAKLQSKEYSQY', 'length': 795, 'molWeight': 90933, 'crc64': '9A21FBE0051CCAA9', 'md5': 'CB507E10803747BFB93E7CF881A6C90C'}, 'extraAttributes': {'uniParcId': 'UPI000012907A'}}\n"
     ]
    },
    {
     "name": "stderr",
     "output_type": "stream",
     "text": [
      "Fetching sequences:  19%|█▉        | 90/469 [00:41<02:48,  2.25it/s]"
     ]
    },
    {
     "name": "stdout",
     "output_type": "stream",
     "text": [
      "{'entryType': 'UniProtKB reviewed (Swiss-Prot)', 'primaryAccession': 'Q9NVX2', 'proteinDescription': {'recommendedName': {'fullName': {'value': 'Notchless protein homolog 1'}}}, 'genes': [{'geneName': {'value': 'NLE1'}, 'orfNames': [{'value': 'HUSSY-07'}]}], 'sequence': {'value': 'MAAAVPDEAVARDVQRLLVQFQDEGGQLLGSPFDVPVDITPDRLQLVCNALLAQEDPLPLAFFVHDAEIVSSLGKTLESQAVETEKVLDIIYQPQAIFRVRAVTRCTSSLEGHSEAVISVAFSPTGKYLASGSGDTTVRFWDLSTETPHFTCKGHRHWVLSISWSPDGRKLASGCKNGQILLWDPSTGKQVGRTLAGHSKWITGLSWEPLHANPECRYVASSSKDGSVRIWDTTAGRCERILTGHTQSVTCLRWGGDGLLYSASQDRTIKVWRAHDGVLCRTLQGHGHWVNTMALSTDYALRTGAFEPAEASVNPQDLQGSLQELKERALSRYNLVRGQGPERLVSGSDDFTLFLWSPAEDKKPLTRMTGHQALINQVLFSPDSRIVASASFDKSIKLWDGRTGKYLASLRGHVAAVYQIAWSADSRLLVSGSSDSTLKVWDVKAQKLAMDLPGHADEVYAVDWSPDGQRVASGGKDKCLRIWRR', 'length': 485, 'molWeight': 53320, 'crc64': 'E2E638B13884BC07', 'md5': '02D5C26200546065E69E6A793E51C952'}, 'extraAttributes': {'uniParcId': 'UPI000013D293'}}\n"
     ]
    },
    {
     "name": "stderr",
     "output_type": "stream",
     "text": [
      "Fetching sequences:  19%|█▉        | 91/469 [00:41<02:48,  2.25it/s]"
     ]
    },
    {
     "name": "stdout",
     "output_type": "stream",
     "text": [
      "{'entryType': 'UniProtKB reviewed (Swiss-Prot)', 'primaryAccession': 'Q5BKZ1', 'proteinDescription': {'recommendedName': {'fullName': {'value': 'DBIRD complex subunit ZNF326'}}, 'alternativeNames': [{'fullName': {'value': 'Zinc finger protein 326'}}, {'fullName': {'value': 'Zinc finger protein interacting with mRNPs and DBC1'}}]}, 'genes': [{'geneName': {'value': 'ZNF326'}, 'synonyms': [{'value': 'ZIRD'}]}], 'sequence': {'value': 'MDFEDDYTHSACRNTYQGFNGMDRDYGPGSYGGMDRDYGHGSYGGQRSMDSYLNQSYGMDNHSGGGGGSRFGPYESYDSRSSLGGRDLYRSGYGFNEPEQSRFGGSYGGRFESSYRNSLDSFGGRNQGGSSWEAPYSRSKLRPGFMEDRGRENYSSYSSFSSPHMKPAPVGSRGRGTPAYPESTFGSRNYDAFGGPSTGRGRGRGHMGDFGSIHRPGIVVDYQNKSTNVTVAAARGIKRKMMQPFNKPSGTFIKKPKLAKPMEKISLSKSPTKTDPKNEEEEKRRIEARREKQRRRREKNSEKYGDGYRMAFTCSFCKFRTFEEKDIELHLESSSHQETLDHIQKQTKFDKVVMEFLHECMVNKFKKTSIRKQQTNNQTEVVKIIEKDVMEGVTVDDHMMKVETVHCSACSVYIPALHSSVQQHLKSPDHIKGKQAYKEQIKRESVLTATSILNNPIVKARYERFVKGENPFEIQDHSQDQQIEGDEEDEEKIDEPIEEEEDEDEEEEAEEVGEVEEVEEVEEVREGGIEGEGNIQGVGEGGEVGVVGEVEGVGEVEEVEELEEETAKEEPADFPVEQPEEN', 'length': 582, 'molWeight': 65654, 'crc64': '7F513DA0C5B7F3CD', 'md5': 'C4AF90DC8F31366954A17077FE028E5D'}, 'extraAttributes': {'uniParcId': 'UPI0000160AB2'}}\n"
     ]
    },
    {
     "name": "stderr",
     "output_type": "stream",
     "text": [
      "Fetching sequences:  20%|█▉        | 92/469 [00:42<02:47,  2.25it/s]"
     ]
    },
    {
     "name": "stdout",
     "output_type": "stream",
     "text": [
      "{'entryType': 'UniProtKB reviewed (Swiss-Prot)', 'primaryAccession': 'Q14151', 'proteinDescription': {'recommendedName': {'fullName': {'value': 'Scaffold attachment factor B2'}, 'shortNames': [{'value': 'SAF-B2'}]}}, 'genes': [{'geneName': {'value': 'SAFB2'}, 'synonyms': [{'value': 'KIAA0138'}]}], 'sequence': {'value': 'MAETLPGSGDSGPGTASLGPGVAETGTRRLSELRVIDLRAELKKRNLDTGGNKSVLMERLKKAVKEEGQDPDEIGIELEATSKKSAKRCVKGLKMEEEGTEDNGLEDDSRDGQEDMEASLENLQNMGMMDMSVLDETEVANSSAPDFGEDGTDGLLDSFCDSKEYVAAQLRQLPAQPPEHAVDGEGFKNTLETSSLNFKVTPDIEESLLEPENEKILDILGETCKSEPVKEESSELEQPFAQDTSSVGPDRKLAEEEDLFDSAHPEEGDLDLASESTAHAQSSKADSLLAVVKREPAEQPGDGERTDCEPVGLEPAVEQSSAASELAEASSEELAEAPTEAPSPEARDSKEDGRKFDFDACNEVPPAPKESSTSEGADQKMSSFKEEKDIKPIIKDEKGRVGSGSGRNLWVSGLSSTTRATDLKNLFSKYGKVVGAKVVTNARSPGARCYGFVTMSTSDEATKCISHLHRTELHGRMISVEKAKNEPAGKKLSDRKECEVKKEKLSSVDRHHSVEIKIEKTVIKKEEKIEKKEEKKPEDIKKEEKDQDELKPGPTNRSRVTKSGSRGMERTVVMDKSKGEPVISVKTTSRSKERSSKSQDRKSESKEKRDILSFDKIKEQRERERQRQREREIRETERRREREQREREQRLEAFHERKEKARLQRERLQLECQRQRLERERMERERLERERMRVERERRKEQERIHREREELRRQQEQLRYEQERRPGRRPYDLDRRDDAYWPEGKRVAMEDRYRADFPRPDHRFHDFDHRDRGQYQDHAIDRREGSRPMMGDHRDGQHYGDDRHGHGGPPERHGRDSRDGWGGYGSDKRLSEGRGLPPPPRGGRDWGEHNQRLEEHQARAWQGAMDAGAASREHARWQGGERGLSGPSGPGHMASRGGVAGRGGFAQGGHSQGHVVPGGGLEGGGVASQDRGSRVPHPHPHPPPYPHFTRRY', 'length': 953, 'molWeight': 107473, 'crc64': '084343934F8B3196', 'md5': '28B1676778F235AECDBA77465892D260'}, 'extraAttributes': {'uniParcId': 'UPI0000071DB7'}}\n"
     ]
    },
    {
     "name": "stderr",
     "output_type": "stream",
     "text": [
      "Fetching sequences:  20%|█▉        | 93/469 [00:42<02:47,  2.25it/s]"
     ]
    },
    {
     "name": "stdout",
     "output_type": "stream",
     "text": [
      "{'entryType': 'UniProtKB reviewed (Swiss-Prot)', 'primaryAccession': 'P49711', 'proteinDescription': {'recommendedName': {'fullName': {'value': 'Transcriptional repressor CTCF'}}, 'alternativeNames': [{'fullName': {'value': '11-zinc finger protein'}}, {'fullName': {'value': 'CCCTC-binding factor'}}, {'fullName': {'value': 'CTCFL paralog'}}]}, 'genes': [{'geneName': {'value': 'CTCF'}}], 'sequence': {'value': 'MEGDAVEAIVEESETFIKGKERKTYQRRREGGQEEDACHLPQNQTDGGEVVQDVNSSVQMVMMEQLDPTLLQMKTEVMEGTVAPEAEAAVDDTQIITLQVVNMEEQPINIGELQLVQVPVPVTVPVATTSVEELQGAYENEVSKEGLAESEPMICHTLPLPEGFQVVKVGANGEVETLEQGELPPQEDPSWQKDPDYQPPAKKTKKTKKSKLRYTEEGKDVDVSVYDFEEEQQEGLLSEVNAEKVVGNMKPPKPTKIKKKGVKKTFQCELCSYTCPRRSNLDRHMKSHTDERPHKCHLCGRAFRTVTLLRNHLNTHTGTRPHKCPDCDMAFVTSGELVRHRRYKHTHEKPFKCSMCDYASVEVSKLKRHIRSHTGERPFQCSLCSYASRDTYKLKRHMRTHSGEKPYECYICHARFTQSGTMKMHILQKHTENVAKFHCPHCDTVIARKSDLGVHLRKQHSYIEQGKKCRYCDAVFHERYALIQHQKSHKNEKRFKCDQCDYACRQERHMIMHKRTHTGEKPYACSHCDKTFRQKQLLDMHFKRYHDPNFVPAAFVCSKCGKTFTRRNTMARHADNCAGPDGVEGENGGETKKSKRGRKRKMRSKKEDSSDSENAEPDLDDNEDEEEPAVEIEPEPEPQPVTPAPPPAKKRRGRPPGRTNQPKQNQPTAIIQVEDQNTGAIENIIVEVKKEPDAEPAEGEEEEAQPAATDAPNGDLTPEMILSMMDR', 'length': 727, 'molWeight': 82785, 'crc64': '2110538B65DC5706', 'md5': '4967EDDA2288D17F59286E856827CBC7'}, 'extraAttributes': {'uniParcId': 'UPI0000000DDE'}}\n"
     ]
    },
    {
     "name": "stderr",
     "output_type": "stream",
     "text": [
      "Fetching sequences:  20%|██        | 94/469 [00:43<02:45,  2.26it/s]"
     ]
    },
    {
     "name": "stdout",
     "output_type": "stream",
     "text": [
      "{'entryType': 'UniProtKB reviewed (Swiss-Prot)', 'primaryAccession': 'Q92900', 'proteinDescription': {'recommendedName': {'fullName': {'evidences': [{'evidenceCode': 'ECO:0000312', 'source': 'HGNC', 'id': 'HGNC:9962'}], 'value': 'Regulator of nonsense transcripts 1'}, 'ecNumbers': [{'evidences': [{'evidenceCode': 'ECO:0000269', 'source': 'PubMed', 'id': '10999600'}, {'evidenceCode': 'ECO:0000269', 'source': 'PubMed', 'id': '30218034'}], 'value': '3.6.4.12'}, {'evidences': [{'evidenceCode': 'ECO:0000305', 'source': 'PubMed', 'id': '10999600'}], 'value': '3.6.4.13'}]}, 'alternativeNames': [{'fullName': {'evidences': [{'evidenceCode': 'ECO:0000250', 'source': 'UniProtKB', 'id': 'Q9EPU0'}], 'value': 'ATP-dependent helicase RENT1'}}, {'fullName': {'evidences': [{'evidenceCode': 'ECO:0000312', 'source': 'HGNC', 'id': 'HGNC:9962'}], 'value': 'Nonsense mRNA reducing factor 1'}, 'shortNames': [{'evidences': [{'evidenceCode': 'ECO:0000312', 'source': 'HGNC', 'id': 'HGNC:9962'}], 'value': 'NORF1'}]}, {'fullName': {'value': 'Up-frameshift suppressor 1 homolog'}, 'shortNames': [{'value': 'hUpf1'}]}]}, 'genes': [{'geneName': {'evidences': [{'evidenceCode': 'ECO:0000312', 'source': 'HGNC', 'id': 'HGNC:9962'}], 'value': 'UPF1'}, 'synonyms': [{'value': 'KIAA0221'}, {'evidences': [{'evidenceCode': 'ECO:0000312', 'source': 'HGNC', 'id': 'HGNC:9962'}], 'value': 'RENT1'}]}], 'sequence': {'value': 'MSVEAYGPSSQTLTFLDTEEAELLGADTQGSEFEFTDFTLPSQTQTPPGGPGGPGGGGAGGPGGAGAGAAAGQLDAQVGPEGILQNGAVDDSVAKTSQLLAELNFEEDEEDTYYTKDLPIHACSYCGIHDPACVVYCNTSKKWFCNGRGNTSGSHIVNHLVRAKCKEVTLHKDGPLGETVLECYNCGCRNVFLLGFIPAKADSVVVLLCRQPCASQSSLKDINWDSSQWQPLIQDRCFLSWLVKIPSEQEQLRARQITAQQINKLEELWKENPSATLEDLEKPGVDEEPQHVLLRYEDAYQYQNIFGPLVKLEADYDKKLKESQTQDNITVRWDLGLNKKRIAYFTLPKTDSGNEDLVIIWLRDMRLMQGDEICLRYKGDLAPLWKGIGHVIKVPDNYGDEIAIELRSSVGAPVEVTHNFQVDFVWKSTSFDRMQSALKTFAVDETSVSGYIYHKLLGHEVEDVIIKCQLPKRFTAQGLPDLNHSQVYAVKTVLQRPLSLIQGPPGTGKTVTSATIVYHLARQGNGPVLVCAPSNIAVDQLTEKIHQTGLKVVRLCAKSREAIDSPVSFLALHNQIRNMDSMPELQKLQQLKDETGELSSADEKRYRALKRTAERELLMNADVICCTCVGAGDPRLAKMQFRSILIDESTQATEPECMVPVVLGAKQLILVGDHCQLGPVVMCKKAAKAGLSQSLFERLVVLGIRPIRLQVQYRMHPALSAFPSNIFYEGSLQNGVTAADRVKKGFDFQWPQPDKPMFFYVTQGQEEIASSGTSYLNRTEAANVEKITTKLLKAGAKPDQIGIITPYEGQRSYLVQYMQFSGSLHTKLYQEVEIASVDAFQGREKDFIILSCVRANEHQGIGFLNDPRRLNVALTRARYGVIIVGNPKALSKQPLWNHLLNYYKEQKVLVEGPLNNLRESLMQFSKPRKLVNTINPGARFMTTAMYDAREAIIPGSVYDRSSQGRPSSMYFQTHDQIGMISAGPSHVAAMNIPIPFNLVMPPMPPPGYFGQANGPAAGRGTPKGKTGRGGRQKNRFGLPGPSQTNLPNSQASQDVASQPFSQGALTQGYISMSQPSQMSQPGLSQPELSQDSYLGDEFKSQIDVALSQDSTYQGERAYQHGGVTGLSQY', 'length': 1129, 'molWeight': 124345, 'crc64': '6CCA6FE42B15BA28', 'md5': '2367366A4F9F86D3D5BE09DCF486A733'}, 'extraAttributes': {'uniParcId': 'UPI00001344ED'}}\n"
     ]
    },
    {
     "name": "stderr",
     "output_type": "stream",
     "text": [
      "Fetching sequences:  20%|██        | 95/469 [00:43<02:43,  2.28it/s]"
     ]
    },
    {
     "name": "stdout",
     "output_type": "stream",
     "text": [
      "{'entryType': 'UniProtKB reviewed (Swiss-Prot)', 'primaryAccession': 'P51114', 'proteinDescription': {'recommendedName': {'fullName': {'evidences': [{'evidenceCode': 'ECO:0000305'}], 'value': 'RNA-binding protein FXR1'}}, 'alternativeNames': [{'fullName': {'evidences': [{'evidenceCode': 'ECO:0000305'}], 'value': 'FMR1 autosomal homolog 1'}}, {'fullName': {'value': 'hFXR1p'}}]}, 'genes': [{'geneName': {'evidences': [{'evidenceCode': 'ECO:0000303', 'source': 'PubMed', 'id': '7781595'}, {'evidenceCode': 'ECO:0000312', 'source': 'HGNC', 'id': 'HGNC:4023'}], 'value': 'FXR1'}}], 'sequence': {'value': 'MAELTVEVRGSNGAFYKGFIKDVHEDSLTVVFENNWQPERQVPFNEVRLPPPPDIKKEISEGDEVEVYSRANDQEPCGWWLAKVRMMKGEFYVIEYAACDATYNEIVTFERLRPVNQNKTVKKNTFFKCTVDVPEDLREACANENAHKDFKKAVGACRIFYHPETTQLMILSASEATVKRVNILSDMHLRSIRTKLMLMSRNEEATKHLECTKQLAAAFHEEFVVREDLMGLAIGTHGSNIQQARKVPGVTAIELDEDTGTFRIYGESADAVKKARGFLEFVEDFIQVPRNLVGKVIGKNGKVIQEIVDKSGVVRVRIEGDNENKLPREDGMVPFVFVGTKESIGNVQVLLEYHIAYLKEVEQLRMERLQIDEQLRQIGSRSYSGRGRGRRGPNYTSGYGTNSELSNPSETESERKDELSDWSLAGEDDRDSRHQRDSRRRPGGRGRSVSGGRGRGGPRGGKSSISSVLKDPDSNPYSLLDNTESDQTADTDASESHHSTNRRRRSRRRRTDEDAVLMDGMTESDTASVNENGLVTVADYISRAESQSRQRNLPRETLAKNKKEMAKDVIEEHGPSEKAINGPTSASGDDISKLQRTPGEEKINTLKEENTQEAAVLNGVS', 'length': 621, 'molWeight': 69721, 'crc64': '0474A9B593C7C228', 'md5': '5B6C9C9DFB486961181D2CBD6733C403'}, 'extraAttributes': {'uniParcId': 'UPI000013EA6E'}}\n"
     ]
    },
    {
     "name": "stderr",
     "output_type": "stream",
     "text": [
      "Fetching sequences:  20%|██        | 96/469 [00:44<02:43,  2.28it/s]"
     ]
    },
    {
     "name": "stdout",
     "output_type": "stream",
     "text": [
      "{'entryType': 'UniProtKB reviewed (Swiss-Prot)', 'primaryAccession': 'P07910', 'proteinDescription': {'recommendedName': {'fullName': {'value': 'Heterogeneous nuclear ribonucleoproteins C1/C2'}, 'shortNames': [{'value': 'hnRNP C1/C2'}]}}, 'genes': [{'geneName': {'value': 'HNRNPC'}, 'synonyms': [{'value': 'HNRPC'}]}], 'sequence': {'value': 'MASNVTNKTDPRSMNSRVFIGNLNTLVVKKSDVEAIFSKYGKIVGCSVHKGFAFVQYVNERNARAAVAGEDGRMIAGQVLDINLAAEPKVNRGKAGVKRSAAEMYGSVTEHPSPSPLLSSSFDLDYDFQRDYYDRMYSYPARVPPPPPIARAVVPSKRQRVSGNTSRRGKSGFNSKSGQRGSSKSGKLKGDDLQAIKKELTQIKQKVDSLLENLEKIEKEQSKQAVEMKNDKSEEEQSSSSVKKDETNVKMESEGGADDSAEEGDLLDDDDNEDRGDDQLELIKDDEKEAEEGEDDRDSANGEDDS', 'length': 306, 'molWeight': 33670, 'crc64': '17BBC78690C69C5C', 'md5': '1E318CAECA0E6F83F05F39E73D4905FB'}, 'extraAttributes': {'uniParcId': 'UPI000013C6E4'}}\n"
     ]
    },
    {
     "name": "stderr",
     "output_type": "stream",
     "text": [
      "Fetching sequences:  21%|██        | 97/469 [00:44<02:43,  2.27it/s]"
     ]
    },
    {
     "name": "stdout",
     "output_type": "stream",
     "text": [
      "{'entryType': 'UniProtKB reviewed (Swiss-Prot)', 'primaryAccession': 'Q9NV31', 'proteinDescription': {'recommendedName': {'fullName': {'value': 'U3 small nucleolar ribonucleoprotein protein IMP3'}, 'shortNames': [{'value': 'U3 snoRNP protein IMP3'}]}, 'alternativeNames': [{'fullName': {'value': 'BRMS2'}}]}, 'genes': [{'geneName': {'evidences': [{'evidenceCode': 'ECO:0000312', 'source': 'HGNC', 'id': 'HGNC:14497'}], 'value': 'IMP3'}, 'synonyms': [{'value': 'C15orf12'}, {'value': 'MRPS4'}]}], 'sequence': {'value': 'MVRKLKFHEQKLLKQVDFLNWEVTDHNLHELRVLRRYRLQRREDYTRYNQLSRAVRELARRLRDLPERDQFRVRASAALLDKLYALGLVPTRGSLELCDFVTASSFCRRRLPTVLLKLRMAQHLQAAVAFVEQGHVRVGPDVVTDPAFLVTRSMEDFVTWVDSSKIKRHVLEYNEERDDFDLEA', 'length': 184, 'molWeight': 21850, 'crc64': 'AAE0352DF7C790F1', 'md5': 'C31E086DDC6C064F86C730CA56DA5F4A'}, 'extraAttributes': {'uniParcId': 'UPI0000037BF5'}}\n"
     ]
    },
    {
     "name": "stderr",
     "output_type": "stream",
     "text": [
      "Fetching sequences:  21%|██        | 98/469 [00:44<02:42,  2.28it/s]"
     ]
    },
    {
     "name": "stdout",
     "output_type": "stream",
     "text": [
      "{'entryType': 'UniProtKB reviewed (Swiss-Prot)', 'primaryAccession': 'P62316', 'proteinDescription': {'recommendedName': {'fullName': {'value': 'Small nuclear ribonucleoprotein Sm D2'}, 'shortNames': [{'value': 'Sm-D2'}]}, 'alternativeNames': [{'fullName': {'value': 'snRNP core protein D2'}}]}, 'genes': [{'geneName': {'value': 'SNRPD2'}, 'synonyms': [{'value': 'SNRPD1'}]}], 'sequence': {'value': 'MSLLNKPKSEMTPEELQKREEEEFNTGPLSVLTQSVKNNTQVLINCRNNKKLLGRVKAFDRHCNMVLENVKEMWTEVPKSGKGKKKSKPVNKDRYISKMFLRGDSVIVVLRNPLIAGK', 'length': 118, 'molWeight': 13527, 'crc64': 'D986059D82B7E045', 'md5': 'AF477E33CBA82E37684EF44456466569'}, 'extraAttributes': {'uniParcId': 'UPI0000028222'}}\n"
     ]
    },
    {
     "name": "stderr",
     "output_type": "stream",
     "text": [
      "Fetching sequences:  21%|██        | 99/469 [00:45<02:43,  2.26it/s]"
     ]
    },
    {
     "name": "stdout",
     "output_type": "stream",
     "text": [
      "{'entryType': 'UniProtKB reviewed (Swiss-Prot)', 'primaryAccession': 'Q9Y5S9', 'proteinDescription': {'recommendedName': {'fullName': {'value': 'RNA-binding protein 8A'}}, 'alternativeNames': [{'fullName': {'value': 'Binder of OVCA1-1'}, 'shortNames': [{'value': 'BOV-1'}]}, {'fullName': {'value': 'RNA-binding motif protein 8A'}}, {'fullName': {'evidences': [{'evidenceCode': 'ECO:0000303', 'source': 'PubMed', 'id': '11030346'}], 'value': 'RNA-binding protein Y14'}}, {'fullName': {'value': 'Ribonucleoprotein RBM8A'}}]}, 'genes': [{'geneName': {'value': 'RBM8A'}, 'synonyms': [{'value': 'RBM8'}], 'orfNames': [{'value': 'HSPC114'}, {'value': 'MDS014'}]}], 'sequence': {'value': 'MADVLDLHEAGGEDFAMDEDGDESIHKLKEKAKKRKGRGFGSEEGSRARMREDYDSVEQDGDEPGPQRSVEGWILFVTGVHEEATEEDIHDKFAEYGEIKNIHLNLDRRTGYLKGYTLVEYETYKEAQAAMEGLNGQDLMGQPISVDWCFVRGPPKGKRRGGRRRSRSPDRRRR', 'length': 174, 'molWeight': 19889, 'crc64': '70BBD03CDDFEECFE', 'md5': 'B6242CD6255630CAC51EED7777AC05DF'}, 'extraAttributes': {'uniParcId': 'UPI0000004160'}}\n"
     ]
    },
    {
     "name": "stderr",
     "output_type": "stream",
     "text": [
      "Fetching sequences:  21%|██▏       | 100/469 [00:45<02:43,  2.26it/s]"
     ]
    },
    {
     "name": "stdout",
     "output_type": "stream",
     "text": [
      "{'entryType': 'UniProtKB reviewed (Swiss-Prot)', 'primaryAccession': 'Q8IWA0', 'proteinDescription': {'recommendedName': {'fullName': {'value': 'WD repeat-containing protein 75'}}, 'alternativeNames': [{'fullName': {'value': 'U3 small nucleolar RNA-associated protein 17 homolog'}}]}, 'genes': [{'geneName': {'evidences': [{'evidenceCode': 'ECO:0000312', 'source': 'HGNC', 'id': 'HGNC:25725'}], 'value': 'WDR75'}, 'synonyms': [{'value': 'UTP17'}]}], 'sequence': {'value': 'MVEEENIRVVRCGGSELNFRRAVFSADSKYIFCVSGDFVKVYSTVTEECVHILHGHRNLVTGIQLNPNNHLQLYSCSLDGTIKLWDYIDGILIKTFIVGCKLHALFTLAQAEDSVFVIVNKEKPDIFQLVSVKLPKSSSQEVEAKELSFVLDYINQSPKCIAFGNEGVYVAAVREFYLSVYFFKKKTTSRFTLSSSRNKKHAKNNFTCVACHPTEDCIASGHMDGKIRLWRNFYDDKKYTYTCLHWHHDMVMDLAFSVTGTSLLSGGRESVLVEWRDATEKNKEFLPRLGATIEHISVSPAGDLFCTSHSDNKIIIIHRNLEASAVIQGLVKDRSIFTGLMIDPRTKALVLNGKPGHLQFYSLQSDKQLYNLDIIQQEYINDYGLIQIELTKAAFGCFGNWLATVEQRQEKETELELQMKLWMYNKKTQGFILNTKINMPHEDCITALCFCNAEKSEQPTLVTASKDGYFKVWILTDDSDIYKKAVGWTCDFVGSYHKYQATNCCFSEDGSLLAVSFEEIVTIWDSVTWELKCTFCQRAGKIRHLCFGRLTCSKYLLGATENGILCCWNLLSCALEWNAKLNVRVMEPDPNSENIAAISQSSVGSDLFVFKPSEPRPLYIQKGISREKVQWGVFVPRDVPESFTSEAYQWLNRSQFYFLTKSQSLLTFSTKSPEEKLTPTSKQLLAEESLPTTPFYFILGKHRQQQDEKLNETLENELVQLPLTENIPAISELLHTPAHVLPSAAFLCSMFVNSLLLSKETKSAKEIPEDVDMEEEKESEDSDEENDFTEKVQDTSNTGLGEDIIHQLSKSEEKELRKFRKIDYSWIAAL', 'length': 830, 'molWeight': 94499, 'crc64': 'AE2A3C2C156C0939', 'md5': '7716485D44F0E0134740CDFD61C23349'}, 'extraAttributes': {'uniParcId': 'UPI000007452C'}}\n"
     ]
    },
    {
     "name": "stderr",
     "output_type": "stream",
     "text": [
      "Fetching sequences:  22%|██▏       | 101/469 [00:46<02:43,  2.26it/s]"
     ]
    },
    {
     "name": "stdout",
     "output_type": "stream",
     "text": [
      "{'entryType': 'UniProtKB reviewed (Swiss-Prot)', 'primaryAccession': 'Q7Z7K6', 'proteinDescription': {'recommendedName': {'fullName': {'value': 'Centromere protein V'}, 'shortNames': [{'value': 'CENP-V'}]}, 'alternativeNames': [{'fullName': {'value': 'Nuclear protein p30'}}, {'fullName': {'value': 'Proline-rich protein 6'}}]}, 'genes': [{'geneName': {'value': 'CENPV'}, 'synonyms': [{'value': 'PRR6'}]}], 'sequence': {'value': 'MRRSRSSAAAKLRGQKRSGASGASAAPAASAAAALAPSATRTRRSASQAGSKSQAVEKPPSEKPRLRRSSPRAQEEGPGEPPPPELALLPPPPPPPPTPATPTSSASNLDLGEQRERWETFQKRQKLTSEGAAKLLLDTFEYQGLVKHTGGCHCGAVRFEVWASADLHIFDCNCSICKKKQNRHFIVPASRFKLLKGAEHITTYTFNTHKAQHTFCKRCGVQSFYTPRSNPGGFGIAPHCLDEGTVRSMVTEEFNGSDWEKAMKEHKTIKNMSKE', 'length': 275, 'molWeight': 29946, 'crc64': 'E9A69F1F9BA746D8', 'md5': 'EDEDBC5D007B107B9F77850A7BAED943'}, 'extraAttributes': {'uniParcId': 'UPI000019B181'}}\n"
     ]
    },
    {
     "name": "stderr",
     "output_type": "stream",
     "text": [
      "Fetching sequences:  22%|██▏       | 102/469 [00:46<02:43,  2.24it/s]"
     ]
    },
    {
     "name": "stdout",
     "output_type": "stream",
     "text": [
      "{'entryType': 'UniProtKB reviewed (Swiss-Prot)', 'primaryAccession': 'Q9Y3A2', 'proteinDescription': {'recommendedName': {'fullName': {'value': 'Probable U3 small nucleolar RNA-associated protein 11'}, 'shortNames': [{'value': 'U3 snoRNA-associated protein 11'}]}, 'alternativeNames': [{'fullName': {'value': 'UTP11-like protein'}}]}, 'genes': [{'geneName': {'evidences': [{'evidenceCode': 'ECO:0000312', 'source': 'HGNC', 'id': 'HGNC:24329'}], 'value': 'UTP11'}, 'synonyms': [{'evidences': [{'evidenceCode': 'ECO:0000312', 'source': 'HGNC', 'id': 'HGNC:24329'}], 'value': 'UTP11L'}], 'orfNames': [{'value': 'CGI-94'}, {'value': 'HDCMB12P'}]}], 'sequence': {'value': 'MAAAFRKAAKSRQREHRERSQPGFRKHLGLLEKKKDYKLRADDYRKKQEYLKALRKKALEKNPDEFYYKMTRVKLQDGVHIIKETKEEVTPEQLKLMRTQDVKYIEMKRVAEAKKIERLKSELHLLDFQGKQQNKHVFFFDTKKEVEQFDVATHLQTAPELVDRVFNRPRIETLQKEKVKGVTNQTGLKRIAKERQKQYNCLTQRIEREKKLFVIAQKIQTRKDLMDKTQKVKVKKETVNSPAIYKFQSRRKR', 'length': 253, 'molWeight': 30447, 'crc64': 'D005AD09E96E7FA4', 'md5': 'E3094A5C00BCC812E837FC81D6AAD93A'}, 'extraAttributes': {'uniParcId': 'UPI000006FDFC'}}\n"
     ]
    },
    {
     "name": "stderr",
     "output_type": "stream",
     "text": [
      "Fetching sequences:  22%|██▏       | 103/469 [00:47<02:42,  2.25it/s]"
     ]
    },
    {
     "name": "stdout",
     "output_type": "stream",
     "text": [
      "{'entryType': 'UniProtKB reviewed (Swiss-Prot)', 'primaryAccession': 'P62304', 'proteinDescription': {'recommendedName': {'fullName': {'value': 'Small nuclear ribonucleoprotein E'}, 'shortNames': [{'value': 'snRNP-E'}]}, 'alternativeNames': [{'fullName': {'value': 'Sm protein E'}, 'shortNames': [{'value': 'Sm-E'}, {'value': 'SmE'}]}]}, 'genes': [{'geneName': {'value': 'SNRPE'}}], 'sequence': {'value': 'MAYRGQGQKVQKVMVQPINLIFRYLQNRSRIQVWLYEQVNMRIEGCIIGFDEYMNLVLDDAEEIHSKTKSRKQLGRIMLKGDNITLLQSVSN', 'length': 92, 'molWeight': 10804, 'crc64': '7D8881CE1F4FA2FD', 'md5': '9B2F92131D7D34356E7F2269768C02EF'}, 'extraAttributes': {'uniParcId': 'UPI0000029B34'}}\n"
     ]
    },
    {
     "name": "stderr",
     "output_type": "stream",
     "text": [
      "Fetching sequences:  22%|██▏       | 104/469 [00:47<02:42,  2.25it/s]"
     ]
    },
    {
     "name": "stdout",
     "output_type": "stream",
     "text": [
      "{'entryType': 'UniProtKB unreviewed (TrEMBL)', 'primaryAccession': 'E9PLD3', 'proteinDescription': {'submissionNames': [{'fullName': {'evidences': [{'evidenceCode': 'ECO:0000313', 'source': 'Ensembl', 'id': 'ENSP00000435188.1'}], 'value': 'Uncharacterized protein'}}]}, 'sequence': {'value': 'MGAPGGKINRPRTELKKKLFKRRRVLNRERRLRHRVVGAVIDQGLITRHHLKKRASSARANITLSGKKRRKLLQQIRLAQKEKTAMEVLRSCPRKSRLF', 'length': 99, 'molWeight': 11600, 'crc64': 'C3D3591CAB81B647', 'md5': '0BAC6A573367006326BA5AE9E6391D81'}, 'extraAttributes': {'uniParcId': 'UPI0001F77B15'}}\n"
     ]
    },
    {
     "name": "stderr",
     "output_type": "stream",
     "text": [
      "Fetching sequences:  22%|██▏       | 105/469 [00:48<02:41,  2.26it/s]"
     ]
    },
    {
     "name": "stdout",
     "output_type": "stream",
     "text": [
      "{'entryType': 'UniProtKB reviewed (Swiss-Prot)', 'primaryAccession': 'Q9P275', 'proteinDescription': {'recommendedName': {'fullName': {'evidences': [{'evidenceCode': 'ECO:0000305'}], 'value': 'Ubiquitin carboxyl-terminal hydrolase 36'}, 'ecNumbers': [{'evidences': [{'evidenceCode': 'ECO:0000269', 'source': 'PubMed', 'id': '36912080'}], 'value': '2.3.2.-'}, {'evidences': [{'evidenceCode': 'ECO:0000269', 'source': 'PubMed', 'id': '14715245'}, {'evidenceCode': 'ECO:0000269', 'source': 'PubMed', 'id': '35989368'}], 'value': '3.4.19.12'}]}, 'alternativeNames': [{'fullName': {'evidences': [{'evidenceCode': 'ECO:0000303', 'source': 'PubMed', 'id': '36912080'}], 'value': 'Deubiquitinating enzyme 36'}}, {'fullName': {'value': 'Ubiquitin thioesterase 36'}}, {'fullName': {'value': 'Ubiquitin-specific-processing protease 36'}}]}, 'genes': [{'geneName': {'evidences': [{'evidenceCode': 'ECO:0000312', 'source': 'HGNC', 'id': 'HGNC:20062'}], 'value': 'USP36'}, 'synonyms': [{'value': 'KIAA1453'}]}], 'sequence': {'value': 'MPIVDKLKEALKPGRKDSADDGELGKLLASSAKKVLLQKIEFEPASKSFSYQLEALKSKYVLLNPKTEGASRHKSGDDPPARRQGSEHTYESCGDGVPAPQKVLFPTERLSLRWERVFRVGAGLHNLGNTCFLNATIQCLTYTPPLANYLLSKEHARSCHQGSFCMLCVMQNHIVQAFANSGNAIKPVSFIRDLKKIARHFRFGNQEDAHEFLRYTIDAMQKACLNGCAKLDRQTQATTLVHQIFGGYLRSRVKCSVCKSVSDTYDPYLDVALEIRQAANIVRALELFVKADVLSGENAYMCAKCKKKVPASKRFTIHRTSNVLTLSLKRFANFSGGKITKDVGYPEFLNIRPYMSQNNGDPVMYGLYAVLVHSGYSCHAGHYYCYVKASNGQWYQMNDSLVHSSNVKVVLNQQAYVLFYLRIPGSKKSPEGLISRTGSSSLPGRPSVIPDHSKKNIGNGIISSPLTGKRQDSGTMKKPHTTEEIGVPISRNGSTLGLKSQNGCIPPKLPSGSPSPKLSQTPTHMPTILDDPGKKVKKPAPPQHFSPRTAQGLPGTSNSNSSRSGSQRQGSWDSRDVVLSTSPKLLATATANGHGLKGNDESAGLDRRGSSSSSPEHSASSDSTKAPQTPRSGAAHLCDSQETNCSTAGHSKTPPSGADSKTVKLKSPVLSNTTTEPASTMSPPPAKKLALSAKKASTLWRATGNDLRPPPPSPSSDLTHPMKTSHPVVASTWPVHRARAVSPAPQSSSRLQPPFSPHPTLLSSTPKPPGTSEPRSCSSISTALPQVNEDLVSLPHQLPEASEPPQSPSEKRKKTFVGEPQRLGSETRLPQHIREATAAPHGKRKRKKKKRPEDTAASALQEGQTQRQPGSPMYRREGQAQLPAVRRQEDGTQPQVNGQQVGCVTDGHHASSRKRRRKGAEGLGEEGGLHQDPLRHSCSPMGDGDPEAMEESPRKKKKKKRKQETQRAVEEDGHLKCPRSAKPQDAVVPESSSCAPSANGWCPGDRMGLSQAPPVSWNGERESDVVQELLKYSSDKAYGRKVLTWDGKMSAVSQDAIEDSRQARTETVVDDWDEEFDRGKEKKIKKFKREKRRNFNAFQKLQTRRNFWSVTHPAKAASLSYRR', 'length': 1123, 'molWeight': 122908, 'crc64': '65CD93C1B8655319', 'md5': '874A72E7ED8F540CBCEF33A454A00AF7'}, 'extraAttributes': {'uniParcId': 'UPI00000398BB'}}\n"
     ]
    },
    {
     "name": "stderr",
     "output_type": "stream",
     "text": [
      "Fetching sequences:  23%|██▎       | 106/469 [00:48<02:40,  2.26it/s]"
     ]
    },
    {
     "name": "stdout",
     "output_type": "stream",
     "text": [
      "{'entryType': 'UniProtKB reviewed (Swiss-Prot)', 'primaryAccession': 'O60832', 'proteinDescription': {'recommendedName': {'fullName': {'value': 'H/ACA ribonucleoprotein complex subunit DKC1'}, 'ecNumbers': [{'evidences': [{'evidenceCode': 'ECO:0000305', 'source': 'PubMed', 'id': '25219674'}], 'value': '5.4.99.-'}]}, 'alternativeNames': [{'fullName': {'value': 'CBF5 homolog'}}, {'fullName': {'value': 'Dyskerin'}}, {'fullName': {'value': 'Nopp140-associated protein of 57 kDa'}}, {'fullName': {'value': 'Nucleolar protein NAP57'}}, {'fullName': {'value': 'Nucleolar protein family A member 4'}}, {'fullName': {'value': 'snoRNP protein DKC1'}}]}, 'genes': [{'geneName': {'evidences': [{'evidenceCode': 'ECO:0000312', 'source': 'HGNC', 'id': 'HGNC:2890'}], 'value': 'DKC1'}, 'synonyms': [{'value': 'NOLA4'}]}], 'sequence': {'value': 'MADAEVIILPKKHKKKKERKSLPEEDVAEIQHAEEFLIKPESKVAKLDTSQWPLLLKNFDKLNVRTTHYTPLACGSNPLKREIGDYIRTGFINLDKPSNPSSHEVVAWIRRILRVEKTGHSGTLDPKVTGCLIVCIERATRLVKSQQSAGKEYVGIVRLHNAIEGGTQLSRALETLTGALFQRPPLIAAVKRQLRVRTIYESKMIEYDPERRLGIFWVSCEAGTYIRTLCVHLGLLLGVGGQMQELRRVRSGVMSEKDHMVTMHDVLDAQWLYDNHKDESYLRRVVYPLEKLLTSHKRLVMKDSAVNAICYGAKIMLPGVLRYEDGIEVNQEIVVITTKGEAICMAIALMTTAVISTCDHGIVAKIKRVIMERDTYPRKWGLGPKASQKKLMIKQGLLDKHGKPTDSTPATWKQEYVDYSESAKKEVVAEVVKAPQVVAEAAKTAKRKRESESESDETPPAAPQLIKKEKKKSKKDKKAKAGLESGAEPGDGDSDTTKKKKKKKKAKEVELVSE', 'length': 514, 'molWeight': 57674, 'crc64': '12474DBEEFEB471C', 'md5': '9C2FDF747634B17E0521FA5A63D34FFA'}, 'extraAttributes': {'uniParcId': 'UPI00000325ED'}}\n"
     ]
    },
    {
     "name": "stderr",
     "output_type": "stream",
     "text": [
      "Fetching sequences:  23%|██▎       | 107/469 [00:48<02:39,  2.26it/s]"
     ]
    },
    {
     "name": "stdout",
     "output_type": "stream",
     "text": [
      "{'entryType': 'UniProtKB reviewed (Swiss-Prot)', 'primaryAccession': 'Q96HS1', 'proteinDescription': {'recommendedName': {'fullName': {'value': 'Serine/threonine-protein phosphatase PGAM5, mitochondrial'}, 'ecNumbers': [{'evidences': [{'evidenceCode': 'ECO:0000269', 'source': 'PubMed', 'id': '19590015'}], 'value': '3.1.3.16'}]}, 'alternativeNames': [{'fullName': {'value': 'Bcl-XL-binding protein v68'}}, {'fullName': {'value': 'Phosphoglycerate mutase family member 5'}}]}, 'genes': [{'geneName': {'value': 'PGAM5'}}], 'sequence': {'value': 'MAFRQALQLAACGLAGGSAAVLFSAVAVGKPRAGGDAEPRPAEPPAWAGGARPGPGVWDPNWDRREPLSLINVRKRNVESGEEELASKLDHYKAKATRHIFLIRHSQYHVDGSLEKDRTLTPLGREQAELTGLRLASLGLKFNKIVHSSMTRAIETTDIISRHLPGVCKVSTDLLREGAPIEPDPPVSHWKPEAVQYYEDGARIEAAFRNYIHRADARQEEDSYEIFICHANVIRYIVCRALQFPPEGWLRLSLNNGSITHLVIRPNGRVALRTLGDTGFMPPDKITRS', 'length': 289, 'molWeight': 32004, 'crc64': 'EE20D2F0A99FCD83', 'md5': '8188AD774BA0EA6DD245C2528D098323'}, 'extraAttributes': {'uniParcId': 'UPI0000406AB5'}}\n"
     ]
    },
    {
     "name": "stderr",
     "output_type": "stream",
     "text": [
      "Fetching sequences:  23%|██▎       | 108/469 [00:49<02:40,  2.25it/s]"
     ]
    },
    {
     "name": "stdout",
     "output_type": "stream",
     "text": [
      "{'entryType': 'UniProtKB reviewed (Swiss-Prot)', 'primaryAccession': 'Q7L2J0', 'proteinDescription': {'recommendedName': {'fullName': {'evidences': [{'evidenceCode': 'ECO:0000303', 'source': 'PubMed', 'id': '30559425'}], 'value': '7SK snRNA methylphosphate capping enzyme'}, 'shortNames': [{'evidences': [{'evidenceCode': 'ECO:0000303', 'source': 'PubMed', 'id': '30559425'}], 'value': 'MePCE'}], 'ecNumbers': [{'evidences': [{'evidenceCode': 'ECO:0000269', 'source': 'PubMed', 'id': '17643375'}, {'evidenceCode': 'ECO:0000269', 'source': 'PubMed', 'id': '19906723'}, {'evidenceCode': 'ECO:0000269', 'source': 'PubMed', 'id': '30559425'}], 'value': '2.1.1.-'}]}, 'alternativeNames': [{'fullName': {'evidences': [{'evidenceCode': 'ECO:0000303', 'source': 'PubMed', 'id': '17643375'}], 'value': 'Bicoid-interacting protein 3 homolog'}, 'shortNames': [{'evidences': [{'evidenceCode': 'ECO:0000303', 'source': 'PubMed', 'id': '17643375'}], 'value': 'Bin3 homolog'}]}]}, 'genes': [{'geneName': {'evidences': [{'evidenceCode': 'ECO:0000303', 'source': 'PubMed', 'id': '30559425'}, {'evidenceCode': 'ECO:0000312', 'source': 'HGNC', 'id': 'HGNC:20247'}], 'value': 'MEPCE'}, 'synonyms': [{'evidences': [{'evidenceCode': 'ECO:0000303', 'source': 'PubMed', 'id': '17643375'}], 'value': 'BCDIN3'}]}], 'sequence': {'value': 'MIEMAAEKEPFLVPAPPPPLKDESGGGGGPTVPPHQEAASGELRGGTERGPGRCAPSAGSPAAAVGRESPGAAATSSSGPQAQQHRGGGPQAQSHGEARLSDPPGRAAPPDVGEERRGGGGTELGPPAPPRPRNGYQPHRPPGGGGGKRRNSCNVGGGGGGFKHPAFKRRRRVNSDCDSVLPSNFLLGGNIFDPLNLNSLLDEEVSRTLNAETPKSSPLPAKGRDPVEILIPKDITDPLSLNTCTDEGHVVLASPLKTGRKRHRHRGQHHQQQQAAGGSESHPVPPTAPLTPLLHGEGASQQPRHRGQNRDAPQPYELNTAINCRDEVVSPLPSALQGPSGSLSAPPAASVISAPPSSSSRHRKRRRTSSKSEAGARGGGQGSKEKGRGSWGGRHHHHHPLPAAGFKKQQRKFQYGNYCKYYGYRNPSCEDGRLRVLKPEWFRGRDVLDLGCNVGHLTLSIACKWGPSRMVGLDIDSRLIHSARQNIRHYLSEELRLPPQTLEGDPGAEGEEGTTTVRKRSCFPASLTASRGPIAAPQVPLDGADTSVFPNNVVFVTGNYVLDRDDLVEAQTPEYDVVLCLSLTKWVHLNWGDEGLKRMFRRIYRHLRPGGILVLEPQPWSSYGKRKTLTETIYKNYYRIQLKPEQFSSYLTSPDVGFSSYELVATPHNTSKGFQRPVYLFHKARSPSH', 'length': 689, 'molWeight': 74355, 'crc64': 'CBB1D6BF144C923A', 'md5': 'EBD333282110C8200D2BE184B32C3B61'}, 'extraAttributes': {'uniParcId': 'UPI0000227DFA'}}\n"
     ]
    },
    {
     "name": "stderr",
     "output_type": "stream",
     "text": [
      "Fetching sequences:  23%|██▎       | 109/469 [00:49<02:40,  2.24it/s]"
     ]
    },
    {
     "name": "stdout",
     "output_type": "stream",
     "text": [
      "{'entryType': 'UniProtKB reviewed (Swiss-Prot)', 'primaryAccession': 'Q5SSJ5', 'proteinDescription': {'recommendedName': {'fullName': {'value': 'Heterochromatin protein 1-binding protein 3'}}, 'alternativeNames': [{'fullName': {'evidences': [{'evidenceCode': 'ECO:0000303', 'source': 'PubMed', 'id': '20042602'}], 'value': 'Protein HP1-BP74'}}]}, 'genes': [{'geneName': {'value': 'HP1BP3'}}], 'sequence': {'value': 'MATDTSQGELVHPKALPLIVGAQLIHADKLGEKVEDSTMPIRRTVNSTRETPPKSKLAEGEEEKPEPDISSEESVSTVEEQENETPPATSSEAEQPKGEPENEEKEENKSSEETKKDEKDQSKEKEKKVKKTIPSWATLSASQLARAQKQTPMASSPRPKMDAILTEAIKACFQKSGASVVAIRKYIIHKYPSLELERRGYLLKQALKRELNRGVIKQVKGKGASGSFVVVQKSRKTPQKSRNRKNRSSAVDPEPQVKLEDVLPLAFTRLCEPKEASYSLIRKYVSQYYPKLRVDIRPQLLKNALQRAVERGQLEQITGKGASGTFQLKKSGEKPLLGGSLMEYAILSAIAAMNEPKTCSTTALKKYVLENHPGTNSNYQMHLLKKTLQKCEKNGWMEQISGKGFSGTFQLCFPYYPSPGVLFPKKEPDDSRDEDEDEDESSEEDSEDEEPPPKRRLQKKTPAKSPGKAASVKQRGSKPAPKVSAAQRGKARPLPKKAPPKAKTPAKKTRPSSTVIKKPSGGSSKKPATSARKEVKLPGKGKSTMKKSFRVKK', 'length': 553, 'molWeight': 61207, 'crc64': 'D18B28EE0156F09B', 'md5': 'F99DD7554D8AD9BCB8899B54388DB779'}, 'extraAttributes': {'uniParcId': 'UPI0000036038'}}\n"
     ]
    },
    {
     "name": "stderr",
     "output_type": "stream",
     "text": [
      "Fetching sequences:  23%|██▎       | 110/469 [00:50<02:39,  2.25it/s]"
     ]
    },
    {
     "name": "stdout",
     "output_type": "stream",
     "text": [
      "{'entryType': 'UniProtKB reviewed (Swiss-Prot)', 'primaryAccession': 'O00566', 'proteinDescription': {'recommendedName': {'fullName': {'value': 'U3 small nucleolar ribonucleoprotein protein MPP10'}}, 'alternativeNames': [{'fullName': {'value': 'M phase phosphoprotein 10'}}]}, 'genes': [{'geneName': {'evidences': [{'evidenceCode': 'ECO:0000312', 'source': 'HGNC', 'id': 'HGNC:7213'}], 'value': 'MPHOSPH10'}, 'synonyms': [{'value': 'MPP10'}]}], 'sequence': {'value': 'MAPQVWRRRTLERCLTEVGKATGRPECFLTIQEGLASKFTSLTKVLYDFNKILENGRIHGSPLQKLVIENFDDEQIWQQLELQNEPILQYFQNAVSETINDEDISLLPESEEQEREEDGSEIEADDKEDLEDLEEEEVSDMGNDDPEMGERAENSSKSDLRKSPVFSDEDSDLDFDISKLEQQSKVQNKGQGKPREKSIVDDKFFKLSEMEAYLENIEKEEERKDDNDEEEEDIDFFEDIDSDEDEGGLFGSKKLKSGKSSRNLKYKDFFDPVESDEDITNVHDDELDSNKEDDEIAEEEAEELSISETDEDDDLQENEDNKQHKESLKRVTFALPDDAETEDTGVLNVKKNSDEVKSSFEKRQEKMNEKIASLEKELLEKKPWQLQGEVTAQKRPENSLLEETLHFDHAVRMAPVITEETTLQLEDIIKQRIRDQAWDDVVRKEKPKEDAYEYKKRLTLDHEKSKLSLAEIYEQEYIKLNQQKTAEEENPEHVEIQKMMDSLFLKLDALSNFHFIPKPPVPEIKVVSNLPAITMEEVAPVSVSDAALLAPEEIKEKNKAGDIKTAAEKTATDKKRERRKKKYQKRMKIKEKEKRRKLLEKSSVDQAGKYSKTVASEKLKQLTKTGKASFIKDEGKDKALKSSQAFFSKLQDQVKMQINDAKKTEKKKKKRQDISVHKLKL', 'length': 681, 'molWeight': 78864, 'crc64': 'EDF27859D735D4E2', 'md5': 'BCAF8F9E7E1E25173A4EC9F564DF82BA'}, 'extraAttributes': {'uniParcId': 'UPI000012F41D'}}\n"
     ]
    },
    {
     "name": "stderr",
     "output_type": "stream",
     "text": [
      "Fetching sequences:  24%|██▎       | 111/469 [00:50<02:46,  2.15it/s]"
     ]
    },
    {
     "name": "stdout",
     "output_type": "stream",
     "text": [
      "{'entryType': 'UniProtKB reviewed (Swiss-Prot)', 'primaryAccession': 'Q03169', 'proteinDescription': {'recommendedName': {'fullName': {'value': 'Tumor necrosis factor alpha-induced protein 2'}, 'shortNames': [{'value': 'TNF alpha-induced protein 2'}]}, 'alternativeNames': [{'fullName': {'value': 'Primary response gene B94 protein'}}]}, 'genes': [{'geneName': {'value': 'TNFAIP2'}}], 'sequence': {'value': 'MSEASSEDLVPPLEAGAAPYREEEEAAKKKKEKKKKSKGLANVFCVFTKGKKKKGQPSSAEPEDAAGSRQGLDGPPPTVEELKAALERGQLEAARPLLALERELAAAAAAGGVSEEELVRRQSKVEALYELLRDQVLGVLRRPLEAPPERLRQALAVVAEQEREDRQAAAAGPGTSGLAATRPRRWLQLWRRGVAEAAEERMGQRPAAGAEVPESVFLHLGRTMKEDLEAVVERLKPLFPAEFGVVAAYAESYHQHFAAHLAAVAQFELCERDTYMLLLWVQNLYPNDIINSPKLVGELQGMGLGSLLPPRQIRLLEATFLSSEAANVRELMDRALELEARRWAEDVPPQRLDGHCHSELAIDIIQITSQAQAKAESITLDLGSQIKRVLLVELPAFLRSYQRAFNEFLERGKQLTNYRANVIANINNCLSFRMSMEQNWQVPQDTLSLLLGPLGELKSHGFDTLLQNLHEDLKPLFKRFTHTRWAAPVETLENIIATVDTRLPEFSELQGCFREELMEALHLHLVKEYIIQLSKGRLVLKTAEQQQQLAGYILANADTIQHFCTQHGSPATWLQPALPTLAEIIRLQDPSAIKIEVATYATCYPDFSKGHLSAILAIKGNLSNSEVKRIRSILDVSMGAQEPSRPLFSLIKVG', 'length': 654, 'molWeight': 72661, 'crc64': '5BB18E96B193CC3D', 'md5': 'C5B21E42BDF0456DEF98DFABD4F633CF'}, 'extraAttributes': {'uniParcId': 'UPI0000164A41'}}\n"
     ]
    },
    {
     "name": "stderr",
     "output_type": "stream",
     "text": [
      "Fetching sequences:  24%|██▍       | 112/469 [00:51<02:43,  2.18it/s]"
     ]
    },
    {
     "name": "stdout",
     "output_type": "stream",
     "text": [
      "{'entryType': 'UniProtKB reviewed (Swiss-Prot)', 'primaryAccession': 'P56537', 'proteinDescription': {'recommendedName': {'fullName': {'evidences': [{'evidenceCode': 'ECO:0000255', 'source': 'HAMAP-Rule', 'id': 'MF_03132'}], 'value': 'Eukaryotic translation initiation factor 6'}, 'shortNames': [{'evidences': [{'evidenceCode': 'ECO:0000255', 'source': 'HAMAP-Rule', 'id': 'MF_03132'}], 'value': 'eIF-6'}]}, 'alternativeNames': [{'fullName': {'value': 'B(2)GCN homolog'}}, {'fullName': {'value': 'B4 integrin interactor'}}, {'fullName': {'value': 'CAB'}}, {'fullName': {'value': 'p27(BBP)'}}]}, 'genes': [{'geneName': {'evidences': [{'evidenceCode': 'ECO:0000255', 'source': 'HAMAP-Rule', 'id': 'MF_03132'}, {'evidenceCode': 'ECO:0000312', 'source': 'HGNC', 'id': 'HGNC:6159'}], 'value': 'EIF6'}, 'synonyms': [{'value': 'EIF3A'}, {'evidences': [{'evidenceCode': 'ECO:0000255', 'source': 'HAMAP-Rule', 'id': 'MF_03132'}], 'value': 'ITGB4BP'}], 'orfNames': [{'value': 'OK/SW-cl.27'}]}], 'sequence': {'value': 'MAVRASFENNCEIGCFAKLTNTYCLVAIGGSENFYSVFEGELSDTIPVVHASIAGCRIIGRMCVGNRHGLLVPNNTTDQELQHIRNSLPDTVQIRRVEERLSALGNVTTCNDYVALVHPDLDRETEEILADVLKVEVFRQTVADQVLVGSYCVFSNQGGLVHPKTSIEDQDELSSLLQVPLVAGTVNRGSEVIAAGMVVNDWCAFCGLDTTSTELSVVESVFKLNEAQPSTIATSMRDSLIDSLT', 'length': 245, 'molWeight': 26599, 'crc64': '5BA97CD5DB0C17C3', 'md5': '9481AE8CBB90474981C91CA4CB0DA520'}, 'extraAttributes': {'uniParcId': 'UPI0000001224'}}\n"
     ]
    },
    {
     "name": "stderr",
     "output_type": "stream",
     "text": [
      "Fetching sequences:  24%|██▍       | 113/469 [00:51<02:40,  2.22it/s]"
     ]
    },
    {
     "name": "stdout",
     "output_type": "stream",
     "text": [
      "{'entryType': 'UniProtKB reviewed (Swiss-Prot)', 'primaryAccession': 'Q15424', 'proteinDescription': {'recommendedName': {'fullName': {'value': 'Scaffold attachment factor B1'}, 'shortNames': [{'value': 'SAF-B'}, {'value': 'SAF-B1'}]}, 'alternativeNames': [{'fullName': {'value': 'HSP27 estrogen response element-TATA box-binding protein'}, 'shortNames': [{'value': 'HSP27 ERE-TATA-binding protein'}]}]}, 'genes': [{'geneName': {'value': 'SAFB'}, 'synonyms': [{'value': 'HAP'}, {'value': 'HET'}, {'value': 'SAFB1'}]}], 'sequence': {'value': 'MAETLSGLGDSGAAGAAALSSASSETGTRRLSDLRVIDLRAELRKRNVDSSGNKSVLMERLKKAIEDEGGNPDEIEITSEGNKKTSKRSSKGRKPEEEGVEDNGLEENSGDGQEDVETSLENLQDIDIMDISVLDEAEIDNGSVADCVEDDDADNLQESLSDSRELVEGEMKELPEQLQEHAIEDKETINNLDTSSSDFTILQEIEEPSLEPENEKILDILGETCKSEPVKEESSELEQPFAQDTSSVGPDRKLAEEEDLFDSAHPEEGDLDLASESTAHAQSSKADSLLAVVKREPAEQPGDGERTDCEPVGLEPAVEQSSAASELAEASSEELAEAPTEAPSPEARDSKEDGRKFDFDACNEVPPAPKESSTSEGADQKMSSPEDDSDTKRLSKEEKGRSSCGRNFWVSGLSSTTRATDLKNLFSKYGKVVGAKVVTNARSPGARCYGFVTMSTAEEATKCINHLHKTELHGKMISVEKAKNEPVGKKTSDKRDSDGKKEKSSNSDRSTNLKRDDKCDRKDDAKKGDDGSGEKSKDQDDQKPGPSERSRATKSGSRGTERTVVMDKSKGVPVISVKTSGSKERASKSQDRKSASREKRSVVSFDKVKEPRKSRDSESHSRVRERSEREQRMQAQWEREERERLEIARERLAFQRQRLERERMERERLERERMHVEHERRREQERIHREREELRRQQELRYEQERRPAVRRPYDLDRRDDAYWPEAKRAALDERYHSDFNRQDRFHDFDHRDRGRYPDHSVDRREGSRSMMGEREGQHYPERHGGPERHGRDSRDGWGGYGSDKRMSEGRGLPPPPRRDWGDHGRREDDRSWQGTADGGMMDRDHKRWQGGERSMSGHSGPGHMMNRGGMSGRGSFAPGGASRGHPIPHGGMQGGFGGQSRGSRPSDARFTRRY', 'length': 915, 'molWeight': 102642, 'crc64': 'E865940BC7783C4A', 'md5': 'B32E44E3E19041B04D01CC5FB48DF761'}, 'extraAttributes': {'uniParcId': 'UPI0000161FB7'}}\n"
     ]
    },
    {
     "name": "stderr",
     "output_type": "stream",
     "text": [
      "Fetching sequences:  24%|██▍       | 114/469 [00:52<02:39,  2.22it/s]"
     ]
    },
    {
     "name": "stdout",
     "output_type": "stream",
     "text": [
      "{'entryType': 'UniProtKB reviewed (Swiss-Prot)', 'primaryAccession': 'Q9BRJ6', 'proteinDescription': {'recommendedName': {'fullName': {'evidences': [{'evidenceCode': 'ECO:0000305'}], 'value': 'Protein cholesin'}}}, 'genes': [{'geneName': {'evidences': [{'evidenceCode': 'ECO:0000312', 'source': 'HGNC', 'id': 'HGNC:22421'}], 'value': 'CHLSN'}, 'synonyms': [{'value': 'C7orf50'}], 'orfNames': [{'value': 'FP15621'}]}], 'sequence': {'value': 'MAKQKRKVPEVTEKKNKKLKKASAEGPLLGPEAAPSGEGAGSKGEAVLRPGLDAEPELSPEEQRVLERKLKKERKKEERQRLREAGLVAQHPPARRSGAELALDYLCRWAQKHKNWRFQKTRQTWLLLHMYDSDKVPDEHFSTLLAYLEGLQGRARELTVQKAEALMRELDEEGSDPPLPGRAQRIRQVLQLLS', 'length': 194, 'molWeight': 22083, 'crc64': 'EDFF8B6A335416F3', 'md5': 'FE4EF9BF07E9453FC1C193514825001C'}, 'extraAttributes': {'uniParcId': 'UPI0000070A88'}}\n"
     ]
    },
    {
     "name": "stderr",
     "output_type": "stream",
     "text": [
      "Fetching sequences:  25%|██▍       | 115/469 [00:52<02:38,  2.24it/s]"
     ]
    },
    {
     "name": "stdout",
     "output_type": "stream",
     "text": [
      "{'entryType': 'UniProtKB reviewed (Swiss-Prot)', 'primaryAccession': 'Q9Y2X3', 'proteinDescription': {'recommendedName': {'fullName': {'evidences': [{'evidenceCode': 'ECO:0000305'}], 'value': 'Nucleolar protein 58'}}, 'alternativeNames': [{'fullName': {'value': 'Nucleolar protein 5'}}]}, 'genes': [{'geneName': {'evidences': [{'evidenceCode': 'ECO:0000312', 'source': 'HGNC', 'id': 'HGNC:29926'}], 'value': 'NOP58'}, 'synonyms': [{'value': 'NOL5'}, {'value': 'NOP5'}], 'orfNames': [{'value': 'HSPC120'}]}], 'sequence': {'value': 'MLVLFETSVGYAIFKVLNEKKLQEVDSLWKEFETPEKANKIVKLKHFEKFQDTAEALAAFTALMEGKINKQLKKVLKKIVKEAHEPLAVADAKLGGVIKEKLNLSCIHSPVVNELMRGIRSQMDGLIPGVEPREMAAMCLGLAHSLSRYRLKFSADKVDTMIVQAISLLDDLDKELNNYIMRCREWYGWHFPELGKIISDNLTYCKCLQKVGDRKNYASAKLSELLPEEVEAEVKAAAEISMGTEVSEEDICNILHLCTQVIEISEYRTQLYEYLQNRMMAIAPNVTVMVGELVGARLIAHAGSLLNLAKHAASTVQILGAEKALFRALKSRRDTPKYGLIYHASLVGQTSPKHKGKISRMLAAKTVLAIRYDAFGEDSSSAMGVENRAKLEARLRTLEDRGIRKISGTGKALAKTEKYEHKSEVKTYDPSGDSTLPTCSKKRKIEQVDKEDEITEKKAKKAKIKVKVEEEEEEKVAEEEETSVKKKKKRGKKKHIKEEPLSEEEPCTSTAIASPEKKKKKKKKRENED', 'length': 529, 'molWeight': 59578, 'crc64': '27CD73CFF5B9A556', 'md5': 'F5C27AA37186E32EE6A42A1F5F1BC488'}, 'extraAttributes': {'uniParcId': 'UPI0000130366'}}\n"
     ]
    },
    {
     "name": "stderr",
     "output_type": "stream",
     "text": [
      "Fetching sequences:  25%|██▍       | 116/469 [00:53<02:37,  2.24it/s]"
     ]
    },
    {
     "name": "stdout",
     "output_type": "stream",
     "text": [
      "{'entryType': 'UniProtKB reviewed (Swiss-Prot)', 'primaryAccession': 'Q9BRU9', 'proteinDescription': {'recommendedName': {'fullName': {'value': 'rRNA-processing protein UTP23 homolog'}}}, 'genes': [{'geneName': {'value': 'UTP23'}, 'synonyms': [{'value': 'C8orf53'}]}], 'sequence': {'value': 'MKITRQKHAKKHLGFFRNNFGVREPYQILLDGTFCQAALRGRIQLREQLPRYLMGETQLCTTRCVLKELETLGKDLYGAKLIAQKCQVRNCPHFKNAVSGSECLLSMVEEGNPHHYFVATQDQNLSVKVKKKPGVPLMFIIQNTMVLDKPSPKTIAFVKAVESGQLVSVHEKESIKHLKEEQGLVKNTEQSRRKKRKKISGPNPLSCLKKKKKAPDTQSSASEKKRKRKRIRNRSNPKVLSEKQNAEGE', 'length': 249, 'molWeight': 28402, 'crc64': '5DBFD9D7D64D96EE', 'md5': '29C2BC7727055152AFCE1742349272F9'}, 'extraAttributes': {'uniParcId': 'UPI000013EF3A'}}\n"
     ]
    },
    {
     "name": "stderr",
     "output_type": "stream",
     "text": [
      "Fetching sequences:  25%|██▍       | 117/469 [00:53<02:36,  2.25it/s]"
     ]
    },
    {
     "name": "stdout",
     "output_type": "stream",
     "text": [
      "{'entryType': 'UniProtKB reviewed (Swiss-Prot)', 'primaryAccession': 'Q9UMS4', 'proteinDescription': {'recommendedName': {'fullName': {'evidences': [{'evidenceCode': 'ECO:0000305'}], 'value': 'Pre-mRNA-processing factor 19'}, 'ecNumbers': [{'evidences': [{'evidenceCode': 'ECO:0000269', 'source': 'PubMed', 'id': '11435423'}], 'value': '2.3.2.27'}]}, 'alternativeNames': [{'fullName': {'evidences': [{'evidenceCode': 'ECO:0000303', 'source': 'PubMed', 'id': '11082287'}], 'value': 'Nuclear matrix protein 200'}}, {'fullName': {'evidences': [{'evidenceCode': 'ECO:0000303', 'source': 'PubMed', 'id': '12960389'}], 'value': 'PRP19/PSO4 homolog'}, 'shortNames': [{'evidences': [{'evidenceCode': 'ECO:0000303', 'source': 'PubMed', 'id': '12960389'}], 'value': 'hPso4'}]}, {'fullName': {'evidences': [{'evidenceCode': 'ECO:0000305'}], 'value': 'RING-type E3 ubiquitin transferase PRP19'}}, {'fullName': {'evidences': [{'evidenceCode': 'ECO:0000303', 'source': 'PubMed', 'id': '16332694'}], 'value': 'Senescence evasion factor'}}]}, 'genes': [{'geneName': {'evidences': [{'evidenceCode': 'ECO:0000312', 'source': 'HGNC', 'id': 'HGNC:17896'}], 'value': 'PRPF19'}, 'synonyms': [{'evidences': [{'evidenceCode': 'ECO:0000303', 'source': 'PubMed', 'id': '11082287'}], 'value': 'NMP200'}, {'evidences': [{'evidenceCode': 'ECO:0000303', 'source': 'PubMed', 'id': '11435423'}], 'value': 'PRP19'}, {'evidences': [{'evidenceCode': 'ECO:0000303', 'source': 'PubMed', 'id': '16332694'}], 'value': 'SNEV'}]}], 'sequence': {'value': 'MSLICSISNEVPEHPCVSPVSNHVYERRLIEKYIAENGTDPINNQPLSEEQLIDIKVAHPIRPKPPSATSIPAILKALQDEWDAVMLHSFTLRQQLQTTRQELSHALYQHDAACRVIARLTKEVTAAREALATLKPQAGLIVPQAVPSSQPSVVGAGEPMDLGELVGMTPEIIQKLQDKATVLTTERKKRGKTVPEELVKPEELSKYRQVASHVGLHSASIPGILALDLCPSDTNKILTGGADKNVVVFDKSSEQILATLKGHTKKVTSVVFHPSQDLVFSASPDATIRIWSVPNASCVQVVRAHESAVTGLSLHATGDYLLSSSDDQYWAFSDIQTGRVLTKVTDETSGCSLTCAQFHPDGLIFGTGTMDSQIKIWDLKERTNVANFPGHSGPITSIAFSENGYYLATAADDSSVKLWDLRKLKNFKTLQLDNNFEVKSLIFDQSGTYLALGGTDVQIYICKQWTEILHFTEHSGLTTGVAFGHHAKFIASTGMDRSLKFYSL', 'length': 504, 'molWeight': 55181, 'crc64': 'B34C37496E8AA032', 'md5': 'BDEB804E3856ED3597653D08864F8B1D'}, 'extraAttributes': {'uniParcId': 'UPI000003F659'}}\n"
     ]
    },
    {
     "name": "stderr",
     "output_type": "stream",
     "text": [
      "Fetching sequences:  25%|██▌       | 118/469 [00:53<02:35,  2.26it/s]"
     ]
    },
    {
     "name": "stdout",
     "output_type": "stream",
     "text": [
      "{'entryType': 'UniProtKB reviewed (Swiss-Prot)', 'primaryAccession': 'P31943', 'proteinDescription': {'recommendedName': {'fullName': {'value': 'Heterogeneous nuclear ribonucleoprotein H'}, 'shortNames': [{'value': 'hnRNP H'}]}, 'contains': [{'recommendedName': {'fullName': {'value': 'Heterogeneous nuclear ribonucleoprotein H, N-terminally processed'}}}]}, 'genes': [{'geneName': {'value': 'HNRNPH1'}, 'synonyms': [{'value': 'HNRPH'}, {'value': 'HNRPH1'}]}], 'sequence': {'value': 'MMLGTEGGEGFVVKVRGLPWSCSADEVQRFFSDCKIQNGAQGIRFIYTREGRPSGEAFVELESEDEVKLALKKDRETMGHRYVEVFKSNNVEMDWVLKHTGPNSPDTANDGFVRLRGLPFGCSKEEIVQFFSGLEIVPNGITLPVDFQGRSTGEAFVQFASQEIAEKALKKHKERIGHRYIEIFKSSRAEVRTHYDPPRKLMAMQRPGPYDRPGAGRGYNSIGRGAGFERMRRGAYGGGYGGYDDYNGYNDGYGFGSDRFGRDLNYCFSGMSDHRYGDGGSTFQSTTGHCVHMRGLPYRATENDIYNFFSPLNPVRVHIEIGPDGRVTGEADVEFATHEDAVAAMSKDKANMQHRYVELFLNSTAGASGGAYEHRYVELFLNSTAGASGGAYGSQMMGGMGLSNQSSYGGPASQQLSGGYGGGYGGQSSMSGYDQVLQENSSDFQSNIA', 'length': 449, 'molWeight': 49229, 'crc64': '4ECF7A075C2526FF', 'md5': '37D82ED0DC18BCCEB9EE2CEC1DAAB151'}, 'extraAttributes': {'uniParcId': 'UPI0000000C2B'}}\n"
     ]
    },
    {
     "name": "stderr",
     "output_type": "stream",
     "text": [
      "Fetching sequences:  25%|██▌       | 119/469 [00:54<02:34,  2.26it/s]"
     ]
    },
    {
     "name": "stdout",
     "output_type": "stream",
     "text": [
      "{'entryType': 'UniProtKB reviewed (Swiss-Prot)', 'primaryAccession': 'Q9H6R4', 'proteinDescription': {'recommendedName': {'fullName': {'value': 'Nucleolar protein 6'}}, 'alternativeNames': [{'fullName': {'evidences': [{'evidenceCode': 'ECO:0000303', 'source': 'PubMed', 'id': '11895476'}], 'value': 'Nucleolar RNA-associated protein'}, 'shortNames': [{'evidences': [{'evidenceCode': 'ECO:0000303', 'source': 'PubMed', 'id': '11895476'}], 'value': 'Nrap'}]}]}, 'genes': [{'geneName': {'evidences': [{'evidenceCode': 'ECO:0000312', 'source': 'HGNC', 'id': 'HGNC:19910'}], 'value': 'NOL6'}}], 'sequence': {'value': 'MGPAPAGEQLRGATGEPEVMEPALEGTGKEGKKASSRKRTLAEPPAKGLLQPVKLSRAELYKEPTNEELNRLRETEILFHSSLLRLQVEELLKEVRLSEKKKDRIDAFLREVNQRVVRVPSVPETELTDQAWLPAGVRVPLHQVPYAVKGCFRFLPPAQVTVVGSYLLGTCIRPDINVDVALTMPREILQDKDGLNQRYFRKRALYLAHLAHHLAQDPLFGSVCFSYTNGCHLKPSLLLRPRGKDERLVTVRLHPCPPPDFFRPCRLLPTKNNVRSAWYRGQSPAGDGSPEPPTPRYNTWVLQDTVLESHLQLLSTILSSAQGLKDGVALLKVWLRQRELDKGQGGFTGFLVSMLVVFLVSTRKIHTTMSGYQVLRSVLQFLATTDLTVNGISLCLSSDPSLPALADFHQAFSVVFLDSSGHLNLCADVTASTYHQVQHEARLSMMLLDSRADDGFHLLLMTPKPMIRAFDHVLHLRPLSRLQAACHRLKLWPELQDNGGDYVSAALGPLTTLLEQGLGARLNLLAHSRPPVPEWDISQDPPKHKDSGTLTLGLLLRPEGLTSVLELGPEADQPEAAKFRQFWGSRSELRRFQDGAIREAVVWEAASMSQKRLIPHQVVTHLLALHADIPETCVHYVGGPLDALIQGLKETSSTGEEALVAAVRCYDDLSRLLWGLEGLPLTVSAVQGAHPVLRYTEVFPPTPVRPAFSFYETLRERSSLLPRLDKPCPAYVEPMTVVCHLEGSGQWPQDAEAVQRVRAAFQLRLAELLTQQHGLQCRATATHTDVLKDGFVFRIRVAYQREPQILKEVQSPEGMISLRDTAASLRLERDTRQLPLLTSALHGLQQQHPAFSGVARLAKRWVRAQLLGEGFADESLDLVAAALFLHPEPFTPPSSPQVGFLRFLFLVSTFDWKNNPLFVNLNNELTVEEQVEIRSGFLAARAQLPVMVIVTPQDRKNSVWTQDGPSAQILQQLVVLAAEALPMLEKQLMDPRGPGDIRTVFRPPLDIYDVLIRLSPRHIPRHRQAVDSPAASFCRGLLSQPGPSSLMPVLGYDPPQLYLTQLREAFGDLALFFYDQHGGEVIGVLWKPTSFQPQPFKASSTKGRMVMSRGGELVMVPNVEAILEDFAVLGEGLVQTVEARSERWTV', 'length': 1146, 'molWeight': 127593, 'crc64': '2E73D31BC3D4AF6B', 'md5': '017BCF9B2E2273C9EBAEA1CBB9D589BA'}, 'extraAttributes': {'uniParcId': 'UPI0000050326'}}\n"
     ]
    },
    {
     "name": "stderr",
     "output_type": "stream",
     "text": [
      "Fetching sequences:  26%|██▌       | 120/469 [00:54<02:34,  2.26it/s]"
     ]
    },
    {
     "name": "stdout",
     "output_type": "stream",
     "text": [
      "{'entryType': 'UniProtKB reviewed (Swiss-Prot)', 'primaryAccession': 'P55795', 'proteinDescription': {'recommendedName': {'fullName': {'value': 'Heterogeneous nuclear ribonucleoprotein H2'}, 'shortNames': [{'value': 'hnRNP H2'}]}, 'alternativeNames': [{'fullName': {'value': 'FTP-3'}}, {'fullName': {'value': \"Heterogeneous nuclear ribonucleoprotein H'\"}, 'shortNames': [{'value': \"hnRNP H'\"}]}], 'contains': [{'recommendedName': {'fullName': {'value': 'Heterogeneous nuclear ribonucleoprotein H2, N-terminally processed'}}}]}, 'genes': [{'geneName': {'value': 'HNRNPH2'}, 'synonyms': [{'value': 'FTP3'}, {'value': 'HNRPH2'}]}], 'sequence': {'value': 'MMLSTEGREGFVVKVRGLPWSCSADEVMRFFSDCKIQNGTSGIRFIYTREGRPSGEAFVELESEEEVKLALKKDRETMGHRYVEVFKSNSVEMDWVLKHTGPNSPDTANDGFVRLRGLPFGCSKEEIVQFFSGLEIVPNGMTLPVDFQGRSTGEAFVQFASQEIAEKALKKHKERIGHRYIEIFKSSRAEVRTHYDPPRKLMAMQRPGPYDRPGAGRGYNSIGRGAGFERMRRGAYGGGYGGYDDYGGYNDGYGFGSDRFGRDLNYCFSGMSDHRYGDGGSSFQSTTGHCVHMRGLPYRATENDIYNFFSPLNPMRVHIEIGPDGRVTGEADVEFATHEDAVAAMAKDKANMQHRYVELFLNSTAGTSGGAYDHSYVELFLNSTAGASGGAYGSQMMGGMGLSNQSSYGGPASQQLSGGYGGGYGGQSSMSGYDQVLQENSSDYQSNLA', 'length': 449, 'molWeight': 49264, 'crc64': 'C892523A638F07C7', 'md5': '6D4CE4DE8342458A1722E1CBA7875B96'}, 'extraAttributes': {'uniParcId': 'UPI0000134537'}}\n"
     ]
    },
    {
     "name": "stderr",
     "output_type": "stream",
     "text": [
      "Fetching sequences:  26%|██▌       | 121/469 [00:55<02:33,  2.26it/s]"
     ]
    },
    {
     "name": "stdout",
     "output_type": "stream",
     "text": [
      "{'entryType': 'UniProtKB reviewed (Swiss-Prot)', 'primaryAccession': 'Q9BQ67', 'proteinDescription': {'recommendedName': {'fullName': {'value': 'Glutamate-rich WD repeat-containing protein 1'}}}, 'genes': [{'geneName': {'value': 'GRWD1'}, 'synonyms': [{'value': 'GRWD'}, {'value': 'KIAA1942'}, {'value': 'WDR28'}]}], 'sequence': {'value': 'MAARKGRRRTCETGEPMEAESGDTSSEGPAQVYLPGRGPPLREGEELVMDEEAYVLYHRAQTGAPCLSFDIVRDHLGDNRTELPLTLYLCAGTQAESAQSNRLMMLRMHNLHGTKPPPSEGSDEEEEEEDEEDEEERKPQLELAMVPHYGGINRVRVSWLGEEPVAGVWSEKGQVEVFALRRLLQVVEEPQALAAFLRDEQAQMKPIFSFAGHMGEGFALDWSPRVTGRLLTGDCQKNIHLWTPTDGGSWHVDQRPFVGHTRSVEDLQWSPTENTVFASCSADASIRIWDIRAAPSKACMLTTATAHDGDVNVISWSRREPFLLSGGDDGALKIWDLRQFKSGSPVATFKQHVAPVTSVEWHPQDSGVFAASGADHQITQWDLAVERDPEAGDVEADPGLADLPQQLLFVHQGETELKELHWHPQCPGLLVSTALSGFTIFRTISV', 'length': 446, 'molWeight': 49419, 'crc64': '748CA005313FF8A8', 'md5': 'DCF8DDE898AA0B7E76E1B854A86856F9'}, 'extraAttributes': {'uniParcId': 'UPI000012BB5B'}}\n"
     ]
    },
    {
     "name": "stderr",
     "output_type": "stream",
     "text": [
      "Fetching sequences:  26%|██▌       | 122/469 [00:55<02:32,  2.28it/s]"
     ]
    },
    {
     "name": "stdout",
     "output_type": "stream",
     "text": [
      "{'entryType': 'UniProtKB reviewed (Swiss-Prot)', 'primaryAccession': 'Q00839', 'proteinDescription': {'recommendedName': {'fullName': {'evidences': [{'evidenceCode': 'ECO:0000303', 'source': 'PubMed', 'id': '1628625'}], 'value': 'Heterogeneous nuclear ribonucleoprotein U'}, 'shortNames': [{'evidences': [{'evidenceCode': 'ECO:0000303', 'source': 'PubMed', 'id': '1628625'}], 'value': 'hnRNP U'}]}, 'alternativeNames': [{'fullName': {'evidences': [{'evidenceCode': 'ECO:0000303', 'source': 'PubMed', 'id': '9353307'}], 'value': 'GRIP120'}}, {'fullName': {'evidences': [{'evidenceCode': 'ECO:0000303', 'source': 'PubMed', 'id': '7753047'}], 'value': 'Nuclear p120 ribonucleoprotein'}}, {'fullName': {'evidences': [{'evidenceCode': 'ECO:0000303', 'source': 'PubMed', 'id': '1324173'}, {'evidenceCode': 'ECO:0000303', 'source': 'Reference', 'id': 'Ref.3'}], 'value': 'Scaffold-attachment factor A'}, 'shortNames': [{'evidences': [{'evidenceCode': 'ECO:0000303', 'source': 'PubMed', 'id': '1324173'}, {'evidenceCode': 'ECO:0000303', 'source': 'Reference', 'id': 'Ref.3'}], 'value': 'SAF-A'}]}, {'fullName': {'evidences': [{'evidenceCode': 'ECO:0000303', 'source': 'PubMed', 'id': '7993898'}], 'value': 'p120'}}, {'fullName': {'evidences': [{'evidenceCode': 'ECO:0000303', 'source': 'PubMed', 'id': '7993898'}], 'value': 'pp120'}}]}, 'genes': [{'geneName': {'evidences': [{'evidenceCode': 'ECO:0000312', 'source': 'HGNC', 'id': 'HGNC:5048'}], 'value': 'HNRNPU'}, 'synonyms': [{'evidences': [{'evidenceCode': 'ECO:0000312', 'source': 'HGNC', 'id': 'HGNC:5048'}], 'value': 'C1orf199'}, {'evidences': [{'evidenceCode': 'ECO:0000312', 'source': 'HGNC', 'id': 'HGNC:5048'}], 'value': 'HNRPU'}, {'value': 'SAFA'}, {'value': 'U21.1'}]}], 'sequence': {'value': 'MSSSPVNVKKLKVSELKEELKKRRLSDKGLKAELMERLQAALDDEEAGGRPAMEPGNGSLDLGGDSAGRSGAGLEQEAAAGGDEEEEEEEEEEEGISALDGDQMELGEENGAAGAADSGPMEEEEAASEDENGDDQGFQEGEDELGDEEEGAGDENGHGEQQPQPPATQQQQPQQQRGAAKEAAGKSSGPTSLFAVTVAPPGARQGQQQAGGKKKAEGGGGGGRPGAPAAGDGKTEQKGGDKKRGVKRPREDHGRGYFEYIEENKYSRAKSPQPPVEEEDEHFDDTVVCLDTYNCDLHFKISRDRLSASSLTMESFAFLWAGGRASYGVSKGKVCFEMKVTEKIPVRHLYTKDIDIHEVRIGWSLTTSGMLLGEEEFSYGYSLKGIKTCNCETEDYGEKFDENDVITCFANFESDEVELSYAKNGQDLGVAFKISKEVLAGRPLFPHVLCHNCAVEFNFGQKEKPYFPIPEEYTFIQNVPLEDRVRGPKGPEEKKDCEVVMMIGLPGAGKTTWVTKHAAENPGKYNILGTNTIMDKMMVAGFKKQMADTGKLNTLLQRAPQCLGKFIEIAARKKRNFILDQTNVSAAAQRRKMCLFAGFQRKAVVVCPKDEDYKQRTQKKAEVEGKDLPEHAVLKMKGNFTLPEVAECFDEITYVELQKEEAQKLLEQYKEESKKALPPEKKQNTGSKKSNKNKSGKNQFNRGGGHRGRGGFNMRGGNFRGGAPGNRGGYNRRGNMPQRGGGGGGSGGIGYPYPRAPVFPGRGSYSNRGNYNRGGMPNRGNYNQNFRGRGNNRGYKNQSQGYNQWQQGQFWGQKPWSQHYHQGYY', 'length': 825, 'molWeight': 90584, 'crc64': '5D4EC4188436831F', 'md5': '249319A9EE84BF561338CA041474C5B5'}, 'extraAttributes': {'uniParcId': 'UPI000040E1C8'}}\n"
     ]
    },
    {
     "name": "stderr",
     "output_type": "stream",
     "text": [
      "Fetching sequences:  26%|██▌       | 123/469 [00:56<02:33,  2.26it/s]"
     ]
    },
    {
     "name": "stdout",
     "output_type": "stream",
     "text": [
      "{'entryType': 'Inactive', 'primaryAccession': 'Q5HYZ1', 'inactiveReason': {'inactiveReasonType': 'DELETED'}, 'extraAttributes': {'uniParcId': 'UPI0000E5AD8B'}}\n"
     ]
    },
    {
     "name": "stderr",
     "output_type": "stream",
     "text": [
      "Fetching sequences:  26%|██▋       | 124/469 [00:56<02:31,  2.27it/s]"
     ]
    },
    {
     "name": "stdout",
     "output_type": "stream",
     "text": [
      "{'entryType': 'UniProtKB reviewed (Swiss-Prot)', 'primaryAccession': 'P62805', 'proteinDescription': {'recommendedName': {'fullName': {'value': 'Histone H4'}}}, 'genes': [{'geneName': {'value': 'H4C1'}, 'synonyms': [{'value': 'H4/A'}, {'value': 'H4FA'}, {'value': 'HIST1H4A'}]}, {'geneName': {'value': 'H4C2'}, 'synonyms': [{'value': 'H4/I'}, {'value': 'H4FI'}, {'value': 'HIST1H4B'}]}, {'geneName': {'value': 'H4C3'}, 'synonyms': [{'value': 'H4/G'}, {'value': 'H4FG'}, {'value': 'HIST1H4C'}]}, {'geneName': {'value': 'H4C4'}, 'synonyms': [{'value': 'H4/B'}, {'value': 'H4FB'}, {'value': 'HIST1H4D'}]}, {'geneName': {'value': 'H4C5'}, 'synonyms': [{'value': 'H4/J'}, {'value': 'H4FJ'}, {'value': 'HIST1H4E'}]}, {'geneName': {'value': 'H4C6'}, 'synonyms': [{'value': 'H4/C'}, {'value': 'H4FC'}, {'value': 'HIST1H4F'}]}, {'geneName': {'value': 'H4C8'}, 'synonyms': [{'value': 'H4/H'}, {'value': 'H4FH'}, {'value': 'HIST1H4H'}]}, {'geneName': {'value': 'H4C9'}, 'synonyms': [{'value': 'H4/M'}, {'value': 'H4FM'}, {'value': 'HIST1H4I'}]}, {'geneName': {'value': 'H4C11'}, 'synonyms': [{'value': 'H4/E'}, {'value': 'H4FE'}, {'value': 'HIST1H4J'}]}, {'geneName': {'value': 'H4C12'}, 'synonyms': [{'value': 'H4/D'}, {'value': 'H4FD'}, {'value': 'HIST1H4K'}]}, {'geneName': {'value': 'H4C13'}, 'synonyms': [{'value': 'H4/K'}, {'value': 'H4FK'}, {'value': 'HIST1H4L'}]}, {'geneName': {'value': 'H4C14'}, 'synonyms': [{'value': 'H4/N'}, {'value': 'H4F2'}, {'value': 'H4FN'}, {'value': 'HIST2H4'}, {'value': 'HIST2H4A'}]}, {'geneName': {'value': 'H4C15'}, 'synonyms': [{'value': 'H4/O'}, {'value': 'H4FO'}, {'value': 'HIST2H4B'}]}, {'geneName': {'value': 'H4C16'}, 'synonyms': [{'value': 'H4-16'}, {'value': 'HIST4H4'}]}], 'sequence': {'value': 'MSGRGKGGKGLGKGGAKRHRKVLRDNIQGITKPAIRRLARRGGVKRISGLIYEETRGVLKVFLENVIRDAVTYTEHAKRKTVTAMDVVYALKRQGRTLYGFGG', 'length': 103, 'molWeight': 11367, 'crc64': 'A9E5DFD3F8B97598', 'md5': 'CD835BC39369079207F534A9E7BA6095'}, 'extraAttributes': {'uniParcId': 'UPI000000003C'}}\n"
     ]
    },
    {
     "name": "stderr",
     "output_type": "stream",
     "text": [
      "Fetching sequences:  27%|██▋       | 125/469 [00:56<02:30,  2.28it/s]"
     ]
    },
    {
     "name": "stdout",
     "output_type": "stream",
     "text": [
      "{'entryType': 'UniProtKB reviewed (Swiss-Prot)', 'primaryAccession': 'P67809', 'proteinDescription': {'recommendedName': {'fullName': {'evidences': [{'evidenceCode': 'ECO:0000303', 'source': 'PubMed', 'id': '10817758'}], 'value': 'Y-box-binding protein 1'}, 'shortNames': [{'evidences': [{'evidenceCode': 'ECO:0000303', 'source': 'PubMed', 'id': '10817758'}], 'value': 'YB-1'}]}, 'alternativeNames': [{'fullName': {'value': 'CCAAT-binding transcription factor I subunit A'}, 'shortNames': [{'value': 'CBF-A'}]}, {'fullName': {'evidences': [{'evidenceCode': 'ECO:0000250', 'source': 'UniProtKB', 'id': 'P62960'}], 'value': 'DNA-binding protein B'}, 'shortNames': [{'evidences': [{'evidenceCode': 'ECO:0000250', 'source': 'UniProtKB', 'id': 'P62960'}], 'value': 'DBPB'}]}, {'fullName': {'evidences': [{'evidenceCode': 'ECO:0000250', 'source': 'UniProtKB', 'id': 'P62961'}], 'value': 'Enhancer factor I subunit A'}, 'shortNames': [{'evidences': [{'evidenceCode': 'ECO:0000250', 'source': 'UniProtKB', 'id': 'P62961'}], 'value': 'EFI-A'}]}, {'fullName': {'evidences': [{'evidenceCode': 'ECO:0000303', 'source': 'PubMed', 'id': '1891370'}], 'value': 'Nuclease-sensitive element-binding protein 1'}}, {'fullName': {'value': 'Y-box transcription factor'}}]}, 'genes': [{'geneName': {'evidences': [{'evidenceCode': 'ECO:0000312', 'source': 'HGNC', 'id': 'HGNC:8014'}], 'value': 'YBX1'}, 'synonyms': [{'evidences': [{'evidenceCode': 'ECO:0000303', 'source': 'PubMed', 'id': '1891370'}], 'value': 'NSEP1'}, {'evidences': [{'evidenceCode': 'ECO:0000303', 'source': 'PubMed', 'id': '10817758'}], 'value': 'YB1'}]}], 'sequence': {'value': 'MSSEAETQQPPAAPPAAPALSAADTKPGTTGSGAGSGGPGGLTSAAPAGGDKKVIATKVLGTVKWFNVRNGYGFINRNDTKEDVFVHQTAIKKNNPRKYLRSVGDGETVEFDVVEGEKGAEAANVTGPGGVPVQGSKYAADRNHYRRYPRRRGPPRNYQQNYQNSESGEKNEGSESAPEGQAQQRRPYRRRRFPPYYMRRPYGRRPQYSNPPVQGEVMEGADNQGAGEQGRPVRQNMYRGYRPRFRRGPPRQRQPREDGNEEDKENQGDETQGQQPPQRRYRRNFNYRRRRPENPKPQDGKETKAADPPAENSSAPEAEQGGAE', 'length': 324, 'molWeight': 35924, 'crc64': 'DF0114BF974AEDB8', 'md5': '305EA08BD759BBCB90128D786550ABB3'}, 'extraAttributes': {'uniParcId': 'UPI0000001C6B'}}\n"
     ]
    },
    {
     "name": "stderr",
     "output_type": "stream",
     "text": [
      "Fetching sequences:  27%|██▋       | 126/469 [00:57<02:30,  2.29it/s]"
     ]
    },
    {
     "name": "stdout",
     "output_type": "stream",
     "text": [
      "{'entryType': 'UniProtKB reviewed (Swiss-Prot)', 'primaryAccession': 'O75643', 'proteinDescription': {'recommendedName': {'fullName': {'value': 'U5 small nuclear ribonucleoprotein 200 kDa helicase'}, 'ecNumbers': [{'evidences': [{'evidenceCode': 'ECO:0000269', 'source': 'PubMed', 'id': '23045696'}, {'evidenceCode': 'ECO:0000269', 'source': 'PubMed', 'id': '35241646'}], 'value': '3.6.4.13'}]}, 'alternativeNames': [{'fullName': {'value': 'Activating signal cointegrator 1 complex subunit 3-like 1'}}, {'fullName': {'value': 'BRR2 homolog'}}, {'fullName': {'value': 'U5 snRNP-specific 200 kDa protein'}, 'shortNames': [{'value': 'U5-200KD'}]}]}, 'genes': [{'geneName': {'value': 'SNRNP200'}, 'synonyms': [{'value': 'ASCC3L1'}, {'evidences': [{'evidenceCode': 'ECO:0000303', 'source': 'PubMed', 'id': '35241646'}], 'value': 'BRR2'}, {'value': 'HELIC2'}, {'value': 'KIAA0788'}]}], 'sequence': {'value': 'MADVTARSLQYEYKANSNLVLQADRSLIDRTRRDEPTGEVLSLVGKLEGTRMGDKAQRTKPQMQEERRAKRRKRDEDRHDINKMKGYTLLSEGIDEMVGIIYKPKTKETRETYEVLLSFIQAALGDQPRDILCGAADEVLAVLKNEKLRDKERRKEIDLLLGQTDDTRYHVLVNLGKKITDYGGDKEIQNMDDNIDETYGVNVQFESDEEEGDEDVYGEVREEASDDDMEGDEAVVRCTLSANLVASGELMSSKKKDLHPRDIDAFWLQRQLSRFYDDAIVSQKKADEVLEILKTASDDRECENQLVLLLGFNTFDFIKVLRQHRMMILYCTLLASAQSEAEKERIMGKMEADPELSKFLYQLHETEKEDLIREERSRRERVRQSRMDTDLETMDLDQGGEALAPRQVLDLEDLVFTQGSHFMANKRCQLPDGSFRRQRKGYEEVHVPALKPKPFGSEEQLLPVEKLPKYAQAGFEGFKTLNRIQSKLYRAALETDENLLLCAPTGAGKTNVALMCMLREIGKHINMDGTINVDDFKIIYIAPMRSLVQEMVGSFGKRLATYGITVAELTGDHQLCKEEISATQIIVCTPEKWDIITRKGGERTYTQLVRLIILDEIHLLHDDRGPVLEALVARAIRNIEMTQEDVRLIGLSATLPNYEDVATFLRVDPAKGLFYFDNSFRPVPLEQTYVGITEKKAIKRFQIMNEIVYEKIMEHAGKNQVLVFVHSRKETGKTARAIRDMCLEKDTLGLFLREGSASTEVLRTEAEQCKNLELKDLLPYGFAIHHAGMTRVDRTLVEDLFADKHIQVLVSTATLAWGVNLPAHTVIIKGTQVYSPEKGRWTELGALDILQMLGRAGRPQYDTKGEGILITSHGELQYYLSLLNQQLPIESQMVSKLPDMLNAEIVLGNVQNAKDAVNWLGYAYLYIRMLRSPTLYGISHDDLKGDPLLDQRRLDLVHTAALMLDKNNLVKYDKKTGNFQVTELGRIASHYYITNDTVQTYNQLLKPTLSEIELFRVFSLSSEFKNITVREEEKLELQKLLERVPIPVKESIEEPSAKINVLLQAFISQLKLEGFALMADMVYVTQSAGRLMRAIFEIVLNRGWAQLTDKTLNLCKMIDKRMWQSMCPLRQFRKLPEEVVKKIEKKNFPFERLYDLNHNEIGELIRMPKMGKTIHKYVHLFPKLELSVHLQPITRSTLKVELTITPDFQWDEKVHGSSEAFWILVEDVDSEVILHHEYFLLKAKYAQDEHLITFFVPVFEPLPPQYFIRVVSDRWLSCETQLPVSFRHLILPEKYPPPTELLDLQPLPVSALRNSAFESLYQDKFPFFNPIQTQVFNTVYNSDDNVFVGAPTGSGKTICAEFAILRMLLQSSEGRCVYITPMEALAEQVYMDWYEKFQDRLNKKVVLLTGETSTDLKLLGKGNIIISTPEKWDILSRRWKQRKNVQNINLFVVDEVHLIGGENGPVLEVICSRMRYISSQIERPIRIVALSSSLSNAKDVAHWLGCSATSTFNFHPNVRPVPLELHIQGFNISHTQTRLLSMAKPVYHAITKHSPKKPVIVFVPSRKQTRLTAIDILTTCAADIQRQRFLHCTEKDLIPYLEKLSDSTLKETLLNGVGYLHEGLSPMERRLVEQLFSSGAIQVVVASRSLCWGMNVAAHLVIIMDTQYYNGKIHAYVDYPIYDVLQMVGHANRPLQDDEGRCVIMCQGSKKDFFKKFLYEPLPVESHLDHCMHDHFNAEIVTKTIENKQDAVDYLTWTFLYRRMTQNPNYYNLQGISHRHLSDHLSELVEQTLSDLEQSKCISIEDEMDVAPLNLGMIAAYYYINYTTIELFSMSLNAKTKVRGLIEIISNAAEYENIPIRHHEDNLLRQLAQKVPHKLNNPKFNDPHVKTNLLLQAHLSRMQLSAELQSDTEEILSKAIRLIQACVDVLSSNGWLSPALAAMELAQMVTQAMWSKDSYLKQLPHFTSEHIKRCTDKGVESVFDIMEMEDEERNALLQLTDSQIADVARFCNRYPNIELSYEVVDKDSIRSGGPVVVLVQLEREEEVTGPVIAPLFPQKREEGWWVVIGDAKSNSLISIKRLTLQQKAKVKLDFVAPATGAHNYTLYFMSDAYMGCDQEYKFSVDVKEAETDSDSD', 'length': 2136, 'molWeight': 244508, 'crc64': '3F3811BDCCC9DDB7', 'md5': '4772061F2F7FC3A0FA47164F5CCC52CC'}, 'extraAttributes': {'uniParcId': 'UPI0000207C53'}}\n"
     ]
    },
    {
     "name": "stderr",
     "output_type": "stream",
     "text": [
      "Fetching sequences:  27%|██▋       | 127/469 [00:57<02:30,  2.28it/s]"
     ]
    },
    {
     "name": "stdout",
     "output_type": "stream",
     "text": [
      "{'entryType': 'UniProtKB reviewed (Swiss-Prot)', 'primaryAccession': 'Q9NZM5', 'proteinDescription': {'recommendedName': {'fullName': {'evidences': [{'evidenceCode': 'ECO:0000305'}], 'value': 'Ribosome biogenesis protein NOP53'}}, 'alternativeNames': [{'fullName': {'evidences': [{'evidenceCode': 'ECO:0000312', 'source': 'HGNC', 'id': 'HGNC:4333'}], 'value': 'Glioma tumor suppressor candidate region gene 2 protein'}}, {'fullName': {'evidences': [{'evidenceCode': 'ECO:0000303', 'source': 'PubMed', 'id': '15355975'}], 'value': 'Protein interacting with carboxyl terminus 1'}, 'shortNames': [{'evidences': [{'evidenceCode': 'ECO:0000303', 'source': 'PubMed', 'id': '15355975'}], 'value': 'PICT-1'}]}, {'fullName': {'evidences': [{'evidenceCode': 'ECO:0000303', 'source': 'PubMed', 'id': '10196275'}], 'value': 'p60'}}]}, 'genes': [{'geneName': {'evidences': [{'evidenceCode': 'ECO:0000312', 'source': 'HGNC', 'id': 'HGNC:4333'}], 'value': 'NOP53'}, 'synonyms': [{'evidences': [{'evidenceCode': 'ECO:0000303', 'source': 'PubMed', 'id': '21741933'}], 'value': 'GLT'}, {'evidences': [{'evidenceCode': 'ECO:0000303', 'source': 'PubMed', 'id': '10708517'}], 'value': 'GLTSCR2'}, {'evidences': [{'evidenceCode': 'ECO:0000303', 'source': 'PubMed', 'id': '24556985'}], 'value': 'PICT1'}]}], 'sequence': {'value': 'MAAGGSGVGGKRSSKSDADSGFLGLRPTSVDPALRRRRRGPRNKKRGWRRLAQEPLGLEVDQFLEDVRLQERTSGGLLSEAPNEKLFFVDTGSKEKGLTKKRTKVQKKSLLLKKPLRVDLILENTSKVPAPKDVLAHQVPNAKKLRRKEQLWEKLAKQGELPREVRRAQARLLNPSATRAKPGPQDTVERPFYDLWASDNPLDRPLVGQDEFFLEQTKKKGVKRPARLHTKPSQAPAVEVAPAGASYNPSFEDHQTLLSAAHEVELQRQKEAEKLERQLALPATEQAATQESTFQELCEGLLEESDGEGEPGQGEGPEAGDAEVCPTPARLATTEKKTEQQRRREKAVHRLRVQQAALRAARLRHQELFRLRGIKAQVALRLAELARRQRRRQARREAEADKPRRLGRLKYQAPDIDVQLSSELTDSLRTLKPEGNILRDRFKSFQRRNMIEPRERAKFKRKYKVKLVEKRAFREIQL', 'length': 478, 'molWeight': 54389, 'crc64': '7F1BA13D04BFB618', 'md5': 'A8750BB8A6700F35C7693CF47D7A42A4'}, 'extraAttributes': {'uniParcId': 'UPI0000054111'}}\n"
     ]
    },
    {
     "name": "stderr",
     "output_type": "stream",
     "text": [
      "Fetching sequences:  27%|██▋       | 128/469 [00:58<02:29,  2.28it/s]"
     ]
    },
    {
     "name": "stdout",
     "output_type": "stream",
     "text": [
      "{'entryType': 'UniProtKB reviewed (Swiss-Prot)', 'primaryAccession': 'P11940', 'proteinDescription': {'recommendedName': {'fullName': {'evidences': [{'evidenceCode': 'ECO:0000305'}], 'value': 'Polyadenylate-binding protein 1'}, 'shortNames': [{'value': 'PABP-1'}, {'value': 'Poly(A)-binding protein 1'}]}}, 'genes': [{'geneName': {'evidences': [{'evidenceCode': 'ECO:0000312', 'source': 'HGNC', 'id': 'HGNC:8554'}], 'value': 'PABPC1'}, 'synonyms': [{'value': 'PAB1'}, {'evidences': [{'evidenceCode': 'ECO:0000303', 'source': 'PubMed', 'id': '20102337'}], 'value': 'PABP'}, {'value': 'PABP1'}, {'value': 'PABPC2'}]}], 'sequence': {'value': 'MNPSAPSYPMASLYVGDLHPDVTEAMLYEKFSPAGPILSIRVCRDMITRRSLGYAYVNFQQPADAERALDTMNFDVIKGKPVRIMWSQRDPSLRKSGVGNIFIKNLDKSIDNKALYDTFSAFGNILSCKVVCDENGSKGYGFVHFETQEAAERAIEKMNGMLLNDRKVFVGRFKSRKEREAELGARAKEFTNVYIKNFGEDMDDERLKDLFGKFGPALSVKVMTDESGKSKGFGFVSFERHEDAQKAVDEMNGKELNGKQIYVGRAQKKVERQTELKRKFEQMKQDRITRYQGVNLYVKNLDDGIDDERLRKEFSPFGTITSAKVMMEGGRSKGFGFVCFSSPEEATKAVTEMNGRIVATKPLYVALAQRKEERQAHLTNQYMQRMASVRAVPNPVINPYQPAPPSGYFMAAIPQTQNRAAYYPPSQIAQLRPSPRWTAQGARPHPFQNMPGAIRPAAPRPPFSTMRPASSQVPRVMSTQRVANTSTQTMGPRPAAAAAAATPAVRTVPQYKYAAGVRNPQQHLNAQPQVTMQQPAVHVQGQEPLTASMLASAPPQEQKQMLGERLFPLIQAMHPTLAGKITGMLLEIDNSELLHMLESPESLRSKVDEAVAVLQAHQAKEAAQKAVNSATGVPTV', 'length': 636, 'molWeight': 70671, 'crc64': '2EB1B02A346132EE', 'md5': '412581D5F07C91D4387F72B99EBAB1CD'}, 'extraAttributes': {'uniParcId': 'UPI0000000BC4'}}\n"
     ]
    },
    {
     "name": "stderr",
     "output_type": "stream",
     "text": [
      "Fetching sequences:  28%|██▊       | 129/469 [00:58<02:30,  2.26it/s]"
     ]
    },
    {
     "name": "stdout",
     "output_type": "stream",
     "text": [
      "{'entryType': 'UniProtKB reviewed (Swiss-Prot)', 'primaryAccession': 'P62318', 'proteinDescription': {'recommendedName': {'fullName': {'value': 'Small nuclear ribonucleoprotein Sm D3'}, 'shortNames': [{'value': 'Sm-D3'}]}, 'alternativeNames': [{'fullName': {'value': 'snRNP core protein D3'}}]}, 'genes': [{'geneName': {'value': 'SNRPD3'}}], 'sequence': {'value': 'MSIGVPIKVLHEAEGHIVTCETNTGEVYRGKLIEAEDNMNCQMSNITVTYRDGRVAQLEQVYIRGSKIRFLILPDMLKNAPMLKSMKNKNQGSGAGRGKAAILKAQVAARGRGRGMGRGNIFQKRR', 'length': 126, 'molWeight': 13916, 'crc64': '59A6E78E860AA3E0', 'md5': 'F9F693F4C93C6646B7AF860B02E764E6'}, 'extraAttributes': {'uniParcId': 'UPI0000021859'}}\n"
     ]
    },
    {
     "name": "stderr",
     "output_type": "stream",
     "text": [
      "Fetching sequences:  28%|██▊       | 130/469 [00:59<02:29,  2.26it/s]"
     ]
    },
    {
     "name": "stdout",
     "output_type": "stream",
     "text": [
      "{'entryType': 'UniProtKB reviewed (Swiss-Prot)', 'primaryAccession': 'Q969X6', 'proteinDescription': {'recommendedName': {'fullName': {'value': 'U3 small nucleolar RNA-associated protein 4 homolog'}}, 'alternativeNames': [{'fullName': {'value': 'Cirhin'}}, {'fullName': {'value': 'UTP4 small subunit processome component'}}]}, 'genes': [{'geneName': {'evidences': [{'evidenceCode': 'ECO:0000312', 'source': 'HGNC', 'id': 'HGNC:1983'}], 'value': 'UTP4'}, 'synonyms': [{'value': 'CIRH1A'}, {'evidences': [{'evidenceCode': 'ECO:0000303', 'source': 'PubMed', 'id': '20813266'}], 'value': 'cPERP-E'}, {'value': 'KIAA1988'}]}], 'sequence': {'value': 'MGEFKVHRVRFFNYVPSGIRCVAYNNQSNRLAVSRTDGTVEIYNLSANYFQEKFFPGHESRATEALCWAEGQRLFSAGLNGEIMEYDLQALNIKYAMDAFGGPIWSMAASPSGSQLLVGCEDGSVKLFQITPDKIQFERNFDRQKSRILSLSWHPSGTHIAAGSIDYISVFDVKSGSAVHKMIVDRQYMGVSKRKCIVWGVAFLSDGTIISVDSAGKVQFWDSATGTLVKSHLIANADVQSIAVADQEDSFVVGTAEGTVFHFQLVPVTSNSSEKQWVRTKPFQHHTHDVRTVAHSPTALISGGTDTHLVFRPLMEKVEVKNYDAALRKITFPHRCLISCSKKRQLLLFQFAHHLELWRLGSTVATGKNGDTLPLSKNADHLLHLKTKGPENIICSCISPCGSWIAYSTVSRFFLYRLNYEHDNISLKRVSKMPAFLRSALQILFSEDSTKLFVASNQGALHIVQLSGGSFKHLHAFQPQSGTVEAMCLLAVSPDGNWLAASGTSAGVHVYNVKQLKLHCTVPAYNFPVTAMAIAPNTNNLVIAHSDQQVFEYSIPDKQYTDWSRTVQKQGFHHLWLQRDTPITHISFHPKRPMHILLHDAYMFCIIDKSLPLPNDKTLLYNPFPPTNESDVIRRRTAHAFKISKIYKPLLFMDLLDERTLVAVERPLDDIIAQLPPPIKKKKFGT', 'length': 686, 'molWeight': 76890, 'crc64': '595D8B2F47C03299', 'md5': 'AC404F57D1981566D51AC12843A53D41'}, 'extraAttributes': {'uniParcId': 'UPI0000037300'}}\n"
     ]
    },
    {
     "name": "stderr",
     "output_type": "stream",
     "text": [
      "Fetching sequences:  28%|██▊       | 131/469 [00:59<02:30,  2.25it/s]"
     ]
    },
    {
     "name": "stdout",
     "output_type": "stream",
     "text": [
      "{'entryType': 'UniProtKB reviewed (Swiss-Prot)', 'primaryAccession': 'P09661', 'proteinDescription': {'recommendedName': {'fullName': {'value': \"U2 small nuclear ribonucleoprotein A'\"}, 'shortNames': [{'evidences': [{'evidenceCode': 'ECO:0000303', 'source': 'PubMed', 'id': '2928112'}, {'evidenceCode': 'ECO:0000303', 'source': 'PubMed', 'id': '9716128'}], 'value': \"U2 snRNP A'\"}]}}, 'genes': [{'geneName': {'value': 'SNRPA1'}}], 'sequence': {'value': 'MVKLTAELIEQAAQYTNAVRDRELDLRGYKIPVIENLGATLDQFDAIDFSDNEIRKLDGFPLLRRLKTLLVNNNRICRIGEGLDQALPCLTELILTNNSLVELGDLDPLASLKSLTYLSILRNPVTNKKHYRLYVIYKVPQVRVLDFQKVKLKERQEAEKMFKGKRGAQLAKDIARRSKTFNPGAGLPTDKKKGGPSPGDVEAIKNAIANASTLAEVERLKGLLQSGQIPGRERRSGPTDDGEEEMEEDTVTNGS', 'length': 255, 'molWeight': 28416, 'crc64': '25902F07992B7209', 'md5': 'C670EA9B64A5BF99EC36726C49C50863'}, 'extraAttributes': {'uniParcId': 'UPI000006DD72'}}\n"
     ]
    },
    {
     "name": "stderr",
     "output_type": "stream",
     "text": [
      "Fetching sequences:  28%|██▊       | 132/469 [01:00<02:28,  2.28it/s]"
     ]
    },
    {
     "name": "stdout",
     "output_type": "stream",
     "text": [
      "{'entryType': 'UniProtKB reviewed (Swiss-Prot)', 'primaryAccession': 'P09651', 'proteinDescription': {'recommendedName': {'fullName': {'value': 'Heterogeneous nuclear ribonucleoprotein A1'}, 'shortNames': [{'value': 'hnRNP A1'}]}, 'alternativeNames': [{'fullName': {'value': 'Helix-destabilizing protein'}}, {'fullName': {'value': 'Single-strand RNA-binding protein'}}, {'fullName': {'value': 'hnRNP core protein A1'}}], 'contains': [{'recommendedName': {'fullName': {'value': 'Heterogeneous nuclear ribonucleoprotein A1, N-terminally processed'}}}]}, 'genes': [{'geneName': {'value': 'HNRNPA1'}, 'synonyms': [{'value': 'HNRPA1'}]}], 'sequence': {'value': 'MSKSESPKEPEQLRKLFIGGLSFETTDESLRSHFEQWGTLTDCVVMRDPNTKRSRGFGFVTYATVEEVDAAMNARPHKVDGRVVEPKRAVSREDSQRPGAHLTVKKIFVGGIKEDTEEHHLRDYFEQYGKIEVIEIMTDRGSGKKRGFAFVTFDDHDSVDKIVIQKYHTVNGHNCEVRKALSKQEMASASSSQRGRSGSGNFGGGRGGGFGGNDNFGRGGNFSGRGGFGGSRGGGGYGGSGDGYNGFGNDGGYGGGGPGYSGGSRGYGSGGQGYGNQGSGYGGSGSYDSYNNGGGGGFGGGSGSNFGGGGSYNDFGNYNNQSSNFGPMKGGNFGGRSSGPYGGGGQYFAKPRNQGGYGGSSSSSSYGSGRRF', 'length': 372, 'molWeight': 38747, 'crc64': 'A06683571C6C109F', 'md5': '635B53C9FC307302B28FFB8F156A36B4'}, 'extraAttributes': {'uniParcId': 'UPI0000161BF2'}}\n"
     ]
    },
    {
     "name": "stderr",
     "output_type": "stream",
     "text": [
      "Fetching sequences:  28%|██▊       | 133/469 [01:00<02:28,  2.27it/s]"
     ]
    },
    {
     "name": "stdout",
     "output_type": "stream",
     "text": [
      "{'entryType': 'UniProtKB reviewed (Swiss-Prot)', 'primaryAccession': 'P07305', 'proteinDescription': {'recommendedName': {'fullName': {'value': 'Histone H1.0'}}, 'alternativeNames': [{'fullName': {'value': \"Histone H1'\"}}, {'fullName': {'value': 'Histone H1(0)'}}], 'contains': [{'recommendedName': {'fullName': {'value': 'Histone H1.0, N-terminally processed'}}}]}, 'genes': [{'geneName': {'evidences': [{'evidenceCode': 'ECO:0000312', 'source': 'HGNC', 'id': 'HGNC:4714'}], 'value': 'H1-0'}, 'synonyms': [{'evidences': [{'evidenceCode': 'ECO:0000312', 'source': 'HGNC', 'id': 'HGNC:4714'}], 'value': 'H1F0'}, {'value': 'H1FV'}]}], 'sequence': {'value': 'MTENSTSAPAAKPKRAKASKKSTDHPKYSDMIVAAIQAEKNRAGSSRQSIQKYIKSHYKVGENADSQIKLSIKRLVTTGVLKQTKGVGASGSFRLAKSDEPKKSVAFKKTKKEIKKVATPKKASKPKKAASKAPTKKPKATPVKKAKKKLAATPKKAKKPKTVKAKPVKASKPKKAKPVKPKAKSSAKRAGKKK', 'length': 194, 'molWeight': 20863, 'crc64': '03ED6F01919F8BE1', 'md5': '0F64623B35ED55171B34BBD7C0426E58'}, 'extraAttributes': {'uniParcId': 'UPI0000161F7B'}}\n"
     ]
    },
    {
     "name": "stderr",
     "output_type": "stream",
     "text": [
      "Fetching sequences:  29%|██▊       | 134/469 [01:00<02:27,  2.28it/s]"
     ]
    },
    {
     "name": "stdout",
     "output_type": "stream",
     "text": [
      "{'entryType': 'UniProtKB reviewed (Swiss-Prot)', 'primaryAccession': 'Q9H0D6', 'proteinDescription': {'recommendedName': {'fullName': {'value': \"5'-3' exoribonuclease 2\"}, 'ecNumbers': [{'value': '3.1.13.-'}]}, 'alternativeNames': [{'fullName': {'value': 'DHM1-like protein'}, 'shortNames': [{'value': 'DHP protein'}]}]}, 'genes': [{'geneName': {'value': 'XRN2'}}], 'sequence': {'value': 'MGVPAFFRWLSRKYPSIIVNCVEEKPKECNGVKIPVDASKPNPNDVEFDNLYLDMNGIIHPCTHPEDKPAPKNEDEMMVAIFEYIDRLFSIVRPRRLLYMAIDGVAPRAKMNQQRSRRFRASKEGMEAAVEKQRVREEILAKGGFLPPEEIKERFDSNCITPGTEFMDNLAKCLRYYIADRLNNDPGWKNLTVILSDASAPGEGEHKIMDYIRRQRAQPNHDPNTHHCLCGADADLIMLGLATHEPNFTIIREEFKPNKPKPCGLCNQFGHEVKDCEGLPREKKGKHDELADSLPCAEGEFIFLRLNVLREYLERELTMASLPFTFDVERSIDDWVFMCFFVGNDFLPHLPSLEIRENAIDRLVNIYKNVVHKTGGYLTESGYVNLQRVQMIMLAVGEVEDSIFKKRKDDEDSFRRRQKEKRKRMKRDQPAFTPSGILTPHALGSRNSPGSQVASNPRQAAYEMRMQNNSSPSISPNTSFTSDGSPSPLGGIKRKAEDSDSEPEPEDNVRLWEAGWKQRYYKNKFDVDAADEKFRRKVVQSYVEGLCWVLRYYYQGCASWKWYYPFHYAPFASDFEGIADMPSDFEKGTKPFKPLEQLMGVFPAASGNFLPPSWRKLMSDPDSSIIDFYPEDFAIDLNGKKYAWQGVALLPFVDERRLRAALEEVYPDLTPEETRRNSLGGDVLFVGKHHPLHDFILELYQTGSTEPVEVPPELCHGIQGKFSLDEEAILPDQIVCSPVPMLRDLTQNTVVSINFKDPQFAEDYIFKAVMLPGARKPAAVLKPSDWEKSSNGRQWKPQLGFNRDRRPVHLDQAAFRTLGHVMPRGSGTGIYSNAAPPPVTYQGNLYRPLLRGQAQIPKLMSNMRPQDSWRGPPPLFQQQRFDRGVGAEPLLPWNRMLQTQNAAFQPNQYQMLAGPGGYPPRRDDRGGRQGYPREGRKYPLPPPSGRYNWN', 'length': 950, 'molWeight': 108582, 'crc64': '763B5E0E628F97A8', 'md5': 'CF97EA8C8D27E45860DBD6A0B4F1498A'}, 'extraAttributes': {'uniParcId': 'UPI0000037D02'}}\n"
     ]
    },
    {
     "name": "stderr",
     "output_type": "stream",
     "text": [
      "Fetching sequences:  29%|██▉       | 135/469 [01:01<02:26,  2.27it/s]"
     ]
    },
    {
     "name": "stdout",
     "output_type": "stream",
     "text": [
      "{'entryType': 'UniProtKB reviewed (Swiss-Prot)', 'primaryAccession': 'Q12788', 'proteinDescription': {'recommendedName': {'fullName': {'value': 'Transducin beta-like protein 3'}}, 'alternativeNames': [{'fullName': {'value': 'WD repeat-containing protein SAZD'}}]}, 'genes': [{'geneName': {'evidences': [{'evidenceCode': 'ECO:0000312', 'source': 'HGNC', 'id': 'HGNC:11587'}], 'value': 'TBL3'}, 'synonyms': [{'value': 'SAZD'}]}], 'sequence': {'value': 'MAETAAGVGRFKTNYAVERKIEPFYKGGKAQLDQTGQHLFCVCGTRVNILEVASGAVLRSLEQEDQEDITAFDLSPDNEVLVTASRALLLAQWAWQEGSVTRLWKAIHTAPVATMAFDPTSTLLATGGCDGAVRVWDIVRHYGTHHFRGSPGVVHLVAFHPDPTRLLLFSSATDAAIRVWSLQDRSCLAVLTAHYSAVTSLAFSADGHTMLSSGRDKICIIWDLQSCQATRTVPVFESVEAAVLLPEEPVSQLGVKSPGLYFLTAGDQGTLRVWEAASGQCVYTQAQPPGPGQELTHCTLAHTAGVVLTATADHNLLLYEARSLRLQKQFAGYSEEVLDVRFLGPEDSHVVVASNSPCLKVFELQTSACQILHGHTDIVLALDVFRKGWLFASCAKDQSVRIWRMNKAGQVMCVAQGSGHTHSVGTVCCSRLKESFLVTGSQDCTVKLWPLPKALLSKNTAPDNGPILLQAQTTQRCHDKDINSVAIAPNDKLLATGSQDRTAKLWALPQCQLLGVFSGHRRGLWCVQFSPMDQVLATASADGTIKLWALQDFSCLKTFEGHDASVLKVAFVSRGTQLLSSGSDGLVKLWTIKNNECVRTLDAHEDKVWGLHCSRLDDHALTGASDSRVILWKDVTEAEQAEEQARQEEQVVRQQELDNLLHEKRYLRALGLAISLDRPHTVLTVIQAIRRDPEACEKLEATMLRLRRDQKEALLRFCVTWNTNSRHCHEAQAVLGVLLRREAPEELLAYEGVRAALEALLPYTERHFQRLSRTLQAAAFLDFLWHNMKLPVPAAAPTPWETHKGALP', 'length': 808, 'molWeight': 89035, 'crc64': '01BDF217F8D17D30', 'md5': '68DEF240FF30A34C73E87CCBF7482E17'}, 'extraAttributes': {'uniParcId': 'UPI000006F172'}}\n"
     ]
    },
    {
     "name": "stderr",
     "output_type": "stream",
     "text": [
      "Fetching sequences:  29%|██▉       | 136/469 [01:01<02:26,  2.28it/s]"
     ]
    },
    {
     "name": "stdout",
     "output_type": "stream",
     "text": [
      "{'entryType': 'UniProtKB reviewed (Swiss-Prot)', 'primaryAccession': 'Q15233', 'proteinDescription': {'recommendedName': {'fullName': {'evidences': [{'evidenceCode': 'ECO:0000303', 'source': 'PubMed', 'id': '9393982'}], 'value': 'Non-POU domain-containing octamer-binding protein'}, 'shortNames': [{'evidences': [{'evidenceCode': 'ECO:0000303', 'source': 'PubMed', 'id': '9393982'}], 'value': 'NonO protein'}]}, 'alternativeNames': [{'fullName': {'evidences': [{'evidenceCode': 'ECO:0000303', 'source': 'PubMed', 'id': '9341872'}], 'value': '54 kDa nuclear RNA- and DNA-binding protein'}, 'shortNames': [{'evidences': [{'evidenceCode': 'ECO:0000303', 'source': 'PubMed', 'id': '9341872'}], 'value': 'p54(nrb)'}, {'evidences': [{'evidenceCode': 'ECO:0000303', 'source': 'PubMed', 'id': '9341872'}], 'value': 'p54nrb'}]}, {'fullName': {'evidences': [{'evidenceCode': 'ECO:0000303', 'source': 'PubMed', 'id': '9360842'}], 'value': '55 kDa nuclear protein'}, 'shortNames': [{'evidences': [{'evidenceCode': 'ECO:0000303', 'source': 'PubMed', 'id': '9360842'}], 'value': 'NMT55'}]}, {'fullName': {'evidences': [{'evidenceCode': 'ECO:0000303', 'source': 'PubMed', 'id': '8439294'}], 'value': 'DNA-binding p52/p100 complex, 52 kDa subunit'}}]}, 'genes': [{'geneName': {'evidences': [{'evidenceCode': 'ECO:0000303', 'source': 'PubMed', 'id': '9393982'}, {'evidenceCode': 'ECO:0000312', 'source': 'HGNC', 'id': 'HGNC:7871'}], 'value': 'NONO'}, 'synonyms': [{'evidences': [{'evidenceCode': 'ECO:0000303', 'source': 'PubMed', 'id': '9341872'}], 'value': 'NRB54'}]}], 'sequence': {'value': 'MQSNKTFNLEKQNHTPRKHHQHHHQQQHHQQQQQQPPPPPIPANGQQASSQNEGLTIDLKNFRKPGEKTFTQRSRLFVGNLPPDITEEEMRKLFEKYGKAGEVFIHKDKGFGFIRLETRTLAEIAKVELDNMPLRGKQLRVRFACHSASLTVRNLPQYVSNELLEEAFSVFGQVERAVVIVDDRGRPSGKGIVEFSGKPAARKALDRCSEGSFLLTTFPRPVTVEPMDQLDDEEGLPEKLVIKNQQFHKEREQPPRFAQPGSFEYEYAMRWKALIEMEKQQQDQVDRNIKEAREKLEMEMEAARHEHQVMLMRQDLMRRQEELRRMEELHNQEVQKRKQLELRQEEERRRREEEMRRQQEEMMRRQQEGFKGTFPDAREQEIRMGQMAMGGAMGINNRGAMPPAPVPAGTPAPPGPATMMPDGTLGLTPPTTERFGQAATMEGIGAIGGTPPAFNRAAPGAEFAPNKRRRY', 'length': 471, 'molWeight': 54232, 'crc64': '26BBD3828F5B9E49', 'md5': 'FD7E2B3D19C105C86E5F51FA988893E4'}, 'extraAttributes': {'uniParcId': 'UPI000002EFDD'}}\n"
     ]
    },
    {
     "name": "stderr",
     "output_type": "stream",
     "text": [
      "Fetching sequences:  29%|██▉       | 137/469 [01:02<02:25,  2.28it/s]"
     ]
    },
    {
     "name": "stdout",
     "output_type": "stream",
     "text": [
      "{'entryType': 'UniProtKB reviewed (Swiss-Prot)', 'primaryAccession': 'Q96T37', 'proteinDescription': {'recommendedName': {'fullName': {'evidences': [{'evidenceCode': 'ECO:0000305'}], 'value': 'RNA-binding protein 15'}}, 'alternativeNames': [{'fullName': {'evidences': [{'evidenceCode': 'ECO:0000303', 'source': 'PubMed', 'id': '16129689'}], 'value': 'One-twenty two protein 1'}}, {'fullName': {'evidences': [{'evidenceCode': 'ECO:0000303', 'source': 'PubMed', 'id': '11431691'}], 'value': 'RNA-binding motif protein 15'}}]}, 'genes': [{'geneName': {'evidences': [{'evidenceCode': 'ECO:0000303', 'source': 'PubMed', 'id': '11431691'}, {'evidenceCode': 'ECO:0000312', 'source': 'HGNC', 'id': 'HGNC:14959'}], 'value': 'RBM15'}, 'synonyms': [{'evidences': [{'evidenceCode': 'ECO:0000303', 'source': 'PubMed', 'id': '16129689'}], 'value': 'OTT'}, {'evidences': [{'evidenceCode': 'ECO:0000303', 'source': 'PubMed', 'id': '16129689'}], 'value': 'OTT1'}]}], 'sequence': {'value': 'MRTAGRDPVPRRSPRWRRAVPLCETSAGRRVTQLRGDDLRRPATMKGKERSPVKAKRSRGGEDSTSRGERSKKLGGSGGSNGSSSGKTDSGGGSRRSLHLDKSSSRGGSREYDTGGGSSSSRLHSYSSPSTKNSSGGGESRSSSRGGGGESRSSGAASSAPGGGDGAEYKTLKISELGSQLSDEAVEDGLFHEFKRFGDVSVKISHLSGSGSGDERVAFVNFRRPEDARAAKHARGRLVLYDRPLKIEAVYVSRRRSRSPLDKDTYPPSASVVGASVGGHRHPPGGGGGQRSLSPGGAALGYRDYRLQQLALGRLPPPPPPPLPRDLERERDYPFYERVRPAYSLEPRVGAGAGAAPFREVDEISPEDDQRANRTLFLGNLDITVTESDLRRAFDRFGVITEVDIKRPSRGQTSTYGFLKFENLDMSHRAKLAMSGKIIIRNPIKIGYGKATPTTRLWVGGLGPWVPLAALAREFDRFGTIRTIDYRKGDSWAYIQYESLDAAHAAWTHMRGFPLGGPDRRLRVDFADTEHRYQQQYLQPLPLTHYELVTDAFGHRAPDPLRGARDRTPPLLYRDRDRDLYPDSDWVPPPPPVRERSTRTAATSVPAYEPLDSLDRRRDGWSLDRDRGDRDLPSSRDQPRKRRLPEESGGRHLDRSPESDRPRKRHCAPSPDRSPELSSSRDRYNSDNDRSSRLLLERPSPIRDRRGSLEKSQGDKRDRKNSASAERDRKHRTTAPTEGKSPLKKEDRSDGSAPSTSTASSKLKSPSQKQDGGTAPVASASPKLCLAWQGMLLLKNSNFPSNMHLLQGDLQVASSLLVEGSTGGKVAQLKITQRLRLDQPKLDEVTRRIKVAGPNGYAILLAVPGSSDSRSSSSSAASDTATSTQRPLRNLVSYLKQKQAAGVISLPVGGNKDKENTGVLHAFPPCEFSQQFLDSPAKALAKSEEDYLVMIIVRGFGFQIGVRYENKKRENLALTLL', 'length': 977, 'molWeight': 107189, 'crc64': 'FB26AFE246E40282', 'md5': '7FA24D20CEB3FD34BF6AE25CEB0CD334'}, 'extraAttributes': {'uniParcId': 'UPI000013E1C5'}}\n"
     ]
    },
    {
     "name": "stderr",
     "output_type": "stream",
     "text": [
      "Fetching sequences:  29%|██▉       | 138/469 [01:02<02:25,  2.27it/s]"
     ]
    },
    {
     "name": "stdout",
     "output_type": "stream",
     "text": [
      "{'entryType': 'UniProtKB reviewed (Swiss-Prot)', 'primaryAccession': 'Q9BUJ2', 'proteinDescription': {'recommendedName': {'fullName': {'value': 'Heterogeneous nuclear ribonucleoprotein U-like protein 1'}}, 'alternativeNames': [{'fullName': {'value': 'Adenovirus early region 1B-associated protein 5'}}, {'fullName': {'value': 'E1B-55 kDa-associated protein 5'}, 'shortNames': [{'value': 'E1B-AP5'}]}]}, 'genes': [{'geneName': {'value': 'HNRNPUL1'}, 'synonyms': [{'value': 'E1BAP5'}, {'value': 'HNRPUL1'}]}], 'sequence': {'value': 'MDVRRLKVNELREELQRRGLDTRGLKAELAERLQAALEAEEPDDERELDADDEPGRPGHINEEVETEGGSELEGTAQPPPPGLQPHAEPGGYSGPDGHYAMDNITRQNQFYDTQVIKQENESGYERRPLEMEQQQAYRPEMKTEMKQGAPTSFLPPEASQLKPDRQQFQSRKRPYEENRGRGYFEHREDRRGRSPQPPAEEDEDDFDDTLVAIDTYNCDLHFKVARDRSSGYPLTIEGFAYLWSGARASYGVRRGRVCFEMKINEEISVKHLPSTEPDPHVVRIGWSLDSCSTQLGEEPFSYGYGGTGKKSTNSRFENYGDKFAENDVIGCFADFECGNDVELSFTKNGKWMGIAFRIQKEALGGQALYPHVLVKNCAVEFNFGQRAEPYCSVLPGFTFIQHLPLSERIRGTVGPKSKAECEILMMVGLPAAGKTTWAIKHAASNPSKKYNILGTNAIMDKMRVMGLRRQRNYAGRWDVLIQQATQCLNRLIQIAARKKRNYILDQTNVYGSAQRRKMRPFEGFQRKAIVICPTDEDLKDRTIKRTDEEGKDVPDHAVLEMKANFTLPDVGDFLDEVLFIELQREEADKLVRQYNEEGRKAGPPPEKRFDNRGGGGFRGRGGGGGFQRYENRGPPGGNRGGFQNRGGGSGGGGNYRGGFNRSGGGGYSQNRWGNNNRDNNNSNNRGSYNRAPQQQPPPQQPPPPQPPPQQPPPPPSYSPARNPPGASTYNKNSNIPGSSANTSTPTVSSYSPPQPSYSQPPYNQGGYSQGYTAPPPPPPPPPAYNYGSYGGYNPAPYTPPPPPTAQTYPQPSYNQYQQYAQQWNQYYQNQGQWPPYYGNYDYGSYSGNTQGGTSTQ', 'length': 856, 'molWeight': 95739, 'crc64': '6E57C0271E5F3A77', 'md5': 'A1C009DED79ACF86C6C3F6F18E2640B7'}, 'extraAttributes': {'uniParcId': 'UPI000013D3F4'}}\n"
     ]
    },
    {
     "name": "stderr",
     "output_type": "stream",
     "text": [
      "Fetching sequences:  30%|██▉       | 139/469 [01:03<02:25,  2.26it/s]"
     ]
    },
    {
     "name": "stdout",
     "output_type": "stream",
     "text": [
      "{'entryType': 'UniProtKB reviewed (Swiss-Prot)', 'primaryAccession': 'Q96E39', 'proteinDescription': {'recommendedName': {'fullName': {'value': 'RNA binding motif protein, X-linked-like-1'}}, 'alternativeNames': [{'fullName': {'value': 'Heterogeneous nuclear ribonucleoprotein G-like 1'}}]}, 'genes': [{'geneName': {'value': 'RBMXL1'}}], 'sequence': {'value': 'MVEADRPGKLFIGGLNTETNEKALETVFGKYGRIVEVLLIKDRETNKSRGFAFVTFESPADAKDAARDMNGKSLDGKAIKVEQATKPSFERGRHGPPPPPRSRGPPRGFGAGRGGSGGTRGPPSRGGHMDDGGYSMNFNMSSSRGPLPVKRGPPPRSGGPSPKRSAPSGLVRSSSGMGGRAPLSRGRDSYGGPPRREPLPSRRDVYLSPRDDGYSTKDSYSSRDYPSSRDTRDYAPPPRDYTYRDYGHSSSRDDYPSRGYGDRDGYGRDRDYSDHPSGGSYRDSYESYGNSRSAPLTRGPPPSYGGSSRYDDYSSSRDGYGGSRDSYSSSRSDLYSSCDRVGRQERGLPPSVERGYPSSRDSYSSSSRGAPRGAGPGGSRSDRGGGRSRY', 'length': 390, 'molWeight': 42142, 'crc64': 'E8D74676C3AE6420', 'md5': '37AF082152B210B68586F2F616DB04DA'}, 'extraAttributes': {'uniParcId': 'UPI000006DA18'}}\n"
     ]
    },
    {
     "name": "stderr",
     "output_type": "stream",
     "text": [
      "Fetching sequences:  30%|██▉       | 140/469 [01:03<02:26,  2.25it/s]"
     ]
    },
    {
     "name": "stdout",
     "output_type": "stream",
     "text": [
      "{'entryType': 'UniProtKB reviewed (Swiss-Prot)', 'primaryAccession': 'Q9Y324', 'proteinDescription': {'recommendedName': {'fullName': {'value': 'rRNA-processing protein FCF1 homolog'}}}, 'genes': [{'geneName': {'evidences': [{'evidenceCode': 'ECO:0000312', 'source': 'HGNC', 'id': 'HGNC:20220'}], 'value': 'FCF1'}, 'synonyms': [{'value': 'C14orf111'}], 'orfNames': [{'value': 'CGI-35'}]}], 'sequence': {'value': 'MGKQKKTRKYATMKRMLSLRDQRLKEKDRLKPKKKEKKDPSALKEREVPQHPSCLFFQYNTQLGPPYHILVDTNFINFSIKAKLDLVQSMMDCLYAKCIPCITDCVMAEIEKLGQKYRVALRIAKDPRFERLPCTHKGTYADDCLVQRVTQHKCYIVATVDRDLKRRIRKIPGVPIMYISNHRYNIERMPDDYGAPRF', 'length': 198, 'molWeight': 23370, 'crc64': 'A0C98414C21F16AE', 'md5': '0F992124CDF7F0BD45AFADED6E4256BA'}, 'extraAttributes': {'uniParcId': 'UPI0000070063'}}\n"
     ]
    },
    {
     "name": "stderr",
     "output_type": "stream",
     "text": [
      "Fetching sequences:  30%|███       | 141/469 [01:04<02:25,  2.25it/s]"
     ]
    },
    {
     "name": "stdout",
     "output_type": "stream",
     "text": [
      "{'entryType': 'UniProtKB reviewed (Swiss-Prot)', 'primaryAccession': 'P16403', 'proteinDescription': {'recommendedName': {'fullName': {'value': 'Histone H1.2'}}, 'alternativeNames': [{'fullName': {'value': 'Histone H1c'}}, {'fullName': {'value': 'Histone H1d'}}, {'fullName': {'value': 'Histone H1s-1'}}]}, 'genes': [{'geneName': {'evidences': [{'evidenceCode': 'ECO:0000312', 'source': 'HGNC', 'id': 'HGNC:4716'}], 'value': 'H1-2'}, 'synonyms': [{'evidences': [{'evidenceCode': 'ECO:0000312', 'source': 'HGNC', 'id': 'HGNC:4716'}], 'value': 'H1F2'}, {'evidences': [{'evidenceCode': 'ECO:0000312', 'source': 'HGNC', 'id': 'HGNC:4716'}], 'value': 'HIST1H1C'}]}], 'sequence': {'value': 'MSETAPAAPAAAPPAEKAPVKKKAAKKAGGTPRKASGPPVSELITKAVAASKERSGVSLAALKKALAAAGYDVEKNNSRIKLGLKSLVSKGTLVQTKGTGASGSFKLNKKAASGEAKPKVKKAGGTKPKKPVGAAKKPKKAAGGATPKKSAKKTPKKAKKPAAATVTKKVAKSPKKAKVAKPKKAAKSAAKAVKPKAAKPKVVKPKKAAPKKK', 'length': 213, 'molWeight': 21365, 'crc64': 'AA66EA1901D8D56B', 'md5': '96034223AED28481A6F09B94DAC08C72'}, 'extraAttributes': {'uniParcId': 'UPI0000001BD9'}}\n"
     ]
    },
    {
     "name": "stderr",
     "output_type": "stream",
     "text": [
      "Fetching sequences:  30%|███       | 142/469 [01:04<02:29,  2.18it/s]"
     ]
    },
    {
     "name": "stdout",
     "output_type": "stream",
     "text": [
      "{'entryType': 'UniProtKB reviewed (Swiss-Prot)', 'primaryAccession': 'Q96MU7', 'proteinDescription': {'recommendedName': {'fullName': {'evidences': [{'evidenceCode': 'ECO:0000305'}], 'value': 'YTH domain-containing protein 1'}}, 'alternativeNames': [{'fullName': {'evidences': [{'evidenceCode': 'ECO:0000303', 'source': 'PubMed', 'id': '12755701'}], 'value': 'Splicing factor YT521'}, 'shortNames': [{'evidences': [{'evidenceCode': 'ECO:0000303', 'source': 'PubMed', 'id': '12755701'}], 'value': 'YT521-B'}]}]}, 'genes': [{'geneName': {'evidences': [{'evidenceCode': 'ECO:0000312', 'source': 'HGNC', 'id': 'HGNC:30626'}], 'value': 'YTHDC1'}, 'synonyms': [{'evidences': [{'evidenceCode': 'ECO:0000303', 'source': 'PubMed', 'id': '11853319'}], 'value': 'KIAA1966'}, {'evidences': [{'evidenceCode': 'ECO:0000303', 'source': 'PubMed', 'id': '12755701'}], 'value': 'YT521'}]}], 'sequence': {'value': 'MAADSREEKDGELNVLDDILTEVPEQDDELYNPESEQDKNEKKGSKRKSDRMESTDTKRQKPSVHSRQLVSKPLSSSVSNNKRIVSTKGKSATEYKNEEYQRSERNKRLDADRKIRLSSSASREPYKNQPEKTCVRKRDPERRAKSPTPDGSERIGLEVDRRASRSSQSSKEEVNSEEYGSDHETGSSGSSDEQGNNTENEEEGVEEDVEEDEEVEEDAEEDEEVDEDGEEEEEEEEEEEEEEEEEEEEYEQDERDQKEEGNDYDTRSEASDSGSESVSFTDGSVRSGSGTDGSDEKKKERKRARGISPIVFDRSGSSASESYAGSEKKHEKLSSSVRAVRKDQTSKLKYVLQDARFFLIKSNNHENVSLAKAKGVWSTLPVNEKKLNLAFRSARSVILIFSVRESGKFQGFARLSSESHHGGSPIHWVLPAGMSAKMLGGVFKIDWICRRELPFTKSAHLTNPWNEHKPVKIGRDGQEIELECGTQLCLLFPPDESIDLYQVIHKMRHKRRMHSQPRSRGRPSRREPVRDVGRRRPEDYDIHNSRKKPRIDYPPEFHQRPGYLKDPRYQEVDRRFSGVRRDVFLNGSYNDYVREFHNMGPPPPWQGMPPYPGMEQPPHHPYYQHHAPPPQAHPPYSGHHPVPHEARYRDKRVHDYDMRVDDFLRRTQAVVSGRRSRPRERDRERERDRPRDNRRDRERDRGRDRERERERLCDRDRDRGERGRYRR', 'length': 727, 'molWeight': 84700, 'crc64': '536032FD44582EAF', 'md5': 'CA36A0A4506361FCE7FE347D39188A9D'}, 'extraAttributes': {'uniParcId': 'UPI000020B86D'}}\n"
     ]
    },
    {
     "name": "stderr",
     "output_type": "stream",
     "text": [
      "Fetching sequences:  30%|███       | 143/469 [01:04<02:28,  2.20it/s]"
     ]
    },
    {
     "name": "stdout",
     "output_type": "stream",
     "text": [
      "{'entryType': 'UniProtKB reviewed (Swiss-Prot)', 'primaryAccession': 'Q1ED39', 'proteinDescription': {'recommendedName': {'fullName': {'value': 'Lysine-rich nucleolar protein 1'}}, 'alternativeNames': [{'fullName': {'value': 'Protein FAM191A'}}, {'fullName': {'value': 'Testis-specific gene 118 protein'}}]}, 'genes': [{'geneName': {'value': 'KNOP1'}, 'synonyms': [{'value': 'C16orf88'}, {'value': 'FAM191A'}, {'value': 'TSG118'}]}], 'sequence': {'value': 'MITKTHKVDLGLPEKKKKKKVVKEPETRYSVLNNDDYFADVSPLRATSPSKSVAHGQAPEMPLVKKKKKKKKGVSTLCEEHVEPETTLPARRTEKSPSLRKQVFGHLEFLSGEKKNKKSPLAMSHASGVKTSPDPRQGEEETRVGKKLKKHKKEKKGAQDPTAFSVQDPWFCEAREARDVGDTCSVGKKDEEQAALGQKRKRKSPREHNGKVKKKKKIHQEGDALPGHSKPSRSMESSPRKGSKKKPVKVEAPEYIPISDDPKASAKKKMKSKKKVEQPVIEEPALKRKKKKKRKESGVAGDPWKEETDTDLEVVLEKKGNMDEAHIDQVRRKALQEEIDRESGKTEASETRKWTGTQFGQWDTAGFENEDQKLKFLRLMGGFKNLSPSFSRPASTIARPNMALGKKAADSLQQNLQRDYDRAMSWKYSRGAGLGFSTAPNKIFYIDRNASKSVKLED', 'length': 458, 'molWeight': 51589, 'crc64': 'F3935374029D61D9', 'md5': '93E70312C376D011C279EF9494614433'}, 'extraAttributes': {'uniParcId': 'UPI00001982F5'}}\n"
     ]
    },
    {
     "name": "stderr",
     "output_type": "stream",
     "text": [
      "Fetching sequences:  31%|███       | 144/469 [01:05<02:26,  2.22it/s]"
     ]
    },
    {
     "name": "stdout",
     "output_type": "stream",
     "text": [
      "{'entryType': 'UniProtKB reviewed (Swiss-Prot)', 'primaryAccession': 'Q8NI36', 'proteinDescription': {'recommendedName': {'fullName': {'value': 'WD repeat-containing protein 36'}}, 'alternativeNames': [{'fullName': {'value': 'T-cell activation WD repeat-containing protein'}, 'shortNames': [{'value': 'TA-WDRP'}]}]}, 'genes': [{'geneName': {'evidences': [{'evidenceCode': 'ECO:0000312', 'source': 'HGNC', 'id': 'HGNC:30696'}], 'value': 'WDR36'}}], 'sequence': {'value': 'MCCTEGSLRKRDSQRAPEAVLCLQLWQRTVPLDTLKGLGTCFPSGPELRGAGIAAAMERASERRTASALFAGFRALGLFSNDIPHVVRFSALKRRFYVTTCVGKSFHTYDVQKLSLVAVSNSVPQDICCMAADGRLVFAAYGNVFSAFARNKEIVHTFKGHKAEIHFLQPFGDHIISVDTDGILIIWHIYSEEEYLQLTFDKSVFKISAILHPSTYLNKILLGSEQGSLQLWNVKSNKLLYTFPGWKVGVTALQQAPAVDVVAIGLMSGQVIIHNIKFNETLMKFRQDWGPITSISFRTDGHPVMAAGSPCGHIGLWDLEDKKLINQMRNAHSTAIAGLTFLHREPLLVTNGADNALRIWIFDGPTGEGRLLRFRMGHSAPLTNIRYYGQNGQQILSASQDGTLQSFSTVHEKFNKSLGHGLINKKRVKRKGLQNTMSVRLPPITKFAAEEARESDWDGIIACHQGKLSCSTWNYQKSTIGAYFLKPKELKKDDITATAVDITSCGNFAVIGLSSGTVDVYNMQSGIHRGSFGKDQAHKGSVRGVAVDGLNQLTVTTGSEGLLKFWNFKNKILIHSVSLSSSPNIMLLHRDSGILGLALDDFSISVLDIETRKIVREFSGHQGQINDMAFSPDGRWLISAAMDCSIRTWDLPSGCLIDCFLLDSAPLNVSMSPTGDFLATSHVDHLGIYLWSNISLYSVVSLRPLPADYVPSIVMLPGTCQTQDVEVSEETVEPSDELIEYDSPEQLNEQLVTLSLLPESRWKNLLNLDVIKKKNKPKEPPKVPKSAPFFIPTIPGLVPRYAAPEQNNDPQQSKVVNLGVLAQKSDFCLKLEEGLVNNKYDTALNLLKESGPSGIETELRSLSPDCGGSIEVMQSFLKMIGMMLDRKRDFELAQAYLALFLKLHLKMLPSEPVLLEEITNLSSQVEENWTHLQSLFNQSMCILNYLKSALL', 'length': 951, 'molWeight': 105322, 'crc64': '7C65FCB65BE91951', 'md5': '4BE961B04C342F88733259C649710EBE'}, 'extraAttributes': {'uniParcId': 'UPI000007018C'}}\n"
     ]
    },
    {
     "name": "stderr",
     "output_type": "stream",
     "text": [
      "Fetching sequences:  31%|███       | 145/469 [01:05<02:33,  2.11it/s]"
     ]
    },
    {
     "name": "stdout",
     "output_type": "stream",
     "text": [
      "{'entryType': 'UniProtKB reviewed (Swiss-Prot)', 'primaryAccession': 'Q13427', 'proteinDescription': {'recommendedName': {'fullName': {'value': 'Peptidyl-prolyl cis-trans isomerase G'}, 'shortNames': [{'value': 'PPIase G'}, {'value': 'Peptidyl-prolyl isomerase G'}], 'ecNumbers': [{'evidences': [{'evidenceCode': 'ECO:0000269', 'source': 'PubMed', 'id': '20676357'}], 'value': '5.2.1.8'}]}, 'alternativeNames': [{'fullName': {'value': 'CASP10'}}, {'fullName': {'value': 'Clk-associating RS-cyclophilin'}, 'shortNames': [{'value': 'CARS-Cyp'}, {'value': 'CARS-cyclophilin'}, {'value': 'SR-cyclophilin'}, {'value': 'SR-cyp'}, {'value': 'SRcyp'}]}, {'fullName': {'value': 'Cyclophilin G'}}, {'fullName': {'value': 'Rotamase G'}}]}, 'genes': [{'geneName': {'value': 'PPIG'}}], 'sequence': {'value': 'MGIKVQRPRCFFDIAINNQPAGRVVFELFSDVCPKTCENFRCLCTGEKGTGKSTQKPLHYKSCLFHRVVKDFMVQGGDFSEGNGRGGESIYGGFFEDESFAVKHNKEFLLSMANRGKDTNGSQFFITTKPTPHLDGHHVVFGQVISGQEVVREIENQKTDAASKPFAEVRILSCGELIPKSKVKKEEKKRHKSSSSSSSSSSDSDSSSDSQSSSDSSDSESATEEKSKKRKKKHRKNSRKHKKEKKKRKKSKKSASSESEAENLEAQPQSTVRPEEIPPIPENRFLMRKSPPKADEKERKNRERERERECNPPNSQPASYQRRLLVTRSGRKIKGRGPRRYRTPSRSRSRDRFRRSETPPHWRQEMQRAQRMRVSSGERWIKGDKSELNEIKENQRSPVRVKERKITDHRNVSESPNRKNEKEKKVKDHKSNSKERDIRRNSEKDDKYKNKVKKRAKSKSRSKSKEKSKSKERDSKHNRNEEKRMRSRSKGRDHENVKEKEKQSDSKGKDQERSRSKEKSKQLESKSNEHDHSKSKEKDRRAQSRSRECDITKGKHSYNSRTRERSRSRDRSRRVRSRTHDRDRSRSKEYHRYREQEYRRRGRSRSRERRTPPGRSRSKDRRRRRRDSRSSEREESQSRNKDKYRNQESKSSHRKENSESEKRMYSKSRDHNSSNNSREKKADRDQSPFSKIKQSSQDNELKSSMLKNKEDEKIRSSVEKENQKSKGQENDHVHEKNKKFDHESSPGTDEDKSG', 'length': 754, 'molWeight': 88617, 'crc64': 'D4884808D8060CD6', 'md5': '256EA0A07F745B14967B55AAC344851F'}, 'extraAttributes': {'uniParcId': 'UPI000013D124'}}\n"
     ]
    },
    {
     "name": "stderr",
     "output_type": "stream",
     "text": [
      "Fetching sequences:  31%|███       | 146/469 [01:06<02:29,  2.15it/s]"
     ]
    },
    {
     "name": "stdout",
     "output_type": "stream",
     "text": [
      "{'entryType': 'UniProtKB reviewed (Swiss-Prot)', 'primaryAccession': 'Q92499', 'proteinDescription': {'recommendedName': {'fullName': {'value': 'ATP-dependent RNA helicase DDX1'}, 'ecNumbers': [{'evidences': [{'evidenceCode': 'ECO:0000269', 'source': 'PubMed', 'id': '21589879'}], 'value': '3.6.4.13'}]}, 'alternativeNames': [{'fullName': {'value': 'DEAD box protein 1'}}, {'fullName': {'value': 'DEAD box protein retinoblastoma'}, 'shortNames': [{'value': 'DBP-RB'}]}]}, 'genes': [{'geneName': {'value': 'DDX1'}}], 'sequence': {'value': 'MAAFSEMGVMPEIAQAVEEMDWLLPTDIQAESIPLILGGGDVLMAAETGSGKTGAFSIPVIQIVYETLKDQQEGKKGKTTIKTGASVLNKWQMNPYDRGSAFAIGSDGLCCQSREVKEWHGCRATKGLMKGKHYYEVSCHDQGLCRVGWSTMQASLDLGTDKFGFGFGGTGKKSHNKQFDNYGEEFTMHDTIGCYLDIDKGHVKFSKNGKDLGLAFEIPPHMKNQALFPACVLKNAELKFNFGEEEFKFPPKDGFVALSKAPDGYIVKSQHSGNAQVTQTKFLPNAPKALIVEPSRELAEQTLNNIKQFKKYIDNPKLRELLIIGGVAARDQLSVLENGVDIVVGTPGRLDDLVSTGKLNLSQVRFLVLDEADGLLSQGYSDFINRMHNQIPQVTSDGKRLQVIVCSATLHSFDVKKLSEKIMHFPTWVDLKGEDSVPDTVHHVVVPVNPKTDRLWERLGKSHIRTDDVHAKDNTRPGANSPEMWSEAIKILKGEYAVRAIKEHKMDQAIIFCRTKIDCDNLEQYFIQQGGGPDKKGHQFSCVCLHGDRKPHERKQNLERFKKGDVRFLICTDVAARGIDIHGVPYVINVTLPDEKQNYVHRIGRVGRAERMGLAISLVATEKEKVWYHVCSSRGKGCYNTRLKEDGGCTIWYNEMQLLSEIEEHLNCTISQVEPDIKVPVDEFDGKVTYGQKRAAGGGSYKGHVDILAPTVQELAALEKEAQTSFLHLGYLPNQLFRTF', 'length': 740, 'molWeight': 82432, 'crc64': 'C6D0179F83BD8C73', 'md5': '72112C230851660A9F0B9042FB732E38'}, 'extraAttributes': {'uniParcId': 'UPI00001290D1'}}\n"
     ]
    },
    {
     "name": "stderr",
     "output_type": "stream",
     "text": [
      "Fetching sequences:  31%|███▏      | 147/469 [01:06<02:27,  2.18it/s]"
     ]
    },
    {
     "name": "stdout",
     "output_type": "stream",
     "text": [
      "{'entryType': 'UniProtKB reviewed (Swiss-Prot)', 'primaryAccession': 'Q13595', 'proteinDescription': {'recommendedName': {'fullName': {'evidences': [{'evidenceCode': 'ECO:0000305'}], 'value': 'Transformer-2 protein homolog alpha'}, 'shortNames': [{'value': 'TRA-2 alpha'}, {'value': 'TRA2-alpha'}]}, 'alternativeNames': [{'fullName': {'value': 'Transformer-2 protein homolog A'}}]}, 'genes': [{'geneName': {'evidences': [{'evidenceCode': 'ECO:0000312', 'source': 'HGNC', 'id': 'HGNC:16645'}], 'value': 'TRA2A'}}], 'sequence': {'value': 'MSDVEENNFEGRESRSQSKSPTGTPARVKSESRSGSRSPSRVSKHSESHSRSRSKSRSRSRRHSHRRYTRSRSHSHSHRRRSRSRSYTPEYRRRRSRSHSPMSNRRRHTGSRANPDPNTCLGVFGLSLYTTERDLREVFSRYGPLSGVNVVYDQRTGRSRGFAFVYFERIDDSKEAMERANGMELDGRRIRVDYSITKRAHTPTPGIYMGRPTHSGGGGGGGGGGGGGGGGRRRDSYYDRGYDRGYDRYEDYDYRYRRRSPSPYYSRYRSRSRSRSYSPRRY', 'length': 282, 'molWeight': 32689, 'crc64': 'EDB5ABE7BEA023FD', 'md5': 'CE49BB59456B402ED0A4CEF25CA46613'}, 'extraAttributes': {'uniParcId': 'UPI00001372AB'}}\n"
     ]
    },
    {
     "name": "stderr",
     "output_type": "stream",
     "text": [
      "Fetching sequences:  32%|███▏      | 148/469 [01:07<02:25,  2.20it/s]"
     ]
    },
    {
     "name": "stdout",
     "output_type": "stream",
     "text": [
      "{'entryType': 'UniProtKB reviewed (Swiss-Prot)', 'primaryAccession': 'Q9UMY1', 'proteinDescription': {'recommendedName': {'fullName': {'evidences': [{'evidenceCode': 'ECO:0000305'}], 'value': 'U3 small nucleolar RNA-associated protein NOL7'}, 'shortNames': [{'evidences': [{'evidenceCode': 'ECO:0000305'}], 'value': 'U3 snoRNA-associated protein NOL7'}]}, 'alternativeNames': [{'fullName': {'value': 'Nucleolar protein 7'}}, {'fullName': {'value': 'Nucleolar protein of 27 kDa'}}]}, 'genes': [{'geneName': {'evidences': [{'evidenceCode': 'ECO:0000312', 'source': 'HGNC', 'id': 'HGNC:21040'}], 'value': 'NOL7'}, 'synonyms': [{'value': 'C6orf90'}, {'value': 'NOP27'}]}], 'sequence': {'value': 'MVQLRPRASRAPASAEAMVDEGQLASEEEEAEHGLLLGQPSSGAAAEPLEEDEEGDDEFDDEAPEELTFASAQAEAREEERRVRETVRRDKTLLKEKRKRREELFIEQKKRKLLPDTILEKLTTASQTNIKKSPGKVKEVNLQKKNEDCEKGNDSKKVKVQKVQSVSQNKSYLAVRLKDQDLRDSRQQAAQAFIHNSLYGPGTNRTTVNKFLSLANKRLPVKRAAVQFLNNAWGIQKKQNAKRFKRRWMVRKMKTKK', 'length': 257, 'molWeight': 29426, 'crc64': '84DB1906362263AF', 'md5': '52904869C17C5F0716CD0A2D43BAA6B6'}, 'extraAttributes': {'uniParcId': 'UPI000007196C'}}\n"
     ]
    },
    {
     "name": "stderr",
     "output_type": "stream",
     "text": [
      "Fetching sequences:  32%|███▏      | 149/469 [01:07<02:24,  2.22it/s]"
     ]
    },
    {
     "name": "stdout",
     "output_type": "stream",
     "text": [
      "{'entryType': 'UniProtKB reviewed (Swiss-Prot)', 'primaryAccession': 'Q92769', 'proteinDescription': {'recommendedName': {'fullName': {'evidences': [{'evidenceCode': 'ECO:0000305'}], 'value': 'Histone deacetylase 2'}, 'shortNames': [{'value': 'HD2'}], 'ecNumbers': [{'evidences': [{'evidenceCode': 'ECO:0000269', 'source': 'PubMed', 'id': '28497810'}], 'value': '3.5.1.98'}]}, 'alternativeNames': [{'fullName': {'evidences': [{'evidenceCode': 'ECO:0000305'}], 'value': 'Protein deacylase HDAC2'}, 'ecNumbers': [{'evidences': [{'evidenceCode': 'ECO:0000269', 'source': 'PubMed', 'id': '28497810'}, {'evidenceCode': 'ECO:0000269', 'source': 'PubMed', 'id': '29192674'}, {'evidenceCode': 'ECO:0000269', 'source': 'PubMed', 'id': '35044827'}], 'value': '3.5.1.-'}]}]}, 'genes': [{'geneName': {'evidences': [{'evidenceCode': 'ECO:0000303', 'source': 'PubMed', 'id': '10545197'}, {'evidenceCode': 'ECO:0000312', 'source': 'HGNC', 'id': 'HGNC:4853'}], 'value': 'HDAC2'}}], 'sequence': {'value': 'MAYSQGGGKKKVCYYYDGDIGNYYYGQGHPMKPHRIRMTHNLLLNYGLYRKMEIYRPHKATAEEMTKYHSDEYIKFLRSIRPDNMSEYSKQMQRFNVGEDCPVFDGLFEFCQLSTGGSVAGAVKLNRQQTDMAVNWAGGLHHAKKSEASGFCYVNDIVLAILELLKYHQRVLYIDIDIHHGDGVEEAFYTTDRVMTVSFHKYGEYFPGTGDLRDIGAGKGKYYAVNFPMRDGIDDESYGQIFKPIISKVMEMYQPSAVVLQCGADSLSGDRLGCFNLTVKGHAKCVEVVKTFNLPLLMLGGGGYTIRNVARCWTYETAVALDCEIPNELPYNDYFEYFGPDFKLHISPSNMTNQNTPEYMEKIKQRLFENLRMLPHAPGVQMQAIPEDAVHEDSGDEDGEDPDKRISIRASDKRIACDEEFSDSEDEGEGGRRNVADHKKGAKKARIEEDKKETEDKKTDVKEEDKSKDNSGEKTDTKGTKSEQLSNP', 'length': 488, 'molWeight': 55364, 'crc64': '775419CCCDAE07FA', 'md5': '6D48F5D9D96F10557D680247A7CDCFE9'}, 'extraAttributes': {'uniParcId': 'UPI000020E11B'}}\n"
     ]
    },
    {
     "name": "stderr",
     "output_type": "stream",
     "text": [
      "Fetching sequences:  32%|███▏      | 150/469 [01:08<02:23,  2.23it/s]"
     ]
    },
    {
     "name": "stdout",
     "output_type": "stream",
     "text": [
      "{'entryType': 'UniProtKB reviewed (Swiss-Prot)', 'primaryAccession': 'Q6RFH5', 'proteinDescription': {'recommendedName': {'fullName': {'value': 'WD repeat-containing protein 74'}}, 'alternativeNames': [{'fullName': {'value': 'NOP seven-associated protein 1'}}]}, 'genes': [{'geneName': {'value': 'WDR74'}, 'synonyms': [{'value': 'NSA1'}]}], 'sequence': {'value': 'MAAAAARWNHVWVGTETGILKGVNLQRKQAANFTAGGQPRREEAVSALCWGTGGETQMLVGCADRTVKHFSTEDGIFQGQRHCPGGEGMFRGLAQADGTLITCVDSGILRVWHDKDKDTSSDPLLELRVGPGVCRMRQDPAHPHVVATGGKENALKIWDLQGSEEPVFRAKNVRNDWLDLRVPIWDQDIQFLPGSQKLVTCTGYHQVRVYDPASPQRRPVLETTYGEYPLTAMTLTPGGNSVIVGNTHGQLAEIDLRQGRLLGCLKGLAGSVRGLQCHPSKPLLASCGLDRVLRIHRIQNPRGLEHKVYLKSQLNCLLLSGRDNWEDEPQEPQEPNKVPLEDTETDELWASLEAAAKRKLSGLEQPQGALQTRRRKKKRPGSTSP', 'length': 385, 'molWeight': 42441, 'crc64': '8B4FA9730D8D5EC0', 'md5': '8AF25EFC0292B5495A0181FDF331E652'}, 'extraAttributes': {'uniParcId': 'UPI000013DB9A'}}\n"
     ]
    },
    {
     "name": "stderr",
     "output_type": "stream",
     "text": [
      "Fetching sequences:  32%|███▏      | 151/469 [01:08<02:22,  2.24it/s]"
     ]
    },
    {
     "name": "stdout",
     "output_type": "stream",
     "text": [
      "{'entryType': 'UniProtKB reviewed (Swiss-Prot)', 'primaryAccession': 'O94776', 'proteinDescription': {'recommendedName': {'fullName': {'value': 'Metastasis-associated protein MTA2'}}, 'alternativeNames': [{'fullName': {'value': 'Metastasis-associated 1-like 1'}, 'shortNames': [{'value': 'MTA1-L1 protein'}]}, {'fullName': {'value': 'p53 target protein in deacetylase complex'}}]}, 'genes': [{'geneName': {'value': 'MTA2'}, 'synonyms': [{'value': 'MTA1L1'}, {'value': 'PID'}]}], 'sequence': {'value': 'MAANMYRVGDYVYFENSSSNPYLVRRIEELNKTANGNVEAKVVCLFRRRDISSSLNSLADSNAREFEEESKQPGVSEQQRHQLKHRELFLSRQFESLPATHIRGKCSVTLLNETDILSQYLEKEDCFFYSLVFDPVQKTLLADQGEIRVGCKYQAEIPDRLVEGESDNRNQQKMEMKVWDPDNPLTDRQIDQFLVVARAVGTFARALDCSSSIRQPSLHMSAAAASRDITLFHAMDTLQRNGYDLAKAMSTLVPQGGPVLCRDEMEEWSASEAMLFEEALEKYGKDFNDIRQDFLPWKSLASIVQFYYMWKTTDRYIQQKRLKAAEADSKLKQVYIPTYTKPNPNQIISVGSKPGMNGAGFQKGLTCESCHTTQSAQWYAWGPPNMQCRLCASCWIYWKKYGGLKTPTQLEGATRGTTEPHSRGHLSRPEAQSLSPYTTSANRAKLLAKNRQTFLLQTTKLTRLARRMCRDLLQPRRAARRPYAPINANAIKAECSIRLPKAAKTPLKIHPLVRLPLATIVKDLVAQAPLKPKTPRGTKTPINRNQLSQNRGLGGIMVKRAYETMAGAGVPFSANGRPLASGIRSSSQPAAKRQKLNPADAPNPVVFVATKDTRALRKALTHLEMRRAARRPNLPLKVKPTLIAVRPPVPLPAPSHPASTNEPIVLED', 'length': 668, 'molWeight': 75023, 'crc64': '65087AF798BA64EC', 'md5': '6EA9F07694E2A90872653FE36F76E851'}, 'extraAttributes': {'uniParcId': 'UPI000012F743'}}\n"
     ]
    },
    {
     "name": "stderr",
     "output_type": "stream",
     "text": [
      "Fetching sequences:  32%|███▏      | 152/469 [01:09<02:21,  2.24it/s]"
     ]
    },
    {
     "name": "stdout",
     "output_type": "stream",
     "text": [
      "{'entryType': 'UniProtKB reviewed (Swiss-Prot)', 'primaryAccession': 'Q9NVN8', 'proteinDescription': {'recommendedName': {'fullName': {'value': 'Guanine nucleotide-binding protein-like 3-like protein'}}}, 'genes': [{'geneName': {'value': 'GNL3L'}}], 'sequence': {'value': 'MMKLRHKNKKPGEGSKGHKKISWPYPQPAKQNGKKATSKVPSAPHFVHPNDHANREAELKKKWVEEMREKQQAAREQERQKRRTIESYCQDVLRRQEEFEHKEEVLQELNMFPQLDDEATRKAYYKEFRKVVEYSDVILEVLDARDPLGCRCFQMEEAVLRAQGNKKLVLVLNKIDLVPKEVVEKWLDYLRNELPTVAFKASTQHQVKNLNRCSVPVDQASESLLKSKACFGAENLMRVLGNYCRLGEVRTHIRVGVVGLPNVGKSSLINSLKRSRACSVGAVPGITKFMQEVYLDKFIRLLDAPGIVPGPNSEVGTILRNCVHVQKLADPVTPVETILQRCNLEEISNYYGVSGFQTTEHFLTAVAHRLGKKKKGGLYSQEQAAKAVLADWVSGKISFYIPPPATHTLPTHLSAEIVKEMTEVFDIEDTEQANEDTMECLATGESDELLGDTDPLEMEIKLLHSPMTKIADAIENKTTVYKIGDLTGYCTNPNRHQMGWAKRNVDHRPKSNSMVDVCSVDRRSVLQRIMETDPLQQGQALASALKNKKKMQKRADKIASKLSDSMMSALDLSGNADDGVGD', 'length': 582, 'molWeight': 65573, 'crc64': 'B65EE072424F54BC', 'md5': '25FBAE2442FFA217C00DD24D8858E842'}, 'extraAttributes': {'uniParcId': 'UPI000006CF81'}}\n"
     ]
    },
    {
     "name": "stderr",
     "output_type": "stream",
     "text": [
      "Fetching sequences:  33%|███▎      | 153/469 [01:09<02:20,  2.26it/s]"
     ]
    },
    {
     "name": "stdout",
     "output_type": "stream",
     "text": [
      "{'entryType': 'UniProtKB reviewed (Swiss-Prot)', 'primaryAccession': 'Q13151', 'proteinDescription': {'recommendedName': {'fullName': {'value': 'Heterogeneous nuclear ribonucleoprotein A0'}, 'shortNames': [{'value': 'hnRNP A0'}]}}, 'genes': [{'geneName': {'value': 'HNRNPA0'}, 'synonyms': [{'value': 'HNRPA0'}]}], 'sequence': {'value': 'MENSQLCKLFIGGLNVQTSESGLRGHFEAFGTLTDCVVVVNPQTKRSRCFGFVTYSNVEEADAAMAASPHAVDGNTVELKRAVSREDSARPGAHAKVKKLFVGGLKGDVAEGDLIEHFSQFGTVEKAEIIADKQSGKKRGFGFVYFQNHDAADKAAVVKFHPIQGHRVEVKKAVPKEDIYSGGGGGGSRSSRGGRGGRGRGGGRDQNGLSKGGGGGYNSYGGYGGGGGGGYNAYGGGGGGSSYGGSDYGNGFGGFGSYSQHQSSYGPMKSGGGGGGGGSSWGGRSNSGPYRGGYGGGGGYGGSSF', 'length': 305, 'molWeight': 30841, 'crc64': '9A976A39345AA149', 'md5': '3DF43DBBF7C5ED61A1EC0B03B7A3E8A8'}, 'extraAttributes': {'uniParcId': 'UPI0000000C1D'}}\n"
     ]
    },
    {
     "name": "stderr",
     "output_type": "stream",
     "text": [
      "Fetching sequences:  33%|███▎      | 154/469 [01:09<02:18,  2.27it/s]"
     ]
    },
    {
     "name": "stdout",
     "output_type": "stream",
     "text": [
      "{'entryType': 'UniProtKB reviewed (Swiss-Prot)', 'primaryAccession': 'Q9UIG0', 'proteinDescription': {'recommendedName': {'fullName': {'value': 'Tyrosine-protein kinase BAZ1B'}, 'ecNumbers': [{'evidences': [{'evidenceCode': 'ECO:0000269', 'source': 'PubMed', 'id': '19092802'}], 'value': '2.7.10.2'}]}, 'alternativeNames': [{'fullName': {'value': 'Bromodomain adjacent to zinc finger domain protein 1B'}}, {'fullName': {'value': 'Williams syndrome transcription factor'}}, {'fullName': {'value': 'Williams-Beuren syndrome chromosomal region 10 protein'}}, {'fullName': {'value': 'Williams-Beuren syndrome chromosomal region 9 protein'}}, {'fullName': {'value': 'hWALp2'}}]}, 'genes': [{'geneName': {'value': 'BAZ1B'}, 'synonyms': [{'value': 'WBSC10'}, {'value': 'WBSCR10'}, {'value': 'WBSCR9'}, {'value': 'WSTF'}]}], 'sequence': {'value': 'MAPLLGRKPFPLVKPLPGEEPLFTIPHTQEAFRTREEYEARLERYSERIWTCKSTGSSQLTHKEAWEEEQEVAELLKEEFPAWYEKLVLEMVHHNTASLEKLVDTAWLEIMTKYAVGEECDFEVGKEKMLKVKIVKIHPLEKVDEEATEKKSDGACDSPSSDKENSSQIAQDHQKKETVVKEDEGRRESINDRARRSPRKLPTSLKKGERKWAPPKFLPHKYDVKLQNEDKIISNVPADSLIRTERPPNKEIVRYFIRHNALRAGTGENAPWVVEDELVKKYSLPSKFSDFLLDPYKYMTLNPSTKRKNTGSPDRKPSKKSKTDNSSLSSPLNPKLWCHVHLKKSLSGSPLKVKNSKNSKSPEEHLEEMMKMMSPNKLHTNFHIPKKGPPAKKPGKHSDKPLKAKGRSKGILNGQKSTGNSKSPKKGLKTPKTKMKQMTLLDMAKGTQKMTRAPRNSGGTPRTSSKPHKHLPPAALHLIAYYKENKDREDKRSALSCVISKTARLLSSEDRARLPEELRSLVQKRYELLEHKKRWASMSEEQRKEYLKKKREELKKKLKEKAKERREKEMLERLEKQKRYEDQELTGKNLPAFRLVDTPEGLPNTLFGDVAMVVEFLSCYSGLLLPDAQYPITAVSLMEALSADKGGFLYLNRVLVILLQTLLQDEIAEDYGELGMKLSEIPLTLHSVSELVRLCLRRSDVQEESEGSDTDDNKDSAAFEDNEVQDEFLEKLETSEFFELTSEEKLQILTALCHRILMTYSVQDHMETRQQMSAELWKERLAVLKEENDKKRAEKQKRKEMEAKNKENGKVENGLGKTDRKKEIVKFEPQVDTEAEDMISAVKSRRLLAIQAKKEREIQEREMKVKLERQAEEERIRKHKAAAEKAFQEGIAKAKLVMRRTPIGTDRNHNRYWLFSDEVPGLFIEKGWVHDSIDYRFNHHCKDHTVSGDEDYCPRSKKANLGKNASMNTQHGTATEVAVETTTPKQGQNLWFLCDSQKELDELLNCLHPQGIRESQLKERLEKRYQDIIHSIHLARKPNLGLKSCDGNQELLNFLRSDLIEVATRLQKGGLGYVEETSEFEARVISLEKLKDFGECVIALQASVIKKFLQGFMAPKQKRRKLQSEDSAKTEEVDEEKKMVEEAKVASALEKWKTAIREAQTFSRMHVLLGMLDACIKWDMSAENARCKVCRKKGEDDKLILCDECNKAFHLFCLRPALYEVPDGEWQCPACQPATARRNSRGRNYTEESASEDSEDDESDEEEEEEEEEEEEEDYEVAGLRLRPRKTIRGKHSVIPPAARSGRRPGKKPHSTRRSQPKAPPVDDAEVDELVLQTKRSSRRQSLELQKCEEILHKIVKYRFSWPFREPVTRDEAEDYYDVITHPMDFQTVQNKCSCGSYRSVQEFLTDMKQVFTNAEVYNCRGSHVLSCMVKTEQCLVALLHKHLPGHPYVRRKRKKFPDRLAEDEGDSEPEAVGQSRGRRQKK', 'length': 1483, 'molWeight': 170903, 'crc64': '0CC146FEBB954261', 'md5': '57F2FA4F8868D8E34966FC49A8FF08AE'}, 'extraAttributes': {'uniParcId': 'UPI0000126731'}}\n"
     ]
    },
    {
     "name": "stderr",
     "output_type": "stream",
     "text": [
      "Fetching sequences:  33%|███▎      | 155/469 [01:10<02:17,  2.28it/s]"
     ]
    },
    {
     "name": "stdout",
     "output_type": "stream",
     "text": [
      "{'entryType': 'UniProtKB reviewed (Swiss-Prot)', 'primaryAccession': 'P49756', 'proteinDescription': {'recommendedName': {'fullName': {'value': 'RNA-binding protein 25'}}, 'alternativeNames': [{'fullName': {'value': 'Arg/Glu/Asp-rich protein of 120 kDa'}, 'shortNames': [{'value': 'RED120'}]}, {'fullName': {'value': 'Protein S164'}}, {'fullName': {'value': 'RNA-binding motif protein 25'}}, {'fullName': {'value': 'RNA-binding region-containing protein 7'}}]}, 'genes': [{'geneName': {'value': 'RBM25'}, 'synonyms': [{'value': 'RNPC7'}]}], 'sequence': {'value': 'MSFPPHLNRPPMGIPALPPGIPPPQFPGFPPPVPPGTPMIPVPMSIMAPAPTVLVPTVSMVGKHLGARKDHPGLKAKENDENCGPTTTVFVGNISEKASDMLIRQLLAKCGLVLSWKRVQGASGKLQAFGFCEYKEPESTLRALRLLHDLQIGEKKLLVKVDAKTKAQLDEWKAKKKASNGNARPETVTNDDEEALDEETKRRDQMIKGAIEVLIREYSSELNAPSQESDSHPRKKKKEKKEDIFRRFPVAPLIPYPLITKEDINAIEMEEDKRDLISREISKFRDTHKKLEEEKGKKEKERQEIEKERRERERERERERERREREREREREREREKEKERERERERDRDRDRTKERDRDRDRERDRDRDRERSSDRNKDRSRSREKSRDREREREREREREREREREREREREREREREREREREKDKKRDREEDEEDAYERRKLERKLREKEAAYQERLKNWEIRERKKTREYEKEAEREEERRREMAKEAKRLKEFLEDYDDDRDDPKYYRGSALQKRLRDREKEMEADERDRKREKEELEEIRQRLLAEGHPDPDAELQRMEQEAERRRQPQIKQEPESEEEEEEKQEKEEKREEPMEEEEEPEQKPCLKPTLRPISSAPSVSSASGNATPNTPGDESPCGIIIPHENSPDQQQPEEHRPKIGLSLKLGASNSPGQPNSVKRKKLPVDSVFNKFEDEDSDDVPRKRKLVPLDYGEDDKNATKGTVNTEEKRKHIKSLIEKIPTAKPELFAYPLDWSIVDSILMERRIRPWINKKIIEYIGEEEATLVDFVCSKVMAHSSPQSILDDVAMVLDEEAEVFIVKMWRLLIYETEAKKIGLVK', 'length': 843, 'molWeight': 100185, 'crc64': '80534590147A342A', 'md5': 'C968CDB51690A71ABB77CAA49D926B6E'}, 'extraAttributes': {'uniParcId': 'UPI0000373D58'}}\n"
     ]
    },
    {
     "name": "stderr",
     "output_type": "stream",
     "text": [
      "Fetching sequences:  33%|███▎      | 156/469 [01:10<02:25,  2.16it/s]"
     ]
    },
    {
     "name": "stdout",
     "output_type": "stream",
     "text": [
      "{'entryType': 'UniProtKB reviewed (Swiss-Prot)', 'primaryAccession': 'Q9GZR7', 'proteinDescription': {'recommendedName': {'fullName': {'value': 'ATP-dependent RNA helicase DDX24'}, 'ecNumbers': [{'value': '3.6.4.13'}]}, 'alternativeNames': [{'fullName': {'value': 'DEAD box protein 24'}}]}, 'genes': [{'geneName': {'value': 'DDX24'}}], 'sequence': {'value': 'MKLKDTKSRPKQSSCGKFQTKGIKVVGKWKEVKIDPNMFADGQMDDLVCFEELTDYQLVSPAKNPSSLFSKEAPKRKAQAVSEEEEEEEGKSSSPKKKIKLKKSKNVATEGTSTQKEFEVKDPELEAQGDDMVCDDPEAGEMTSENLVQTAPKKKKNKGKKGLEPSQSTAAKVPKKAKTWIPEVHDQKADVSAWKDLFVPRPVLRALSFLGFSAPTPIQALTLAPAIRDKLDILGAAETGSGKTLAFAIPMIHAVLQWQKRNAAPPPSNTEAPPGETRTEAGAETRSPGKAEAESDALPDDTVIESEALPSDIAAEARAKTGGTVSDQALLFGDDDAGEGPSSLIREKPVPKQNENEEENLDKEQTGNLKQELDDKSATCKAYPKRPLLGLVLTPTRELAVQVKQHIDAVARFTGIKTAILVGGMSTQKQQRMLNRRPEIVVATPGRLWELIKEKHYHLRNLRQLRCLVVDEADRMVEKGHFAELSQLLEMLNDSQYNPKRQTLVFSATLTLVHQAPARILHKKHTKKMDKTAKLDLLMQKIGMRGKPKVIDLTRNEATVETLTETKIHCETDEKDFYLYYFLMQYPGRSLVFANSISCIKRLSGLLKVLDIMPLTLHACMHQKQRLRNLEQFARLEDCVLLATDVAARGLDIPKVQHVIHYQVPRTSEIYVHRSGRTARATNEGLSLMLIGPEDVINFKKIYKTLKKDEDIPLFPVQTKYMDVVKERIRLARQIEKSEYRNFQACLHNSWIEQAAAALEIELEEDMYKGGKADQQEERRRQKQMKVLKKELRHLLSQPLFTESQKTKYPTQSGKPPLLVSAPSKSESALSCLSKQKKKKTKKPKEPQPEQPQPSTSAN', 'length': 859, 'molWeight': 96332, 'crc64': 'B01B1170B2CFA0F7', 'md5': 'D06B9501DB4C58962B22BFCBFA16B00D'}, 'extraAttributes': {'uniParcId': 'UPI0000129082'}}\n"
     ]
    },
    {
     "name": "stderr",
     "output_type": "stream",
     "text": [
      "Fetching sequences:  33%|███▎      | 157/469 [01:11<02:22,  2.19it/s]"
     ]
    },
    {
     "name": "stdout",
     "output_type": "stream",
     "text": [
      "{'entryType': 'UniProtKB reviewed (Swiss-Prot)', 'primaryAccession': 'Q5T280', 'proteinDescription': {'recommendedName': {'fullName': {'evidences': [{'evidenceCode': 'ECO:0000305'}], 'value': 'Putative methyltransferase C9orf114'}, 'ecNumbers': [{'evidences': [{'evidenceCode': 'ECO:0000305'}], 'value': '2.1.1.-'}]}, 'alternativeNames': [{'fullName': {'evidences': [{'evidenceCode': 'ECO:0000303', 'source': 'PubMed', 'id': '25657325'}], 'value': 'Centromere protein 32'}, 'shortNames': [{'evidences': [{'evidenceCode': 'ECO:0000303', 'source': 'PubMed', 'id': '25657325'}], 'value': 'CENP-32'}]}, {'fullName': {'evidences': [{'evidenceCode': 'ECO:0000303', 'source': 'PubMed', 'id': '20813266'}], 'value': 'Kinetochore-associated protein'}}, {'fullName': {'evidences': [{'evidenceCode': 'ECO:0000312', 'source': 'HGNC', 'id': 'HGNC:26933'}], 'value': 'SPOUT domain-containing methyltransferase 1'}}]}, 'genes': [{'geneName': {'evidences': [{'evidenceCode': 'ECO:0000312', 'source': 'HGNC', 'id': 'HGNC:26933'}], 'value': 'SPOUT1'}, 'synonyms': [{'value': 'C9orf114'}]}], 'sequence': {'value': 'MAERGRKRPCGPGEHGQRIEWRKWKQQKKEEKKKWKDLKLMKKLERQRAQEEQAKRLEEEEAAAEKEDRGRPYTLSVALPGSILDNAQSPELRTYLAGQIARACAIFCVDEIVVFDEEGQDAKTVEGEFTGVGKKGQACVQLARILQYLECPQYLRKAFFPKHQDLQFAGLLNPLDSPHHMRQDEESEFREGIVVDRPTRPGHGSFVNCGMKKEVKIDKNLEPGLRVTVRLNQQQHPDCKTYHGKVVSSQDPRTKAGLYWGYTVRLASCLSAVFAEAPFQDGYDLTIGTSERGSDVASAQLPNFRHALVVFGGLQGLEAGADADPNLEVAEPSVLFDLYVNTCPGQGSRTIRTEEAILISLAALQPGLIQAGARHT', 'length': 376, 'molWeight': 42009, 'crc64': '30A5AA406834DC27', 'md5': 'AA29F129371D0B710BCA4A578B747595'}, 'extraAttributes': {'uniParcId': 'UPI0000140A15'}}\n"
     ]
    },
    {
     "name": "stderr",
     "output_type": "stream",
     "text": [
      "Fetching sequences:  34%|███▎      | 158/469 [01:11<02:20,  2.22it/s]"
     ]
    },
    {
     "name": "stdout",
     "output_type": "stream",
     "text": [
      "{'entryType': 'UniProtKB reviewed (Swiss-Prot)', 'primaryAccession': 'Q02241', 'proteinDescription': {'recommendedName': {'fullName': {'value': 'Kinesin-like protein KIF23'}}, 'alternativeNames': [{'fullName': {'value': 'Kinesin-like protein 5'}}, {'fullName': {'value': 'Mitotic kinesin-like protein 1'}}]}, 'genes': [{'geneName': {'value': 'KIF23'}, 'synonyms': [{'value': 'KNSL5'}, {'value': 'MKLP1'}]}], 'sequence': {'value': 'MKSARAKTPRKPTVKKGSQTNLKDPVGVYCRVRPLGFPDQECCIEVINNTTVQLHTPEGYRLNRNGDYKETQYSFKQVFGTHTTQKELFDVVANPLVNDLIHGKNGLLFTYGVTGSGKTHTMTGSPGEGGLLPRCLDMIFNSIGSFQAKRYVFKSNDRNSMDIQCEVDALLERQKREAMPNPKTSSSKRQVDPEFADMITVQEFCKAEEVDEDSVYGVFVSYIEIYNNYIYDLLEEVPFDPIKPKPPQSKLLREDKNHNMYVAGCTEVEVKSTEEAFEVFWRGQKKRRIANTHLNRESSRSHSVFNIKLVQAPLDADGDNVLQEKEQITISQLSLVDLAGSERTNRTRAEGNRLREAGNINQSLMTLRTCMDVLRENQMYGTNKMVPYRDSKLTHLFKNYFDGEGKVRMIVCVNPKAEDYEENLQVMRFAEVTQEVEVARPVDKAICGLTPGRRYRNQPRGPVGNEPLVTDVVLQSFPPLPSCEILDINDEQTLPRLIEALEKRHNLRQMMIDEFNKQSNAFKALLQEFDNAVLSKENHMQGKLNEKEKMISGQKLEIERLEKKNKTLEYKIEILEKTTTIYEEDKRNLQQELETQNQKLQRQFSDKRRLEARLQGMVTETTMKWEKECERRVAAKQLEMQNKLWVKDEKLKQLKAIVTEPKTEKPERPSRERDREKVTQRSVSPSPVPLSSNYIAQISNGQQLMSQPQLHRRSNSCSSISVASCISEWEQKIPTYNTPLKVTSIARRRQQEPGQSKTCIVSDRRRGMYWTEGREVVPTFRNEIEIEEDHCGRLLFQPDQNAPPIRLRHRRSRSAGDRWVDHKPASNMQTETVMQPHVPHAITVSVANEKALAKCEKYMLTHQELASDGEIETKLIKGDIYKTRGGGQSVQFTDIETLKQESPNGSRKRRSSTVAPAQPDGAESEWTDVETRCSVAVEMRAGSQLGPGYQHHAQPKRKKP', 'length': 960, 'molWeight': 110059, 'crc64': 'B2AA784D2D236A90', 'md5': 'D2F09390A5E103D47089039EC50C118E'}, 'extraAttributes': {'uniParcId': 'UPI0000072141'}}\n"
     ]
    },
    {
     "name": "stderr",
     "output_type": "stream",
     "text": [
      "Fetching sequences:  34%|███▍      | 159/469 [01:12<02:18,  2.23it/s]"
     ]
    },
    {
     "name": "stdout",
     "output_type": "stream",
     "text": [
      "{'entryType': 'UniProtKB reviewed (Swiss-Prot)', 'primaryAccession': 'Q5JTH9', 'proteinDescription': {'recommendedName': {'fullName': {'value': 'RRP12-like protein'}}}, 'genes': [{'geneName': {'value': 'RRP12'}, 'synonyms': [{'value': 'KIAA0690'}]}], 'sequence': {'value': 'MGRSGKLPSGVSAKLKRWKKGHSSDSNPAICRHRQAARSRFFSRPSGRSDLTVDAVKLHNELQSGSLRLGKSEAPETPMEEEAELVLTEKSSGTFLSGLSDCTNVTFSKVQRFWESNSAAHKEICAVLAAVTEVIRSQGGKETETEYFAALMTTMEAVESPESLAAVAYLLNLVLKRVPSPVLIKKFSDTSKAFMDIMSAQASSGSTSVLRWVLSCLATLLRKQDLEAWGYPVTLQVYHGLLSFTVHPKPKIRKAAQHGVCSVLKGSEFMFEKAPAHHPAAISTAKFCIQEIEKSGGSKEATTTLHMLTLLKDLLPCFPEGLVKSCSETLLRVMTLSHVLVTACAMQAFHSLFHARPGLSTLSAELNAQIITALYDYVPSENDLQPLLAWLKVMEKAHINLVRLQWDLGLGHLPRFFGTAVTCLLSPHSQVLTAATQSLKEILKECVAPHMADIGSVTSSASGPAQSVAKMFRAVEEGLTYKFHAAWSSVLQLLCVFFEACGRQAHPVMRKCLQSLCDLRLSPHFPHTAALDQAVGAAVTSMGPEVVLQAVPLEIDGSEETLDFPRSWLLPVIRDHVQETRLGFFTTYFLPLANTLKSKAMDLAQAGSTVESKIYDTLQWQMWTLLPGFCTRPTDVAISFKGLARTLGMAISERPDLRVTVCQALRTLITKGCQAEADRAEVSRFAKNFLPILFNLYGQPVAAGDTPAPRRAVLETIRTYLTITDTQLVNSLLEKASEKVLDPASSDFTRLSVLDLVVALAPCADEAAISKLYSTIRPYLESKAHGVQKKAYRVLEEVCASPQGPGALFVQSHLEDLKKTLLDSLRSTSSPAKRPRLKCLLHIVRKLSAEHKEFITALIPEVILCTKEVSVGARKNAFALLVEMGHAFLRFGSNQEEALQCYLVLIYPGLVGAVTMVSCSILALTHLLFEFKGLMGTSTVEQLLENVCLLLASRTRDVVKSALGFIKVAVTVMDVAHLAKHVQLVMEAIGKLSDDMRRHFRMKLRNLFTKFIRKFGFELVKRLLPEEYHRVLVNIRKAEARAKRHRALSQAAVEEEEEEEEEEEPAQGKGDSIEEILADSEDEEDNEEEERSRGKEQRKLARQRSRAWLKEGGGDEPLNFLDPKVAQRVLATQPGPGRGRKKDHGFKVSADGRLIIREEADGNKMEEEEGAKGEDEEMADPMEDVIIRNKKHQKLKHQKEAEEEELEIPPQYQAGGSGIHRPVAKKAMPGAEYKAKKAKGDVKKKGRPDPYAYIPLNRSKLNRRKKMKLQGQFKGLVKAARRGSQVGHKNRRKDRRP', 'length': 1297, 'molWeight': 143702, 'crc64': '23A203CBFB7C46D3', 'md5': '57BA2096F5AE875B96C8BDD186973665'}, 'extraAttributes': {'uniParcId': 'UPI000013E51C'}}\n"
     ]
    },
    {
     "name": "stderr",
     "output_type": "stream",
     "text": [
      "Fetching sequences:  34%|███▍      | 160/469 [01:12<02:17,  2.24it/s]"
     ]
    },
    {
     "name": "stdout",
     "output_type": "stream",
     "text": [
      "{'entryType': 'UniProtKB reviewed (Swiss-Prot)', 'primaryAccession': 'Q9H8H0', 'proteinDescription': {'recommendedName': {'fullName': {'value': 'Nucleolar protein 11'}}}, 'genes': [{'geneName': {'value': 'NOL11'}, 'orfNames': [{'value': 'L14'}]}], 'sequence': {'value': 'MAALEEEFTLSSVVLSAGPEGLLGVEQSDKTDQFLVTDSGRTVILYKVSDQKPLGSWSVKQGQIITCPAVCNFQTGEYVVVHDNKVLRIWNNEDVNLDKVFKATLSAEVYRILSVQGTEPLVLFKEGAVRGLEALLADPQQKIETVISDEEVIKWTKFFVVFRHPVLIFITEKHGNYFAYVQMFNSRILTKYTLLLGQDENSVIKSFTASVDRKFISLMSLSSDGCIYETLIPIRPADPEKNQSLVKSLLLKAVVSGNARNGVALTALDQDHVAVLGSPLAASKECLSVWNIKFQTLQTSKELPQGTSGQLWYYGEHLFMLHGKSLTVIPYKCEVSSLAGALGKLKHSQDPGTHVVSHFVNWETPQGCGLGFQNSEQSRRILRRRKIEVSLQPEVPPSKQLLSTIMKDSEKHIEVEVRKFLALKQTPDFHTVIGDTVTGLLERCKAEPSFYPRNCLMQLIQTHVLSYSLCPDLMEIALKKKDVQLLQLCLQQFPDIPESVTCACLKIFLSIGDDSLQETDVNMESVFDYSINSVHDEKMEEQTEILQNGFNPEEDKCNNCDQELNKKPQDETKESTSCPVVQKRAALLNAILHSAYSETFLLPHLKDIPAQHITLFLKYLYFLYLKCSENATMTLPGIHPPTLNQIMDWICLLLDANFTVVVMMPEAKRLLINLYKLVKSQISVYSELNKIEVSFRELQKLNQEKNNRGLYSIEVLELF', 'length': 719, 'molWeight': 81124, 'crc64': 'B794F7A2635453DF', 'md5': '2155AC3A24E1EEF1D540E57B4555B048'}, 'extraAttributes': {'uniParcId': 'UPI0000072B83'}}\n"
     ]
    },
    {
     "name": "stderr",
     "output_type": "stream",
     "text": [
      "Fetching sequences:  34%|███▍      | 161/469 [01:13<02:16,  2.25it/s]"
     ]
    },
    {
     "name": "stdout",
     "output_type": "stream",
     "text": [
      "{'entryType': 'UniProtKB reviewed (Swiss-Prot)', 'primaryAccession': 'Q9UNX4', 'proteinDescription': {'recommendedName': {'fullName': {'value': 'WD repeat-containing protein 3'}}}, 'genes': [{'geneName': {'evidences': [{'evidenceCode': 'ECO:0000312', 'source': 'HGNC', 'id': 'HGNC:12755'}], 'value': 'WDR3'}}], 'sequence': {'value': 'MGLTKQYLRYVASAVFGVIGSQKGNIVFVTLRGEKGRYVAVPACEHVFIWDLRKGEKILILQGLKQEVTCLCPSPDGLHLAVGYEDGSIRIFSLLSGEGNVTFNGHKAAITTLKYDQLGGRLASGSKDTDIIVWDVINESGLYRLKGHKDAITQALFLREKNLLVTSGKDTMVKWWDLDTQHCFKTMVGHRTEVWGLVLLSEEKRLITGASDSELRVWDIAYLQEIEDPEEPDPKKIKGSSPGIQDTLEAEDGAFETDEAPEDRILSCRKAGSIMREGRDRVVNLAVDKTGRILACHGTDSVLELFCILSKKEIQKKMDKKMKKARKKAKLHSSKGEEEDPEVNVEMSLQDEIQRVTNIKTSAKIKSFDLIHSPHGELKAVFLLQNNLVELYSLNPSLPTPQPVRTSRITIGGHRSDVRTLSFSSDNIAVLSAAADSIKIWNRSTLQCIRTMTCEYALCSFFVPGDRQVVIGTKTGKLQLYDLASGNLLETIDAHDGALWSMSLSPDQRGFVTGGADKSVKFWDFELVKDENSTQKRLSVKQTRTLQLDEDVLCVSYSPNQKLLAVSLLDCTVKIFYVDTLKFFLSLYGHKLPVICMDISHDGALIATGSADRNVKIWGLDFGDCHKSLFAHDDSVMYLQFVPKSHLFFTAGKDHKIKQWDADKFEHIQTLEGHHQEIWCLAVSPSGDYVVSSSHDKSLRLWERTREPLILEEEREMEREAEYEESVAKEDQPAVPGETQGDSYFTGKKTIETVKAAERIMEAIELYREETAKMKEHKAICKAAGKEVPLPSNPILMAYGSISPSAYVLEIFKGIKSSELEESLLVLPFSYVPDILKLFNEFIQLGSDVELICRCLFFLLRIHFGQITSNQMLVPVIEKLRETTISKVSQVRDVIGFNMAGLDYLKRECEAKSEVMFFADATSHLEEKKRKRKKREKLILTLT', 'length': 943, 'molWeight': 106099, 'crc64': '316A151738D91AD7', 'md5': 'BC6AD65F2570600611C0C1430072C7C9'}, 'extraAttributes': {'uniParcId': 'UPI0000138EDC'}}\n"
     ]
    },
    {
     "name": "stderr",
     "output_type": "stream",
     "text": [
      "Fetching sequences:  35%|███▍      | 162/469 [01:13<02:16,  2.24it/s]"
     ]
    },
    {
     "name": "stdout",
     "output_type": "stream",
     "text": [
      "{'entryType': 'UniProtKB reviewed (Swiss-Prot)', 'primaryAccession': 'P34932', 'proteinDescription': {'recommendedName': {'fullName': {'value': 'Heat shock 70 kDa protein 4'}}, 'alternativeNames': [{'fullName': {'value': 'HSP70RY'}}, {'fullName': {'value': 'Heat shock 70-related protein APG-2'}}, {'fullName': {'evidences': [{'evidenceCode': 'ECO:0000303', 'source': 'PubMed', 'id': '18663603'}], 'value': 'Heat shock protein family H member 2'}}]}, 'genes': [{'geneName': {'value': 'HSPA4'}, 'synonyms': [{'value': 'APG2'}, {'evidences': [{'evidenceCode': 'ECO:0000303', 'source': 'PubMed', 'id': '18663603'}], 'value': 'HSPH2'}]}], 'sequence': {'value': 'MSVVGIDLGFQSCYVAVARAGGIETIANEYSDRCTPACISFGPKNRSIGAAAKSQVISNAKNTVQGFKRFHGRAFSDPFVEAEKSNLAYDIVQLPTGLTGIKVTYMEEERNFTTEQVTAMLLSKLKETAESVLKKPVVDCVVSVPCFYTDAERRSVMDATQIAGLNCLRLMNETTAVALAYGIYKQDLPALEEKPRNVVFVDMGHSAYQVSVCAFNRGKLKVLATAFDTTLGGRKFDEVLVNHFCEEFGKKYKLDIKSKIRALLRLSQECEKLKKLMSANASDLPLSIECFMNDVDVSGTMNRGKFLEMCNDLLARVEPPLRSVLEQTKLKKEDIYAVEIVGGATRIPAVKEKISKFFGKELSTTLNADEAVTRGCALQCAILSPAFKVREFSITDVVPYPISLRWNSPAEEGSSDCEVFSKNHAAPFSKVLTFYRKEPFTLEAYYSSPQDLPYPDPAIAQFSVQKVTPQSDGSSSKVKVKVRVNVHGIFSVSSASLVEVHKSEENEEPMETDQNAKEEEKMQVDQEEPHVEEQQQQTPAENKAESEEMETSQAGSKDKKMDQPPQAKKAKVKTSTVDLPIENQLLWQIDREMLNLYIENEGKMIMQDKLEKERNDAKNAVEEYVYEMRDKLSGEYEKFVSEDDRNSFTLKLEDTENWLYEDGEDQPKQVYVDKLAELKNLGQPIKIRFQESEERPKLFEELGKQIQQYMKIISSFKNKEDQYDHLDAADMTKVEKSTNEAMEWMNNKLNLQNKQSLTMDPVVKSKEIEAKIKELTSTCSPIISKPKPKVEPPKEEQKNAEQNGPVDGQGDNPGPQAAEQGTDTAVPSDSDKKLPEMDID', 'length': 840, 'molWeight': 94331, 'crc64': '8B690A52A0729C2A', 'md5': 'A75D7694BD47259A036B415B649CBF8E'}, 'extraAttributes': {'uniParcId': 'UPI000013E9D5'}}\n"
     ]
    },
    {
     "name": "stderr",
     "output_type": "stream",
     "text": [
      "Fetching sequences:  35%|███▍      | 163/469 [01:13<02:17,  2.23it/s]"
     ]
    },
    {
     "name": "stdout",
     "output_type": "stream",
     "text": [
      "{'entryType': 'UniProtKB reviewed (Swiss-Prot)', 'primaryAccession': 'P11388', 'proteinDescription': {'recommendedName': {'fullName': {'value': 'DNA topoisomerase 2-alpha'}, 'ecNumbers': [{'evidences': [{'evidenceCode': 'ECO:0000255', 'source': 'PROSITE-ProRule', 'id': 'PRU00995'}, {'evidenceCode': 'ECO:0000269', 'source': 'PubMed', 'id': '19222228'}, {'evidenceCode': 'ECO:0000269', 'source': 'PubMed', 'id': '19697956'}], 'value': '5.6.2.2'}]}, 'alternativeNames': [{'fullName': {'value': 'DNA topoisomerase II, alpha isozyme'}}]}, 'genes': [{'geneName': {'value': 'TOP2A'}, 'synonyms': [{'value': 'TOP2'}]}], 'sequence': {'value': 'MEVSPLQPVNENMQVNKIKKNEDAKKRLSVERIYQKKTQLEHILLRPDTYIGSVELVTQQMWVYDEDVGINYREVTFVPGLYKIFDEILVNAADNKQRDPKMSCIRVTIDPENNLISIWNNGKGIPVVEHKVEKMYVPALIFGQLLTSSNYDDDEKKVTGGRNGYGAKLCNIFSTKFTVETASREYKKMFKQTWMDNMGRAGEMELKPFNGEDYTCITFQPDLSKFKMQSLDKDIVALMVRRAYDIAGSTKDVKVFLNGNKLPVKGFRSYVDMYLKDKLDETGNSLKVIHEQVNHRWEVCLTMSEKGFQQISFVNSIATSKGGRHVDYVADQIVTKLVDVVKKKNKGGVAVKAHQVKNHMWIFVNALIENPTFDSQTKENMTLQPKSFGSTCQLSEKFIKAAIGCGIVESILNWVKFKAQVQLNKKCSAVKHNRIKGIPKLDDANDAGGRNSTECTLILTEGDSAKTLAVSGLGVVGRDKYGVFPLRGKILNVREASHKQIMENAEINNIIKIVGLQYKKNYEDEDSLKTLRYGKIMIMTDQDQDGSHIKGLLINFIHHNWPSLLRHRFLEEFITPIVKVSKNKQEMAFYSLPEFEEWKSSTPNHKKWKVKYYKGLGTSTSKEAKEYFADMKRHRIQFKYSGPEDDAAISLAFSKKQIDDRKEWLTNFMEDRRQRKLLGLPEDYLYGQTTTYLTYNDFINKELILFSNSDNERSIPSMVDGLKPGQRKVLFTCFKRNDKREVKVAQLAGSVAEMSSYHHGEMSLMMTIINLAQNFVGSNNLNLLQPIGQFGTRLHGGKDSASPRYIFTMLSSLARLLFPPKDDHTLKFLYDDNQRVEPEWYIPIIPMVLINGAEGIGTGWSCKIPNFDVREIVNNIRRLMDGEEPLPMLPSYKNFKGTIEELAPNQYVISGEVAILNSTTIEISELPVRTWTQTYKEQVLEPMLNGTEKTPPLITDYREYHTDTTVKFVVKMTEEKLAEAERVGLHKVFKLQTSLTCNSMVLFDHVGCLKKYDTVLDILRDFFELRLKYYGLRKEWLLGMLGAESAKLNNQARFILEKIDGKIIIENKPKKELIKVLIQRGYDSDPVKAWKEAQQKVPDEEENEESDNEKETEKSDSVTDSGPTFNYLLDMPLWYLTKEKKDELCRLRNEKEQELDTLKRKSPSDLWKEDLATFIEELEAVEAKEKQDEQVGLPGKGGKAKGKKTQMAEVLPSPRGQRVIPRITIEMKAEAEKKNKKKIKNENTEGSPQEDGVELEGLKQRLEKKQKREPGTKTKKQTTLAFKPIKKGKKRNPWSDSESDRSSDESNFDVPPRETEPRRAATKTKFTMDLDSDEDFSDFDEKTDDEDFVPSDASPPKTKTSPKLSNKELKPQKSVVSDLEADDVKGSVPLSSSPPATHFPDETEITNPVPKKNVTVKKTAAKSQSSTSTTGAKKRAAPKGTKRDPALNSGVSQKPDPAKTKNRRKRKPSTSDDSDSNFEKIVSKAVTSKKSKGESDDFHMDFDSAVAPRAKSVRAKKPIKYLEESDEDDLF', 'length': 1531, 'molWeight': 174385, 'crc64': '3DF40BC9E84789DC', 'md5': 'AE87B1102F96AE547F5C389E8403131A'}, 'extraAttributes': {'uniParcId': 'UPI0000137195'}}\n"
     ]
    },
    {
     "name": "stderr",
     "output_type": "stream",
     "text": [
      "Fetching sequences:  35%|███▍      | 164/469 [01:14<02:18,  2.21it/s]"
     ]
    },
    {
     "name": "stdout",
     "output_type": "stream",
     "text": [
      "{'entryType': 'UniProtKB reviewed (Swiss-Prot)', 'primaryAccession': 'P62140', 'proteinDescription': {'recommendedName': {'fullName': {'value': 'Serine/threonine-protein phosphatase PP1-beta catalytic subunit'}, 'shortNames': [{'value': 'PP-1B'}, {'value': 'PPP1CD'}], 'ecNumbers': [{'evidences': [{'evidenceCode': 'ECO:0000269', 'source': 'PubMed', 'id': '35768504'}, {'evidenceCode': 'ECO:0000269', 'source': 'PubMed', 'id': '35831509'}, {'evidenceCode': 'ECO:0000269', 'source': 'PubMed', 'id': '36175670'}], 'value': '3.1.3.16'}, {'value': '3.1.3.53'}]}}, 'genes': [{'geneName': {'value': 'PPP1CB'}}], 'sequence': {'value': 'MADGELNVDSLITRLLEVRGCRPGKIVQMTEAEVRGLCIKSREIFLSQPILLELEAPLKICGDIHGQYTDLLRLFEYGGFPPEANYLFLGDYVDRGKQSLETICLLLAYKIKYPENFFLLRGNHECASINRIYGFYDECKRRFNIKLWKTFTDCFNCLPIAAIVDEKIFCCHGGLSPDLQSMEQIRRIMRPTDVPDTGLLCDLLWSDPDKDVQGWGENDRGVSFTFGADVVSKFLNRHDLDLICRAHQVVEDGYEFFAKRQLVTLFSAPNYCGEFDNAGGMMSVDETLMCSFQILKPSEKKAKYQYGGLNSGRPVTPPRTANPPKKR', 'length': 327, 'molWeight': 37187, 'crc64': 'E8356022E9B94ECD', 'md5': 'C147BB0275A45F4F7D2D4A1BF8D9262D'}, 'extraAttributes': {'uniParcId': 'UPI000000007B'}}\n"
     ]
    },
    {
     "name": "stderr",
     "output_type": "stream",
     "text": [
      "Fetching sequences:  35%|███▌      | 165/469 [01:14<02:19,  2.18it/s]"
     ]
    },
    {
     "name": "stdout",
     "output_type": "stream",
     "text": [
      "{'entryType': 'UniProtKB reviewed (Swiss-Prot)', 'primaryAccession': 'A0JLT2', 'proteinDescription': {'recommendedName': {'fullName': {'value': 'Mediator of RNA polymerase II transcription subunit 19'}}, 'alternativeNames': [{'fullName': {'value': 'Lung cancer metastasis-related protein 1'}}, {'fullName': {'value': 'Mediator complex subunit 19'}}]}, 'genes': [{'geneName': {'value': 'MED19'}, 'synonyms': [{'value': 'LCMR1'}]}], 'sequence': {'value': 'MENFTALFGAQADPPPPPTALGFGPGKPPPPPPPPAGGGPGTAPPPTAATAPPGADKSGAGCGPFYLMRELPGSTELTGSTNLITHYNLEQAYNKFCGKKVKEKLSNFLPDLPGMIDLPGSHDNSSLRSLIEKPPILSSSFNPITGTMLAGFRLHTGPLPEQCRLMHIQPPKKKNKHKHKQSRTQDPVPPETPSDSDHKKKKKKKEEDPDRKRKKKEKKKKKNRHSPDHPGMGSSQASSSSSLR', 'length': 244, 'molWeight': 26273, 'crc64': '9B85721364F33F02', 'md5': '4071944E252B2DE739F37E5145FE1A9B'}, 'extraAttributes': {'uniParcId': 'UPI00015C73F2'}}\n"
     ]
    },
    {
     "name": "stderr",
     "output_type": "stream",
     "text": [
      "Fetching sequences:  35%|███▌      | 166/469 [01:15<02:16,  2.22it/s]"
     ]
    },
    {
     "name": "stdout",
     "output_type": "stream",
     "text": [
      "{'entryType': 'UniProtKB reviewed (Swiss-Prot)', 'primaryAccession': 'Q96T88', 'proteinDescription': {'recommendedName': {'fullName': {'value': 'E3 ubiquitin-protein ligase UHRF1'}, 'ecNumbers': [{'evidences': [{'evidenceCode': 'ECO:0000269', 'source': 'PubMed', 'id': '37728657'}], 'value': '2.3.2.27'}]}, 'alternativeNames': [{'fullName': {'value': 'Inverted CCAAT box-binding protein of 90 kDa'}}, {'fullName': {'value': 'Nuclear protein 95'}}, {'fullName': {'value': 'Nuclear zinc finger protein Np95'}, 'shortNames': [{'value': 'HuNp95'}, {'value': 'hNp95'}]}, {'fullName': {'value': 'RING finger protein 106'}}, {'fullName': {'value': 'RING-type E3 ubiquitin transferase UHRF1'}}, {'fullName': {'value': 'Transcription factor ICBP90'}}, {'fullName': {'value': 'Ubiquitin-like PHD and RING finger domain-containing protein 1'}, 'shortNames': [{'value': 'hUHRF1'}]}, {'fullName': {'value': 'Ubiquitin-like-containing PHD and RING finger domains protein 1'}}]}, 'genes': [{'geneName': {'value': 'UHRF1'}, 'synonyms': [{'value': 'ICBP90'}, {'value': 'NP95'}, {'value': 'RNF106'}]}], 'sequence': {'value': 'MWIQVRTMDGRQTHTVDSLSRLTKVEELRRKIQELFHVEPGLQRLFYRGKQMEDGHTLFDYEVRLNDTIQLLVRQSLVLPHSTKERDSELSDTDSGCCLGQSESDKSSTHGEAAAETDSRPADEDMWDETELGLYKVNEYVDARDTNMGAWFEAQVVRVTRKAPSRDEPCSSTSRPALEEDVIYHVKYDDYPENGVVQMNSRDVRARARTIIKWQDLEVGQVVMLNYNPDNPKERGFWYDAEISRKRETRTARELYANVVLGDDSLNDCRIIFVDEVFKIERPGEGSPMVDNPMRRKSGPSCKHCKDDVNRLCRVCACHLCGGRQDPDKQLMCDECDMAFHIYCLDPPLSSVPSEDEWYCPECRNDASEVVLAGERLRESKKKAKMASATSSSQRDWGKGMACVGRTKECTIVPSNHYGPIPGIPVGTMWRFRVQVSESGVHRPHVAGIHGRSNDGAYSLVLAGGYEDDVDHGNFFTYTGSGGRDLSGNKRTAEQSCDQKLTNTNRALALNCFAPINDQEGAEAKDWRSGKPVRVVRNVKGGKNSKYAPAEGNRYDGIYKVVKYWPEKGKSGFLVWRYLLRRDDDEPGPWTKEGKDRIKKLGLTMQYPEGYLEALANREREKENSKREEEEQQEGGFASPRTGKGKWKRKSAGGGPSRAGSPRRTSKKTKVEPYSLTAQQSSLIREDKSNAKLWNEVLASLKDRPASGSPFQLFLSKVEETFQCICCQELVFRPITTVCQHNVCKDCLDRSFRAQVFSCPACRYDLGRSYAMQVNQPLQTVLNQLFPGYGNGR', 'length': 793, 'molWeight': 89814, 'crc64': 'E65B15657525C89F', 'md5': '8B71F91E0250A24E12F8AB8D23745763'}, 'extraAttributes': {'uniParcId': 'UPI000006D0AD'}}\n"
     ]
    },
    {
     "name": "stderr",
     "output_type": "stream",
     "text": [
      "Fetching sequences:  36%|███▌      | 167/469 [01:15<02:15,  2.23it/s]"
     ]
    },
    {
     "name": "stdout",
     "output_type": "stream",
     "text": [
      "{'entryType': 'UniProtKB unreviewed (TrEMBL)', 'primaryAccession': 'Q5T5E6', 'proteinDescription': {'recommendedName': {'fullName': {'evidences': [{'evidenceCode': 'ECO:0000256', 'source': 'ARBA', 'id': 'ARBA00016212'}], 'value': 'Potassium channel subfamily K member 1'}}, 'flag': 'Fragment'}, 'genes': [{'geneName': {'evidences': [{'evidenceCode': 'ECO:0000313', 'source': 'Ensembl', 'id': 'ENSP00000409626.1'}], 'value': 'KCNK1'}}], 'sequence': {'value': 'VLRVLSPDLVRRLLNLAVRAFQVPKGESLNFPESTPGYGHTVPLSDGGKAFCIIYSVIGIPFTLLFLTAVVQRITVHVTRRPVLYFHIRWGFSKQVVAIVHAVLLGFVTVSCFFFIPAAVFSVLEDDWNFLESFYFCFISLSTIGLGDYVPGEGYNQKFRELYKIGITCYLLLGLIAMLVVLETFCELHELKKFRKMFYVKKDKDEDQVHIIEHDQLSFSSITDQAAGMKEDQKQNEPFVAT', 'length': 242, 'molWeight': 27531, 'crc64': '242014F43B1993DE', 'md5': '05705EDAC522E920274D224639B7CF13'}, 'extraAttributes': {'uniParcId': 'UPI0000470BFF'}}\n"
     ]
    },
    {
     "name": "stderr",
     "output_type": "stream",
     "text": [
      "Fetching sequences:  36%|███▌      | 168/469 [01:16<02:14,  2.24it/s]"
     ]
    },
    {
     "name": "stdout",
     "output_type": "stream",
     "text": [
      "{'entryType': 'UniProtKB reviewed (Swiss-Prot)', 'primaryAccession': 'Q8N9T8', 'proteinDescription': {'recommendedName': {'fullName': {'value': 'Protein KRI1 homolog'}}}, 'genes': [{'geneName': {'value': 'KRI1'}}], 'sequence': {'value': 'MPEPRGSSQLRVNAAFAARYNRYREREELQRLKDRYGDRDSSSDSSSESDSSDERVEFDPQQERDFYKTLSLLKKKDPRIYQKDATFYNRTASSSDSEEDPEALEKQKKVRPMYLKDYERKVILEKAGKYVDEENSDGETSNHRLQETSSQSYVEEQKQLKESFRAFVEDSEDEDGAGEGGSSLLQKRAKTRQEKAQEEADYIEWLKGQKEIRNPDSLKELTHLKEYWNDPELDEGERFLRDYILNKRYEEEEEEEEDEEEMEEEEGVHGPPVQLAVDDSSDEGELFLKKQEDFEQKYNFRFEEPDSASVKTYPRSIASSVRRKDERRKEKREETRERKKREKAKKQEELKQLKNLKRKEILAKLEKLRKVTGNEMLGLEEGDLEDDFDPAQHDQLMQKCFGDEYYGAVEEEKPQFEEEEGLEDDWNWDTWDGPEQEGDWSQQELHCEDPNFNMDADYDPSQPRKKKREAPLTGKKKRKSPFAAAVGQEKPVFEPGDKTFEEYLDEYYRLDYEDIIDDLPCRFKYRTVVPCDFGLSTEEILAADDKELNRWCSLKKTCMYRSEQEELRDKRAYSQKAQNSWKKRQVFKSLCREEAETPAEATGKPQRDEAGPQRQLPALDGSLMGPESPPAQEEEAPVSPHKKPAPQKRRRAKKARLLGPTVMLGGCEFSRQRLQAFGLNPKRLHFRQLGRQRRKQQGPKNSS', 'length': 703, 'molWeight': 82598, 'crc64': '0C34E54AB1250141', 'md5': '9D36F0A82F128A9BF8C1EEABD07A8601'}, 'extraAttributes': {'uniParcId': 'UPI0000203328'}}\n"
     ]
    },
    {
     "name": "stderr",
     "output_type": "stream",
     "text": [
      "Fetching sequences:  36%|███▌      | 169/469 [01:16<02:14,  2.24it/s]"
     ]
    },
    {
     "name": "stdout",
     "output_type": "stream",
     "text": [
      "{'entryType': 'UniProtKB reviewed (Swiss-Prot)', 'primaryAccession': 'Q15361', 'proteinDescription': {'recommendedName': {'fullName': {'value': 'Transcription termination factor 1'}, 'shortNames': [{'value': 'TTF-1'}]}, 'alternativeNames': [{'fullName': {'value': 'RNA polymerase I termination factor'}}, {'fullName': {'value': 'Transcription termination factor I'}, 'shortNames': [{'value': 'TTF-I'}]}]}, 'genes': [{'geneName': {'value': 'TTF1'}}], 'sequence': {'value': 'MEGESSRFEIHTPVSDKKKKKCSIHKERPQKHSHEIFRDSSLVNEQSQITRRKKRKKDFQHLISSPLKKSRICDETANATSTLKKRKKRRYSALEVDEEAGVTVVLVDKENINNTPKHFRKDVDVVCVDMSIEQKLPRKPKTDKFQVLAKSHAHKSEALHSKVREKKNKKHQRKAASWESQRARDTLPQSESHQEESWLSVGPGGEITELPASAHKNKSKKKKKKSSNREYETLAMPEGSQAGREAGTDMQESQPTVGLDDETPQLLGPTHKKKSKKKKKKKSNHQEFEALAMPEGSQVGSEVGADMQESRPAVGLHGETAGIPAPAYKNKSKKKKKKSNHQEFEAVAMPESLESAYPEGSQVGSEVGTVEGSTALKGFKESNSTKKKSKKRKLTSVKRARVSGDDFSVPSKNSESTLFDSVEGDGAMMEEGVKSRPRQKKTQACLASKHVQEAPRLEPANEEHNVETAEDSEIRYLSADSGDADDSDADLGSAVKQLQEFIPNIKDRATSTIKRMYRDDLERFKEFKAQGVAIKFGKFSVKENKQLEKNVEDFLALTGIESADKLLYTDRYPEEKSVITNLKRRYSFRLHIGRNIARPWKLIYYRAKKMFDVNNYKGRYSEGDTEKLKMYHSLLGNDWKTIGEMVARSSLSVALKFSQISSQRNRGAWSKSETRKLIKAVEEVILKKMSPQELKEVDSKLQENPESCLSIVREKLYKGISWVEVEAKVQTRNWMQCKSKWTEILTKRMTNGRRIYYGMNALRAKVSLIERLYEINVEDTNEIDWEDLASAIGDVPPSYVQTKFSRLKAVYVPFWQKKTFPEIIDYLYETTLPLLKEKLEKMMEKKGTKIQTPAAPKQVFPFRDIFYYEDDSEGEDIEKESEGQAPCMAHACNSSTLGGQGRWII', 'length': 905, 'molWeight': 103051, 'crc64': '12F829CEFDDF96E8', 'md5': 'E09A5F52970D913FAB10B8B19D98BAAC'}, 'extraAttributes': {'uniParcId': 'UPI00001B55A7'}}\n"
     ]
    },
    {
     "name": "stderr",
     "output_type": "stream",
     "text": [
      "Fetching sequences:  36%|███▌      | 170/469 [01:17<02:12,  2.25it/s]"
     ]
    },
    {
     "name": "stdout",
     "output_type": "stream",
     "text": [
      "{'entryType': 'UniProtKB reviewed (Swiss-Prot)', 'primaryAccession': 'O43660', 'proteinDescription': {'recommendedName': {'fullName': {'value': 'Pleiotropic regulator 1'}}}, 'genes': [{'geneName': {'value': 'PLRG1'}}], 'sequence': {'value': 'MVEEVQKHSVHTLVFRSLKRTHDMFVADNGKPVPLDEESHKRKMAIKLRNEYGPVLHMPTSKENLKEKGPQNATDSYVHKQYPANQGQEVEYFVAGTHPYPPGPGVALTADTKIQRMPSESAAQSLAVALPLQTKADANRTAPSGSEYRHPGASDRPQPTAMNSIVMETGNTKNSALMAKKAPTMPKPQWHPPWKLYRVISGHLGWVRCIAVEPGNQWFVTGSADRTIKIWDLASGKLKLSLTGHISTVRGVIVSTRSPYLFSCGEDKQVKCWDLEYNKVIRHYHGHLSAVYGLDLHPTIDVLVTCSRDSTARIWDVRTKASVHTLSGHTNAVATVRCQAAEPQIITGSHDTTIRLWDLVAGKTRVTLTNHKKSVRAVVLHPRHYTFASGSPDNIKQWKFPDGSFIQNLSGHNAIINTLTVNSDGVLVSGADNGTMHLWDWRTGYNFQRVHAAVQPGSLDSESGIFACAFDQSESRLLTAEADKTIKVYREDDTATEETHPVSWKPEIIKRKRF', 'length': 514, 'molWeight': 57194, 'crc64': '8C914CAF5F7887BD', 'md5': '4E7031D02857242AFF594DE95E576D85'}, 'extraAttributes': {'uniParcId': 'UPI0000070B39'}}\n"
     ]
    },
    {
     "name": "stderr",
     "output_type": "stream",
     "text": [
      "Fetching sequences:  36%|███▋      | 171/469 [01:17<02:12,  2.24it/s]"
     ]
    },
    {
     "name": "stdout",
     "output_type": "stream",
     "text": [
      "{'entryType': 'UniProtKB reviewed (Swiss-Prot)', 'primaryAccession': 'P35659', 'proteinDescription': {'recommendedName': {'fullName': {'value': 'Protein DEK'}}}, 'genes': [{'geneName': {'value': 'DEK'}}], 'sequence': {'value': 'MSASAPAAEGEGTPTQPASEKEPEMPGPREESEEEEDEDDEEEEEEEKEKSLIVEGKREKKKVERLTMQVSSLQREPFTIAQGKGQKLCEIERIHFFLSKKKTDELRNLHKLLYNRPGTVSSLKKNVGQFSGFPFEKGSVQYKKKEEMLKKFRNAMLKSICEVLDLERSGVNSELVKRILNFLMHPKPSGKPLPKSKKTCSKGSKKERNSSGMARKAKRTKCPEILSDESSSDEDEKKNKEESSDDEDKESEEEPPKKTAKREKPKQKATSKSKKSVKSANVKKADSSTTKKNQNSSKKESESEDSSDDEPLIKKLKKPPTDEELKETIKKLLASANLEEVTMKQICKKVYENYPTYDLTERKDFIKTTVKELIS', 'length': 375, 'molWeight': 42674, 'crc64': 'C07D22B37B719A23', 'md5': 'A8CCE1AA6178E4C23BB8D3E7B8D5CB08'}, 'extraAttributes': {'uniParcId': 'UPI0000001C2C'}}\n"
     ]
    },
    {
     "name": "stderr",
     "output_type": "stream",
     "text": [
      "Fetching sequences:  37%|███▋      | 172/469 [01:18<02:12,  2.25it/s]"
     ]
    },
    {
     "name": "stdout",
     "output_type": "stream",
     "text": [
      "{'entryType': 'UniProtKB reviewed (Swiss-Prot)', 'primaryAccession': 'Q96DI7', 'proteinDescription': {'recommendedName': {'fullName': {'value': 'U5 small nuclear ribonucleoprotein 40 kDa protein'}, 'shortNames': [{'value': 'U5 snRNP 40 kDa protein'}, {'value': 'U5-40K'}]}, 'alternativeNames': [{'fullName': {'value': '38 kDa-splicing factor'}}, {'fullName': {'value': 'Prp8-binding protein'}, 'shortNames': [{'value': 'hPRP8BP'}]}, {'fullName': {'value': 'U5 snRNP-specific 40 kDa protein'}}, {'fullName': {'value': 'WD repeat-containing protein 57'}}]}, 'genes': [{'geneName': {'value': 'SNRNP40'}, 'synonyms': [{'value': 'PRP8BP'}, {'value': 'SFP38'}, {'value': 'WDR57'}]}], 'sequence': {'value': 'MIEQQKRKGPELPLVPVKRQRHELLLGAGSGPGAGQQQATPGALLQAGPPRCSSLQAPIMLLSGHEGEVYCCKFHPNGSTLASAGFDRLILLWNVYGDCDNYATLKGHSGAVMELHYNTDGSMLFSASTDKTVAVWDSETGERVKRLKGHTSFVNSCYPARRGPQLVCTGSDDGTVKLWDIRKKAAIQTFQNTYQVLAVTFNDTSDQIISGGIDNDIKVWDLRQNKLTYTMRGHADSVTGLSLSSEGSYLLSNAMDNTVRVWDVRPFAPKERCVKIFQGNVHNFEKNLLRCSWSPDGSKIAAGSADRFVYVWDTTSRRILYKLPGHAGSINEVAFHPDEPIIISASSDKRLYMGEIQ', 'length': 357, 'molWeight': 39311, 'crc64': 'DE8CADEB098E560C', 'md5': 'D11C710A973118587545C72708887FE2'}, 'extraAttributes': {'uniParcId': 'UPI000006FD38'}}\n"
     ]
    },
    {
     "name": "stderr",
     "output_type": "stream",
     "text": [
      "Fetching sequences:  37%|███▋      | 173/469 [01:18<02:11,  2.26it/s]"
     ]
    },
    {
     "name": "stdout",
     "output_type": "stream",
     "text": [
      "{'entryType': 'UniProtKB reviewed (Swiss-Prot)', 'primaryAccession': 'Q96CW1', 'proteinDescription': {'recommendedName': {'fullName': {'evidences': [{'evidenceCode': 'ECO:0000305'}], 'value': 'AP-2 complex subunit mu'}}, 'alternativeNames': [{'fullName': {'value': 'AP-2 mu chain'}}, {'fullName': {'value': 'Adaptin-mu2'}}, {'fullName': {'value': 'Adaptor protein complex AP-2 subunit mu'}}, {'fullName': {'value': 'Adaptor-related protein complex 2 subunit mu'}}, {'fullName': {'value': 'Clathrin assembly protein complex 2 mu medium chain'}}, {'fullName': {'value': 'Clathrin coat assembly protein AP50'}}, {'fullName': {'value': 'Clathrin coat-associated protein AP50'}}, {'fullName': {'value': 'HA2 50 kDa subunit'}}, {'fullName': {'value': 'Plasma membrane adaptor AP-2 50 kDa protein'}}]}, 'genes': [{'geneName': {'evidences': [{'evidenceCode': 'ECO:0000312', 'source': 'HGNC', 'id': 'HGNC:564'}], 'value': 'AP2M1'}, 'synonyms': [{'value': 'CLAPM1'}, {'value': 'KIAA0109'}]}], 'sequence': {'value': 'MIGGLFIYNHKGEVLISRVYRDDIGRNAVDAFRVNVIHARQQVRSPVTNIARTSFFHVKRSNIWLAAVTKQNVNAAMVFEFLYKMCDVMAAYFGKISEENIKNNFVLIYELLDEILDFGYPQNSETGALKTFITQQGIKSQHQTKEEQSQITSQVTGQIGWRREGIKYRRNELFLDVLESVNLLMSPQGQVLSAHVSGRVVMKSYLSGMPECKFGMNDKIVIEKQGKGTADETSKSGKQSIAIDDCTFHQCVRLSKFDSERSISFIPPDGEFELMRYRTTKDIILPFRVIPLVREVGRTKLEVKVVIKSNFKPSLLAQKIEVRIPTPLNTSGVQVICMKGKAKYKASENAIVWKIKRMAGMKESQISAEIELLPTNDKKKWARPPISMNFEVPFAPSGLKVRYLKVFEPKLNYSDHDVIKWVRYIGRSGIYETRC', 'length': 435, 'molWeight': 49655, 'crc64': '82803219BA279954', 'md5': 'B579B0ED72E262BFE1DA8D27B54DAF55'}, 'extraAttributes': {'uniParcId': 'UPI0000000DD8'}}\n"
     ]
    },
    {
     "name": "stderr",
     "output_type": "stream",
     "text": [
      "Fetching sequences:  37%|███▋      | 174/469 [01:18<02:09,  2.28it/s]"
     ]
    },
    {
     "name": "stdout",
     "output_type": "stream",
     "text": [
      "{'entryType': 'UniProtKB reviewed (Swiss-Prot)', 'primaryAccession': 'P49368', 'proteinDescription': {'recommendedName': {'fullName': {'value': 'T-complex protein 1 subunit gamma'}, 'shortNames': [{'value': 'TCP-1-gamma'}]}, 'alternativeNames': [{'fullName': {'value': 'CCT-gamma'}}, {'fullName': {'value': 'Chaperonin containing T-complex polypeptide 1 subunit 3'}}, {'fullName': {'value': 'hTRiC5'}}]}, 'genes': [{'geneName': {'value': 'CCT3'}, 'synonyms': [{'value': 'CCTG'}, {'value': 'TRIC5'}]}], 'sequence': {'value': 'MMGHRPVLVLSQNTKRESGRKVQSGNINAAKTIADIIRTCLGPKSMMKMLLDPMGGIVMTNDGNAILREIQVQHPAAKSMIEISRTQDEEVGDGTTSVIILAGEMLSVAEHFLEQQMHPTVVISAYRKALDDMISTLKKISIPVDISDSDMMLNIINSSITTKAISRWSSLACNIALDAVKMVQFEENGRKEIDIKKYARVEKIPGGIIEDSCVLRGVMINKDVTHPRMRRYIKNPRIVLLDSSLEYKKGESQTDIEITREEDFTRILQMEEEYIQQLCEDIIQLKPDVVITEKGISDLAQHYLMRANITAIRRVRKTDNNRIARACGARIVSRPEELREDDVGTGAGLLEIKKIGDEYFTFITDCKDPKACTILLRGASKEILSEVERNLQDAMQVCRNVLLDPQLVPGGGASEMAVAHALTEKSKAMTGVEQWPYRAVAQALEVIPRTLIQNCGASTIRLLTSLRAKHTQENCETWGVNGETGTLVDMKELGIWEPLAVKLQTYKTAVETAVLLLRIDDIVSGHKKKGDDQSRQGGAPDAGQE', 'length': 545, 'molWeight': 60534, 'crc64': '0A528762EF24F36B', 'md5': '78CECB8D5A05D4BEC87173027795879E'}, 'extraAttributes': {'uniParcId': 'UPI000040EEFE'}}\n"
     ]
    },
    {
     "name": "stderr",
     "output_type": "stream",
     "text": [
      "Fetching sequences:  37%|███▋      | 175/469 [01:19<02:08,  2.28it/s]"
     ]
    },
    {
     "name": "stdout",
     "output_type": "stream",
     "text": [
      "{'entryType': 'UniProtKB reviewed (Swiss-Prot)', 'primaryAccession': 'Q99575', 'proteinDescription': {'recommendedName': {'fullName': {'value': 'Ribonucleases P/MRP protein subunit POP1'}, 'shortNames': [{'value': 'hPOP1'}]}}, 'genes': [{'geneName': {'value': 'POP1'}, 'synonyms': [{'value': 'KIAA0061'}]}], 'sequence': {'value': 'MSNAKERKHAKKMRNQPTNVTLSSGFVADRGVKHHSGGEKPFQAQKQEPHPGTSRQRQTRVNPHSLPDPEVNEQSSSKGMFRKKGGWKAGPEGTSQEIPKYITASTFAQARAAEISAMLKAVTQKSSNSLVFQTLPRHMRRRAMSHNVKRLPRRLQEIAQKEAEKAVHQKKEHSKNKCHKARRCHMNRTLEFNRRQKKNIWLETHIWHAKRFHMVKKWGYCLGERPTVKSHRACYRAMTNRCLLQDLSYYCCLELKGKEEEILKALSGMCNIDTGLTFAAVHCLSGKRQGSLVLYRVNKYPREMLGPVTFIWKSQRTPGDPSESRQLWIWLHPTLKQDILEEIKAACQCVEPIKSAVCIADPLPTPSQEKSQTELPDEKIGKKRKRKDDGENAKPIKKIIGDGTRDPCLPYSWISPTTGIIISDLTMEMNRFRLIGPLSHSILTEAIKAASVHTVGEDTEETPHRWWIETCKKPDSVSLHCRQEAIFELLGGITSPAEIPAGTILGLTVGDPRINLPQKKSKALPNPEKCQDNEKVRQLLLEGVPVECTHSFIWNQDICKSVTENKISDQDLNRMRSELLVPGSQLILGPHESKIPILLIQQPGKVTGEDRLGWGSGWDVLLPKGWGMAFWIPFIYRGVRVGGLKESAVHSQYKRSPNVPGDFPDCPAGMLFAEEQAKNLLEKYKRRPPAKRPNYVKLGTLAPFCCPWEQLTQDWESRVQAYEEPSVASSPNGKESDLRRSEVPCAPMPKKTHQPSDEVGTSIEHPREAEEVMDAGCQESAGPERITDQEASENHVAATGSHLCVLRSRKLLKQLSAWCGPSSEDSRGGRRAPGRGQQGLTREACLSILGHFPRALVWVSLSLLSKGSPEPHTMICVPAKEDFLQLHEDWHYCGPQESKHSDPFRSKILKQKEKKKREKRQKPGRASSDGPAGEEPVAGQEALTLGLWSGPLPRVTLHCSRTLLGFVTQGDFSMAVGCGEALGFVSLTGLLDMLSSQPAAQRGLVLLRPPASLQYRFARIAIEV', 'length': 1024, 'molWeight': 114709, 'crc64': 'A1DB872F3B940C02', 'md5': 'C1769FDB48E2588F58FEC90FE28480C6'}, 'extraAttributes': {'uniParcId': 'UPI0000131F33'}}\n"
     ]
    },
    {
     "name": "stderr",
     "output_type": "stream",
     "text": [
      "Fetching sequences:  38%|███▊      | 176/469 [01:19<02:08,  2.28it/s]"
     ]
    },
    {
     "name": "stdout",
     "output_type": "stream",
     "text": [
      "{'entryType': 'UniProtKB reviewed (Swiss-Prot)', 'primaryAccession': 'Q13243', 'proteinDescription': {'recommendedName': {'fullName': {'value': 'Serine/arginine-rich splicing factor 5'}}, 'alternativeNames': [{'fullName': {'value': 'Delayed-early protein HRS'}}, {'fullName': {'value': 'Pre-mRNA-splicing factor SRP40'}}, {'fullName': {'value': 'Splicing factor, arginine/serine-rich 5'}}]}, 'genes': [{'geneName': {'value': 'SRSF5'}, 'synonyms': [{'value': 'HRS'}, {'value': 'SFRS5'}, {'value': 'SRP40'}]}], 'sequence': {'value': 'MSGCRVFIGRLNPAAREKDVERFFKGYGRIRDIDLKRGFGFVEFEDPRDADDAVYELDGKELCSERVTIEHARARSRGGRGRGRYSDRFSSRRPRNDRRNAPPVRTENRLIVENLSSRVSWQDLKDFMRQAGEVTFADAHRPKLNEGVVEFASYGDLKNAIEKLSGKEINGRKIKLIEGSKRHSRSRSRSRSRTRSSSRSRSRSRSRSRKSYSRSRSRSRSRSRSKSRSVSRSPVPEKSQKRGSSSRSKSPASVDRQRSRSRSRSRSVDSGN', 'length': 272, 'molWeight': 31264, 'crc64': 'F13AD79845ECBB16', 'md5': '87B4ED341D228F93CD6EBB54D94B7598'}, 'extraAttributes': {'uniParcId': 'UPI00001358C0'}}\n"
     ]
    },
    {
     "name": "stderr",
     "output_type": "stream",
     "text": [
      "Fetching sequences:  38%|███▊      | 177/469 [01:20<02:08,  2.28it/s]"
     ]
    },
    {
     "name": "stdout",
     "output_type": "stream",
     "text": [
      "{'entryType': 'UniProtKB reviewed (Swiss-Prot)', 'primaryAccession': 'Q9UIF9', 'proteinDescription': {'recommendedName': {'fullName': {'value': 'Bromodomain adjacent to zinc finger domain protein 2A'}}, 'alternativeNames': [{'fullName': {'value': 'Transcription termination factor I-interacting protein 5'}, 'shortNames': [{'value': 'TTF-I-interacting protein 5'}, {'value': 'Tip5'}]}, {'fullName': {'value': 'hWALp3'}}]}, 'genes': [{'geneName': {'value': 'BAZ2A'}, 'synonyms': [{'value': 'KIAA0314'}, {'value': 'TIP5'}]}], 'sequence': {'value': 'MEMEANDHFNFTGLPPAPAASGLKPSPSSGEGLYTNGSPMNFPQQGKSLNGDVNVNGLSTVSHTTTSGILNSAPHSSSTSHLHHPSVAYDCLWNYSQYPSANPGSNLKDPPLLSQFSGGQYPLNGILGGSRQPSSPSHNTNLRAGSQEFWANGTQSPMGLNFDSQELYDSFPDQNFEVMPNGPPSFFTSPQTSPMLGSSIQTFAPSQEVGSGIHPDEAAEKEMTSVVAENGTGLVGSLELEEEQPELKMCGYNGSVPSVESLHQEVSVLVPDPTVSCLDDPSHLPDQLEDTPILSEDSLEPFNSLAPEPVSGGLYGIDDTELMGAEDKLPLEDSPVISALDCPSLNNATAFSLLADDSQTSTSIFASPTSPPVLGESVLQDNSFDLNNGSDAEQEEMETQSSDFPPSLTQPAPDQSSTIQLHPATSPAVSPTTSPAVSLVVSPAASPEISPEVCPAASTVVSPAVFSVVSPASSAVLPAVSLEVPLTASVTSPKASPVTSPAAAFPTASPANKDVSSFLETTADVEEITGEGLTASGSGDVMRRRIATPEEVRLPLQHGWRREVRIKKGSHRWQGETWYYGPCGKRMKQFPEVIKYLSRNVVHSVRREHFSFSPRMPVGDFFEERDTPEGLQWVQLSAEEIPSRIQAITGKRGRPRNTEKAKTKEVPKVKRGRGRPPKVKITELLNKTDNRPLKKLEAQETLNEEDKAKIAKSKKKMRQKVQRGECQTTIQGQARNKRKQETKSLKQKEAKKKSKAEKEKGKTKQEKLKEKVKREKKEKVKMKEKEEVTKAKPACKADKTLATQRRLEERQRQQMILEEMKKPTEDMCLTDHQPLPDFSRVPGLTLPSGAFSDCLTIVEFLHSFGKVLGFDPAKDVPSLGVLQEGLLCQGDSLGEVQDLLVRLLKAALHDPGFPSYCQSLKILGEKVSEIPLTRDNVSEILRCFLMAYGVEPALCDRLRTQPFQAQPPQQKAAVLAFLVHELNGSTLIINEIDKTLESMSSYRKNKWIVEGRLRRLKTVLAKRTGRSEVEMEGPEECLGRRRSSRIMEETSGMEEEEEEESIAAVPGRRGRRDGEVDATASSIPELERQIEKLSKRQLFFRKKLLHSSQMLRAVSLGQDRYRRRYWVLPYLAGIFVEGTEGNLVPEEVIKKETDSLKVAAHASLNPALFSMKMELAGSNTTASSPARARGRPRKTKPGSMQPRHLKSPVRGQDSEQPQAQLQPEAQLHAPAQPQPQLQLQLQSHKGFLEQEGSPLSLGQSQHDLSQSAFLSWLSQTQSHSSLLSSSVLTPDSSPGKLDPAPSQPPEEPEPDEAESSPDPQALWFNISAQMPCNAAPTPPPAVSEDQPTPSPQQLASSKPMNRPSAANPCSPVQFSSTPLAGLAPKRRAGDPGEMPQSPTGLGQPKRRGRPPSKFFKQMEQRYLTQLTAQPVPPEMCSGWWWIRDPEMLDAMLKALHPRGIREKALHKHLNKHRDFLQEVCLRPSADPIFEPRQLPAFQEGIMSWSPKEKTYETDLAVLQWVEELEQRVIMSDLQIRGWTCPSPDSTREDLAYCEHLSDSQEDITWRGRGREGLAPQRKTTNPLDLAVMRLAALEQNVERRYLREPLWPTHEVVLEKALLSTPNGAPEGTTTEISYEITPRIRVWRQTLERCRSAAQVCLCLGQLERSIAWEKSVNKVTCLVCRKGDNDEFLLLCDGCDRGCHIYCHRPKMEAVPEGDWFCTVCLAQQVEGEFTQKPGFPKRGQKRKSGYSLNFSEGDGRRRRVLLRGRESPAAGPRYSEEGLSPSKRRRLSMRNHHSDLTFCEIILMEMESHDAAWPFLEPVNPRLVSGYRRIIKNPMDFSTMRERLLRGGYTSSEEFAADALLVFDNCQTFNEDDSEVGKAGHIMRRFFESRWEEFYQGKQANL', 'length': 1905, 'molWeight': 211198, 'crc64': 'F364E2AC4BF89EA2', 'md5': '9BBFA88CF3D51060134573538FFF6747'}, 'extraAttributes': {'uniParcId': 'UPI0000D4FED1'}}\n"
     ]
    },
    {
     "name": "stderr",
     "output_type": "stream",
     "text": [
      "Fetching sequences:  38%|███▊      | 178/469 [01:20<02:07,  2.28it/s]"
     ]
    },
    {
     "name": "stdout",
     "output_type": "stream",
     "text": [
      "{'entryType': 'UniProtKB reviewed (Swiss-Prot)', 'primaryAccession': 'Q9H9L3', 'proteinDescription': {'recommendedName': {'fullName': {'value': 'Interferon-stimulated 20 kDa exonuclease-like 2'}, 'ecNumbers': [{'value': '3.1.-.-'}]}}, 'genes': [{'geneName': {'value': 'ISG20L2'}, 'orfNames': [{'value': 'HSD-38'}, {'value': 'HSD38'}]}], 'sequence': {'value': 'MSTLLLNLDFGEPPPKKALEGNAKHRNFVKKRRLLERRGFLSKKNQPPSKAPKLHSEPSKKGETPTVDGTWKTPSFPKKKTAASSNGSGQPLDKKAAVSWLTPAPSKKADSVAAKVDLLGEFQSALPKINSHPTRSQKKSSQKKSSKKNHPQKNAPQNSTQAHSENKCSGASQKLPRKMVAIDCEMVGTGPKGHVSSLARCSIVNYNGDVLYDEYILPPCHIVDYRTRWSGIRKQHMVNATPFKIARGQILKILTGKIVVGHAIHNDFKALQYFHPKSLTRDTSHIPPLNRKADCPENATMSLKHLTKKLLNRDIQVGKSGHSSVEDAQATMELYKLVEVEWEEHLARNPPTD', 'length': 353, 'molWeight': 39154, 'crc64': '07558CDED402C195', 'md5': '99505BCEE060121884ED7671C3EBE451'}, 'extraAttributes': {'uniParcId': 'UPI000006D42B'}}\n"
     ]
    },
    {
     "name": "stderr",
     "output_type": "stream",
     "text": [
      "Fetching sequences:  38%|███▊      | 179/469 [01:21<02:07,  2.28it/s]"
     ]
    },
    {
     "name": "stdout",
     "output_type": "stream",
     "text": [
      "{'entryType': 'UniProtKB reviewed (Swiss-Prot)', 'primaryAccession': 'Q8IXT5', 'proteinDescription': {'recommendedName': {'fullName': {'value': 'RNA-binding protein 12B'}}, 'alternativeNames': [{'fullName': {'value': 'RNA-binding motif protein 12B'}}]}, 'genes': [{'geneName': {'value': 'RBM12B'}}], 'sequence': {'value': 'MAVVIRLLGLPFIAGPVDIRHFFTGLTIPDGGVHIIGGEIGEAFIIFATDEDARRAISRSGGFIKDSSVELFLSSKAEMQKTIEMKRTDRVGRGRPGSGTSGVDSLSNFIESVKEEASNSGYGSSINQDAGFHTNGTGHGNLRPRKTRPLKAENPYLFLRGLPYLVNEDDVRVFFSGLCVDGVIFLKHHDGRNNGDAIVKFASCVDASGGLKCHRSFMGSRFIEVMQGSEQQWIEFGGNAVKEGDVLRRSEEHSPPRGINDRHFRKRSHSKSPRRTRSRSPLGFYVHLKNLSLSIDERDLRNFFRGTDLTDEQIRFLYKDENRTRYAFVMFKTLKDYNTALSLHKTVLQYRPVHIDPISRKQMLKFIARYEKKRSGSLERDRPGHVSQKYSQEGNSGQKLCIYIRNFPFDVTKVEVQKFFADFLLAEDDIYLLYDDKGVGLGEALVKFKSEEQAMKAERLNRRRFLGTEVLLRLISEAQIQEFGVNFSVMSSEKMQARSQSRERGDHSHLFDSKDPPIYSVGAFENFRHQLEDLRQLDNFKHPQRDFRQPDRHPPEDFRHSSEDFRFPPEDFRHSPEDFRRPREEDFRRPSEEDFRRPWEEDFRRPPEDDFRHPREEDWRRPLEEDWRRPLEEDFRRSPTEDFRQLPEEDFRQPPEEDLRWLPEEDFRRPPEEDWRRPPEEDFRRPLQGEWRRPPEDDFRRPPEEDFRHSPEEDFRQSPQEHFRRPPQEHFRRPPPEHFRRPPPEHFRRPPPEHFRRPPPEHFRRPPPEHFRRPPPEHFRRPPQEHFRRPPQEHFRRSREEDFRHPPDEDFRGPPDEDFRHPPDEDFRSPQEEDFRCPSDEDFRQLPEEDLREAPEEDPRLPDNFRPPGEDFRSPPDDFRSHRPFVNFGRPEGGKFDFGKHNMGSFPEGRFMPDPKINCGSGRVTPIKIMNLPFKANVNEILDFFHGYRIIPDSVSIQYNEQGLPTGEAIVAMINYNEAMAAIKDLNDRPVGPRKVKLTLL', 'length': 1001, 'molWeight': 118103, 'crc64': 'A09C527B1A1EE845', 'md5': 'D06F89B48DA6ACC617CC2E27966B3807'}, 'extraAttributes': {'uniParcId': 'UPI0000E9B14C'}}\n"
     ]
    },
    {
     "name": "stderr",
     "output_type": "stream",
     "text": [
      "Fetching sequences:  38%|███▊      | 180/469 [01:21<02:07,  2.27it/s]"
     ]
    },
    {
     "name": "stdout",
     "output_type": "stream",
     "text": [
      "{'entryType': 'UniProtKB reviewed (Swiss-Prot)', 'primaryAccession': 'Q9NV06', 'proteinDescription': {'recommendedName': {'fullName': {'value': 'DDB1- and CUL4-associated factor 13'}}, 'alternativeNames': [{'fullName': {'value': 'WD repeat and SOF domain-containing protein 1'}}]}, 'genes': [{'geneName': {'evidences': [{'evidenceCode': 'ECO:0000312', 'source': 'HGNC', 'id': 'HGNC:24535'}], 'value': 'DCAF13'}, 'synonyms': [{'value': 'WDSOF1'}], 'orfNames': [{'value': 'HSPC064'}]}], 'sequence': {'value': 'MKVKMLSRNPDNYVRETKLDLQRVPRNYDPALHPFEVPREYIRALNATKLERVFAKPFLASLDGHRDGVNCLAKHPEKLATVLSGACDGEVRIWNLTQRNCIRTIQAHEGFVRGICTRFCGTSFFTVGDDKTVKQWKMDGPGYGDEEEPLHTILGKTVYTGIDHHWKEAVFATCGQQVDIWDEQRTNPICSMTWGFDSISSVKFNPIETFLLGSCASDRNIVLYDMRQATPLKKVILDMRTNTICWNPMEAFIFTAANEDYNLYTFDMRALDTPVMVHMDHVSAVLDVDYSPTGKEFVSASFDKSIRIFPVDKSRSREVYHTKRMQHVICVKWTSDSKYIMCGSDEMNIRLWKANASEKLGVLTSREKAAKDYNQKLKEKFQHYPHIKRIARHRHLPKSIYSQIQEQRIMKEARRRKEVNRIKHSKPGSVPLVSEKKKHVVAVVK', 'length': 445, 'molWeight': 51402, 'crc64': '33F6079364A0F0A3', 'md5': 'A99B118A60B02026C6BDD1BC1290F102'}, 'extraAttributes': {'uniParcId': 'UPI000004A085'}}\n"
     ]
    },
    {
     "name": "stderr",
     "output_type": "stream",
     "text": [
      "Fetching sequences:  39%|███▊      | 181/469 [01:21<02:06,  2.27it/s]"
     ]
    },
    {
     "name": "stdout",
     "output_type": "stream",
     "text": [
      "{'entryType': 'UniProtKB reviewed (Swiss-Prot)', 'primaryAccession': 'P05141', 'proteinDescription': {'recommendedName': {'fullName': {'evidences': [{'evidenceCode': 'ECO:0000305'}], 'value': 'ADP/ATP translocase 2'}}, 'alternativeNames': [{'fullName': {'evidences': [{'evidenceCode': 'ECO:0000303', 'source': 'PubMed', 'id': '3031073'}], 'value': 'ADP,ATP carrier protein 2'}}, {'fullName': {'evidences': [{'evidenceCode': 'ECO:0000303', 'source': 'PubMed', 'id': '2168878'}], 'value': 'ADP,ATP carrier protein, fibroblast isoform'}}, {'fullName': {'evidences': [{'evidenceCode': 'ECO:0000303', 'source': 'PubMed', 'id': '8918809'}], 'value': 'Adenine nucleotide translocator 2'}, 'shortNames': [{'value': 'ANT 2'}]}, {'fullName': {'evidences': [{'evidenceCode': 'ECO:0000305'}], 'value': 'Solute carrier family 25 member 5'}}], 'contains': [{'recommendedName': {'fullName': {'value': 'ADP/ATP translocase 2, N-terminally processed'}}}]}, 'genes': [{'geneName': {'evidences': [{'evidenceCode': 'ECO:0000312', 'source': 'HGNC', 'id': 'HGNC:10991'}], 'value': 'SLC25A5'}, 'synonyms': [{'evidences': [{'evidenceCode': 'ECO:0000250', 'source': 'UniProtKB', 'id': 'P51881'}], 'value': 'AAC2'}, {'evidences': [{'evidenceCode': 'ECO:0000303', 'source': 'PubMed', 'id': '8918809'}], 'value': 'ANT2'}]}], 'sequence': {'value': 'MTDAAVSFAKDFLAGGVAAAISKTAVAPIERVKLLLQVQHASKQITADKQYKGIIDCVVRIPKEQGVLSFWRGNLANVIRYFPTQALNFAFKDKYKQIFLGGVDKRTQFWLYFAGNLASGGAAGATSLCFVYPLDFARTRLAADVGKAGAEREFRGLGDCLVKIYKSDGIKGLYQGFNVSVQGIIIYRAAYFGIYDTAKGMLPDPKNTHIVISWMIAQTVTAVAGLTSYPFDTVRRRMMMQSGRKGTDIMYTGTLDCWRKIARDEGGKAFFKGAWSNVLRGMGGAFVLVLYDEIKKYT', 'length': 298, 'molWeight': 32852, 'crc64': 'DC53D083E7217AFE', 'md5': '102BD8DAE9116089008767830C92957B'}, 'extraAttributes': {'uniParcId': 'UPI000013C4ED'}}\n"
     ]
    },
    {
     "name": "stderr",
     "output_type": "stream",
     "text": [
      "Fetching sequences:  39%|███▉      | 182/469 [01:22<02:05,  2.29it/s]"
     ]
    },
    {
     "name": "stdout",
     "output_type": "stream",
     "text": [
      "{'entryType': 'UniProtKB reviewed (Swiss-Prot)', 'primaryAccession': 'Q96SB4', 'proteinDescription': {'recommendedName': {'fullName': {'value': 'SRSF protein kinase 1'}, 'ecNumbers': [{'value': '2.7.11.1'}]}, 'alternativeNames': [{'fullName': {'value': 'SFRS protein kinase 1'}}, {'fullName': {'value': 'Serine/arginine-rich protein-specific kinase 1'}, 'shortNames': [{'value': 'SR-protein-specific kinase 1'}]}]}, 'genes': [{'geneName': {'evidences': [{'evidenceCode': 'ECO:0000312', 'source': 'EMBL', 'id': 'CAC39299.1'}], 'value': 'SRPK1'}}], 'sequence': {'value': 'MERKVLALQARKKRTKAKKDKAQRKSETQHRGSAPHSESDLPEQEEEILGSDDDEQEDPNDYCKGGYHLVKIGDLFNGRYHVIRKLGWGHFSTVWLSWDIQGKKFVAMKVVKSAEHYTETALDEIRLLKSVRNSDPNDPNREMVVQLLDDFKISGVNGTHICMVFEVLGHHLLKWIIKSNYQGLPLPCVKKIIQQVLQGLDYLHTKCRIIHTDIKPENILLSVNEQYIRRLAAEATEWQRSGAPPPSGSAVSTAPQPKPADKMSKNKKKKLKKKQKRQAELLEKRMQEIEEMEKESGPGQKRPNKQEESESPVERPLKENPPNKMTQEKLEESSTIGQDQTLMERDTEGGAAEINCNGVIEVINYTQNSNNETLRHKEDLHNANDCDVQNLNQESSFLSSQNGDSSTSQETDSCTPITSEVSDTMVCQSSSTVGQSFSEQHISQLQESIRAEIPCEDEQEQEHNGPLDNKGKSTAGNFLVNPLEPKNAEKLKVKIADLGNACWVHKHFTEDIQTRQYRSLEVLIGSGYNTPADIWSTACMAFELATGDYLFEPHSGEEYTRDEDHIALIIELLGKVPRKLIVAGKYSKEFFTKKGDLKHITKLKPWGLFEVLVEKYEWSQEEAAGFTDFLLPMLELIPEKRATAAECLRHPWLNS', 'length': 655, 'molWeight': 74325, 'crc64': '900E980FE1C16B9A', 'md5': '05BD88CA5F9F9AEE47D59EEA7C9B344C'}, 'extraAttributes': {'uniParcId': 'UPI000020DBDD'}}\n"
     ]
    },
    {
     "name": "stderr",
     "output_type": "stream",
     "text": [
      "Fetching sequences:  39%|███▉      | 183/469 [01:22<02:06,  2.26it/s]"
     ]
    },
    {
     "name": "stdout",
     "output_type": "stream",
     "text": [
      "{'entryType': 'UniProtKB reviewed (Swiss-Prot)', 'primaryAccession': 'P62879', 'proteinDescription': {'recommendedName': {'fullName': {'value': 'Guanine nucleotide-binding protein G(I)/G(S)/G(T) subunit beta-2'}}, 'alternativeNames': [{'fullName': {'value': 'G protein subunit beta-2'}}, {'fullName': {'value': 'Transducin beta chain 2'}}]}, 'genes': [{'geneName': {'value': 'GNB2'}}], 'sequence': {'value': 'MSELEQLRQEAEQLRNQIRDARKACGDSTLTQITAGLDPVGRIQMRTRRTLRGHLAKIYAMHWGTDSRLLVSASQDGKLIIWDSYTTNKVHAIPLRSSWVMTCAYAPSGNFVACGGLDNICSIYSLKTREGNVRVSRELPGHTGYLSCCRFLDDNQIITSSGDTTCALWDIETGQQTVGFAGHSGDVMSLSLAPDGRTFVSGACDASIKLWDVRDSMCRQTFIGHESDINAVAFFPNGYAFTTGSDDATCRLFDLRADQELLMYSHDNIICGITSVAFSRSGRLLLAGYDDFNCNIWDAMKGDRAGVLAGHDNRVSCLGVTDDGMAVATGSWDSFLKIWN', 'length': 340, 'molWeight': 37331, 'crc64': '5D08FFA240ADEEE6', 'md5': '0E22976A88B110B3440AF6A860386C48'}, 'extraAttributes': {'uniParcId': 'UPI0000000934'}}\n"
     ]
    },
    {
     "name": "stderr",
     "output_type": "stream",
     "text": [
      "Fetching sequences:  39%|███▉      | 184/469 [01:23<02:32,  1.87it/s]"
     ]
    },
    {
     "name": "stdout",
     "output_type": "stream",
     "text": [
      "{'entryType': 'UniProtKB reviewed (Swiss-Prot)', 'primaryAccession': 'P46013', 'proteinDescription': {'recommendedName': {'fullName': {'evidences': [{'evidenceCode': 'ECO:0000305'}], 'value': 'Proliferation marker protein Ki-67'}}, 'alternativeNames': [{'fullName': {'evidences': [{'evidenceCode': 'ECO:0000303', 'source': 'PubMed', 'id': '8227122'}], 'value': 'Antigen identified by monoclonal antibody Ki-67'}, 'shortNames': [{'evidences': [{'evidenceCode': 'ECO:0000305'}], 'value': 'Antigen KI-67'}, {'evidences': [{'evidenceCode': 'ECO:0000305'}], 'value': 'Antigen Ki67'}]}]}, 'genes': [{'geneName': {'evidences': [{'evidenceCode': 'ECO:0000312', 'source': 'HGNC', 'id': 'HGNC:7107'}], 'value': 'MKI67'}}], 'sequence': {'value': 'MWPTRRLVTIKRSGVDGPHFPLSLSTCLFGRGIECDIRIQLPVVSKQHCKIEIHEQEAILHNFSSTNPTQVNGSVIDEPVRLKHGDVITIIDRSFRYENESLQNGRKSTEFPRKIREQEPARRVSRSSFSSDPDEKAQDSKAYSKITEGKVSGNPQVHIKNVKEDSTADDSKDSVAQGTTNVHSSEHAGRNGRNAADPISGDFKEISSVKLVSRYGELKSVPTTQCLDNSKKNESPFWKLYESVKKELDVKSQKENVLQYCRKSGLQTDYATEKESADGLQGETQLLVSRKSRPKSGGSGHAVAEPASPEQELDQNKGKGRDVESVQTPSKAVGASFPLYEPAKMKTPVQYSQQQNSPQKHKNKDLYTTGRRESVNLGKSEGFKAGDKTLTPRKLSTRNRTPAKVEDAADSATKPENLSSKTRGSIPTDVEVLPTETEIHNEPFLTLWLTQVERKIQKDSLSKPEKLGTTAGQMCSGLPGLSSVDINNFGDSINESEGIPLKRRRVSFGGHLRPELFDENLPPNTPLKRGEAPTKRKSLVMHTPPVLKKIIKEQPQPSGKQESGSEIHVEVKAQSLVISPPAPSPRKTPVASDQRRRSCKTAPASSSKSQTEVPKRGGRKSGNLPSKRVSISRSQHDILQMICSKRRSGASEANLIVAKSWADVVKLGAKQTQTKVIKHGPQRSMNKRQRRPATPKKPVGEVHSQFSTGHANSPCTIIIGKAHTEKVHVPARPYRVLNNFISNQKMDFKEDLSGIAEMFKTPVKEQPQLTSTCHIAISNSENLLGKQFQGTDSGEEPLLPTSESFGGNVFFSAQNAAKQPSDKCSASPPLRRQCIRENGNVAKTPRNTYKMTSLETKTSDTETEPSKTVSTANRSGRSTEFRNIQKLPVESKSEETNTEIVECILKRGQKATLLQQRREGEMKEIERPFETYKENIELKENDEKMKAMKRSRTWGQKCAPMSDLTDLKSLPDTELMKDTARGQNLLQTQDHAKAPKSEKGKITKMPCQSLQPEPINTPTHTKQQLKASLGKVGVKEELLAVGKFTRTSGETTHTHREPAGDGKSIRTFKESPKQILDPAARVTGMKKWPRTPKEEAQSLEDLAGFKELFQTPGPSEESMTDEKTTKIACKSPPPESVDTPTSTKQWPKRSLRKADVEEEFLALRKLTPSAGKAMLTPKPAGGDEKDIKAFMGTPVQKLDLAGTLPGSKRQLQTPKEKAQALEDLAGFKELFQTPGHTEELVAAGKTTKIPCDSPQSDPVDTPTSTKQRPKRSIRKADVEGELLACRNLMPSAGKAMHTPKPSVGEEKDIIIFVGTPVQKLDLTENLTGSKRRPQTPKEEAQALEDLTGFKELFQTPGHTEEAVAAGKTTKMPCESSPPESADTPTSTRRQPKTPLEKRDVQKELSALKKLTQTSGETTHTDKVPGGEDKSINAFRETAKQKLDPAASVTGSKRHPKTKEKAQPLEDLAGLKELFQTPVCTDKPTTHEKTTKIACRSQPDPVDTPTSSKPQSKRSLRKVDVEEEFFALRKRTPSAGKAMHTPKPAVSGEKNIYAFMGTPVQKLDLTENLTGSKRRLQTPKEKAQALEDLAGFKELFQTRGHTEESMTNDKTAKVACKSSQPDPDKNPASSKRRLKTSLGKVGVKEELLAVGKLTQTSGETTHTHTEPTGDGKSMKAFMESPKQILDSAASLTGSKRQLRTPKGKSEVPEDLAGFIELFQTPSHTKESMTNEKTTKVSYRASQPDLVDTPTSSKPQPKRSLRKADTEEEFLAFRKQTPSAGKAMHTPKPAVGEEKDINTFLGTPVQKLDQPGNLPGSNRRLQTRKEKAQALEELTGFRELFQTPCTDNPTTDEKTTKKILCKSPQSDPADTPTNTKQRPKRSLKKADVEEEFLAFRKLTPSAGKAMHTPKAAVGEEKDINTFVGTPVEKLDLLGNLPGSKRRPQTPKEKAKALEDLAGFKELFQTPGHTEESMTDDKITEVSCKSPQPDPVKTPTSSKQRLKISLGKVGVKEEVLPVGKLTQTSGKTTQTHRETAGDGKSIKAFKESAKQMLDPANYGTGMERWPRTPKEEAQSLEDLAGFKELFQTPDHTEESTTDDKTTKIACKSPPPESMDTPTSTRRRPKTPLGKRDIVEELSALKQLTQTTHTDKVPGDEDKGINVFRETAKQKLDPAASVTGSKRQPRTPKGKAQPLEDLAGLKELFQTPICTDKPTTHEKTTKIACRSPQPDPVGTPTIFKPQSKRSLRKADVEEESLALRKRTPSVGKAMDTPKPAGGDEKDMKAFMGTPVQKLDLPGNLPGSKRWPQTPKEKAQALEDLAGFKELFQTPGTDKPTTDEKTTKIACKSPQPDPVDTPASTKQRPKRNLRKADVEEEFLALRKRTPSAGKAMDTPKPAVSDEKNINTFVETPVQKLDLLGNLPGSKRQPQTPKEKAEALEDLVGFKELFQTPGHTEESMTDDKITEVSCKSPQPESFKTSRSSKQRLKIPLVKVDMKEEPLAVSKLTRTSGETTQTHTEPTGDSKSIKAFKESPKQILDPAASVTGSRRQLRTRKEKARALEDLVDFKELFSAPGHTEESMTIDKNTKIPCKSPPPELTDTATSTKRCPKTRPRKEVKEELSAVERLTQTSGQSTHTHKEPASGDEGIKVLKQRAKKKPNPVEEEPSRRRPRAPKEKAQPLEDLAGFTELSETSGHTQESLTAGKATKIPCESPPLEVVDTTASTKRHLRTRVQKVQVKEEPSAVKFTQTSGETTDADKEPAGEDKGIKALKESAKQTPAPAASVTGSRRRPRAPRESAQAIEDLAGFKDPAAGHTEESMTDDKTTKIPCKSSPELEDTATSSKRRPRTRAQKVEVKEELLAVGKLTQTSGETTHTDKEPVGEGKGTKAFKQPAKRKLDAEDVIGSRRQPRAPKEKAQPLEDLASFQELSQTPGHTEELANGAADSFTSAPKQTPDSGKPLKISRRVLRAPKVEPVGDVVSTRDPVKSQSKSNTSLPPLPFKRGGGKDGSVTGTKRLRCMPAPEEIVEELPASKKQRVAPRARGKSSEPVVIMKRSLRTSAKRIEPAEELNSNDMKTNKEEHKLQDSVPENKGISLRSRRQNKTEAEQQITEVFVLAERIEINRNEKKPMKTSPEMDIQNPDDGARKPIPRDKVTENKRCLRSARQNESSQPKVAEESGGQKSAKVLMQNQKGKGEAGNSDSMCLRSRKTKSQPAASTLESKSVQRVTRSVKRCAENPKKAEDNVCVKKIRTRSHRDSEDI', 'length': 3256, 'molWeight': 358694, 'crc64': '1332BC6C799AD64D', 'md5': '3060F742BB95C4DFE043F84C58259E1E'}, 'extraAttributes': {'uniParcId': 'UPI000013DB54'}}\n"
     ]
    },
    {
     "name": "stderr",
     "output_type": "stream",
     "text": [
      "Fetching sequences:  39%|███▉      | 185/469 [01:24<02:23,  1.98it/s]"
     ]
    },
    {
     "name": "stdout",
     "output_type": "stream",
     "text": [
      "{'entryType': 'UniProtKB reviewed (Swiss-Prot)', 'primaryAccession': 'O75400', 'proteinDescription': {'recommendedName': {'fullName': {'value': 'Pre-mRNA-processing factor 40 homolog A'}}, 'alternativeNames': [{'fullName': {'value': 'Fas ligand-associated factor 1'}}, {'fullName': {'value': 'Formin-binding protein 11'}}, {'fullName': {'value': 'Formin-binding protein 3'}}, {'fullName': {'value': 'Huntingtin yeast partner A'}}, {'fullName': {'value': 'Huntingtin-interacting protein 10'}, 'shortNames': [{'value': 'HIP-10'}]}, {'fullName': {'value': 'Huntingtin-interacting protein A'}}, {'fullName': {'value': 'Renal carcinoma antigen NY-REN-6'}}]}, 'genes': [{'geneName': {'value': 'PRPF40A'}, 'synonyms': [{'value': 'FBP11'}, {'value': 'FLAF1'}, {'value': 'FNBP3'}, {'value': 'HIP10'}, {'value': 'HYPA'}], 'orfNames': [{'value': 'HSPC225'}]}], 'sequence': {'value': 'MRPGTGAERGGLMVSEMESHPPSQGPGDGERRLSGSSLCSGSWVSADGFLRRRPSMGHPGMHYAPMGMHPMGQRANMPPVPHGMMPQMMPPMGGPPMGQMPGMMSSVMPGMMMSHMSQASMQPALPPGVNSMDVAAGTASGAKSMWTEHKSPDGRTYYYNTETKQSTWEKPDDLKTPAEQLLSKCPWKEYKSDSGKPYYYNSQTKESRWAKPKELEDLEGYQNTIVAGSLITKSNLHAMIKAEESSKQEECTTTSTAPVPTTEIPTTMSTMAAAEAAAAVVAAAAAAAAAAAAANANASTSASNTVSGTVPVVPEPEVTSIVATVVDNENTVTISTEEQAQLTSTPAIQDQSVEVSSNTGEETSKQETVADFTPKKEEEESQPAKKTYTWNTKEEAKQAFKELLKEKRVPSNASWEQAMKMIINDPRYSALAKLSEKKQAFNAYKVQTEKEEKEEARSKYKEAKESFQRFLENHEKMTSTTRYKKAEQMFGEMEVWNAISERDRLEIYEDVLFFLSKKEKEQAKQLRKRNWEALKNILDNMANVTYSTTWSEAQQYLMDNPTFAEDEELQNMDKEDALICFEEHIRALEKEEEEEKQKSLLRERRRQRKNRESFQIFLDELHEHGQLHSMSSWMELYPTISSDIRFTNMLGQPGSTALDLFKFYVEDLKARYHDEKKIIKDILKDKGFVVEVNTTFEDFVAIISSTKRSTTLDAGNIKLAFNSLLEKAEAREREREKEEARKMKRKESAFKSMLKQAAPPIELDAVWEDIRERFVKEPAFEDITLESERKRIFKDFMHVLEHECQHHHSKNKKHSKKSKKHHRKRSRSRSGSDSDDDDSHSKKKRQRSESRSASEHSSSAESERSYKKSKKHKKKSKKRRHKSDSPESDAEREKDKKEKDRESEKDRTRQRSESKHKSPKKKTGKDSGNWDTSGSELSEGELEKRRRTLLEQLDDDQ', 'length': 957, 'molWeight': 108805, 'crc64': '8874D0C1CE1FCDAF', 'md5': '51A9A8DDF1F320890129E64455440249'}, 'extraAttributes': {'uniParcId': 'UPI000015C58F'}}\n"
     ]
    },
    {
     "name": "stderr",
     "output_type": "stream",
     "text": [
      "Fetching sequences:  40%|███▉      | 186/469 [01:24<02:17,  2.06it/s]"
     ]
    },
    {
     "name": "stdout",
     "output_type": "stream",
     "text": [
      "{'entryType': 'UniProtKB reviewed (Swiss-Prot)', 'primaryAccession': 'P35637', 'proteinDescription': {'recommendedName': {'fullName': {'value': 'RNA-binding protein FUS'}}, 'alternativeNames': [{'fullName': {'value': '75 kDa DNA-pairing protein'}}, {'fullName': {'value': 'Oncogene FUS'}}, {'fullName': {'value': 'Oncogene TLS'}}, {'fullName': {'value': 'POMp75'}}, {'fullName': {'value': 'Translocated in liposarcoma protein'}}]}, 'genes': [{'geneName': {'value': 'FUS'}, 'synonyms': [{'value': 'TLS'}]}], 'sequence': {'value': 'MASNDYTQQATQSYGAYPTQPGQGYSQQSSQPYGQQSYSGYSQSTDTSGYGQSSYSSYGQSQNTGYGTQSTPQGYGSTGGYGSSQSSQSSYGQQSSYPGYGQQPAPSSTSGSYGSSSQSSSYGQPQSGSYSQQPSYGGQQQSYGQQQSYNPPQGYGQQNQYNSSSGGGGGGGGGGNYGQDQSSMSSGGGSGGGYGNQDQSGGGGSGGYGQQDRGGRGRGGSGGGGGGGGGGYNRSSGGYEPRGRGGGRGGRGGMGGSDRGGFNKFGGPRDQGSRHDSEQDNSDNNTIFVQGLGENVTIESVADYFKQIGIIKTNKKTGQPMINLYTDRETGKLKGEATVSFDDPPSAKAAIDWFDGKEFSGNPIKVSFATRRADFNRGGGNGRGGRGRGGPMGRGGYGGGGSGGGGRGGFPSGGGGGGGQQRAGDWKCPNPTCENMNFSWRNECNQCKAPKPDGPGGGPGGSHMGGNYGDDRRGGRGGYDRGGYRGRGGDRGGFRGGRGGGDRGGFGPGKMDSRGEHRQDRRERPY', 'length': 526, 'molWeight': 53426, 'crc64': '88C8E263B7905549', 'md5': '81FEF7CAAE3231906FBE85F45E13269B'}, 'extraAttributes': {'uniParcId': 'UPI000012AD9A'}}\n"
     ]
    },
    {
     "name": "stderr",
     "output_type": "stream",
     "text": [
      "Fetching sequences:  40%|███▉      | 187/469 [01:24<02:11,  2.14it/s]"
     ]
    },
    {
     "name": "stdout",
     "output_type": "stream",
     "text": [
      "{'entryType': 'UniProtKB reviewed (Swiss-Prot)', 'primaryAccession': 'Q9UKV3', 'proteinDescription': {'recommendedName': {'fullName': {'value': 'Apoptotic chromatin condensation inducer in the nucleus'}, 'shortNames': [{'value': 'Acinus'}]}}, 'genes': [{'geneName': {'value': 'ACIN1'}, 'synonyms': [{'value': 'ACINUS'}, {'value': 'KIAA0670'}]}], 'sequence': {'value': 'MWRRKHPRTSGGTRGVLSGNRGVEYGSGRGHLGTFEGRWRKLPKMPEAVGTDPSTSRKMAELEEVTLDGKPLQALRVTDLKAALEQRGLAKSGQKSALVKRLKGALMLENLQKHSTPHAAFQPNSQIGEEMSQNSFIKQYLEKQQELLRQRLEREAREAAELEEASAESEDEMIHPEGVASLLPPDFQSSLERPELELSRHSPRKSSSISEEKGDSDDEKPRKGERRSSRVRQARAAKLSEGSQPAEEEEDQETPSRNLRVRADRNLKTEEEEEEEEEEEEDDEEEEGDDEGQKSREAPILKEFKEEGEEIPRVKPEEMMDERPKTRSQEQEVLERGGRFTRSQEEARKSHLARQQQEKEMKTTSPLEEEEREIKSSQGLKEKSKSPSPPRLTEDRKKASLVALPEQTASEEETPPPLLTKEASSPPPHPQLHSEEEIEPMEGPAPAVLIQLSPPNTDADTRELLVSQHTVQLVGGLSPLSSPSDTKAESPAEKVPEESVLPLVQKSTLADYSAQKDLEPESDRSAQPLPLKIEELALAKGITEECLKQPSLEQKEGRRASHTLLPSHRLKQSADSSSSRSSSSSSSSSRSRSRSPDSSGSRSHSPLRSKQRDVAQARTHANPRGRPKMGSRSTSESRSRSRSRSRSASSNSRKSLSPGVSRDSSTSYTETKDPSSGQEVATPPVPQLQVCEPKERTSTSSSSVQARRLSQPESAEKHVTQRLQPERGSPKKCEAEEAEPPAATQPQTSETQTSHLPESERIHHTVEEKEEVTMDTSENRPENDVPEPPMPIADQVSNDDRPEGSVEDEEKKESSLPKSFKRKISVVSATKGVPAGNSDTEGGQPGRKRRWGASTATTQKKPSISITTESLKSLIPDIKPLAGQEAVVDLHADDSRISEDETERNGDDGTHDKGLKICRTVTQVVPAEGQENGQREEEEEEKEPEAEPPVPPQVSVEVALPPPAEHEVKKVTLGDTLTRRSISQQKSGVSITIDDPVRTAQVPSPPRGKISNIVHISNLVRPFTLGQLKELLGRTGTLVEEAFWIDKIKSHCFVTYSTVEEAVATRTALHGVKWPQSNPKFLCADYAEQDELDYHRGLLVDRPSETKTEEQGIPRPLHPPPPPPVQPPQHPRAEQREQERAVREQWAEREREMERRERTRSEREWDRDKVREGPRSRSRSRDRRRKERAKSKEKKSEKKEKAQEEPPAKLLDDLFRKTKAAPCIYWLPLTDSQIVQKEAERAERAKEREKRRKEQEEEEQKEREKEAERERNRQLEREKRREHSRERDRERERERERDRGDRDRDRERDRERGRERDRRDTKRHSRSRSRSTPVRDRGGRR', 'length': 1341, 'molWeight': 151862, 'crc64': 'DCCBF310A4680691', 'md5': '9BF85D9394E1A29C5C04B48A4EBDBEEF'}, 'extraAttributes': {'uniParcId': 'UPI000013D308'}}\n"
     ]
    },
    {
     "name": "stderr",
     "output_type": "stream",
     "text": [
      "Fetching sequences:  40%|████      | 188/469 [01:25<02:08,  2.19it/s]"
     ]
    },
    {
     "name": "stdout",
     "output_type": "stream",
     "text": [
      "{'entryType': 'UniProtKB reviewed (Swiss-Prot)', 'primaryAccession': 'Q99459', 'proteinDescription': {'recommendedName': {'fullName': {'value': 'Cell division cycle 5-like protein'}, 'shortNames': [{'value': 'Cdc5-like protein'}]}, 'alternativeNames': [{'fullName': {'value': 'Pombe cdc5-related protein'}}]}, 'genes': [{'geneName': {'value': 'CDC5L'}, 'synonyms': [{'value': 'KIAA0432'}, {'value': 'PCDC5RP'}]}], 'sequence': {'value': 'MPRIMIKGGVWRNTEDEILKAAVMKYGKNQWSRIASLLHRKSAKQCKARWYEWLDPSIKKTEWSREEEEKLLHLAKLMPTQWRTIAPIIGRTAAQCLEHYEFLLDKAAQRDNEEETTDDPRKLKPGEIDPNPETKPARPDPIDMDEDELEMLSEARARLANTQGKKAKRKAREKQLEEARRLAALQKRRELRAAGIEIQKKRKRKRGVDYNAEIPFEKKPALGFYDTSEENYQALDADFRKLRQQDLDGELRSEKEGRDRKKDKQHLKRKKESDLPSAILQTSGVSEFTKKRSKLVLPAPQISDAELQEVVKVGQASEIARQTAEESGITNSASSTLLSEYNVTNNSVALRTPRTPASQDRILQEAQNLMALTNVDTPLKGGLNTPLHESDFSGVTPQRQVVQTPNTVLSTPFRTPSNGAEGLTPRSGTTPKPVINSTPGRTPLRDKLNINPEDGMADYSDPSYVKQMERESREHLRLGLLGLPAPKNDFEIVLPENAEKELEEREIDDTYIEDAADVDARKQAIRDAERVKEMKRMHKAVQKDLPRPSEVNETILRPLNVEPPLTDLQKSEELIKKEMITMLHYDLLHHPYEPSGNKKGKTVGFGTNNSEHITYLEHNPYEKFSKEELKKAQDVLVQEMEVVKQGMSHGELSSEAYNQVWEECYSQVLYLPGQSRYTRANLASKKDRIESLEKRLEINRGHMTTEAKRAAKMEKKMKILLGGYQSRAMGLMKQLNDLWDQIEQAHLELRTFEELKKHEDSAIPRRLECLKEDVQRQQEREKELQHRYADLLLEKETLKSKF', 'length': 802, 'molWeight': 92251, 'crc64': '3390F91EE7E79DA6', 'md5': 'C59D26B9091141AED32C1647F69726D1'}, 'extraAttributes': {'uniParcId': 'UPI000006EE42'}}\n"
     ]
    },
    {
     "name": "stderr",
     "output_type": "stream",
     "text": [
      "Fetching sequences:  40%|████      | 189/469 [01:25<02:06,  2.21it/s]"
     ]
    },
    {
     "name": "stdout",
     "output_type": "stream",
     "text": [
      "{'entryType': 'UniProtKB reviewed (Swiss-Prot)', 'primaryAccession': 'Q9BU76', 'proteinDescription': {'recommendedName': {'fullName': {'value': 'Multiple myeloma tumor-associated protein 2'}, 'shortNames': [{'value': 'hMMTAG2'}]}}, 'genes': [{'geneName': {'value': 'MMTAG2'}, 'synonyms': [{'value': 'C1orf35'}]}], 'sequence': {'value': 'MFGSSRGGVRGGQDQFNWEDVKTDKQRENYLGNSLMAPVGRWQKGRDLTWYAKGRAPCAGPSREEELAAVREAEREALLAALGYKNVKKQPTGLSKEDFAEVCKREGGDPEEKGVDRLLGLGSASGSVGRVAMSREDKEAAKLGLSVFTHHRVESGGPGTSAASARRKPRAEDQTESSCESHRKSKKEKKKKKKRKHKKEKKKKDKEHRRPAEATSSPTSPERPRHHHHDSDSNSPCCKRRKRGHSGDRRSPSRRWHDRGSEA', 'length': 263, 'molWeight': 29412, 'crc64': '51A7DEE260DBD787', 'md5': '7DBEBB7385D4622D8C4D6E195DE636AF'}, 'extraAttributes': {'uniParcId': 'UPI000006F89B'}}\n"
     ]
    },
    {
     "name": "stderr",
     "output_type": "stream",
     "text": [
      "Fetching sequences:  41%|████      | 190/469 [01:26<02:05,  2.22it/s]"
     ]
    },
    {
     "name": "stdout",
     "output_type": "stream",
     "text": [
      "{'entryType': 'UniProtKB reviewed (Swiss-Prot)', 'primaryAccession': 'Q9NZI8', 'proteinDescription': {'recommendedName': {'fullName': {'value': 'Insulin-like growth factor 2 mRNA-binding protein 1'}, 'shortNames': [{'value': 'IGF2 mRNA-binding protein 1'}, {'value': 'IMP-1'}, {'value': 'IMP1'}]}, 'alternativeNames': [{'fullName': {'value': 'Coding region determinant-binding protein'}, 'shortNames': [{'value': 'CRD-BP'}]}, {'fullName': {'value': 'IGF-II mRNA-binding protein 1'}}, {'fullName': {'value': 'VICKZ family member 1'}}, {'fullName': {'value': 'Zipcode-binding protein 1'}, 'shortNames': [{'value': 'ZBP-1'}]}]}, 'genes': [{'geneName': {'value': 'IGF2BP1'}, 'synonyms': [{'value': 'CRDBP'}, {'value': 'VICKZ1'}, {'value': 'ZBP1'}]}], 'sequence': {'value': 'MNKLYIGNLNESVTPADLEKVFAEHKISYSGQFLVKSGYAFVDCPDEHWAMKAIETFSGKVELQGKRLEIEHSVPKKQRSRKIQIRNIPPQLRWEVLDSLLAQYGTVENCEQVNTESETAVVNVTYSNREQTRQAIMKLNGHQLENHALKVSYIPDEQIAQGPENGRRGGFGSRGQPRQGSPVAAGAPAKQQQVDIPLRLLVPTQYVGAIIGKEGATIRNITKQTQSKIDVHRKENAGAAEKAISVHSTPEGCSSACKMILEIMHKEAKDTKTADEVPLKILAHNNFVGRLIGKEGRNLKKVEQDTETKITISSLQDLTLYNPERTITVKGAIENCCRAEQEIMKKVREAYENDVAAMSLQSHLIPGLNLAAVGLFPASSSAVPPPPSSVTGAAPYSSFMQAPEQEMVQVFIPAQAVGAIIGKKGQHIKQLSRFASASIKIAPPETPDSKVRMVIITGPPEAQFKAQGRIYGKLKEENFFGPKEEVKLETHIRVPASAAGRVIGKGGKTVNELQNLTAAEVVVPRDQTPDENDQVIVKIIGHFYASQMAQRKIRDILAQVKQQHQKGQSNQAQARRK', 'length': 577, 'molWeight': 63481, 'crc64': '1D036AE5388D05FA', 'md5': '3DF6AB15917BF037395BDC36BE91426D'}, 'extraAttributes': {'uniParcId': 'UPI0000117170'}}\n"
     ]
    },
    {
     "name": "stderr",
     "output_type": "stream",
     "text": [
      "Fetching sequences:  41%|████      | 191/469 [01:26<02:03,  2.24it/s]"
     ]
    },
    {
     "name": "stdout",
     "output_type": "stream",
     "text": [
      "{'entryType': 'UniProtKB reviewed (Swiss-Prot)', 'primaryAccession': 'Q9HCD5', 'proteinDescription': {'recommendedName': {'fullName': {'value': 'Nuclear receptor coactivator 5'}, 'shortNames': [{'value': 'NCoA-5'}]}, 'alternativeNames': [{'fullName': {'value': 'Coactivator independent of AF-2'}, 'shortNames': [{'value': 'CIA'}]}]}, 'genes': [{'geneName': {'value': 'NCOA5'}, 'synonyms': [{'value': 'KIAA1637'}]}], 'sequence': {'value': 'MNTAPSRPSPTRRDPYGFGDSRDSRRDRSPIRGSPRREPRDGRNGRDARDSRDIRDPRDLRDHRHSRDLRDHRDSRSVRDVRDVRDLRDFRDLRDSRDFRDQRDPMYDRYRDMRDSRDPMYRREGSYDRYLRMDDYCRRKDDSYFDRYRDSFDGRGPPGPESQSRAKERLKREERRREELYRQYFEEIQRRFDAERPVDCSVIVVNKQTKDYAESVGRKVRDLGMVVDLIFLNTEVSLSQALEDVSRGGSPFAIVITQQHQIHRSCTVNIMFGTPQEHRNMPQADAMVLVARNYERYKNECREKEREEIARQAAKMADEAILQERERGGPEEGVRGGHPPAIQSLINLLADNRYLTAEETDKIINYLRERKERLMRSSTDSLPGPISRQPLGATSGASLKTQPSSQPLQSGQVLPSATPTPSAPPTSQQELQAKILSLFNSGTVTANSSSASPSVAAGNTPNQNFSTAANSQPQQRSQASGNQPPSILGQGGSAQNMGPRPGAPSQGLFGQPSSRLAPASNMTSQRPVSSTGINFDNPSVQKALDTLIQSGPALSHLVSQTTAQMGQPQAPMGSYQRHY', 'length': 579, 'molWeight': 65536, 'crc64': 'D2ADCCEBEE566A91', 'md5': 'D420030C126344E385AA0F3D32BF548E'}, 'extraAttributes': {'uniParcId': 'UPI000000D7B2'}}\n"
     ]
    },
    {
     "name": "stderr",
     "output_type": "stream",
     "text": [
      "Fetching sequences:  41%|████      | 192/469 [01:27<02:04,  2.23it/s]"
     ]
    },
    {
     "name": "stdout",
     "output_type": "stream",
     "text": [
      "{'entryType': 'UniProtKB reviewed (Swiss-Prot)', 'primaryAccession': 'Q8N5F7', 'proteinDescription': {'recommendedName': {'fullName': {'value': 'NF-kappa-B-activating protein'}}}, 'genes': [{'geneName': {'value': 'NKAP'}}], 'sequence': {'value': 'MAPVSGSRSPDREASGSGGRRRSSSKSPKPSKSARSPRGRRSRSHSCSRSGDRNGLTHQLGGLSQGSRNQSYRSRSRSRSRERPSAPRGIPFASASSSVYYGSYSRPYGSDKPWPSLLDKEREESLRQKRLSERERIGELGAPEVWGLSPKNPEPDSDEHTPVEDEEPKKSTTSASTSEEEKKKKSSRSKERSKKRRKKKSSKRKHKKYSEDSDSDSDSETDSSDEDNKRRAKKAKKKEKKKKHRSKKYKKKRSKKSRKESSDSSSKESQEEFLENPWKDRTKAEEPSDLIGPEAPKTLTSQDDKPLNYGHALLPGEGAAMAEYVKAGKRIPRRGEIGLTSEEIASFECSGYVMSGSRHRRMEAVRLRKENQIYSADEKRALASFNQEERRKRENKILASFREMVYRKTKGKDDK', 'length': 415, 'molWeight': 47138, 'crc64': '44BD1DE20F7ED35A', 'md5': '27910C7DD165B9911162BCD1DF81FC2C'}, 'extraAttributes': {'uniParcId': 'UPI000004A07B'}}\n"
     ]
    },
    {
     "name": "stderr",
     "output_type": "stream",
     "text": [
      "Fetching sequences:  41%|████      | 193/469 [01:27<02:03,  2.23it/s]"
     ]
    },
    {
     "name": "stdout",
     "output_type": "stream",
     "text": [
      "{'entryType': 'UniProtKB reviewed (Swiss-Prot)', 'primaryAccession': 'Q8WTT2', 'proteinDescription': {'recommendedName': {'fullName': {'value': 'Nucleolar complex protein 3 homolog'}, 'shortNames': [{'value': 'NOC3 protein homolog'}]}, 'alternativeNames': [{'fullName': {'value': 'Factor for adipocyte differentiation 24'}}, {'fullName': {'value': 'NOC3-like protein'}}, {'fullName': {'value': 'Nucleolar complex-associated protein 3-like protein'}}]}, 'genes': [{'geneName': {'value': 'NOC3L'}, 'synonyms': [{'value': 'AD24'}, {'value': 'C10orf117'}, {'value': 'FAD24'}]}], 'sequence': {'value': 'MKARRNKKQIPSFRKLIKTSKVKLENKLKNKQFKQQSTLKKYRKEQRKLRQAVKDAVSKKPIPLENPKEKRPGKRIEREEEEEEEALPLDMMDEDDLQLMKDLGQRVSFLTRDLSSSEPVHAKKRKHERIIDKYEKIPRTLQTAPEKELIHLLPIKDKSGIIPQTREKPVTDSNKDEEDQEEERELEEEIIEDPIQELTIEEHLIERKKKLQEKKMHIAALASAILSDPENNIKKLKELRSMLMEQDPDVAVTVRKLVIVSLMELFKDITPSYKIRPLTEAEKSTKTRKETQKLREFEEGLVSQYKFYLENLEQMVKDWKQRKLKKSNVVSLKAYKGLAEVAVKSLCELLVALPHFNFHNNIIVLIVPLMNDMSKLISEMCCEAVKKLFKQDKLGQASLGVIKVISGFVKGRNYEVRPEMLKTFLCLRIKEVEVKKDTEDINKPKKFMTFKEKRKSLSRMQRKWKKAEEKLERELREAEASESTEKKLKLHTETLNIVFVTYFRILKKAQRSPLLPAVLEGLAKFAHLINVEFFDDLLVVLHTLIESGDLSYQESLHCVQTAFHILSGQGDVLNIDPLKFYTHLYKTLFKLHAGATNEGVEIVLQCLDVMLTKRRKQVSQQRALAFIKRLCTLALHVLPNSSIGILATTRILMHTFPKTDLLLDSESQGSGVFLPELDEPEYCNAQNTALWELHALRRHYHPIVQRFAAHLIAGAPSEGSGALKPELSRRSATELFEAYSMAEMTFNPPVESSNPKIKGKFLQGDSFLNEDLNQLIKRYSSEVATESPLDFTKYLKTSLH', 'length': 800, 'molWeight': 92548, 'crc64': '4471F5C6246F53C9', 'md5': '49C76A1D13D42C10A5320115E88C9BB3'}, 'extraAttributes': {'uniParcId': 'UPI000006DE09'}}\n"
     ]
    },
    {
     "name": "stderr",
     "output_type": "stream",
     "text": [
      "Fetching sequences:  41%|████▏     | 194/469 [01:27<02:02,  2.25it/s]"
     ]
    },
    {
     "name": "stdout",
     "output_type": "stream",
     "text": [
      "{'entryType': 'UniProtKB reviewed (Swiss-Prot)', 'primaryAccession': 'O75607', 'proteinDescription': {'recommendedName': {'fullName': {'value': 'Nucleoplasmin-3'}}}, 'genes': [{'geneName': {'value': 'NPM3'}}], 'sequence': {'value': 'MAAGTAAALAFLSQESRTRAGGVGGLRVPAPVTMDSFFFGCELSGHTRSFTFKVEEEDDAEHVLALTMLCLTEGAKDECNVVEVVARNHDHQEIAVPVANLKLSCQPMLSLDDFQLQPPVTFRLKSGSGPVRITGRHQIVTMSNDVSEEESEEEEEDSDEEEVELCPILPAKKQGGRP', 'length': 178, 'molWeight': 19344, 'crc64': '8C899DE8C3CD61FA', 'md5': '77AE702725CF3705855CB77B97FA8A12'}, 'extraAttributes': {'uniParcId': 'UPI00001303EB'}}\n"
     ]
    },
    {
     "name": "stderr",
     "output_type": "stream",
     "text": [
      "Fetching sequences:  42%|████▏     | 195/469 [01:28<02:03,  2.23it/s]"
     ]
    },
    {
     "name": "stdout",
     "output_type": "stream",
     "text": [
      "{'entryType': 'UniProtKB reviewed (Swiss-Prot)', 'primaryAccession': 'Q9UH17', 'proteinDescription': {'recommendedName': {'fullName': {'value': 'DNA dC->dU-editing enzyme APOBEC-3B'}, 'shortNames': [{'value': 'A3B'}], 'ecNumbers': [{'value': '3.5.4.38'}]}, 'alternativeNames': [{'fullName': {'value': 'Phorbolin-1-related protein'}}, {'fullName': {'value': 'Phorbolin-2/3'}}]}, 'genes': [{'geneName': {'value': 'APOBEC3B'}}], 'sequence': {'value': 'MNPQIRNPMERMYRDTFYDNFENEPILYGRSYTWLCYEVKIKRGRSNLLWDTGVFRGQVYFKPQYHAEMCFLSWFCGNQLPAYKCFQITWFVSWTPCPDCVAKLAEFLSEHPNVTLTISAARLYYYWERDYRRALCRLSQAGARVTIMDYEEFAYCWENFVYNEGQQFMPWYKFDENYAFLHRTLKEILRYLMDPDTFTFNFNNDPLVLRRRQTYLCYEVERLDNGTWVLMDQHMGFLCNEAKNLLCGFYGRHAELRFLDLVPSLQLDPAQIYRVTWFISWSPCFSWGCAGEVRAFLQENTHVRLRIFAARIYDYDPLYKEALQMLRDAGAQVSIMTYDEFEYCWDTFVYRQGCPFQPWDGLEEHSQALSGRLRAILQNQGN', 'length': 382, 'molWeight': 45924, 'crc64': 'DA6EDD23E8856240', 'md5': '8BDEDB5255F1D6BAAA8B126BB5AC33D6'}, 'extraAttributes': {'uniParcId': 'UPI00001318FE'}}\n"
     ]
    },
    {
     "name": "stderr",
     "output_type": "stream",
     "text": [
      "Fetching sequences:  42%|████▏     | 196/469 [01:28<02:01,  2.24it/s]"
     ]
    },
    {
     "name": "stdout",
     "output_type": "stream",
     "text": [
      "{'entryType': 'UniProtKB reviewed (Swiss-Prot)', 'primaryAccession': 'Q9BZE4', 'proteinDescription': {'recommendedName': {'fullName': {'value': 'GTP-binding protein 4'}}, 'alternativeNames': [{'fullName': {'value': 'Chronic renal failure gene protein'}}, {'fullName': {'value': 'GTP-binding protein NGB'}}, {'fullName': {'value': 'Nucleolar GTP-binding protein 1'}}]}, 'genes': [{'geneName': {'evidences': [{'evidenceCode': 'ECO:0000312', 'source': 'HGNC', 'id': 'HGNC:21535'}], 'value': 'GTPBP4'}, 'synonyms': [{'value': 'CRFG'}, {'value': 'NOG1'}]}], 'sequence': {'value': 'MAHYNFKKITVVPSAKDFIDLTLSKTQRKTPTVIHKHYQIHRIRHFYMRKVKFTQQNYHDRLSQILTDFPKLDDIHPFYADLMNILYDKDHYKLALGQINIAKNLVDNVAKDYVRLMKYGDSLYRCKQLKRAALGRMCTVIKRQKQSLEYLEQVRQHLSRLPTIDPNTRTLLLCGYPNVGKSSFINKVTRADVDVQPYAFTTKSLFVGHMDYKYLRWQVVDTPGILDHPLEDRNTIEMQAITALAHLRAAVLYVMDLSEQCGHGLREQLELFQNIRPLFINKPLIVVANKCDVKRIAELSEDDQKIFTDLQSEGFPVIETSTLTEEGVIKVKTEACDRLLAHRVETKMKGNKVNEVLNRLHLAIPTRRDDKERPPFIPEGVVARRKRMETEESRKKRERDLELEMGDDYILDLQKYWDLMNLSEKHDKIPEIWEGHNIADYIDPAIMKKLEELEKEEELRTAAGEYDSVSESEDEEMLEIRQLAKQIREKKKLKILESKEKNTQGPRMPRTAKKVQRTVLEKEMRSLGVDMDDKDDAHYAVQARRSRSITRKRKREDSAPPSSVARSGSCSRTPRDVSGLRDVKMVKKAKTMMKNAQKKMNRLGKKGEADRHVFDMKPKHLLSGKRKAGKKDRR', 'length': 634, 'molWeight': 73964, 'crc64': '0A05E65E65D6DB62', 'md5': 'AD983728D2DDD31BDC659BEFAEDA2837'}, 'extraAttributes': {'uniParcId': 'UPI000000D960'}}\n"
     ]
    },
    {
     "name": "stderr",
     "output_type": "stream",
     "text": [
      "Fetching sequences:  42%|████▏     | 197/469 [01:29<02:00,  2.25it/s]"
     ]
    },
    {
     "name": "stdout",
     "output_type": "stream",
     "text": [
      "{'entryType': 'UniProtKB reviewed (Swiss-Prot)', 'primaryAccession': 'Q01081', 'proteinDescription': {'recommendedName': {'fullName': {'value': 'Splicing factor U2AF 35 kDa subunit'}}, 'alternativeNames': [{'fullName': {'value': 'U2 auxiliary factor 35 kDa subunit'}}, {'fullName': {'value': 'U2 small nuclear RNA auxiliary factor 1'}}, {'fullName': {'value': 'U2 snRNP auxiliary factor small subunit'}}]}, 'genes': [{'geneName': {'value': 'U2AF1'}, 'synonyms': [{'value': 'U2AF35'}, {'value': 'U2AFBP'}], 'orfNames': [{'value': 'FP793'}]}], 'sequence': {'value': 'MAEYLASIFGTEKDKVNCSFYFKIGACRHGDRCSRLHNKPTFSQTIALLNIYRNPQNSSQSADGLRCAVSDVEMQEHYDEFFEEVFTEMEEKYGEVEEMNVCDNLGDHLVGNVYVKFRREEDAEKAVIDLNNRWFNGQPIHAELSPVTDFREACCRQYEMGECTRGGFCNFMHLKPISRELRRELYGRRRKKHRSRSRSRERRSRSRDRGRGGGGGGGGGGGGRERDRRRSRDRERSGRF', 'length': 240, 'molWeight': 27872, 'crc64': '3DA130DCE0B953F6', 'md5': '973FCEA5D4CFCCB4F1016E86EEB3E4F1'}, 'extraAttributes': {'uniParcId': 'UPI0000000C26'}}\n"
     ]
    },
    {
     "name": "stderr",
     "output_type": "stream",
     "text": [
      "Fetching sequences:  42%|████▏     | 198/469 [01:29<02:00,  2.25it/s]"
     ]
    },
    {
     "name": "stdout",
     "output_type": "stream",
     "text": [
      "{'entryType': 'UniProtKB reviewed (Swiss-Prot)', 'primaryAccession': 'Q99848', 'proteinDescription': {'recommendedName': {'fullName': {'value': 'Probable rRNA-processing protein EBP2'}}, 'alternativeNames': [{'fullName': {'value': 'EBNA1-binding protein 2'}}, {'fullName': {'value': 'Nucleolar protein p40'}}]}, 'genes': [{'geneName': {'value': 'EBNA1BP2'}, 'synonyms': [{'value': 'EBP2'}]}], 'sequence': {'value': 'MDTPPLSDSESESDESLVTDRELQDAFSRGLLKPGLNVVLEGPKKAVNDVNGLKQCLAEFKRDLEWVERLDVTLGPVPEIGGSEAPAPQNKDQKAVDPEDDFQREMSFYRQAQAAVLAVLPRLHQLKVPTKRPTDYFAEMAKSDLQMQKIRQKLQTKQAAMERSEKAKQLRALRKYGKKVQTEVLQKRQQEKAHMMNAIKKYQKGFSDKLDFLEGDQKPLAQRKKAGAKGQQMRKGPSAKRRYKNQKFGFGGKKKGSKWNTRESYDDVSSFRAKTAHGRGLKRPGKKGSNKRPGKRTREKMKNRTH', 'length': 306, 'molWeight': 34852, 'crc64': '1212FC2E9442FA2E', 'md5': '121E6E0855AF2F2BFF304C9CBC1DA52B'}, 'extraAttributes': {'uniParcId': 'UPI000013C9E3'}}\n"
     ]
    },
    {
     "name": "stderr",
     "output_type": "stream",
     "text": [
      "Fetching sequences:  42%|████▏     | 199/469 [01:30<02:00,  2.25it/s]"
     ]
    },
    {
     "name": "stdout",
     "output_type": "stream",
     "text": [
      "{'entryType': 'UniProtKB reviewed (Swiss-Prot)', 'primaryAccession': 'P16989-2', 'proteinDescription': {'recommendedName': {'fullName': {'value': 'Isoform 2 of Y-box-binding protein 3'}}, 'alternativeNames': [{'fullName': {'value': 'Cold shock domain-containing protein A'}}, {'fullName': {'value': 'DNA-binding protein A'}}, {'fullName': {'value': 'Single-strand DNA-binding protein NF-GMB'}}]}, 'genes': [{'geneName': {'value': 'YBX3'}, 'synonyms': [{'value': 'CSDA'}, {'value': 'DBPA'}]}], 'sequence': {'value': 'MSEAGEATTTTTTTLPQAPTEAAAAAPQDPAPKSPVGSGAPQAAAPAPAAHVAGNPGGDAAPAATGTAAAASLATAAGSEDAEKKVLATKVLGTVKWFNVRNGYGFINRNDTKEDVFVHQTAIKKNNPRKYLRSVGDGETVEFDVVEGEKGAEAANVTGPDGVPVEGSRYAADRRRYRRGYYGRRRGPPRNAGEIGEMKDGVPEGAQLQGPVHRNPTYRPRYRSRGPPRPRPAPAVGEAEDKENQQATSGPNQPSVRRGYRRPYNYRRRPRPPNAPSQDGKEAKAGEAPTENPAPPTQQSSAE', 'length': 303, 'molWeight': 31947, 'crc64': '29E708D6FCB442CD', 'md5': 'A6ADC7A5F0D32F355F18BCEA6C27979D'}, 'extraAttributes': {'uniParcId': 'UPI0000072838'}}\n"
     ]
    },
    {
     "name": "stderr",
     "output_type": "stream",
     "text": [
      "Fetching sequences:  43%|████▎     | 200/469 [01:30<01:59,  2.25it/s]"
     ]
    },
    {
     "name": "stdout",
     "output_type": "stream",
     "text": [
      "{'entryType': 'UniProtKB reviewed (Swiss-Prot)', 'primaryAccession': 'Q13428-7', 'proteinDescription': {'recommendedName': {'fullName': {'value': 'Isoform 7 of Treacle protein'}}, 'alternativeNames': [{'fullName': {'value': 'Treacher Collins syndrome protein'}}]}, 'genes': [{'geneName': {'value': 'TCOF1'}}], 'sequence': {'value': 'MAEARKRRELLPLIYHHLLRAGYVRAAREVKEQSGQKCFLAQPVTLLDIYTHWQQTSELGRKRKAEEDAALQAKKTRVSDPISTSESSEEEEEAEAETAKATPRLASTNSSVLGADLPSSMKEKAKAETEKAGKTGNSMPHPATGKTVANLLSGKSPRKSAEPSANTTLVSETEEEGSVPAFGAAAKPGMVSAGQADSSSEDTSSSSDETDVEGKPSVKPAQVKASSVSTKESPARKAAPAPGKVGDVTPQVKGGALPPAKRAKKPEEESESSEEGSESEEEAPAGTRSQVKASEKILQVRAASAPAKGTPGKGATPAPPGKAGAVASQTKAGKPEEDSESSSEESSDSEEETPAAKALLQAKASGKTSQVGAASAPAKESPRKGAAPAPPGKTGPAVAKAQAGKREEDSQSSSEESDSEEEAPAQAKPSGKAPQVRAASAPAKESPRKGAAPAPPRKTGPAAAQVQVGKQEEDSRSSSEESDSDREALAAMNAAQVKPLGKSPQVKPASTMGMGPLGKGAGPVPPGKVGPATPSAQVGKWEEDSESSSEESSDSSDGEVPTAVAPAQEKSLGNILQAKPTSSPAKGPPQKAGPVAVQVKAEKPMDNSESSEESSDSADSEEAPAAMTAAQAKPALKIPQTKACPKKTNTTASAKVAPVRVGTQAPRKAGTATSPAGSSPAVAGGTQRPAEDSSSSEESDSEEEKTGLAVTVGQAKSVGKGLQVKAASVPVKGSLGQGTAPVLPGKTGPTVTQVKAEKQEDSESSEEESDSEEAAASPAQVKTSVKKTQAKANPAAARAPSAKGTISAPGKVVTAAAQAKQRSPSKVKPPVRNPQNSTVLARGPASVPSVGKAVATAAQAQTGPEEDSGSSEEESDSEEEAETLAQVKPSGKTHQIRAALAPAKESPRKGAAPTPPGKTGPSAAQAGKQDDSGSSSEESDSDGEAPAAVTSAQVIKPPLIFVDPNRSPAGPAATPAQAQAASTPRKARASESTARSSSSESEDEDVIPATQCLTPGIRTNVVTMPTAHPRIAPKASMAGASSSKESSRISDGKKQEGPATQVDSAVGTLPATSPQSTSVQAKGTNKLRKPKLPEVQQATKAPESSDDSEDSSDSSSGSEEDGEGPQGAKSAHTLVGPTPSRTETLVEETAAESSEDDVVAPSQSLLSGYMTPGLTPANSQASKATPKLDSSPSVSSTLAAKDDPDGKQEAKPQQAAGMLSPKTGGKEAASGTTPQKSRKPKKGAGNPQASTLALQSNITQCLLGQPWPLNEAQVQASVVKVLTELLEQERKKVVDTTKESSRKGWESRKRKLSGDQPAARTPRSKKKKKLGAGEGGEASVSPEKTSTTSKGKAKRDKASGDVKEKKGKGSLGSQGAKDEPEEELQKGMGTVEGGDQSNPKSKKEKKKSDKRKKDKEKKEKKKKAKKASTKDSESPSQKKKKKKKKTAEQTV', 'length': 1451, 'molWeight': 148353, 'crc64': '0493C61010D7F167', 'md5': '70C9D85B85F09915F3EE8301847746AD'}, 'extraAttributes': {'uniParcId': 'UPI0001818C55'}}\n"
     ]
    },
    {
     "name": "stderr",
     "output_type": "stream",
     "text": [
      "Fetching sequences:  43%|████▎     | 201/469 [01:31<01:59,  2.24it/s]"
     ]
    },
    {
     "name": "stdout",
     "output_type": "stream",
     "text": [
      "{'entryType': 'UniProtKB reviewed (Swiss-Prot)', 'primaryAccession': 'Q96GQ7', 'proteinDescription': {'recommendedName': {'fullName': {'value': 'Probable ATP-dependent RNA helicase DDX27'}, 'ecNumbers': [{'value': '3.6.4.13'}]}, 'alternativeNames': [{'fullName': {'value': 'DEAD box protein 27'}}]}, 'genes': [{'geneName': {'value': 'DDX27'}, 'synonyms': [{'evidences': [{'evidenceCode': 'ECO:0000303', 'source': 'PubMed', 'id': '20813266'}], 'value': 'cPERP-F'}, {'value': 'RHLP'}], 'orfNames': [{'value': 'HSPC259'}, {'value': 'PP3241'}]}], 'sequence': {'value': 'MVLAQRRRGGCEKLRAGPQAVLASGSGFCDNMLADLGLIGTIGEDDEVPVEPESDSGDEEEEGPIVLGRRQKALGKNRSADFNPDFVFTEKEGTYDGSWALADVMSQLKKKRAATTLDEKIEKVRKKRKTEDKEAKSGKLEKEKEAKEGSEPKEQEDLQENDEEGSEDEASETDYSSADENILTKADTLKVKDRKKKKKKGQEAGGFFEDASQYDENLSFQDMNLSRPLLKAITAMGFKQPTPIQKACIPVGLLGKDICACAATGTGKTAAFALPVLERLIYKPRQAPVTRVLVLVPTRELGIQVHSVTRQLAQFCNITTCLAVGGLDVKSQEAALRAAPDILIATPGRLIDHLHNCPSFHLSSIEVLILDEADRMLDEYFEEQMKEIIRMCSHHRQTMLFSATMTDEVKDLASVSLKNPVRIFVNSNTDVAPFLRQEFIRIRPNREGDREAIVAALLTRTFTDHVMLFTQTKKQAHRMHILLGLMGLQVGELHGNLSQTQRLEALRRFKDEQIDILVATDVAARGLDIEGVKTVINFTMPNTIKHYVHRVGRTARAGRAGRSVSLVGEDERKMLKEIVKAAKAPVKARILPQDVILKFRDKIEKMEKDVYAVLQLEAEEKEMQQSEAQINTAKRLLEKGKEAVVQEPERSWFQTKEERKKEKIAKALQEFDLALRGKKKRKKFMKDAKKKGEMTAEERSQFEILKAQMFAERLAKRNRRAKRARAMPEEEPVRGPAKKQKQGKKSVFDEELTNTSKKALKQYRAGPSFEERKQLGLPHQRRGGNFKSKSRYKRRK', 'length': 796, 'molWeight': 89835, 'crc64': '9282C712B8F8B84A', 'md5': '4D497EFA6089E0B7AA33513AEF7C6F35'}, 'extraAttributes': {'uniParcId': 'UPI0000140DCA'}}\n"
     ]
    },
    {
     "name": "stderr",
     "output_type": "stream",
     "text": [
      "Fetching sequences:  43%|████▎     | 202/469 [01:31<02:00,  2.22it/s]"
     ]
    },
    {
     "name": "stdout",
     "output_type": "stream",
     "text": [
      "{'entryType': 'UniProtKB reviewed (Swiss-Prot)', 'primaryAccession': 'Q8N8U2', 'proteinDescription': {'recommendedName': {'fullName': {'value': 'Chromodomain Y-like protein 2'}, 'shortNames': [{'value': 'CDY-like 2'}]}}, 'genes': [{'geneName': {'value': 'CDYL2'}}], 'sequence': {'value': 'MASGDLYEVERIVDKRKNKKGKWEYLIRWKGYGSTEDTWEPEHHLLHCEEFIDEFNGLHMSKDKRIKSGKQSSTSKLLRDSRGPSVEKLSHRPSDPGKSKGTSHKRKRINPPLAKPKKGYSGKPSSGGDRATKTVSYRTTPSGLQIMPLKKSQNGMENGDAGSEKDERHFGNGSHQPGLDLNDHVGEQDMGECDVNHATLAENGLGSALTNGGLNLHSPVKRKLEAEKDYVFDKRLRYSVRQNESNCRFRDIVVRKEEGFTHILLSSQTSDNNALTPEIMKEVRRALCNAATDDSKLLLLSAVGSVFCSGLDYSYLIGRLSSDRRKESTRIAEAIRDFVKAFIQFKKPIVVAINGPALGLGASILPLCDIVWASEKAWFQTPYATIRLTPAGCSSYTFPQILGVALANEMLFCGRKLTAQEACSRGLVSQVFWPTTFSQEVMLRVKEMASCSAVVLEESKCLVRSFLKSVLEDVNEKECLMLKQLWSSSKGLDSLFSYLQDKIYEV', 'length': 506, 'molWeight': 56500, 'crc64': 'C5093B57FDF6AEBE', 'md5': '756A78A197D0AEAD982AC0ECF97D5B72'}, 'extraAttributes': {'uniParcId': 'UPI00001B2954'}}\n"
     ]
    },
    {
     "name": "stderr",
     "output_type": "stream",
     "text": [
      "Fetching sequences:  43%|████▎     | 203/469 [01:32<01:59,  2.23it/s]"
     ]
    },
    {
     "name": "stdout",
     "output_type": "stream",
     "text": [
      "{'entryType': 'UniProtKB reviewed (Swiss-Prot)', 'primaryAccession': 'P0C0S8', 'proteinDescription': {'recommendedName': {'fullName': {'value': 'Histone H2A type 1'}, 'shortNames': [{'value': 'H2A.1'}]}, 'alternativeNames': [{'fullName': {'value': 'Histone H2A/ptl'}}]}, 'genes': [{'geneName': {'evidences': [{'evidenceCode': 'ECO:0000312', 'source': 'HGNC', 'id': 'HGNC:4737'}], 'value': 'H2AC11'}, 'synonyms': [{'value': 'H2AFP'}, {'value': 'HIST1H2AG'}]}, {'geneName': {'evidences': [{'evidenceCode': 'ECO:0000312', 'source': 'HGNC', 'id': 'HGNC:4725'}], 'value': 'H2AC13'}, 'synonyms': [{'value': 'H2AFC'}, {'value': 'HIST1H2AI'}]}, {'geneName': {'evidences': [{'evidenceCode': 'ECO:0000312', 'source': 'HGNC', 'id': 'HGNC:4726'}], 'value': 'H2AC15'}, 'synonyms': [{'value': 'H2AFD'}, {'value': 'HIST1H2AK'}]}, {'geneName': {'evidences': [{'evidenceCode': 'ECO:0000312', 'source': 'HGNC', 'id': 'HGNC:4730'}], 'value': 'H2AC16'}, 'synonyms': [{'value': 'H2AFI'}, {'value': 'HIST1H2AL'}]}, {'geneName': {'evidences': [{'evidenceCode': 'ECO:0000312', 'source': 'HGNC', 'id': 'HGNC:4735'}], 'value': 'H2AC17'}, 'synonyms': [{'value': 'H2AFN'}, {'value': 'HIST1H2AM'}]}], 'sequence': {'value': 'MSGRGKQGGKARAKAKTRSSRAGLQFPVGRVHRLLRKGNYAERVGAGAPVYLAAVLEYLTAEILELAGNAARDNKKTRIIPRHLQLAIRNDEELNKLLGKVTIAQGGVLPNIQAVLLPKKTESHHKAKGK', 'length': 130, 'molWeight': 14091, 'crc64': '48DD539793FE8256', 'md5': 'CAFC078A197B33A059663A9C7D1AC119'}, 'extraAttributes': {'uniParcId': 'UPI0000000E01'}}\n"
     ]
    },
    {
     "name": "stderr",
     "output_type": "stream",
     "text": [
      "Fetching sequences:  43%|████▎     | 204/469 [01:32<01:58,  2.24it/s]"
     ]
    },
    {
     "name": "stdout",
     "output_type": "stream",
     "text": [
      "{'entryType': 'UniProtKB reviewed (Swiss-Prot)', 'primaryAccession': 'Q13523', 'proteinDescription': {'recommendedName': {'fullName': {'value': 'Serine/threonine-protein kinase PRP4 homolog'}, 'ecNumbers': [{'evidences': [{'evidenceCode': 'ECO:0000305', 'source': 'PubMed', 'id': '20118938'}, {'evidenceCode': 'ECO:0000305', 'source': 'PubMed', 'id': '21406692'}], 'value': '2.7.11.1'}]}, 'alternativeNames': [{'fullName': {'value': 'PRP4 kinase'}}, {'fullName': {'value': 'PRP4 pre-mRNA-processing factor 4 homolog'}}]}, 'genes': [{'geneName': {'evidences': [{'evidenceCode': 'ECO:0000312', 'source': 'HGNC', 'id': 'HGNC:17346'}], 'value': 'PRP4K'}, 'synonyms': [{'value': 'KIAA0536'}, {'value': 'PRP4'}, {'value': 'PRP4B'}, {'value': 'PRP4H'}, {'value': 'PRPF4K'}]}], 'sequence': {'value': 'MAAAETQSLREQPEMEDANSEKSINEENGEVSEDQSQNKHSRHKKKKHKHRSKHKKHKHSSEEDKDKKHKHKHKHKKHKRKEIIDASDKEGMSPAKRTKLDDLALLEDLEKQRALIKAELDNELMEGKVQSGMGLILQGYESGSEEEGEIHEKARNGNRSSTRSSSTKGKLELVDNKITTKKRSKSRSKERTRHRSDKKKSKGGIEIVKEKTTRSKSKERKKSKSPSKRSKSQDQARKSKSPTLRRRSQEKIGKARSPTDDKVKIEDKSKSKDRKKSPIINESRSRDRGKKSRSPVDLRGKSKDRRSRSKERKSKRSETDKEKKPIKSPSKDASSGKENRSPSRRPGRSPKRRSLSPKPRDKSRRSRSPLLNDRRSKQSKSPSRTLSPGRRAKSRSLERKRREPERRRLSSPRTRPRDDILSRRERSKDASPINRWSPTRRRSRSPIRRRSRSPLRRSRSPRRRSRSPRRRDRGRRSRSRLRRRSRSRGGRRRRSRSKVKEDKFKGSLSEGMKVEQESSSDDNLEDFDVEEEDEEALIEQRRIQRQAIVQKYKYLAEDSNMSVPSEPSSPQSSTRTRSPSPDDILERVAADVKEYERENVDTFEASVKAKHNLMTVEQNNGSSQKKLLAPDMFTESDDMFAAYFDSARLRAAGIGKDFKENPNLRDNWTDAEGYYRVNIGEVLDKRYNVYGYTGQGVFSNVVRARDNARANQEVAVKIIRNNELMQKTGLKELEFLKKLNDADPDDKFHCLRLFRHFYHKQHLCLVFEPLSMNLREVLKKYGKDVGLHIKAVRSYSQQLFLALKLLKRCNILHADIKPDNILVNESKTILKLCDFGSASHVADNDITPYLVSRFYRAPEIIIGKSYDYGIDMWSVGCTLYELYTGKILFPGKTNNHMLKLAMDLKGKMPNKMIRKGVFKDQHFDQNLNFMYIEVDKVTEREKVTVMSTINPTKDLLADLIGCQRLPEDQRKKVHQLKDLLDQILMLDPAKRISINQALQHAFIQEKI', 'length': 1007, 'molWeight': 116987, 'crc64': 'EC8C1538A61EDA78', 'md5': 'CC92BCD03971F1BBCB8A674EB1C03830'}, 'extraAttributes': {'uniParcId': 'UPI000013DD12'}}\n"
     ]
    },
    {
     "name": "stderr",
     "output_type": "stream",
     "text": [
      "Fetching sequences:  44%|████▎     | 205/469 [01:32<01:57,  2.25it/s]"
     ]
    },
    {
     "name": "stdout",
     "output_type": "stream",
     "text": [
      "{'entryType': 'UniProtKB reviewed (Swiss-Prot)', 'primaryAccession': 'O15371', 'proteinDescription': {'recommendedName': {'fullName': {'evidences': [{'evidenceCode': 'ECO:0000255', 'source': 'HAMAP-Rule', 'id': 'MF_03003'}], 'value': 'Eukaryotic translation initiation factor 3 subunit D'}, 'shortNames': [{'evidences': [{'evidenceCode': 'ECO:0000255', 'source': 'HAMAP-Rule', 'id': 'MF_03003'}], 'value': 'eIF3d'}]}, 'alternativeNames': [{'fullName': {'evidences': [{'evidenceCode': 'ECO:0000255', 'source': 'HAMAP-Rule', 'id': 'MF_03003'}], 'value': 'Eukaryotic translation initiation factor 3 subunit 7'}}, {'fullName': {'evidences': [{'evidenceCode': 'ECO:0000255', 'source': 'HAMAP-Rule', 'id': 'MF_03003'}], 'value': 'eIF-3-zeta'}}, {'fullName': {'value': 'eIF3 p66'}}]}, 'genes': [{'geneName': {'evidences': [{'evidenceCode': 'ECO:0000255', 'source': 'HAMAP-Rule', 'id': 'MF_03003'}], 'value': 'EIF3D'}, 'synonyms': [{'evidences': [{'evidenceCode': 'ECO:0000255', 'source': 'HAMAP-Rule', 'id': 'MF_03003'}], 'value': 'EIF3S7'}]}], 'sequence': {'value': 'MAKFMTPVIQDNPSGWGPCAVPEQFRDMPYQPFSKGDRLGKVADWTGATYQDKRYTNKYSSQFGGGSQYAYFHEEDESSFQLVDTARTQKTAYQRNRMRFAQRNLRRDKDRRNMLQFNLQILPKSAKQKERERIRLQKKFQKQFGVRQKWDQKSQKPRDSSVEVRSDWEVKEEMDFPQLMKMRYLEVSEPQDIECCGALEYYDKAFDRITTRSEKPLRSIKRIFHTVTTTDDPVIRKLAKTQGNVFATDAILATLMSCTRSVYSWDIVVQRVGSKLFFDKRDNSDFDLLTVSETANEPPQDEGNSFNSPRNLAMEATYINHNFSQQCLRMGKERYNFPNPNPFVEDDMDKNEIASVAYRYRRWKLGDDIDLIVRCEHDGVMTGANGEVSFINIKTLNEWDSRHCNGVDWRQKLDSQRGAVIATELKNNSYKLARWTCCALLAGSEYLKLGYVSRYHVKDSSRHVILGTQQFKPNEFASQINLSVENAWGILRCVIDICMKLEEGKYLILKDPNKQVIRVYSLPDGTFSSDEDEEEEEEEEEEEEEEET', 'length': 548, 'molWeight': 63973, 'crc64': '7FE0448EC3BE1711', 'md5': 'F6711EA8955D8EF56955BBB1BA5A5EAC'}, 'extraAttributes': {'uniParcId': 'UPI000012D306'}}\n"
     ]
    },
    {
     "name": "stderr",
     "output_type": "stream",
     "text": [
      "Fetching sequences:  44%|████▍     | 206/469 [01:33<01:56,  2.25it/s]"
     ]
    },
    {
     "name": "stdout",
     "output_type": "stream",
     "text": [
      "{'entryType': 'UniProtKB reviewed (Swiss-Prot)', 'primaryAccession': 'Q2NL82', 'proteinDescription': {'recommendedName': {'fullName': {'value': 'Pre-rRNA-processing protein TSR1 homolog'}}}, 'genes': [{'geneName': {'value': 'TSR1'}, 'synonyms': [{'value': 'KIAA1401'}]}], 'sequence': {'value': 'MAAHRPGPLKQQNKAHKGGRHRGRGSAQRDGKGRLALKTLSKKVRKELSRVDQRHRASQLRKQKKEAVLAEKRQLGGKDGPPHQVLVVPLHSRISLPEAMQLLQDRDTGTVHLNELGNTQNFMLLCPRLKHRWFFTSARPGDLHVVLDMAKVADTILFLLDPLEGWDSTGDYCLSCLFAQGLPTYTLAVQGISGLPLKKQIDTRKKLSKAVEKRFPHDKLLLLDTQQEAGMLLRQLANQKQQHLAFRDRRAYLFAHAVDFVPSEENNLVGTLKISGYVRGQTLNVNRLLHIVGYGDFQMKQIDAPGDPFPLNPRGIKPQKDPDMAMEICATDAVDDMEEGLKVLMKADPGRQESLQAEVIPDPMEGEQTWPTEEELSEAKDFLKESSKVVKKVPKGTSSYQAEWILDGGSQSGGEGDEYEYDDMEHEDFMEEESQDESSEEEEEYETMTIGESVHDDLYDKKVDEEAEAKMLEKYKQERLEEMFPDEVDTPRDVAARIRFQKYRGLKSFRTSPWDPKENLPQDYARIFQFQNFTNTRKSIFKEVEEKEVEGAEVGWYVTLHVSEVPVSVVECFRQGTPLIAFSLLPHEQKMSVLNMVVRRDPGNTEPVKAKEELIFHCGFRRFRASPLFSQHTAADKHKLQRFLTADMALVATVYAPITFPPASVLLFKQKSNGMHSLIATGHLMSVDPDRMVIKRVVLSGHPFKIFTKMAVVRYMFFNREDVLWFKPVELRTKWGRRGHIKEPLGTHGHMKCSFDGKLKSQDTVLMNLYKRVFPKWTYDPYVPEPVPWLKSEISSTVPQGGME', 'length': 804, 'molWeight': 91810, 'crc64': 'EDDBE6AD04E7F3A7', 'md5': 'A8D59C537ABCF934FFADD04389719934'}, 'extraAttributes': {'uniParcId': 'UPI00002005DF'}}\n"
     ]
    },
    {
     "name": "stderr",
     "output_type": "stream",
     "text": [
      "Fetching sequences:  44%|████▍     | 207/469 [01:33<01:57,  2.22it/s]"
     ]
    },
    {
     "name": "stdout",
     "output_type": "stream",
     "text": [
      "{'entryType': 'UniProtKB reviewed (Swiss-Prot)', 'primaryAccession': 'P14866', 'proteinDescription': {'recommendedName': {'fullName': {'value': 'Heterogeneous nuclear ribonucleoprotein L'}, 'shortNames': [{'value': 'hnRNP L'}]}}, 'genes': [{'geneName': {'value': 'HNRNPL'}, 'synonyms': [{'value': 'HNRPL'}], 'orfNames': [{'value': 'P/OKcl.14'}]}], 'sequence': {'value': 'MSRRLLPRAEKRRRRLEQRQQPDEQRRRSGAMVKMAAAGGGGGGGRYYGGGSEGGRAPKRLKTDNAGDQHGGGGGGGGGAGAAGGGGGGENYDDPHKTPASPVVHIRGLIDGVVEADLVEALQEFGPISYVVVMPKKRQALVEFEDVLGACNAVNYAADNQIYIAGHPAFVNYSTSQKISRPGDSDDSRSVNSVLLFTILNPIYSITTDVLYTICNPCGPVQRIVIFRKNGVQAMVEFDSVQSAQRAKASLNGADIYSGCCTLKIEYAKPTRLNVFKNDQDTWDYTNPNLSGQGDPGSNPNKRQRQPPLLGDHPAEYGGPHGGYHSHYHDEGYGPPPPHYEGRRMGPPVGGHRRGPSRYGPQYGHPPPPPPPPEYGPHADSPVLMVYGLDQSKMNCDRVFNVFCLYGNVEKVKFMKSKPGAAMVEMADGYAVDRAITHLNNNFMFGQKLNVCVSKQPAIMPGQSYGLEDGSCSYKDFSESRNNRFSTPEQAAKNRIQHPSNVLHFFNAPLEVTEENFFEICDELGVKRPSSVKVFSGKSERSSSGLLEWESKSDALETLGFLNHYQMKNPNGPYPYTLKLCFSTAQHAS', 'length': 589, 'molWeight': 64133, 'crc64': '31EEB51AF1C65F83', 'md5': '0AB10B8D979682865F1B2A09CC27145B'}, 'extraAttributes': {'uniParcId': 'UPI00004432FA'}}\n"
     ]
    },
    {
     "name": "stderr",
     "output_type": "stream",
     "text": [
      "Fetching sequences:  44%|████▍     | 208/469 [01:34<02:09,  2.02it/s]"
     ]
    },
    {
     "name": "stdout",
     "output_type": "stream",
     "text": [
      "{'entryType': 'UniProtKB reviewed (Swiss-Prot)', 'primaryAccession': 'Q96ME7', 'secondaryAccessions': ['B4DSM5', 'Q53RZ7', 'Q86XK6', 'Q96JM0'], 'uniProtkbId': 'ZN512_HUMAN', 'entryAudit': {'firstPublicDate': '2004-03-15', 'lastAnnotationUpdateDate': '2025-04-09', 'lastSequenceUpdateDate': '2009-05-05', 'entryVersion': 177, 'sequenceVersion': 2}, 'annotationScore': 3.0, 'organism': {'scientificName': 'Homo sapiens', 'commonName': 'Human', 'taxonId': 9606, 'lineage': ['Eukaryota', 'Metazoa', 'Chordata', 'Craniata', 'Vertebrata', 'Euteleostomi', 'Mammalia', 'Eutheria', 'Euarchontoglires', 'Primates', 'Haplorrhini', 'Catarrhini', 'Hominidae', 'Homo']}, 'proteinExistence': '1: Evidence at protein level', 'proteinDescription': {'recommendedName': {'fullName': {'value': 'Zinc finger protein 512'}}}, 'genes': [{'geneName': {'value': 'ZNF512'}, 'synonyms': [{'value': 'KIAA1805'}]}], 'comments': [{'texts': [{'value': 'May be involved in transcriptional regulation'}], 'commentType': 'FUNCTION'}, {'commentType': 'INTERACTION', 'interactions': [{'interactantOne': {'uniProtKBAccession': 'Q96ME7', 'intActId': 'EBI-10986895'}, 'interactantTwo': {'uniProtKBAccession': 'Q63ZY3', 'geneName': 'KANK2', 'intActId': 'EBI-2556193'}, 'numberOfExperiments': 3, 'organismDiffer': False}]}, {'commentType': 'SUBCELLULAR LOCATION', 'subcellularLocations': [{'location': {'evidences': [{'evidenceCode': 'ECO:0000305'}], 'value': 'Nucleus', 'id': 'SL-0191'}}]}, {'commentType': 'ALTERNATIVE PRODUCTS', 'events': ['Alternative splicing'], 'isoforms': [{'name': {'value': '1'}, 'isoformIds': ['Q96ME7-1'], 'isoformSequenceStatus': 'Displayed'}, {'name': {'value': '2'}, 'isoformIds': ['Q96ME7-2'], 'sequenceIds': ['VSP_046933'], 'isoformSequenceStatus': 'Described'}, {'name': {'value': '3'}, 'isoformIds': ['Q96ME7-3'], 'sequenceIds': ['VSP_046934', 'VSP_046935'], 'isoformSequenceStatus': 'Described'}]}, {'texts': [{'evidences': [{'evidenceCode': 'ECO:0000305'}], 'value': 'Belongs to the krueppel C2H2-type zinc-finger protein family'}], 'commentType': 'SIMILARITY'}], 'features': [{'type': 'Chain', 'location': {'start': {'value': 1, 'modifier': 'EXACT'}, 'end': {'value': 567, 'modifier': 'EXACT'}}, 'description': 'Zinc finger protein 512', 'featureId': 'PRO_0000047630'}, {'type': 'Zinc finger', 'location': {'start': {'value': 197, 'modifier': 'EXACT'}, 'end': {'value': 220, 'modifier': 'EXACT'}}, 'description': 'C2H2-type 1', 'evidences': [{'evidenceCode': 'ECO:0000255', 'source': 'PROSITE-ProRule', 'id': 'PRU00042'}]}, {'type': 'Zinc finger', 'location': {'start': {'value': 287, 'modifier': 'EXACT'}, 'end': {'value': 310, 'modifier': 'EXACT'}}, 'description': 'C2H2-type 2', 'evidences': [{'evidenceCode': 'ECO:0000255', 'source': 'PROSITE-ProRule', 'id': 'PRU00042'}]}, {'type': 'Zinc finger', 'location': {'start': {'value': 406, 'modifier': 'EXACT'}, 'end': {'value': 430, 'modifier': 'EXACT'}}, 'description': 'C2H2-type 3; atypical', 'evidences': [{'evidenceCode': 'ECO:0000255', 'source': 'PROSITE-ProRule', 'id': 'PRU00042'}]}, {'type': 'Zinc finger', 'location': {'start': {'value': 440, 'modifier': 'EXACT'}, 'end': {'value': 463, 'modifier': 'EXACT'}}, 'description': 'C2H2-type 4', 'evidences': [{'evidenceCode': 'ECO:0000255', 'source': 'PROSITE-ProRule', 'id': 'PRU00042'}]}, {'type': 'Region', 'location': {'start': {'value': 1, 'modifier': 'EXACT'}, 'end': {'value': 32, 'modifier': 'EXACT'}}, 'description': 'Disordered', 'evidences': [{'evidenceCode': 'ECO:0000256', 'source': 'SAM', 'id': 'MobiDB-lite'}]}, {'type': 'Region', 'location': {'start': {'value': 86, 'modifier': 'EXACT'}, 'end': {'value': 148, 'modifier': 'EXACT'}}, 'description': 'Disordered', 'evidences': [{'evidenceCode': 'ECO:0000256', 'source': 'SAM', 'id': 'MobiDB-lite'}]}, {'type': 'Region', 'location': {'start': {'value': 486, 'modifier': 'EXACT'}, 'end': {'value': 567, 'modifier': 'EXACT'}}, 'description': 'Disordered', 'evidences': [{'evidenceCode': 'ECO:0000256', 'source': 'SAM', 'id': 'MobiDB-lite'}]}, {'type': 'Compositional bias', 'location': {'start': {'value': 12, 'modifier': 'EXACT'}, 'end': {'value': 23, 'modifier': 'EXACT'}}, 'description': 'Polar residues', 'evidences': [{'evidenceCode': 'ECO:0000256', 'source': 'SAM', 'id': 'MobiDB-lite'}]}, {'type': 'Compositional bias', 'location': {'start': {'value': 119, 'modifier': 'EXACT'}, 'end': {'value': 130, 'modifier': 'EXACT'}}, 'description': 'Basic residues', 'evidences': [{'evidenceCode': 'ECO:0000256', 'source': 'SAM', 'id': 'MobiDB-lite'}]}, {'type': 'Compositional bias', 'location': {'start': {'value': 495, 'modifier': 'EXACT'}, 'end': {'value': 508, 'modifier': 'EXACT'}}, 'description': 'Basic residues', 'evidences': [{'evidenceCode': 'ECO:0000256', 'source': 'SAM', 'id': 'MobiDB-lite'}]}, {'type': 'Compositional bias', 'location': {'start': {'value': 523, 'modifier': 'EXACT'}, 'end': {'value': 532, 'modifier': 'EXACT'}}, 'description': 'Basic and acidic residues', 'evidences': [{'evidenceCode': 'ECO:0000256', 'source': 'SAM', 'id': 'MobiDB-lite'}]}, {'type': 'Compositional bias', 'location': {'start': {'value': 556, 'modifier': 'EXACT'}, 'end': {'value': 567, 'modifier': 'EXACT'}}, 'description': 'Basic residues', 'evidences': [{'evidenceCode': 'ECO:0000256', 'source': 'SAM', 'id': 'MobiDB-lite'}]}, {'type': 'Cross-link', 'location': {'start': {'value': 18, 'modifier': 'EXACT'}, 'end': {'value': 18, 'modifier': 'EXACT'}}, 'description': 'Glycyl lysine isopeptide (Lys-Gly) (interchain with G-Cter in SUMO2)', 'evidences': [{'evidenceCode': 'ECO:0007744', 'source': 'PubMed', 'id': '28112733'}]}, {'type': 'Cross-link', 'location': {'start': {'value': 84, 'modifier': 'EXACT'}, 'end': {'value': 84, 'modifier': 'EXACT'}}, 'description': 'Glycyl lysine isopeptide (Lys-Gly) (interchain with G-Cter in SUMO2)', 'evidences': [{'evidenceCode': 'ECO:0007744', 'source': 'PubMed', 'id': '28112733'}]}, {'type': 'Cross-link', 'location': {'start': {'value': 227, 'modifier': 'EXACT'}, 'end': {'value': 227, 'modifier': 'EXACT'}}, 'description': 'Glycyl lysine isopeptide (Lys-Gly) (interchain with G-Cter in SUMO2)', 'evidences': [{'evidenceCode': 'ECO:0007744', 'source': 'PubMed', 'id': '28112733'}]}, {'type': 'Cross-link', 'location': {'start': {'value': 333, 'modifier': 'EXACT'}, 'end': {'value': 333, 'modifier': 'EXACT'}}, 'description': 'Glycyl lysine isopeptide (Lys-Gly) (interchain with G-Cter in SUMO2)', 'evidences': [{'evidenceCode': 'ECO:0007744', 'source': 'PubMed', 'id': '25218447'}]}, {'type': 'Alternative sequence', 'location': {'start': {'value': 1, 'modifier': 'EXACT'}, 'end': {'value': 77, 'modifier': 'EXACT'}}, 'description': 'in isoform 2', 'evidences': [{'evidenceCode': 'ECO:0000303', 'source': 'PubMed', 'id': '14702039'}, {'evidenceCode': 'ECO:0000303', 'source': 'PubMed', 'id': '15489334'}], 'featureId': 'VSP_046933', 'alternativeSequence': {}}, {'type': 'Alternative sequence', 'location': {'start': {'value': 31, 'modifier': 'EXACT'}, 'end': {'value': 31, 'modifier': 'EXACT'}}, 'description': 'in isoform 3', 'evidences': [{'evidenceCode': 'ECO:0000305'}], 'featureId': 'VSP_046934', 'alternativeSequence': {}}, {'type': 'Alternative sequence', 'location': {'start': {'value': 126, 'modifier': 'EXACT'}, 'end': {'value': 153, 'modifier': 'EXACT'}}, 'description': 'in isoform 3', 'evidences': [{'evidenceCode': 'ECO:0000305'}], 'featureId': 'VSP_046935', 'alternativeSequence': {}}, {'type': 'Sequence conflict', 'location': {'start': {'value': 24, 'modifier': 'EXACT'}, 'end': {'value': 24, 'modifier': 'EXACT'}}, 'description': 'in Ref. 1; BAB71348', 'evidences': [{'evidenceCode': 'ECO:0000305'}], 'alternativeSequence': {'originalSequence': 'R', 'alternativeSequences': ['S']}}, {'type': 'Helix', 'location': {'start': {'value': 155, 'modifier': 'EXACT'}, 'end': {'value': 165, 'modifier': 'EXACT'}}, 'description': '', 'evidences': [{'evidenceCode': 'ECO:0007829', 'source': 'PDB', 'id': '2CTD'}]}, {'type': 'Turn', 'location': {'start': {'value': 172, 'modifier': 'EXACT'}, 'end': {'value': 174, 'modifier': 'EXACT'}}, 'description': '', 'evidences': [{'evidenceCode': 'ECO:0007829', 'source': 'PDB', 'id': '2CTD'}]}, {'type': 'Beta strand', 'location': {'start': {'value': 178, 'modifier': 'EXACT'}, 'end': {'value': 181, 'modifier': 'EXACT'}}, 'description': '', 'evidences': [{'evidenceCode': 'ECO:0007829', 'source': 'PDB', 'id': '2CTD'}]}, {'type': 'Helix', 'location': {'start': {'value': 182, 'modifier': 'EXACT'}, 'end': {'value': 192, 'modifier': 'EXACT'}}, 'description': '', 'evidences': [{'evidenceCode': 'ECO:0007829', 'source': 'PDB', 'id': '2CTD'}]}, {'type': 'Beta strand', 'location': {'start': {'value': 200, 'modifier': 'EXACT'}, 'end': {'value': 202, 'modifier': 'EXACT'}}, 'description': '', 'evidences': [{'evidenceCode': 'ECO:0007829', 'source': 'PDB', 'id': '2CTD'}]}, {'type': 'Helix', 'location': {'start': {'value': 209, 'modifier': 'EXACT'}, 'end': {'value': 219, 'modifier': 'EXACT'}}, 'description': '', 'evidences': [{'evidenceCode': 'ECO:0007829', 'source': 'PDB', 'id': '2CTD'}]}], 'keywords': [{'id': 'KW-0002', 'category': 'Technical term', 'name': '3D-structure'}, {'id': 'KW-0025', 'category': 'Coding sequence diversity', 'name': 'Alternative splicing'}, {'id': 'KW-0238', 'category': 'Molecular function', 'name': 'DNA-binding'}, {'id': 'KW-1017', 'category': 'PTM', 'name': 'Isopeptide bond'}, {'id': 'KW-0479', 'category': 'Ligand', 'name': 'Metal-binding'}, {'id': 'KW-0539', 'category': 'Cellular component', 'name': 'Nucleus'}, {'id': 'KW-1267', 'category': 'Technical term', 'name': 'Proteomics identification'}, {'id': 'KW-1185', 'category': 'Technical term', 'name': 'Reference proteome'}, {'id': 'KW-0677', 'category': 'Domain', 'name': 'Repeat'}, {'id': 'KW-0804', 'category': 'Biological process', 'name': 'Transcription'}, {'id': 'KW-0805', 'category': 'Biological process', 'name': 'Transcription regulation'}, {'id': 'KW-0832', 'category': 'PTM', 'name': 'Ubl conjugation'}, {'id': 'KW-0862', 'category': 'Ligand', 'name': 'Zinc'}, {'id': 'KW-0863', 'category': 'Domain', 'name': 'Zinc-finger'}], 'references': [{'referenceNumber': 1, 'citation': {'id': '14702039', 'citationType': 'journal article', 'authors': ['Ota T.', 'Suzuki Y.', 'Nishikawa T.', 'Otsuki T.', 'Sugiyama T.', 'Irie R.', 'Wakamatsu A.', 'Hayashi K.', 'Sato H.', 'Nagai K.', 'Kimura K.', 'Makita H.', 'Sekine M.', 'Obayashi M.', 'Nishi T.', 'Shibahara T.', 'Tanaka T.', 'Ishii S.', 'Yamamoto J.', 'Saito K.', 'Kawai Y.', 'Isono Y.', 'Nakamura Y.', 'Nagahari K.', 'Murakami K.', 'Yasuda T.', 'Iwayanagi T.', 'Wagatsuma M.', 'Shiratori A.', 'Sudo H.', 'Hosoiri T.', 'Kaku Y.', 'Kodaira H.', 'Kondo H.', 'Sugawara M.', 'Takahashi M.', 'Kanda K.', 'Yokoi T.', 'Furuya T.', 'Kikkawa E.', 'Omura Y.', 'Abe K.', 'Kamihara K.', 'Katsuta N.', 'Sato K.', 'Tanikawa M.', 'Yamazaki M.', 'Ninomiya K.', 'Ishibashi T.', 'Yamashita H.', 'Murakawa K.', 'Fujimori K.', 'Tanai H.', 'Kimata M.', 'Watanabe M.', 'Hiraoka S.', 'Chiba Y.', 'Ishida S.', 'Ono Y.', 'Takiguchi S.', 'Watanabe S.', 'Yosida M.', 'Hotuta T.', 'Kusano J.', 'Kanehori K.', 'Takahashi-Fujii A.', 'Hara H.', 'Tanase T.-O.', 'Nomura Y.', 'Togiya S.', 'Komai F.', 'Hara R.', 'Takeuchi K.', 'Arita M.', 'Imose N.', 'Musashino K.', 'Yuuki H.', 'Oshima A.', 'Sasaki N.', 'Aotsuka S.', 'Yoshikawa Y.', 'Matsunawa H.', 'Ichihara T.', 'Shiohata N.', 'Sano S.', 'Moriya S.', 'Momiyama H.', 'Satoh N.', 'Takami S.', 'Terashima Y.', 'Suzuki O.', 'Nakagawa S.', 'Senoh A.', 'Mizoguchi H.', 'Goto Y.', 'Shimizu F.', 'Wakebe H.', 'Hishigaki H.', 'Watanabe T.', 'Sugiyama A.', 'Takemoto M.', 'Kawakami B.', 'Yamazaki M.', 'Watanabe K.', 'Kumagai A.', 'Itakura S.', 'Fukuzumi Y.', 'Fujimori Y.', 'Komiyama M.', 'Tashiro H.', 'Tanigami A.', 'Fujiwara T.', 'Ono T.', 'Yamada K.', 'Fujii Y.', 'Ozaki K.', 'Hirao M.', 'Ohmori Y.', 'Kawabata A.', 'Hikiji T.', 'Kobatake N.', 'Inagaki H.', 'Ikema Y.', 'Okamoto S.', 'Okitani R.', 'Kawakami T.', 'Noguchi S.', 'Itoh T.', 'Shigeta K.', 'Senba T.', 'Matsumura K.', 'Nakajima Y.', 'Mizuno T.', 'Morinaga M.', 'Sasaki M.', 'Togashi T.', 'Oyama M.', 'Hata H.', 'Watanabe M.', 'Komatsu T.', 'Mizushima-Sugano J.', 'Satoh T.', 'Shirai Y.', 'Takahashi Y.', 'Nakagawa K.', 'Okumura K.', 'Nagase T.', 'Nomura N.', 'Kikuchi H.', 'Masuho Y.', 'Yamashita R.', 'Nakai K.', 'Yada T.', 'Nakamura Y.', 'Ohara O.', 'Isogai T.', 'Sugano S.'], 'citationCrossReferences': [{'database': 'PubMed', 'id': '14702039'}, {'database': 'DOI', 'id': '10.1038/ng1285'}], 'title': 'Complete sequencing and characterization of 21,243 full-length human cDNAs.', 'publicationDate': '2004', 'journal': 'Nat. Genet.', 'firstPage': '40', 'lastPage': '45', 'volume': '36'}, 'referencePositions': ['NUCLEOTIDE SEQUENCE [LARGE SCALE MRNA] (ISOFORMS 1 AND 2)'], 'referenceComments': [{'value': 'Brain', 'type': 'TISSUE'}, {'value': 'Cerebellum', 'type': 'TISSUE'}, {'value': 'Neuroepithelioma', 'type': 'TISSUE'}]}, {'referenceNumber': 2, 'citation': {'id': '15815621', 'citationType': 'journal article', 'authors': ['Hillier L.W.', 'Graves T.A.', 'Fulton R.S.', 'Fulton L.A.', 'Pepin K.H.', 'Minx P.', 'Wagner-McPherson C.', 'Layman D.', 'Wylie K.', 'Sekhon M.', 'Becker M.C.', 'Fewell G.A.', 'Delehaunty K.D.', 'Miner T.L.', 'Nash W.E.', 'Kremitzki C.', 'Oddy L.', 'Du H.', 'Sun H.', 'Bradshaw-Cordum H.', 'Ali J.', 'Carter J.', 'Cordes M.', 'Harris A.', 'Isak A.', 'van Brunt A.', 'Nguyen C.', 'Du F.', 'Courtney L.', 'Kalicki J.', 'Ozersky P.', 'Abbott S.', 'Armstrong J.', 'Belter E.A.', 'Caruso L.', 'Cedroni M.', 'Cotton M.', 'Davidson T.', 'Desai A.', 'Elliott G.', 'Erb T.', 'Fronick C.', 'Gaige T.', 'Haakenson W.', 'Haglund K.', 'Holmes A.', 'Harkins R.', 'Kim K.', 'Kruchowski S.S.', 'Strong C.M.', 'Grewal N.', 'Goyea E.', 'Hou S.', 'Levy A.', 'Martinka S.', 'Mead K.', 'McLellan M.D.', 'Meyer R.', 'Randall-Maher J.', 'Tomlinson C.', 'Dauphin-Kohlberg S.', 'Kozlowicz-Reilly A.', 'Shah N.', 'Swearengen-Shahid S.', 'Snider J.', 'Strong J.T.', 'Thompson J.', 'Yoakum M.', 'Leonard S.', 'Pearman C.', 'Trani L.', 'Radionenko M.', 'Waligorski J.E.', 'Wang C.', 'Rock S.M.', 'Tin-Wollam A.-M.', 'Maupin R.', 'Latreille P.', 'Wendl M.C.', 'Yang S.-P.', 'Pohl C.', 'Wallis J.W.', 'Spieth J.', 'Bieri T.A.', 'Berkowicz N.', 'Nelson J.O.', 'Osborne J.', 'Ding L.', 'Meyer R.', 'Sabo A.', 'Shotland Y.', 'Sinha P.', 'Wohldmann P.E.', 'Cook L.L.', 'Hickenbotham M.T.', 'Eldred J.', 'Williams D.', 'Jones T.A.', 'She X.', 'Ciccarelli F.D.', 'Izaurralde E.', 'Taylor J.', 'Schmutz J.', 'Myers R.M.', 'Cox D.R.', 'Huang X.', 'McPherson J.D.', 'Mardis E.R.', 'Clifton S.W.', 'Warren W.C.', 'Chinwalla A.T.', 'Eddy S.R.', 'Marra M.A.', 'Ovcharenko I.', 'Furey T.S.', 'Miller W.', 'Eichler E.E.', 'Bork P.', 'Suyama M.', 'Torrents D.', 'Waterston R.H.', 'Wilson R.K.'], 'citationCrossReferences': [{'database': 'PubMed', 'id': '15815621'}, {'database': 'DOI', 'id': '10.1038/nature03466'}], 'title': 'Generation and annotation of the DNA sequences of human chromosomes 2 and 4.', 'publicationDate': '2005', 'journal': 'Nature', 'firstPage': '724', 'lastPage': '731', 'volume': '434'}, 'referencePositions': ['NUCLEOTIDE SEQUENCE [LARGE SCALE GENOMIC DNA]']}, {'referenceNumber': 3, 'citation': {'id': 'CI-5GBD0VIIJ7C63', 'citationType': 'submission', 'authors': ['Mural R.J.', 'Istrail S.', 'Sutton G.G.', 'Florea L.', 'Halpern A.L.', 'Mobarry C.M.', 'Lippert R.', 'Walenz B.', 'Shatkay H.', 'Dew I.', 'Miller J.R.', 'Flanigan M.J.', 'Edwards N.J.', 'Bolanos R.', 'Fasulo D.', 'Halldorsson B.V.', 'Hannenhalli S.', 'Turner R.', 'Yooseph S.', 'Lu F.', 'Nusskern D.R.', 'Shue B.C.', 'Zheng X.H.', 'Zhong F.', 'Delcher A.L.', 'Huson D.H.', 'Kravitz S.A.', 'Mouchard L.', 'Reinert K.', 'Remington K.A.', 'Clark A.G.', 'Waterman M.S.', 'Eichler E.E.', 'Adams M.D.', 'Hunkapiller M.W.', 'Myers E.W.', 'Venter J.C.'], 'publicationDate': 'SEP-2005', 'submissionDatabase': 'EMBL/GenBank/DDBJ databases'}, 'referencePositions': ['NUCLEOTIDE SEQUENCE [LARGE SCALE GENOMIC DNA]']}, {'referenceNumber': 4, 'citation': {'id': '15489334', 'citationType': 'journal article', 'authoringGroup': ['The MGC Project Team'], 'citationCrossReferences': [{'database': 'PubMed', 'id': '15489334'}, {'database': 'DOI', 'id': '10.1101/gr.2596504'}], 'title': 'The status, quality, and expansion of the NIH full-length cDNA project: the Mammalian Gene Collection (MGC).', 'publicationDate': '2004', 'journal': 'Genome Res.', 'firstPage': '2121', 'lastPage': '2127', 'volume': '14'}, 'referencePositions': ['NUCLEOTIDE SEQUENCE [LARGE SCALE MRNA] (ISOFORM 2)'], 'referenceComments': [{'value': 'Testis', 'type': 'TISSUE'}, {'value': 'Uterus', 'type': 'TISSUE'}]}, {'referenceNumber': 5, 'citation': {'id': '11347906', 'citationType': 'journal article', 'authors': ['Nagase T.', 'Nakayama M.', 'Nakajima D.', 'Kikuno R.', 'Ohara O.'], 'citationCrossReferences': [{'database': 'PubMed', 'id': '11347906'}, {'database': 'DOI', 'id': '10.1093/dnares/8.2.85'}], 'title': 'Prediction of the coding sequences of unidentified human genes. XX. The complete sequences of 100 new cDNA clones from brain which code for large proteins in vitro.', 'publicationDate': '2001', 'journal': 'DNA Res.', 'firstPage': '85', 'lastPage': '95', 'volume': '8'}, 'referencePositions': ['NUCLEOTIDE SEQUENCE [LARGE SCALE MRNA] OF 34-567 (ISOFORM 1)'], 'referenceComments': [{'value': 'Brain', 'type': 'TISSUE'}]}, {'referenceNumber': 6, 'citation': {'id': '25218447', 'citationType': 'journal article', 'authors': ['Hendriks I.A.', \"D'Souza R.C.\", 'Yang B.', 'Verlaan-de Vries M.', 'Mann M.', 'Vertegaal A.C.'], 'citationCrossReferences': [{'database': 'PubMed', 'id': '25218447'}, {'database': 'DOI', 'id': '10.1038/nsmb.2890'}], 'title': 'Uncovering global SUMOylation signaling networks in a site-specific manner.', 'publicationDate': '2014', 'journal': 'Nat. Struct. Mol. Biol.', 'firstPage': '927', 'lastPage': '936', 'volume': '21'}, 'referencePositions': ['SUMOYLATION [LARGE SCALE ANALYSIS] AT LYS-333', 'IDENTIFICATION BY MASS SPECTROMETRY [LARGE SCALE ANALYSIS]']}, {'referenceNumber': 7, 'citation': {'id': '28112733', 'citationType': 'journal article', 'authors': ['Hendriks I.A.', 'Lyon D.', 'Young C.', 'Jensen L.J.', 'Vertegaal A.C.', 'Nielsen M.L.'], 'citationCrossReferences': [{'database': 'PubMed', 'id': '28112733'}, {'database': 'DOI', 'id': '10.1038/nsmb.3366'}], 'title': 'Site-specific mapping of the human SUMO proteome reveals co-modification with phosphorylation.', 'publicationDate': '2017', 'journal': 'Nat. Struct. Mol. Biol.', 'firstPage': '325', 'lastPage': '336', 'volume': '24'}, 'referencePositions': ['SUMOYLATION [LARGE SCALE ANALYSIS] AT LYS-18; LYS-84 AND LYS-227', 'IDENTIFICATION BY MASS SPECTROMETRY [LARGE SCALE ANALYSIS]']}, {'referenceNumber': 8, 'citation': {'id': 'CI-GTS1EJ6GENFD', 'citationType': 'submission', 'authoringGroup': ['RIKEN structural genomics initiative (RSGI)'], 'title': 'Solution structure of two ZF-C2H2 domains from human zinc finger protein 512.', 'publicationDate': 'NOV-2005', 'submissionDatabase': 'PDB data bank'}, 'referencePositions': ['STRUCTURE BY NMR OF 142-224']}], 'uniProtKBCrossReferences': [{'database': 'EMBL', 'id': 'AK057028', 'properties': [{'key': 'ProteinId', 'value': 'BAB71348.1'}, {'key': 'Status', 'value': '-'}, {'key': 'MoleculeType', 'value': 'mRNA'}]}, {'database': 'EMBL', 'id': 'AK294055', 'properties': [{'key': 'ProteinId', 'value': 'BAH11661.1'}, {'key': 'Status', 'value': '-'}, {'key': 'MoleculeType', 'value': 'mRNA'}]}, {'database': 'EMBL', 'id': 'AK299818', 'properties': [{'key': 'ProteinId', 'value': 'BAG61687.1'}, {'key': 'Status', 'value': '-'}, {'key': 'MoleculeType', 'value': 'mRNA'}]}, {'database': 'EMBL', 'id': 'AK316299', 'properties': [{'key': 'ProteinId', 'value': 'BAH14670.1'}, {'key': 'Status', 'value': '-'}, {'key': 'MoleculeType', 'value': 'mRNA'}]}, {'database': 'EMBL', 'id': 'AC074091', 'properties': [{'key': 'ProteinId', 'value': 'AAX93199.1'}, {'key': 'Status', 'value': '-'}, {'key': 'MoleculeType', 'value': 'Genomic_DNA'}]}, {'database': 'EMBL', 'id': 'CH471053', 'properties': [{'key': 'ProteinId', 'value': 'EAX00562.1'}, {'key': 'Status', 'value': '-'}, {'key': 'MoleculeType', 'value': 'Genomic_DNA'}]}, {'database': 'EMBL', 'id': 'CH471053', 'properties': [{'key': 'ProteinId', 'value': 'EAX00564.1'}, {'key': 'Status', 'value': '-'}, {'key': 'MoleculeType', 'value': 'Genomic_DNA'}]}, {'database': 'EMBL', 'id': 'CH471053', 'properties': [{'key': 'ProteinId', 'value': 'EAX00565.1'}, {'key': 'Status', 'value': '-'}, {'key': 'MoleculeType', 'value': 'Genomic_DNA'}]}, {'database': 'EMBL', 'id': 'AB058708', 'properties': [{'key': 'ProteinId', 'value': 'BAB47434.1'}, {'key': 'Status', 'value': '-'}, {'key': 'MoleculeType', 'value': 'mRNA'}]}, {'database': 'EMBL', 'id': 'BC043221', 'properties': [{'key': 'ProteinId', 'value': 'AAH43221.1'}, {'key': 'Status', 'value': '-'}, {'key': 'MoleculeType', 'value': 'mRNA'}]}, {'database': 'EMBL', 'id': 'BC093041', 'properties': [{'key': 'ProteinId', 'value': 'AAH93041.1'}, {'key': 'Status', 'value': '-'}, {'key': 'MoleculeType', 'value': 'mRNA'}]}, {'database': 'CCDS', 'id': 'CCDS1758.1', 'properties': [{'key': 'Description', 'value': '-'}], 'isoformId': 'Q96ME7-1'}, {'database': 'CCDS', 'id': 'CCDS59428.1', 'properties': [{'key': 'Description', 'value': '-'}], 'isoformId': 'Q96ME7-3'}, {'database': 'CCDS', 'id': 'CCDS59429.1', 'properties': [{'key': 'Description', 'value': '-'}], 'isoformId': 'Q96ME7-2'}, {'database': 'RefSeq', 'id': 'NP_001258215.1', 'properties': [{'key': 'NucleotideSequenceId', 'value': 'NM_001271286.2'}], 'isoformId': 'Q96ME7-3'}, {'database': 'RefSeq', 'id': 'NP_001258216.1', 'properties': [{'key': 'NucleotideSequenceId', 'value': 'NM_001271287.2'}], 'isoformId': 'Q96ME7-2'}, {'database': 'RefSeq', 'id': 'NP_001258217.1', 'properties': [{'key': 'NucleotideSequenceId', 'value': 'NM_001271288.2'}], 'isoformId': 'Q96ME7-2'}, {'database': 'RefSeq', 'id': 'NP_001258218.1', 'properties': [{'key': 'NucleotideSequenceId', 'value': 'NM_001271289.1'}]}, {'database': 'RefSeq', 'id': 'NP_001258247.1', 'properties': [{'key': 'NucleotideSequenceId', 'value': 'NM_001271318.2'}], 'isoformId': 'Q96ME7-2'}, {'database': 'RefSeq', 'id': 'NP_115810.2', 'properties': [{'key': 'NucleotideSequenceId', 'value': 'NM_032434.3'}], 'isoformId': 'Q96ME7-1'}, {'database': 'PDB', 'id': '2CTD', 'properties': [{'key': 'Method', 'value': 'NMR'}, {'key': 'Resolution', 'value': '-'}, {'key': 'Chains', 'value': 'A=142-224'}]}, {'database': 'PDBsum', 'id': '2CTD', 'properties': [{'key': 'Description', 'value': '-'}]}, {'database': 'AlphaFoldDB', 'id': 'Q96ME7', 'properties': [{'key': 'Description', 'value': '-'}]}, {'database': 'SMR', 'id': 'Q96ME7', 'properties': [{'key': 'Description', 'value': '-'}]}, {'database': 'BioGRID', 'id': '124088', 'properties': [{'key': 'Interactions', 'value': '284'}]}, {'database': 'IntAct', 'id': 'Q96ME7', 'properties': [{'key': 'Interactions', 'value': '208'}]}, {'database': 'MINT', 'id': 'Q96ME7', 'properties': [{'key': 'Description', 'value': '-'}]}, {'database': 'STRING', 'id': '9606.ENSP00000347648', 'properties': [{'key': 'Description', 'value': '-'}]}, {'database': 'GlyCosmos', 'id': 'Q96ME7', 'properties': [{'key': 'glycosylation', 'value': '1 site, 1 glycan'}]}, {'database': 'GlyGen', 'id': 'Q96ME7', 'properties': [{'key': 'glycosylation', 'value': '2 sites, 1 O-linked glycan (2 sites)'}]}, {'database': 'iPTMnet', 'id': 'Q96ME7', 'properties': [{'key': 'Description', 'value': '-'}]}, {'database': 'PhosphoSitePlus', 'id': 'Q96ME7', 'properties': [{'key': 'Description', 'value': '-'}]}, {'database': 'SwissPalm', 'id': 'Q96ME7', 'properties': [{'key': 'Description', 'value': '-'}]}, {'database': 'BioMuta', 'id': 'ZNF512', 'properties': [{'key': 'Description', 'value': '-'}]}, {'database': 'DMDM', 'id': '229462786', 'properties': [{'key': 'Description', 'value': '-'}]}, {'database': 'jPOST', 'id': 'Q96ME7', 'properties': [{'key': 'Description', 'value': '-'}]}, {'database': 'MassIVE', 'id': 'Q96ME7', 'properties': [{'key': 'Description', 'value': '-'}]}, {'database': 'PaxDb', 'id': '9606-ENSP00000347648', 'properties': [{'key': 'Description', 'value': '-'}]}, {'database': 'PeptideAtlas', 'id': 'Q96ME7', 'properties': [{'key': 'Description', 'value': '-'}]}, {'database': 'ProteomicsDB', 'id': '5037', 'properties': [{'key': 'Description', 'value': '-'}]}, {'database': 'ProteomicsDB', 'id': '70294', 'properties': [{'key': 'Description', 'value': '-'}]}, {'database': 'ProteomicsDB', 'id': '77343', 'properties': [{'key': 'Description', 'value': '-'}], 'isoformId': 'Q96ME7-1'}, {'database': 'Pumba', 'id': 'Q96ME7', 'properties': [{'key': 'Description', 'value': '-'}]}, {'database': 'Antibodypedia', 'id': '34858', 'properties': [{'key': 'antibodies', 'value': '106 antibodies from 20 providers'}]}, {'database': 'DNASU', 'id': '84450', 'properties': [{'key': 'Description', 'value': '-'}]}, {'database': 'Ensembl', 'id': 'ENST00000355467.6', 'properties': [{'key': 'ProteinId', 'value': 'ENSP00000347648.3'}, {'key': 'GeneId', 'value': 'ENSG00000243943.10'}], 'isoformId': 'Q96ME7-1'}, {'database': 'Ensembl', 'id': 'ENST00000413371.6', 'properties': [{'key': 'ProteinId', 'value': 'ENSP00000395660.2'}, {'key': 'GeneId', 'value': 'ENSG00000243943.10'}], 'isoformId': 'Q96ME7-2'}, {'database': 'Ensembl', 'id': 'ENST00000416005.6', 'properties': [{'key': 'ProteinId', 'value': 'ENSP00000407038.2'}, {'key': 'GeneId', 'value': 'ENSG00000243943.10'}], 'isoformId': 'Q96ME7-3'}, {'database': 'Ensembl', 'id': 'ENST00000556601.5', 'properties': [{'key': 'ProteinId', 'value': 'ENSP00000451572.2'}, {'key': 'GeneId', 'value': 'ENSG00000243943.10'}], 'isoformId': 'Q96ME7-2'}, {'database': 'GeneID', 'id': '84450', 'properties': [{'key': 'Description', 'value': '-'}]}, {'database': 'KEGG', 'id': 'hsa:84450', 'properties': [{'key': 'Description', 'value': '-'}]}, {'database': 'MANE-Select', 'id': 'ENST00000355467.6', 'properties': [{'key': 'ProteinId', 'value': 'ENSP00000347648.3'}, {'key': 'RefSeqNucleotideId', 'value': 'NM_032434.4'}, {'key': 'RefSeqProteinId', 'value': 'NP_115810.2'}]}, {'database': 'UCSC', 'id': 'uc002rla.5', 'properties': [{'key': 'OrganismName', 'value': 'human'}], 'isoformId': 'Q96ME7-1'}, {'database': 'AGR', 'id': 'HGNC:29380', 'properties': [{'key': 'Description', 'value': '-'}]}, {'database': 'CTD', 'id': '84450', 'properties': [{'key': 'Description', 'value': '-'}]}, {'database': 'DisGeNET', 'id': '84450', 'properties': [{'key': 'Description', 'value': '-'}]}, {'database': 'GeneCards', 'id': 'ZNF512', 'properties': [{'key': 'Description', 'value': '-'}]}, {'database': 'HGNC', 'id': 'HGNC:29380', 'properties': [{'key': 'GeneName', 'value': 'ZNF512'}]}, {'database': 'HPA', 'id': 'ENSG00000243943', 'properties': [{'key': 'ExpressionPatterns', 'value': 'Low tissue specificity'}]}, {'database': 'MIM', 'id': '620921', 'properties': [{'key': 'Type', 'value': 'gene'}]}, {'database': 'neXtProt', 'id': 'NX_Q96ME7', 'properties': [{'key': 'Description', 'value': '-'}]}, {'database': 'OpenTargets', 'id': 'ENSG00000243943', 'properties': [{'key': 'Description', 'value': '-'}]}, {'database': 'PharmGKB', 'id': 'PA134896861', 'properties': [{'key': 'Description', 'value': '-'}]}, {'database': 'VEuPathDB', 'id': 'HostDB:ENSG00000243943', 'properties': [{'key': 'Description', 'value': '-'}]}, {'database': 'eggNOG', 'id': 'KOG1721', 'properties': [{'key': 'ToxonomicScope', 'value': 'Eukaryota'}]}, {'database': 'GeneTree', 'id': 'ENSGT00940000158595', 'properties': [{'key': 'Description', 'value': '-'}]}, {'database': 'HOGENOM', 'id': 'CLU_481412_0_0_1', 'properties': [{'key': 'Description', 'value': '-'}]}, {'database': 'InParanoid', 'id': 'Q96ME7', 'properties': [{'key': 'Description', 'value': '-'}]}, {'database': 'OMA', 'id': 'SVEEQWY', 'properties': [{'key': 'Fingerprint', 'value': '-'}]}, {'database': 'OrthoDB', 'id': '9949647at2759', 'properties': [{'key': 'Description', 'value': '-'}]}, {'database': 'PhylomeDB', 'id': 'Q96ME7', 'properties': [{'key': 'Description', 'value': '-'}]}, {'database': 'TreeFam', 'id': 'TF331185', 'properties': [{'key': 'Description', 'value': '-'}]}, {'database': 'PathwayCommons', 'id': 'Q96ME7', 'properties': [{'key': 'Description', 'value': '-'}]}, {'database': 'SignaLink', 'id': 'Q96ME7', 'properties': [{'key': 'Description', 'value': '-'}]}, {'database': 'BioGRID-ORCS', 'id': '84450', 'properties': [{'key': 'hits', 'value': '7 hits in 1161 CRISPR screens'}]}, {'database': 'ChiTaRS', 'id': 'ZNF512', 'properties': [{'key': 'OrganismName', 'value': 'human'}]}, {'database': 'EvolutionaryTrace', 'id': 'Q96ME7', 'properties': [{'key': 'Description', 'value': '-'}]}, {'database': 'GenomeRNAi', 'id': '84450', 'properties': [{'key': 'Description', 'value': '-'}]}, {'database': 'Pharos', 'id': 'Q96ME7', 'properties': [{'key': 'DevelopmentLevel', 'value': 'Tbio'}]}, {'database': 'PRO', 'id': 'PR:Q96ME7', 'properties': [{'key': 'Description', 'value': '-'}]}, {'database': 'Proteomes', 'id': 'UP000005640', 'properties': [{'key': 'Component', 'value': 'Chromosome 2'}]}, {'database': 'RNAct', 'id': 'Q96ME7', 'properties': [{'key': 'moleculeType', 'value': 'protein'}]}, {'database': 'Bgee', 'id': 'ENSG00000243943', 'properties': [{'key': 'ExpressionPatterns', 'value': 'Expressed in cortical plate and 174 other cell types or tissues'}]}, {'database': 'ExpressionAtlas', 'id': 'Q96ME7', 'properties': [{'key': 'ExpressionPatterns', 'value': 'baseline and differential'}]}, {'database': 'GO', 'id': 'GO:0005634', 'properties': [{'key': 'GoTerm', 'value': 'C:nucleus'}, {'key': 'GoEvidenceType', 'value': 'IEA:UniProtKB-SubCell'}]}, {'database': 'GO', 'id': 'GO:0003677', 'properties': [{'key': 'GoTerm', 'value': 'F:DNA binding'}, {'key': 'GoEvidenceType', 'value': 'IEA:UniProtKB-KW'}]}, {'database': 'GO', 'id': 'GO:0003700', 'properties': [{'key': 'GoTerm', 'value': 'F:DNA-binding transcription factor activity'}, {'key': 'GoEvidenceType', 'value': 'NAS:ARUK-UCL'}], 'evidences': [{'evidenceCode': 'ECO:0000303', 'source': 'PubMed', 'id': '34673265'}]}, {'database': 'GO', 'id': 'GO:0008270', 'properties': [{'key': 'GoTerm', 'value': 'F:zinc ion binding'}, {'key': 'GoEvidenceType', 'value': 'IEA:UniProtKB-KW'}]}, {'database': 'FunFam', 'id': '3.30.160.60:FF:000177', 'properties': [{'key': 'EntryName', 'value': 'Zinc finger protein 512'}, {'key': 'MatchStatus', 'value': '1'}]}, {'database': 'FunFam', 'id': '3.30.160.60:FF:000270', 'properties': [{'key': 'EntryName', 'value': 'Zinc finger protein 512'}, {'key': 'MatchStatus', 'value': '1'}]}, {'database': 'FunFam', 'id': '3.30.160.60:FF:000580', 'properties': [{'key': 'EntryName', 'value': 'Zinc finger protein 512'}, {'key': 'MatchStatus', 'value': '1'}]}, {'database': 'Gene3D', 'id': '3.30.160.60', 'properties': [{'key': 'EntryName', 'value': 'Classic Zinc Finger'}, {'key': 'MatchStatus', 'value': '3'}]}, {'database': 'InterPro', 'id': 'IPR052274', 'properties': [{'key': 'EntryName', 'value': 'Krueppel_C2H2_Zn-finger'}]}, {'database': 'InterPro', 'id': 'IPR048408', 'properties': [{'key': 'EntryName', 'value': 'ZNF512_C2HC'}]}, {'database': 'InterPro', 'id': 'IPR048403', 'properties': [{'key': 'EntryName', 'value': 'ZNF512_znf-C2H2'}]}, {'database': 'InterPro', 'id': 'IPR036236', 'properties': [{'key': 'EntryName', 'value': 'Znf_C2H2_sf'}]}, {'database': 'InterPro', 'id': 'IPR013087', 'properties': [{'key': 'EntryName', 'value': 'Znf_C2H2_type'}]}, {'database': 'PANTHER', 'id': 'PTHR22979:SF2', 'properties': [{'key': 'EntryName', 'value': 'ZINC FINGER PROTEIN 512'}, {'key': 'MatchStatus', 'value': '1'}]}, {'database': 'PANTHER', 'id': 'PTHR22979', 'properties': [{'key': 'EntryName', 'value': 'ZINC FINGER PROTEIN-RELATED'}, {'key': 'MatchStatus', 'value': '1'}]}, {'database': 'Pfam', 'id': 'PF00096', 'properties': [{'key': 'EntryName', 'value': 'zf-C2H2'}, {'key': 'MatchStatus', 'value': '1'}]}, {'database': 'Pfam', 'id': 'PF21276', 'properties': [{'key': 'EntryName', 'value': 'ZNF512_C2HC'}, {'key': 'MatchStatus', 'value': '2'}]}, {'database': 'Pfam', 'id': 'PF21367', 'properties': [{'key': 'EntryName', 'value': 'ZNF512_zf-C2H2'}, {'key': 'MatchStatus', 'value': '1'}]}, {'database': 'SMART', 'id': 'SM00355', 'properties': [{'key': 'EntryName', 'value': 'ZnF_C2H2'}, {'key': 'MatchStatus', 'value': '4'}]}, {'database': 'SUPFAM', 'id': 'SSF57667', 'properties': [{'key': 'EntryName', 'value': 'beta-beta-alpha zinc fingers'}, {'key': 'MatchStatus', 'value': '5'}]}, {'database': 'PROSITE', 'id': 'PS00028', 'properties': [{'key': 'EntryName', 'value': 'ZINC_FINGER_C2H2_1'}, {'key': 'MatchStatus', 'value': '3'}]}, {'database': 'PROSITE', 'id': 'PS50157', 'properties': [{'key': 'EntryName', 'value': 'ZINC_FINGER_C2H2_2'}, {'key': 'MatchStatus', 'value': '2'}]}], 'sequence': {'value': 'MSSRLGAVPATSGPTTFKQQRSTRIVGAKNSRTQCSIKDNSFQYTIPHDDSLSGSSSASSCEPVSDFPASFRKSTYWMKMRRIKPAATSHVEGSGGVSAKGKRKPRQEEDEDYREFPQKKHKLYGRKQRPKTQPNPKSQARRIRKEPPVYAAGSLEEQWYLEIVDKGSVSCPTCQAVGRKTIEGLKKHMENCKQEMFTCHHCGKQLRSLAGMKYHVMANHNSLPILKAGDEIDEPSERERLRTVLKRLGKLRCMRESCSSSFTSIMGYLYHVRKCGKGAAELEKMTLKCHHCGKPYRSKAGLAYHLRSEHGPISFFPESGQPECLKEMNLESKSGGRVQRRSAKIAVYHLQELASAELAKEWPKRKVLQDLVPDDRKLKYTRPGLPTFSQEVLHKWKTDIKKYHRIQCPNQGCEAVYSSVSGLKAHLGSCTLGNFVAGKYKCLLCQKEFVSESGVKYHINSVHAEDWFVVNPTTTKSFEKLMKIKQRQQEEEKRRQQHRSRRSLRRRQQPGIELPETELSLRVGKDQRRNNEELVVSASCKEPEQEPVPAQFQKVKPPKTNHKRGRK', 'length': 567, 'molWeight': 64682, 'crc64': '0837E9DB4ED46E75', 'md5': '446FE82A61B723DD5CA6B875330BF329'}, 'extraAttributes': {'countByCommentType': {'FUNCTION': 1, 'INTERACTION': 1, 'SUBCELLULAR LOCATION': 1, 'ALTERNATIVE PRODUCTS': 3, 'SIMILARITY': 1}, 'countByFeatureType': {'Chain': 1, 'Zinc finger': 4, 'Region': 3, 'Compositional bias': 5, 'Cross-link': 4, 'Alternative sequence': 3, 'Sequence conflict': 1, 'Helix': 3, 'Turn': 1, 'Beta strand': 2}, 'uniParcId': 'UPI0000141030'}}\n"
     ]
    },
    {
     "name": "stderr",
     "output_type": "stream",
     "text": [
      "Fetching sequences:  45%|████▍     | 209/469 [01:34<02:04,  2.09it/s]"
     ]
    },
    {
     "name": "stdout",
     "output_type": "stream",
     "text": [
      "{'entryType': 'UniProtKB reviewed (Swiss-Prot)', 'primaryAccession': 'Q9P258', 'proteinDescription': {'recommendedName': {'fullName': {'value': 'Protein RCC2'}}, 'alternativeNames': [{'fullName': {'evidences': [{'evidenceCode': 'ECO:0000303', 'source': 'PubMed', 'id': '12919680'}], 'value': 'RCC1-like protein TD-60'}}, {'fullName': {'evidences': [{'evidenceCode': 'ECO:0000303', 'source': 'PubMed', 'id': '1939370'}], 'value': 'Telophase disk protein of 60 kDa'}}]}, 'genes': [{'geneName': {'value': 'RCC2'}, 'synonyms': [{'value': 'KIAA1470'}, {'value': 'TD60'}]}], 'sequence': {'value': 'MPRKKAAAAAWEEPSSGNGTARAGPRKRGGPAGRKRERPERCSSSSGGGSSGDEDGLELDGAPGGGKRAARPATAGKAGGAAVVITEPEHTKERVKLEGSKCKGQLLIFGATNWDLIGRKEVPKQQAAYRNLGQNLWGPHRYGCLAGVRVRTVVSGSCAAHSLLITTEGKLWSWGRNEKGQLGHGDTKRVEAPRLIEGLSHEVIVSAACGRNHTLALTETGSVFAFGENKMGQLGLGNQTDAVPSPAQIMYNGQPITKMACGAEFSMIMDCKGNLYSFGCPEYGQLGHNSDGKFIARAQRIEYDCELVPRRVAIFIEKTKDGQILPVPNVVVRDVACGANHTLVLDSQKRVFSWGFGGYGRLGHAEQKDEMVPRLVKLFDFPGRGASQIYAGYTCSFAVSEVGGLFFWGATNTSRESTMYPKAVQDLCGWRIRSLACGKSSIIVAADESTISWGPSPTFGELGYGDHKPKSSTAAQEVKTLDGIFSEQVAMGYSHSLVIARDESETEKEKIKKLPEYNPRTL', 'length': 522, 'molWeight': 56085, 'crc64': '7065F70AEA98EDC3', 'md5': '4A4F2932077AF7CEFCF308240EEFE32F'}, 'extraAttributes': {'uniParcId': 'UPI0000074608'}}\n"
     ]
    },
    {
     "name": "stderr",
     "output_type": "stream",
     "text": [
      "Fetching sequences:  45%|████▍     | 210/469 [01:35<02:01,  2.13it/s]"
     ]
    },
    {
     "name": "stdout",
     "output_type": "stream",
     "text": [
      "{'entryType': 'UniProtKB reviewed (Swiss-Prot)', 'primaryAccession': 'Q9UBB5', 'proteinDescription': {'recommendedName': {'fullName': {'evidences': [{'evidenceCode': 'ECO:0000305'}], 'value': 'Methyl-CpG-binding domain protein 2'}}, 'alternativeNames': [{'fullName': {'value': 'Demethylase'}, 'shortNames': [{'value': 'DMTase'}]}, {'fullName': {'value': 'Methyl-CpG-binding protein MBD2'}}]}, 'genes': [{'geneName': {'evidences': [{'evidenceCode': 'ECO:0000312', 'source': 'HGNC', 'id': 'HGNC:6917'}], 'value': 'MBD2'}}], 'sequence': {'value': 'MRAHPGGGRCCPEQEEGESAAGGSGAGGDSAIEQGGQGSALAPSPVSGVRREGARGGGRGRGRWKQAGRGGGVCGRGRGRGRGRGRGRGRGRGRGRPPSGGSGLGGDGGGCGGGGSGGGGAPRREPVPFPSGSAGPGPRGPRATESGKRMDCPALPPGWKKEEVIRKSGLSAGKSDVYYFSPSGKKFRSKPQLARYLGNTVDLSSFDFRTGKMMPSKLQKNKQRLRNDPLNQNKGKPDLNTTLPIRQTASIFKQPVTKVTNHPSNKVKSDPQRMNEQPRQLFWEKRLQGLSASDVTEQIIKTMELPKGLQGVGPGSNDETLLSAVASALHTSSAPITGQVSAAVEKNPAVWLNTSQPLCKAFIVTDEDIRKQEERVQQVRKKLEEALMADILSRAADTEEMDIEMDSGDEA', 'length': 411, 'molWeight': 43255, 'crc64': 'FC4E5E0CF9BA0FFA', 'md5': 'BA2A3A48E9268A4ACDBF147E35E0D132'}, 'extraAttributes': {'uniParcId': 'UPI000003166A'}}\n"
     ]
    },
    {
     "name": "stderr",
     "output_type": "stream",
     "text": [
      "Fetching sequences:  45%|████▍     | 211/469 [01:35<01:57,  2.19it/s]"
     ]
    },
    {
     "name": "stdout",
     "output_type": "stream",
     "text": [
      "{'entryType': 'UniProtKB reviewed (Swiss-Prot)', 'primaryAccession': 'Q8NC51', 'proteinDescription': {'recommendedName': {'fullName': {'value': 'SERPINE1 mRNA-binding protein 1'}}, 'alternativeNames': [{'fullName': {'value': 'PAI1 RNA-binding protein 1'}, 'shortNames': [{'value': 'PAI-RBP1'}]}, {'fullName': {'evidences': [{'evidenceCode': 'ECO:0000305'}], 'value': 'Plasminogen activator inhibitor 1 RNA-binding protein'}}]}, 'genes': [{'geneName': {'evidences': [{'evidenceCode': 'ECO:0000303', 'source': 'PubMed', 'id': '36691768'}, {'evidenceCode': 'ECO:0000312', 'source': 'HGNC', 'id': 'HGNC:17860'}], 'value': 'SERBP1'}, 'synonyms': [{'value': 'PAIRBP1'}], 'orfNames': [{'evidences': [{'evidenceCode': 'ECO:0000303', 'source': 'PubMed', 'id': '28695742'}], 'value': 'CGI-55'}]}], 'sequence': {'value': 'MPGHLQEGFGCVVTNRFDQLFDDESDPFEVLKAAENKKKEAGGGGVGGPGAKSAAQAAAQTNSNAAGKQLRKESQKDRKNPLPPSVGVVDKKEETQPPVALKKEGIRRVGRRPDQQLQGEGKIIDRRPERRPPRERRFEKPLEEKGEGGEFSVDRPIIDRPIRGRGGLGRGRGGRGRGMGRGDGFDSRGKREFDRHSGSDRSSFSHYSGLKHEDKRGGSGSHNWGTVKDELTESPKYIQKQISYNYSDLDQSNVTEETPEGEEHHPVADTENKENEVEEVKEEGPKEMTLDEWKAIQNKDRAKVEFNIRKPNEGADGQWKKGFVLHKSKSEEAHAEDSVMDHHFRKPANDITSQLEINFGDLGRPGRGGRGGRGGRGRGGRPNRGSRTDKSSASAPDVDDPEAFPALA', 'length': 408, 'molWeight': 44965, 'crc64': '2289992374FA6A96', 'md5': '445BEFA2CC34127853C218EDAAF86DA3'}, 'extraAttributes': {'uniParcId': 'UPI0000036970'}}\n"
     ]
    },
    {
     "name": "stderr",
     "output_type": "stream",
     "text": [
      "Fetching sequences:  45%|████▌     | 212/469 [01:36<01:56,  2.20it/s]"
     ]
    },
    {
     "name": "stdout",
     "output_type": "stream",
     "text": [
      "{'entryType': 'UniProtKB reviewed (Swiss-Prot)', 'primaryAccession': 'Q9NWT1', 'proteinDescription': {'recommendedName': {'fullName': {'value': 'p21-activated protein kinase-interacting protein 1'}}, 'alternativeNames': [{'fullName': {'value': 'PAK/PLC-interacting protein 1'}, 'shortNames': [{'value': 'hPIP1'}]}, {'fullName': {'value': 'PAK1-interacting protein 1'}}, {'fullName': {'value': 'WD repeat-containing protein 84'}}]}, 'genes': [{'geneName': {'value': 'PAK1IP1'}, 'synonyms': [{'value': 'PIP1'}, {'value': 'WDR84'}]}], 'sequence': {'value': 'MELVAGCYEQVLFGFAVHPEPEACGDHEQWTLVADFTHHAHTASLSAVAVNSRFVVTGSKDETIHIYDMKKKIEHGALVHHSGTITCLKFYGNRHLISGAEDGLICIWDAKKWECLKSIKAHKGQVTFLSIHPSGKLALSVGTDKTLRTWNLVEGRSAFIKNIKQNAHIVEWSPRGEQYVVIIQNKIDIYQLDTASISGTITNEKRISSVKFLSESVLAVAGDEEVIRFFDCDSLVCLCEFKAHENRVKDMFSFEIPEHHVIVSASSDGFIKMWKLKQDKKVPPSLLCEINTNARLTCLGVWLDKVADMKESLPPAAEPSPVSKEQSKIGKKEPGDTVHKEEKRSKPNTKKRGLTGDSKKATKESGLISTKKRKMVEMLEKKRKKKKIKTMQ', 'length': 392, 'molWeight': 43964, 'crc64': '7600CDDFCB4F363A', 'md5': '506981A1ADB996627175AE24C55FD5B2'}, 'extraAttributes': {'uniParcId': 'UPI000013CB73'}}\n"
     ]
    },
    {
     "name": "stderr",
     "output_type": "stream",
     "text": [
      "Fetching sequences:  45%|████▌     | 213/469 [01:36<01:55,  2.22it/s]"
     ]
    },
    {
     "name": "stdout",
     "output_type": "stream",
     "text": [
      "{'entryType': 'UniProtKB reviewed (Swiss-Prot)', 'primaryAccession': 'P37108', 'proteinDescription': {'recommendedName': {'fullName': {'value': 'Signal recognition particle 14 kDa protein'}, 'shortNames': [{'value': 'SRP14'}]}, 'alternativeNames': [{'fullName': {'value': '18 kDa Alu RNA-binding protein'}}]}, 'genes': [{'geneName': {'value': 'SRP14'}}], 'sequence': {'value': 'MVLLESEQFLTELTRLFQKCRTSGSVYITLKKYDGRTKPIPKKGTVEGFEPADNKCLLRATDGKKKISTVVSSKEVNKFQMAYSNLLRANMDGLKKRDKKNKTKKTKAAAAAAAAAPAAAATAPTTAATTAATAAQ', 'length': 136, 'molWeight': 14570, 'crc64': '2B5B2D1D62AF5E8E', 'md5': '655618ECB655BB5BA0CA03585B7D905A'}, 'extraAttributes': {'uniParcId': 'UPI0000001C32'}}\n"
     ]
    },
    {
     "name": "stderr",
     "output_type": "stream",
     "text": [
      "Fetching sequences:  46%|████▌     | 214/469 [01:37<01:54,  2.22it/s]"
     ]
    },
    {
     "name": "stdout",
     "output_type": "stream",
     "text": [
      "{'entryType': 'UniProtKB reviewed (Swiss-Prot)', 'primaryAccession': 'O00148', 'proteinDescription': {'recommendedName': {'fullName': {'value': 'ATP-dependent RNA helicase DDX39A'}, 'ecNumbers': [{'value': '3.6.4.13'}]}, 'alternativeNames': [{'fullName': {'value': 'DEAD box protein 39'}}, {'fullName': {'value': 'Nuclear RNA helicase URH49'}}]}, 'genes': [{'geneName': {'value': 'DDX39A'}, 'synonyms': [{'value': 'DDX39'}]}], 'sequence': {'value': 'MAEQDVENDLLDYDEEEEPQAPQESTPAPPKKDIKGSYVSIHSSGFRDFLLKPELLRAIVDCGFEHPSEVQHECIPQAILGMDVLCQAKSGMGKTAVFVLATLQQIEPVNGQVTVLVMCHTRELAFQISKEYERFSKYMPSVKVSVFFGGLSIKKDEEVLKKNCPHVVVGTPGRILALVRNRSFSLKNVKHFVLDECDKMLEQLDMRRDVQEIFRLTPHEKQCMMFSATLSKDIRPVCRKFMQDPMEVFVDDETKLTLHGLQQYYVKLKDSEKNRKLFDLLDVLEFNQVIIFVKSVQRCMALAQLLVEQNFPAIAIHRGMAQEERLSRYQQFKDFQRRILVATNLFGRGMDIERVNIVFNYDMPEDSDTYLHRVARAGRFGTKGLAITFVSDENDAKILNDVQDRFEVNVAELPEEIDISTYIEQSR', 'length': 427, 'molWeight': 49130, 'crc64': '38D02D4234995574', 'md5': '7D53600966813338C34719145F6BD3BC'}, 'extraAttributes': {'uniParcId': 'UPI00000713A1'}}\n"
     ]
    },
    {
     "name": "stderr",
     "output_type": "stream",
     "text": [
      "Fetching sequences:  46%|████▌     | 215/469 [01:37<01:53,  2.23it/s]"
     ]
    },
    {
     "name": "stdout",
     "output_type": "stream",
     "text": [
      "{'entryType': 'UniProtKB reviewed (Swiss-Prot)', 'primaryAccession': 'Q96PK6', 'proteinDescription': {'recommendedName': {'fullName': {'value': 'RNA-binding protein 14'}}, 'alternativeNames': [{'fullName': {'value': 'Paraspeckle protein 2'}, 'shortNames': [{'value': 'PSP2'}]}, {'fullName': {'value': 'RNA-binding motif protein 14'}}, {'fullName': {'value': 'RRM-containing coactivator activator/modulator'}}, {'fullName': {'value': 'Synaptotagmin-interacting protein'}, 'shortNames': [{'value': 'SYT-interacting protein'}]}]}, 'genes': [{'geneName': {'value': 'RBM14'}, 'synonyms': [{'value': 'SIP'}]}], 'sequence': {'value': 'MKIFVGNVDGADTTPEELAALFAPYGTVMSCAVMKQFAFVHMRENAGALRAIEALHGHELRPGRALVVEMSRPRPLNTWKIFVGNVSAACTSQELRSLFERRGRVIECDVVKDYAFVHMEKEADAKAAIAQLNGKEVKGKRINVELSTKGQKKGPGLAVQSGDKTKKPGAGDTAFPGTGGFSATFDYQQAFGNSTGGFDGQARQPTPPFFGRDRSPLRRSPPRASYVAPLTAQPATYRAQPSVSLGAAYRAQPSASLGVGYRTQPMTAQAASYRAQPSVSLGAPYRGQLASPSSQSAAASSLGPYGGAQPSASALSSYGGQAAAASSLNSYGAQGSSLASYGNQPSSYGAQAASSYGVRAAASSYNTQGAASSLGSYGAQAASYGAQSAASSLAYGAQAASYNAQPSASYNAQSAPYAAQQAASYSSQPAAYVAQPATAAAYASQPAAYAAQATTPMAGSYGAQPVVQTQLNSYGAQASMGLSGSYGAQSAAAATGSYGAAAAYGAQPSATLAAPYRTQSSASLAASYAAQQHPQAAASYRGQPGNAYDGAGQPSAAYLSMSQGAVANANSTPPPYERTRLSPPRASYDDPYKKAVAMSKRYGSDRRLAELSDYRRLSESQLSFRRSPTKSSLDYRRLPDAHSDYARYSGSYNDYLRAAQMHSGYQRRM', 'length': 669, 'molWeight': 69492, 'crc64': '565C5EF51B6881FD', 'md5': 'DF2A4620F28257C1DD204DD1A498086F'}, 'extraAttributes': {'uniParcId': 'UPI0000073D46'}}\n"
     ]
    },
    {
     "name": "stderr",
     "output_type": "stream",
     "text": [
      "Fetching sequences:  46%|████▌     | 216/469 [01:37<01:53,  2.24it/s]"
     ]
    },
    {
     "name": "stdout",
     "output_type": "stream",
     "text": [
      "{'entryType': 'UniProtKB reviewed (Swiss-Prot)', 'primaryAccession': 'Q13148', 'proteinDescription': {'recommendedName': {'fullName': {'evidences': [{'evidenceCode': 'ECO:0000303', 'source': 'PubMed', 'id': '7745706'}], 'value': 'TAR DNA-binding protein 43'}, 'shortNames': [{'evidences': [{'evidenceCode': 'ECO:0000303', 'source': 'PubMed', 'id': '7745706'}], 'value': 'TDP-43'}]}}, 'genes': [{'geneName': {'evidences': [{'evidenceCode': 'ECO:0000303', 'source': 'PubMed', 'id': '18396105'}, {'evidenceCode': 'ECO:0000312', 'source': 'HGNC', 'id': 'HGNC:11571'}], 'value': 'TARDBP'}, 'synonyms': [{'evidences': [{'evidenceCode': 'ECO:0000303', 'source': 'PubMed', 'id': '7745706'}], 'value': 'TDP43'}]}], 'sequence': {'value': 'MSEYIRVTEDENDEPIEIPSEDDGTVLLSTVTAQFPGACGLRYRNPVSQCMRGVRLVEGILHAPDAGWGNLVYVVNYPKDNKRKMDETDASSAVKVKRAVQKTSDLIVLGLPWKTTEQDLKEYFSTFGEVLMVQVKKDLKTGHSKGFGFVRFTEYETQVKVMSQRHMIDGRWCDCKLPNSKQSQDEPLRSRKVFVGRCTEDMTEDELREFFSQYGDVMDVFIPKPFRAFAFVTFADDQIAQSLCGEDLIIKGISVHISNAEPKHNSNRQLERSGRFGGNPGGFGNQGGFGNSRGGGAGLGNNQGSNMGGGMNFGAFSINPAMMAAAQAALQSSWGMMGMLASQQNQSGPSGNNQNQGNMQREPNQAFGSGNNSYSGSNSGAAIGWGSASNAGSGSGFNGGFGSSMDSKSSGWGM', 'length': 414, 'molWeight': 44740, 'crc64': '8E09A1206FB4EF4A', 'md5': 'D21783F4E4F170AA5D52741BC444BF07'}, 'extraAttributes': {'uniParcId': 'UPI0000136B42'}}\n"
     ]
    },
    {
     "name": "stderr",
     "output_type": "stream",
     "text": [
      "Fetching sequences:  46%|████▋     | 217/469 [01:38<01:52,  2.25it/s]"
     ]
    },
    {
     "name": "stdout",
     "output_type": "stream",
     "text": [
      "{'entryType': 'UniProtKB reviewed (Swiss-Prot)', 'primaryAccession': 'P43243', 'proteinDescription': {'recommendedName': {'fullName': {'value': 'Matrin-3'}}}, 'genes': [{'geneName': {'value': 'MATR3'}, 'synonyms': [{'value': 'KIAA0723'}]}], 'sequence': {'value': 'MSKSFQQSSLSRDSQGHGRDLSAAGIGLLAAATQSLSMPASLGRMNQGTARLASLMNLGMSSSLNQQGAHSALSSASTSSHNLQSIFNIGSRGPLPLSSQHRGDADQASNILASFGLSARDLDELSRYPEDKITPENLPQILLQLKRRRTEEGPTLSYGRDGRSATREPPYRVPRDDWEEKRHFRRDSFDDRGPSLNPVLDYDHGSRSQESGYYDRMDYEDDRLRDGERCRDDSFFGETSHNYHKFDSEYERMGRGPGPLQERSLFEKKRGAPPSSNIEDFHGLLPKGYPHLCSICDLPVHSNKEWSQHINGASHSRRCQLLLEIYPEWNPDNDTGHTMGDPFMLQQSTNPAPGILGPPPPSFHLGGPAVGPRGNLGAGNGNLQGPRHMQKGRVETSRVVHIMDFQRGKNLRYQLLQLVEPFGVISNHLILNKINEAFIEMATTEDAQAAVDYYTTTPALVFGKPVRVHLSQKYKRIKKPEGKPDQKFDQKQELGRVIHLSNLPHSGYSDSAVLKLAEPYGKIKNYILMRMKSQAFIEMETREDAMAMVDHCLKKALWFQGRCVKVDLSEKYKKLVLRIPNRGIDLLKKDKSRKRSYSPDGKESPSDKKSKTDGSQKTESSTEGKEQEEKSGEDGEKDTKDDQTEQEPNMLLESEDELLVDEEEAAALLESGSSVGDETDLANLGDVASDGKKEPSDKAVKKDGSASAAAKKKLKKVDKIEELDQENEAALENGIKNEENTEPGAESSENADDPNKDTSENADGQSDENKDDYTIPDEYRIGPYQPNVPVGIDYVIPKTGFYCKLCSLFYTNEEVAKNTHCSSLPHYQKLKKFLNKLAEERRQKKET', 'length': 847, 'molWeight': 94623, 'crc64': '530AA49214BC1611', 'md5': '2421FD0E970D2164029A89DE9B0F8117'}, 'extraAttributes': {'uniParcId': 'UPI0000000DEE'}}\n"
     ]
    },
    {
     "name": "stderr",
     "output_type": "stream",
     "text": [
      "Fetching sequences:  46%|████▋     | 218/469 [01:38<01:51,  2.26it/s]"
     ]
    },
    {
     "name": "stdout",
     "output_type": "stream",
     "text": [
      "{'entryType': 'UniProtKB reviewed (Swiss-Prot)', 'primaryAccession': 'P41091', 'proteinDescription': {'recommendedName': {'fullName': {'value': 'Eukaryotic translation initiation factor 2 subunit 3'}, 'ecNumbers': [{'evidences': [{'evidenceCode': 'ECO:0000250', 'source': 'UniProtKB', 'id': 'P32481'}], 'value': '3.6.5.3'}]}, 'alternativeNames': [{'fullName': {'value': 'Eukaryotic translation initiation factor 2 subunit gamma X'}, 'shortNames': [{'value': 'eIF2-gamma X'}, {'value': 'eIF2gX'}]}]}, 'genes': [{'geneName': {'value': 'EIF2S3'}, 'synonyms': [{'value': 'EIF2G'}]}], 'sequence': {'value': 'MAGGEAGVTLGQPHLSRQDLTTLDVTKLTPLSHEVISRQATINIGTIGHVAHGKSTVVKAISGVHTVRFKNELERNITIKLGYANAKIYKLDDPSCPRPECYRSCGSSTPDEFPTDIPGTKGNFKLVRHVSFVDCPGHDILMATMLNGAAVMDAALLLIAGNESCPQPQTSEHLAAIEIMKLKHILILQNKIDLVKESQAKEQYEQILAFVQGTVAEGAPIIPISAQLKYNIEVVCEYIVKKIPVPPRDFTSEPRLIVIRSFDVNKPGCEVDDLKGGVAGGSILKGVLKVGQEIEVRPGIVSKDSEGKLMCKPIFSKIVSLFAEHNDLQYAAPGGLIGVGTKIDPTLCRADRMVGQVLGAVGALPEIFTELEISYFLLRRLLGVRTEGDKKAAKVQKLSKNEVLMVNIGSLSTGGRVSAVKADLGKIVLTNPVCTEVGEKIALSRRVEKHWRLIGWGQIRRGVTIKPTVDDD', 'length': 472, 'molWeight': 51109, 'crc64': '7A292A6AAF6DF983', 'md5': 'A30D83C9531BDE8F33A7293C3AC7E0A4'}, 'extraAttributes': {'uniParcId': 'UPI0000163BD6'}}\n"
     ]
    },
    {
     "name": "stderr",
     "output_type": "stream",
     "text": [
      "Fetching sequences:  47%|████▋     | 219/469 [01:39<01:51,  2.25it/s]"
     ]
    },
    {
     "name": "stdout",
     "output_type": "stream",
     "text": [
      "{'entryType': 'UniProtKB reviewed (Swiss-Prot)', 'primaryAccession': 'Q9BQ39', 'proteinDescription': {'recommendedName': {'fullName': {'value': 'ATP-dependent RNA helicase DDX50'}, 'ecNumbers': [{'value': '3.6.4.13'}]}, 'alternativeNames': [{'fullName': {'value': 'DEAD box protein 50'}}, {'fullName': {'value': 'Gu-beta'}}, {'fullName': {'value': 'Nucleolar protein Gu2'}}]}, 'genes': [{'geneName': {'value': 'DDX50'}}], 'sequence': {'value': 'MPGKLLWGDIMELEAPLEESESQKKERQKSDRRKSRHHYDSDEKSETRENGVTDDLDAPKAKKSKMKEKLNGDTEEGFNRLSDEFSKSHKSRRKDLPNGDIDEYEKKSKRVSSLDTSTHKSSDNKLEETLTREQKEGAFSNFPISEETIKLLKGRGVTYLFPIQVKTFGPVYEGKDLIAQARTGTGKTFSFAIPLIERLQRNQETIKKSRSPKVLVLAPTRELANQVAKDFKDITRKLSVACFYGGTSYQSQINHIRNGIDILVGTPGRIKDHLQSGRLDLSKLRHVVLDEVDQMLDLGFAEQVEDIIHESYKTDSEDNPQTLLFSATCPQWVYKVAKKYMKSRYEQVDLVGKMTQKAATTVEHLAIQCHWSQRPAVIGDVLQVYSGSEGRAIIFCETKKNVTEMAMNPHIKQNAQCLHGDIAQSQREITLKGFREGSFKVLVATNVAARGLDIPEVDLVIQSSPPQDVESYIHRSGRTGRAGRTGICICFYQPRERGQLRYVEQKAGITFKRVGVPSTMDLVKSKSMDAIRSLASVSYAAVDFFRPSAQRLIEEKGAVDALAAALAHISGASSFEPRSLITSDKGFVTMTLESLEEIQDVSCAWKELNRKLSSNAVSQITRMCLLKGNMGVCFDVPTTESERLQAEWHDSDWILSVPAKLPEIEEYYDGNTSSNSRQRSGWSSGRSGRSGRSGGRSGGRSGRQSRQGSRSGSRQDGRRRSGNRNRSRSGGHKRSFD', 'length': 737, 'molWeight': 82565, 'crc64': '9B7EF72EEC7C504E', 'md5': '5613EA0FB5B9F7B2C9BC908238F8D3C4'}, 'extraAttributes': {'uniParcId': 'UPI000006FBBF'}}\n"
     ]
    },
    {
     "name": "stderr",
     "output_type": "stream",
     "text": [
      "Fetching sequences:  47%|████▋     | 220/469 [01:39<01:50,  2.25it/s]"
     ]
    },
    {
     "name": "stdout",
     "output_type": "stream",
     "text": [
      "{'entryType': 'UniProtKB reviewed (Swiss-Prot)', 'primaryAccession': 'P78527', 'proteinDescription': {'recommendedName': {'fullName': {'value': 'DNA-dependent protein kinase catalytic subunit'}, 'shortNames': [{'value': 'DNA-PK catalytic subunit'}, {'value': 'DNA-PKcs'}], 'ecNumbers': [{'evidences': [{'evidenceCode': 'ECO:0000269', 'source': 'PubMed', 'id': '15262962'}, {'evidenceCode': 'ECO:0000269', 'source': 'PubMed', 'id': '26237645'}, {'evidenceCode': 'ECO:0000269', 'source': 'PubMed', 'id': '32103174'}, {'evidenceCode': 'ECO:0000269', 'source': 'PubMed', 'id': '35460603'}], 'value': '2.7.11.1'}]}, 'alternativeNames': [{'fullName': {'value': 'DNPK1'}}, {'fullName': {'evidences': [{'evidenceCode': 'ECO:0000303', 'source': 'PubMed', 'id': '15262962'}], 'value': 'Ser-473 kinase'}, 'shortNames': [{'evidences': [{'evidenceCode': 'ECO:0000303', 'source': 'PubMed', 'id': '15262962'}], 'value': 'S473K'}]}, {'fullName': {'value': 'p460'}}]}, 'genes': [{'geneName': {'value': 'PRKDC'}, 'synonyms': [{'value': 'HYRC'}, {'value': 'HYRC1'}]}], 'sequence': {'value': 'MAGSGAGVRCSLLRLQETLSAADRCGAALAGHQLIRGLGQECVLSSSPAVLALQTSLVFSRDFGLLVFVRKSLNSIEFRECREEILKFLCIFLEKMGQKIAPYSVEIKNTCTSVYTKDRAAKCKIPALDLLIKLLQTFRSSRLMDEFKIGELFSKFYGELALKKKIPDTVLEKVYELLGLLGEVHPSEMINNAENLFRAFLGELKTQMTSAVREPKLPVLAGCLKGLSSLLCNFTKSMEEDPQTSREIFNFVLKAIRPQIDLKRYAVPSAGLRLFALHASQFSTCLLDNYVSLFEVLLKWCAHTNVELKKAALSALESFLKQVSNMVAKNAEMHKNKLQYFMEQFYGIIRNVDSNNKELSIAIRGYGLFAGPCKVINAKDVDFMYVELIQRCKQMFLTQTDTGDDRVYQMPSFLQSVASVLLYLDTVPEVYTPVLEHLVVMQIDSFPQYSPKMQLVCCRAIVKVFLALAAKGPVLRNCISTVVHQGLIRICSKPVVLPKGPESESEDHRASGEVRTGKWKVPTYKDYVDLFRHLLSSDQMMDSILADEAFFSVNSSSESLNHLLYDEFVKSVLKIVEKLDLTLEIQTVGEQENGDEAPGVWMIPTSDPAANLHPAKPKDFSAFINLVEFCREILPEKQAEFFEPWVYSFSYELILQSTRLPLISGFYKLLSITVRNAKKIKYFEGVSPKSLKHSPEDPEKYSCFALFVKFGKEVAVKMKQYKDELLASCLTFLLSLPHNIIELDVRAYVPALQMAFKLGLSYTPLAEVGLNALEEWSIYIDRHVMQPYYKDILPCLDGYLKTSALSDETKNNWEVSALSRAAQKGFNKVVLKHLKKTKNLSSNEAISLEEIRIRVVQMLGSLGGQINKNLLTVTSSDEMMKSYVAWDREKRLSFAVPFREMKPVIFLDVFLPRVTELALTASDRQTKVAACELLHSMVMFMLGKATQMPEGGQGAPPMYQLYKRTFPVLLRLACDVDQVTRQLYEPLVMQLIHWFTNNKKFESQDTVALLEAILDGIVDPVDSTLRDFCGRCIREFLKWSIKQITPQQQEKSPVNTKSLFKRLYSLALHPNAFKRLGASLAFNNIYREFREEESLVEQFVFEALVIYMESLALAHADEKSLGTIQQCCDAIDHLCRIIEKKHVSLNKAKKRRLPRGFPPSASLCLLDLVKWLLAHCGRPQTECRHKSIELFYKFVPLLPGNRSPNLWLKDVLKEEGVSFLINTFEGGGCGQPSGILAQPTLLYLRGPFSLQATLCWLDLLLAALECYNTFIGERTVGALQVLGTEAQSSLLKAVAFFLESIAMHDIIAAEKCFGTGAAGNRTSPQEGERYNYSKCTVVVRIMEFTTTLLNTSPEGWKLLKKDLCNTHLMRVLVQTLCEPASIGFNIGDVQVMAHLPDVCVNLMKALKMSPYKDILETHLREKITAQSIEELCAVNLYGPDAQVDRSRLAAVVSACKQLHRAGLLHNILPSQSTDLHHSVGTELLSLVYKGIAPGDERQCLPSLDLSCKQLASGLLELAFAFGGLCERLVSLLLNPAVLSTASLGSSQGSVIHFSHGEYFYSLFSETINTELLKNLDLAVLELMQSSVDNTKMVSAVLNGMLDQSFRERANQKHQGLKLATTILQHWKKCDSWWAKDSPLETKMAVLALLAKILQIDSSVSFNTSHGSFPEVFTTYISLLADTKLDLHLKGQAVTLLPFFTSLTGGSLEELRRVLEQLIVAHFPMQSREFPPGTPRFNNYVDCMKKFLDALELSQSPMLLELMTEVLCREQQHVMEELFQSSFRRIARRGSCVTQVGLLESVYEMFRKDDPRLSFTRQSFVDRSLLTLLWHCSLDALREFFSTIVVDAIDVLKSRFTKLNESTFDTQITKKMGYYKILDVMYSRLPKDDVHAKESKINQVFHGSCITEGNELTKTLIKLCYDAFTENMAGENQLLERRRLYHCAAYNCAISVICCVFNELKFYQGFLFSEKPEKNLLIFENLIDLKRRYNFPVEVEVPMERKKKYIEIRKEAREAANGDSDGPSYMSSLSYLADSTLSEEMSQFDFSTGVQSYSYSSQDPRPATGRFRRREQRDPTVHDDVLELEMDELNRHECMAPLTALVKHMHRSLGPPQGEEDSVPRDLPSWMKFLHGKLGNPIVPLNIRLFLAKLVINTEEVFRPYAKHWLSPLLQLAASENNGGEGIHYMVVEIVATILSWTGLATPTGVPKDEVLANRLLNFLMKHVFHPKRAVFRHNLEIIKTLVECWKDCLSIPYRLIFEKFSGKDPNSKDNSVGIQLLGIVMANDLPPYDPQCGIQSSEYFQALVNNMSFVRYKEVYAAAAEVLGLILRYVMERKNILEESLCELVAKQLKQHQNTMEDKFIVCLNKVTKSFPPLADRFMNAVFFLLPKFHGVLKTLCLEVVLCRVEGMTELYFQLKSKDFVQVMRHRDDERQKVCLDIIYKMMPKLKPVELRELLNPVVEFVSHPSTTCREQMYNILMWIHDNYRDPESETDNDSQEIFKLAKDVLIQGLIDENPGLQLIIRNFWSHETRLPSNTLDRLLALNSLYSPKIEVHFLSLATNFLLEMTSMSPDYPNPMFEHPLSECEFQEYTIDSDWRFRSTVLTPMFVETQASQGTLQTRTQEGSLSARWPVAGQIRATQQQHDFTLTQTADGRSSFDWLTGSSTDPLVDHTSPSSDSLLFAHKRSERLQRAPLKSVGPDFGKKRLGLPGDEVDNKVKGAAGRTDLLRLRRRFMRDQEKLSLMYARKGVAEQKREKEIKSELKMKQDAQVVLYRSYRHGDLPDIQIKHSSLITPLQAVAQRDPIIAKQLFSSLFSGILKEMDKFKTLSEKNNITQKLLQDFNRFLNTTFSFFPPFVSCIQDISCQHAALLSLDPAAVSAGCLASLQQPVGIRLLEEALLRLLPAELPAKRVRGKARLPPDVLRWVELAKLYRSIGEYDVLRGIFTSEIGTKQITQSALLAEARSDYSEAAKQYDEALNKQDWVDGEPTEAEKDFWELASLDCYNHLAEWKSLEYCSTASIDSENPPDLNKIWSEPFYQETYLPYMIRSKLKLLLQGEADQSLLTFIDKAMHGELQKAILELHYSQELSLLYLLQDDVDRAKYYIQNGIQSFMQNYSSIDVLLHQSRLTKLQSVQALTEIQEFISFISKQGNLSSQVPLKRLLNTWTNRYPDAKMDPMNIWDDIITNRCFFLSKIEEKLTPLPEDNSMNVDQDGDPSDRMEVQEQEEDISSLIRSCKFSMKMKMIDSARKQNNFSLAMKLLKELHKESKTRDDWLVSWVQSYCRLSHCRSRSQGCSEQVLTVLKTVSLLDENNVSSYLSKNILAFRDQNILLGTTYRIIANALSSEPACLAEIEEDKARRILELSGSSSEDSEKVIAGLYQRAFQHLSEAVQAAEEEAQPPSWSCGPAAGVIDAYMTLADFCDQQLRKEEENASVIDSAELQAYPALVVEKMLKALKLNSNEARLKFPRLLQIIERYPEETLSLMTKEISSVPCWQFISWISHMVALLDKDQAVAVQHSVEEITDNYPQAIVYPFIISSESYSFKDTSTGHKNKEFVARIKSKLDQGGVIQDFINALDQLSNPELLFKDWSNDVRAELAKTPVNKKNIEKMYERMYAALGDPKAPGLGAFRRKFIQTFGKEFDKHFGKGGSKLLRMKLSDFNDITNMLLLKMNKDSKPPGNLKECSPWMSDFKVEFLRNELEIPGQYDGRGKPLPEYHVRIAGFDERVTVMASLRRPKRIIIRGHDEREHPFLVKGGEDLRQDQRVEQLFQVMNGILAQDSACSQRALQLRTYSVVPMTSRLGLIEWLENTVTLKDLLLNTMSQEEKAAYLSDPRAPPCEYKDWLTKMSGKHDVGAYMLMYKGANRTETVTSFRKRESKVPADLLKRAFVRMSTSPEAFLALRSHFASSHALICISHWILGIGDRHLNNFMVAMETGGVIGIDFGHAFGSATQFLPVPELMPFRLTRQFINLMLPMKETGLMYSIMVHALRAFRSDPGLLTNTMDVFVKEPSFDWKNFEQKMLKKGGSWIQEINVAEKNWYPRQKICYAKRKLAGANPAVITCDELLLGHEKAPAFRDYVAVARGSKDHNIRAQEPESGLSEETQVKCLMDQATDPNILGRTWEGWEPWM', 'length': 4128, 'molWeight': 469089, 'crc64': 'AC6E747FEB09F3E5', 'md5': '3AE73B1E40BE7731F70E786D57E691A4'}, 'extraAttributes': {'uniParcId': 'UPI0000013593'}}\n"
     ]
    },
    {
     "name": "stderr",
     "output_type": "stream",
     "text": [
      "Fetching sequences:  47%|████▋     | 221/469 [01:40<01:49,  2.26it/s]"
     ]
    },
    {
     "name": "stdout",
     "output_type": "stream",
     "text": [
      "{'entryType': 'UniProtKB reviewed (Swiss-Prot)', 'primaryAccession': 'Q92841', 'proteinDescription': {'recommendedName': {'fullName': {'value': 'Probable ATP-dependent RNA helicase DDX17'}, 'ecNumbers': [{'value': '3.6.4.13'}]}, 'alternativeNames': [{'fullName': {'value': 'DEAD box protein 17'}}, {'fullName': {'value': 'DEAD box protein p72'}}, {'fullName': {'evidences': [{'evidenceCode': 'ECO:0000303', 'source': 'PubMed', 'id': '19995069'}], 'value': 'DEAD box protein p82'}}, {'fullName': {'value': 'RNA-dependent helicase p72'}}]}, 'genes': [{'geneName': {'value': 'DDX17'}}], 'sequence': {'value': 'MPTGFVAPILCVLLPSPTREAATVASATGDSASERESAAPAAAPTAEAPPPSVVTRPEPQALPSPAIRAPLPDLYPFGTMRGGGFGDRDRDRDRGGFGARGGGGLPPKKFGNPGERLRKKKWDLSELPKFEKNFYVEHPEVARLTPYEVDELRRKKEITVRGGDVCPKPVFAFHHANFPQYVMDVLMDQHFTEPTPIQCQGFPLALSGRDMVGIAQTGSGKTLAYLLPAIVHINHQPYLERGDGPICLVLAPTRELAQQVQQVADDYGKCSRLKSTCIYGGAPKGPQIRDLERGVEICIATPGRLIDFLESGKTNLRRCTYLVLDEADRMLDMGFEPQIRKIVDQIRPDRQTLMWSATWPKEVRQLAEDFLRDYTQINVGNLELSANHNILQIVDVCMESEKDHKLIQLMEEIMAEKENKTIIFVETKRRCDDLTRRMRRDGWPAMCIHGDKSQPERDWVLNEFRSGKAPILIATDVASRGLDVEDVKFVINYDYPNSSEDYVHRIGRTARSTNKGTAYTFFTPGNLKQARELIKVLEEANQAINPKLMQLVDHRGGGGGGGGRSRYRTTSSANNPNLMYQDECDRRLRGVKDGGRRDSASYRDRSETDRAGYANGSGYGSPNSAFGAQAGQYTYGQGTYGAAAYGTSSYTAQEYGAGTYGASSTTSTGRSSQSSSQQFSGIGRSGQQPQPLMSQQFAQPPGATNMIGYMGQTAYQYPPPPPPPPPSRK', 'length': 729, 'molWeight': 80272, 'crc64': 'C819F53515B1BC39', 'md5': '50A793E15A553BBB8418A8235C59B241'}, 'extraAttributes': {'uniParcId': 'UPI000021BFBA'}}\n"
     ]
    },
    {
     "name": "stderr",
     "output_type": "stream",
     "text": [
      "Fetching sequences:  47%|████▋     | 222/469 [01:40<01:48,  2.28it/s]"
     ]
    },
    {
     "name": "stdout",
     "output_type": "stream",
     "text": [
      "{'entryType': 'UniProtKB reviewed (Swiss-Prot)', 'primaryAccession': 'P42285', 'proteinDescription': {'recommendedName': {'fullName': {'evidences': [{'evidenceCode': 'ECO:0000305'}], 'value': 'Exosome RNA helicase MTR4'}, 'ecNumbers': [{'evidences': [{'evidenceCode': 'ECO:0000269', 'source': 'PubMed', 'id': '29844170'}], 'value': '3.6.4.13'}]}, 'alternativeNames': [{'fullName': {'evidences': [{'evidenceCode': 'ECO:0000303', 'source': 'PubMed', 'id': '16782053'}], 'value': 'ATP-dependent RNA helicase DOB1'}}, {'fullName': {'value': 'ATP-dependent RNA helicase SKIV2L2'}}, {'fullName': {'value': 'Superkiller viralicidic activity 2-like 2'}}, {'fullName': {'value': 'TRAMP-like complex helicase'}}]}, 'genes': [{'geneName': {'evidences': [{'evidenceCode': 'ECO:0000312', 'source': 'HGNC', 'id': 'HGNC:18734'}], 'value': 'MTREX'}, 'synonyms': [{'evidences': [{'evidenceCode': 'ECO:0000303', 'source': 'PubMed', 'id': '16782053'}], 'value': 'DOB1'}, {'value': 'KIAA0052'}, {'evidences': [{'evidenceCode': 'ECO:0000303', 'source': 'PubMed', 'id': '26456651'}], 'value': 'MTR4'}, {'value': 'SKIV2L2'}]}], 'sequence': {'value': 'MADAFGDELFSVFEGDSTTAAGTKKDKEKDKGKWKGPPGSADKAGKRFDGKLQSESTNNGKNKRDVDFEGTDEPIFGKKPRIEESITEDLSLADLMPRVKVQSVETVEGCTHEVALPAEEDYLPLKPRVGKAAKEYPFILDAFQREAIQCVDNNQSVLVSAHTSAGKTVCAEYAIALALREKQRVIFTSPIKALSNQKYREMYEEFQDVGLMTGDVTINPTASCLVMTTEILRSMLYRGSEVMREVAWVIFDEIHYMRDSERGVVWEETIILLPDNVHYVFLSATIPNARQFAEWICHLHKQPCHVIYTDYRPTPLQHYIFPAGGDGLHLVVDENGDFREDNFNTAMQVLRDAGDLAKGDQKGRKGGTKGPSNVFKIVKMIMERNFQPVIIFSFSKKDCEAYALQMTKLDFNTDEEKKMVEEVFSNAIDCLSDEDKKLPQVEHVLPLLKRGIGIHHGGLLPILKETIEILFSEGLIKALFATETFAMGINMPARTVLFTNARKFDGKDFRWISSGEYIQMSGRAGRRGMDDRGIVILMVDEKMSPTIGKQLLKGSADPLNSAFHLTYNMVLNLLRVEEINPEYMLEKSFYQFQHYRAIPGVVEKVKNSEEQYNKIVIPNEESVVIYYKIRQQLAKLGKEIEEYIHKPKYCLPFLQPGRLVKVKNEGDDFGWGVVVNFSKKSNVKPNSGELDPLYVVEVLLRCSKESLKNSATEAAKPAKPDEKGEMQVVPVLVHLLSAISSVRLYIPKDLRPVDNRQSVLKSIQEVQKRFPDGIPLLDPIDDMGIQDQGLKKVIQKVEAFEHRMYSHPLHNDPNLETVYTLCEKKAQIAIDIKSAKRELKKARTVLQMDELKCRKRVLRRLGFATSSDVIEMKGRVACEISSADELLLTEMMFNGLFNDLSAEQATALLSCFVFQENSSEMPKLTEQLAGPLRQMQECAKRIAKVSAEAKLEIDEETYLSSFKPHLMDVVYTWATGATFAHICKMTDVFEGSIIRCMRRLEELLRQMCQAAKAIGNTELENKFAEGITKIKRDIVFAASLYL', 'length': 1042, 'molWeight': 117805, 'crc64': '49F47BEC753FBEE7', 'md5': 'E7DA12CE6E19E8D6E36C9FC8DC15A02F'}, 'extraAttributes': {'uniParcId': 'UPI000020C772'}}\n"
     ]
    },
    {
     "name": "stderr",
     "output_type": "stream",
     "text": [
      "Fetching sequences:  48%|████▊     | 223/469 [01:41<01:48,  2.26it/s]"
     ]
    },
    {
     "name": "stdout",
     "output_type": "stream",
     "text": [
      "{'entryType': 'UniProtKB reviewed (Swiss-Prot)', 'primaryAccession': 'Q96SI9', 'proteinDescription': {'recommendedName': {'fullName': {'value': 'Spermatid perinuclear RNA-binding protein'}}}, 'genes': [{'geneName': {'value': 'STRBP'}, 'synonyms': [{'value': 'SPNR'}]}], 'sequence': {'value': 'MRSIRSFANDDRHVMVKHSTIYPSPEELEAVQNMVSTVECALKHVSDWLDETNKGTKTEGETEVKKDEAGENYSKDQGGRTLCGVMRIGLVAKGLLIKDDMDLELVLMCKDKPTETLLNTVKDNLPIQIQKLTEEKYQVEQCVNEASIIIRNTKEPTLTLKVILTSPLIRDELEKKDGENVSMKDPPDLLDRQKCLNALASLRHAKWFQARANGLKSCVIVLRILRDLCNRVPTWAPLKGWPLELICEKSIGTCNRPLGAGEALRRVMECLASGILLPGGPGLHDPCERDPTDALSYMTIQQKEDITHSAQHALRLSAFGQIYKVLEMDPLPSSKPFQKYSWSVTDKEGAGSSALKRPFEDGLGDDKDPNKKMKRNLRKILDSKAIDLMNALMRLNQIRPGLQYKLLSQSGPVHAPVFTMSVDVDGTTYEASGPSKKTAKLHVAVKVLQAMGYPTGFDADIECMSSDEKSDNESKNETVSSNSSNNTGNSTTETSSTLEVRTQGPILTASGKNPVMELNEKRRGLKYELISETGGSHDKRFVMEVEVDGQKFRGAGPNKKVAKASAALAALEKLFSGPNAANNKKKKIIPQAKGVVNTAVSAAVQAVRGRGRGTLTRGAFVGATAAPGYIAPGYGTPYGYSTAAPAYGLPKRMVLLPVMKFPTYPVPHYSFF', 'length': 672, 'molWeight': 73653, 'crc64': '26465F4D3A429FBC', 'md5': '3869A7B991AE1FF83C355C6F6E1BCB4B'}, 'extraAttributes': {'uniParcId': 'UPI00000467FD'}}\n"
     ]
    },
    {
     "name": "stderr",
     "output_type": "stream",
     "text": [
      "Fetching sequences:  48%|████▊     | 224/469 [01:41<01:48,  2.27it/s]"
     ]
    },
    {
     "name": "stdout",
     "output_type": "stream",
     "text": [
      "{'entryType': 'UniProtKB reviewed (Swiss-Prot)', 'primaryAccession': 'Q6P2Q9', 'proteinDescription': {'recommendedName': {'fullName': {'value': 'Pre-mRNA-processing-splicing factor 8'}}, 'alternativeNames': [{'fullName': {'value': '220 kDa U5 snRNP-specific protein'}}, {'fullName': {'value': 'PRP8 homolog'}}, {'fullName': {'value': 'Splicing factor Prp8'}}, {'fullName': {'value': 'p220'}}]}, 'genes': [{'geneName': {'value': 'PRPF8'}, 'synonyms': [{'value': 'PRPC8'}]}], 'sequence': {'value': 'MAGVFPYRGPGNPVPGPLAPLPDYMSEEKLQEKARKWQQLQAKRYAEKRKFGFVDAQKEDMPPEHVRKIIRDHGDMTNRKFRHDKRVYLGALKYMPHAVLKLLENMPMPWEQIRDVPVLYHITGAISFVNEIPWVIEPVYISQWGSMWIMMRREKRDRRHFKRMRFPPFDDEEPPLDYADNILDVEPLEAIQLELDPEEDAPVLDWFYDHQPLRDSRKYVNGSTYQRWQFTLPMMSTLYRLANQLLTDLVDDNYFYLFDLKAFFTSKALNMAIPGGPKFEPLVRDINLQDEDWNEFNDINKIIIRQPIRTEYKIAFPYLYNNLPHHVHLTWYHTPNVVFIKTEDPDLPAFYFDPLINPISHRHSVKSQEPLPDDDEEFELPEFVEPFLKDTPLYTDNTANGIALLWAPRPFNLRSGRTRRALDIPLVKNWYREHCPAGQPVKVRVSYQKLLKYYVLNALKHRPPKAQKKRYLFRSFKATKFFQSTKLDWVEVGLQVCRQGYNMLNLLIHRKNLNYLHLDYNFNLKPVKTLTTKERKKSRFGNAFHLCREVLRLTKLVVDSHVQYRLGNVDAFQLADGLQYIFAHVGQLTGMYRYKYKLMRQIRMCKDLKHLIYYRFNTGPVGKGPGCGFWAAGWRVWLFFMRGITPLLERWLGNLLARQFEGRHSKGVAKTVTKQRVESHFDLELRAAVMHDILDMMPEGIKQNKARTILQHLSEAWRCWKANIPWKVPGLPTPIENMILRYVKAKADWWTNTAHYNRERIRRGATVDKTVCKKNLGRLTRLYLKAEQERQHNYLKDGPYITAEEAVAVYTTTVHWLESRRFSPIPFPPLSYKHDTKLLILALERLKEAYSVKSRLNQSQREELGLIEQAYDNPHEALSRIKRHLLTQRAFKEVGIEFMDLYSHLVPVYDVEPLEKITDAYLDQYLWYEADKRRLFPPWIKPADTEPPPLLVYKWCQGINNLQDVWETSEGECNVMLESRFEKMYEKIDLTLLNRLLRLIVDHNIADYMTAKNNVVINYKDMNHTNSYGIIRGLQFASFIVQYYGLVMDLLVLGLHRASEMAGPPQMPNDFLSFQDIATEAAHPIRLFCRYIDRIHIFFRFTADEARDLIQRYLTEHPDPNNENIVGYNNKKCWPRDARMRLMKHDVNLGRAVFWDIKNRLPRSVTTVQWENSFVSVYSKDNPNLLFNMCGFECRILPKCRTSYEEFTHKDGVWNLQNEVTKERTAQCFLRVDDESMQRFHNRVRQILMASGSTTFTKIVNKWNTALIGLMTYFREAVVNTQELLDLLVKCENKIQTRIKIGLNSKMPSRFPPVVFYTPKELGGLGMLSMGHVLIPQSDLRWSKQTDVGITHFRSGMSHEEDQLIPNLYRYIQPWESEFIDSQRVWAEYALKRQEAIAQNRRLTLEDLEDSWDRGIPRINTLFQKDRHTLAYDKGWRVRTDFKQYQVLKQNPFWWTHQRHDGKLWNLNNYRTDMIQALGGVEGILEHTLFKGTYFPTWEGLFWEKASGFEESMKWKKLTNAQRSGLNQIPNRRFTLWWSPTINRANVYVGFQVQLDLTGIFMHGKIPTLKISLIQIFRAHLWQKIHESIVMDLCQVFDQELDALEIETVQKETIHPRKSYKMNSSCADILLFASYKWNVSRPSLLADSKDVMDSTTTQKYWIDIQLRWGDYDSHDIERYARAKFLDYTTDNMSIYPSPTGVLIAIDLAYNLHSAYGNWFPGSKPLIQQAMAKIMKANPALYVLRERIRKGLQLYSSEPTEPYLSSQNYGELFSNQIIWFVDDTNVYRVTIHKTFEGNLTTKPINGAIFIFNPRTGQLFLKIIHTSVWAGQKRLGQLAKWKTAEEVAALIRSLPVEEQPKQIIVTRKGMLDPLEVHLLDFPNIVIKGSELQLPFQACLKVEKFGDLILKATEPQMVLFNLYDDWLKTISSYTAFSRLILILRALHVNNDRAKVILKPDKTTITEPHHIWPTLTDEEWIKVEVQLKDLILADYGKKNNVNVASLTQSEIRDIILGMEISAPSQQRQQIAEIEKQTKEQSQLTATQTRTVNKHGDEIITSTTSNYETQTFSSKTEWRVRAISAANLHLRTNHIYVSSDDIKETGYTYILPKNVLKKFICISDLRAQIAGYLYGVSPPDNPQVKEIRCIVMVPQWGTHQTVHLPGQLPQHEYLKEMEPLGWIHTQPNESPQLSPQDVTTHAKIMADNPSWDGEKTIIITCSFTPGSCTLTAYKLTPSGYEWGRQNTDKGNNPKGYLPSHYERVQMLLSDRFLGFFMVPAQSSWNYNFMGVRHDPNMKYELQLANPKEFYHEVHRPSHFLNFALLQEGEVYSADREDLYA', 'length': 2335, 'molWeight': 273600, 'crc64': 'E823A15C60EA61C9', 'md5': 'D397712BA7A2044E69D7FD843F0C317A'}, 'extraAttributes': {'uniParcId': 'UPI000006F2DD'}}\n"
     ]
    },
    {
     "name": "stderr",
     "output_type": "stream",
     "text": [
      "Fetching sequences:  48%|████▊     | 225/469 [01:41<01:46,  2.28it/s]"
     ]
    },
    {
     "name": "stdout",
     "output_type": "stream",
     "text": [
      "{'entryType': 'UniProtKB reviewed (Swiss-Prot)', 'primaryAccession': 'Q9BUQ8', 'proteinDescription': {'recommendedName': {'fullName': {'evidences': [{'evidenceCode': 'ECO:0000305'}], 'value': 'Probable ATP-dependent RNA helicase DDX23'}, 'ecNumbers': [{'evidences': [{'evidenceCode': 'ECO:0000305'}], 'value': '3.6.4.13'}]}, 'alternativeNames': [{'fullName': {'value': '100 kDa U5 snRNP-specific protein'}}, {'fullName': {'value': 'DEAD box protein 23'}}, {'fullName': {'value': 'PRP28 homolog'}}, {'fullName': {'value': 'U5-100kD'}}]}, 'genes': [{'geneName': {'evidences': [{'evidenceCode': 'ECO:0000312', 'source': 'HGNC', 'id': 'HGNC:17347'}], 'value': 'DDX23'}}], 'sequence': {'value': 'MAGELADKKDRDASPSKEERKRSRTPDRERDRDRDRKSSPSKDRKRHRSRDRRRGGSRSRSRSRSKSAERERRHKERERDKERDRNKKDRDRDKDGHRRDKDRKRSSLSPGRGKDFKSRKDRDSKKDEEDEHGDKKPKAQPLSLEELLAKKKAEEEAEAKPKFLSKAEREAEALKRRQQEVEERQRMLEEERKKRKQFQDLGRKMLEDPQERERRERRERMERETNGNEDEEGRQKIREEKDKSKELHAIKERYLGGIKKRRRTRHLNDRKFVFEWDASEDTSIDYNPLYKERHQVQLLGRGFIAGIDLKQQKREQSRFYGDLMEKRRTLEEKEQEEARLRKLRKKEAKQRWDDRHWSQKKLDEMTDRDWRIFREDYSITTKGGKIPNPIRSWKDSSLPPHILEVIDKCGYKEPTPIQRQAIPIGLQNRDIIGVAETGSGKTAAFLIPLLVWITTLPKIDRIEESDQGPYAIILAPTRELAQQIEEETIKFGKPLGIRTVAVIGGISREDQGFRLRMGCEIVIATPGRLIDVLENRYLVLSRCTYVVLDEADRMIDMGFEPDVQKILEHMPVSNQKPDTDEAEDPEKMLANFESGKHKYRQTVMFTATMPPAVERLARSYLRRPAVVYIGSAGKPHERVEQKVFLMSESEKRKKLLAILEQGFDPPIIIFVNQKKGCDVLAKSLEKMGYNACTLHGGKGQEQREFALSNLKAGAKDILVATDVAGRGIDIQDVSMVVNYDMAKNIEDYIHRIGRTGRAGKSGVAITFLTKEDSAVFYELKQAILESPVSSCPPELANHPDAQHKPGTILTKKRREETIFA', 'length': 820, 'molWeight': 95583, 'crc64': '01DD5BCF8BFBA2DB', 'md5': 'A77B4323E539C5CA3E1D9C35940AC4D8'}, 'extraAttributes': {'uniParcId': 'UPI0000073875'}}\n"
     ]
    },
    {
     "name": "stderr",
     "output_type": "stream",
     "text": [
      "Fetching sequences:  48%|████▊     | 226/469 [01:42<01:46,  2.27it/s]"
     ]
    },
    {
     "name": "stdout",
     "output_type": "stream",
     "text": [
      "{'entryType': 'UniProtKB reviewed (Swiss-Prot)', 'primaryAccession': 'P08243', 'proteinDescription': {'recommendedName': {'fullName': {'value': 'Asparagine synthetase [glutamine-hydrolyzing]'}, 'ecNumbers': [{'value': '6.3.5.4'}]}, 'alternativeNames': [{'fullName': {'value': 'Cell cycle control protein TS11'}}, {'fullName': {'value': 'Glutamine-dependent asparagine synthetase'}}]}, 'genes': [{'geneName': {'value': 'ASNS'}, 'synonyms': [{'value': 'TS11'}]}], 'sequence': {'value': 'MCGIWALFGSDDCLSVQCLSAMKIAHRGPDAFRFENVNGYTNCCFGFHRLAVVDPLFGMQPIRVKKYPYLWLCYNGEIYNHKKMQQHFEFEYQTKVDGEIILHLYDKGGIEQTICMLDGVFAFVLLDTANKKVFLGRDTYGVRPLFKAMTEDGFLAVCSEAKGLVTLKHSATPFLKVEPFLPGHYEVLDLKPNGKVASVEMVKYHHCRDVPLHALYDNVEKLFPGFEIETVKNNLRILFNNAVKKRLMTDRRIGCLLSGGLDSSLVAATLLKQLKEAQVQYPLQTFAIGMEDSPDLLAARKVADHIGSEHYEVLFNSEEGIQALDEVIFSLETYDITTVRASVGMYLISKYIRKNTDSVVIFSGEGSDELTQGYIYFHKAPSPEKAEEESERLLRELYLFDVLRADRTTAAHGLELRVPFLDHRFSSYYLSLPPEMRIPKNGIEKHLLRETFEDSNLIPKEILWRPKEAFSDGITSVKNSWFKILQEYVEHQVDDAMMANAAQKFPFNTPKTKEGYYYRQVFERHYPGRADWLSHYWMPKWINATDPSARTLTHYKSAVKA', 'length': 561, 'molWeight': 64370, 'crc64': '3E9B75E21D799FBE', 'md5': 'ECBAB645BF1FE301EAF6DED303686242'}, 'extraAttributes': {'uniParcId': 'UPI0000169F55'}}\n"
     ]
    },
    {
     "name": "stderr",
     "output_type": "stream",
     "text": [
      "Fetching sequences:  48%|████▊     | 227/469 [01:42<01:47,  2.26it/s]"
     ]
    },
    {
     "name": "stdout",
     "output_type": "stream",
     "text": [
      "{'entryType': 'UniProtKB reviewed (Swiss-Prot)', 'primaryAccession': 'P62258', 'proteinDescription': {'recommendedName': {'fullName': {'value': '14-3-3 protein epsilon'}, 'shortNames': [{'value': '14-3-3E'}]}}, 'genes': [{'geneName': {'value': 'YWHAE'}}], 'sequence': {'value': 'MDDREDLVYQAKLAEQAERYDEMVESMKKVAGMDVELTVEERNLLSVAYKNVIGARRASWRIISSIEQKEENKGGEDKLKMIREYRQMVETELKLICCDILDVLDKHLIPAANTGESKVFYYKMKGDYHRYLAEFATGNDRKEAAENSLVAYKAASDIAMTELPPTHPIRLGLALNFSVFYYEILNSPDRACRLAKAAFDDAIAELDTLSEESYKDSTLIMQLLRDNLTLWTSDMQGDGEEQNKEALQDVEDENQ', 'length': 255, 'molWeight': 29174, 'crc64': '07817CCBD1F75B26', 'md5': '76C3A409540532138C6B44BDE9E4D248'}, 'extraAttributes': {'uniParcId': 'UPI0000021A46'}}\n"
     ]
    },
    {
     "name": "stderr",
     "output_type": "stream",
     "text": [
      "Fetching sequences:  49%|████▊     | 228/469 [01:43<01:47,  2.24it/s]"
     ]
    },
    {
     "name": "stdout",
     "output_type": "stream",
     "text": [
      "{'entryType': 'UniProtKB reviewed (Swiss-Prot)', 'primaryAccession': 'Q9NX24', 'proteinDescription': {'recommendedName': {'fullName': {'value': 'H/ACA ribonucleoprotein complex subunit 2'}}, 'alternativeNames': [{'fullName': {'value': 'Nucleolar protein family A member 2'}}, {'fullName': {'value': 'snoRNP protein NHP2'}}]}, 'genes': [{'geneName': {'value': 'NHP2'}, 'synonyms': [{'value': 'NOLA2'}], 'orfNames': [{'value': 'HSPC286'}]}], 'sequence': {'value': 'MTKIKADPDGPEAQAEACSGERTYQELLVNQNPIAQPLASRRLTRKLYKCIKKAVKQKQIRRGVKEVQKFVNKGEKGIMVLAGDTLPIEVYCHLPVMCEDRNLPYVYIPSKTDLGAAAGSKRPTCVIMVKPHEEYQEAYDECLEEVQSLPLPL', 'length': 153, 'molWeight': 17201, 'crc64': '7658FDFF88AF3178', 'md5': 'A26FD92E48B08DD75838AACF900C43EB'}, 'extraAttributes': {'uniParcId': 'UPI0000070B03'}}\n"
     ]
    },
    {
     "name": "stderr",
     "output_type": "stream",
     "text": [
      "Fetching sequences:  49%|████▉     | 229/469 [01:43<01:45,  2.27it/s]"
     ]
    },
    {
     "name": "stdout",
     "output_type": "stream",
     "text": [
      "{'entryType': 'UniProtKB reviewed (Swiss-Prot)', 'primaryAccession': 'P40227', 'proteinDescription': {'recommendedName': {'fullName': {'value': 'T-complex protein 1 subunit zeta'}, 'shortNames': [{'value': 'TCP-1-zeta'}]}, 'alternativeNames': [{'fullName': {'value': 'Acute morphine dependence-related protein 2'}}, {'fullName': {'value': 'CCT-zeta-1'}}, {'fullName': {'value': 'Chaperonin containing T-complex polypeptide 1 subunit 6A'}}, {'fullName': {'value': 'HTR3'}}, {'fullName': {'evidences': [{'evidenceCode': 'ECO:0000303', 'source': 'PubMed', 'id': '8034610'}], 'value': 'Tcp20'}}]}, 'genes': [{'geneName': {'value': 'CCT6A'}, 'synonyms': [{'value': 'CCT6'}, {'value': 'CCTZ'}]}], 'sequence': {'value': 'MAAVKTLNPKAEVARAQAALAVNISAARGLQDVLRTNLGPKGTMKMLVSGAGDIKLTKDGNVLLHEMQIQHPTASLIAKVATAQDDITGDGTTSNVLIIGELLKQADLYISEGLHPRIITEGFEAAKEKALQFLEEVKVSREMDRETLIDVARTSLRTKVHAELADVLTEAVVDSILAIKKQDEPIDLFMIEIMEMKHKSETDTSLIRGLVLDHGARHPDMKKRVEDAYILTCNVSLEYEKTEVNSGFFYKSAEEREKLVKAERKFIEDRVKKIIELKRKVCGDSDKGFVVINQKGIDPFSLDALSKEGIVALRRAKRRNMERLTLACGGVALNSFDDLSPDCLGHAGLVYEYTLGEEKFTFIEKCNNPRSVTLLIKGPNKHTLTQIKDAVRDGLRAVKNAIDDGCVVPGAGAVEVAMAEALIKHKPSVKGRAQLGVQAFADALLIIPKVLAQNSGFDLQETLVKIQAEHSESGQLVGVDLNTGEPMVAAEVGVWDNYCVKKQLLHSCTVIATNILLVDEIMRAGMSSLKG', 'length': 531, 'molWeight': 58024, 'crc64': '43ABCF548CC82B81', 'md5': '2AB58A59DEA1721A4BEE676F2EE6968A'}, 'extraAttributes': {'uniParcId': 'UPI0000136B11'}}\n"
     ]
    },
    {
     "name": "stderr",
     "output_type": "stream",
     "text": [
      "Fetching sequences:  49%|████▉     | 230/469 [01:44<01:45,  2.27it/s]"
     ]
    },
    {
     "name": "stdout",
     "output_type": "stream",
     "text": [
      "{'entryType': 'UniProtKB reviewed (Swiss-Prot)', 'primaryAccession': 'P14868', 'proteinDescription': {'recommendedName': {'fullName': {'evidences': [{'evidenceCode': 'ECO:0000305'}], 'value': 'Aspartate--tRNA ligase, cytoplasmic'}, 'ecNumbers': [{'evidences': [{'evidenceCode': 'ECO:0000250', 'source': 'UniProtKB', 'id': 'P15178'}], 'value': '6.1.1.12'}]}, 'alternativeNames': [{'fullName': {'value': 'Aspartyl-tRNA synthetase'}, 'shortNames': [{'value': 'AspRS'}]}, {'fullName': {'value': 'Cell proliferation-inducing gene 40 protein'}}]}, 'genes': [{'geneName': {'evidences': [{'evidenceCode': 'ECO:0000312', 'source': 'HGNC', 'id': 'HGNC:2678'}], 'value': 'DARS1'}, 'synonyms': [{'value': 'DARS'}], 'orfNames': [{'value': 'PIG40'}]}], 'sequence': {'value': 'MPSASASRKSQEKPREIMDAAEDYAKERYGISSMIQSQEKPDRVLVRVRDLTIQKADEVVWVRARVHTSRAKGKQCFLVLRQQQFNVQALVAVGDHASKQMVKFAANINKESIVDVEGVVRKVNQKIGSCTQQDVELHVQKIYVISLAEPRLPLQLDDAVRPEAEGEEEGRATVNQDTRLDNRVIDLRTSTSQAVFRLQSGICHLFRETLINKGFVEIQTPKIISAASEGGANVFTVSYFKNNAYLAQSPQLYKQMCICADFEKVFSIGPVFRAEDSNTHRHLTEFVGLDIEMAFNYHYHEVMEEIADTMVQIFKGLQERFQTEIQTVNKQFPCEPFKFLEPTLRLEYCEALAMLREAGVEMGDEDDLSTPNEKLLGHLVKEKYDTDFYILDKYPLAVRPFYTMPDPRNPKQSNSYDMFMRGEEILSGAQRIHDPQLLTERALHHGIDLEKIKAYIDSFRFGAPPHAGGGIGLERVTMLFLGLHNVRQTSMFPRDPKRLTP', 'length': 501, 'molWeight': 57136, 'crc64': 'B181572DF0AF5F94', 'md5': '3748FB8958572F116D665879AF34C85A'}, 'extraAttributes': {'uniParcId': 'UPI000013639B'}}\n"
     ]
    },
    {
     "name": "stderr",
     "output_type": "stream",
     "text": [
      "Fetching sequences:  49%|████▉     | 231/469 [01:44<01:45,  2.25it/s]"
     ]
    },
    {
     "name": "stdout",
     "output_type": "stream",
     "text": [
      "{'entryType': 'UniProtKB reviewed (Swiss-Prot)', 'primaryAccession': 'Q96BK5', 'proteinDescription': {'recommendedName': {'fullName': {'value': 'PIN2/TERF1-interacting telomerase inhibitor 1'}}, 'alternativeNames': [{'fullName': {'value': 'Liver-related putative tumor suppressor'}}, {'fullName': {'value': 'Pin2-interacting protein X1'}}, {'fullName': {'value': 'Protein 67-11-3'}}, {'fullName': {'value': 'TRF1-interacting protein 1'}}]}, 'genes': [{'geneName': {'value': 'PINX1'}, 'synonyms': [{'value': 'LPTL'}, {'value': 'LPTS'}]}], 'sequence': {'value': 'MSMLAERRRKQKWAVDPQNTAWSNDDSKFGQRMLEKMGWSKGKGLGAQEQGATDHIKVQVKNNHLGLGATINNEDNWIAHQDDFNQLLAELNTCHGQETTDSSDKKEKKSFSLEEKSKISKNRVHYMKFTKGKDLSSRSKTDLDCIFGKRQSKKTPEGDASPSTPEENETTTTSAFTIQEYFAKRMAALKNKPQVPVPGSDISETQVERKRGKKRNKEATGKDVESYLQPKAKRHTEGKPERAEAQERVAKKKSAPAEEQLRGPCWDQSSKASAQDAGDHVQPPEGRDFTLKPKKRRGKKKLQKPVEIAEDATLEETLVKKKKKKDSK', 'length': 328, 'molWeight': 37035, 'crc64': 'A298B31AEA6D18E1', 'md5': '9493E67BA3B274A8AD2437A30DA7CCAD'}, 'extraAttributes': {'uniParcId': 'UPI0000001BC7'}}\n"
     ]
    },
    {
     "name": "stderr",
     "output_type": "stream",
     "text": [
      "Fetching sequences:  49%|████▉     | 232/469 [01:45<01:44,  2.26it/s]"
     ]
    },
    {
     "name": "stdout",
     "output_type": "stream",
     "text": [
      "{'entryType': 'UniProtKB reviewed (Swiss-Prot)', 'primaryAccession': 'Q9H2U1', 'proteinDescription': {'recommendedName': {'fullName': {'evidences': [{'evidenceCode': 'ECO:0000305'}], 'value': 'ATP-dependent DNA/RNA helicase DHX36'}, 'ecNumbers': [{'evidences': [{'evidenceCode': 'ECO:0000269', 'source': 'PubMed', 'id': '16150737'}, {'evidenceCode': 'ECO:0000269', 'source': 'PubMed', 'id': '18842585'}, {'evidenceCode': 'ECO:0000269', 'source': 'PubMed', 'id': '21586581'}], 'value': '3.6.4.12'}, {'evidences': [{'evidenceCode': 'ECO:0000269', 'source': 'PubMed', 'id': '18842585'}, {'evidenceCode': 'ECO:0000269', 'source': 'PubMed', 'id': '21846770'}, {'evidenceCode': 'ECO:0000269', 'source': 'PubMed', 'id': '25579584'}], 'value': '3.6.4.13'}]}, 'alternativeNames': [{'fullName': {'evidences': [{'evidenceCode': 'ECO:0000303', 'source': 'PubMed', 'id': '12198572'}], 'value': 'DEAD/H box polypeptide 36'}}, {'fullName': {'evidences': [{'evidenceCode': 'ECO:0000305'}], 'value': 'DEAH-box protein 36'}}, {'fullName': {'evidences': [{'evidenceCode': 'ECO:0000303', 'source': 'PubMed', 'id': '16150737'}], 'value': 'G4-resolvase-1'}, 'shortNames': [{'evidences': [{'evidenceCode': 'ECO:0000303', 'source': 'PubMed', 'id': '16150737'}], 'value': 'G4R1'}]}, {'fullName': {'evidences': [{'evidenceCode': 'ECO:0000303', 'source': 'PubMed', 'id': '14731398'}], 'value': 'MLE-like protein 1'}}, {'fullName': {'evidences': [{'evidenceCode': 'ECO:0000303', 'source': 'PubMed', 'id': '14731398'}], 'value': 'RNA helicase associated with AU-rich element protein'}}]}, 'genes': [{'geneName': {'evidences': [{'evidenceCode': 'ECO:0000312', 'source': 'HGNC', 'id': 'HGNC:14410'}], 'value': 'DHX36'}, 'synonyms': [{'evidences': [{'evidenceCode': 'ECO:0000303', 'source': 'PubMed', 'id': '12198572'}], 'value': 'DDX36'}, {'value': 'KIAA1488'}, {'evidences': [{'evidenceCode': 'ECO:0000303', 'source': 'PubMed', 'id': '14731398'}], 'value': 'MLEL1'}, {'evidences': [{'evidenceCode': 'ECO:0000303', 'source': 'PubMed', 'id': '14731398'}], 'value': 'RHAU'}]}], 'sequence': {'value': 'MSYDYHQNWGRDGGPRSSGGGYGGGPAGGHGGNRGSGGGGGGGGGGRGGRGRHPGHLKGREIGMWYAKKQGQKNKEAERQERAVVHMDERREEQIVQLLNSVQAKNDKESEAQISWFAPEDHGYGTEVSTKNTPCSENKLDIQEKKLINQEKKMFRIRNRSYIDRDSEYLLQENEPDGTLDQKLLEDLQKKKNDLRYIEMQHFREKLPSYGMQKELVNLIDNHQVTVISGETGCGKTTQVTQFILDNYIERGKGSACRIVCTQPRRISAISVAERVAAERAESCGSGNSTGYQIRLQSRLPRKQGSILYCTTGIILQWLQSDPYLSSVSHIVLDEIHERNLQSDVLMTVVKDLLNFRSDLKVILMSATLNAEKFSEYFGNCPMIHIPGFTFPVVEYLLEDVIEKIRYVPEQKEHRSQFKRGFMQGHVNRQEKEEKEAIYKERWPDYVRELRRRYSASTVDVIEMMEDDKVDLNLIVALIRYIVLEEEDGAILVFLPGWDNISTLHDLLMSQVMFKSDKFLIIPLHSLMPTVNQTQVFKRTPPGVRKIVIATNIAETSITIDDVVYVIDGGKIKETHFDTQNNISTMSAEWVSKANAKQRKGRAGRVQPGHCYHLYNGLRASLLDDYQLPEILRTPLEELCLQIKILRLGGIAYFLSRLMDPPSNEAVLLSIRHLMELNALDKQEELTPLGVHLARLPVEPHIGKMILFGALFCCLDPVLTIAASLSFKDPFVIPLGKEKIADARRKELAKDTRSDHLTVVNAFEGWEEARRRGFRYEKDYCWEYFLSSNTLQMLHNMKGQFAEHLLGAGFVSSRNPKDPESNINSDNEKIIKAVICAGLYPKVAKIRLNLGKKRKMVKVYTKTDGLVAVHPKSVNVEQTDFHYNWLIYHLKMRTSSIYLYDCTEVSPYCLLFFGGDISIQKDNDQETIAVDEWIVFQSPARIAHLVKELRKELDILLQEKIESPHPVDWNDTKSRDCAVLSAIIDLIKTQEKATPRNFPPRFQDGYYS', 'length': 1008, 'molWeight': 114760, 'crc64': '66A28A1FE93C62AE', 'md5': '209D07B24FD282AB1D24AB9A5BFAA929'}, 'extraAttributes': {'uniParcId': 'UPI000013ED25'}}\n"
     ]
    },
    {
     "name": "stderr",
     "output_type": "stream",
     "text": [
      "Fetching sequences:  50%|████▉     | 233/469 [01:45<01:45,  2.24it/s]"
     ]
    },
    {
     "name": "stdout",
     "output_type": "stream",
     "text": [
      "{'entryType': 'UniProtKB reviewed (Swiss-Prot)', 'primaryAccession': 'P55081', 'proteinDescription': {'recommendedName': {'fullName': {'evidences': [{'evidenceCode': 'ECO:0000312', 'source': 'HGNC', 'id': 'HGNC:7032'}], 'value': 'Microfibrillar-associated protein 1'}}, 'alternativeNames': [{'fullName': {'evidences': [{'evidenceCode': 'ECO:0000303', 'source': 'PubMed', 'id': '28781166'}], 'value': 'Spliceosome B complex protein MFAP1'}}]}, 'genes': [{'geneName': {'evidences': [{'evidenceCode': 'ECO:0000312', 'source': 'HGNC', 'id': 'HGNC:7032'}], 'value': 'MFAP1'}}], 'sequence': {'value': 'MSVPSALMKQPPIQSTAGAVPVRNEKGEISMEKVKVKRYVSGKRPDYAPMESSDEEDEEFQFIKKAKEQEAEPEEQEEDSSSDPRLRRLQNRISEDVEERLARHRKIVEPEVVGESDSEVEGDAWRMEREDSSEEEEEEIDDEEIERRRGMMRQRAQERKNEEMEVMEVEDEGRSGEESESESEYEEYTDSEDEMEPRLKPVFIRKKDRVTVQEREAEALKQKELEQEAKRMAEERRKYTLKIVEEETKKELEENKRSLAALDALNTDDENDEEEYEAWKVRELKRIKRDREDREALEKEKAEIERMRNLTEEERRAELRANGKVITNKAVKGKYKFLQKYYHRGAFFMDEDEEVYKRDFSAPTLEDHFNKTILPKVMQVKNFGRSGRTKYTHLVDQDTTSFDSAWGQESAQNTKFFKQKAAGVRDVFERPSAKKRKTT', 'length': 439, 'molWeight': 51958, 'crc64': '0EF6F4F091C05A88', 'md5': 'EF30820875FFF2E80C46BC7E683816B7'}, 'extraAttributes': {'uniParcId': 'UPI000013D770'}}\n"
     ]
    },
    {
     "name": "stderr",
     "output_type": "stream",
     "text": [
      "Fetching sequences:  50%|████▉     | 234/469 [01:45<01:44,  2.24it/s]"
     ]
    },
    {
     "name": "stdout",
     "output_type": "stream",
     "text": [
      "{'entryType': 'UniProtKB reviewed (Swiss-Prot)', 'primaryAccession': 'Q5QJE6', 'proteinDescription': {'recommendedName': {'fullName': {'value': 'Deoxynucleotidyltransferase terminal-interacting protein 2'}}, 'alternativeNames': [{'fullName': {'value': 'Estrogen receptor-binding protein'}}, {'fullName': {'value': 'LPTS-interacting protein 2'}, 'shortNames': [{'value': 'LPTS-RP2'}]}, {'fullName': {'value': 'Terminal deoxynucleotidyltransferase-interacting factor 2'}, 'shortNames': [{'value': 'TdIF2'}, {'value': 'TdT-interacting factor 2'}]}]}, 'genes': [{'geneName': {'evidences': [{'evidenceCode': 'ECO:0000312', 'source': 'HGNC', 'id': 'HGNC:24013'}], 'value': 'DNTTIP2'}, 'synonyms': [{'value': 'ERBP'}, {'value': 'TDIF2'}]}], 'sequence': {'value': 'MVVTRSARAKASIQAASAESSGQKSFAANGIQAHPESSTGSDARTTAESQTTGKQSLIPRTPKARKRKSRTTGSLPKGTEPSTDGETSEAESNYSVSEHHDTILRVTRRRQILIACSPVSSVRKKPKVTPTKESYTEEIVSEAESHVSGISRIVLPTEKTTGARRSKAKSLTDPSQESHTEAISDAETSSSDISFSGIATRRTRSMQRKLKAQTEKKDSKIVPGNEKQIVGTPVNSEDSDTRQTSHLQARSLSEINKPNFYNNDFDDDFSHRSSENILTVHEQANVESLKETKQNCKDLDEDANGITDEGKEINEKSSQLKNLSELQDTSLQQLVSQRHSTPQNKNAVSVHSNLNSEAVMKSLTQTFATVEVGRWNNNKKSPIKASDLTKFGDCGGSDDEEESTVISVSEDMNSEGNVDFECDTKLYTSAPNTSQGKDNSVLLVLSSDESQQSENSENEEDTLCFVENSGQRESLSGDTGSLSCDNALFVIDTTPGMSADKNFYLEEEDKASEVAIEEEKEEEEDEKSEEDSSDHDENEDEFSDEEDFLNSTKAKLLKLTSSSIDPGLSIKQLGGLYINFNADKLQSNKRTLTQIKEKKKNELLQKAVITPDFEKNHCVPPYSESKYQLQKKRRKERQKTAGDGWFGMKAPEMTNELKNDLKALKMRASMDPKRFYKKNDRDGFPKYFQIGTIVDNPADFYHSRIPKKQRKRTIVEELLADSEFRRYNRRKYSEIMAEKAANAAGKKFRKKKKFRN', 'length': 756, 'molWeight': 84469, 'crc64': '5C58EFABA2B42E4B', 'md5': '8622119227351433E81CE40C919AFF51'}, 'extraAttributes': {'uniParcId': 'UPI000006F063'}}\n"
     ]
    },
    {
     "name": "stderr",
     "output_type": "stream",
     "text": [
      "Fetching sequences:  50%|█████     | 235/469 [01:46<01:44,  2.25it/s]"
     ]
    },
    {
     "name": "stdout",
     "output_type": "stream",
     "text": [
      "{'entryType': 'UniProtKB reviewed (Swiss-Prot)', 'primaryAccession': 'P16989', 'proteinDescription': {'recommendedName': {'fullName': {'value': 'Y-box-binding protein 3'}}, 'alternativeNames': [{'fullName': {'value': 'Cold shock domain-containing protein A'}}, {'fullName': {'value': 'DNA-binding protein A'}}, {'fullName': {'value': 'Single-strand DNA-binding protein NF-GMB'}}]}, 'genes': [{'geneName': {'value': 'YBX3'}, 'synonyms': [{'value': 'CSDA'}, {'value': 'DBPA'}]}], 'sequence': {'value': 'MSEAGEATTTTTTTLPQAPTEAAAAAPQDPAPKSPVGSGAPQAAAPAPAAHVAGNPGGDAAPAATGTAAAASLATAAGSEDAEKKVLATKVLGTVKWFNVRNGYGFINRNDTKEDVFVHQTAIKKNNPRKYLRSVGDGETVEFDVVEGEKGAEAANVTGPDGVPVEGSRYAADRRRYRRGYYGRRRGPPRNYAGEEEEEGSGSSEGFDPPATDRQFSGARNQLRRPQYRPQYRQRRFPPYHVGQTFDRRSRVLPHPNRIQAGEIGEMKDGVPEGAQLQGPVHRNPTYRPRYRSRGPPRPRPAPAVGEAEDKENQQATSGPNQPSVRRGYRRPYNYRRRPRPPNAPSQDGKEAKAGEAPTENPAPPTQQSSAE', 'length': 372, 'molWeight': 40090, 'crc64': 'AA8517AC3B7D35CC', 'md5': '7822C64ECBDB035D7B39F5561B4DEB7F'}, 'extraAttributes': {'uniParcId': 'UPI000013DBD6'}}\n"
     ]
    },
    {
     "name": "stderr",
     "output_type": "stream",
     "text": [
      "Fetching sequences:  50%|█████     | 236/469 [01:47<02:11,  1.78it/s]"
     ]
    },
    {
     "name": "stdout",
     "output_type": "stream",
     "text": [
      "{'entryType': 'Inactive', 'primaryAccession': 'Q5T6W5', 'inactiveReason': {'inactiveReasonType': 'DELETED'}, 'extraAttributes': {'uniParcId': 'UPI000046FEA5'}}\n"
     ]
    },
    {
     "name": "stderr",
     "output_type": "stream",
     "text": [
      "Fetching sequences:  51%|█████     | 237/469 [01:47<02:02,  1.90it/s]"
     ]
    },
    {
     "name": "stdout",
     "output_type": "stream",
     "text": [
      "{'entryType': 'UniProtKB reviewed (Swiss-Prot)', 'primaryAccession': 'P08670', 'proteinDescription': {'recommendedName': {'fullName': {'evidences': [{'evidenceCode': 'ECO:0000312', 'source': 'HGNC', 'id': 'HGNC:12692'}], 'value': 'Vimentin'}}}, 'genes': [{'geneName': {'evidences': [{'evidenceCode': 'ECO:0000312', 'source': 'HGNC', 'id': 'HGNC:12692'}], 'value': 'VIM'}}], 'sequence': {'value': 'MSTRSVSSSSYRRMFGGPGTASRPSSSRSYVTTSTRTYSLGSALRPSTSRSLYASSPGGVYATRSSAVRLRSSVPGVRLLQDSVDFSLADAINTEFKNTRTNEKVELQELNDRFANYIDKVRFLEQQNKILLAELEQLKGQGKSRLGDLYEEEMRELRRQVDQLTNDKARVEVERDNLAEDIMRLREKLQEEMLQREEAENTLQSFRQDVDNASLARLDLERKVESLQEEIAFLKKLHEEEIQELQAQIQEQHVQIDVDVSKPDLTAALRDVRQQYESVAAKNLQEAEEWYKSKFADLSEAANRNNDALRQAKQESTEYRRQVQSLTCEVDALKGTNESLERQMREMEENFAVEAANYQDTIGRLQDEIQNMKEEMARHLREYQDLLNVKMALDIEIATYRKLLEGEESRISLPLPNFSSLNLRETNLDSLPLVDTHSKRTLLIKTVETRDGQVINETSQHHDDLE', 'length': 466, 'molWeight': 53652, 'crc64': 'BAB54026665B015A', 'md5': 'D83179F324D273DE1F0FA02A4C0000F5'}, 'extraAttributes': {'uniParcId': 'UPI00000012EB'}}\n"
     ]
    },
    {
     "name": "stderr",
     "output_type": "stream",
     "text": [
      "Fetching sequences:  51%|█████     | 238/469 [01:48<01:55,  2.01it/s]"
     ]
    },
    {
     "name": "stdout",
     "output_type": "stream",
     "text": [
      "{'entryType': 'UniProtKB reviewed (Swiss-Prot)', 'primaryAccession': 'O43395', 'proteinDescription': {'recommendedName': {'fullName': {'value': 'U4/U6 small nuclear ribonucleoprotein Prp3'}}, 'alternativeNames': [{'fullName': {'value': 'Pre-mRNA-splicing factor 3'}, 'shortNames': [{'value': 'hPrp3'}]}, {'fullName': {'value': 'U4/U6 snRNP 90 kDa protein'}}]}, 'genes': [{'geneName': {'value': 'PRPF3'}, 'synonyms': [{'evidences': [{'evidenceCode': 'ECO:0000303', 'source': 'PubMed', 'id': '11773002'}], 'value': 'HPRP3'}, {'value': 'PRP3'}]}], 'sequence': {'value': 'MALSKRELDELKPWIEKTVKRVLGFSEPTVVTAALNCVGKGMDKKKAADHLKPFLDDSTLRFVDKLFEAVEEGRSSRHSKSSSDRSRKRELKEVFGDDSEISKESSGVKKRRIPRFEEVEEEPEVIPGPPSESPGMLTKLQIKQMMEAATRQIEERKKQLSFISPPTPQPKTPSSSQPERLPIGNTIQPSQAATFMNDAIEKARKAAELQARIQAQLALKPGLIGNANMVGLANLHAMGIAPPKVELKDQTKPTPLILDEQGRTVDATGKEIELTHRMPTLKANIRAVKREQFKQQLKEKPSEDMESNTFFDPRVSIAPSQRQRRTFKFHDKGKFEKIAQRLRTKAQLEKLQAEISQAARKTGIHTSTRLALIAPKKELKEGDIPEIEWWDSYIIPNGFDLTEENPKREDYFGITNLVEHPAQLNPPVDNDTPVTLGVYLTKKEQKKLRRQTRREAQKELQEKVRLGLMPPPEPKVRISNLMRVLGTEAVQDPTKVEAHVRAQMAKRQKAHEEANAARKLTAEQRKVKKIKKLKEDISQGVHISVYRVRNLSNPAKKFKIEANAGQLYLTGVVVLHKDVNVVVVEGGPKAQKKFKRLMLHRIKWDEQTSNTKGDDDEESDEEAVKKTNKCVLVWEGTAKDRSFGEMKFKQCPTENMAREHFKKHGAEHYWDLALSESVLESTD', 'length': 683, 'molWeight': 77529, 'crc64': '4AA6AA4C99110284', 'md5': '7513F6763C546BCE5DB4F2600720C9B1'}, 'extraAttributes': {'uniParcId': 'UPI00000729AA'}}\n"
     ]
    },
    {
     "name": "stderr",
     "output_type": "stream",
     "text": [
      "Fetching sequences:  51%|█████     | 239/469 [01:48<01:54,  2.02it/s]"
     ]
    },
    {
     "name": "stdout",
     "output_type": "stream",
     "text": [
      "{'entryType': 'UniProtKB reviewed (Swiss-Prot)', 'primaryAccession': 'Q13242', 'proteinDescription': {'recommendedName': {'fullName': {'value': 'Serine/arginine-rich splicing factor 9'}}, 'alternativeNames': [{'fullName': {'value': 'Pre-mRNA-splicing factor SRp30C'}}, {'fullName': {'value': 'Splicing factor, arginine/serine-rich 9'}}]}, 'genes': [{'geneName': {'value': 'SRSF9'}, 'synonyms': [{'value': 'SFRS9'}, {'value': 'SRP30C'}]}], 'sequence': {'value': 'MSGWADERGGEGDGRIYVGNLPTDVREKDLEDLFYKYGRIREIELKNRHGLVPFAFVRFEDPRDAEDAIYGRNGYDYGQCRLRVEFPRTYGGRGGWPRGGRNGPPTRRSDFRVLVSGLPPSGSWQDLKDHMREAGDVCYADVQKDGVGMVEYLRKEDMEYALRKLDDTKFRSHEGETSYIRVYPERSTSYGYSRSRSGSRGRDSPYQSRGSPHYFSPFRPY', 'length': 221, 'molWeight': 25542, 'crc64': '1EE7BD8601CD80C0', 'md5': 'AD057A5803D1D60D5E873590DED8FC2F'}, 'extraAttributes': {'uniParcId': 'UPI00001358C4'}}\n"
     ]
    },
    {
     "name": "stderr",
     "output_type": "stream",
     "text": [
      "Fetching sequences:  51%|█████     | 240/469 [01:49<01:50,  2.06it/s]"
     ]
    },
    {
     "name": "stdout",
     "output_type": "stream",
     "text": [
      "{'entryType': 'UniProtKB reviewed (Swiss-Prot)', 'primaryAccession': 'Q7Z5J4', 'proteinDescription': {'recommendedName': {'fullName': {'value': 'Retinoic acid-induced protein 1'}}}, 'genes': [{'geneName': {'value': 'RAI1'}, 'synonyms': [{'value': 'KIAA1820'}]}], 'sequence': {'value': 'MQSFRERCGFHGKQQNYQQTSQETSRLENYRQPSQAGLSCDRQRLLAKDYYNPQPYPSYEGGAGTPSGTAAAVAADKYHRGSKALPTQQGLQGRPAFPGYGVQDSSPYPGRYAGEESLQAWGAPQPPPPQPQPLPAGVAKYDENLMKKTAVPPSRQYAEQGAQVPFRTHSLHVQQPPPPQQPLAYPKLQRQKLQNDIASPLPFPQGTHFPQHSQSFPTSSTYSSSVQGGGQGAHSYKSCTAPTAQPHDRPLTASSSLAPGQRVQNLHAYQSGRLSYDQQQQQQQQQQQQQQALQSRHHAQETLHYQNLAKYQHYGQQGQGYCQPDAAVRTPEQYYQTFSPSSSHSPARSVGRSPSYSSTPSPLMPNLENFPYSQQPLSTGAFPAGITDHSHFMPLLNPSPTDATSSVDTQAGNCKPLQKDKLPENLLSDLSLQSLTALTSQVENISNTVQQLLLSKAAVPQKKGVKNLVSRTPEQHKSQHCSPEGSGYSAEPAGTPLSEPPSSTPQSTHAEPQEADYLSGSEDPLERSFLYCNQARGSPARVNSNSKAKPESVSTCSVTSPDDMSTKSDDSFQSLHGSLPLDSFSKFVAGERDCPRLLLSALAQEDLASEILGLQEAIGEKADKAWAEAPSLVKDSSKPPFSLENHSACLDSVAKSAWPRPGEPEALPDSLQLDKGGNAKDFSPGLFEDPSVAFATPDPKKTTGPLSFGTKPTLGVPAPDPTTAAFDCFPDTTAASSADSANPFAWPEENLGDACPRWGLHPGELTKGLEQGGKASDGISKGDTHEASACLGFQEEDPPGEKVASLPGDFKQEEVGGVKEEAGGLLQCPEVAKADRWLEDSRHCCSTADFGDLPLLPPTSRKEDLEAEEEYSSLCELLGSPEQRPGMQDPLSPKAPLICTKEEVEEVLDSKAGWGSPCHLSGESVILLGPTVGTESKVQSWFESSLSHMKPGEEGPDGERAPGDSTTSDASLAQKPNKPAVPEAPIAKKEPVPRGKSLRSRRVHRGLPEAEDSPCRAPVLPKDLLLPESCTGPPQGQMEGAGAPGRGASEGLPRMCTRSLTALSEPRTPGPPGLTTTPAPPDKLGGKQRAAFKSGKRVGKPSPKAASSPSNPAALPVASDSSPMGSKTKETDSPSTPGKDQRSMILRSRTKTQEIFHSKRRRPSEGRLPNCRATKKLLDNSHLPATFKVSSSPQKEGRVSQRARVPKPGAGSKLSDRPLHALKRKSAFMAPVPTKKRNLVLRSRSSSSSNASGNGGDGKEERPEGSPTLFKRMSSPKKAKPTKGNGEPATKLPPPETPDACLKLASRAAFQGAMKTKVLPPRKGRGLKLEAIVQKITSPSLKKFACKAPGASPGNPLSPSLSDKDRGLKGAGGSPVGVEEGLVNVGTGQKLPTSGADPLCRNPTNRSLKGKLMNSKKLSSTDCFKTEAFTSPEALQPGGTALAPKKRSRKGRAGAHGLSKGPLEKRPYLGPALLLTPRDRASGTQGASEDNSGGGGKKPKMEELGLASQPPEGRPCQPQTRAQKQPGHTNYSSYSKRKRLTRGRAKNTTSSPCKGRAKRRRQQQVLPLDPAEPEIRLKYISSCKRLRSDSRTPAFSPFVRVEKRDAFTTICTVVNSPGDAPKPHRKPSSSASSSSSSSSFSLDAAGASLATLPGGSILQPRPSLPLSSTMHLGPVVSKALSTSCLVCCLCQNPANFKDLGDLCGPYYPEHCLPKKKPKLKEKVRPEGTCEEASLPLERTLKGPECAAAATAGKPPRPDGPADPAKQGPLRTSARGLSRRLQSCYCCDGREDGGEEAAPADKGRKHECSKEAPAEPGGEAQEHWVHEACAVWTGGVYLVAGKLFGLQEAMKVAVDMMCSSCQEAGATIGCCHKGCLHTYHYPCASDAGCIFIEENFSLKCPKHKRLP', 'length': 1906, 'molWeight': 203352, 'crc64': '8D33A56C33BFE888', 'md5': '0596E3C58BA81D644BB39953BCA723BD'}, 'extraAttributes': {'uniParcId': 'UPI0000200AAF'}}\n"
     ]
    },
    {
     "name": "stderr",
     "output_type": "stream",
     "text": [
      "Fetching sequences:  51%|█████▏    | 241/469 [01:49<01:48,  2.11it/s]"
     ]
    },
    {
     "name": "stdout",
     "output_type": "stream",
     "text": [
      "{'entryType': 'UniProtKB reviewed (Swiss-Prot)', 'primaryAccession': 'Q9NP64', 'proteinDescription': {'recommendedName': {'fullName': {'value': 'Zinc finger CCHC domain-containing protein 17'}}, 'alternativeNames': [{'fullName': {'evidences': [{'evidenceCode': 'ECO:0000303', 'source': 'PubMed', 'id': '12893261'}], 'value': 'Nucleolar protein of 40 kDa'}, 'shortNames': [{'evidences': [{'evidenceCode': 'ECO:0000303', 'source': 'PubMed', 'id': '12893261'}], 'value': 'pNO40'}]}, {'fullName': {'value': 'Pnn-interacting nucleolar protein'}}, {'fullName': {'value': 'Putative S1 RNA-binding domain protein'}, 'shortNames': [{'value': 'PS1D protein'}]}]}, 'genes': [{'geneName': {'value': 'ZCCHC17'}, 'synonyms': [{'value': 'PS1D'}], 'orfNames': [{'value': 'HSPC243'}, {'value': 'HSPC251'}, {'value': 'LDC4'}]}], 'sequence': {'value': 'MNSGRPETMENLPALYTIFQGEVAMVTDYGAFIKIPGCRKQGLVHRTHMSSCRVDKPSEIVDVGDKVWVKLIGREMKNDRIKVSLSMKVVNQGTGKDLDPNNVIIEQEERRRRSFQDYTGQKITLEAVLNTTCKKCGCKGHFAKDCFMQPGGTKYSLIPDEEEEKEEAKSAEFEKPDPTRNPSRKRKKEKKKKKHRDRKSSDSDSSDSESDTGKRARHTSKDSKAAKKKKKKKKHKKKHKE', 'length': 241, 'molWeight': 27570, 'crc64': 'DA1B039DAC5F4A1D', 'md5': 'F66DFF5EECE5460C885E1946355BB8AD'}, 'extraAttributes': {'uniParcId': 'UPI000006D544'}}\n"
     ]
    },
    {
     "name": "stderr",
     "output_type": "stream",
     "text": [
      "Fetching sequences:  52%|█████▏    | 242/469 [01:49<01:45,  2.15it/s]"
     ]
    },
    {
     "name": "stdout",
     "output_type": "stream",
     "text": [
      "{'entryType': 'UniProtKB reviewed (Swiss-Prot)', 'primaryAccession': 'P45880', 'proteinDescription': {'recommendedName': {'fullName': {'evidences': [{'evidenceCode': 'ECO:0000305'}], 'value': 'Non-selective voltage-gated ion channel VDAC2'}, 'shortNames': [{'value': 'VDAC-2'}, {'evidences': [{'evidenceCode': 'ECO:0000303', 'source': 'PubMed', 'id': '8420959'}], 'value': 'hVDAC2'}]}, 'alternativeNames': [{'fullName': {'value': 'Outer mitochondrial membrane protein porin 2'}}]}, 'genes': [{'geneName': {'evidences': [{'evidenceCode': 'ECO:0000312', 'source': 'HGNC', 'id': 'HGNC:12672'}], 'value': 'VDAC2'}}], 'sequence': {'value': 'MATHGQTCARPMCIPPSYADLGKAARDIFNKGFGFGLVKLDVKTKSCSGVEFSTSGSSNTDTGKVTGTLETKYKWCEYGLTFTEKWNTDNTLGTEIAIEDQICQGLKLTFDTTFSPNTGKKSGKIKSSYKRECINLGCDVDFDFAGPAIHGSAVFGYEGWLAGYQMTFDSAKSKLTRNNFAVGYRTGDFQLHTNVNDGTEFGGSIYQKVCEDLDTSVNLAWTSGTNCTRFGIAAKYQLDPTASISAKVNNSSLIGVGYTQTLRPGVKLTLSALVDGKSINAGGHKVGLALELEA', 'length': 294, 'molWeight': 31567, 'crc64': 'F4EAE732E653637E', 'md5': '47A995545B4224EE49798D66AA71E7FF'}, 'extraAttributes': {'uniParcId': 'UPI000013E4DF'}}\n"
     ]
    },
    {
     "name": "stderr",
     "output_type": "stream",
     "text": [
      "Fetching sequences:  52%|█████▏    | 243/469 [01:50<01:42,  2.20it/s]"
     ]
    },
    {
     "name": "stdout",
     "output_type": "stream",
     "text": [
      "{'entryType': 'UniProtKB reviewed (Swiss-Prot)', 'primaryAccession': 'O95793', 'proteinDescription': {'recommendedName': {'fullName': {'value': 'Double-stranded RNA-binding protein Staufen homolog 1'}}}, 'genes': [{'geneName': {'value': 'STAU1'}, 'synonyms': [{'value': 'STAU'}]}], 'sequence': {'value': 'MSQVQVQVQNPSAALSGSQILNKNQSLLSQPLMSIPSTTSSLPSENAGRPIQNSALPSASITSTSAAAESITPTVELNALCMKLGKKPMYKPVDPYSRMQSTYNYNMRGGAYPPRYFYPFPVPPLLYQVELSVGGQQFNGKGKTRQAAKHDAAAKALRILQNEPLPERLEVNGRESEEENLNKSEISQVFEIALKRNLPVNFEVARESGPPHMKNFVTKVSVGEFVGEGEGKSKKISKKNAAIAVLEELKKLPPLPAVERVKPRIKKKTKPIVKPQTSPEYGQGINPISRLAQIQQAKKEKEPEYTLLTERGLPRRREFVMQVKVGNHTAEGTGTNKKVAKRNAAENMLEILGFKVPQAQPTKPALKSEEKTPIKKPGDGRKVTFFEPGSGDENGTSNKEDEFRMPYLSHQQLPAGILPMVPEVAQAVGVSQGHHTKDFTRAAPNPAKATVTAMIARELLYGGTSPTAETILKNNISSGHVPHGPLTRPSEQLDYLSRVQGFQVEYKDFPKNNKNEFVSLINCSSQPPLISHGIGKDVESCHDMAALNILKLLSELDQQSTEMPRTGNGPMSVCGRC', 'length': 577, 'molWeight': 63182, 'crc64': '0977CEF40FD99517', 'md5': '1B5BBC16AC4124D4313E3012E7BE9FB8'}, 'extraAttributes': {'uniParcId': 'UPI000013CB53'}}\n"
     ]
    },
    {
     "name": "stderr",
     "output_type": "stream",
     "text": [
      "Fetching sequences:  52%|█████▏    | 244/469 [01:50<01:41,  2.22it/s]"
     ]
    },
    {
     "name": "stdout",
     "output_type": "stream",
     "text": [
      "{'entryType': 'UniProtKB reviewed (Swiss-Prot)', 'primaryAccession': 'Q53HL2', 'proteinDescription': {'recommendedName': {'fullName': {'value': 'Borealin'}}, 'alternativeNames': [{'fullName': {'value': 'Cell division cycle-associated protein 8'}}, {'fullName': {'value': 'Dasra-B'}, 'shortNames': [{'value': 'hDasra-B'}]}, {'fullName': {'value': 'Pluripotent embryonic stem cell-related gene 3 protein'}}]}, 'genes': [{'geneName': {'value': 'CDCA8'}, 'synonyms': [{'value': 'PESCRG3'}]}], 'sequence': {'value': 'MAPRKGSSRVAKTNSLRRRKLASFLKDFDREVEIRIKQIESDRQNLLKEVDNLYNIEILRLPKALREMNWLDYFALGGNKQALEEAATADLDITEINKLTAEAIQTPLKSAKTRKVIQVDEMIVEEEEEEENERKNLQTARVKRCPPSKKRTQSIQGKGKGKRSSRANTVTPAVGRLEVSMVKPTPGLTPRFDSRVFKTPGLRTPAAGERIYNISGNGSPLADSKEIFLTVPVGGGESLRLLASDLQRHSIAQLDPEALGNIKKLSNRLAQICSSIRTHK', 'length': 280, 'molWeight': 31323, 'crc64': '519978A7C295C571', 'md5': '2B14F550E33820AAB4CD67F88850F1C5'}, 'extraAttributes': {'uniParcId': 'UPI000007033D'}}\n"
     ]
    },
    {
     "name": "stderr",
     "output_type": "stream",
     "text": [
      "Fetching sequences:  52%|█████▏    | 245/469 [01:51<01:40,  2.23it/s]"
     ]
    },
    {
     "name": "stdout",
     "output_type": "stream",
     "text": [
      "{'entryType': 'UniProtKB reviewed (Swiss-Prot)', 'primaryAccession': 'Q14980-2', 'proteinDescription': {'recommendedName': {'fullName': {'evidences': [{'evidenceCode': 'ECO:0000312', 'source': 'HGNC', 'id': 'HGNC:8059'}], 'value': 'Isoform 2 of Nuclear mitotic apparatus protein 1'}}, 'alternativeNames': [{'fullName': {'evidences': [{'evidenceCode': 'ECO:0000303', 'source': 'PubMed', 'id': '9730450'}], 'value': 'Nuclear matrix protein-22'}, 'shortNames': [{'evidences': [{'evidenceCode': 'ECO:0000303', 'source': 'PubMed', 'id': '9730450'}], 'value': 'NMP-22'}]}, {'fullName': {'evidences': [{'evidenceCode': 'ECO:0000303', 'source': 'PubMed', 'id': '1541630'}, {'evidenceCode': 'ECO:0000303', 'source': 'PubMed', 'id': '1541636'}], 'value': 'Nuclear mitotic apparatus protein'}, 'shortNames': [{'evidences': [{'evidenceCode': 'ECO:0000303', 'source': 'PubMed', 'id': '1541630'}, {'evidenceCode': 'ECO:0000303', 'source': 'PubMed', 'id': '1541636'}], 'value': 'NuMA protein'}]}, {'fullName': {'evidences': [{'evidenceCode': 'ECO:0000303', 'source': 'PubMed', 'id': '8408288'}], 'value': 'SP-H antigen'}}]}, 'genes': [{'geneName': {'evidences': [{'evidenceCode': 'ECO:0000312', 'source': 'HGNC', 'id': 'HGNC:8059'}], 'value': 'NUMA1'}, 'synonyms': [{'evidences': [{'evidenceCode': 'ECO:0000303', 'source': 'PubMed', 'id': '9730450'}], 'value': 'NMP22'}, {'evidences': [{'evidenceCode': 'ECO:0000303', 'source': 'PubMed', 'id': '1541630'}], 'value': 'NUMA'}]}], 'sequence': {'value': 'MTLHATRGAALLSWVNSLHVADPVEAVLQLQDCSIFIKIIDRIHGTEEGQQILKQPVSERLDFVCSFLQKNRKHPSSPECLVSAQKVLEGSELELAKMTMLLLYHSTMSSKSPRDWEQFEYKIQAELAVILKFVLDHEDGLNLNEDLENFLQKAPVPSTCSSTFPEELSPPSHQAKREIRFLELQKVASSSSGNNFLSGSPASPMGDILQTPQFQMRRLKKQLADERSNRDELELELAENRKLLTEKDAQIAMMQQRIDRLALLNEKQAASPLEPKELEELRDKNESLTMRLHETLKQCQDLKTEKSQMDRKINQLSEENGDLSFKLREFASHLQQLQDALNELTEEHSKATQEWLEKQAQLEKELSAALQDKKCLEEKNEILQGKLSQLEEHLSQLQDNPPQEKGEVLGDVLQLETLKQEAATLAANNTQLQARVEMLETERGQQEAKLLAERGHFEEEKQQLSSLITDLQSSISNLSQAKEELEQASQAHGARLTAQVASLTSELTTLNATIQQQDQELAGLKQQAKEKQAQLAQTLQQQEQASQGLRHQVEQLSSSLKQKEQQLKEVAEKQEATRQDHAQQLATAAEEREASLRERDAALKQLEALEKEKAAKLEILQQQLQVANEARDSAQTSVTQAQREKAELSRKVEELQACVETARQEQHEAQAQVAELELQLRSEQQKATEKERVAQEKDQLQEQLQALKESLKVTKGSLEEEKRRAADALEEQQRCISELKAETRSLVEQHKRERKELEEERAGRKGLEARLQQLGEAHQAETEVLRRELAEAMAAQHTAESECEQLVKEVAAWRERYEDSQQEEAQYGAMFQEQLMTLKEECEKARQELQEAKEKVAGIESHSELQISRQQNELAELHANLARALQQVQEKEVRAQKLADDLSTLQEKMAATSKEVARLETLVRKAGEQQETASRELVKEPARAGDRQPEWLEEQQGRQFCSTQAALQAMEREAEQMGNELERLRAALMESQGQQQEERGQQEREVARLTQERGRAQADLALEKAARAELEMRLQNALNEQRVEFATLQEALAHALTEKEGKDQELAKLRGLEAAQIKELEELRQTVKQLKEQLAKKEKEHASGSGAQSEAAGRTEPTGPKLEALRAEVSKLEQQCQKQQEQADSLERSLEAERASRAERDSALETLQGQLEEKAQELGHSQSALASAQRELAAFRTKVQDHSKAEDEWKAQVARGRQEAERKNSLISSLEEEVSILNRQVLEKEGESKELKRLVMAESEKSQKLEERLRLLQAETASNSARAAERSSALREEVQSLREEAEKQRVASENLRQELTSQAERAEELGQELKAWQEKFFQKEQALSTLQLEHTSTQALVSELLPAKHLCQQLQAEQAAAEKRHREELEQSKQAAGGLRAELLRAQRELGELIPLRQKVAEQERTAQQLRAEKASYAEQLSMLKKAHGLLAEENRGLGERANLGRQFLEVELDQAREKYVQELAAVRADAETRLAEVQREAQSTARELEVMTAKYEGAKVKVLEERQRFQEERQKLTAQVEELSKKLADSDQASKVQQQKLKAVQAQGGESQQEAQRLQAQLNELQAQLSQKEQAAEHYKLQMEKAKTHYDAKKQQNQELQEQLRSLEQLQKENKELRAEAERLGHELQQAGLKTKEAEQTCRHLTAQVRSLEAQVAHADQQLRDLGKFQVATDALKSREPQAKPQLDLSIDSLDLSCEEGTPLSITSKLPRTQPDGTSVPGEPASPISQRLPPKVESLESLYFTPIPARSQAPLESSLDSLGDVFLDSGRKTRSARRRTTQIINITMTKKLDVEEPDSANSSFYSTRSAPASQASLRATSSTQSLARLGSPDYGNSALLSLPGYRPTTRSSARRSQAGVSSGAPPGRNSFYMGTCQDEPEQLDDWNRIAELQQRNRVCPPHLKTCYPLESRPSLSLGTITDEEMKTGDPQETLRRASMQPIQIAEGTGITTRQQRKRVSLEPHQGPGTPESKKATSCFPRPMTPRDRHEGRKQSTTEAQKKAAPASTKQADRRQSMAFSILNTPKKLGNSLLRRGASKKALSKASPNTRSGTRRSPRIATTTASAATAAAIGATPRAKGKAKH', 'length': 2101, 'molWeight': 236516, 'crc64': '18D8C4A34409ADE9', 'md5': '501191D018FC494D73371D329B2A25A7'}, 'extraAttributes': {'uniParcId': 'UPI000013D0A9'}}\n"
     ]
    },
    {
     "name": "stderr",
     "output_type": "stream",
     "text": [
      "Fetching sequences:  52%|█████▏    | 246/469 [01:51<01:39,  2.24it/s]"
     ]
    },
    {
     "name": "stdout",
     "output_type": "stream",
     "text": [
      "{'entryType': 'UniProtKB reviewed (Swiss-Prot)', 'primaryAccession': 'P62995', 'proteinDescription': {'recommendedName': {'fullName': {'evidences': [{'evidenceCode': 'ECO:0000305'}], 'value': 'Transformer-2 protein homolog beta'}, 'shortNames': [{'value': 'TRA-2 beta'}, {'value': 'TRA2-beta'}, {'value': 'hTRA2-beta'}]}, 'alternativeNames': [{'fullName': {'value': 'Splicing factor, arginine/serine-rich 10'}}, {'fullName': {'value': 'Transformer-2 protein homolog B'}}]}, 'genes': [{'geneName': {'evidences': [{'evidenceCode': 'ECO:0000312', 'source': 'HGNC', 'id': 'HGNC:10781'}], 'value': 'TRA2B'}, 'synonyms': [{'value': 'SFRS10'}]}], 'sequence': {'value': 'MSDSGEQNYGERESRSASRSGSAHGSGKSARHTPARSRSKEDSRRSRSKSRSRSESRSRSRRSSRRHYTRSRSRSRSHRRSRSRSYSRDYRRRHSHSHSPMSTRRRHVGNRANPDPNCCLGVFGLSLYTTERDLREVFSKYGPIADVSIVYDQQSRRSRGFAFVYFENVDDAKEAKERANGMELDGRRIRVDFSITKRPHTPTPGIYMGRPTYGSSRRRDYYDRGYDRGYDDRDYYSRSYRGGGGGGGGWRAAQDRDQIYRRRSPSPYYSRGGYRSRSRSRSYSPRRY', 'length': 288, 'molWeight': 33666, 'crc64': '60B310C8BA443E28', 'md5': '92992927B72DA9C5BBD840DAA7E74A3B'}, 'extraAttributes': {'uniParcId': 'UPI00000040A0'}}\n"
     ]
    },
    {
     "name": "stderr",
     "output_type": "stream",
     "text": [
      "Fetching sequences:  53%|█████▎    | 247/469 [01:52<01:38,  2.24it/s]"
     ]
    },
    {
     "name": "stdout",
     "output_type": "stream",
     "text": [
      "{'entryType': 'UniProtKB reviewed (Swiss-Prot)', 'primaryAccession': 'O75475-2', 'proteinDescription': {'recommendedName': {'fullName': {'value': 'Isoform 2 of PC4 and SFRS1-interacting protein'}}, 'alternativeNames': [{'fullName': {'value': 'CLL-associated antigen KW-7'}}, {'fullName': {'value': 'Dense fine speckles 70 kDa protein'}, 'shortNames': [{'value': 'DFS 70'}]}, {'fullName': {'value': 'Lens epithelium-derived growth factor'}}, {'fullName': {'value': 'Transcriptional coactivator p75/p52'}}]}, 'genes': [{'geneName': {'value': 'PSIP1'}, 'synonyms': [{'value': 'DFS70'}, {'value': 'LEDGF'}, {'value': 'PSIP2'}]}], 'sequence': {'value': 'MTRDFKPGDLIFAKMKGYPHWPARVDEVPDGAVKPPTNKLPIFFFGTHETAFLGPKDIFPYSENKEKYGKPNKRKGFNEGLWEIDNNPKVKFSSQQAATKQSNASSDVEVEEKETSVSKEDTDHEEKASNEDVTKAVDITTPKAARRGRKRKAEKQVETEEAGVVTTATASVNLKVSPKRGRPAATEVKIPKPRGRPKMVKQPCPSESDIITEEDKSKKKGQEEKQPKKQPKKDEEGQKEEDKPRKEPDKKEGKKEVESKRKNLAKTGVTSTSDSEEEGDDQEGEKKRKGGRNFQTAHRRNMLKGQHEKEAADRKRKQEEQMETEHQTTCNLQ', 'length': 333, 'molWeight': 37725, 'crc64': 'DAFEC8F815C06FCD', 'md5': '0273A7F575849F74DFA1ABB107F283E5'}, 'extraAttributes': {'uniParcId': 'UPI000006FF23'}}\n"
     ]
    },
    {
     "name": "stderr",
     "output_type": "stream",
     "text": [
      "Fetching sequences:  53%|█████▎    | 248/469 [01:52<01:38,  2.25it/s]"
     ]
    },
    {
     "name": "stdout",
     "output_type": "stream",
     "text": [
      "{'entryType': 'UniProtKB reviewed (Swiss-Prot)', 'primaryAccession': 'P49458', 'proteinDescription': {'recommendedName': {'fullName': {'value': 'Signal recognition particle 9 kDa protein'}, 'shortNames': [{'value': 'SRP9'}]}}, 'genes': [{'geneName': {'value': 'SRP9'}}], 'sequence': {'value': 'MPQYQTWEEFSRAAEKLYLADPMKARVVLKYRHSDGNLCVKVTDDLVCLVYKTDQAQDVKKIEKFHSQLMRLMVAKEARNVTMETE', 'length': 86, 'molWeight': 10112, 'crc64': 'DB2CA071AF0E6F65', 'md5': 'A551F06F58CB11F1839AF8819F486329'}, 'extraAttributes': {'uniParcId': 'UPI000011E3D2'}}\n"
     ]
    },
    {
     "name": "stderr",
     "output_type": "stream",
     "text": [
      "Fetching sequences:  53%|█████▎    | 249/469 [01:53<01:37,  2.25it/s]"
     ]
    },
    {
     "name": "stdout",
     "output_type": "stream",
     "text": [
      "{'entryType': 'UniProtKB reviewed (Swiss-Prot)', 'primaryAccession': 'Q15633', 'proteinDescription': {'recommendedName': {'fullName': {'evidences': [{'evidenceCode': 'ECO:0000255', 'source': 'HAMAP-Rule', 'id': 'MF_03034'}], 'value': 'RISC-loading complex subunit TARBP2'}}, 'alternativeNames': [{'fullName': {'value': 'TAR RNA-binding protein 2'}}, {'fullName': {'value': 'Trans-activation-responsive RNA-binding protein'}}]}, 'genes': [{'geneName': {'evidences': [{'evidenceCode': 'ECO:0000255', 'source': 'HAMAP-Rule', 'id': 'MF_03034'}], 'value': 'TARBP2'}, 'synonyms': [{'value': 'TRBP'}]}], 'sequence': {'value': 'MSEEEQGSGTTTGCGLPSIEQMLAANPGKTPISLLQEYGTRIGKTPVYDLLKAEGQAHQPNFTFRVTVGDTSCTGQGPSKKAAKHKAAEVALKHLKGGSMLEPALEDSSSFSPLDSSLPEDIPVFTAAAAATPVPSVVLTRSPPMELQPPVSPQQSECNPVGALQELVVQKGWRLPEYTVTQESGPAHRKEFTMTCRVERFIEIGSGTSKKLAKRNAAAKMLLRVHTVPLDARDGNEVEPDDDHFSIGVGSRLDGLRNRGPGCTWDSLRNSVGEKILSLRSCSLGSLGALGPACCRVLSELSEEQAFHVSYLDIEELSLSGLCQCLVELSTQPATVCHGSATTREAARGEAARRALQYLKIMAGSK', 'length': 366, 'molWeight': 39039, 'crc64': '768BA11751DA4912', 'md5': 'D2A4BCA15D9944B6A7A432361F1E9E40'}, 'extraAttributes': {'uniParcId': 'UPI0000071D96'}}\n"
     ]
    },
    {
     "name": "stderr",
     "output_type": "stream",
     "text": [
      "Fetching sequences:  53%|█████▎    | 250/469 [01:53<01:36,  2.27it/s]"
     ]
    },
    {
     "name": "stdout",
     "output_type": "stream",
     "text": [
      "{'entryType': 'UniProtKB reviewed (Swiss-Prot)', 'primaryAccession': 'P09874', 'proteinDescription': {'recommendedName': {'fullName': {'evidences': [{'evidenceCode': 'ECO:0000303', 'source': 'PubMed', 'id': '2824474'}, {'evidenceCode': 'ECO:0000303', 'source': 'PubMed', 'id': '3120710'}], 'value': 'Poly [ADP-ribose] polymerase 1'}, 'shortNames': [{'evidences': [{'evidenceCode': 'ECO:0000303', 'source': 'PubMed', 'id': '15607977'}], 'value': 'PARP-1'}], 'ecNumbers': [{'evidences': [{'evidenceCode': 'ECO:0000269', 'source': 'PubMed', 'id': '18172500'}, {'evidenceCode': 'ECO:0000269', 'source': 'PubMed', 'id': '19764761'}, {'evidenceCode': 'ECO:0000269', 'source': 'PubMed', 'id': '25043379'}, {'evidenceCode': 'ECO:0000269', 'source': 'PubMed', 'id': '26344098'}, {'evidenceCode': 'ECO:0000269', 'source': 'PubMed', 'id': '28190768'}, {'evidenceCode': 'ECO:0000269', 'source': 'PubMed', 'id': '33683197'}, {'evidenceCode': 'ECO:0000269', 'source': 'PubMed', 'id': '7852410'}], 'value': '2.4.2.30'}]}, 'alternativeNames': [{'fullName': {'evidences': [{'evidenceCode': 'ECO:0000303', 'source': 'PubMed', 'id': '29954836'}], 'value': 'ADP-ribosyltransferase diphtheria toxin-like 1'}, 'shortNames': [{'evidences': [{'evidenceCode': 'ECO:0000303', 'source': 'PubMed', 'id': '29954836'}], 'value': 'ARTD1'}]}, {'fullName': {'evidences': [{'evidenceCode': 'ECO:0000305'}], 'value': 'DNA ADP-ribosyltransferase PARP1'}, 'ecNumbers': [{'evidences': [{'evidenceCode': 'ECO:0000269', 'source': 'PubMed', 'id': '27471034'}], 'value': '2.4.2.-'}]}, {'fullName': {'evidences': [{'evidenceCode': 'ECO:0000303', 'source': 'Reference', 'id': 'Ref.11'}], 'value': 'NAD(+) ADP-ribosyltransferase 1'}, 'shortNames': [{'evidences': [{'evidenceCode': 'ECO:0000303', 'source': 'Reference', 'id': 'Ref.11'}], 'value': 'ADPRT 1'}]}, {'fullName': {'value': 'Poly[ADP-ribose] synthase 1'}}, {'fullName': {'evidences': [{'evidenceCode': 'ECO:0000305'}], 'value': 'Protein poly-ADP-ribosyltransferase PARP1'}, 'ecNumbers': [{'evidences': [{'evidenceCode': 'ECO:0000269', 'source': 'PubMed', 'id': '19764761'}, {'evidenceCode': 'ECO:0000269', 'source': 'PubMed', 'id': '25043379'}, {'evidenceCode': 'ECO:0000269', 'source': 'PubMed', 'id': '27256882'}, {'evidenceCode': 'ECO:0000269', 'source': 'PubMed', 'id': '33683197'}, {'evidenceCode': 'ECO:0000269', 'source': 'PubMed', 'id': '34210965'}, {'evidenceCode': 'ECO:0000269', 'source': 'PubMed', 'id': '34625544'}, {'evidenceCode': 'ECO:0000269', 'source': 'PubMed', 'id': '35393539'}], 'value': '2.4.2.-'}]}], 'contains': [{'recommendedName': {'fullName': {'evidences': [{'evidenceCode': 'ECO:0000305'}], 'value': 'Poly [ADP-ribose] polymerase 1, processed C-terminus'}}, 'alternativeNames': [{'fullName': {'evidences': [{'evidenceCode': 'ECO:0000303', 'source': 'PubMed', 'id': '33168626'}], 'value': 'Poly [ADP-ribose] polymerase 1, 89-kDa form'}}]}, {'recommendedName': {'fullName': {'evidences': [{'evidenceCode': 'ECO:0000305'}], 'value': 'Poly [ADP-ribose] polymerase 1, processed N-terminus'}, 'shortNames': [{'evidences': [{'evidenceCode': 'ECO:0000303', 'source': 'PubMed', 'id': '35104452'}], 'value': 'NT-PARP-1'}]}, 'alternativeNames': [{'fullName': {'evidences': [{'evidenceCode': 'ECO:0000303', 'source': 'PubMed', 'id': '33168626'}], 'value': 'Poly [ADP-ribose] polymerase 1, 24-kDa form'}}, {'fullName': {'evidences': [{'evidenceCode': 'ECO:0000303', 'source': 'PubMed', 'id': '9721847'}], 'value': 'Poly [ADP-ribose] polymerase 1, 28-kDa form'}}]}]}, 'genes': [{'geneName': {'evidences': [{'evidenceCode': 'ECO:0000303', 'source': 'PubMed', 'id': '21680843'}, {'evidenceCode': 'ECO:0000312', 'source': 'HGNC', 'id': 'HGNC:270'}], 'value': 'PARP1'}, 'synonyms': [{'evidences': [{'evidenceCode': 'ECO:0000303', 'source': 'Reference', 'id': 'Ref.11'}], 'value': 'ADPRT'}, {'value': 'PPOL'}]}], 'sequence': {'value': 'MAESSDKLYRVEYAKSGRASCKKCSESIPKDSLRMAIMVQSPMFDGKVPHWYHFSCFWKVGHSIRHPDVEVDGFSELRWDDQQKVKKTAEAGGVTGKGQDGIGSKAEKTLGDFAAEYAKSNRSTCKGCMEKIEKGQVRLSKKMVDPEKPQLGMIDRWYHPGCFVKNREELGFRPEYSASQLKGFSLLATEDKEALKKQLPGVKSEGKRKGDEVDGVDEVAKKKSKKEKDKDSKLEKALKAQNDLIWNIKDELKKVCSTNDLKELLIFNKQQVPSGESAILDRVADGMVFGALLPCEECSGQLVFKSDAYYCTGDVTAWTKCMVKTQTPNRKEWVTPKEFREISYLKKLKVKKQDRIFPPETSASVAATPPPSTASAPAAVNSSASADKPLSNMKILTLGKLSRNKDEVKAMIEKLGGKLTGTANKASLCISTKKEVEKMNKKMEEVKEANIRVVSEDFLQDVSASTKSLQELFLAHILSPWGAEVKAEPVEVVAPRGKSGAALSKKSKGQVKEEGINKSEKRMKLTLKGGAAVDPDSGLEHSAHVLEKGGKVFSATLGLVDIVKGTNSYYKLQLLEDDKENRYWIFRSWGRVGTVIGSNKLEQMPSKEDAIEHFMKLYEEKTGNAWHSKNFTKYPKKFYPLEIDYGQDEEAVKKLTVNPGTKSKLPKPVQDLIKMIFDVESMKKAMVEYEIDLQKMPLGKLSKRQIQAAYSILSEVQQAVSQGSSDSQILDLSNRFYTLIPHDFGMKKPPLLNNADSVQAKVEMLDNLLDIEVAYSLLRGGSDDSSKDPIDVNYEKLKTDIKVVDRDSEEAEIIRKYVKNTHATTHNAYDLEVIDIFKIEREGECQRYKPFKQLHNRRLLWHGSRTTNFAGILSQGLRIAPPEAPVTGYMFGKGIYFADMVSKSANYCHTSQGDPIGLILLGEVALGNMYELKHASHISKLPKGKHSVKGLGKTTPDPSANISLDGVDVPLGTGISSGVNDTSLLYNEYIVYDIAQVNLKYLLKLKFNFKTSLW', 'length': 1014, 'molWeight': 113084, 'crc64': '6A5FC01EB91C046B', 'md5': 'EB3E1A3D88E5ED82C3E0E8049AF7A563'}, 'extraAttributes': {'uniParcId': 'UPI000013D92D'}}\n"
     ]
    },
    {
     "name": "stderr",
     "output_type": "stream",
     "text": [
      "Fetching sequences:  54%|█████▎    | 251/469 [01:53<01:35,  2.29it/s]"
     ]
    },
    {
     "name": "stdout",
     "output_type": "stream",
     "text": [
      "{'entryType': 'UniProtKB reviewed (Swiss-Prot)', 'primaryAccession': 'Q9H0A0', 'proteinDescription': {'recommendedName': {'fullName': {'evidences': [{'evidenceCode': 'ECO:0000255', 'source': 'HAMAP-Rule', 'id': 'MF_03211'}, {'evidenceCode': 'ECO:0000303', 'source': 'PubMed', 'id': '25411247'}], 'value': 'RNA cytidine acetyltransferase'}, 'ecNumbers': [{'evidences': [{'evidenceCode': 'ECO:0000255', 'source': 'HAMAP-Rule', 'id': 'MF_03211'}, {'evidenceCode': 'ECO:0000269', 'source': 'PubMed', 'id': '25411247'}, {'evidenceCode': 'ECO:0000269', 'source': 'PubMed', 'id': '30449621'}], 'value': '2.3.1.-'}]}, 'alternativeNames': [{'fullName': {'evidences': [{'evidenceCode': 'ECO:0000255', 'source': 'HAMAP-Rule', 'id': 'MF_03211'}, {'evidenceCode': 'ECO:0000303', 'source': 'PubMed', 'id': '25653167'}], 'value': '18S rRNA cytosine acetyltransferase'}}, {'fullName': {'evidences': [{'evidenceCode': 'ECO:0000255', 'source': 'HAMAP-Rule', 'id': 'MF_03211'}], 'value': 'N-acetyltransferase 10'}}, {'fullName': {'evidences': [{'evidenceCode': 'ECO:0000303', 'source': 'PubMed', 'id': '14592445'}], 'value': 'N-acetyltransferase-like protein'}, 'shortNames': [{'evidences': [{'evidenceCode': 'ECO:0000303', 'source': 'PubMed', 'id': '14592445'}], 'value': 'hALP'}]}]}, 'genes': [{'geneName': {'evidences': [{'evidenceCode': 'ECO:0000255', 'source': 'HAMAP-Rule', 'id': 'MF_03211'}], 'value': 'NAT10'}, 'synonyms': [{'evidences': [{'evidenceCode': 'ECO:0000303', 'source': 'PubMed', 'id': '14592445'}, {'evidenceCode': 'ECO:0000303', 'source': 'PubMed', 'id': '17631499'}], 'value': 'ALP'}, {'evidences': [{'evidenceCode': 'ECO:0000303', 'source': 'PubMed', 'id': '11214970'}], 'value': 'KIAA1709'}]}], 'sequence': {'value': 'MHRKKVDNRIRILIENGVAERQRSLFVVVGDRGKDQVVILHHMLSKATVKARPSVLWCYKKELGFSSHRKKRMRQLQKKIKNGTLNIKQDDPFELFIAATNIRYCYYNETHKILGNTFGMCVLQDFEALTPNLLARTVETVEGGGLVVILLRTMNSLKQLYTVTMDVHSRYRTEAHQDVVGRFNERFILSLASCKKCLVIDDQLNILPISSHVATMEALPPQTPDESLGPSDLELRELKESLQDTQPVGVLVDCCKTLDQAKAVLKFIEGISEKTLRSTVALTAARGRGKSAALGLAIAGAVAFGYSNIFVTSPSPDNLHTLFEFVFKGFDALQYQEHLDYEIIQSLNPEFNKAVIRVNVFREHRQTIQYIHPADAVKLGQAELVVIDEAAAIPLPLVKSLLGPYLVFMASTINGYEGTGRSLSLKLIQQLRQQSAQSQVSTTAENKTTTTARLASARTLYEVSLQESIRYAPGDAVEKWLNDLLCLDCLNITRIVSGCPLPEACELYYVNRDTLFCYHKASEVFLQRLMALYVASHYKNSPNDLQMLSDAPAHHLFCLLPPVPPTQNALPEVLAVIQVCLEGEISRQSILNSLSRGKKASGDLIPWTVSEQFQDPDFGGLSGGRVVRIAVHPDYQGMGYGSRALQLLQMYYEGRFPCLEEKVLETPQEIHTVSSEAVSLLEEVITPRKDLPPLLLKLNERPAERLDYLGVSYGLTPRLLKFWKRAGFVPVYLRQTPNDLTGEHSCIMLKTLTDEDEADQGGWLAAFWKDFRRRFLALLSYQFSTFSPSLALNIIQNRNMGKPAQPALSREELEALFLPYDLKRLEMYSRNMVDYHLIMDMIPAISRIYFLNQLGDLALSAAQSALLLGIGLQHKSVDQLEKEIELPSGQLMGLFNRIIRKVVKLFNEVQEKAIEEQMVAAKDVVMEPTMKTLSDDLDEAAKEFQEKHKKEVGKLKSMDLSEYIIRGDDEEWNEVLNKAGPNASIISLKSDKKRKLEAKQEPKQSKKLKNRETKNKKDMKLKRKK', 'length': 1025, 'molWeight': 115730, 'crc64': '88734933A46EB0EE', 'md5': '3C9670B5839E896EDCB0AAECF36DCDBD'}, 'extraAttributes': {'uniParcId': 'UPI000013CF8E'}}\n"
     ]
    },
    {
     "name": "stderr",
     "output_type": "stream",
     "text": [
      "Fetching sequences:  54%|█████▎    | 252/469 [01:54<01:35,  2.28it/s]"
     ]
    },
    {
     "name": "stdout",
     "output_type": "stream",
     "text": [
      "{'entryType': 'UniProtKB reviewed (Swiss-Prot)', 'primaryAccession': 'Q03701', 'proteinDescription': {'recommendedName': {'fullName': {'value': 'CCAAT/enhancer-binding protein zeta'}}, 'alternativeNames': [{'fullName': {'value': 'CCAAT-box-binding transcription factor'}, 'shortNames': [{'value': 'CBF'}, {'value': 'CCAAT-binding factor'}]}]}, 'genes': [{'geneName': {'value': 'CEBPZ'}, 'synonyms': [{'value': 'CBF2'}]}], 'sequence': {'value': 'MAAVKEPLEFHAKRPWRPEEAVEDPDEEDEDNTSEAENGFSLEEVLRLGGTKQDYLMLATLDENEEVIDGGKKGAIDDLQQGELEAFIQNLNLAKYTKASLVEEDEPAEKENSSKKEVKIPKINNKNTAESQRTSVNKVKNKNRPEPHSDENGSTTPKVKKDKQNIFEFFERQTLLLRPGGKWYDLEYSNEYSLKPQPQDVVSKYKTLAQKLYQHEINLFKSKTNSQKGASSTWMKAIVSSGTLGDRMAAMILLIQDDAVHTLQFVETLVNLVKKKGSKQQCLMALDTFKELLITDLLPDNRKLRIFSQRPFDKLEQLSSGNKDSRDRRLILWYFEHQLKHLVAEFVQVLETLSHDTLVTTKTRALTVAHELLCNKPEEEKALLVQVVNKLGDPQNRIATKASHLLETLLCKHPNMKGVVSGEVERLLFRSNISSKAQYYAICFLNQMALSHEESELANKLITVYFCFFRTCVKKKDVESKMLSALLTGVNRAYPYSQTGDDKVREQIDTLFKVLHIVNFNTSVQALMLLFQVMNSQQTISDRYYTALYRKMLDPGLMTCSKQAMFLNLVYKSLKADIVLRRVKAFVKRLLQVTCQQMPPFICGALYLVSEILKAKPGLRSQLDDHPESDDEENFIDANDDEDMEKFTDADKETEIVKKLETEETVPETDVETKKPEVASWVHFDNLKGGKQLNKYDPFSRNPLFCGAENTSLWELKKLSVHFHPSVALFAKTILQGNYIQYSGDPLQDFTLMRFLDRFVYRNPKPHKGKENTDSVVMQPKRKHFIKDIRHLPVNSKEFLAKEESQIPVDEVFFHRYYKKVAVKEKQKRDADEESIEDVDDEEFEELIDTFEDDNCFSSGKDDMDFAGNVKKRTKGAKDNTLDEDSEGSDDELGNLDDDEVSLGSMDDEEFAEVDEDGGTFMDVLDDESESVPELEVHSKVSTKKSKRKGTDDFDFAGSFQGPRKKKRNLNDSSLFVSAEEFGHLLDENMGSKFDNIGMNAMANKDNASLKQLRWEAERDDWLHNRDAKSIIKKKKHFKKKRIKTTQKTKKQRK', 'length': 1054, 'molWeight': 120974, 'crc64': '20E33175688BA985', 'md5': '534A689ABA85BF8A5B9331E8B0E28044'}, 'extraAttributes': {'uniParcId': 'UPI0000072AAB'}}\n"
     ]
    },
    {
     "name": "stderr",
     "output_type": "stream",
     "text": [
      "Fetching sequences:  54%|█████▍    | 253/469 [01:54<01:34,  2.28it/s]"
     ]
    },
    {
     "name": "stdout",
     "output_type": "stream",
     "text": [
      "{'entryType': 'UniProtKB reviewed (Swiss-Prot)', 'primaryAccession': 'Q9BVP2', 'proteinDescription': {'recommendedName': {'fullName': {'value': 'Guanine nucleotide-binding protein-like 3'}}, 'alternativeNames': [{'fullName': {'value': 'E2-induced gene 3 protein'}}, {'fullName': {'value': 'Novel nucleolar protein 47'}, 'shortNames': [{'value': 'NNP47'}]}, {'fullName': {'value': 'Nucleolar GTP-binding protein 3'}}, {'fullName': {'value': 'Nucleostemin'}}]}, 'genes': [{'geneName': {'value': 'GNL3'}, 'synonyms': [{'value': 'E2IG3'}, {'value': 'NS'}]}], 'sequence': {'value': 'MKRPKLKKASKRMTCHKRYKIQKKVREHHRKLRKEAKKRGHKKPRKDPGVPNSAPFKEALLREAELRKQRLEELKQQQKLDRQKELEKKRKLETNPDIKPSNVEPMEKEFGLCKTENKAKSGKQNSKKLYCQELKKVIEASDVVLEVLDARDPLGCRCPQVEEAIVQSGQKKLVLILNKSDLVPKENLESWLNYLKKELPTVVFRASTKPKDKGKITKRVKAKKNAAPFRSEVCFGKEGLWKLLGGFQETCSKAIRVGVIGFPNVGKSSIINSLKQEQMCNVGVSMGLTRSMQVVPLDKQITIIDSPSFIVSPLNSSSALALRSPASIEVVKPMEAASAILSQADARQVVLKYTVPGYRNSLEFFTVLAQRRGMHQKGGIPNVEGAAKLLWSEWTGASLAYYCHPPTSWTPPPYFNESIVVDMKSGFNLEELEKNNAQSIRAIKGPHLANSILFQSSGLTNGIIEEKDIHEELPKRKERKQEEREDDKDSDQETVDEEVDENSSGMFAAEETGEALSEETTAGEQSTRSFILDKIIEEDDAYDFSTDYV', 'length': 549, 'molWeight': 61993, 'crc64': 'F3928FE1C77C77F4', 'md5': 'FA403C71164D4DBB86271E4041709F00'}, 'extraAttributes': {'uniParcId': 'UPI000003C48A'}}\n"
     ]
    },
    {
     "name": "stderr",
     "output_type": "stream",
     "text": [
      "Fetching sequences:  54%|█████▍    | 254/469 [01:55<01:34,  2.27it/s]"
     ]
    },
    {
     "name": "stdout",
     "output_type": "stream",
     "text": [
      "{'entryType': 'UniProtKB reviewed (Swiss-Prot)', 'primaryAccession': 'Q9HB58', 'proteinDescription': {'recommendedName': {'fullName': {'value': 'Sp110 nuclear body protein'}}, 'alternativeNames': [{'fullName': {'value': 'Interferon-induced protein 41/75'}}, {'fullName': {'value': 'Speckled 110 kDa'}}, {'fullName': {'value': 'Transcriptional coactivator Sp110'}}]}, 'genes': [{'geneName': {'value': 'SP110'}}], 'sequence': {'value': 'MFTMTRAMEEALFQHFMHQKLGIAYAIHKPFPFFEGLLDNSIITKRMYMESLEACRNLIPVSRVVHNILTQLERTFNLSLLVTLFSQINLREYPNLVTIYRSFKRVGASYEWQSRDTPILLEAPTGLAEGSSLHTPLALPPPQPPQPSCSPCAPRVSEPGTSSQQSDEILSESPSPSDPVLPLPALIQEGRSTSVTNDKLTSKMNAEEDSEEMPSLLTSTVQVASDNLIPQIRDKEDPQEMPHSPLGSMPEIRDNSPEPNDPEEPQEVSSTPSDKKGKKRKRCIWSTPKRRHKKKSLPGGTASSRHGIQKKLKRVDQVPQKKDDSTCNSTVETRAQKARTECARKSRSEEIIDGTSEMNEGKRSQKTPSTPRRVTQGAASPGHGIQEKLQVVDKVTQRKDDSTWNSEVMMRVQKARTKCARKSRLKEKKKEKDICSSSKRRFQKNIHRRGKPKSDTVDFHCSKLPVTCGEAKGILYKKKMKHGSSVKCIRNEDGTWLTPNEFEVEGKGRNAKNWKRNIRCEGMTLGELLKRKNSDECEVCCQGGQLLCCGTCPRVFHEDCHIPPVEAKRMLWSCTFCRMKRSSGSQQCHHVSKTLERQMQPQDQLIRDYGEPFQEAMWLDLVKERLITEMYTVAWFVRDMRLMFRNHKTFYKASDFGQVGLDLEAEFEKDLKDVLGFHEANDGGFWTLP', 'length': 689, 'molWeight': 78396, 'crc64': '31552E1A4C498EF7', 'md5': 'E70451869FAB9A4737133DCDC170ADE7'}, 'extraAttributes': {'uniParcId': 'UPI000013D98F'}}\n"
     ]
    },
    {
     "name": "stderr",
     "output_type": "stream",
     "text": [
      "Fetching sequences:  54%|█████▍    | 255/469 [01:55<01:34,  2.26it/s]"
     ]
    },
    {
     "name": "stdout",
     "output_type": "stream",
     "text": [
      "{'entryType': 'UniProtKB reviewed (Swiss-Prot)', 'primaryAccession': 'O75494', 'proteinDescription': {'recommendedName': {'fullName': {'value': 'Serine/arginine-rich splicing factor 10'}}, 'alternativeNames': [{'fullName': {'value': '40 kDa SR-repressor protein'}, 'shortNames': [{'value': 'SRrp40'}]}, {'fullName': {'value': 'FUS-interacting serine-arginine-rich protein 1'}}, {'fullName': {'value': 'Splicing factor SRp38'}}, {'fullName': {'value': 'Splicing factor, arginine/serine-rich 13A'}}, {'fullName': {'value': 'TLS-associated protein with Ser-Arg repeats'}, 'shortNames': [{'value': 'TASR'}, {'value': 'TLS-associated protein with SR repeats'}]}, {'fullName': {'value': 'TLS-associated serine-arginine protein'}, 'shortNames': [{'value': 'TLS-associated SR protein'}]}]}, 'genes': [{'geneName': {'value': 'SRSF10'}, 'synonyms': [{'value': 'FUSIP1'}, {'value': 'FUSIP2'}, {'value': 'SFRS13A'}, {'value': 'TASR'}]}], 'sequence': {'value': 'MSRYLRPPNTSLFVRNVADDTRSEDLRREFGRYGPIVDVYVPLDFYTRRPRGFAYVQFEDVRDAEDALHNLDRKWICGRQIEIQFAQGDRKTPNQMKAKEGRNVYSSSRYDDYDRYRRSRSRSYERRRSRSRSFDYNYRRSYSPRNSRPTGRPRRSRSHSDNDRFKHRNRSFSRSKSNSRSRSKSQPKKEMKAKSRSRSASHTKTRGTSKTDSKTHYKSGSRYEKESRKKEPPRSKSQSRSQSRSRSKSRSRSWTSPKSSGH', 'length': 262, 'molWeight': 31301, 'crc64': '205F95D36CBBFAB4', 'md5': '5F0096D4A985FB5DE7F3386A6262F9B5'}, 'extraAttributes': {'uniParcId': 'UPI000005FB30'}}\n"
     ]
    },
    {
     "name": "stderr",
     "output_type": "stream",
     "text": [
      "Fetching sequences:  55%|█████▍    | 256/469 [01:56<01:34,  2.26it/s]"
     ]
    },
    {
     "name": "stdout",
     "output_type": "stream",
     "text": [
      "{'entryType': 'UniProtKB reviewed (Swiss-Prot)', 'primaryAccession': 'Q9HC52', 'proteinDescription': {'recommendedName': {'fullName': {'value': 'Chromobox protein homolog 8'}}, 'alternativeNames': [{'fullName': {'value': 'Polycomb 3 homolog'}, 'shortNames': [{'value': 'Pc3'}, {'value': 'hPc3'}]}, {'fullName': {'value': 'Rectachrome 1'}}]}, 'genes': [{'geneName': {'value': 'CBX8'}, 'synonyms': [{'value': 'PC3'}, {'value': 'RC1'}]}], 'sequence': {'value': 'MELSAVGERVFAAEALLKRRIRKGRMEYLVKWKGWSQKYSTWEPEENILDARLLAAFEEREREMELYGPKKRGPKPKTFLLKAQAKAKAKTYEFRSDSARGIRIPYPGRSPQDLASTSRAREGLRNMGLSPPASSTSTSSTCRAEAPRDRDRDRDRDRERDRERERERERERERERERERGTSRVDDKPSSPGDSSKKRGPKPRKELPDPSQRPLGEPSAGLGEYLKGRKLDDTPSGAGKFPAGHSVIQLARRQDSDLVQCGVTSPSSAEATGKLAVDTFPARVIKHRAAFLEAKGQGALDPNGTRVRHGSGPPSSGGGLYRDMGAQGGRPSLIARIPVARILGDPEEESWSPSLTNLEKVVVTDVTSNFLTVTIKESNTDQGFFKEKR', 'length': 389, 'molWeight': 43396, 'crc64': '651263C85B0ECD93', 'md5': 'DBDECEFA40E5794A05B72BA8FD382BBC'}, 'extraAttributes': {'uniParcId': 'UPI000013D82A'}}\n"
     ]
    },
    {
     "name": "stderr",
     "output_type": "stream",
     "text": [
      "Fetching sequences:  55%|█████▍    | 257/469 [01:56<01:34,  2.25it/s]"
     ]
    },
    {
     "name": "stdout",
     "output_type": "stream",
     "text": [
      "{'entryType': 'UniProtKB reviewed (Swiss-Prot)', 'primaryAccession': 'Q96K58', 'proteinDescription': {'recommendedName': {'fullName': {'value': 'Zinc finger protein 668'}}}, 'genes': [{'geneName': {'value': 'ZNF668'}}], 'sequence': {'value': 'MEVEAAEARSPAPGYKRSGRRYKCLSCTKTFPNAPRAARHAATHGPADCSEEVAEVKPKPETEAKAEEASGEKVSGSAAKPRPYACPLCPKAYKTAPELRSHGRSHTGEKPFPCPECGRRFMQPVCLRVHLASHAGELPFRCAHCPKAYGALSKLKIHQRGHTGERPYACADCGKSFADPSVFRKHRRTHAGLRPYSCERCGKAYAELKDLRNHERSHTGERPFLCSECGKSFSRSSSLTCHQRIHAAQKPYRCPACGKGFTQLSSYQSHERTHSGEKPFLCPRCGRMFSDPSSFRRHQRAHEGVKPYHCEKCGKDFRQPADLAMHRRVHTGDRPFKCLQCDKTFVASWDLKRHALVHSGQRPFRCEECGRAFAERASLTKHSRVHSGERPFHCNACGKSFVVSSSLRKHERTHRSSEAAGVPPAQELVVGLALPVGVAGESSAAPAAGAGLGDPPAGLLGLPPESGGVMATQWQVVGMTVEHVECQDAGVREAPGPLEGAGEAGGEEADEKPPQFVCRECKETFSTMTLLRRHERSHPELRPFPCTQCGKSFSDRAGLRKHSRTHSSVRPYTCPHCPKAFLSASDLRKHERTHPVPMGTPTPLEPLVALLGMPEEGPA', 'length': 619, 'molWeight': 67904, 'crc64': 'C49653838ABC8FEB', 'md5': '5A1537E29E08F377615F3E4E28B00C40'}, 'extraAttributes': {'uniParcId': 'UPI0000E265EB'}}\n"
     ]
    },
    {
     "name": "stderr",
     "output_type": "stream",
     "text": [
      "Fetching sequences:  55%|█████▌    | 258/469 [01:56<01:34,  2.23it/s]"
     ]
    },
    {
     "name": "stdout",
     "output_type": "stream",
     "text": [
      "{'entryType': 'UniProtKB reviewed (Swiss-Prot)', 'primaryAccession': 'Q03164', 'proteinDescription': {'recommendedName': {'fullName': {'value': 'Histone-lysine N-methyltransferase 2A'}, 'shortNames': [{'value': 'Lysine N-methyltransferase 2A'}], 'ecNumbers': [{'evidences': [{'evidenceCode': 'ECO:0000269', 'source': 'PubMed', 'id': '12453419'}, {'evidenceCode': 'ECO:0000269', 'source': 'PubMed', 'id': '19187761'}, {'evidenceCode': 'ECO:0000269', 'source': 'PubMed', 'id': '19556245'}, {'evidenceCode': 'ECO:0000269', 'source': 'PubMed', 'id': '24235145'}, {'evidenceCode': 'ECO:0000269', 'source': 'PubMed', 'id': '25561738'}, {'evidenceCode': 'ECO:0000269', 'source': 'PubMed', 'id': '26886794'}], 'value': '2.1.1.364'}]}, 'alternativeNames': [{'fullName': {'evidences': [{'evidenceCode': 'ECO:0000303', 'source': 'PubMed', 'id': '12453419'}], 'value': 'ALL-1'}}, {'fullName': {'value': 'CXXC-type zinc finger protein 7'}}, {'fullName': {'evidences': [{'evidenceCode': 'ECO:0000305'}], 'value': 'Cysteine methyltransferase KMT2A'}, 'ecNumbers': [{'evidences': [{'evidenceCode': 'ECO:0000269', 'source': 'PubMed', 'id': '24235145'}], 'value': '2.1.1.-'}]}, {'fullName': {'value': 'Myeloid/lymphoid or mixed-lineage leukemia'}}, {'fullName': {'value': 'Myeloid/lymphoid or mixed-lineage leukemia protein 1'}}, {'fullName': {'value': 'Trithorax-like protein'}}, {'fullName': {'value': 'Zinc finger protein HRX'}}], 'contains': [{'recommendedName': {'fullName': {'value': 'MLL cleavage product N320'}}, 'alternativeNames': [{'fullName': {'value': 'N-terminal cleavage product of 320 kDa'}, 'shortNames': [{'value': 'p320'}]}]}, {'recommendedName': {'fullName': {'value': 'MLL cleavage product C180'}}, 'alternativeNames': [{'fullName': {'value': 'C-terminal cleavage product of 180 kDa'}, 'shortNames': [{'value': 'p180'}]}]}]}, 'genes': [{'geneName': {'value': 'KMT2A'}, 'synonyms': [{'value': 'ALL1'}, {'value': 'CXXC7'}, {'value': 'HRX'}, {'value': 'HTRX'}, {'value': 'MLL'}, {'value': 'MLL1'}, {'value': 'TRX1'}]}], 'sequence': {'value': 'MAHSCRWRFPARPGTTGGGGGGGRRGLGGAPRQRVPALLLPPGPPVGGGGPGAPPSPPAVAAAAAAAGSSGAGVPGGAAAASAASSSSASSSSSSSSSASSGPALLRVGPGFDAALQVSAAIGTNLRRFRAVFGESGGGGGSGEDEQFLGFGSDEEVRVRSPTRSPSVKTSPRKPRGRPRSGSDRNSAILSDPSVFSPLNKSETKSGDKIKKKDSKSIEKKRGRPPTFPGVKIKITHGKDISELPKGNKEDSLKKIKRTPSATFQQATKIKKLRAGKLSPLKSKFKTGKLQIGRKGVQIVRRRGRPPSTERIKTPSGLLINSELEKPQKVRKDKEGTPPLTKEDKTVVRQSPRRIKPVRIIPSSKRTDATIAKQLLQRAKKGAQKKIEKEAAQLQGRKVKTQVKNIRQFIMPVVSAISSRIIKTPRRFIEDEDYDPPIKIARLESTPNSRFSAPSCGSSEKSSAASQHSSQMSSDSSRSSSPSVDTSTDSQASEEIQVLPEERSDTPEVHPPLPISQSPENESNDRRSRRYSVSERSFGSRTTKKLSTLQSAPQQQTSSSPPPPLLTPPPPLQPASSISDHTPWLMPPTIPLASPFLPASTAPMQGKRKSILREPTFRWTSLKHSRSEPQYFSSAKYAKEGLIRKPIFDNFRPPPLTPEDVGFASGFSASGTAASARLFSPLHSGTRFDMHKRSPLLRAPRFTPSEAHSRIFESVTLPSNRTSAGTSSSGVSNRKRKRKVFSPIRSEPRSPSHSMRTRSGRLSSSELSPLTPPSSVSSSLSISVSPLATSALNPTFTFPSHSLTQSGESAEKNQRPRKQTSAPAEPFSSSSPTPLFPWFTPGSQTERGRNKDKAPEELSKDRDADKSVEKDKSRERDREREKENKRESRKEKRKKGSEIQSSSALYPVGRVSKEKVVGEDVATSSSAKKATGRKKSSSHDSGTDITSVTLGDTTAVKTKILIKKGRGNLEKTNLDLGPTAPSLEKEKTLCLSTPSSSTVKHSTSSIGSMLAQADKLPMTDKRVASLLKKAKAQLCKIEKSKSLKQTDQPKAQGQESDSSETSVRGPRIKHVCRRAAVALGRKRAVFPDDMPTLSALPWEEREKILSSMGNDDKSSIAGSEDAEPLAPPIKPIKPVTRNKAPQEPPVKKGRRSRRCGQCPGCQVPEDCGVCTNCLDKPKFGGRNIKKQCCKMRKCQNLQWMPSKAYLQKQAKAVKKKEKKSKTSEKKDSKESSVVKNVVDSSQKPTPSAREDPAPKKSSSEPPPRKPVEEKSEEGNVSAPGPESKQATTPASRKSSKQVSQPALVIPPQPPTTGPPRKEVPKTTPSEPKKKQPPPPESGPEQSKQKKVAPRPSIPVKQKPKEKEKPPPVNKQENAGTLNILSTLSNGNSSKQKIPADGVHRIRVDFKEDCEAENVWEMGGLGILTSVPITPRVVCFLCASSGHVEFVYCQVCCEPFHKFCLEENERPLEDQLENWCCRRCKFCHVCGRQHQATKQLLECNKCRNSYHPECLGPNYPTKPTKKKKVWICTKCVRCKSCGSTTPGKGWDAQWSHDFSLCHDCAKLFAKGNFCPLCDKCYDDDDYESKMMQCGKCDRWVHSKCENLSDEMYEILSNLPESVAYTCVNCTERHPAEWRLALEKELQISLKQVLTALLNSRTTSHLLRYRQAAKPPDLNPETEESIPSRSSPEGPDPPVLTEVSKQDDQQPLDLEGVKRKMDQGNYTSVLEFSDDIVKIIQAAINSDGGQPEIKKANSMVKSFFIRQMERVFPWFSVKKSRFWEPNKVSSNSGMLPNAVLPPSLDHNYAQWQEREENSHTEQPPLMKKIIPAPKPKGPGEPDSPTPLHPPTPPILSTDRSREDSPELNPPPGIEDNRQCALCLTYGDDSANDAGRLLYIGQNEWTHVNCALWSAEVFEDDDGSLKNVHMAVIRGKQLRCEFCQKPGATVGCCLTSCTSNYHFMCSRAKNCVFLDDKKVYCQRHRDLIKGEVVPENGFEVFRRVFVDFEGISLRRKFLNGLEPENIHMMIGSMTIDCLGILNDLSDCEDKLFPIGYQCSRVYWSTTDARKRCVYTCKIVECRPPVVEPDINSTVEHDENRTIAHSPTSFTESSSKESQNTAEIISPPSPDRPPHSQTSGSCYYHVISKVPRIRTPSYSPTQRSPGCRPLPSAGSPTPTTHEIVTVGDPLLSSGLRSIGSRRHSTSSLSPQRSKLRIMSPMRTGNTYSRNNVSSVSTTGTATDLESSAKVVDHVLGPLNSSTSLGQNTSTSSNLQRTVVTVGNKNSHLDGSSSSEMKQSSASDLVSKSSSLKGEKTKVLSSKSSEGSAHNVAYPGIPKLAPQVHNTTSRELNVSKIGSFAEPSSVSFSSKEALSFPHLHLRGQRNDRDQHTDSTQSANSSPDEDTEVKTLKLSGMSNRSSIINEHMGSSSRDRRQKGKKSCKETFKEKHSSKSFLEPGQVTTGEEGNLKPEFMDEVLTPEYMGQRPCNNVSSDKIGDKGLSMPGVPKAPPMQVEGSAKELQAPRKRTVKVTLTPLKMENESQSKNALKESSPASPLQIESTSPTEPISASENPGDGPVAQPSPNNTSCQDSQSNNYQNLPVQDRNLMLPDGPKPQEDGSFKRRYPRRSARARSNMFFGLTPLYGVRSYGEEDIPFYSSSTGKKRGKRSAEGQVDGADDLSTSDEDDLYYYNFTRTVISSGGEERLASHNLFREEEQCDLPKISQLDGVDDGTESDTSVTATTRKSSQIPKRNGKENGTENLKIDRPEDAGEKEHVTKSSVGHKNEPKMDNCHSVSRVKTQGQDSLEAQLSSLESSRRVHTSTPSDKNLLDTYNTELLKSDSDNNNSDDCGNILPSDIMDFVLKNTPSMQALGESPESSSSELLNLGEGLGLDSNREKDMGLFEVFSQQLPTTEPVDSSVSSSISAEEQFELPLELPSDLSVLTTRSPTVPSQNPSRLAVISDSGEKRVTITEKSVASSESDPALLSPGVDPTPEGHMTPDHFIQGHMDADHISSPPCGSVEQGHGNNQDLTRNSSTPGLQVPVSPTVPIQNQKYVPNSTDSPGPSQISNAAVQTTPPHLKPATEKLIVVNQNMQPLYVLQTLPNGVTQKIQLTSSVSSTPSVMETNTSVLGPMGGGLTLTTGLNPSLPTSQSLFPSASKGLLPMSHHQHLHSFPAATQSSFPPNISNPPSGLLIGVQPPPDPQLLVSESSQRTDLSTTVATPSSGLKKRPISRLQTRKNKKLAPSSTPSNIAPSDVVSNMTLINFTPSQLPNHPSLLDLGSLNTSSHRTVPNIIKRSKSSIMYFEPAPLLPQSVGGTAATAAGTSTISQDTSHLTSGSVSGLASSSSVLNVVSMQTTTTPTSSASVPGHVTLTNPRLLGTPDIGSISNLLIKASQQSLGIQDQPVALPPSSGMFPQLGTSQTPSTAAITAASSICVLPSTQTTGITAASPSGEADEHYQLQHVNQLLASKTGIHSSQRDLDSASGPQVSNFTQTVDAPNSMGLEQNKALSSAVQASPTSPGGSPSSPSSGQRSASPSVPGPTKPKPKTKRFQLPLDKGNGKKHKVSHLRTSSSEAHIPDQETTSLTSGTGTPGAEAEQQDTASVEQSSQKECGQPAGQVAVLPEVQVTQNPANEQESAEPKTVEEEESNFSSPLMLWLQQEQKRKESITEKKPKKGLVFEISSDDGFQICAESIEDAWKSLTDKVQEARSNARLKQLSFAGVNGLRMLGILHDAVVFLIEQLSGAKHCRNYKFRFHKPEEANEPPLNPHGSARAEVHLRKSAFDMFNFLASKHRQPPEYNPNDEEEEEVQLKSARRATSMDLPMPMRFRHLKKTSKEAVGVYRSPIHGRGLFCKRNIDAGEMVIEYAGNVIRSIQTDKREKYYDSKGIGCYMFRIDDSEVVDATMHGNAARFINHSCEPNCYSRVINIDGQKHIVIFAMRKIYRGEELTYDYKFPIEDASNKLPCNCGAKKCRKFLN', 'length': 3969, 'molWeight': 431764, 'crc64': '1150F37EAB1430D3', 'md5': 'F90E5C53FC570D85E49F666AD445DCDE'}, 'extraAttributes': {'uniParcId': 'UPI00001BE8DF'}}\n"
     ]
    },
    {
     "name": "stderr",
     "output_type": "stream",
     "text": [
      "Fetching sequences:  55%|█████▌    | 259/469 [01:57<01:33,  2.24it/s]"
     ]
    },
    {
     "name": "stdout",
     "output_type": "stream",
     "text": [
      "{'entryType': 'UniProtKB reviewed (Swiss-Prot)', 'primaryAccession': 'Q8NFW8', 'proteinDescription': {'recommendedName': {'fullName': {'value': 'N-acylneuraminate cytidylyltransferase'}, 'ecNumbers': [{'value': '2.7.7.43'}]}, 'alternativeNames': [{'fullName': {'value': 'CMP-N-acetylneuraminic acid synthase'}, 'shortNames': [{'value': 'CMP-NeuNAc synthase'}]}]}, 'genes': [{'geneName': {'value': 'CMAS'}}], 'sequence': {'value': 'MDSVEKGAATSVSNPRGRPSRGRPPKLQRNSRGGQGRGVEKPPHLAALILARGGSKGIPLKNIKHLAGVPLIGWVLRAALDSGAFQSVWVSTDHDEIENVAKQFGAQVHRRSSEVSKDSSTSLDAIIEFLNYHNEVDIVGNIQATSPCLHPTDLQKVAEMIREEGYDSVFSVVRRHQFRWSEIQKGVREVTEPLNLNPAKRPRRQDWDGELYENGSFYFAKRHLIEMGYLQGGKMAYYEMRAEHSVDIDVDIDWPIAEQRVLRYGYFGKEKLKEIKLLVCNIDGCLTNGHIYVSGDQKEIISYDVKDAIGISLLKKSGIEVRLISERACSKQTLSSLKLDCKMEVSVSDKLAVVDEWRKEMGLCWKEVAYLGNEVSDEECLKRVGLSGAPADACSTAQKAVGYICKCNGGRGAIREFAEHICLLMEKVNNSCQK', 'length': 434, 'molWeight': 48379, 'crc64': 'B303B6647EF81A3A', 'md5': '2EE58F4E0D5DCED3969994E4CD8C44C7'}, 'extraAttributes': {'uniParcId': 'UPI0000034274'}}\n"
     ]
    },
    {
     "name": "stderr",
     "output_type": "stream",
     "text": [
      "Fetching sequences:  55%|█████▌    | 260/469 [01:57<01:33,  2.23it/s]"
     ]
    },
    {
     "name": "stdout",
     "output_type": "stream",
     "text": [
      "{'entryType': 'UniProtKB reviewed (Swiss-Prot)', 'primaryAccession': 'Q9Y232', 'proteinDescription': {'recommendedName': {'fullName': {'evidences': [{'evidenceCode': 'ECO:0000303', 'source': 'PubMed', 'id': '10192397'}], 'value': 'Chromodomain Y-like protein'}, 'shortNames': [{'evidences': [{'evidenceCode': 'ECO:0000303', 'source': 'PubMed', 'id': '10192397'}], 'value': 'CDY-like'}]}, 'alternativeNames': [{'fullName': {'evidences': [{'evidenceCode': 'ECO:0000303', 'source': 'PubMed', 'id': '28803779'}], 'value': 'Crotonyl-CoA hydratase'}, 'ecNumbers': [{'evidences': [{'evidenceCode': 'ECO:0000269', 'source': 'PubMed', 'id': '28803779'}], 'value': '4.2.1.-'}]}]}, 'genes': [{'geneName': {'evidences': [{'evidenceCode': 'ECO:0000303', 'source': 'PubMed', 'id': '10192397'}, {'evidenceCode': 'ECO:0000312', 'source': 'HGNC', 'id': 'HGNC:1811'}], 'value': 'CDYL'}, 'synonyms': [{'evidences': [{'evidenceCode': 'ECO:0000303', 'source': 'PubMed', 'id': '19808672'}], 'value': 'CDYL1'}]}], 'sequence': {'value': 'MTFQASHRSAWGKSRKKNWQYEGPTQKLFLKRNNVSAPDGPSDPSISVSSEQSGAQQPPALQVERIVDKRKNKKGKTEYLVRWKGYDSEDDTWEPEQHLVNCEEYIHDFNRRHTEKQKESTLTRTNRTSPNNARKQISRSTNSNFSKTSPKALVIGKDHESKNSQLFAASQKFRKNTAPSLSSRKNMDLAKSGIKILVPKSPVKSRTAVDGFQSESPEKLDPVEQGQEDTVAPEVAAEKPVGALLGPGAERARMGSRPRIHPLVPQVPGPVTAAMATGLAVNGKGTSPFMDALTANGTTNIQTSVTGVTASKRKFIDDRRDQPFDKRLRFSVRQTESAYRYRDIVVRKQDGFTHILLSTKSSENNSLNPEVMREVQSALSTAAADDSKLVLLSAVGSVFCCGLDFIYFIRRLTDDRKRESTKMAEAIRNFVNTFIQFKKPIIVAVNGPAIGLGASILPLCDVVWANEKAWFQTPYTTFGQSPDGCSTVMFPKIMGGASANEMLLSGRKLTAQEACGKGLVSQVFWPGTFTQEVMVRIKELASCNPVVLEESKALVRCNMKMELEQANERECEVLKKIWGSAQGMDSMLKYLQRKIDEF', 'length': 598, 'molWeight': 66482, 'crc64': 'A34E7221130626EC', 'md5': 'BDC022F35E8C327CC885A2635F0435F4'}, 'extraAttributes': {'uniParcId': 'UPI000013DD13'}}\n"
     ]
    },
    {
     "name": "stderr",
     "output_type": "stream",
     "text": [
      "Fetching sequences:  56%|█████▌    | 261/469 [01:58<01:33,  2.23it/s]"
     ]
    },
    {
     "name": "stdout",
     "output_type": "stream",
     "text": [
      "{'entryType': 'UniProtKB reviewed (Swiss-Prot)', 'primaryAccession': 'Q7Z7K6-3', 'proteinDescription': {'recommendedName': {'fullName': {'value': 'Isoform 3 of Centromere protein V'}, 'shortNames': [{'value': 'CENP-V'}]}, 'alternativeNames': [{'fullName': {'value': 'Nuclear protein p30'}}, {'fullName': {'value': 'Proline-rich protein 6'}}]}, 'genes': [{'geneName': {'value': 'CENPV'}, 'synonyms': [{'value': 'PRR6'}]}], 'sequence': {'value': 'MRRSRSSAAAKLRGQKRSGASAAPAASAAAALAPSATRTRRSASQAGSKSQAVEKPPSEKPRLRRSSPRAQEEGPGEPPPPELALLPPPPPPPPTPATPTSSASNLDLGEQRERWETFQKRQKLTSEGAAKLLLDTFEYQGLVKHTGGCHCGAVRFEVWASADLHIFDCNCSICKKKQNRHFIVPASRFKLLKGAEHITTYTFNTHKAQHTFCKRCGVQSFYTPRSNPGGFGIAPHCLDEGTVRSMVTEEFNGSDWEKAMKEHKTIKNMSKE', 'length': 272, 'molWeight': 29731, 'crc64': '3E3A33B9CEBFDB3E', 'md5': '283126EE0FCD355EEE6D4C2C067781CA'}, 'extraAttributes': {'uniParcId': 'UPI000015FC7D'}}\n"
     ]
    },
    {
     "name": "stderr",
     "output_type": "stream",
     "text": [
      "Fetching sequences:  56%|█████▌    | 262/469 [01:58<01:31,  2.25it/s]"
     ]
    },
    {
     "name": "stdout",
     "output_type": "stream",
     "text": [
      "{'entryType': 'UniProtKB reviewed (Swiss-Prot)', 'primaryAccession': 'P78563', 'proteinDescription': {'recommendedName': {'fullName': {'evidences': [{'evidenceCode': 'ECO:0000305'}], 'value': 'Double-stranded RNA-specific editase 1'}, 'ecNumbers': [{'evidences': [{'evidenceCode': 'ECO:0000269', 'source': 'PubMed', 'id': '16141067'}, {'evidenceCode': 'ECO:0000269', 'source': 'PubMed', 'id': '9149227'}], 'value': '3.5.4.37'}]}, 'alternativeNames': [{'fullName': {'value': 'RNA-editing deaminase 1'}}, {'fullName': {'value': 'RNA-editing enzyme 1'}}, {'fullName': {'value': 'dsRNA adenosine deaminase'}}]}, 'genes': [{'geneName': {'evidences': [{'evidenceCode': 'ECO:0000312', 'source': 'HGNC', 'id': 'HGNC:226'}], 'value': 'ADARB1'}, 'synonyms': [{'evidences': [{'evidenceCode': 'ECO:0000303', 'source': 'PubMed', 'id': '32220291'}], 'value': 'ADAR2'}, {'value': 'DRADA2'}, {'value': 'RED1'}]}], 'sequence': {'value': 'MDIEDEENMSSSSTDVKENRNLDNVSPKDGSTPGPGEGSQLSNGGGGGPGRKRPLEEGSNGHSKYRLKKRRKTPGPVLPKNALMQLNEIKPGLQYTLLSQTGPVHAPLFVMSVEVNGQVFEGSGPTKKKAKLHAAEKALRSFVQFPNASEAHLAMGRTLSVNTDFTSDQADFPDTLFNGFETPDKAEPPFYVGSNGDDSFSSSGDLSLSASPVPASLAQPPLPVLPPFPPPSGKNPVMILNELRPGLKYDFLSESGESHAKSFVMSVVVDGQFFEGSGRNKKLAKARAAQSALAAIFNLHLDQTPSRQPIPSEGLQLHLPQVLADAVSRLVLGKFGDLTDNFSSPHARRKVLAGVVMTTGTDVKDAKVISVSTGTKCINGEYMSDRGLALNDCHAEIISRRSLLRFLYTQLELYLNNKDDQKRSIFQKSERGGFRLKENVQFHLYISTSPCGDARIFSPHEPILEGSRSYTQAGVQWCNHGSLQPRPPGLLSDPSTSTFQGAGTTEPADRHPNRKARGQLRTKIESGEGTIPVRSNASIQTWDGVLQGERLLTMSCSDKIARWNVVGIQGSLLSIFVEPIYFSSIILGSLYHGDHLSRAMYQRISNIEDLPPLYTLNKPLLSGISNAEARQPGKAPNFSVNWTVGDSAIEVINATTGKDELGRASRLCKHALYCRWMRVHGKVPSHLLRSKITKPNVYHESKLAAKEYQAAKARLFTAFIKAGLGAWVEKPTEQDQFSLTP', 'length': 741, 'molWeight': 80763, 'crc64': '02B583414DD59C20', 'md5': 'E06B4229B8B7C71819A9C4F8F0E1FE57'}, 'extraAttributes': {'uniParcId': 'UPI0000133622'}}\n"
     ]
    },
    {
     "name": "stderr",
     "output_type": "stream",
     "text": [
      "Fetching sequences:  56%|█████▌    | 263/469 [01:59<01:30,  2.26it/s]"
     ]
    },
    {
     "name": "stdout",
     "output_type": "stream",
     "text": [
      "{'entryType': 'UniProtKB reviewed (Swiss-Prot)', 'primaryAccession': 'P55265', 'proteinDescription': {'recommendedName': {'fullName': {'value': 'Double-stranded RNA-specific adenosine deaminase'}, 'shortNames': [{'evidences': [{'evidenceCode': 'ECO:0000303', 'source': 'PubMed', 'id': '7972084'}], 'value': 'DRADA'}], 'ecNumbers': [{'evidences': [{'evidenceCode': 'ECO:0000269', 'source': 'PubMed', 'id': '7565688'}, {'evidenceCode': 'ECO:0000269', 'source': 'PubMed', 'id': '7972084'}], 'value': '3.5.4.37'}]}, 'alternativeNames': [{'fullName': {'value': '136 kDa double-stranded RNA-binding protein'}, 'shortNames': [{'value': 'p136'}]}, {'fullName': {'value': 'Interferon-inducible protein 4'}, 'shortNames': [{'value': 'IFI-4'}]}, {'fullName': {'value': 'K88DSRBP'}}]}, 'genes': [{'geneName': {'value': 'ADAR'}, 'synonyms': [{'value': 'ADAR1'}, {'value': 'DSRAD'}, {'value': 'G1P1'}, {'value': 'IFI4'}]}], 'sequence': {'value': 'MNPRQGYSLSGYYTHPFQGYEHRQLRYQQPGPGSSPSSFLLKQIEFLKGQLPEAPVIGKQTPSLPPSLPGLRPRFPVLLASSTRGRQVDIRGVPRGVHLRSQGLQRGFQHPSPRGRSLPQRGVDCLSSHFQELSIYQDQEQRILKFLEELGEGKATTAHDLSGKLGTPKKEINRVLYSLAKKGKLQKEAGTPPLWKIAVSTQAWNQHSGVVRPDGHSQGAPNSDPSLEPEDRNSTSVSEDLLEPFIAVSAQAWNQHSGVVRPDSHSQGSPNSDPGLEPEDSNSTSALEDPLEFLDMAEIKEKICDYLFNVSDSSALNLAKNIGLTKARDINAVLIDMERQGDVYRQGTTPPIWHLTDKKRERMQIKRNTNSVPETAPAAIPETKRNAEFLTCNIPTSNASNNMVTTEKVENGQEPVIKLENRQEARPEPARLKPPVHYNGPSKAGYVDFENGQWATDDIPDDLNSIRAAPGEFRAIMEMPSFYSHGLPRCSPYKKLTECQLKNPISGLLEYAQFASQTCEFNMIEQSGPPHEPRFKFQVVINGREFPPAEAGSKKVAKQDAAMKAMTILLEEAKAKDSGKSEESSHYSTEKESEKTAESQTPTPSATSFFSGKSPVTTLLECMHKLGNSCEFRLLSKEGPAHEPKFQYCVAVGAQTFPSVSAPSKKVAKQMAAEEAMKALHGEATNSMASDNQPEGMISESLDNLESMMPNKVRKIGELVRYLNTNPVGGLLEYARSHGFAAEFKLVDQSGPPHEPKFVYQAKVGGRWFPAVCAHSKKQGKQEAADAALRVLIGENEKAERMGFTEVTPVTGASLRRTMLLLSRSPEAQPKTLPLTGSTFHDQIAMLSHRCFNTLTNSFQPSLLGRKILAAIIMKKDSEDMGVVVSLGTGNRCVKGDSLSLKGETVNDCHAEIISRRGFIRFLYSELMKYNSQTAKDSIFEPAKGGEKLQIKKTVSFHLYISTAPCGDGALFDKSCSDRAMESTESRHYPVFENPKQGKLRTKVENGEGTIPVESSDIVPTWDGIRLGERLRTMSCSDKILRWNVLGLQGALLTHFLQPIYLKSVTLGYLFSQGHLTRAICCRVTRDGSAFEDGLRHPFIVNHPKVGRVSIYDSKRQSGKTKETSVNWCLADGYDLEILDGTRGTVDGPRNELSRVSKKNIFLLFKKLCSFRYRRDLLRLSYGEAKKAARDYETAKNYFKKGLKDMGYGNWISKPQEEKNFYLCPV', 'length': 1226, 'molWeight': 136066, 'crc64': '9CE095D6F9C1BC79', 'md5': 'ACF627717D16E0EC9AE130552DEB3872'}, 'extraAttributes': {'uniParcId': 'UPI000045626B'}}\n"
     ]
    },
    {
     "name": "stderr",
     "output_type": "stream",
     "text": [
      "Fetching sequences:  56%|█████▋    | 264/469 [01:59<01:35,  2.15it/s]"
     ]
    },
    {
     "name": "stdout",
     "output_type": "stream",
     "text": [
      "{'entryType': 'UniProtKB reviewed (Swiss-Prot)', 'primaryAccession': 'Q9ULW0', 'proteinDescription': {'recommendedName': {'fullName': {'value': 'Targeting protein for Xklp2'}}, 'alternativeNames': [{'fullName': {'value': 'Differentially expressed in cancerous and non-cancerous lung cells 2'}, 'shortNames': [{'value': 'DIL-2'}]}, {'fullName': {'value': 'Hepatocellular carcinoma-associated antigen 519'}}, {'fullName': {'value': 'Hepatocellular carcinoma-associated antigen 90'}}, {'fullName': {'value': 'Protein fls353'}}, {'fullName': {'value': 'Restricted expression proliferation-associated protein 100'}, 'shortNames': [{'value': 'p100'}]}]}, 'genes': [{'geneName': {'value': 'TPX2'}, 'synonyms': [{'value': 'C20orf1'}, {'value': 'C20orf2'}, {'value': 'DIL2'}, {'value': 'HCA519'}]}], 'sequence': {'value': 'MSQVKSSYSYDAPSDFINFSSLDDEGDTQNIDSWFEEKANLENKLLGKNGTGGLFQGKTPLRKANLQQAIVTPLKPVDNTYYKEAEKENLVEQSIPSNACSSLEVEAAISRKTPAQPQRRSLRLSAQKDLEQKEKHHVKMKAKRCATPVIIDEILPSKKMKVSNNKKKPEEEGSAHQDTAEKNASSPEKAKGRHTVPCMPPAKQKFLKSTEEQELEKSMKMQQEVVEMRKKNEEFKKLALAGIGQPVKKSVSQVTKSVDFHFRTDERIKQHPKNQEEYKEVNFTSELRKHPSSPARVTKGCTIVKPFNLSQGKKRTFDETVSTYVPLAQQVEDFHKRTPNRYHLRSKKDDINLLPSKSSVTKICRDPQTPVLQTKHRARAVTCKSTAELEAEELEKLQQYKFKARELDPRILEGGPILPKKPPVKPPTEPIGFDLEIEKRIQERESKKKTEDEHFEFHSRPCPTKILEDVVGVPEKKVLPITVPKSPAFALKNRIRMPTKEDEEEDEPVVIKAQPVPHYGVPFKPQIPEARTVEICPFSFDSRDKERQLQKEKKIKELQKGEVPKFKALPLPHFDTINLPEKKVKNVTQIEPFCLETDRRGALKAQTWKHQLEEELRQQKEAACFKARPNTVISQEPFVPKKEKKSVAEGLSGSLVQEPFQLATEKRAKERQELEKRMAEVEAQKAQQLEEARLQEEEQKKEELARLRRELVHKANPIRKYQGLEIKSSDQPLTVPVSPKFSTRFHC', 'length': 747, 'molWeight': 85653, 'crc64': 'E028E0BB50BBCA0F', 'md5': 'FDF02B335A62B259C5C1521C397AF5FA'}, 'extraAttributes': {'uniParcId': 'UPI00000015BB'}}\n"
     ]
    },
    {
     "name": "stderr",
     "output_type": "stream",
     "text": [
      "Fetching sequences:  57%|█████▋    | 265/469 [02:00<01:38,  2.08it/s]"
     ]
    },
    {
     "name": "stdout",
     "output_type": "stream",
     "text": [
      "{'entryType': 'UniProtKB reviewed (Swiss-Prot)', 'primaryAccession': 'O00159', 'proteinDescription': {'recommendedName': {'fullName': {'value': 'Unconventional myosin-Ic'}}, 'alternativeNames': [{'fullName': {'value': 'Myosin I beta'}, 'shortNames': [{'value': 'MMI-beta'}, {'value': 'MMIb'}]}]}, 'genes': [{'geneName': {'value': 'MYO1C'}}], 'sequence': {'value': 'MALQVELVPTGEIIRVVHPHRPCKLALGSDGVRVTMESALTARDRVGVQDFVLLENFTSEAAFIENLRRRFRENLIYTYIGPVLVSVNPYRDLQIYSRQHMERYRGVSFYEVPPHLFAVADTVYRALRTERRDQAVMISGESGAGKTEATKRLLQFYAETCPAPERGGAVRDRLLQSNPVLEAFGNAKTLRNDNSSRFGKYMDVQFDFKGAPVGGHILSYLLEKSRVVHQNHGERNFHIFYQLLEGGEEETLRRLGLERNPQSYLYLVKGQCAKVSSINDKSDWKVVRKALTVIDFTEDEVEDLLSIVASVLHLGNIHFAANEESNAQVTTENQLKYLTRLLSVEGSTLREALTHRKIIAKGEELLSPLNLEQAAYARDALAKAVYSRTFTWLVGKINRSLASKDVESPSWRSTTVLGLLDIYGFEVFQHNSFEQFCINYCNEKLQQLFIELTLKSEQEEYEAEGIAWEPVQYFNNKIICDLVEEKFKGIISILDEECLRPGEATDLTFLEKLEDTVKHHPHFLTHKLADQRTRKSLGRGEFRLLHYAGEVTYSVTGFLDKNNDLLFRNLKETMCSSKNPIMSQCFDRSELSDKKRPETVATQFKMSLLQLVEILQSKEPAYVRCIKPNDAKQPGRFDEVLIRHQVKYLGLLENLRVRRAGFAYRRKYEAFLQRYKSLCPETWPTWAGRPQDGVAVLVRHLGYKPEEYKMGRTKIFIRFPKTLFATEDALEVRRQSLATKIQAAWRGFHWRQKFLRVKRSAICIQSWWRGTLGRRKAAKRKWAAQTIRRLIRGFVLRHAPRCPENAFFLDHVRTSFLLNLRRQLPQNVLDTSWPTPPPALREASELLRELCIKNMVWKYCRSISPEWKQQLQQKAVASEIFKGKKDNYPQSVPRLFISTRLGTDEISPRVLQALGSEPIQYAVPVVKYDRKGYKPRSRQLLLTPNAVVIVEDAKVKQRIDYANLTGISVSSLSDSLFVLHVQRADNKQKGDVVLQSDHVIETLTKTALSANRVNSININQGSITFAGGPGRDGTIDFTPGSELLITKAKNGHLAVVAPRLNSR', 'length': 1063, 'molWeight': 121682, 'crc64': 'B105197BA07317B8', 'md5': '43B0FD63A55982A8051C59F3610EAB1D'}, 'extraAttributes': {'uniParcId': 'UPI0000200579'}}\n"
     ]
    },
    {
     "name": "stderr",
     "output_type": "stream",
     "text": [
      "Fetching sequences:  57%|█████▋    | 266/469 [02:00<01:34,  2.14it/s]"
     ]
    },
    {
     "name": "stdout",
     "output_type": "stream",
     "text": [
      "{'entryType': 'UniProtKB reviewed (Swiss-Prot)', 'primaryAccession': 'P17980', 'proteinDescription': {'recommendedName': {'fullName': {'value': '26S proteasome regulatory subunit 6A'}}, 'alternativeNames': [{'fullName': {'value': '26S proteasome AAA-ATPase subunit RPT5'}}, {'fullName': {'value': 'Proteasome 26S subunit ATPase 3'}}, {'fullName': {'value': 'Proteasome subunit P50'}}, {'fullName': {'value': 'Tat-binding protein 1'}, 'shortNames': [{'value': 'TBP-1'}]}]}, 'genes': [{'geneName': {'value': 'PSMC3'}, 'synonyms': [{'value': 'TBP1'}]}], 'sequence': {'value': 'MNLLPNIESPVTRQEKMATVWDEAEQDGIGEEVLKMSTEEIIQRTRLLDSEIKIMKSEVLRVTHELQAMKDKIKENSEKIKVNKTLPYLVSNVIELLDVDPNDQEEDGANIDLDSQRKGKCAVIKTSTRQTYFLPVIGLVDAEKLKPGDLVGVNKDSYLILETLPTEYDSRVKAMEVDERPTEQYSDIGGLDKQIQELVEAIVLPMNHKEKFENLGIQPPKGVLMYGPPGTGKTLLARACAAQTKATFLKLAGPQLVQMFIGDGAKLVRDAFALAKEKAPSIIFIDELDAIGTKRFDSEKAGDREVQRTMLELLNQLDGFQPNTQVKVIAATNRVDILDPALLRSGRLDRKIEFPMPNEEARARIMQIHSRKMNVSPDVNYEELARCTDDFNGAQCKAVCVEAGMIALRRGATELTHEDYMEGILEVQAKKKANLQYYA', 'length': 439, 'molWeight': 49204, 'crc64': '0E443465DDDEBB0B', 'md5': '59C1A1526BB0FC87D995DEC9D4E66EDA'}, 'extraAttributes': {'uniParcId': 'UPI0000132389'}}\n"
     ]
    },
    {
     "name": "stderr",
     "output_type": "stream",
     "text": [
      "Fetching sequences:  57%|█████▋    | 267/469 [02:01<01:33,  2.17it/s]"
     ]
    },
    {
     "name": "stdout",
     "output_type": "stream",
     "text": [
      "{'entryType': 'UniProtKB reviewed (Swiss-Prot)', 'primaryAccession': 'Q9NRW3', 'proteinDescription': {'recommendedName': {'fullName': {'value': 'DNA dC->dU-editing enzyme APOBEC-3C'}, 'shortNames': [{'value': 'A3C'}], 'ecNumbers': [{'value': '3.5.4.38'}]}, 'alternativeNames': [{'fullName': {'value': 'APOBEC1-like'}}, {'fullName': {'value': 'Phorbolin I'}}]}, 'genes': [{'geneName': {'value': 'APOBEC3C'}, 'synonyms': [{'value': 'APOBEC1L'}, {'value': 'PBI'}]}], 'sequence': {'value': 'MNPQIRNPMKAMYPGTFYFQFKNLWEANDRNETWLCFTVEGIKRRSVVSWKTGVFRNQVDSETHCHAERCFLSWFCDDILSPNTKYQVTWYTSWSPCPDCAGEVAEFLARHSNVNLTIFTARLYYFQYPCYQEGLRSLSQEGVAVEIMDYEDFKYCWENFVYNDNEPFKPWKGLKTNFRLLKRRLRESLQ', 'length': 190, 'molWeight': 22826, 'crc64': 'BE49E80F95C71214', 'md5': '862AD0022BDFF098D75C87AB7279F042'}, 'extraAttributes': {'uniParcId': 'UPI0000149A97'}}\n"
     ]
    },
    {
     "name": "stderr",
     "output_type": "stream",
     "text": [
      "Fetching sequences:  57%|█████▋    | 268/469 [02:01<01:34,  2.14it/s]"
     ]
    },
    {
     "name": "stdout",
     "output_type": "stream",
     "text": [
      "{'entryType': 'UniProtKB reviewed (Swiss-Prot)', 'primaryAccession': 'O43172', 'proteinDescription': {'recommendedName': {'fullName': {'value': 'U4/U6 small nuclear ribonucleoprotein Prp4'}}, 'alternativeNames': [{'fullName': {'value': 'PRP4 homolog'}, 'shortNames': [{'value': 'hPrp4'}]}, {'fullName': {'value': 'U4/U6 snRNP 60 kDa protein'}}, {'fullName': {'value': 'WD splicing factor Prp4'}}]}, 'genes': [{'geneName': {'value': 'PRPF4'}, 'synonyms': [{'value': 'PRP4'}]}], 'sequence': {'value': 'MASSRASSTQATKTKAPDDLVAPVVKKPHIYYGSLEEKERERLAKGESGILGKDGLKAGIEAGNINITSGEVFEIEEHISERQAEVLAEFERRKRARQINVSTDDSEVKACLRALGEPITLFGEGPAERRERLRNILSVVGTDALKKTKKDDEKSKKSKEEYQQTWYHEGPNSLKVARLWIANYSLPRAMKRLEEARLHKEIPETTRTSQMQELHKSLRSLNNFCSQIGDDRPISYCHFSPNSKMLATACWSGLCKLWSVPDCNLLHTLRGHNTNVGAIVFHPKSTVSLDPKDVNLASCAADGSVKLWSLDSDEPVADIEGHTVRVARVMWHPSGRFLGTTCYDRSWRLWDLEAQEEILHQEGHSMGVYDIAFHQDGSLAGTGGLDAFGRVWDLRTGRCIMFLEGHLKEIYGINFSPNGYHIATGSGDNTCKVWDLRQRRCVYTIPAHQNLVTGVKFEPIHGNFLLTGAYDNTAKIWTHPGWSPLKTLAGHEGKVMGLDISSDGQLIATCSYDRTFKLWMAE', 'length': 522, 'molWeight': 58449, 'crc64': '08975A26D0B21857', 'md5': 'AC533F2D5CF7A9B7E94D376CB562BD78'}, 'extraAttributes': {'uniParcId': 'UPI0000132340'}}\n"
     ]
    },
    {
     "name": "stderr",
     "output_type": "stream",
     "text": [
      "Fetching sequences:  57%|█████▋    | 269/469 [02:02<01:31,  2.17it/s]"
     ]
    },
    {
     "name": "stdout",
     "output_type": "stream",
     "text": [
      "{'entryType': 'UniProtKB reviewed (Swiss-Prot)', 'primaryAccession': 'P62306', 'proteinDescription': {'recommendedName': {'fullName': {'value': 'Small nuclear ribonucleoprotein F'}, 'shortNames': [{'value': 'snRNP-F'}]}, 'alternativeNames': [{'fullName': {'value': 'Sm protein F'}, 'shortNames': [{'value': 'Sm-F'}, {'value': 'SmF'}]}]}, 'genes': [{'geneName': {'value': 'SNRPF'}, 'synonyms': [{'value': 'PBSCF'}]}], 'sequence': {'value': 'MSLPLNPKPFLNGLTGKPVMVKLKWGMEYKGYLVSVDGYMNMQLANTEEYIDGALSGHLGEVLIRCNNVLYIRGVEEEEEDGEMRE', 'length': 86, 'molWeight': 9725, 'crc64': '416B88D575DAE58A', 'md5': '7E58EDC962BA9545DE21A9CDA848F96D'}, 'extraAttributes': {'uniParcId': 'UPI0000027DBC'}}\n"
     ]
    },
    {
     "name": "stderr",
     "output_type": "stream",
     "text": [
      "Fetching sequences:  58%|█████▊    | 270/469 [02:02<01:30,  2.21it/s]"
     ]
    },
    {
     "name": "stdout",
     "output_type": "stream",
     "text": [
      "{'entryType': 'UniProtKB reviewed (Swiss-Prot)', 'primaryAccession': 'P52597', 'proteinDescription': {'recommendedName': {'fullName': {'value': 'Heterogeneous nuclear ribonucleoprotein F'}, 'shortNames': [{'value': 'hnRNP F'}]}, 'alternativeNames': [{'fullName': {'value': 'Nucleolin-like protein mcs94-1'}}], 'contains': [{'recommendedName': {'fullName': {'value': 'Heterogeneous nuclear ribonucleoprotein F, N-terminally processed'}}}]}, 'genes': [{'geneName': {'value': 'HNRNPF'}, 'synonyms': [{'value': 'HNRPF'}]}], 'sequence': {'value': 'MMLGPEGGEGFVVKLRGLPWSCSVEDVQNFLSDCTIHDGAAGVHFIYTREGRQSGEAFVELGSEDDVKMALKKDRESMGHRYIEVFKSHRTEMDWVLKHSGPNSADSANDGFVRLRGLPFGCTKEEIVQFFSGLEIVPNGITLPVDPEGKITGEAFVQFASQELAEKALGKHKERIGHRYIEVFKSSQEEVRSYSDPPLKFMSVQRPGPYDRPGTARRYIGIVKQAGLERMRPGAYSTGYGGYEEYSGLSDGYGFTTDLFGRDLSYCLSGMYDHRYGDSEFTVQSTTGHCVHMRGLPYKATENDIYNFFSPLNPVRVHIEIGPDGRVTGEADVEFATHEEAVAAMSKDRANMQHRYIELFLNSTTGASNGAYSSQVMQGMGVSAAQATYSGLESQSVSGCYGAGYSGQNSMGGYD', 'length': 415, 'molWeight': 45672, 'crc64': 'D14E170631FB1F31', 'md5': 'A0214FEE822D384FF4C5348E374EBB8B'}, 'extraAttributes': {'uniParcId': 'UPI0000000C5C'}}\n"
     ]
    },
    {
     "name": "stderr",
     "output_type": "stream",
     "text": [
      "Fetching sequences:  58%|█████▊    | 271/469 [02:02<01:29,  2.22it/s]"
     ]
    },
    {
     "name": "stdout",
     "output_type": "stream",
     "text": [
      "{'entryType': 'UniProtKB reviewed (Swiss-Prot)', 'primaryAccession': 'Q9UBU9', 'proteinDescription': {'recommendedName': {'fullName': {'value': 'Nuclear RNA export factor 1'}}, 'alternativeNames': [{'fullName': {'value': 'Tip-associated protein'}}, {'fullName': {'value': 'Tip-associating protein'}}, {'fullName': {'value': 'mRNA export factor TAP'}}]}, 'genes': [{'geneName': {'value': 'NXF1'}, 'synonyms': [{'value': 'TAP'}]}], 'sequence': {'value': 'MADEGKSYSEHDDERVNFPQRKKKGRGPFRWKYGEGNRRSGRGGSGIRSSRLEEDDGDVAMSDAQDGPRVRYNPYTTRPNRRGDTWHDRDRIHVTVRRDRAPPERGGAGTSQDGTSKNWFKITIPYGRKYDKAWLLSMIQSKCSVPFTPIEFHYENTRAQFFVEDASTASALKAVNYKILDRENRRISIIINSSAPPHTILNELKPEQVEQLKLIMSKRYDGSQQALDLKGLRSDPDLVAQNIDVVLNRRSCMAATLRIIEENIPELLSLNLSNNRLYRLDDMSSIVQKAPNLKILNLSGNELKSERELDKIKGLKLEELWLDGNSLCDTFRDQSTYISAIRERFPKLLRLDGHELPPPIAFDVEAPTTLPPCKGSYFGTENLKSLVLHFLQQYYAIYDSGDRQGLLDAYHDGACCSLSIPFIPQNPARSSLAEYFKDSRNVKKLKDPTLRFRLLKHTRLNVVAFLNELPKTQHDVNSFVVDISAQTSTLLCFSVNGVFKEVDGKSRDSLRAFTRTFIAVPASNSGLCIVNDELFVRNASSEEIQRAFAMPAPTPSSSPVPTLSPEQQEMLQAFSTQSGMNLEWSQKCLQDNNWDYTRSAQAFTHLKAKGEIPEVAFMK', 'length': 619, 'molWeight': 70182, 'crc64': '338872AADA789FBF', 'md5': 'E5EE0510D5E5B21769EC2369323734AB'}, 'extraAttributes': {'uniParcId': 'UPI00000012B9'}}\n"
     ]
    },
    {
     "name": "stderr",
     "output_type": "stream",
     "text": [
      "Fetching sequences:  58%|█████▊    | 272/469 [02:03<01:28,  2.24it/s]"
     ]
    },
    {
     "name": "stdout",
     "output_type": "stream",
     "text": [
      "{'entryType': 'UniProtKB reviewed (Swiss-Prot)', 'primaryAccession': 'P22626', 'proteinDescription': {'recommendedName': {'fullName': {'value': 'Heterogeneous nuclear ribonucleoproteins A2/B1'}, 'shortNames': [{'value': 'hnRNP A2/B1'}]}}, 'genes': [{'geneName': {'value': 'HNRNPA2B1'}, 'synonyms': [{'value': 'HNRPA2B1'}]}], 'sequence': {'value': 'MEKTLETVPLERKKREKEQFRKLFIGGLSFETTEESLRNYYEQWGKLTDCVVMRDPASKRSRGFGFVTFSSMAEVDAAMAARPHSIDGRVVEPKRAVAREESGKPGAHVTVKKLFVGGIKEDTEEHHLRDYFEEYGKIDTIEIITDRQSGKKRGFGFVTFDDHDPVDKIVLQKYHTINGHNAEVRKALSRQEMQEVQSSRSGRGGNFGFGDSRGGGGNFGPGPGSNFRGGSDGYGSGRGFGDGYNGYGGGPGGGNFGGSPGYGGGRGGYGGGGPGYGNQGGGYGGGYDNYGGGNYGSGNYNDFGNYNQQPSNYGPMKSGNFGGSRNMGGPYGGGNYGPGGSGGSGGYGGRSRY', 'length': 353, 'molWeight': 37430, 'crc64': '4C2560A3D8E99D62', 'md5': '388BDBC10EA0CB2884AA8C4789B26D14'}, 'extraAttributes': {'uniParcId': 'UPI000002F091'}}\n"
     ]
    },
    {
     "name": "stderr",
     "output_type": "stream",
     "text": [
      "Fetching sequences:  58%|█████▊    | 273/469 [02:03<01:27,  2.25it/s]"
     ]
    },
    {
     "name": "stdout",
     "output_type": "stream",
     "text": [
      "{'entryType': 'UniProtKB reviewed (Swiss-Prot)', 'primaryAccession': 'Q9NQS7', 'proteinDescription': {'recommendedName': {'fullName': {'value': 'Inner centromere protein'}}}, 'genes': [{'geneName': {'value': 'INCENP'}}], 'sequence': {'value': 'MGTTAPGPIHLLELCDQKLMEFLCNMDNKDLVWLEEIQEEAERMFTREFSKEPELMPKTPSQKNRRKKRRISYVQDENRDPIRRRLSRRKSRSSQLSSRRLRSKDSVEKLATVVGENGSVLRRVTRAAAAAAAATMALAAPSSPTPESPTMLTKKPEDNHTQCQLVPVVEIGISERQNAEQHVTQLMSTEPLPRTLSPTPASATAPTSQGIPTSDEESTPKKSKARILESITVSSLMATPQDPKGQGVGTGRSASKLRIAQVSPGPRDSPAFPDSPWRERVLAPILPDNFSTPTGSRTDSQSVRHSPIAPSSPSPQVLAQKYSLVAKQESVVRRASRRLAKKTAEEPAASGRIICHSYLERLLNVEVPQKVGSEQKEPPEEAEPVAAAEPEVPENNGNNSWPHNDTEIANSTPNPKPAASSPETPSAGQQEAKTDQADGPREPPQSARRKRSYKQAVSELDEEQHLEDEELQPPRSKTPSSPCPASKVVRPLRTFLHTVQRNQMLMTPTSAPRSVMKSFIKRNTPLRMDPKCSFVEKERQRLENLRRKEEAEQLRRQKVEEDKRRRLEEVKLKREERLRKVLQARERVEQMKEEKKKQIEQKFAQIDEKTEKAKEERLAEEKAKKKAAAKKMEEVEARRKQEEEARRLRWLQQEEEERRHQELLQKKKEEEQERLRKAAEAKRLAEQREQERREQERREQERREQERREQERREQERQLAEQERRREQERLQAERELQEREKALRLQKEQLQRELEEKKKKEEQQRLAERQLQEEQEKKAKEAAGASKALNVTVDVQSPACTSYQMTPQGHRAPPKINPDNYGMDLNSDDSTDDEAHPRKPIPTWARGTPLSQAIIHQYYHPPNLLELFGTILPLDLEDIFKKSKPRYHKRTSSAVWNSPPLQGARVPSSLAYSLKKH', 'length': 918, 'molWeight': 105429, 'crc64': '644D081DCC9035E8', 'md5': '5C0E61162C9E3E983849244F6F95BAD8'}, 'extraAttributes': {'uniParcId': 'UPI0000D7D6F3'}}\n"
     ]
    },
    {
     "name": "stderr",
     "output_type": "stream",
     "text": [
      "Fetching sequences:  58%|█████▊    | 274/469 [02:04<01:26,  2.25it/s]"
     ]
    },
    {
     "name": "stdout",
     "output_type": "stream",
     "text": [
      "{'entryType': 'UniProtKB reviewed (Swiss-Prot)', 'primaryAccession': 'P62308', 'proteinDescription': {'recommendedName': {'fullName': {'value': 'Small nuclear ribonucleoprotein G'}, 'shortNames': [{'value': 'snRNP-G'}]}, 'alternativeNames': [{'fullName': {'value': 'Sm protein G'}, 'shortNames': [{'value': 'Sm-G'}, {'value': 'SmG'}]}]}, 'genes': [{'geneName': {'value': 'SNRPG'}, 'synonyms': [{'value': 'PBSCG'}]}], 'sequence': {'value': 'MSKAHPPELKKFMDKKLSLKLNGGRHVQGILRGFDPFMNLVIDECVEMATSGQQNNIGMVVIRGNSIIMLEALERV', 'length': 76, 'molWeight': 8496, 'crc64': '623302BF6BE758FE', 'md5': '61EB17685D86040FCDC95D11AF333D11'}, 'extraAttributes': {'uniParcId': 'UPI0000022287'}}\n"
     ]
    },
    {
     "name": "stderr",
     "output_type": "stream",
     "text": [
      "Fetching sequences:  59%|█████▊    | 275/469 [02:04<01:26,  2.24it/s]"
     ]
    },
    {
     "name": "stdout",
     "output_type": "stream",
     "text": [
      "{'entryType': 'UniProtKB reviewed (Swiss-Prot)', 'primaryAccession': 'P38432', 'proteinDescription': {'recommendedName': {'fullName': {'value': 'Coilin'}}, 'alternativeNames': [{'fullName': {'value': 'p80-coilin'}}]}, 'genes': [{'geneName': {'value': 'COIL'}, 'synonyms': [{'value': 'CLN80'}]}], 'sequence': {'value': 'MAASETVRLRLQFDYPPPATPHCTAFWLLVDLNRCRVVTDLISLIRQRFGFSSGAFLGLYLEGGLLPPAESARLVRDNDCLRVKLEERGVAENSVVISNGDINLSLRKAKKRAFQLEEGEETEPDCKYSKKHWKSRENNNNNEKVLDLEPKAVTDQTVSKKNKRKNKATCGTVGDDNEEAKRKSPKKKEKCEYKKKAKNPKSPKVQAVKDWANQRCSSPKGSARNSLVKAKRKGSVSVCSKESPSSSSESESCDESISDGPSKVTLEARNSSEKLPTELSKEEPSTKNTTADKLAIKLGFSLTPSKGKTSGTTSSSSDSSAESDDQCLMSSSTPECAAGFLKTVGLFAGRGRPGPGLSSQTAGAAGWRRSGSNGGGQAPGASPSVSLPASLGRGWGREENLFSWKGAKGRGMRGRGRGRGHPVSCVVNRSTDNQRQQQLNDVVKNSSTIIQNPVETPKKDYSLLPLLAAAPQVGEKIAFKLLELTSSYSPDVSDYKEGRILSHNPETQQVDIEILSSLPALREPGKFDLVYHNENGAEVVEYAVTQESKITVFWKELIDPRLIIESPSNTSSTEPA', 'length': 576, 'molWeight': 62608, 'crc64': '879702B590F16849', 'md5': 'B8B185C360F66793EF57119BC173977F'}, 'extraAttributes': {'uniParcId': 'UPI0000131068'}}\n"
     ]
    },
    {
     "name": "stderr",
     "output_type": "stream",
     "text": [
      "Fetching sequences:  59%|█████▉    | 276/469 [02:05<01:26,  2.24it/s]"
     ]
    },
    {
     "name": "stdout",
     "output_type": "stream",
     "text": [
      "{'entryType': 'UniProtKB reviewed (Swiss-Prot)', 'primaryAccession': 'Q9Y3B4', 'proteinDescription': {'recommendedName': {'fullName': {'value': 'Splicing factor 3B subunit 6'}}, 'alternativeNames': [{'fullName': {'value': 'Pre-mRNA branch site protein p14'}}, {'fullName': {'value': 'SF3b 14 kDa subunit'}, 'shortNames': [{'value': 'SF3B14a'}]}, {'fullName': {'value': 'Spliceosome-associated protein, 14-kDa'}}, {'fullName': {'value': 'Splicing factor 3b, subunit 6, 14kDa'}}]}, 'genes': [{'geneName': {'value': 'SF3B6'}, 'synonyms': [{'value': 'SAP14'}, {'value': 'SF3B14'}, {'value': 'SF3B14A'}], 'orfNames': [{'value': 'CGI-110'}, {'value': 'HSPC175'}, {'value': 'HT006'}]}], 'sequence': {'value': 'MAMQAAKRANIRLPPEVNRILYIRNLPYKITAEEMYDIFGKYGPIRQIRVGNTPETRGTAYVVYEDIFDAKNACDHLSGFNVCNRYLVVLYYNANRAFQKMDTKKKEEQLKLLKEKYGINTDPPK', 'length': 125, 'molWeight': 14585, 'crc64': 'A1439DACB78A3208', 'md5': '2DB8712EE1EF4D7969D95BC333E1945F'}, 'extraAttributes': {'uniParcId': 'UPI0000000963'}}\n"
     ]
    },
    {
     "name": "stderr",
     "output_type": "stream",
     "text": [
      "Fetching sequences:  59%|█████▉    | 277/469 [02:05<01:25,  2.24it/s]"
     ]
    },
    {
     "name": "stdout",
     "output_type": "stream",
     "text": [
      "{'entryType': 'UniProtKB reviewed (Swiss-Prot)', 'primaryAccession': 'Q9BWT6', 'proteinDescription': {'recommendedName': {'fullName': {'value': 'Meiotic nuclear division protein 1 homolog'}}}, 'genes': [{'geneName': {'evidences': [{'evidenceCode': 'ECO:0000312', 'source': 'EMBL', 'id': 'EAX04964.1'}], 'value': 'MND1'}, 'synonyms': [{'evidences': [{'evidenceCode': 'ECO:0000312', 'source': 'EMBL', 'id': 'AAK26168.1'}], 'value': 'GAJ'}]}], 'sequence': {'value': 'MSKKKGLSAEEKRTRMMEIFSETKDVFQLKDLEKIAPKEKGITAMSVKEVLQSLVDDGMVDCERIGTSNYYWAFPSKALHARKHKLEVLESQLSEGSQKHASLQKSIEKAKIGRCETEERTRLAKELSSLRDQREQLKAEVEKYKDCDPQVVEEIRQANKVAKEAANRWTDNIFAIKSWAKRKFGFEENKIDRTFGIPEDFDYID', 'length': 205, 'molWeight': 23753, 'crc64': '95B0B14068DA0B51', 'md5': '47FFA110CE4BAA6F59E995381AFF743D'}, 'extraAttributes': {'uniParcId': 'UPI000006EAB8'}}\n"
     ]
    },
    {
     "name": "stderr",
     "output_type": "stream",
     "text": [
      "Fetching sequences:  59%|█████▉    | 278/469 [02:06<01:24,  2.26it/s]"
     ]
    },
    {
     "name": "stdout",
     "output_type": "stream",
     "text": [
      "{'entryType': 'UniProtKB reviewed (Swiss-Prot)', 'primaryAccession': 'P23246', 'proteinDescription': {'recommendedName': {'fullName': {'value': 'Splicing factor, proline- and glutamine-rich'}}, 'alternativeNames': [{'fullName': {'value': '100 kDa DNA-pairing protein'}, 'shortNames': [{'value': 'hPOMp100'}]}, {'fullName': {'value': 'DNA-binding p52/p100 complex, 100 kDa subunit'}}, {'fullName': {'evidences': [{'evidenceCode': 'ECO:0000303', 'source': 'PubMed', 'id': '9848648'}], 'value': 'Polypyrimidine tract-binding protein-associated-splicing factor'}, 'shortNames': [{'evidences': [{'evidenceCode': 'ECO:0000303', 'source': 'PubMed', 'id': '8449401'}], 'value': 'PSF'}, {'value': 'PTB-associated-splicing factor'}]}]}, 'genes': [{'geneName': {'value': 'SFPQ'}, 'synonyms': [{'value': 'PSF'}]}], 'sequence': {'value': 'MSRDRFRSRGGGGGGFHRRGGGGGRGGLHDFRSPPPGMGLNQNRGPMGPGPGQSGPKPPIPPPPPHQQQQQPPPQQPPPQQPPPHQPPPHPQPHQQQQPPPPPQDSSKPVVAQGPGPAPGVGSAPPASSSAPPATPPTSGAPPGSGPGPTPTPPPAVTSAPPGAPPPTPPSSGVPTTPPQAGGPPPPPAAVPGPGPGPKQGPGPGGPKGGKMPGGPKPGGGPGLSTPGGHPKPPHRGGGEPRGGRQHHPPYHQQHHQGPPPGGPGGRSEEKISDSEGFKANLSLLRRPGEKTYTQRCRLFVGNLPADITEDEFKRLFAKYGEPGEVFINKGKGFGFIKLESRALAEIAKAELDDTPMRGRQLRVRFATHAAALSVRNLSPYVSNELLEEAFSQFGPIERAVVIVDDRGRSTGKGIVEFASKPAARKAFERCSEGVFLLTTTPRPVIVEPLEQLDDEDGLPEKLAQKNPMYQKERETPPRFAQHGTFEYEYSQRWKSLDEMEKQQREQVEKNMKDAKDKLESEMEDAYHEHQANLLRQDLMRRQEELRRMEELHNQEMQKRKEMQLRQEEERRRREEEMMIRQREMEEQMRRQREESYSRMGYMDPRERDMRMGGGGAMNMGDPYGSGGQKFPPLGGGGGIGYEANPGVPPATMSGSMMGSDMRTERFGQGGAGPVGGQGPRGMGPGTPAGYGRGREEYEGPNKKPRF', 'length': 707, 'molWeight': 76149, 'crc64': '6D8D5EA95E235847', 'md5': '6CCCF6A607FBF8CAD29B6AA81963D8F6'}, 'extraAttributes': {'uniParcId': 'UPI00001358B9'}}\n"
     ]
    },
    {
     "name": "stderr",
     "output_type": "stream",
     "text": [
      "Fetching sequences:  59%|█████▉    | 279/469 [02:06<01:25,  2.22it/s]"
     ]
    },
    {
     "name": "stdout",
     "output_type": "stream",
     "text": [
      "{'entryType': 'UniProtKB reviewed (Swiss-Prot)', 'primaryAccession': 'Q9BSC4', 'proteinDescription': {'recommendedName': {'fullName': {'value': 'Nucleolar protein 10'}}}, 'genes': [{'geneName': {'value': 'NOL10'}}], 'sequence': {'value': 'MQVSSLNEVKIYSLSCGKSLPEWLSDRKKRALQKKDVDVRRRIELIQDFEMPTVCTTIKVSKDGQYILATGTYKPRVRCYDTYQLSLKFERCLDSEVVTFEILSDDYSKIVFLHNDRYIEFHSQSGFYYKTRIPKFGRDFSYHYPSCDLYFVGASSEVYRLNLEQGRYLNPLQTDAAENNVCDINSVHGLFATGTIEGRVECWDPRTRNRVGLLDCALNSVTADSEINSLPTISALKFNGALTMAVGTTTGQVLLYDLRSDKPLLVKDHQYGLPIKSVHFQDSLDLILSADSRIVKMWNKNSGKIFTSLEPEHDLNDVCLYPNSGMLLTANETPKMGIYYIPVLGPAPRWCSFLDNLTEELEENPESTVYDDYKFVTKKDLENLGLTHLIGSPFLRAYMHGFFMDIRLYHKVKLMVNPFAYEEYRKDKIRQKIEETRAQRVQLKKLPKVNKELALKLIEEEEEKQKSTWKKKVKSLPNILTDDRFKVMFENPDFQVDEESEEFRLLNPLVSKISEKRKKKLRLLEQQELREKEEEEEPEGKPSDAESSESSDDEKAWVEEVRKQRRLLQQEEKVKRQERLKEDQQTVLKPQFYEIKAGEEFRSFKDSATKQKLMNKTLEDRLKIEAKNGTLSVSDTTVGSKQLTFTLKRSEQQKKQQEAEKLHRQERKRLRRSAGHLKSRHKRGRSFH', 'length': 688, 'molWeight': 80302, 'crc64': '27C3C9E0D7A4FA33', 'md5': '93DCF0452F2AD41B8EDB46DD1F99D5B5'}, 'extraAttributes': {'uniParcId': 'UPI000006F6E2'}}\n"
     ]
    },
    {
     "name": "stderr",
     "output_type": "stream",
     "text": [
      "Fetching sequences:  60%|█████▉    | 280/469 [02:06<01:24,  2.23it/s]"
     ]
    },
    {
     "name": "stdout",
     "output_type": "stream",
     "text": [
      "{'entryType': 'UniProtKB reviewed (Swiss-Prot)', 'primaryAccession': 'Q9NPI1', 'proteinDescription': {'recommendedName': {'fullName': {'value': 'Bromodomain-containing protein 7'}}, 'alternativeNames': [{'fullName': {'value': '75 kDa bromodomain protein'}}, {'fullName': {'value': 'Protein CELTIX-1'}}]}, 'genes': [{'geneName': {'value': 'BRD7'}, 'synonyms': [{'value': 'BP75'}, {'value': 'CELTIX1'}]}], 'sequence': {'value': 'MGKKHKKHKSDKHLYEEYVEKPLKLVLKVGGNEVTELSTGSSGHDSSLFEDKNDHDKHKDRKRKKRKKGEKQIPGEEKGRKRRRVKEDKKKRDRDRVENEAEKDLQCHAPVRLDLPPEKPLTSSLAKQEEVEQTPLQEALNQLMRQLQRKDPSAFFSFPVTDFIAPGYSMIIKHPMDFSTMKEKIKNNDYQSIEELKDNFKLMCTNAMIYNKPETIYYKAAKKLLHSGMKILSQERIQSLKQSIDFMADLQKTRKQKDGTDTSQSGEDGGCWQREREDSGDAEAHAFKSPSKENKKKDKDMLEDKFKSNNLEREQEQLDRIVKESGGKLTRRLVNSQCEFERRKPDGTTTLGLLHPVDPIVGEPGYCPVRLGMTTGRLQSGVNTLQGFKEDKRNKVTPVLYLNYGPYSSYAPHYDSTFANISKDDSDLIYSTYGEDSDLPSDFSIHEFLATCQDYPYVMADSLLDVLTKGGHSRTLQEMEMSLPEDEGHTRTLDTAKEMEITEVEPPGRLDSSTQDRLIALKAVTNFGVPVEVFDSEEAEIFQKKLDETTRLLRELQEAQNERLSTRPPPNMICLLGPSYREMHLAEQVTNNLKELAQQVTPGDIVSTYGVRKAMGISIPSPVMENNFVDLTEDTEEPKKTDVAECGPGGS', 'length': 651, 'molWeight': 74139, 'crc64': '29B7947644C215E7', 'md5': 'F6303CFBB7527177024A1D138993500D'}, 'extraAttributes': {'uniParcId': 'UPI0000073E3C'}}\n"
     ]
    },
    {
     "name": "stderr",
     "output_type": "stream",
     "text": [
      "Fetching sequences:  60%|█████▉    | 281/469 [02:07<01:23,  2.24it/s]"
     ]
    },
    {
     "name": "stdout",
     "output_type": "stream",
     "text": [
      "{'entryType': 'Inactive', 'primaryAccession': 'P08107', 'inactiveReason': {'inactiveReasonType': 'DEMERGED', 'mergeDemergeTo': ['P0DMV9', 'P0DMV8']}}\n"
     ]
    },
    {
     "name": "stderr",
     "output_type": "stream",
     "text": [
      "Fetching sequences:  60%|██████    | 282/469 [02:07<01:23,  2.24it/s]"
     ]
    },
    {
     "name": "stdout",
     "output_type": "stream",
     "text": [
      "{'entryType': 'UniProtKB reviewed (Swiss-Prot)', 'primaryAccession': 'Q9H8M2', 'proteinDescription': {'recommendedName': {'fullName': {'value': 'Bromodomain-containing protein 9'}}, 'alternativeNames': [{'fullName': {'value': 'Rhabdomyosarcoma antigen MU-RMS-40.8'}}]}, 'genes': [{'geneName': {'value': 'BRD9'}, 'orfNames': [{'value': 'UNQ3040/PRO9856'}]}], 'sequence': {'value': 'MGKKHKKHKAEWRSSYEDYADKPLEKPLKLVLKVGGSEVTELSGSGHDSSYYDDRSDHERERHKEKKKKKKKKSEKEKHLDDEERRKRKEEKKRKREREHCDTEGEADDFDPGKKVEVEPPPDRPVRACRTQPAENESTPIQQLLEHFLRQLQRKDPHGFFAFPVTDAIAPGYSMIIKHPMDFGTMKDKIVANEYKSVTEFKADFKLMCDNAMTYNRPDTVYYKLAKKILHAGFKMMSKQAALLGNEDTAVEEPVPEVVPVQVETAKKSKKPSREVISCMFEPEGNACSLTDSTAEEHVLALVEHAADEARDRINRFLPGGKMGYLKRNGDGSLLYSVVNTAEPDADEEETHPVDLSSLSSKLLPGFTTLGFKDERRNKVTFLSSATTALSMQNNSVFGDLKSDEMELLYSAYGDETGVQCALSLQEFVKDAGSYSKKVVDDLLDQITGGDHSRTLFQLKQRRNVPMKPPDEAKVGDTLGDSSSSVLEFMSMKSYPDVSVDISMLSSLGKVKKELDPDDSHLNLDETTKLLQDLHEAQAERGGSRPSSNLSSLSNASERDQHHLGSPSRLSVGEQPDVTHDPYEFLQSPEPAASAKT', 'length': 597, 'molWeight': 67000, 'crc64': '3B248FA97948266E', 'md5': '5F87C42388CE74D1E87D105C6E169A0A'}, 'extraAttributes': {'uniParcId': 'UPI000020BEBE'}}\n"
     ]
    },
    {
     "name": "stderr",
     "output_type": "stream",
     "text": [
      "Fetching sequences:  60%|██████    | 283/469 [02:08<01:23,  2.23it/s]"
     ]
    },
    {
     "name": "stdout",
     "output_type": "stream",
     "text": [
      "{'entryType': 'UniProtKB reviewed (Swiss-Prot)', 'primaryAccession': 'P46013-2', 'proteinDescription': {'recommendedName': {'fullName': {'evidences': [{'evidenceCode': 'ECO:0000305'}], 'value': 'Isoform Short of Proliferation marker protein Ki-67'}}, 'alternativeNames': [{'fullName': {'evidences': [{'evidenceCode': 'ECO:0000303', 'source': 'PubMed', 'id': '8227122'}], 'value': 'Antigen identified by monoclonal antibody Ki-67'}, 'shortNames': [{'evidences': [{'evidenceCode': 'ECO:0000305'}], 'value': 'Antigen KI-67'}, {'evidences': [{'evidenceCode': 'ECO:0000305'}], 'value': 'Antigen Ki67'}]}]}, 'genes': [{'geneName': {'evidences': [{'evidenceCode': 'ECO:0000312', 'source': 'HGNC', 'id': 'HGNC:7107'}], 'value': 'MKI67'}}], 'sequence': {'value': 'MWPTRRLVTIKRSGVDGPHFPLSLSTCLFGRGIECDIRIQLPVVSKQHCKIEIHEQEAILHNFSSTNPTQVNGSVIDEPVRLKHGDVITIIDRSFRYENESLQNGRKSTEFPRKIREQEPARRVSRSSFSSDPDESEGIPLKRRRVSFGGHLRPELFDENLPPNTPLKRGEAPTKRKSLVMHTPPVLKKIIKEQPQPSGKQESGSEIHVEVKAQSLVISPPAPSPRKTPVASDQRRRSCKTAPASSSKSQTEVPKRGGRKSGNLPSKRVSISRSQHDILQMICSKRRSGASEANLIVAKSWADVVKLGAKQTQTKVIKHGPQRSMNKRQRRPATPKKPVGEVHSQFSTGHANSPCTIIIGKAHTEKVHVPARPYRVLNNFISNQKMDFKEDLSGIAEMFKTPVKEQPQLTSTCHIAISNSENLLGKQFQGTDSGEEPLLPTSESFGGNVFFSAQNAAKQPSDKCSASPPLRRQCIRENGNVAKTPRNTYKMTSLETKTSDTETEPSKTVSTANRSGRSTEFRNIQKLPVESKSEETNTEIVECILKRGQKATLLQQRREGEMKEIERPFETYKENIELKENDEKMKAMKRSRTWGQKCAPMSDLTDLKSLPDTELMKDTARGQNLLQTQDHAKAPKSEKGKITKMPCQSLQPEPINTPTHTKQQLKASLGKVGVKEELLAVGKFTRTSGETTHTHREPAGDGKSIRTFKESPKQILDPAARVTGMKKWPRTPKEEAQSLEDLAGFKELFQTPGPSEESMTDEKTTKIACKSPPPESVDTPTSTKQWPKRSLRKADVEEEFLALRKLTPSAGKAMLTPKPAGGDEKDIKAFMGTPVQKLDLAGTLPGSKRQLQTPKEKAQALEDLAGFKELFQTPGHTEELVAAGKTTKIPCDSPQSDPVDTPTSTKQRPKRSIRKADVEGELLACRNLMPSAGKAMHTPKPSVGEEKDIIIFVGTPVQKLDLTENLTGSKRRPQTPKEEAQALEDLTGFKELFQTPGHTEEAVAAGKTTKMPCESSPPESADTPTSTRRQPKTPLEKRDVQKELSALKKLTQTSGETTHTDKVPGGEDKSINAFRETAKQKLDPAASVTGSKRHPKTKEKAQPLEDLAGLKELFQTPVCTDKPTTHEKTTKIACRSQPDPVDTPTSSKPQSKRSLRKVDVEEEFFALRKRTPSAGKAMHTPKPAVSGEKNIYAFMGTPVQKLDLTENLTGSKRRLQTPKEKAQALEDLAGFKELFQTRGHTEESMTNDKTAKVACKSSQPDPDKNPASSKRRLKTSLGKVGVKEELLAVGKLTQTSGETTHTHTEPTGDGKSMKAFMESPKQILDSAASLTGSKRQLRTPKGKSEVPEDLAGFIELFQTPSHTKESMTNEKTTKVSYRASQPDLVDTPTSSKPQPKRSLRKADTEEEFLAFRKQTPSAGKAMHTPKPAVGEEKDINTFLGTPVQKLDQPGNLPGSNRRLQTRKEKAQALEELTGFRELFQTPCTDNPTTDEKTTKKILCKSPQSDPADTPTNTKQRPKRSLKKADVEEEFLAFRKLTPSAGKAMHTPKAAVGEEKDINTFVGTPVEKLDLLGNLPGSKRRPQTPKEKAKALEDLAGFKELFQTPGHTEESMTDDKITEVSCKSPQPDPVKTPTSSKQRLKISLGKVGVKEEVLPVGKLTQTSGKTTQTHRETAGDGKSIKAFKESAKQMLDPANYGTGMERWPRTPKEEAQSLEDLAGFKELFQTPDHTEESTTDDKTTKIACKSPPPESMDTPTSTRRRPKTPLGKRDIVEELSALKQLTQTTHTDKVPGDEDKGINVFRETAKQKLDPAASVTGSKRQPRTPKGKAQPLEDLAGLKELFQTPICTDKPTTHEKTTKIACRSPQPDPVGTPTIFKPQSKRSLRKADVEEESLALRKRTPSVGKAMDTPKPAGGDEKDMKAFMGTPVQKLDLPGNLPGSKRWPQTPKEKAQALEDLAGFKELFQTPGTDKPTTDEKTTKIACKSPQPDPVDTPASTKQRPKRNLRKADVEEEFLALRKRTPSAGKAMDTPKPAVSDEKNINTFVETPVQKLDLLGNLPGSKRQPQTPKEKAEALEDLVGFKELFQTPGHTEESMTDDKITEVSCKSPQPESFKTSRSSKQRLKIPLVKVDMKEEPLAVSKLTRTSGETTQTHTEPTGDSKSIKAFKESPKQILDPAASVTGSRRQLRTRKEKARALEDLVDFKELFSAPGHTEESMTIDKNTKIPCKSPPPELTDTATSTKRCPKTRPRKEVKEELSAVERLTQTSGQSTHTHKEPASGDEGIKVLKQRAKKKPNPVEEEPSRRRPRAPKEKAQPLEDLAGFTELSETSGHTQESLTAGKATKIPCESPPLEVVDTTASTKRHLRTRVQKVQVKEEPSAVKFTQTSGETTDADKEPAGEDKGIKALKESAKQTPAPAASVTGSRRRPRAPRESAQAIEDLAGFKDPAAGHTEESMTDDKTTKIPCKSSPELEDTATSSKRRPRTRAQKVEVKEELLAVGKLTQTSGETTHTDKEPVGEGKGTKAFKQPAKRKLDAEDVIGSRRQPRAPKEKAQPLEDLASFQELSQTPGHTEELANGAADSFTSAPKQTPDSGKPLKISRRVLRAPKVEPVGDVVSTRDPVKSQSKSNTSLPPLPFKRGGGKDGSVTGTKRLRCMPAPEEIVEELPASKKQRVAPRARGKSSEPVVIMKRSLRTSAKRIEPAEELNSNDMKTNKEEHKLQDSVPENKGISLRSRRQNKTEAEQQITEVFVLAERIEINRNEKKPMKTSPEMDIQNPDDGARKPIPRDKVTENKRCLRSARQNESSQPKVAEESGGQKSAKVLMQNQKGKGEAGNSDSMCLRSRKTKSQPAASTLESKSVQRVTRSVKRCAENPKKAEDNVCVKKIRTRSHRDSEDI', 'length': 2896, 'molWeight': 319444, 'crc64': '4FACAA90AC686C72', 'md5': '4B9167FD3245C30964823A73FDF6729B'}, 'extraAttributes': {'uniParcId': 'UPI0000366730'}}\n"
     ]
    },
    {
     "name": "stderr",
     "output_type": "stream",
     "text": [
      "Fetching sequences:  61%|██████    | 284/469 [02:08<01:22,  2.23it/s]"
     ]
    },
    {
     "name": "stdout",
     "output_type": "stream",
     "text": [
      "{'entryType': 'UniProtKB reviewed (Swiss-Prot)', 'primaryAccession': 'Q8IYB3', 'proteinDescription': {'recommendedName': {'fullName': {'value': 'Serine/arginine repetitive matrix protein 1'}}, 'alternativeNames': [{'fullName': {'value': 'SR-related nuclear matrix protein of 160 kDa'}, 'shortNames': [{'value': 'SRm160'}]}, {'fullName': {'value': 'Ser/Arg-related nuclear matrix protein'}}]}, 'genes': [{'geneName': {'value': 'SRRM1'}, 'synonyms': [{'value': 'SRM160'}]}], 'sequence': {'value': 'MDAGFFRGTSAEQDNRFSNKQKKLLKQLKFAECLEKKVDMSKVNLEVIKPWITKRVTEILGFEDDVVIEFIFNQLEVKNPDSKMMQINLTGFLNGKNAREFMGELWPLLLSAQENIAGIPSAFLELKKEEIKQRQIEQEKLASMKKQDEDKDKRDKEEKESSREKRERSRSPRRRKSRSPSPRRRSSPVRRERKRSHSRSPRHRTKSRSPSPAPEKKEKTPELPEPSVKVKEPSVQEATSTSDILKVPKPEPIPEPKEPSPEKNSKKEKEKEKTRPRSRSRSKSRSRTRSRSPSHTRPRRRHRSRSRSYSPRRRPSPRRRPSPRRRTPPRRMPPPPRHRRSRSPVRRRRRSSASLSGSSSSSSSSRSRSPPKKPPKRTSSPPRKTRRLSPSASPPRRRHRPSPPATPPPKTRHSPTPQQSNRTRKSRVSVSPGRTSGKVTKHKGTEKRESPSPAPKPRKVELSESEEDKGGKMAAADSVQQRRQYRRQNQQSSSDSGSSSSSEDERPKRSHVKNGEVGRRRRHSPSRSASPSPRKRQKETSPRGRRRRSPSPPPTRRRRSPSPAPPPRRRRTPTPPPRRRTPSPPPRRRSPSPRRYSPPIQRRYSPSPPPKRRTASPPPPPKRRASPSPPPKRRVSHSPPPKQRSSPVTKRRSPSLSSKHRKGSSPSRSTREARSPQPNKRHSPSPRPRAPQTSSSPPPVRRGASSSPQRRQSPSPSTRPIRRVSRTPEPKKIKKAASPSPQSVRRVSSSRSVSGSPEPAAKKPPAPPSPVQSQSPSTNWSPAVPVKKAKSPTPSPSPPRNSDQEGGGKKKKKKKDKKHKKDKKHKKHKKHKKEKAVAAAAAAAVTPAAIAAATTTLAQEEPVAAPEPKKETESEAEDNLDDLEKHLREKALRSMRKAQVSPQS', 'length': 904, 'molWeight': 102335, 'crc64': '27D4D2A48EDBFED3', 'md5': '8A93089ACFBEAE997920F163B732CF66'}, 'extraAttributes': {'uniParcId': 'UPI000013EBEB'}}\n"
     ]
    },
    {
     "name": "stderr",
     "output_type": "stream",
     "text": [
      "Fetching sequences:  61%|██████    | 285/469 [02:09<01:22,  2.24it/s]"
     ]
    },
    {
     "name": "stdout",
     "output_type": "stream",
     "text": [
      "{'entryType': 'UniProtKB reviewed (Swiss-Prot)', 'primaryAccession': 'Q08170', 'proteinDescription': {'recommendedName': {'fullName': {'value': 'Serine/arginine-rich splicing factor 4'}}, 'alternativeNames': [{'fullName': {'value': 'Pre-mRNA-splicing factor SRP75'}}, {'fullName': {'value': 'SRP001LB'}}, {'fullName': {'value': 'Splicing factor, arginine/serine-rich 4'}}]}, 'genes': [{'geneName': {'value': 'SRSF4'}, 'synonyms': [{'value': 'SFRS4'}, {'value': 'SRP75'}]}], 'sequence': {'value': 'MPRVYIGRLSYQARERDVERFFKGYGKILEVDLKNGYGFVEFDDLRDADDAVYELNGKDLCGERVIVEHARGPRRDGSYGSGRSGYGYRRSGRDKYGPPTRTEYRLIVENLSSRCSWQDLKDYMRQAGEVTYADAHKGRKNEGVIEFVSYSDMKRALEKLDGTEVNGRKIRLVEDKPGSRRRRSYSRSRSHSRSRSRSRHSRKSRSRSGSSKSSHSKSRSRSRSGSRSRSKSRSRSQSRSRSKKEKSRSPSKEKSRSRSHSAGKSRSKSKDQAEEKIQNNDNVGKPKSRSPSRHKSKSKSRSRSQERRVEEEKRGSVSRGRSQEKSLRQSRSRSRSKGGSRSRSRSRSKSKDKRKGRKRSREESRSRSRSRSKSERSRKRGSKRDSKAGSSKKKKKEDTDRSQSRSPSRSVSKEREHAKSESSQREGRGESENAGTNQETRSRSRSNSKSKPNLPSESRSRSKSASKTRSRSKSRSRSASRSPSRSRSRSHSRS', 'length': 494, 'molWeight': 56678, 'crc64': '5BBAB917C218C20A', 'md5': '315198E2F7E27CC8585D6775DAB45A3F'}, 'extraAttributes': {'uniParcId': 'UPI00001358BF'}}\n"
     ]
    },
    {
     "name": "stderr",
     "output_type": "stream",
     "text": [
      "Fetching sequences:  61%|██████    | 286/469 [02:09<01:21,  2.25it/s]"
     ]
    },
    {
     "name": "stdout",
     "output_type": "stream",
     "text": [
      "{'entryType': 'UniProtKB reviewed (Swiss-Prot)', 'primaryAccession': 'Q15149', 'proteinDescription': {'recommendedName': {'fullName': {'value': 'Plectin'}, 'shortNames': [{'value': 'PCN'}, {'value': 'PLTN'}]}, 'alternativeNames': [{'fullName': {'value': 'Hemidesmosomal protein 1'}, 'shortNames': [{'value': 'HD1'}]}, {'fullName': {'value': 'Plectin-1'}}]}, 'genes': [{'geneName': {'value': 'PLEC'}, 'synonyms': [{'value': 'PLEC1'}]}], 'sequence': {'value': 'MVAGMLMPRDQLRAIYEVLFREGVMVAKKDRRPRSLHPHVPGVTNLQVMRAMASLRARGLVRETFAWCHFYWYLTNEGIAHLRQYLHLPPEIVPASLQRVRRPVAMVMPARRTPHVQAVQGPLGSPPKRGPLPTEEQRVYRRKELEEVSPETPVVPATTQRTLARPGPEPAPATDERDRVQKKTFTKWVNKHLIKAQRHISDLYEDLRDGHNLISLLEVLSGDSLPREKGRMRFHKLQNVQIALDYLRHRQVKLVNIRNDDIADGNPKLTLGLIWTIILHFQISDIQVSGQSEDMTAKEKLLLWSQRMVEGYQGLRCDNFTSSWRDGRLFNAIIHRHKPLLIDMNKVYRQTNLENLDQAFSVAERDLGVTRLLDPEDVDVPQPDEKSIITYVSSLYDAMPRVPDVQDGVRANELQLRWQEYRELVLLLLQWMRHHTAAFEERRFPSSFEEIEILWSQFLKFKEMELPAKEADKNRSKGIYQSLEGAVQAGQLKVPPGYHPLDVEKEWGKLHVAILEREKQLRSEFERLECLQRIVTKLQMEAGLCEEQLNQADALLQSDVRLLAAGKVPQRAGEVERDLDKADSMIRLLFNDVQTLKDGRHPQGEQMYRRVYRLHERLVAIRTEYNLRLKAGVAAPATQVAQVTLQSVQRRPELEDSTLRYLQDLLAWVEENQHRVDGAEWGVDLPSVEAQLGSHRGLHQSIEEFRAKIERARSDEGQLSPATRGAYRDCLGRLDLQYAKLLNSSKARLRSLESLHSFVAAATKELMWLNEKEEEEVGFDWSDRNTNMTAKKESYSALMRELELKEKKIKELQNAGDRLLREDHPARPTVESFQAALQTQWSWMLQLCCCIEAHLKENAAYFQFFSDVREAEGQLQKLQEALRRKYSCDRSATVTRLEDLLQDAQDEKEQLNEYKGHLSGLAKRAKAVVQLKPRHPAHPMRGRLPLLAVCDYKQVEVTVHKGDECQLVGPAQPSHWKVLSSSGSEAAVPSVCFLVPPPNQEAQEAVTRLEAQHQALVTLWHQLHVDMKSLLAWQSLRRDVQLIRSWSLATFRTLKPEEQRQALHSLELHYQAFLRDSQDAGGFGPEDRLMAEREYGSCSHHYQQLLQSLEQGAQEESRCQRCISELKDIRLQLEACETRTVHRLRLPLDKEPARECAQRIAEQQKAQAEVEGLGKGVARLSAEAEKVLALPEPSPAAPTLRSELELTLGKLEQVRSLSAIYLEKLKTISLVIRGTQGAEEVLRAHEEQLKEAQAVPATLPELEATKASLKKLRAQAEAQQPTFDALRDELRGAQEVGERLQQRHGERDVEVERWRERVAQLLERWQAVLAQTDVRQRELEQLGRQLRYYRESADPLGAWLQDARRRQEQIQAMPLADSQAVREQLRQEQALLEEIERHGEKVEECQRFAKQYINAIKDYELQLVTYKAQLEPVASPAKKPKVQSGSESVIQEYVDLRTHYSELTTLTSQYIKFISETLRRMEEEERLAEQQRAEERERLAEVEAALEKQRQLAEAHAQAKAQAEREAKELQQRMQEEVVRREEAAVDAQQQKRSIQEELQQLRQSSEAEIQAKARQAEAAERSRLRIEEEIRVVRLQLEATERQRGGAEGELQALRARAEEAEAQKRQAQEEAERLRRQVQDESQRKRQAEVELASRVKAEAEAAREKQRALQALEELRLQAEEAERRLRQAEVERARQVQVALETAQRSAEAELQSKRASFAEKTAQLERSLQEEHVAVAQLREEAERRAQQQAEAERAREEAERELERWQLKANEALRLRLQAEEVAQQKSLAQAEAEKQKEEAEREARRRGKAEEQAVRQRELAEQELEKQRQLAEGTAQQRLAAEQELIRLRAETEQGEQQRQLLEEELARLQREAAAATQKRQELEAELAKVRAEMEVLLASKARAEEESRSTSEKSKQRLEAEAGRFRELAEEAARLRALAEEAKRQRQLAEEDAARQRAEAERVLAEKLAAIGEATRLKTEAEIALKEKEAENERLRRLAEDEAFQRRRLEEQAAQHKADIEERLAQLRKASDSELERQKGLVEDTLRQRRQVEEEILALKASFEKAAAGKAELELELGRIRSNAEDTLRSKEQAELEAARQRQLAAEEERRRREAEERVQKSLAAEEEAARQRKAALEEVERLKAKVEEARRLRERAEQESARQLQLAQEAAQKRLQAEEKAHAFAVQQKEQELQQTLQQEQSVLDQLRGEAEAARRAAEEAEEARVQAEREAAQSRRQVEEAERLKQSAEEQAQARAQAQAAAEKLRKEAEQEAARRAQAEQAALRQKQAADAEMEKHKKFAEQTLRQKAQVEQELTTLRLQLEETDHQKNLLDEELQRLKAEATEAARQRSQVEEELFSVRVQMEELSKLKARIEAENRALILRDKDNTQRFLQEEAEKMKQVAEEAARLSVAAQEAARLRQLAEEDLAQQRALAEKMLKEKMQAVQEATRLKAEAELLQQQKELAQEQARRLQEDKEQMAQQLAEETQGFQRTLEAERQRQLEMSAEAERLKLRVAEMSRAQARAEEDAQRFRKQAEEIGEKLHRTELATQEKVTLVQTLEIQRQQSDHDAERLREAIAELEREKEKLQQEAKLLQLKSEEMQTVQQEQLLQETQALQQSFLSEKDSLLQRERFIEQEKAKLEQLFQDEVAKAQQLREEQQRQQQQMEQERQRLVASMEEARRRQHEAEEGVRRKQEELQQLEQQRRQQEELLAEENQRLREQLQLLEEQHRAALAHSEEVTASQVAATKTLPNGRDALDGPAAEAEPEHSFDGLRRKVSAQRLQEAGILSAEELQRLAQGHTTVDELARREDVRHYLQGRSSIAGLLLKATNEKLSVYAALQRQLLSPGTALILLEAQAASGFLLDPVRNRRLTVNEAVKEGVVGPELHHKLLSAERAVTGYKDPYTGQQISLFQAMQKGLIVREHGIRLLEAQIATGGVIDPVHSHRVPVDVAYRRGYFDEEMNRVLADPSDDTKGFFDPNTHENLTYLQLLERCVEDPETGLCLLPLTDKAAKGGELVYTDSEARDVFEKATVSAPFGKFQGKTVTIWEIINSEYFTAEQRRDLLRQFRTGRITVEKIIKIIITVVEEQEQKGRLCFEGLRSLVPAAELLESRVIDRELYQQLQRGERSVRDVAEVDTVRRALRGANVIAGVWLEEAGQKLSIYNALKKDLLPSDMAVALLEAQAGTGHIIDPATSARLTVDEAVRAGLVGPEFHEKLLSAEKAVTGYRDPYTGQSVSLFQALKKGLIPREQGLRLLDAQLSTGGIVDPSKSHRVPLDVACARGCLDEETSRALSAPRADAKAYSDPSTGEPATYGELQQRCRPDQLTGLSLLPLSEKAARARQEELYSELQARETFEKTPVEVPVGGFKGRTVTVWELISSEYFTAEQRQELLRQFRTGKVTVEKVIKILITIVEEVETLRQERLSFSGLRAPVPASELLASGVLSRAQFEQLKDGKTTVKDLSELGSVRTLLQGSGCLAGIYLEDTKEKVSIYEAMRRGLLRATTAALLLEAQAATGFLVDPVRNQRLYVHEAVKAGVVGPELHEQLLSAEKAVTGYRDPYSGSTISLFQAMQKGLVLRQHGIRLLEAQIATGGIIDPVHSHRVPVDVAYQRGYFSEEMNRVLADPSDDTKGFFDPNTHENLTYRQLLERCVEDPETGLRLLPLKGAEKAEVVETTQVYTEEETRRAFEETQIDIPGGGSHGGSTMSLWEVMQSDLIPEEQRAQLMADFQAGRVTKERMIIIIIEIIEKTEIIRQQGLASYDYVRRRLTAEDLFEARIISLETYNLLREGTRSLREALEAESAWCYLYGTGSVAGVYLPGSRQTLSIYQALKKGLLSAEVARLLLEAQAATGFLLDPVKGERLTVDEAVRKGLVGPELHDRLLSAERAVTGYRDPYTEQTISLFQAMKKELIPTEEALRLLDAQLATGGIVDPRLGFHLPLEVAYQRGYLNKDTHDQLSEPSEVRSYVDPSTDERLSYTQLLRRCRRDDGTGQLLLPLSDARKLTFRGLRKQITMEELVRSQVMDEATALQLREGLTSIEEVTKNLQKFLEGTSCIAGVFVDATKERLSVYQAMKKGIIRPGTAFELLEAQAATGYVIDPIKGLKLTVEEAVRMGIVGPEFKDKLLSAERAVTGYKDPYSGKLISLFQAMKKGLILKDHGIRLLEAQIATGGIIDPEESHRLPVEVAYKRGLFDEEMNEILTDPSDDTKGFFDPNTEENLTYLQLMERCITDPQTGLCLLPLKEKKRERKTSSKSSVRKRRVVIVDPETGKEMSVYEAYRKGLIDHQTYLELSEQECEWEEITISSSDGVVKSMIIDRRSGRQYDIDDAIAKNLIDRSALDQYRAGTLSITEFADMLSGNAGGFRSRSSSVGSSSSYPISPAVSRTQLASWSDPTEETGPVAGILDTETLEKVSITEAMHRNLVDNITGQRLLEAQACTGGIIDPSTGERFPVTDAVNKGLVDKIMVDRINLAQKAFCGFEDPRTKTKMSAAQALKKGWLYYEAGQRFLEVQYLTGGLIEPDTPGRVPLDEALQRGTVDARTAQKLRDVGAYSKYLTCPKTKLKISYKDALDRSMVEEGTGLRLLEAAAQSTKGYYSPYSVSGSGSTAGSRTGSRTGSRAGSRRGSFDATGSGFSMTFSSSSYSSSGYGRRYASGSSASLGGPESAVA', 'length': 4684, 'molWeight': 531791, 'crc64': '04772E4F70A304C8', 'md5': '4090D7F889C402B1A463D378CFC0AC48'}, 'extraAttributes': {'uniParcId': 'UPI0000233FCD'}}\n"
     ]
    },
    {
     "name": "stderr",
     "output_type": "stream",
     "text": [
      "Fetching sequences:  61%|██████    | 287/469 [02:10<01:20,  2.25it/s]"
     ]
    },
    {
     "name": "stdout",
     "output_type": "stream",
     "text": [
      "{'entryType': 'UniProtKB reviewed (Swiss-Prot)', 'primaryAccession': 'Q2TB10', 'proteinDescription': {'recommendedName': {'fullName': {'value': 'Zinc finger protein 800'}}}, 'genes': [{'geneName': {'value': 'ZNF800'}, 'orfNames': [{'value': 'PP902'}]}], 'sequence': {'value': 'MPLRDKYCQTDHHHHGCCEPVYILEPGDPPLLQQPLQTSKSGIQQIIECFRSGTKQLKHILLKDVDTIFECKLCRSLFRGLPNLITHKKFYCPPSLQMDDNLPDVNDKQSQAINDLLEAIYPSVDKREYIIKLEPIETNQNAVFQYISRTDNPIEVTESSSTPEQTEVQIQETSTEQSKTVPVTDTEVETVEPPPVEIVTDEVAPTSDEQPQESQADLETSDNSDFGHQLICCLCRKEFNSRRGVRRHIRKVHKKKMEELKKYIETRKNPNQSSKGRSKNVLVPLSRSCPVCCKSFATKANVRRHFDEVHRGLRRDSITPDIATKPGQPLFLDSISPKKSFKTRKQKSSSKAEYNLTACKCLLCKRKYSSQIMLKRHMQIVHKITLSGTNSKREKGPNNTANSSEIKVKVEPADSVESSPPSITHSPQNELKGTNHSNEKKNTPAAQKNKVKQDSESPKSTSPSAAGGQQKTRKPKLSAGFDFKQLYCKLCKRQFTSKQNLTKHIELHTDGNNIYVKFYKCPLCTYETRRKRDVIRHITVVHKKSSRYLGKITASLEIRAIKKPIDFVLNKVAKRGPSRDEAKHSDSKHDGTSNSPSKKYEVADVGIEVKVTKNFSLHRCNKCGKAFAKKTYLEHHKKTHKANASNSPEGNKTKGRSTRSKALV', 'length': 664, 'molWeight': 75236, 'crc64': 'F0F0DA1214AC6F2E', 'md5': 'AEF040CC3B4DEBC1F73091B8F21DA9C2'}, 'extraAttributes': {'uniParcId': 'UPI000020FA03'}}\n"
     ]
    },
    {
     "name": "stderr",
     "output_type": "stream",
     "text": [
      "Fetching sequences:  61%|██████▏   | 288/469 [02:10<01:20,  2.26it/s]"
     ]
    },
    {
     "name": "stdout",
     "output_type": "stream",
     "text": [
      "{'entryType': 'UniProtKB reviewed (Swiss-Prot)', 'primaryAccession': 'O15381', 'proteinDescription': {'recommendedName': {'fullName': {'evidences': [{'evidenceCode': 'ECO:0000305'}], 'value': 'Nuclear valosin-containing protein-like'}, 'shortNames': [{'value': 'NVLp'}, {'value': 'Nuclear VCP-like protein'}]}}, 'genes': [{'geneName': {'evidences': [{'evidenceCode': 'ECO:0000312', 'source': 'HGNC', 'id': 'HGNC:8070'}], 'value': 'NVL'}, 'synonyms': [{'evidences': [{'evidenceCode': 'ECO:0000303', 'source': 'PubMed', 'id': '28416111'}], 'value': 'NVL2'}]}], 'sequence': {'value': 'MKPRPAGFVDNKLKQRVIQYLTSNKCGKYVDIGVLASDLQRVYSIDYGRRKRNAFRIQVEKVFSIISSEKELKNLTELEDEHLAKRARQGEEDNEYTESYSDDDSSMEDYPDPQSANHMNSSLLSLYRKGNPDSVSNTPEMEQRETTSSTPRISSKTGSIPLKTPAKDSEGGWFIDKTPSVKKDSFFLDLSCEKSNPKKPITEIQDSKDSSLLESDMKRKGKLKNKGSKRKKEDLQEVDGEIEAVLQKKAKARGLEFQISNVKFEDVGGNDMTLKEVCKMLIHMRHPEVYHHLGVVPPRGVLLHGPPGCGKTLLAHAIAGELDLPILKVAAPEIVSGVSGESEQKLRELFEQAVSNAPCIIFIDEIDAITPKREVASKDMERRIVAQLLTCMDDLNNVAATARVLVIGATNRPDSLDPALRRAGRFDREICLGIPDEASRERILQTLCRKLRLPQAFDFCHLAHLTPGFVGADLMALCREAAMCAVNRVLMKLQEQQKKNPEMEDLPSKGVQEERLGTEPTSETQDELQRLLGLLRDQDPLSEEQMQGLCIELNDFIVALSSVQPSAKREGFVTVPNVTWADIGALEDIREELTMAILAPVRNPDQFKALGLVTPAGVLLAGPPGCGKTLLAKAVANESGLNFISVKGPELLNMYVGESERAVRQVFQRAKNSAPCVIFFDEVDALCPRRSDRETGASVRVVNQLLTEMDGLEARQQVFIMAATNRPDIIDPAILRPGRLDKTLFVGLPPPADRLAILKTITKNGTKPPLDADVNLEAIAGDLRCDCYTGADLSALVREASICALRQEMARQKSGNEKGELKVSHKHFEEAFKKVRSSISKKDQIMYERLQESLSR', 'length': 856, 'molWeight': 95051, 'crc64': '7A8B373FCAFB99B7', 'md5': '22701F56AD46C01A87B953021493DEF6'}, 'extraAttributes': {'uniParcId': 'UPI0000073F3E'}}\n"
     ]
    },
    {
     "name": "stderr",
     "output_type": "stream",
     "text": [
      "Fetching sequences:  62%|██████▏   | 289/469 [02:10<01:19,  2.26it/s]"
     ]
    },
    {
     "name": "stdout",
     "output_type": "stream",
     "text": [
      "{'entryType': 'UniProtKB reviewed (Swiss-Prot)', 'primaryAccession': 'Q7KZF4', 'proteinDescription': {'recommendedName': {'fullName': {'value': 'Staphylococcal nuclease domain-containing protein 1'}, 'ecNumbers': [{'evidences': [{'evidenceCode': 'ECO:0000269', 'source': 'PubMed', 'id': '18453631'}, {'evidenceCode': 'ECO:0000269', 'source': 'PubMed', 'id': '28546213'}], 'value': '3.1.31.1'}]}, 'alternativeNames': [{'fullName': {'value': '100 kDa coactivator'}}, {'fullName': {'value': 'EBNA2 coactivator p100'}}, {'fullName': {'value': 'Tudor domain-containing protein 11'}}, {'fullName': {'value': 'p100 co-activator'}}]}, 'genes': [{'geneName': {'value': 'SND1'}, 'synonyms': [{'value': 'TDRD11'}]}], 'sequence': {'value': 'MASSAQSGGSSGGPAVPTVQRGIIKMVLSGCAIIVRGQPRGGPPPERQINLSNIRAGNLARRAAATQPDAKDTPDEPWAFPAREFLRKKLIGKEVCFTIENKTPQGREYGMIYLGKDTNGENIAESLVAEGLATRREGMRANNPEQNRLSECEEQAKAAKKGMWSEGNGSHTIRDLKYTIENPRHFVDSHHQKPVNAIIEHVRDGSVVRALLLPDYYLVTVMLSGIKCPTFRREADGSETPEPFAAEAKFFTESRLLQRDVQIILESCHNQNILGTILHPNGNITELLLKEGFARCVDWSIAVYTRGAEKLRAAERFAKERRLRIWRDYVAPTANLDQKDKQFVAKVMQVLNADAIVVKLNSGDYKTIHLSSIRPPRLEGENTQDKNKKLRPLYDIPYMFEAREFLRKKLIGKKVNVTVDYIRPASPATETVPAFSERTCATVTIGGINIAEALVSKGLATVIRYRQDDDQRSSHYDELLAAEARAIKNGKGLHSKKEVPIHRVADISGDTQKAKQFLPFLQRAGRSEAVVEYVFSGSRLKLYLPKETCLITFLLAGIECPRGARNLPGLVQEGEPFSEEATLFTKELVLQREVEVEVESMDKAGNFIGWLHIDGANLSVLLVEHALSKVHFTAERSSYYKSLLSAEEAAKQKKEKVWAHYEEQPVEEVMPVLEEKERSASYKPVFVTEITDDLHFYVQDVETGTQLEKLMENMRNDIASHPPVEGSYAPRRGEFCIAKFVDGEWYRARVEKVESPAKIHVFYIDYGNREVLPSTRLGTLSPAFSTRVLPAQATEYAFAFIQVPQDDDARTDAVDSVVRDIQNTQCLLNVEHLSAGCPHVTLQFADSKGDVGLGLVKEGLVMVEVRKEKQFQKVITEYLNAQESAKSARLNLWRYGDFRADDADEFGYSR', 'length': 910, 'molWeight': 101997, 'crc64': 'D58BF200F3F3D628', 'md5': '8A9DBFFD220800748CCCDE9E90F1D131'}, 'extraAttributes': {'uniParcId': 'UPI00000727E5'}}\n"
     ]
    },
    {
     "name": "stderr",
     "output_type": "stream",
     "text": [
      "Fetching sequences:  62%|██████▏   | 290/469 [02:11<01:19,  2.26it/s]"
     ]
    },
    {
     "name": "stdout",
     "output_type": "stream",
     "text": [
      "{'entryType': 'UniProtKB reviewed (Swiss-Prot)', 'primaryAccession': 'Q9Y2R4', 'proteinDescription': {'recommendedName': {'fullName': {'value': 'Probable ATP-dependent RNA helicase DDX52'}, 'ecNumbers': [{'value': '3.6.4.13'}]}, 'alternativeNames': [{'fullName': {'value': 'ATP-dependent RNA helicase ROK1-like'}}, {'fullName': {'value': 'DEAD box protein 52'}}]}, 'genes': [{'geneName': {'evidences': [{'evidenceCode': 'ECO:0000312', 'source': 'HGNC', 'id': 'HGNC:20038'}], 'value': 'DDX52'}, 'synonyms': [{'value': 'ROK1'}], 'orfNames': [{'value': 'HUSSY-19'}]}], 'sequence': {'value': 'MDVHDLFRRLGAGAKFDTRRFSADAARFQIGKRKYDFDSSEVLQGLDFFGNKKSVPGVCGASQTHQKPQNGEKKEESLTERKREQSKKKRKTMTSEIASQEEGATIQWMSSVEAKIEDKKVQRESKLTSGKLENLRKEKINFLRNKHKIHVQGTDLPDPIATFQQLDQEYKINSRLLQNILDAGFQMPTPIQMQAIPVMLHGRELLASAPTGSGKTLAFSIPILMQLKQPANKGFRALIISPTRELASQIHRELIKISEGTGFRIHMIHKAAVAAKKFGPKSSKKFDILVTTPNRLIYLLKQDPPGIDLASVEWLVVDESDKLFEDGKTGFRDQLASIFLACTSHKVRRAMFSATFAYDVEQWCKLNLDNVISVSIGARNSAVETVEQELLFVGSETGKLLAVRELVKKGFNPPVLVFVQSIERAKELFHELIYEGINVDVIHAERTQQQRDNTVHSFRAGKIWVLICTALLARGIDFKGVNLVINYDFPTSSVEYIHRIGRTGRAGNKGKAITFFTEDDKPLLRSVANVIQQAGCPVPEYIKGFQKLLSKQKKKMIKKPLERESISTTPKCFLEKAKDKQKKVTGQNSKKKVALEDKS', 'length': 599, 'molWeight': 67466, 'crc64': '0EA504577A8BB7DB', 'md5': '90CE2704D20D3B3975F3452D21F12564'}, 'extraAttributes': {'uniParcId': 'UPI000000D9B5'}}\n"
     ]
    },
    {
     "name": "stderr",
     "output_type": "stream",
     "text": [
      "Fetching sequences:  62%|██████▏   | 291/469 [02:11<01:18,  2.27it/s]"
     ]
    },
    {
     "name": "stdout",
     "output_type": "stream",
     "text": [
      "{'entryType': 'UniProtKB reviewed (Swiss-Prot)', 'primaryAccession': 'O43290', 'proteinDescription': {'recommendedName': {'fullName': {'value': 'U4/U6.U5 tri-snRNP-associated protein 1'}}, 'alternativeNames': [{'fullName': {'value': 'SNU66 homolog'}, 'shortNames': [{'value': 'hSnu66'}]}, {'fullName': {'value': 'Squamous cell carcinoma antigen recognized by T-cells 1'}, 'shortNames': [{'value': 'SART-1'}, {'value': 'hSART-1'}]}, {'fullName': {'value': 'U4/U6.U5 tri-snRNP-associated 110 kDa protein'}}], 'allergenName': {'value': 'Hom s 1'}}, 'genes': [{'geneName': {'value': 'SART1'}}], 'sequence': {'value': 'MGSSKKHRGEKEAAGTTAAAGTGGATEQPPRHREHKKHKHRSGGSGGSGGERRKRSRERGGERGSGRRGAEAEARSSTHGRERSQAEPSERRVKREKRDDGYEAAASSKTSSGDASSLSIEETNKLRAKLGLKPLEVNAIKKEAGTKEEPVTADVINPMALRQREELREKLAAAKEKRLLNQKLGKIKTLGEDDPWLDDTAAWIERSRQLQKEKDLAEKRAKLLEEMDQEFGVSTLVEEEFGQRRQDLYSARDLQGLTVEHAIDSFREGETMILTLKDKGVLQEEEDVLVNVNLVDKERAEKNVELRKKKPDYLPYAEDESVDDLAQQKPRSILSKYDEELEGERPHSFRLEQGGTADGLRERELEEIRAKLRLQAQSLSTVGPRLASEYLTPEEMVTFKKTKRRVKKIRKKEKEVVVRADDLLPLGDQTQDGDFGSRLRGRGRRRVSEVEEEKEPVPQPLPSDDTRVENMDISDEEEGGAPPPGSPQVLEEDEAELELQKQLEKGRRLRQLQQLQQLRDSGEKVVEIVKKLESRQRGWEEDEDPERKGAIVFNATSEFCRTLGEIPTYGLAGNREEQEELMDFERDEERSANGGSESDGEENIGWSTVNLDEEKQQQDFSASSTTILDEEPIVNRGLAAALLLCQNKGLLETTVQKVARVKAPNKSLPSAVYCIEDKMAIDDKYSRREEYRGFTQDFKEKDGYKPDVKIEYVDETGRKLTPKEAFRQLSHRFHGKGSGKMKTERRMKKLDEEALLKKMSSSDTPLGTVALLQEKQKAQKTPYIVLSGSGKSMNANTITK', 'length': 800, 'molWeight': 90255, 'crc64': 'B13525E80640DF9E', 'md5': 'EA26CCB05B23E0A2E37CDF12103232D2'}, 'extraAttributes': {'uniParcId': 'UPI00000732D5'}}\n"
     ]
    },
    {
     "name": "stderr",
     "output_type": "stream",
     "text": [
      "Fetching sequences:  62%|██████▏   | 292/469 [02:12<01:17,  2.28it/s]"
     ]
    },
    {
     "name": "stdout",
     "output_type": "stream",
     "text": [
      "{'entryType': 'UniProtKB reviewed (Swiss-Prot)', 'primaryAccession': 'Q7L2E3', 'proteinDescription': {'recommendedName': {'fullName': {'evidences': [{'evidenceCode': 'ECO:0000305'}], 'value': 'ATP-dependent RNA helicase DHX30'}, 'ecNumbers': [{'evidences': [{'evidenceCode': 'ECO:0000269', 'source': 'PubMed', 'id': '29100085'}], 'value': '3.6.4.13'}]}, 'alternativeNames': [{'fullName': {'value': 'DEAH box protein 30'}}]}, 'genes': [{'geneName': {'value': 'DHX30'}, 'synonyms': [{'value': 'DDX30'}, {'value': 'KIAA0890'}]}], 'sequence': {'value': 'MFSLDSFRKDRAQHRQRQCKLPPPRLPPMCVNPTPGGTISRASRDLLKEFPQPKNLLNSVIGRALGISHAKDKLVYVHTNGPKKKKVTLHIKWPKSVEVEGYGSKKIDAERQAAAAACQLFKGWGLLGPRNELFDAAKYRVLADRFGSPADSWWRPEPTMPPTSWRQLNPESIRPGGPGGLSRSLGREEEEDEEEELEEGTIDVTDFLSMTQQDSHAPLRDSRGSSFEMTDDDSAIRALTQFPLPKNLLAKVIQIATSSSTAKNLMQFHTVGTKTKLSTLTLLWPCPMTFVAKGRRKAEAENKAAALACKKLKSLGLVDRNNEPLTHAMYNLASLRELGETQRRPCTIQVPEPILRKIETFLNHYPVESSWIAPELRLQSDDILPLGKDSGPLSDPITGKPYVPLLEAEEVRLSQSLLELWRRRGPVWQEAPQLPVDPHRDTILNAIEQHPVVVISGDTGCGKTTRIPQLLLERYVTEGRGARCNVIITQPRRISAVSVAQRVSHELGPSLRRNVGFQVRLESKPPSRGGALLFCTVGILLRKLQSNPSLEGVSHVIVDEVHERDVNTDFLLILLKGLQRLNPALRLVLMSATGDNERFSRYFGGCPVIKVPGFMYPVKEHYLEDILAKLGKHQYLHRHRHHESEDECALDLDLVTDLVLHIDARGEPGGILCFLPGWQEIKGVQQRLQEALGMHESKYLILPVHSNIPMMDQKAIFQQPPVGVRKIVLATNIAETSITINDIVHVVDSGLHKEERYDLKTKVSCLETVWVSRANVIQRRGRAGRCQSGFAYHLFPRSRLEKMVPFQVPEILRTPLENLVLQAKIHMPEKTAVEFLSKAVDSPNIKAVDEAVILLQEIGVLDQREYLTTLGQRLAHISTDPRLAKAIVLAAIFRCLHPLLVVVSCLTRDPFSSSLQNRAEVDKVKALLSHDSGSDHLAFVRAVAGWEEVLRWQDRSSRENYLEENLLYAPSLRFIHGLIKQFSENIYEAFLVGKPSDCTLASAQCNEYSEEEELVKGVLMAGLYPNLIQVRQGKVTRQGKFKPNSVTYRTKSGNILLHKSTINREATRLRSRWLTYFMAVKSNGSVFVRDSSQVHPLAVLLLTDGDVHIRDDGRRATISLSDSDLLRLEGDSRTVRLLKELRRALGRMVERSLRSELAALPPSVQEEHGQLLALLAELLRGPCGSFDVRKTADD', 'length': 1194, 'molWeight': 133938, 'crc64': '33D9A08799FE7A02', 'md5': 'CF9187237987D0C8D213A18296921B03'}, 'extraAttributes': {'uniParcId': 'UPI000007112B'}}\n"
     ]
    },
    {
     "name": "stderr",
     "output_type": "stream",
     "text": [
      "Fetching sequences:  62%|██████▏   | 293/469 [02:12<01:16,  2.29it/s]"
     ]
    },
    {
     "name": "stdout",
     "output_type": "stream",
     "text": [
      "{'entryType': 'UniProtKB reviewed (Swiss-Prot)', 'primaryAccession': 'Q14694', 'proteinDescription': {'recommendedName': {'fullName': {'evidences': [{'evidenceCode': 'ECO:0000305'}], 'value': 'Ubiquitin carboxyl-terminal hydrolase 10'}, 'ecNumbers': [{'evidences': [{'evidenceCode': 'ECO:0000269', 'source': 'PubMed', 'id': '20096447'}, {'evidenceCode': 'ECO:0000269', 'source': 'PubMed', 'id': '21962518'}, {'evidenceCode': 'ECO:0000269', 'source': 'PubMed', 'id': '32011234'}, {'evidenceCode': 'ECO:0000269', 'source': 'PubMed', 'id': '34469731'}], 'value': '3.4.19.12'}]}, 'alternativeNames': [{'fullName': {'value': 'Deubiquitinating enzyme 10'}}, {'fullName': {'value': 'Ubiquitin thioesterase 10'}}, {'fullName': {'value': 'Ubiquitin-specific-processing protease 10'}}]}, 'genes': [{'geneName': {'evidences': [{'evidenceCode': 'ECO:0000303', 'source': 'PubMed', 'id': '11439350'}, {'evidenceCode': 'ECO:0000312', 'source': 'HGNC', 'id': 'HGNC:12608'}], 'value': 'USP10'}, 'synonyms': [{'evidences': [{'evidenceCode': 'ECO:0000303', 'source': 'PubMed', 'id': '8724849'}], 'value': 'KIAA0190'}]}], 'sequence': {'value': 'MALHSPQYIFGDFSPDEFNQFFVTPRSSVELPPYSGTVLCGTQAVDKLPDGQEYQRIEFGVDEVIEPSDTLPRTPSYSISSTLNPQAPEFILGCTASKITPDGITKEASYGSIDCQYPGSALALDGSSNVEAEVLENDGVSGGLGQRERKKKKKRPPGYYSYLKDGGDDSISTEALVNGHANSAVPNSVSAEDAEFMGDMPPSVTPRTCNSPQNSTDSVSDIVPDSPFPGALGSDTRTAGQPEGGPGADFGQSCFPAEAGRDTLSRTAGAQPCVGTDTTENLGVANGQILESSGEGTATNGVELHTTESIDLDPTKPESASPPADGTGSASGTLPVSQPKSWASLFHDSKPSSSSPVAYVETKYSPPAISPLVSEKQVEVKEGLVPVSEDPVAIKIAELLENVTLIHKPVSLQPRGLINKGNWCYINATLQALVACPPMYHLMKFIPLYSKVQRPCTSTPMIDSFVRLMNEFTNMPVPPKPRQALGDKIVRDIRPGAAFEPTYIYRLLTVNKSSLSEKGRQEDAEEYLGFILNGLHEEMLNLKKLLSPSNEKLTISNGPKNHSVNEEEQEEQGEGSEDEWEQVGPRNKTSVTRQADFVQTPITGIFGGHIRSVVYQQSSKESATLQPFFTLQLDIQSDKIRTVQDALESLVARESVQGYTTKTKQEVEISRRVTLEKLPPVLVLHLKRFVYEKTGGCQKLIKNIEYPVDLEISKELLSPGVKNKNFKCHRTYRLFAVVYHHGNSATGGHYTTDVFQIGLNGWLRIDDQTVKVINQYQVVKPTAERTAYLLYYRRVDLL', 'length': 798, 'molWeight': 87134, 'crc64': 'E6BA77E2B5CE2B3F', 'md5': '89C884079BD662B1D5893728EC3476B8'}, 'extraAttributes': {'uniParcId': 'UPI00001379EB'}}\n"
     ]
    },
    {
     "name": "stderr",
     "output_type": "stream",
     "text": [
      "Fetching sequences:  63%|██████▎   | 294/469 [02:13<01:16,  2.29it/s]"
     ]
    },
    {
     "name": "stdout",
     "output_type": "stream",
     "text": [
      "{'entryType': 'UniProtKB reviewed (Swiss-Prot)', 'primaryAccession': 'Q8ND82', 'proteinDescription': {'recommendedName': {'fullName': {'value': 'Zinc finger protein 280C'}}, 'alternativeNames': [{'fullName': {'value': 'Suppressor of hairy wing homolog 3'}}, {'fullName': {'value': 'Zinc finger protein 633'}}]}, 'genes': [{'geneName': {'value': 'ZNF280C'}, 'synonyms': [{'value': 'SUHW3'}, {'value': 'ZNF633'}]}], 'sequence': {'value': 'MDDDKPFQPKNISKMAELFMECEEEELEPWQKKVEETQDEDDDELIFVGEISSSKPAISNILNRGHSSSSSKGIKSEPHSPGIPEIFRTASQRCRDPPSNPVAASPRFHLVSKSSQSSVTVENASKPDFTKNSQVGSDNSSILLFDSTQESLPPSQDIPAIFREGMKNTSYVLKHPSTSKVNSVTPKKPKTSEDVPQINPSTSLPLIGSPPVTSSQVMLSKGTNTSSPYDAGADYLRACPKCNVQFNLLDPLKYHMKHCCPDMITKFLGVIVKSERPCDEDKTDSETGKLIMLVNEFYYGRHEGVTEKEPKTYTTFKCFSCSKVLKNNIRFMNHMKHHLELEKQNNESWENHTTCQHCYRQYPTPFQLQCHIESTHTPHEFSTICKICELSFETEHILLQHMKDTHKPGEMPYVCQVCQFRSSTFSDVEAHFRAAHENTKNLLCPFCLKVSKMATPYMNHYMKHQKKGVHRCPKCRLQFLTSKEKAEHKAQHRTFIKPKELEGLPPGAKVTIRASLGPLQSKLPTAPFGCAPGTSFLQVTPPTSQNTTARNPRKSNASRSKTSKLHATTSTASKVNTSKPRGRIAKSKAKPSYKQKRQRNRKNKMSLALKNIRCRRGIHKCIECHSKIKDFASHFSIYIHCSFCKYNTNCNKAFVNHMMSSHSNHPGKRFCIFKKHSGTLRGITLVCLKCDFLADSSGLDRMAKHLSQRKTHTCQVIIENVSKSTSTSEPTTGCSLK', 'length': 737, 'molWeight': 83096, 'crc64': 'D9974B7F772FE840', 'md5': 'B421219A59C496CDC302EFAA3FED3636'}, 'extraAttributes': {'uniParcId': 'UPI0000071981'}}\n"
     ]
    },
    {
     "name": "stderr",
     "output_type": "stream",
     "text": [
      "Fetching sequences:  63%|██████▎   | 295/469 [02:13<01:15,  2.30it/s]"
     ]
    },
    {
     "name": "stdout",
     "output_type": "stream",
     "text": [
      "{'entryType': 'UniProtKB reviewed (Swiss-Prot)', 'primaryAccession': 'Q15269', 'proteinDescription': {'recommendedName': {'fullName': {'value': 'Periodic tryptophan protein 2 homolog'}}}, 'genes': [{'geneName': {'evidences': [{'evidenceCode': 'ECO:0000312', 'source': 'HGNC', 'id': 'HGNC:9711'}], 'value': 'PWP2'}, 'synonyms': [{'value': 'PWP2H'}]}], 'sequence': {'value': 'MKFAYRFSNLLGTVYRRGNLNFTCDGNSVISPVGNRVTVFDLKNNKSDTLPLATRYNVKCVGLSPDGRLAIIVDEGGDALLVSLVCRSVLHHFHFKGSVHSVSFSPDGRKFVVTKGNIAQMYHAPGKKREFNAFVLDKTYFGPYDETTCIDWTDDSRCFVVGSKDMSTWVFGAERWDNLIYYALGGHKDAIVACFFESNSLDLYSLSQDGVLCMWQCDTPPEGLRLKPPAGWKADLLQREEEEEEEEDQEGDRETTIRGKATPAEEEKTGKVKYSRLAKYFFNKEGDFNNLTAAAFHKKSHLLVTGFASGIFHLHELPEFNLIHSLSISDQSIASVAINSSGDWIAFGCSGLGQLLVWEWQSESYVLKQQGHFNSMVALAYSPDGQYIVTGGDDGKVKVWNTLSGFCFVTFTEHSSGVTGVTFTATGYVVVTSSMDGTVRAFDLHRYRNFRTFTSPRPTQFSCVAVDASGEIVSAGAQDSFEIFVWSMQTGRLLDVLSGHEGPISGLCFNPMKSVLASASWDKTVRLWDMFDSWRTKETLALTSDALAVTFRPDGAELAVATLNSQITFWDPENAVQTGSIEGRHDLKTGRKELDKITAKHAAKGKAFTALCYSADGHSILAGGMSKFVCIYHVREQILMKRFEISCNLSLDAMEEFLNRRKMTEFGNLALIDQDAGQEDGVAIPLPGVRKGDMSSRHFKPEIRVTSLRFSPTGRCWAATTTEGLLIYSLDTRVLFDPFELDTSVTPGRVREALRQQDFTRAILMALRLNESKLVQEALEAVPRGEIEVVTSSLPELYVEKVLEFLASSFEVSRHLEFYLLWTHKLLMLHGQKLKSRAGTLLPVIQFLQKSIQRHLDDLSKLCSWNHYNMQYALAVSKQRGTKRSLDPLGSEEEAEASEDDSLHLLGGGGRDSEEEMLA', 'length': 919, 'molWeight': 102452, 'crc64': 'B2A94C5595DF4380', 'md5': 'B14DC0A2BC63CBB0F2A3324E68D42019'}, 'extraAttributes': {'uniParcId': 'UPI0000169D5D'}}\n"
     ]
    },
    {
     "name": "stderr",
     "output_type": "stream",
     "text": [
      "Fetching sequences:  63%|██████▎   | 296/469 [02:14<01:19,  2.17it/s]"
     ]
    },
    {
     "name": "stdout",
     "output_type": "stream",
     "text": [
      "{'entryType': 'UniProtKB reviewed (Swiss-Prot)', 'primaryAccession': 'Q13185', 'proteinDescription': {'recommendedName': {'fullName': {'value': 'Chromobox protein homolog 3'}}, 'alternativeNames': [{'fullName': {'value': 'HECH'}}, {'fullName': {'value': 'Heterochromatin protein 1 homolog gamma'}, 'shortNames': [{'value': 'HP1 gamma'}]}, {'fullName': {'value': 'Modifier 2 protein'}}]}, 'genes': [{'geneName': {'value': 'CBX3'}}], 'sequence': {'value': 'MASNKTTLQKMGKKQNGKSKKVEEAEPEEFVVEKVLDRRVVNGKVEYFLKWKGFTDADNTWEPEENLDCPELIEAFLNSQKAGKEKDGTKRKSLSDSESDDSKSKKKRDAADKPRGFARGLDPERIIGATDSSGELMFLMKWKDSDEADLVLAKEANMKCPQIVIAFYEERLTWHSCPEDEAQ', 'length': 183, 'molWeight': 20811, 'crc64': '5928C63E0C93A76A', 'md5': '8B87C17B8CDC3AB4C67A37F4FE4D9CA3'}, 'extraAttributes': {'uniParcId': 'UPI0000028565'}}\n"
     ]
    },
    {
     "name": "stderr",
     "output_type": "stream",
     "text": [
      "Fetching sequences:  63%|██████▎   | 297/469 [02:14<01:18,  2.20it/s]"
     ]
    },
    {
     "name": "stdout",
     "output_type": "stream",
     "text": [
      "{'entryType': 'UniProtKB unreviewed (TrEMBL)', 'primaryAccession': 'H3BQG7', 'proteinDescription': {'submissionNames': [{'fullName': {'evidences': [{'evidenceCode': 'ECO:0000313', 'source': 'Ensembl', 'id': 'ENSP00000455772.1'}], 'value': 'F-box protein 31'}}]}, 'genes': [{'geneName': {'evidences': [{'evidenceCode': 'ECO:0000313', 'source': 'Ensembl', 'id': 'ENSP00000455772.1'}], 'value': 'FBXO31'}}], 'sequence': {'value': 'MAVCARLCGVGPSRGCRRRQQRRGPAETAAADSEPDTDPEEERIEASAGVGGGLCAGPSPPPPRCSLLELPPELLVEIFASLPGTDLPSLAQVCTKRARVVAGRAPGSPSQALPSPGQRRPARAQMGHLVRMVASLGMP', 'length': 139, 'molWeight': 14397, 'crc64': '399DD83CE2009F35', 'md5': '67EDAF1C834B276CECDBED3344D9ABF5'}, 'extraAttributes': {'uniParcId': 'UPI000048975E'}}\n"
     ]
    },
    {
     "name": "stderr",
     "output_type": "stream",
     "text": [
      "Fetching sequences:  64%|██████▎   | 298/469 [02:14<01:16,  2.23it/s]"
     ]
    },
    {
     "name": "stdout",
     "output_type": "stream",
     "text": [
      "{'entryType': 'UniProtKB reviewed (Swiss-Prot)', 'primaryAccession': 'O00425', 'proteinDescription': {'recommendedName': {'fullName': {'value': 'Insulin-like growth factor 2 mRNA-binding protein 3'}, 'shortNames': [{'value': 'IGF2 mRNA-binding protein 3'}, {'value': 'IMP-3'}]}, 'alternativeNames': [{'fullName': {'value': 'IGF-II mRNA-binding protein 3'}}, {'fullName': {'value': 'KH domain-containing protein overexpressed in cancer'}, 'shortNames': [{'value': 'hKOC'}]}, {'fullName': {'value': 'VICKZ family member 3'}}]}, 'genes': [{'geneName': {'value': 'IGF2BP3'}, 'synonyms': [{'value': 'IMP3'}, {'value': 'KOC1'}, {'value': 'VICKZ3'}]}], 'sequence': {'value': 'MNKLYIGNLSENAAPSDLESIFKDAKIPVSGPFLVKTGYAFVDCPDESWALKAIEALSGKIELHGKPIEVEHSVPKRQRIRKLQIRNIPPHLQWEVLDSLLVQYGVVESCEQVNTDSETAVVNVTYSSKDQARQALDKLNGFQLENFTLKVAYIPDEMAAQQNPLQQPRGRRGLGQRGSSRQGSPGSVSKQKPCDLPLRLLVPTQFVGAIIGKEGATIRNITKQTQSKIDVHRKENAGAAEKSITILSTPEGTSAACKSILEIMHKEAQDIKFTEEIPLKILAHNNFVGRLIGKEGRNLKKIEQDTDTKITISPLQELTLYNPERTITVKGNVETCAKAEEEIMKKIRESYENDIASMNLQAHLIPGLNLNALGLFPPTSGMPPPTSGPPSAMTPPYPQFEQSETETVHLFIPALSVGAIIGKQGQHIKQLSRFAGASIKIAPAEAPDAKVRMVIITGPPEAQFKAQGRIYGKIKEENFVSPKEEVKLEAHIRVPSFAAGRVIGKGGKTVNELQNLSSAEVVVPRDQTPDENDQVVVKITGHFYACQVAQRKIQEILTQVKQHQQQKALQSGPPQSRRK', 'length': 579, 'molWeight': 63705, 'crc64': '78884F56A9D98CDE', 'md5': 'B211E9F71E8E454B49353D2563858F7A'}, 'extraAttributes': {'uniParcId': 'UPI0000117172'}}\n"
     ]
    },
    {
     "name": "stderr",
     "output_type": "stream",
     "text": [
      "Fetching sequences:  64%|██████▍   | 299/469 [02:15<01:16,  2.23it/s]"
     ]
    },
    {
     "name": "stdout",
     "output_type": "stream",
     "text": [
      "{'entryType': 'UniProtKB reviewed (Swiss-Prot)', 'primaryAccession': 'Q8TAD8', 'proteinDescription': {'recommendedName': {'fullName': {'value': 'Smad nuclear-interacting protein 1'}}, 'alternativeNames': [{'fullName': {'value': 'FHA domain-containing protein SNIP1'}}]}, 'genes': [{'geneName': {'value': 'SNIP1'}}], 'sequence': {'value': 'MKAVKSERERGSRRRHRDGDVVLPAGVVVKQERLSPEVAPPAHRRPDHSGGSPSPPTSEPARSGHRGNRARGVSRSPPKKKNKASGRRSKSPRSKRNRSPHHSTVKVKQEREDHPRRGREDRQHREPSEQEHRRARNSDRDRHRGHSHQRRTSNERPGSGQGQGRDRDTQNLQAQEEEREFYNARRREHRQRNDVGGGGSESQELVPRPGGNNKEKEVPAKEKPSFELSGALLEDTNTFRGVVIKYSEPPEARIPKKRWRLYPFKNDEVLPVMYIHRQSAYLLGRHRRIADIPIDHPSCSKQHAVFQYRLVEYTRADGTVGRRVKPYIIDLGSGNGTFLNNKRIEPQRYYELKEKDVLKFGFSSREYVLLHESSDTSEIDRKDDEDEEEEEEVSDS', 'length': 396, 'molWeight': 45778, 'crc64': 'B183F83EC3184676', 'md5': '22BFEC9331559F486F47F456C97DA36A'}, 'extraAttributes': {'uniParcId': 'UPI000003603D'}}\n"
     ]
    },
    {
     "name": "stderr",
     "output_type": "stream",
     "text": [
      "Fetching sequences:  64%|██████▍   | 300/469 [02:15<01:15,  2.24it/s]"
     ]
    },
    {
     "name": "stdout",
     "output_type": "stream",
     "text": [
      "{'entryType': 'UniProtKB reviewed (Swiss-Prot)', 'primaryAccession': 'Q9UN86', 'proteinDescription': {'recommendedName': {'fullName': {'value': 'Ras GTPase-activating protein-binding protein 2'}, 'shortNames': [{'value': 'G3BP-2'}]}, 'alternativeNames': [{'fullName': {'value': 'GAP SH3 domain-binding protein 2'}}]}, 'genes': [{'geneName': {'evidences': [{'evidenceCode': 'ECO:0000303', 'source': 'PubMed', 'id': '23279204'}, {'evidenceCode': 'ECO:0000312', 'source': 'HGNC', 'id': 'HGNC:30291'}], 'value': 'G3BP2'}, 'synonyms': [{'value': 'KIAA0660'}]}], 'sequence': {'value': 'MVMEKPSPLLVGREFVRQYYTLLNKAPEYLHRFYGRNSSYVHGGVDASGKPQEAVYGQNDIHHKVLSLNFSECHTKIRHVDAHATLSDGVVVQVMGLLSNSGQPERKFMQTFVLAPEGSVPNKFYVHNDMFRYEDEVFGDSEPELDEESEDEVEEEQEERQPSPEPVQENANSGYYEAHPVTNGIEEPLEESSHEPEPEPESETKTEELKPQVEEKNLEELEEKSTTPPPAEPVSLPQEPPKAFSWASVTSKNLPPSGTVSSSGIPPHVKAPVSQPRVEAKPEVQSQPPRVREQRPRERPGFPPRGPRPGRGDMEQNDSDNRRIIRYPDSHQLFVGNLPHDIDENELKEFFMSFGNVVELRINTKGVGGKLPNFGFVVFDDSEPVQRILIAKPIMFRGEVRLNVEEKKTRAARERETRGGGDDRRDIRRNDRGPGGPRGIVGGGMMRDRDGRGPPPRGGMAQKLGSGRGTGQMEGRFTGQRR', 'length': 482, 'molWeight': 54121, 'crc64': '74B8EA43C0560229', 'md5': '12F2C67D93B573586EEF520B2A212911'}, 'extraAttributes': {'uniParcId': 'UPI000013D588'}}\n"
     ]
    },
    {
     "name": "stderr",
     "output_type": "stream",
     "text": [
      "Fetching sequences:  64%|██████▍   | 301/469 [02:16<01:15,  2.23it/s]"
     ]
    },
    {
     "name": "stdout",
     "output_type": "stream",
     "text": [
      "{'entryType': 'UniProtKB reviewed (Swiss-Prot)', 'primaryAccession': 'Q9UGY1', 'proteinDescription': {'recommendedName': {'fullName': {'value': 'Nucleolar protein 12'}}}, 'genes': [{'geneName': {'value': 'NOL12'}}], 'sequence': {'value': 'MGRNKKKKRDGDDRRPRLVLSFDEEKRREYLTGFHKRKVERKKAAIEEIKQRLKEEQRKLREERHQEYLKMLAEREEALEEADELDRLVTAKTESVQYDHPNHTVTVTTISDLDLSGARLLGLTPPEGGAGDRSEEEASSTEKPTKALPRKSRDPLLSQRISSLTASLHAHSRKKVKRKHPRRAQDSKKPPRAPRTSKAQRRRLTGKARHSGE', 'length': 213, 'molWeight': 24663, 'crc64': '86A4DFBD363179CA', 'md5': '276B171E1C319F2C474DF2FCD7F964B4'}, 'extraAttributes': {'uniParcId': 'UPI0000073B12'}}\n"
     ]
    },
    {
     "name": "stderr",
     "output_type": "stream",
     "text": [
      "Fetching sequences:  64%|██████▍   | 302/469 [02:16<01:14,  2.24it/s]"
     ]
    },
    {
     "name": "stdout",
     "output_type": "stream",
     "text": [
      "{'entryType': 'UniProtKB reviewed (Swiss-Prot)', 'primaryAccession': 'Q8NE71', 'proteinDescription': {'recommendedName': {'fullName': {'value': 'ATP-binding cassette sub-family F member 1'}}, 'alternativeNames': [{'fullName': {'value': 'ATP-binding cassette 50'}}, {'fullName': {'value': 'TNF-alpha-stimulated ABC protein'}}]}, 'genes': [{'geneName': {'value': 'ABCF1'}, 'synonyms': [{'value': 'ABC50'}]}], 'sequence': {'value': 'MPKAPKQQPPEPEWIGDGESTSPSDKVVKKGKKDKKIKKTFFEELAVEDKQAGEEEKVLKEKEQQQQQQQQQQKKKRDTRKGRRKKDVDDDGEEKELMERLKKLSVPTSDEEDEVPAPKPRGGKKTKGGNVFAALIQDQSEEEEEEEKHPPKPAKPEKNRINKAVSEEQQPALKGKKGKEEKSKGKAKPQNKFAALDNEEEDKEEEIIKEKEPPKQGKEKAKKAEQGSEEEGEGEEEEEEGGESKADDPYAHLSKKEKKKLKKQMEYERQVASLKAANAAENDFSVSQAEMSSRQAMLENASDIKLEKFSISAHGKELFVNADLYIVAGRRYGLVGPNGKGKTTLLKHIANRALSIPPNIDVLLCEQEVVADETPAVQAVLRADTKRLKLLEEERRLQGQLEQGDDTAAERLEKVYEELRATGAAAAEAKARRILAGLGFDPEMQNRPTQKFSGGWRMRVSLARALFMEPTLLMLDEPTNHLDLNAVIWLNNYLQGWRKTLLIVSHDQGFLDDVCTDIIHLDAQRLHYYRGNYMTFKKMYQQKQKELLKQYEKQEKKLKELKAGGKSTKQAEKQTKEALTRKQQKCRRKNQDEESQEAPELLKRPKEYTVRFTFPDPPPLSPPVLGLHGVTFGYQGQKPLFKNLDFGIDMDSRICIVGPNGVGKSTLLLLLTGKLTPTHGEMRKNHRLKIGFFNQQYAEQLRMEETPTEYLQRGFNLPYQDARKCLGRFGLESHAHTIQICKLSGGQKARVVFAELACREPDVLILDEPTNNLDIESIDALGEAINEYKGAVIVVSHDARLITETNCQLWVVEEQSVSQIDGDFEDYKREVLEALGEVMVSRPRE', 'length': 845, 'molWeight': 95926, 'crc64': '5C5AA662DF4C99E4', 'md5': '39A7435EF91AC71A1FD630D8E46EC441'}, 'extraAttributes': {'uniParcId': 'UPI0000141876'}}\n"
     ]
    },
    {
     "name": "stderr",
     "output_type": "stream",
     "text": [
      "Fetching sequences:  65%|██████▍   | 303/469 [02:17<01:13,  2.25it/s]"
     ]
    },
    {
     "name": "stdout",
     "output_type": "stream",
     "text": [
      "{'entryType': 'UniProtKB reviewed (Swiss-Prot)', 'primaryAccession': 'Q9H0S4', 'proteinDescription': {'recommendedName': {'fullName': {'value': 'Probable ATP-dependent RNA helicase DDX47'}, 'ecNumbers': [{'value': '3.6.4.13'}]}, 'alternativeNames': [{'fullName': {'value': 'DEAD box protein 47'}}]}, 'genes': [{'geneName': {'value': 'DDX47'}}], 'sequence': {'value': 'MAAPEEHDSPTEASQPIVEEEETKTFKDLGVTDVLCEACDQLGWTKPTKIQIEAIPLALQGRDIIGLAETGSGKTGAFALPILNALLETPQRLFALVLTPTRELAFQISEQFEALGSSIGVQSAVIVGGIDSMSQSLALAKKPHIIIATPGRLIDHLENTKGFNLRALKYLVMDEADRILNMDFETEVDKILKVIPRDRKTFLFSATMTKKVQKLQRAALKNPVKCAVSSKYQTVEKLQQYYIFIPSKFKDTYLVYILNELAGNSFMIFCSTCNNTQRTALLLRNLGFTAIPLHGQMSQSKRLGSLNKFKAKARSILLATDVASRGLDIPHVDVVVNFDIPTHSKDYIHRVGRTARAGRSGKAITFVTQYDVELFQRIEHLIGKKLPGFPTQDDEVMMLTERVAEAQRFARMELREHGEKKKRSREDAGDNDDTEGAIGVRNKVAGGKMKKRKGR', 'length': 455, 'molWeight': 50647, 'crc64': '5F64F26AD2C11286', 'md5': '42342093BD2542D7171984AF54E3B3BE'}, 'extraAttributes': {'uniParcId': 'UPI0000037B84'}}\n"
     ]
    },
    {
     "name": "stderr",
     "output_type": "stream",
     "text": [
      "Fetching sequences:  65%|██████▍   | 304/469 [02:17<01:12,  2.27it/s]"
     ]
    },
    {
     "name": "stdout",
     "output_type": "stream",
     "text": [
      "{'entryType': 'UniProtKB reviewed (Swiss-Prot)', 'primaryAccession': 'Q92804', 'proteinDescription': {'recommendedName': {'fullName': {'value': 'TATA-binding protein-associated factor 2N'}}, 'alternativeNames': [{'fullName': {'value': '68 kDa TATA-binding protein-associated factor'}, 'shortNames': [{'value': 'TAF(II)68'}, {'value': 'TAFII68'}]}, {'fullName': {'value': 'RNA-binding protein 56'}}]}, 'genes': [{'geneName': {'value': 'TAF15'}, 'synonyms': [{'value': 'RBP56'}, {'value': 'TAF2N'}]}], 'sequence': {'value': 'MSDSGSYGQSGGEQQSYSTYGNPGSQGYGQASQSYSGYGQTTDSSYGQNYSGYSSYGQSQSGYSQSYGGYENQKQSSYSQQPYNNQGQQQNMESSGSQGGRAPSYDQPDYGQQDSYDQQSGYDQHQGSYDEQSNYDQQHDSYSQNQQSYHSQRENYSHHTQDDRRDVSRYGEDNRGYGGSQGGGRGRGGYDKDGRGPMTGSSGGDRGGFKNFGGHRDYGPRTDADSESDNSDNNTIFVQGLGEGVSTDQVGEFFKQIGIIKTNKKTGKPMINLYTDKDTGKPKGEATVSFDDPPSAKAAIDWFDGKEFHGNIIKVSFATRRPEFMRGGGSGGGRRGRGGYRGRGGFQGRGGDPKSGDWVCPNPSCGNMNFARRNSCNQCNEPRPEDSRPSGGDFRGRGYGGERGYRGRGGRGGDRGGYGGDRSGGGYGGDRSSGGGYSGDRSGGGYGGDRSGGGYGGDRGGGYGGDRGGGYGGDRGGGYGGDRGGYGGDRGGGYGGDRGGYGGDRGGYGGDRGGYGGDRGGYGGDRSRGGYGGDRGGGSGYGGDRSGGYGGDRSGGGYGGDRGGGYGGDRGGYGGKMGGRNDYRNDQRNRPY', 'length': 592, 'molWeight': 61830, 'crc64': '73D37C171E1E2BCA', 'md5': '570C3A6E60030F237F98E683E5C915F6'}, 'extraAttributes': {'uniParcId': 'UPI000013317D'}}\n"
     ]
    },
    {
     "name": "stderr",
     "output_type": "stream",
     "text": [
      "Fetching sequences:  65%|██████▌   | 305/469 [02:18<01:12,  2.26it/s]"
     ]
    },
    {
     "name": "stdout",
     "output_type": "stream",
     "text": [
      "{'entryType': 'UniProtKB reviewed (Swiss-Prot)', 'primaryAccession': 'Q9Y696', 'proteinDescription': {'recommendedName': {'fullName': {'value': 'Chloride intracellular channel protein 4'}}, 'alternativeNames': [{'fullName': {'evidences': [{'evidenceCode': 'ECO:0000305', 'source': 'PubMed', 'id': '25581026'}, {'evidenceCode': 'ECO:0000305', 'source': 'PubMed', 'id': '37759794'}], 'value': 'Glutaredoxin-like oxidoreductase CLIC4'}, 'ecNumbers': [{'evidences': [{'evidenceCode': 'ECO:0000269', 'source': 'PubMed', 'id': '25581026'}, {'evidenceCode': 'ECO:0000269', 'source': 'PubMed', 'id': '37759794'}], 'value': '1.8.-.-'}]}, {'fullName': {'value': 'Intracellular chloride ion channel protein p64H1'}}]}, 'genes': [{'geneName': {'evidences': [{'evidenceCode': 'ECO:0000303', 'source': 'PubMed', 'id': '12163372'}, {'evidenceCode': 'ECO:0000312', 'source': 'HGNC', 'id': 'HGNC:13518'}], 'value': 'CLIC4'}}], 'sequence': {'value': 'MALSMPLNGLKEEDKEPLIELFVKAGSDGESIGNCPFSQRLFMILWLKGVVFSVTTVDLKRKPADLQNLAPGTHPPFITFNSEVKTDVNKIEEFLEEVLCPPKYLKLSPKHPESNTAGMDIFAKFSAYIKNSRPEANEALERGLLKTLQKLDEYLNSPLPDEIDENSMEDIKFSTRKFLDGNEMTLADCNLLPKLHIVKVVAKKYRNFDIPKEMTGIWRYLTNAYSRDEFTNTCPSDKEVEIAYSDVAKRLTK', 'length': 253, 'molWeight': 28772, 'crc64': '3DD21A33C66626A5', 'md5': '5785361DFE7B5783B4308B6991E5BE36'}, 'extraAttributes': {'uniParcId': 'UPI0000127AC9'}}\n"
     ]
    },
    {
     "name": "stderr",
     "output_type": "stream",
     "text": [
      "Fetching sequences:  65%|██████▌   | 306/469 [02:18<01:12,  2.26it/s]"
     ]
    },
    {
     "name": "stdout",
     "output_type": "stream",
     "text": [
      "{'entryType': 'UniProtKB reviewed (Swiss-Prot)', 'primaryAccession': 'Q14103', 'proteinDescription': {'recommendedName': {'fullName': {'value': 'Heterogeneous nuclear ribonucleoprotein D0'}, 'shortNames': [{'value': 'hnRNP D0'}]}, 'alternativeNames': [{'fullName': {'value': 'AU-rich element RNA-binding protein 1'}}]}, 'genes': [{'geneName': {'value': 'HNRNPD'}, 'synonyms': [{'value': 'AUF1'}, {'value': 'HNRPD'}]}], 'sequence': {'value': 'MSEEQFGGDGAAAAATAAVGGSAGEQEGAMVAATQGAAAAAGSGAGTGGGTASGGTEGGSAESEGAKIDASKNEEDEGHSNSSPRHSEAATAQREEWKMFIGGLSWDTTKKDLKDYFSKFGEVVDCTLKLDPITGRSRGFGFVLFKESESVDKVMDQKEHKLNGKVIDPKRAKAMKTKEPVKKIFVGGLSPDTPEEKIREYFGGFGEVESIELPMDNKTNKRRGFCFITFKEEEPVKKIMEKKYHNVGLSKCEIKVAMSKEQYQQQQQWGSRGGFAGRARGRGGGPSQNWNQGYSNYWNQGYGNYGYNSQGYGGYGGYDYTGYNNYYGYGDYSNQQSGYGKVSRRGGHQNSYKPY', 'length': 355, 'molWeight': 38434, 'crc64': 'D0B6EA177BEF789E', 'md5': 'C2E20191EE2EC384D0D1CF3F6E764227'}, 'extraAttributes': {'uniParcId': 'UPI0000000C3F'}}\n"
     ]
    },
    {
     "name": "stderr",
     "output_type": "stream",
     "text": [
      "Fetching sequences:  65%|██████▌   | 307/469 [02:18<01:11,  2.27it/s]"
     ]
    },
    {
     "name": "stdout",
     "output_type": "stream",
     "text": [
      "{'entryType': 'UniProtKB reviewed (Swiss-Prot)', 'primaryAccession': 'P26196', 'proteinDescription': {'recommendedName': {'fullName': {'evidences': [{'evidenceCode': 'ECO:0000305'}], 'value': 'Probable ATP-dependent RNA helicase DDX6'}, 'ecNumbers': [{'evidences': [{'evidenceCode': 'ECO:0000305', 'source': 'PubMed', 'id': '27342281'}], 'value': '3.6.4.13'}]}, 'alternativeNames': [{'fullName': {'value': 'ATP-dependent RNA helicase p54'}}, {'fullName': {'value': 'DEAD box protein 6'}}, {'fullName': {'value': 'Oncogene RCK'}}]}, 'genes': [{'geneName': {'value': 'DDX6'}, 'synonyms': [{'value': 'HLR2'}, {'value': 'RCK'}]}], 'sequence': {'value': 'MSTARTENPVIMGLSSQNGQLRGPVKPTGGPGGGGTQTQQQMNQLKNTNTINNGTQQQAQSMTTTIKPGDDWKKTLKLPPKDLRIKTSDVTSTKGNEFEDYCLKRELLMGIFEMGWEKPSPIQEESIPIALSGRDILARAKNGTGKSGAYLIPLLERLDLKKDNIQAMVIVPTRELALQVSQICIQVSKHMGGAKVMATTGGTNLRDDIMRLDDTVHVVIATPGRILDLIKKGVAKVDHVQMIVLDEADKLLSQDFVQIMEDIILTLPKNRQILLYSATFPLSVQKFMNSHLQKPYEINLMEELTLKGVTQYYAYVTERQKVHCLNTLFSRLQINQSIIFCNSSQRVELLAKKISQLGYSCFYIHAKMRQEHRNRVFHDFRNGLCRNLVCTDLFTRGIDIQAVNVVINFDFPKLAETYLHRIGRSGRFGHLGLAINLITYDDRFNLKSIEEQLGTEIKPIPSNIDKSLYVAEYHSEPVEDEKP', 'length': 483, 'molWeight': 54417, 'crc64': 'F802C642861793FB', 'md5': 'FD2CB7E7F51DEF9DAB9C2AF4B19E8755'}, 'extraAttributes': {'uniParcId': 'UPI000013D4A2'}}\n"
     ]
    },
    {
     "name": "stderr",
     "output_type": "stream",
     "text": [
      "Fetching sequences:  66%|██████▌   | 308/469 [02:19<01:11,  2.25it/s]"
     ]
    },
    {
     "name": "stdout",
     "output_type": "stream",
     "text": [
      "{'entryType': 'UniProtKB reviewed (Swiss-Prot)', 'primaryAccession': 'Q9UGN5', 'proteinDescription': {'recommendedName': {'fullName': {'evidences': [{'evidenceCode': 'ECO:0000305'}], 'value': 'Poly [ADP-ribose] polymerase 2'}, 'shortNames': [{'evidences': [{'evidenceCode': 'ECO:0000303', 'source': 'PubMed', 'id': '26704974'}], 'value': 'PARP-2'}, {'evidences': [{'evidenceCode': 'ECO:0000303', 'source': 'PubMed', 'id': '26704974'}], 'value': 'hPARP-2'}], 'ecNumbers': [{'evidences': [{'evidenceCode': 'ECO:0000269', 'source': 'PubMed', 'id': '25043379'}, {'evidenceCode': 'ECO:0000269', 'source': 'PubMed', 'id': '30104678'}, {'evidenceCode': 'ECO:0000269', 'source': 'PubMed', 'id': '30321391'}, {'evidenceCode': 'ECO:0000269', 'source': 'PubMed', 'id': '32939087'}], 'value': '2.4.2.30'}]}, 'alternativeNames': [{'fullName': {'evidences': [{'evidenceCode': 'ECO:0000303', 'source': 'PubMed', 'id': '30321391'}], 'value': 'ADP-ribosyltransferase diphtheria toxin-like 2'}, 'shortNames': [{'evidences': [{'evidenceCode': 'ECO:0000303', 'source': 'PubMed', 'id': '30321391'}], 'value': 'ARTD2'}]}, {'fullName': {'evidences': [{'evidenceCode': 'ECO:0000305'}], 'value': 'DNA ADP-ribosyltransferase PARP2'}, 'ecNumbers': [{'evidences': [{'evidenceCode': 'ECO:0000269', 'source': 'PubMed', 'id': '27471034'}], 'value': '2.4.2.-'}]}, {'fullName': {'value': 'NAD(+) ADP-ribosyltransferase 2'}, 'shortNames': [{'value': 'ADPRT-2'}]}, {'fullName': {'evidences': [{'evidenceCode': 'ECO:0000303', 'source': 'PubMed', 'id': '10338144'}], 'value': 'Poly[ADP-ribose] synthase 2'}, 'shortNames': [{'evidences': [{'evidenceCode': 'ECO:0000303', 'source': 'PubMed', 'id': '10338144'}], 'value': 'pADPRT-2'}]}, {'fullName': {'evidences': [{'evidenceCode': 'ECO:0000305'}], 'value': 'Protein poly-ADP-ribosyltransferase PARP2'}, 'ecNumbers': [{'evidences': [{'evidenceCode': 'ECO:0000269', 'source': 'PubMed', 'id': '25043379'}, {'evidenceCode': 'ECO:0000269', 'source': 'PubMed', 'id': '32939087'}], 'value': '2.4.2.-'}]}]}, 'genes': [{'geneName': {'evidences': [{'evidenceCode': 'ECO:0000303', 'source': 'PubMed', 'id': '20092359'}, {'evidenceCode': 'ECO:0000312', 'source': 'HGNC', 'id': 'HGNC:272'}], 'value': 'PARP2'}, 'synonyms': [{'value': 'ADPRT2'}, {'value': 'ADPRTL2'}]}], 'sequence': {'value': 'MAARRRRSTGGGRARALNESKRVNNGNTAPEDSSPAKKTRRCQRQESKKMPVAGGKANKDRTEDKQDGMPGRSWASKRVSESVKALLLKGKAPVDPECTAKVGKAHVYCEGNDVYDVMLNQTNLQFNNNKYYLIQLLEDDAQRNFSVWMRWGRVGKMGQHSLVACSGNLNKAKEIFQKKFLDKTKNNWEDREKFEKVPGKYDMLQMDYATNTQDEEETKKEESLKSPLKPESQLDLRVQELIKLICNVQAMEEMMMEMKYNTKKAPLGKLTVAQIKAGYQSLKKIEDCIRAGQHGRALMEACNEFYTRIPHDFGLRTPPLIRTQKELSEKIQLLEALGDIEIAIKLVKTELQSPEHPLDQHYRNLHCALRPLDHESYEFKVISQYLQSTHAPTHSDYTMTLLDLFEVEKDGEKEAFREDLHNRMLLWHGSRMSNWVGILSHGLRIAPPEAPITGYMFGKGIYFADMSSKSANYCFASRLKNTGLLLLSEVALGQCNELLEANPKAEGLLQGKHSTKGLGKMAPSSAHFVTLNGSTVPLGPASDTGILNPDGYTLNYNEYIVYNPNQVRMRYLLKVQFNFLQLW', 'length': 583, 'molWeight': 66206, 'crc64': '5B7AE8AE531836AF', 'md5': '49C869A272F3DB88CCD3CC7154D256F7'}, 'extraAttributes': {'uniParcId': 'UPI0000035DCA'}}\n"
     ]
    },
    {
     "name": "stderr",
     "output_type": "stream",
     "text": [
      "Fetching sequences:  66%|██████▌   | 309/469 [02:19<01:10,  2.26it/s]"
     ]
    },
    {
     "name": "stdout",
     "output_type": "stream",
     "text": [
      "{'entryType': 'UniProtKB reviewed (Swiss-Prot)', 'primaryAccession': 'P15311', 'proteinDescription': {'recommendedName': {'fullName': {'value': 'Ezrin'}}, 'alternativeNames': [{'fullName': {'value': 'Cytovillin'}}, {'fullName': {'value': 'Villin-2'}}, {'fullName': {'value': 'p81'}}]}, 'genes': [{'geneName': {'value': 'EZR'}, 'synonyms': [{'value': 'VIL2'}]}], 'sequence': {'value': 'MPKPINVRVTTMDAELEFAIQPNTTGKQLFDQVVKTIGLREVWYFGLHYVDNKGFPTWLKLDKKVSAQEVRKENPLQFKFRAKFYPEDVAEELIQDITQKLFFLQVKEGILSDEIYCPPETAVLLGSYAVQAKFGDYNKEVHKSGYLSSERLIPQRVMDQHKLTRDQWEDRIQVWHAEHRGMLKDNAMLEYLKIAQDLEMYGINYFEIKNKKGTDLWLGVDALGLNIYEKDDKLTPKIGFPWSEIRNISFNDKKFVIKPIDKKAPDFVFYAPRLRINKRILQLCMGNHELYMRRRKPDTIEVQQMKAQAREEKHQKQLERQQLETEKKRRETVEREKEQMMREKEELMLRLQDYEEKTKKAERELSEQIQRALQLEEERKRAQEEAERLEADRMAALRAKEELERQAVDQIKSQEQLAAELAEYTAKIALLEEARRRKEDEVEEWQHRAKEAQDDLVKTKEELHLVMTAPPPPPPPVYEPVSYHVQESLQDEGAEPTGYSAELSSEGIRDDRNEEKRITEAEKNERVQRQLLTLSSELSQARDENKRTHNDIIHNENMRQGRDKYKTLRQIRQGNTKQRIDEFEAL', 'length': 586, 'molWeight': 69413, 'crc64': 'F1B592CF49A7CC46', 'md5': 'B58C9EC67D5A021F2CF87F2EF925F029'}, 'extraAttributes': {'uniParcId': 'UPI0000167BA1'}}\n"
     ]
    },
    {
     "name": "stderr",
     "output_type": "stream",
     "text": [
      "Fetching sequences:  66%|██████▌   | 310/469 [02:20<01:10,  2.26it/s]"
     ]
    },
    {
     "name": "stdout",
     "output_type": "stream",
     "text": [
      "{'entryType': 'UniProtKB reviewed (Swiss-Prot)', 'primaryAccession': 'P51991', 'proteinDescription': {'recommendedName': {'fullName': {'value': 'Heterogeneous nuclear ribonucleoprotein A3'}, 'shortNames': [{'value': 'hnRNP A3'}]}}, 'genes': [{'geneName': {'value': 'HNRNPA3'}, 'synonyms': [{'value': 'HNRPA3'}]}], 'sequence': {'value': 'MEVKPPPGRPQPDSGRRRRRRGEEGHDPKEPEQLRKLFIGGLSFETTDDSLREHFEKWGTLTDCVVMRDPQTKRSRGFGFVTYSCVEEVDAAMCARPHKVDGRVVEPKRAVSREDSVKPGAHLTVKKIFVGGIKEDTEEYNLRDYFEKYGKIETIEVMEDRQSGKKRGFAFVTFDDHDTVDKIVVQKYHTINGHNCEVKKALSKQEMQSAGSQRGRGGGSGNFMGRGGNFGGGGGNFGRGGNFGGRGGYGGGGGGSRGSYGGGDGGYNGFGGDGGNYGGGPGYSSRGGYGGGGPGYGNQGGGYGGGGGYDGYNEGGNFGGGNYGGGGNYNDFGNYSGQQQSNYGPMKGGSFGGRSSGSPYGGGYGSGGGSGGYGSRRF', 'length': 378, 'molWeight': 39595, 'crc64': '832372C4C29547B1', 'md5': 'CAF7F7B854B598402C7FA3903BFCCFEB'}, 'extraAttributes': {'uniParcId': 'UPI00001BE8DE'}}\n"
     ]
    },
    {
     "name": "stderr",
     "output_type": "stream",
     "text": [
      "Fetching sequences:  66%|██████▋   | 311/469 [02:20<01:10,  2.25it/s]"
     ]
    },
    {
     "name": "stdout",
     "output_type": "stream",
     "text": [
      "{'entryType': 'UniProtKB reviewed (Swiss-Prot)', 'primaryAccession': 'O00488', 'proteinDescription': {'recommendedName': {'fullName': {'value': 'Zinc finger protein 593'}}, 'alternativeNames': [{'fullName': {'value': 'Zinc finger protein T86'}}]}, 'genes': [{'geneName': {'value': 'ZNF593'}, 'synonyms': [{'value': 'ZT86'}]}], 'sequence': {'value': 'MGRSRRTGAHRAHSLARQMKAKRRRPDLDEIHRELRPQGSARPQPDPNAEFDPDLPGGGLHRCLACARYFIDSTNLKTHFRSKDHKKRLKQLSVEPYSQEEAERAAGMGSYVPPRRLAVPTEVSTEVPEMDTST', 'length': 134, 'molWeight': 15199, 'crc64': '883BCE4F72459818', 'md5': 'BAD4F6E1F3D5B9D29922E6B32025B893'}, 'extraAttributes': {'uniParcId': 'UPI0000205511'}}\n"
     ]
    },
    {
     "name": "stderr",
     "output_type": "stream",
     "text": [
      "Fetching sequences:  67%|██████▋   | 312/469 [02:21<01:09,  2.25it/s]"
     ]
    },
    {
     "name": "stdout",
     "output_type": "stream",
     "text": [
      "{'entryType': 'UniProtKB reviewed (Swiss-Prot)', 'primaryAccession': 'P19338', 'proteinDescription': {'recommendedName': {'fullName': {'value': 'Nucleolin'}}, 'alternativeNames': [{'fullName': {'value': 'Protein C23'}}]}, 'genes': [{'geneName': {'value': 'NCL'}}], 'sequence': {'value': 'MVKLAKAGKNQGDPKKMAPPPKEVEEDSEDEEMSEDEEDDSSGEEVVIPQKKGKKAAATSAKKVVVSPTKKVAVATPAKKAAVTPGKKAAATPAKKTVTPAKAVTTPGKKGATPGKALVATPGKKGAAIPAKGAKNGKNAKKEDSDEEEDDDSEEDEEDDEDEDEDEDEIEPAAMKAAAAAPASEDEDDEDDEDDEDDDDDEEDDSEEEAMETTPAKGKKAAKVVPVKAKNVAEDEDEEEDDEDEDDDDDEDDEDDDDEDDEEEEEEEEEEPVKEAPGKRKKEMAKQKAAPEAKKQKVEGTEPTTAFNLFVGNLNFNKSAPELKTGISDVFAKNDLAVVDVRIGMTRKFGYVDFESAEDLEKALELTGLKVFGNEIKLEKPKGKDSKKERDARTLLAKNLPYKVTQDELKEVFEDAAEIRLVSKDGKSKGIAYIEFKTEADAEKTFEEKQGTEIDGRSISLYYTGEKGQNQDYRGGKNSTWSGESKTLVLSNLSYSATEETLQEVFEKATFIKVPQNQNGKSKGYAFIEFASFEDAKEALNSCNKREIEGRAIRLELQGPRGSPNARSQPSKTLFVKGLSEDTTEETLKESFDGSVRARIVTDRETGSSKGFGFVDFNSEEDAKAAKEAMEDGEIDGNKVTLDWAKPKGEGGFGGRGGGRGGFGGRGGGRGGRGGFGGRGRGGFGGRGGFRGGRGGGGDHKPQGKKTKFE', 'length': 710, 'molWeight': 76614, 'crc64': 'C97F6E34E5CA6727', 'md5': '867226B7739338F5FE912CA68D86B4C2'}, 'extraAttributes': {'uniParcId': 'UPI0000456F25'}}\n"
     ]
    },
    {
     "name": "stderr",
     "output_type": "stream",
     "text": [
      "Fetching sequences:  67%|██████▋   | 313/469 [02:21<01:08,  2.26it/s]"
     ]
    },
    {
     "name": "stdout",
     "output_type": "stream",
     "text": [
      "{'entryType': 'UniProtKB reviewed (Swiss-Prot)', 'primaryAccession': 'Q7Z6E9', 'proteinDescription': {'recommendedName': {'fullName': {'value': 'E3 ubiquitin-protein ligase RBBP6'}, 'ecNumbers': [{'value': '2.3.2.27'}]}, 'alternativeNames': [{'fullName': {'value': 'Proliferation potential-related protein'}}, {'fullName': {'value': 'Protein P2P-R'}}, {'fullName': {'evidences': [{'evidenceCode': 'ECO:0000305'}], 'value': 'RING-type E3 ubiquitin transferase RBBP6'}}, {'fullName': {'value': 'Retinoblastoma-binding Q protein 1'}, 'shortNames': [{'value': 'RBQ-1'}]}, {'fullName': {'value': 'Retinoblastoma-binding protein 6'}}, {'fullName': {'value': 'p53-associated cellular protein of testis'}}]}, 'genes': [{'geneName': {'value': 'RBBP6'}, 'synonyms': [{'value': 'P2PR'}, {'value': 'PACT'}, {'value': 'RBQ1'}], 'orfNames': [{'value': 'My038'}]}], 'sequence': {'value': 'MSCVHYKFSSKLNYDTVTFDGLHISLCDLKKQIMGREKLKAADCDLQITNAQTKEEYTDDNALIPKNSSVIVRRIPIGGVKSTSKTYVISRTEPAMATTKAIDDSSASISLAQLTKTANLAEANASEEDKIKAMMSQSGHEYDPINYMKKPLGPPPPSYTCFRCGKPGHYIKNCPTNGDKNFESGPRIKKSTGIPRSFMMEVKDPNMKGAMLTNTGKYAIPTIDAEAYAIGKKEKPPFLPEEPSSSSEEDDPIPDELLCLICKDIMTDAVVIPCCGNSYCDECIRTALLESDEHTCPTCHQNDVSPDALIANKFLRQAVNNFKNETGYTKRLRKQLPPPPPPIPPPRPLIQRNLQPLMRSPISRQQDPLMIPVTSSSTHPAPSISSLTSNQSSLAPPVSGNPSSAPAPVPDITATVSISVHSEKSDGPFRDSDNKILPAAALASEHSKGTSSIAITALMEEKGYQVPVLGTPSLLGQSLLHGQLIPTTGPVRINTARPGGGRPGWEHSNKLGYLVSPPQQIRRGERSCYRSINRGRHHSERSQRTQGPSLPATPVFVPVPPPPLYPPPPHTLPLPPGVPPPQFSPQFPPGQPPPAGYSVPPPGFPPAPANLSTPWVSSGVQTAHSNTIPTTQAPPLSREEFYREQRRLKEEEKKKSKLDEFTNDFAKELMEYKKIQKERRRSFSRSKSPYSGSSYSRSSYTYSKSRSGSTRSRSYSRSFSRSHSRSYSRSPPYPRRGRGKSRNYRSRSRSHGYHRSRSRSPPYRRYHSRSRSPQAFRGQSPNKRNVPQGETEREYFNRYREVPPPYDMKAYYGRSVDFRDPFEKERYREWERKYREWYEKYYKGYAAGAQPRPSANRENFSPERFLPLNIRNSPFTRGRREDYVGGQSHRSRNIGSNYPEKLSARDGHNQKDNTKSKEKESENAPGDGKGNKHKKHRKRRKGEESEGFLNPELLETSRKSREPTGVEENKTDSLFVLPSRDDATPVRDEPMDAESITFKSVSEKDKRERDKPKAKGDKTKRKNDGSAVSKKENIVKPAKGPQEKVDGERERSPRSEPPIKKAKEETPKTDNTKSSSSSQKDEKITGTPRKAHSKSAKEHQETKPVKEEKVKKDYSKDVKSEKLTTKEEKAKKPNEKNKPLDNKGEKRKRKTEEKGVDKDFESSSMKISKLEVTEIVKPSPKRKMEPDTEKMDRTPEKDKISLSAPAKKIKLNRETGKKIGSTENISNTKEPSEKLESTSSKVKQEKVKGKVRRKVTGTEGSSSTLVDYTSTSSTGGSPVRKSEEKTDTKRTVIKTMEEYNNDNTAPAEDVIIMIQVPQSKWDKDDFESEEEDVKSTQPISSVGKPASVIKNVSTKPSNIVKYPEKESEPSEKIQKFTKDVSHEIIQHEVKSSKNSASSEKGKTKDRDYSVLEKENPEKRKNSTQPEKESNLDRLNEQGNFKSLSQSSKEARTSDKHDSTRASSNKDFTPNRDKKTDYDTREYSSSKRRDEKNELTRRKDSPSRNKDSASGQKNKPREERDLPKKGTGDSKKSNSSPSRDRKPHDHKATYDTKRPNEETKSVDKNPCKDREKHVLEARNNKESSGNKLLYILNPPETQVEKEQITGQIDKSTVKPKPQLSHSSRLSSDLTRETDEAAFEPDYNESDSESNVSVKEEESSGNISKDLKDKIVEKAKESLDTAAVVQVGISRNQSHSSPSVSPSRSHSPSGSQTRSHSSSASSAESQDSKKKKKKKEKKKHKKHKKHKKHKKHAGTEVELEKSQKHKHKKKKSKKNKDKEKEKEKDDQKVKSVTV', 'length': 1792, 'molWeight': 201564, 'crc64': '550F7BBA5125DA06', 'md5': '5DB5CFF058E6D2C022F3E538EB7EB52F'}, 'extraAttributes': {'uniParcId': 'UPI00001A96B8'}}\n"
     ]
    },
    {
     "name": "stderr",
     "output_type": "stream",
     "text": [
      "Fetching sequences:  67%|██████▋   | 314/469 [02:22<01:07,  2.28it/s]"
     ]
    },
    {
     "name": "stdout",
     "output_type": "stream",
     "text": [
      "{'entryType': 'UniProtKB reviewed (Swiss-Prot)', 'primaryAccession': 'Q9H583', 'proteinDescription': {'recommendedName': {'fullName': {'value': 'HEAT repeat-containing protein 1'}}, 'alternativeNames': [{'fullName': {'value': 'Protein BAP28'}}, {'fullName': {'value': 'U3 small nucleolar RNA-associated protein 10 homolog'}}], 'contains': [{'recommendedName': {'fullName': {'value': 'HEAT repeat-containing protein 1, N-terminally processed'}}}]}, 'genes': [{'geneName': {'evidences': [{'evidenceCode': 'ECO:0000312', 'source': 'HGNC', 'id': 'HGNC:25517'}], 'value': 'HEATR1'}, 'synonyms': [{'value': 'BAP28'}, {'value': 'UTP10'}]}], 'sequence': {'value': 'MTSLAQQLQRLALPQSDASLLSRDEVASLLFDPKEAATIDRDTAFAIGCTGLEELLGIDPSFEQFEAPLFSQLAKTLERSVQTKAVNKQLDENISLFLIHLSPYFLLKPAQKCLEWLIHRFHIHLYNQDSLIACVLPYHETRIFVRVIQLLKINNSKHRWFWLLPVKQSGVPLAKGTLITHCYKDLGFMDFICSLVTKSVKVFAEYPGSSAQLRVLLAFYASTIVSALVAAEDVSDNIIAKLFPYIQKGLKSSLPDYRAATYMIICQISVKVTMENTFVNSLASQIIKTLTKIPSLIKDGLSCLIVLLQRQKPESLGKKPFPHLCNVPDLITILHGISETYDVSPLLHYMLPHLVVSIIHHVTGEETEGMDGQIYKRHLEAILTKISLKNNLDHLLASLLFEEYISYSSQEEMDSNKVSLLNEQFLPLIRLLESKYPRTLDVVLEEHLKEIADLKKQELFHQFVSLSTSGGKYQFLADSDTSLMLSLNHPLAPVRILAMNHLKKIMKTSKEGVDESFIKEAVLARLGDDNIDVVLSAISAFEIFKEHFSSEVTISNLLNLFQRAELSKNGEWYEVLKIAADILIKEEILSENDQLSNQVVVCLLPFMVINNDDTESAEMKIAIYLSKSGICSLHPLLRGWEEALENVIKSTKPGKLIGVANQKMIELLADNINLGDPSSMLKMVEDLISVGEEESFNLKQKVTFHVILSVLVSCCSSLKETHFPFAIRVFSLLQKKIKKLESVITAVEIPSEWHIELMLDRGIPVELWAHYVEELNSTQRVAVEDSVFLVFSLKKFIYALKAPKSFPKGDIWWNPEQLKEDSRDYLHLLIGLFEMMLNGADAVHFRVLMKLFIKVHLEDVFQLFKFCSVLWTYGSSLSNPLNCSVKTVLQTQALYVGCAMLSSQKTQCKHQLASISSPVVTSLLINLGSPVKEVRRAAIQCLQALSGVASPFYLIIDHLISKAEEITSDAAYVIQDLATLFEELQREKKLKSHQKLSETLKNLLSCVYSCPSYIAKDLMKVLQGVNGEMVLSQLLPMAEQLLEKIQKEPTAVLKDEAMVLHLTLGKYNEFSVSLLNEDPKSLDIFIKAVHTTKELYAGMPTIQITALEKITKPFFAAISDEKVQQKLLRMLFDLLVNCKNSHCAQTVSSVFKGISVNAEQVRIELEPPDKAKPLGTVQQKRRQKMQQKKSQDLESVQEVGGSYWQRVTLILELLQHKKKLRSPQILVPTLFNLLSRCLEPLPQEQGNMEYTKQLILSCLLNICQKLSPDGGKIPKDILDEEKFNVELIVQCIRLSEMPQTHHHALLLLGTVAGIFPDKVLHNIMSIFTFMGANVMRLDDTYSFQVINKTVKMVIPALIQSDSGDSIEVSRNVEEIVVKIISVFVDALPHVPEHRRLPILVQLVDTLGAEKFLWILLILLFEQYVTKTVLAAAYGEKDAILEADTEFWFSVCCEFSVQHQIQSLMNILQYLLKLPEEKEETIPKAVSFNKSESQEEMLQVFNVETHTSKQLRHFKFLSVSFMSQLLSSNNFLKKVVESGGPEILKGLEERLLETVLGYISAVAQSMERNADKLTVKFWRALLSKAYDLLDKVNALLPTETFIPVIRGLVGNPLPSVRRKALDLLNNKLQQNISWKKTIVTRFLKLVPDLLAIVQRKKKEGEEEQAINRQTALYTLKLLCKNFGAENPDPFVPVLNTAVKLIAPERKEEKNVLGSALLCIAEVTSTLEALAIPQLPSLMPSLLTTMKNTSELVSSEVYLLSALAALQKVVETLPHFISPYLEGILSQVIHLEKITSEMGSASQANIRLTSLKKTLATTLAPRVLLPAIKKTYKQIEKNWKNHMGPFMSILQEHIGVMKKEELTSHQSQLTAFFLEALDFRAQHSENDLEEVGKTENCIIDCLVAMVVKLSEVTFRPLFFKLFDWAKTEDAPKDRLLTFYNLADCIAEKLKGLFTLFAGHLVKPFADTLNQVNISKTDEAFFDSENDPEKCCLLLQFILNCLYKIFLFDTQHFISKERAEALMMPLVDQLENRLGGEEKFQERVTKHLIPCIAQFSVAMADDSLWKPLNYQILLKTRDSSPKVRFAALITVLALAEKLKENYIVLLPESIPFLAELMEDECEEVEHQCQKTIQQLETVLGEPLQSYF', 'length': 2144, 'molWeight': 242370, 'crc64': '7590EEA17A5FF39D', 'md5': '5DE121FB4AD24C46DEC4B9C9BF8B80A0'}, 'extraAttributes': {'uniParcId': 'UPI000013D4D4'}}\n"
     ]
    },
    {
     "name": "stderr",
     "output_type": "stream",
     "text": [
      "Fetching sequences:  67%|██████▋   | 315/469 [02:22<01:07,  2.27it/s]"
     ]
    },
    {
     "name": "stdout",
     "output_type": "stream",
     "text": [
      "{'entryType': 'UniProtKB reviewed (Swiss-Prot)', 'primaryAccession': 'Q15397', 'proteinDescription': {'recommendedName': {'fullName': {'evidences': [{'evidenceCode': 'ECO:0000305'}], 'value': 'Pumilio homolog 3'}}, 'alternativeNames': [{'fullName': {'value': 'HBV X-transactivated gene 5 protein'}}, {'fullName': {'value': 'HBV XAg-transactivated protein 5'}}, {'fullName': {'value': 'Minor histocompatibility antigen HA-8'}, 'shortNames': [{'value': 'HLA-HA8'}]}]}, 'genes': [{'geneName': {'evidences': [{'evidenceCode': 'ECO:0000312', 'source': 'HGNC', 'id': 'HGNC:29676'}], 'value': 'PUM3'}, 'synonyms': [{'evidences': [{'evidenceCode': 'ECO:0000303', 'source': 'PubMed', 'id': '20813266'}], 'value': 'cPERP-C'}, {'evidences': [{'evidenceCode': 'ECO:0000312', 'source': 'HGNC', 'id': 'HGNC:29676'}], 'value': 'KIAA0020'}, {'evidences': [{'evidenceCode': 'ECO:0000303', 'source': 'PubMed', 'id': '21266351'}], 'value': 'PUF-A'}, {'value': 'XTP5'}]}], 'sequence': {'value': 'MEVKGKKQFTGKSTKTAQEKNRFHKNSDSGSSKTFPTRKVAKEGGPKVTSRNFEKSITKLGKKGVKQFKNKQQGDKSPKNKFQPANKFNKKRKFQPDGRSDESAAKKPKWDDFKKKKKELKQSRQLSDKTNYDIVVRAKQMWEILRRKDCDKEKRVKLMSDLQKLIQGKIKTIAFAHDSTRVIQCYIQYGNEEQRKQAFEELRDDLVELSKAKYSRNIVKKFLMYGSKPQIAEIIRSFKGHVRKMLRHAEASAIVEYAYNDKAILEQRNMLTEELYGNTFQLYKSADHRTLDKVLEVQPEKLELIMDEMKQILTPMAQKEAVIKHSLVHKVFLDFFTYAPPKLRSEMIEAIREAVVYLAHTHDGARVAMHCLWHGTPKDRKVIVKTMKTYVEKVANGQYSHLVLLAAFDCIDDTKLVKQIIISEIISSLPSIVNDKYGRKVLLYLLSPRDPAHTVREIIEVLQKGDGNAHSKKDTEVRRRELLESISPALLSYLQEHAQEVVLDKSACVLVSDILGSATGDVQPTMNAIASLAATGLHPGGKDGELHIAEHPAGHLVLKWLIEQDKKMKENGREGCFAKTLVEHVGMKNLKSWASVNRGAIILSSLLQSCDLEVANKVKAALKSLIPTLEKTKSTSKGIEILLEKLST', 'length': 648, 'molWeight': 73584, 'crc64': '449BFBF22F1BBA86', 'md5': '9C4CB7F9583DE28E933E89B7A547645D'}, 'extraAttributes': {'uniParcId': 'UPI000013D67E'}}\n"
     ]
    },
    {
     "name": "stderr",
     "output_type": "stream",
     "text": [
      "Fetching sequences:  67%|██████▋   | 316/469 [02:22<01:07,  2.28it/s]"
     ]
    },
    {
     "name": "stdout",
     "output_type": "stream",
     "text": [
      "{'entryType': 'UniProtKB reviewed (Swiss-Prot)', 'primaryAccession': 'P06748', 'proteinDescription': {'recommendedName': {'fullName': {'value': 'Nucleophosmin'}, 'shortNames': [{'value': 'NPM'}]}, 'alternativeNames': [{'fullName': {'value': 'Nucleolar phosphoprotein B23'}}, {'fullName': {'value': 'Nucleolar protein NO38'}}, {'fullName': {'value': 'Numatrin'}}]}, 'genes': [{'geneName': {'evidences': [{'evidenceCode': 'ECO:0000312', 'source': 'HGNC', 'id': 'HGNC:7910'}], 'value': 'NPM1'}, 'synonyms': [{'value': 'NPM'}]}], 'sequence': {'value': 'MEDSMDMDMSPLRPQNYLFGCELKADKDYHFKVDNDENEHQLSLRTVSLGAGAKDELHIVEAEAMNYEGSPIKVTLATLKMSVQPTVSLGGFEITPPVVLRLKCGSGPVHISGQHLVAVEEDAESEDEEEEDVKLLSISGKRSAPGGGSKVPQKKVKLAADEDDDDDDEEDDDEDDDDDDFDDEEAEEKAPVKKSIRDTPAKNAQKSNQNGKDSKPSSTPRSKGQESFKKQEKTPKTPKGPSSVEDIKAKMQASIEKGGSLPKVEAKFINYVKNCFRMTDQEAIQDLWQWRKSL', 'length': 294, 'molWeight': 32575, 'crc64': '620BC7BA2E4A0054', 'md5': '09112E5056174B30C061AB1D68CEC572'}, 'extraAttributes': {'uniParcId': 'UPI00001303ED'}}\n"
     ]
    },
    {
     "name": "stderr",
     "output_type": "stream",
     "text": [
      "Fetching sequences:  68%|██████▊   | 317/469 [02:23<01:06,  2.27it/s]"
     ]
    },
    {
     "name": "stdout",
     "output_type": "stream",
     "text": [
      "{'entryType': 'UniProtKB reviewed (Swiss-Prot)', 'primaryAccession': 'Q05519', 'proteinDescription': {'recommendedName': {'fullName': {'value': 'Serine/arginine-rich splicing factor 11'}}, 'alternativeNames': [{'fullName': {'value': 'Arginine-rich 54 kDa nuclear protein'}, 'shortNames': [{'value': 'p54'}]}, {'fullName': {'value': 'Splicing factor, arginine/serine-rich 11'}}]}, 'genes': [{'geneName': {'value': 'SRSF11'}, 'synonyms': [{'value': 'SFRS11'}]}], 'sequence': {'value': 'MSNTTVVPSTAGPGPSGGPGGGGGGGGGGGGTEVIQVTNVSPSASSEQMRTLFGFLGKIDELRLFPPDDSPLPVSSRVCFVKFHDPDSAVVAQHLTNTVFVDRALIVVPYAEGVIPDEAKALSLLAPANAVAGLLPGGGLLPTPNPLTQIGAVPLAALGAPTLDPALAALGLPGANLNSQSLAADQLLKLMSTVDPKLNHVAAGLVSPSLKSDTSSKEIEEAMKRVREAQSLISAAIEPDKKEEKRRHSRSRSRSRRRRTPSSSRHRRSRSRSRRRSHSKSRSRRRSKSPRRRRSHSRERGRRSRSTSKTRDKKKEDKEKKRSKTPPKSYSTARRSRSASRERRRRRSRSGTRSPKKPRSPKRKLSRSPSPRRHKKEKKKDKDKERSRDERERSTSKKKKSKDKEKDRERKSESDKDVKQVTRDYDEEEQGYDSEKEKKEEKKPIETGSPKTKECSVEKGTGDSLRESKVNGDDHHEEDMDMSD', 'length': 484, 'molWeight': 53542, 'crc64': '1211E96DDC0A3182', 'md5': 'FC9F85780C2765BD8D352FBE4FDBFC9C'}, 'extraAttributes': {'uniParcId': 'UPI00001358C5'}}\n"
     ]
    },
    {
     "name": "stderr",
     "output_type": "stream",
     "text": [
      "Fetching sequences:  68%|██████▊   | 318/469 [02:23<01:06,  2.28it/s]"
     ]
    },
    {
     "name": "stdout",
     "output_type": "stream",
     "text": [
      "{'entryType': 'UniProtKB reviewed (Swiss-Prot)', 'primaryAccession': 'Q9Y224', 'proteinDescription': {'recommendedName': {'fullName': {'evidences': [{'evidenceCode': 'ECO:0000312', 'source': 'HGNC', 'id': 'HGNC:23169'}], 'value': 'RNA transcription, translation and transport factor protein'}}, 'alternativeNames': [{'fullName': {'value': 'CLE7 homolog'}, 'shortNames': [{'value': 'CLE'}, {'evidences': [{'evidenceCode': 'ECO:0000303', 'source': 'PubMed', 'id': '26864902'}], 'value': 'hCLE'}]}]}, 'genes': [{'geneName': {'evidences': [{'evidenceCode': 'ECO:0000312', 'source': 'HGNC', 'id': 'HGNC:23169'}], 'value': 'RTRAF'}, 'synonyms': [{'evidences': [{'evidenceCode': 'ECO:0000312', 'source': 'HGNC', 'id': 'HGNC:23169'}], 'value': 'C14orf166'}], 'orfNames': [{'value': 'CGI-99'}]}], 'sequence': {'value': 'MFRRKLTALDYHNPAGFNCKDETEFRNFIVWLEDQKIRHYKIEDRGNLRNIHSSDWPKFFEKYLRDVNCPFKIQDRQEAIDWLLGLAVRLEYGDNAEKYKDLVPDNSKTADNATKNAEPLINLDVNNPDFKAGVMALANLLQIQRHDDYLVMLKAIRILVQERLTQDAVAKANQTKEGLPVALDKHILGFDTGDAVLNEAAQILRLLHIEELRELQTKINEAIVAVQAIIADPKTDHRLGKVGR', 'length': 244, 'molWeight': 28068, 'crc64': 'EB2C3C5577A09A2A', 'md5': '1D146B2438419F399137D7A2B309828D'}, 'extraAttributes': {'uniParcId': 'UPI000012759D'}}\n"
     ]
    },
    {
     "name": "stderr",
     "output_type": "stream",
     "text": [
      "Fetching sequences:  68%|██████▊   | 319/469 [02:24<01:05,  2.28it/s]"
     ]
    },
    {
     "name": "stdout",
     "output_type": "stream",
     "text": [
      "{'entryType': 'UniProtKB reviewed (Swiss-Prot)', 'primaryAccession': 'Q9P031', 'proteinDescription': {'recommendedName': {'fullName': {'value': 'Thyroid transcription factor 1-associated protein 26'}, 'shortNames': [{'value': 'TTF-1-associated protein 26'}]}, 'alternativeNames': [{'fullName': {'value': 'Coiled-coil domain-containing protein 59'}}, {'fullName': {'value': 'TTF-1-associated protein BR2'}}]}, 'genes': [{'geneName': {'value': 'CCDC59'}, 'synonyms': [{'value': 'BR22'}, {'value': 'TAP26'}], 'orfNames': [{'value': 'HSPC128'}]}], 'sequence': {'value': 'MAPVRRSAKWRPGGIEARGEGVSTVGYRNKNVRQKTWRPNHPQAFVGSVREGQGFAFRRKLKIQQSYKKLLRKEKKAQTSLESQFTDRYPDNLKHLYLAEEERHRKQARKVDHPLSEQVHQPLLEEQCSIDEPLFEDQCSFDQPQPEEQCIKTVNSFTIPKKNKKKTSNQKAQEEYEQIQAKRAAKKQEFERRKQEREEAQRQYKKKKMEVFKILNKKTKKGQPNLNVQMEYLLQKIQEKC', 'length': 241, 'molWeight': 28670, 'crc64': 'A9012048D32A87AE', 'md5': 'DDB9E1742E4B4ADC86DDC967D23EF183'}, 'extraAttributes': {'uniParcId': 'UPI0000034DFE'}}\n"
     ]
    },
    {
     "name": "stderr",
     "output_type": "stream",
     "text": [
      "Fetching sequences:  68%|██████▊   | 320/469 [02:24<01:05,  2.27it/s]"
     ]
    },
    {
     "name": "stdout",
     "output_type": "stream",
     "text": [
      "{'entryType': 'UniProtKB reviewed (Swiss-Prot)', 'primaryAccession': 'Q9H7N4', 'proteinDescription': {'recommendedName': {'fullName': {'value': 'Splicing factor, arginine/serine-rich 19'}}, 'alternativeNames': [{'fullName': {'value': 'SR-related C-terminal domain-associated factor 1'}, 'shortNames': [{'value': 'SR-related and CTD-associated factor 1'}]}, {'fullName': {'value': 'SR-related-CTD-associated factor'}, 'shortNames': [{'value': 'SCAF'}]}, {'fullName': {'value': 'Serine arginine-rich pre-mRNA splicing factor SR-A1'}, 'shortNames': [{'value': 'SR-A1'}]}]}, 'genes': [{'geneName': {'value': 'SCAF1'}, 'synonyms': [{'value': 'SFRS19'}, {'value': 'SRA1'}]}], 'sequence': {'value': 'MEEEDESRGKTEESGEDRGDGPPDRDPTLSPSAFILRAIQQAVGSSLQGDLPNDKDGSRCHGLRWRRCRSPRSEPRSQESGGTDTATVLDMATDSFLAGLVSVLDPPDTWVPSRLDLRPGESEDMLELVAEVRIGDRDPIPLPVPSLLPRLRAWRTGKTVSPQSNSSRPTCARHLTLGTGDGGPAPPPAPSSASSSPSPSPSSSSPSPPPPPPPPAPPAPPAPRFDIYDPFHPTDEAYSPPPAPEQKYDPFEPTGSNPSSSAGTPSPEEEEEEEEEEEEEEEDEEEEEGLSQSISRISETLAGIYDDNSLSQDFPGDESPRPDAQPTQPTPAPGTPPQVDSTRADGAMRRRVFVVGTEAEACREGKVSVEVVTAGGAALPPPLLPPGDSEIEEGEIVQPEEEPRLALSLFRPGGRAARPTPAASATPTAQPLPQPPAPRAPEGDDFLSLHAESDGEGALQVDLGEPAPAPPAADSRWGGLDLRRKILTQRRERYRQRSPSPAPAPAPAAAAGPPTRKKSRRERKRSGEAKEAASSSSGTQPAPPAPASPWDSKKHRSRDRKPGSHASSSARRRSRSRSRSRSTRRRSRSTDRRRGGSRRSRSREKRRRRRRSASPPPATSSSSSSRRERHRGKHRDGGGSKKKKKRSRSRGEKRSGDGSEKAPAPAPPPSGSTSCGDRDSRRRGAVPPSIQDLTDHDLFAIKRTITVGRLDKSDPRGPSPAPASSPKREVLYDSEGLSGEERGGKSSQKDRRRSGAASSSSSSREKGSRRKALDGGDRDRDRDRDRDRDRSSKKARPPKESAPSSGPPPKPPVSSGSGSSSSSSSCSSRKVKLQSKVAVLIREGVSSTTPAKDAASAGLGSIGVKFSRDRESRSPFLKPDERAPTEMAKAAPGSTKPKKTKVKAKAGAKKTKGTKGKTKPSKTRKKVRSGGGSGGSGGQVSLKKSKADSCSQAAGTKGAEETSWSGEERAAKVPSTPPPKAAPPPPALTPDSQTVDSSCKTPEVSFLPEEATEEAGVRGGAEEEEEEEEEEEEEEEEEEQQPATTTATSTAAAAPSTAPSAGSTAGDSGAEDGPASRVSQLPTLPPPMPWNLPAGVDCTTSGVLALTALLFKMEEANLASRAKAQELIQATNQILSHRKPPSSLGMTPAPVPTSLGLPPGPSSYLLPGSLPLGGCGSTPPTPTGLAATSDKREGSSSSEGRGDTDKYLKKLHTQERAVEEVKLAIKPYYQKKDITKEEYKDILRKAVHKICHSKSGEINPVKVSNLVRAYVQRYRYFRKHGRKPGDPPGPPRPPKEPGPPDKGGPGLPLPPL', 'length': 1312, 'molWeight': 139270, 'crc64': '0CB1C87C963C52BD', 'md5': '3BAF714E63180F5F2C0F44793AAA47A2'}, 'extraAttributes': {'uniParcId': 'UPI0000071891'}}\n"
     ]
    },
    {
     "name": "stderr",
     "output_type": "stream",
     "text": [
      "Fetching sequences:  68%|██████▊   | 321/469 [02:25<01:04,  2.28it/s]"
     ]
    },
    {
     "name": "stdout",
     "output_type": "stream",
     "text": [
      "{'entryType': 'UniProtKB reviewed (Swiss-Prot)', 'primaryAccession': 'Q7Z2W4', 'proteinDescription': {'recommendedName': {'fullName': {'value': 'Zinc finger CCCH-type antiviral protein 1'}}, 'alternativeNames': [{'fullName': {'evidences': [{'evidenceCode': 'ECO:0000303', 'source': 'PubMed', 'id': '20106667'}], 'value': 'ADP-ribosyltransferase diphtheria toxin-like 13'}, 'shortNames': [{'evidences': [{'evidenceCode': 'ECO:0000303', 'source': 'PubMed', 'id': '20106667'}], 'value': 'ARTD13'}]}, {'fullName': {'evidences': [{'evidenceCode': 'ECO:0000305'}], 'value': 'Inactive Poly [ADP-ribose] polymerase 13'}, 'shortNames': [{'evidences': [{'evidenceCode': 'ECO:0000303', 'source': 'PubMed', 'id': '25043379'}], 'value': 'PARP13'}]}, {'fullName': {'value': 'Zinc finger CCCH domain-containing protein 2'}}, {'fullName': {'value': 'Zinc finger antiviral protein'}, 'shortNames': [{'value': 'ZAP'}]}]}, 'genes': [{'geneName': {'evidences': [{'evidenceCode': 'ECO:0000312', 'source': 'HGNC', 'id': 'HGNC:23721'}], 'value': 'ZC3HAV1'}, 'synonyms': [{'value': 'ZC3HDC2'}], 'orfNames': [{'value': 'PRO1677'}]}], 'sequence': {'value': 'MADPEVCCFITKILCAHGGRMALDALLQEIALSEPQLCEVLQVAGPDRFVVLETGGEAGITRSVVATTRARVCRRKYCQRPCDNLHLCKLNLLGRCNYSQSERNLCKYSHEVLSEENFKVLKNHELSGLNKEELAVLLLQSDPFFMPEICKSYKGEGRQQICNQQPPCSRLHICDHFTRGNCRFPNCLRSHNLMDRKVLAIMREHGLNPDVVQNIQDICNSKHMQKNPPGPRAPSSHRRNMAYRARSKSRDRFFQGSQEFLASASASAERSCTPSPDQISHRASLEDAPVDDLTRKFTYLGSQDRARPPSGSSKATDLGGTSQAGTSQRFLENGSQEDLLHGNPGSTYLASNSTSAPNWKSLTSWTNDQGARRKTVFSPTLPAARSSLGSLQTPEAVTTRKGTGLLSSDYRIINGKSGTQDIQPGPLFNNNADGVATDITSTRSLNYKSTSSGHREISSPRIQDAGPASRDVQATGRIADDADPRVALVNDSLSDVTSTTSSRVDDHDSEEICLDHLCKGCPLNGSCSKVHFHLPYRWQMLIGKTWTDFEHMETIEKGYCNPGIHLCSVGSYTINFRVMSCDSFPIRRLSTPSSVTKPANSVFTTKWIWYWKNESGTWIQYGEEKDKRKNSNVDSSYLESLYQSCPRGVVPFQAGSRNYELSFQGMIQTNIASKTQKDVIRRPTFVPQWYVQQMKRGPDHQPAKTSSVSLTATFRPQEDFCFLSSKKYKLSEIHHLHPEYVRVSEHFKASMKNFKIEKIKKIENSELLDKFTWKKSQMKEEGKLLFYATSRAYVESICSNNFDSFLHETHENKYGKGIYFAKDAIYSHKNCPYDAKNVVMFVAQVLVGKFTEGNITYTSPPPQFDSCVDTRSNPSVFVIFQKDQVYPQYVIEYTEDKACVIS', 'length': 902, 'molWeight': 101431, 'crc64': '72AB311D23658E24', 'md5': 'C39AB97F2CCD8EB3CCE858A9209A1966'}, 'extraAttributes': {'uniParcId': 'UPI00001612AE'}}\n"
     ]
    },
    {
     "name": "stderr",
     "output_type": "stream",
     "text": [
      "Fetching sequences:  69%|██████▊   | 322/469 [02:25<01:04,  2.28it/s]"
     ]
    },
    {
     "name": "stdout",
     "output_type": "stream",
     "text": [
      "{'entryType': 'UniProtKB reviewed (Swiss-Prot)', 'primaryAccession': 'P51532', 'proteinDescription': {'recommendedName': {'fullName': {'value': 'Transcription activator BRG1'}, 'ecNumbers': [{'value': '3.6.4.-'}]}, 'alternativeNames': [{'fullName': {'value': 'ATP-dependent helicase SMARCA4'}}, {'fullName': {'value': 'BRG1-associated factor 190A'}, 'shortNames': [{'value': 'BAF190A'}]}, {'fullName': {'value': 'Mitotic growth and transcription activator'}}, {'fullName': {'value': 'Protein BRG-1'}}, {'fullName': {'value': 'Protein brahma homolog 1'}}, {'fullName': {'value': 'SNF2-beta'}}, {'fullName': {'value': 'SWI/SNF-related matrix-associated actin-dependent regulator of chromatin subfamily A member 4'}}]}, 'genes': [{'geneName': {'value': 'SMARCA4'}, 'synonyms': [{'value': 'BAF190A'}, {'value': 'BRG1'}, {'value': 'SNF2B'}, {'value': 'SNF2L4'}]}], 'sequence': {'value': 'MSTPDPPLGGTPRPGPSPGPGPSPGAMLGPSPGPSPGSAHSMMGPSPGPPSAGHPIPTQGPGGYPQDNMHQMHKPMESMHEKGMSDDPRYNQMKGMGMRSGGHAGMGPPPSPMDQHSQGYPSPLGGSEHASSPVPASGPSSGPQMSSGPGGAPLDGADPQALGQQNRGPTPFNQNQLHQLRAQIMAYKMLARGQPLPDHLQMAVQGKRPMPGMQQQMPTLPPPSVSATGPGPGPGPGPGPGPGPAPPNYSRPHGMGGPNMPPPGPSGVPPGMPGQPPGGPPKPWPEGPMANAAAPTSTPQKLIPPQPTGRPSPAPPAVPPAASPVMPPQTQSPGQPAQPAPMVPLHQKQSRITPIQKPRGLDPVEILQEREYRLQARIAHRIQELENLPGSLAGDLRTKATIELKALRLLNFQRQLRQEVVVCMRRDTALETALNAKAYKRSKRQSLREARITEKLEKQQKIEQERKRRQKHQEYLNSILQHAKDFKEYHRSVTGKIQKLTKAVATYHANTEREQKKENERIEKERMRRLMAEDEEGYRKLIDQKKDKRLAYLLQQTDEYVANLTELVRQHKAAQVAKEKKKKKKKKKAENAEGQTPAIGPDGEPLDETSQMSDLPVKVIHVESGKILTGTDAPKAGQLEAWLEMNPGYEVAPRSDSEESGSEEEEEEEEEEQPQAAQPPTLPVEEKKKIPDPDSDDVSEVDARHIIENAKQDVDDEYGVSQALARGLQSYYAVAHAVTERVDKQSALMVNGVLKQYQIKGLEWLVSLYNNNLNGILADEMGLGKTIQTIALITYLMEHKRINGPFLIIVPLSTLSNWAYEFDKWAPSVVKVSYKGSPAARRAFVPQLRSGKFNVLLTTYEYIIKDKHILAKIRWKYMIVDEGHRMKNHHCKLTQVLNTHYVAPRRLLLTGTPLQNKLPELWALLNFLLPTIFKSCSTFEQWFNAPFAMTGEKVDLNEEETILIIRRLHKVLRPFLLRRLKKEVEAQLPEKVEYVIKCDMSALQRVLYRHMQAKGVLLTDGSEKDKKGKGGTKTLMNTIMQLRKICNHPYMFQHIEESFSEHLGFTGGIVQGLDLYRASGKFELLDRILPKLRATNHKVLLFCQMTSLMTIMEDYFAYRGFKYLRLDGTTKAEDRGMLLKTFNEPGSEYFIFLLSTRAGGLGLNLQSADTVIIFDSDWNPHQDLQAQDRAHRIGQQNEVRVLRLCTVNSVEEKILAAAKYKLNVDQKVIQAGMFDQKSSSHERRAFLQAILEHEEQDESRHCSTGSGSASFAHTAPPPAGVNPDLEEPPLKEEDEVPDDETVNQMIARHEEEFDLFMRMDLDRRREEARNPKRKPRLMEEDELPSWIIKDDAEVERLTCEEEEEKMFGRGSRHRKEVDYSDSLTEKQWLKAIEEGTLEEIEEEVRQKKSSRKRKRDSDAGSSTPTTSTRSRDKDDESKKQKKRGRPPAEKLSPNPPNLTKKMKKIVDAVIKYKDSSSGRQLSEVFIQLPSRKELPEYYELIRKPVDFKKIKERIRNHKYRSLNDLEKDVMLLCQNAQTFNLEGSLIYEDSIVLQSVFTSVRQKIEKEDDSEGEESEEEEEGEEEGSESESRSVKVKIKLGRKEKAQDRLKGGRRRPSRGSRAKPVVSDDDSEEEQEEDRSGSGSEED', 'length': 1647, 'molWeight': 184646, 'crc64': 'ABDA5EDBF10D7D28', 'md5': '244CEFA50AEF26F40034BFAAA9AA32EB'}, 'extraAttributes': {'uniParcId': 'UPI000006F973'}}\n"
     ]
    },
    {
     "name": "stderr",
     "output_type": "stream",
     "text": [
      "Fetching sequences:  69%|██████▉   | 323/469 [02:26<01:11,  2.06it/s]"
     ]
    },
    {
     "name": "stdout",
     "output_type": "stream",
     "text": [
      "{'entryType': 'UniProtKB reviewed (Swiss-Prot)', 'primaryAccession': 'Q9GZR2', 'proteinDescription': {'recommendedName': {'fullName': {'value': 'RNA exonuclease 4'}, 'ecNumbers': [{'value': '3.1.-.-'}]}, 'alternativeNames': [{'fullName': {'value': 'Exonuclease XPMC2'}}, {'fullName': {'value': 'Prevents mitotic catastrophe 2 protein homolog'}, 'shortNames': [{'value': 'hPMC2'}]}]}, 'genes': [{'geneName': {'value': 'REXO4'}, 'synonyms': [{'value': 'PMC2'}, {'value': 'XPMC2H'}]}], 'sequence': {'value': 'MGKAKVPASKRAPSSPVAKPGPVKTLTRKKNKKKKRFWKSKAREVSKKPASGPGAVVRPPKAPEDFSQNWKALQEWLLKQKSQAPEKPLVISQMGSKKKPKIIQQNKKETSPQVKGEEMPAGKDQEASRGSVPSGSKMDRRAPVPRTKASGTEHNKKGTKERTNGDIVPERGDIEHKKRKAKEAAPAPPTEEDIWFDDVDPADIEAAIGPEAAKIARKQLGQSEGSVSLSLVKEQAFGGLTRALALDCEMVGVGPKGEESMAARVSIVNQYGKCVYDKYVKPTEPVTDYRTAVSGIRPENLKQGEELEVVQKEVAEMLKGRILVGHALHNDLKVLFLDHPKKKIRDTQKYKPFKSQVKSGRPSLRLLSEKILGLQVQQAEHCSIQDAQAAMRLYVMVKKEWESMARDRRPLLTAPDHCSDDA', 'length': 422, 'molWeight': 46672, 'crc64': '5994D59678B17C21', 'md5': '617FE6E46C36E3EFBC470DE628246270'}, 'extraAttributes': {'uniParcId': 'UPI00000373DC'}}\n"
     ]
    },
    {
     "name": "stderr",
     "output_type": "stream",
     "text": [
      "Fetching sequences:  69%|██████▉   | 324/469 [02:26<01:09,  2.09it/s]"
     ]
    },
    {
     "name": "stdout",
     "output_type": "stream",
     "text": [
      "{'entryType': 'UniProtKB reviewed (Swiss-Prot)', 'primaryAccession': 'Q14331', 'proteinDescription': {'recommendedName': {'fullName': {'evidences': [{'evidenceCode': 'ECO:0000305'}], 'value': 'Protein FRG1'}}, 'alternativeNames': [{'fullName': {'value': 'FSHD region gene 1 protein'}}]}, 'genes': [{'geneName': {'evidences': [{'evidenceCode': 'ECO:0000312', 'source': 'HGNC', 'id': 'HGNC:3954'}], 'value': 'FRG1'}}], 'sequence': {'value': 'MAEYSYVKSTKLVLKGTKTKSKKKKSKDKKRKREEDEETQLDIVGIWWTVTNFGEISGTIAIEMDKGTYIHALDNGLFTLGAPHKEVDEGPSPPEQFTAVKLSDSRIALKSGYGKYLGINSDGLVVGRSDAIGPREQWEPVFQNGKMALLASNSCFIRCNEAGDIEAKSKTAGEEEMIKIRSCAERETKKKDDIPEEDKGNVKQCEINYVKKFQSFQDHKLKISKEDSKILKKARKDGFLHETLLDRRAKLKADRYCK', 'length': 258, 'molWeight': 29172, 'crc64': 'FFBC981B7602BDB3', 'md5': '30D350A35982B1D20798F147AF221977'}, 'extraAttributes': {'uniParcId': 'UPI000012AC04'}}\n"
     ]
    },
    {
     "name": "stderr",
     "output_type": "stream",
     "text": [
      "Fetching sequences:  69%|██████▉   | 325/469 [02:27<01:06,  2.15it/s]"
     ]
    },
    {
     "name": "stdout",
     "output_type": "stream",
     "text": [
      "{'entryType': 'UniProtKB reviewed (Swiss-Prot)', 'primaryAccession': 'P27816', 'proteinDescription': {'recommendedName': {'fullName': {'value': 'Microtubule-associated protein 4'}, 'shortNames': [{'value': 'MAP-4'}]}}, 'genes': [{'geneName': {'value': 'MAP4'}}], 'sequence': {'value': 'MADLSLADALTEPSPDIEGEIKRDFIATLEAEAFDDVVGETVGKTDYIPLLDVDEKTGNSESKKKPCSETSQIEDTPSSKPTLLANGGHGVEGSDTTGSPTEFLEEKMAYQEYPNSQNWPEDTNFCFQPEQVVDPIQTDPFKMYHDDDLADLVFPSSATADTSIFAGQNDPLKDSYGMSPCNTAVVPQGWSVEALNSPHSESFVSPEAVAEPPQPTAVPLELAKEIEMASEERPPAQALEIMMGLKTTDMAPSKETEMALAKDMALATKTEVALAKDMESPTKLDVTLAKDMQPSMESDMALVKDMELPTEKEVALVKDVRWPTETDVSSAKNVVLPTETEVAPAKDVTLLKETERASPIKMDLAPSKDMGPPKENKKETERASPIKMDLAPSKDMGPPKENKIVPAKDLVLLSEIEVAQANDIISSTEISSAEKVALSSETEVALARDMTLPPETNVILTKDKALPLEAEVAPVKDMAQLPETEIAPAKDVAPSTVKEVGLLKDMSPLSETEMALGKDVTPPPETEVVLIKNVCLPPEMEVALTEDQVPALKTEAPLAKDGVLTLANNVTPAKDVPPLSETEATPVPIKDMEIAQTQKGISEDSHLESLQDVGQSAAPTFMISPETVTGTGKKCSLPAEEDSVLEKLGERKPCNSQPSELSSETSGIARPEEGRPVVSGTGNDITTPPNKELPPSPEKKTKPLATTQPAKTSTSKAKTQPTSLPKQPAPTTIGGLNKKPMSLASGLVPAAPPKRPAVASARPSILPSKDVKPKPIADAKAPEKRASPSKPASAPASRSGSKSTQTVAKTTTAAAVASTGPSSRSPSTLLPKKPTAIKTEGKPAEVKKMTAKSVPADLSRPKSTSTSSMKKTTTLSGTAPAAGVVPSRVKATPMPSRPSTTPFIDKKPTSAKPSSTTPRLSRLATNTSAPDLKNVRSKVGSTENIKHQPGGGRAKVEKKTEAAATTRKPESNAVTKTAGPIASAQKQPAGKVQIVSKKVSYSHIQSKCGSKDNIKHVPGGGNVQIQNKKVDISKVSSKCGSKANIKHKPGGGDVKIESQKLNFKEKAQAKVGSLDNVGHLPAGGAVKTEGGGSEAPLCPGPPAGEEPAISEAAPEAGAPTSASGLNGHPTLSGGGDQREAQTLDSQIQETSI', 'length': 1152, 'molWeight': 121005, 'crc64': '061A69AC18593339', 'md5': 'EED14DFC61F5EE0B8260FE9B6D007541'}, 'extraAttributes': {'uniParcId': 'UPI000020A6A4'}}\n"
     ]
    },
    {
     "name": "stderr",
     "output_type": "stream",
     "text": [
      "Fetching sequences:  70%|██████▉   | 326/469 [02:27<01:05,  2.19it/s]"
     ]
    },
    {
     "name": "stdout",
     "output_type": "stream",
     "text": [
      "{'entryType': 'UniProtKB reviewed (Swiss-Prot)', 'primaryAccession': 'P51149', 'proteinDescription': {'recommendedName': {'fullName': {'evidences': [{'evidenceCode': 'ECO:0000305'}], 'value': 'Ras-related protein Rab-7a'}, 'ecNumbers': [{'evidences': [{'evidenceCode': 'ECO:0000269', 'source': 'PubMed', 'id': '20028791'}], 'value': '3.6.5.2'}]}}, 'genes': [{'geneName': {'evidences': [{'evidenceCode': 'ECO:0000312', 'source': 'HGNC', 'id': 'HGNC:9788'}], 'value': 'RAB7A'}, 'synonyms': [{'value': 'RAB7'}]}], 'sequence': {'value': 'MTSRKKVLLKVIILGDSGVGKTSLMNQYVNKKFSNQYKATIGADFLTKEVMVDDRLVTMQIWDTAGQERFQSLGVAFYRGADCCVLVFDVTAPNTFKTLDSWRDEFLIQASPRDPENFPFVVLGNKIDLENRQVATKRAQAWCYSKNNIPYFETSAKEAINVEQAFQTIARNALKQETEVELYNEFPEPIKLDKNDRAKASAESCSC', 'length': 207, 'molWeight': 23490, 'crc64': 'A2AF33B16A672971', 'md5': 'B30E378A2176B8BD0CEE13F4A7DEC0F2'}, 'extraAttributes': {'uniParcId': 'UPI0000001260'}}\n"
     ]
    },
    {
     "name": "stderr",
     "output_type": "stream",
     "text": [
      "Fetching sequences:  70%|██████▉   | 327/469 [02:27<01:04,  2.21it/s]"
     ]
    },
    {
     "name": "stdout",
     "output_type": "stream",
     "text": [
      "{'entryType': 'UniProtKB reviewed (Swiss-Prot)', 'primaryAccession': 'Q13247', 'proteinDescription': {'recommendedName': {'fullName': {'value': 'Serine/arginine-rich splicing factor 6'}}, 'alternativeNames': [{'fullName': {'value': 'Pre-mRNA-splicing factor SRP55'}}, {'fullName': {'value': 'Splicing factor, arginine/serine-rich 6'}}]}, 'genes': [{'geneName': {'value': 'SRSF6'}, 'synonyms': [{'value': 'SFRS6'}, {'value': 'SRP55'}]}], 'sequence': {'value': 'MPRVYIGRLSYNVREKDIQRFFSGYGRLLEVDLKNGYGFVEFEDSRDADDAVYELNGKELCGERVIVEHARGPRRDRDGYSYGSRSGGGGYSSRRTSGRDKYGPPVRTEYRLIVENLSSRCSWQDLKDFMRQAGEVTYADAHKERTNEGVIEFRSYSDMKRALDKLDGTEINGRNIRLIEDKPRTSHRRSYSGSRSRSRSRRRSRSRSRRSSRSRSRSISKSRSRSRSRSKGRSRSRSKGRKSRSKSKSKPKSDRGSHSHSRSRSKDEYEKSRSRSRSRSPKENGKGDIKSKSRSRSQSRSNSPLPVPPSKARSVSPPPKRATSRSRSRSRSKSRSRSRSSSRD', 'length': 344, 'molWeight': 39587, 'crc64': '72305506CE948B94', 'md5': 'D1D857C691F84E33E214227E9A113E82'}, 'extraAttributes': {'uniParcId': 'UPI00001358C1'}}\n"
     ]
    },
    {
     "name": "stderr",
     "output_type": "stream",
     "text": [
      "Fetching sequences:  70%|██████▉   | 328/469 [02:28<01:03,  2.21it/s]"
     ]
    },
    {
     "name": "stdout",
     "output_type": "stream",
     "text": [
      "{'entryType': 'UniProtKB reviewed (Swiss-Prot)', 'primaryAccession': 'P12004', 'proteinDescription': {'recommendedName': {'fullName': {'value': 'Proliferating cell nuclear antigen'}, 'shortNames': [{'value': 'PCNA'}]}, 'alternativeNames': [{'fullName': {'value': 'Cyclin'}}]}, 'genes': [{'geneName': {'value': 'PCNA'}}], 'sequence': {'value': 'MFEARLVQGSILKKVLEALKDLINEACWDISSSGVNLQSMDSSHVSLVQLTLRSEGFDTYRCDRNLAMGVNLTSMSKILKCAGNEDIITLRAEDNADTLALVFEAPNQEKVSDYEMKLMDLDVEQLGIPEQEYSCVVKMPSGEFARICRDLSHIGDAVVISCAKDGVKFSASGELGNGNIKLSQTSNVDKEEEAVTIEMNEPVQLTFALRYLNFFTKATPLSSTVTLSMSADVPLVVEYKIADMGHLKYYLAPKIEDEEGS', 'length': 261, 'molWeight': 28769, 'crc64': 'E6F08E7EDBC48B00', 'md5': '177BE4ACA1243F08CD651AC6859C278D'}, 'extraAttributes': {'uniParcId': 'UPI0000000AAB'}}\n"
     ]
    },
    {
     "name": "stderr",
     "output_type": "stream",
     "text": [
      "Fetching sequences:  70%|███████   | 329/469 [02:28<01:04,  2.18it/s]"
     ]
    },
    {
     "name": "stdout",
     "output_type": "stream",
     "text": [
      "{'entryType': 'UniProtKB reviewed (Swiss-Prot)', 'primaryAccession': 'Q9NYH9', 'proteinDescription': {'recommendedName': {'fullName': {'value': 'U3 small nucleolar RNA-associated protein 6 homolog'}}, 'alternativeNames': [{'fullName': {'value': 'Hepatocellular carcinoma-associated antigen 66'}}, {'fullName': {'value': 'Multiple hat domains protein'}}]}, 'genes': [{'geneName': {'evidences': [{'evidenceCode': 'ECO:0000312', 'source': 'HGNC', 'id': 'HGNC:18279'}], 'value': 'UTP6'}, 'synonyms': [{'value': 'C17orf40'}, {'value': 'HCA66'}, {'value': 'MHAT'}]}], 'sequence': {'value': 'MAEIIQERIEDRLPELEQLERIGLFSHAEIKAIIKKASDLEYKIQRRTLFKEDFINYVQYEINLLELIQRRRTRIGYSFKKDEIENSIVHRVQGVFQRASAKWKDDVQLWLSYVAFCKKWATKTRLSKVFSAMLAIHSNKPALWIMAAKWEMEDRLSSESARQLFLRALRFHPECPKLYKEYFRMELMHAEKLRKEKEEFEKASMDVENPDYSEEILKGELAWIIYKNSVSIIKGAEFHVSLLSIAQLFDFAKDLQKEIYDDLQALHTDDPLTWDYVARRELEIESQTEEQPTTKQAKAVEVGRKEERCCAVYEEAVKTLPTEAMWKCYITFCLERFTKKSNSGFLRGKRLERTMTVFRKAHELKLLSECQYKQLSVSLLCYNFLREALEVAVAGTELFRDSGTMWQLKLQVLIESKSPDIAMLFEEAFVHLKPQVCLPLWISWAEWSEGAKSQEDTEAVFKKALLAVIGADSVTLKNKYLDWAYRSGGYKKARAVFKSLQESRPFSVDFFRKMIQFEKEQESCNMANIREYYERALREFGSADSDLWMDYMKEELNHPLGRPENCGQIYWRAMKMLQGESAEAFVAKHAMHQTGHL', 'length': 597, 'molWeight': 70194, 'crc64': 'B5254063791E52FF', 'md5': '9D3EB422DB2FFCD07DB7311A5AFD28D2'}, 'extraAttributes': {'uniParcId': 'UPI0000049FB3'}}\n"
     ]
    },
    {
     "name": "stderr",
     "output_type": "stream",
     "text": [
      "Fetching sequences:  70%|███████   | 330/469 [02:29<01:03,  2.20it/s]"
     ]
    },
    {
     "name": "stdout",
     "output_type": "stream",
     "text": [
      "{'entryType': 'UniProtKB reviewed (Swiss-Prot)', 'primaryAccession': 'Q6PKG0', 'proteinDescription': {'recommendedName': {'fullName': {'value': 'La-related protein 1'}}, 'alternativeNames': [{'fullName': {'value': 'La ribonucleoprotein domain family member 1'}}]}, 'genes': [{'geneName': {'value': 'LARP1'}, 'synonyms': [{'value': 'KIAA0731'}, {'value': 'LARP'}]}], 'sequence': {'value': 'MATQVEPLLPGGATLLQAEEHGGLVRKKPPPAPEGKGEPGPNDVRGGEPDGSARRPRPPCAKPHKEGTGQQERESPRPLQLPGAEGPAISDGEEGGGEPGAGGGAAGAAGAGRRDFVEAPPPKVNPWTKNALPPVLTTVNGQSPPEHSAPAKVVRAAVPKQRKGSKVGDFGDAINWPTPGEIAHKSVQPQSHKPQPTRKLPPKKDMKEQEKGEGSDSKESPKTKSDESGEEKNGDEDCQRGGQKKKGNKHKWVPLQIDMKPEVPREKLASRPTRPPEPRHIPANRGEIKGSESATYVPVAPPTPAWQPEIKPEPAWHDQDETSSVKSDGAGGARASFRGRGRGRGRGRGRGRGGTRTHFDYQFGYRKFDGVEGPRTPKYMNNITYYFDNVSSTELYSVDQELLKDYIKRQIEYYFSVDNLERDFFLRRKMDADGFLPITLIASFHRVQALTTDISLIFAALKDSKVVEIVDEKVRRREEPEKWPLPPIVDYSQTDFSQLLNCPEFVPRQHYQKETESAPGSPRAVTPVPTKTEEVSNLKTLPKGLSASLPDLDSENWIEVKKRPRPSPARPKKSEESRFSHLTSLPQQLPSQQLMSKDQDEQEELDFLFDEEMEQMDGRKNTFTAWSDEESDYEIDDRDVNKILIVTQTPHYMRRHPGGDRTGNHTSRAKMSAELAKVINDGLFYYEQDLWAEKFEPEYSQIKQEVENFKKVNMISREQFDTLTPEPPVDPNQEVPPGPPRFQQVPTDALANKLFGAPEPSTIARSLPTTVPESPNYRNTRTPRTPRTPQLKDSSQTSRFYPVVKEGRTLDAKMPRKRKTRHSSNPPLESHVGWVMDSREHRPRTASISSSPSEGTPTVGSYGCTPQSLPKFQHPSHELLKENGFTQHVYHKYRRRCLNERKRLGIGQSQEMNTLFRFWSFFLRDHFNKKMYEEFKQLALEDAKEGYRYGLECLFRYYSYGLEKKFRLDIFKDFQEETVKDYEAGQLYGLEKFWAFLKYSKAKNLDIDPKLQEYLGKFRRLEDFRVDPPMGEEGNHKRHSVVAGGGGGEGRKRCPSQSSSRPAAMISQPPTPPTGQPVREDAKWTSQHSNTQTLGK', 'length': 1096, 'molWeight': 123510, 'crc64': 'CA3E9D30BBC101B7', 'md5': '367E559449F980BADFE3F101C3A45E71'}, 'extraAttributes': {'uniParcId': 'UPI00004EA898'}}\n"
     ]
    },
    {
     "name": "stderr",
     "output_type": "stream",
     "text": [
      "Fetching sequences:  71%|███████   | 331/469 [02:29<01:01,  2.23it/s]"
     ]
    },
    {
     "name": "stdout",
     "output_type": "stream",
     "text": [
      "{'entryType': 'UniProtKB reviewed (Swiss-Prot)', 'primaryAccession': 'Q15365', 'proteinDescription': {'recommendedName': {'fullName': {'evidences': [{'evidenceCode': 'ECO:0000303', 'source': 'PubMed', 'id': '7607214'}], 'value': 'Poly(rC)-binding protein 1'}}, 'alternativeNames': [{'fullName': {'evidences': [{'evidenceCode': 'ECO:0000303', 'source': 'PubMed', 'id': '7556077'}], 'value': 'Alpha-CP1'}}, {'fullName': {'value': 'Heterogeneous nuclear ribonucleoprotein E1'}, 'shortNames': [{'value': 'hnRNP E1'}]}, {'fullName': {'value': 'Nucleic acid-binding protein SUB2.3'}}]}, 'genes': [{'geneName': {'evidences': [{'evidenceCode': 'ECO:0000303', 'source': 'PubMed', 'id': '7607214'}, {'evidenceCode': 'ECO:0000312', 'source': 'HGNC', 'id': 'HGNC:8647'}], 'value': 'PCBP1'}}], 'sequence': {'value': 'MDAGVTESGLNVTLTIRLLMHGKEVGSIIGKKGESVKRIREESGARINISEGNCPERIITLTGPTNAIFKAFAMIIDKLEEDINSSMTNSTAASRPPVTLRLVVPATQCGSLIGKGGCKIKEIRESTGAQVQVAGDMLPNSTERAITIAGVPQSVTECVKQICLVMLETLSQSPQGRVMTIPYQPMPASSPVICAGGQDRCSDAAGYPHATHDLEGPPLDAYSIQGQHTISPLDLAKLNQVARQQSHFAMMHGGTGFAGIDSSSPEVKGYWASLDASTQTTHELTIPNNLIGCIIGRQGANINEIRQMSGAQIKIANPVEGSSGRQVTITGSAASISLAQYLINARLSSEKGMGCS', 'length': 356, 'molWeight': 37498, 'crc64': '6D1A261276CA206D', 'md5': 'FFA53F6D7786A4D5076242015B213712'}, 'extraAttributes': {'uniParcId': 'UPI000000029F'}}\n"
     ]
    },
    {
     "name": "stderr",
     "output_type": "stream",
     "text": [
      "Fetching sequences:  71%|███████   | 332/469 [02:30<01:01,  2.24it/s]"
     ]
    },
    {
     "name": "stdout",
     "output_type": "stream",
     "text": [
      "{'entryType': 'UniProtKB reviewed (Swiss-Prot)', 'primaryAccession': 'Q9BZJ0', 'proteinDescription': {'recommendedName': {'fullName': {'value': 'Crooked neck-like protein 1'}}, 'alternativeNames': [{'fullName': {'value': 'Crooked neck homolog'}, 'shortNames': [{'value': 'hCrn'}]}]}, 'genes': [{'geneName': {'value': 'CRNKL1'}, 'synonyms': [{'value': 'CRN'}], 'orfNames': [{'value': 'CGI-201'}, {'value': 'MSTP021'}]}], 'sequence': {'value': 'MTATVENLTFQKDTLGNAVDKNTSRLELRSYSLAGRHGSTEPLVLAWSSQFRRLTWGCALDALHRSPCVAASQHGVTHLIRSSRTPHSTRCRKEDAQPGHHGNGAASVTAQARGQRSVLQVPLPVPRSCLFSESFVVSVSSQSRFLASVPGTGVQRSTAADMAASTAAGKQRIPKVAKVKNKAPAEVQITAEQLLREAKERELELLPPPPQQKITDEEELNDYKLRKRKTFEDNIRKNRTVISNWIKYAQWEESLKEIQRARSIYERALDVDYRNITLWLKYAEMEMKNRQVNHARNIWDRAITTLPRVNQFWYKYTYMEEMLGNVAGARQVFERWMEWQPEEQAWHSYINFELRYKEVDRARTIYERFVLVHPDVKNWIKYARFEEKHAYFAHARKVYERAVEFFGDEHMDEHLYVAFAKFEENQKEFERVRVIYKYALDRISKQDAQELFKNYTIFEKKFGDRRGIEDIIVSKRRFQYEEEVKANPHNYDAWFDYLRLVESDAEAEAVREVYERAIANVPPIQEKRHWKRYIYLWINYALYEELEAKDPERTRQVYQASLELIPHKKFTFAKMWILYAQFEIRQKNLSLARRALGTSIGKCPKNKLFKVYIELELQLREFDRCRKLYEKFLEFGPENCTSWIKFAELETILGDIDRARAIYELAISQPRLDMPEVLWKSYIDFEIEQEETERTRNLYRRLLQRTQHVKVWISFAQFELSSGKEGSLTKCRQIYEEANKTMRNCEEKEERLMLLESWRSFEEEFGTASDKERVDKLMPEKVKKRRKVQTDDGSDAGWEEYFDYIFPEDAANQPNLKLLAMAKLWKKQQQEKEDAEHHPDEDVDESES', 'length': 848, 'molWeight': 100452, 'crc64': 'E30A39E981BC50AC', 'md5': '4BA3C20CF0DFF91A8528A636D94DF569'}, 'extraAttributes': {'uniParcId': 'UPI00004A39A7'}}\n"
     ]
    },
    {
     "name": "stderr",
     "output_type": "stream",
     "text": [
      "Fetching sequences:  71%|███████   | 333/469 [02:30<01:00,  2.25it/s]"
     ]
    },
    {
     "name": "stdout",
     "output_type": "stream",
     "text": [
      "{'entryType': 'UniProtKB reviewed (Swiss-Prot)', 'primaryAccession': 'Q5VWQ0', 'proteinDescription': {'recommendedName': {'fullName': {'evidences': [{'evidenceCode': 'ECO:0000250', 'source': 'UniProtKB', 'id': 'Q80T69'}], 'value': 'Lysine-specific demethylase 9'}, 'shortNames': [{'evidences': [{'evidenceCode': 'ECO:0000250', 'source': 'UniProtKB', 'id': 'Q80T69'}], 'value': 'KDM9'}], 'ecNumbers': [{'evidences': [{'evidenceCode': 'ECO:0000250', 'source': 'UniProtKB', 'id': 'Q80T69'}], 'value': '1.14.11.-'}]}, 'alternativeNames': [{'fullName': {'value': 'Round spermatid basic protein 1'}}]}, 'genes': [{'geneName': {'value': 'RSBN1'}}], 'sequence': {'value': 'MFISGRRTADKWRAEERLQCPAGSARAALARCADGGAVGPFKCVFVGEMAAQVGAVRVVRAVAAQEEPDKEGKEKPHAGVSPRGVKRQRRSSSGGSQEKRGRPSQEPPLAPPHRRRRSRQHPGPLPPTNAAPTVPGPVEPLLLPPPPPPSLAPAGPAVAAPLPAPSTSALFTFSPLTVSAAGPKHKGHKERHKHHHHRGPDGDPSSCGTDLKHKDKQENGERTGGVPLIKAPKRETPDENGKTQRADDFVLKKIKKKKKKKHREDMRGRRLKMYNKEVQTVCAGLTRISKEILTQGQINSTSGLNKESFRYLKDEQLCRLNLGMQEYRVPQGVQTPFMTHQEHSIRRNFLKTGTKFSNFIHEEHQSNGGALVLHAYMDELSFLSPMEMERFSEEFLALTFSENEKNAAYYALAIVHGAAAYLPDFLDYFAFNFPNTPVKMEILGKKDIETTTISNFHTQVNRTYCCGTYRAGPMRQISLVGAVDEEVGDYFPEFLDMLEESPFLKMTLPWGTLSSLRLQCRSQSDDGPIMWVRPGEQMIPTADMPKSPFKRRRSMNEIKNLQYLPRTSEPREVLFEDRTRAHADHVGQGFDWQSTAAVGVLKAVQFGEWSDQPRITKDVICFHAEDFTDVVQRLQLDLHEPPVSQCVQWVDEAKLNQMRREGIRYARIQLCDNDIYFIPRNVIHQFKTVSAVCSLAWHIRLKQYHPVVEATQNTESNSNMDCGLTGKRELEVDSQCVRIKTESEEACTEIQLLTTASSSFPPASELNLQQDQKTQPIPVLKVESRLDSDQQHNLQEHSTTSV', 'length': 802, 'molWeight': 90072, 'crc64': '78F229AB6A0FABD1', 'md5': 'EF81220267771C89905AE5F989CC4312'}, 'extraAttributes': {'uniParcId': 'UPI00002263B4'}}\n"
     ]
    },
    {
     "name": "stderr",
     "output_type": "stream",
     "text": [
      "Fetching sequences:  71%|███████   | 334/469 [02:31<00:59,  2.27it/s]"
     ]
    },
    {
     "name": "stdout",
     "output_type": "stream",
     "text": [
      "{'entryType': 'UniProtKB reviewed (Swiss-Prot)', 'primaryAccession': 'P26640', 'proteinDescription': {'recommendedName': {'fullName': {'evidences': [{'evidenceCode': 'ECO:0000305'}], 'value': 'Valine--tRNA ligase'}, 'ecNumbers': [{'evidences': [{'evidenceCode': 'ECO:0000269', 'source': 'PubMed', 'id': '8428657'}], 'value': '6.1.1.9'}]}, 'alternativeNames': [{'fullName': {'value': 'Protein G7a'}}, {'fullName': {'value': 'Valyl-tRNA synthetase'}, 'shortNames': [{'value': 'ValRS'}]}]}, 'genes': [{'geneName': {'evidences': [{'evidenceCode': 'ECO:0000312', 'source': 'HGNC', 'id': 'HGNC:12651'}], 'value': 'VARS1'}, 'synonyms': [{'value': 'G7A'}, {'value': 'VARS'}, {'value': 'VARS2'}]}], 'sequence': {'value': 'MSTLYVSPHPDAFPSLRALIAARYGEAGEGPGWGGAHPRICLQPPPTSRTPFPPPRLPALEQGPGGLWVWGATAVAQLLWPAGLGGPGGSRAAVLVQQWVSYADTELIPAACGATLPALGLRSSAQDPQAVLGALGRALSPLEEWLRLHTYLAGEAPTLADLAAVTALLLPFRYVLDPPARRIWNNVTRWFVTCVRQPEFRAVLGEVVLYSGARPLSHQPGPEAPALPKTAAQLKKEAKKREKLEKFQQKQKIQQQQPPPGEKKPKPEKREKRDPGVITYDLPTPPGEKKDVSGPMPDSYSPRYVEAAWYPWWEQQGFFKPEYGRPNVSAANPRGVFMMCIPPPNVTGSLHLGHALTNAIQDSLTRWHRMRGETTLWNPGCDHAGIATQVVVEKKLWREQGLSRHQLGREAFLQEVWKWKEEKGDRIYHQLKKLGSSLDWDRACFTMDPKLSAAVTEAFVRLHEEGIIYRSTRLVNWSCTLNSAISDIEVDKKELTGRTLLSVPGYKEKVEFGVLVSFAYKVQGSDSDEEVVVATTRIETMLGDVAVAVHPKDTRYQHLKGKNVIHPFLSRSLPIVFDEFVDMDFGTGAVKITPAHDQNDYEVGQRHGLEAISIMDSRGALINVPPPFLGLPRFEARKAVLVALKERGLFRGIEDNPMVVPLCNRSKDVVEPLLRPQWYVRCGEMAQAASAAVTRGDLRILPEAHQRTWHAWMDNIREWCISRQLWWGHRIPAYFVTVSDPAVPPGEDPDGRYWVSGRNEAEAREKAAKEFGVSPDKISLQQDEDVLDTWFSSGLFPLSILGWPNQSEDLSVFYPGTLLETGHDILFFWVARMVMLGLKLTGRLPFREVYLHAIVRDAHGRKMSKSLGNVIDPLDVIYGISLQGLHNQLLNSNLDPSEVEKAKEGQKADFPAGIPECGTDALRFGLCAYMSQGRDINLDVNRILGYRHFCNKLWNATKFALRGLGKGFVPSPTSQPGGHESLVDRWIRSRLTEAVRLSNQGFQAYDFPAVTTAQYSFWLYELCDVYLECLKPVLNGVDQVAAECARQTLYTCLDVGLRLLSPFMPFVTEELFQRLPRRMPQAPPSLCVTPYPEPSECSWKDPEAEAALELALSITRAVRSLRADYNLTRIRPDCFLEVADEATGALASAVSGYVQALASAGVVAVLALGAPAPQGCAVALASDRCSIHLQLQGLVDPARELGKLQAKRVEAQRQAQRLRERRAASGYPVKVPLEVQEADEAKLQQTEAELRKVDEAIALFQKML', 'length': 1264, 'molWeight': 140476, 'crc64': '95CCDDBB3AB148AD', 'md5': '8680DF9EB9D39EB3FD04C32EB8011E2C'}, 'extraAttributes': {'uniParcId': 'UPI00001366EA'}}\n"
     ]
    },
    {
     "name": "stderr",
     "output_type": "stream",
     "text": [
      "Fetching sequences:  71%|███████▏  | 335/469 [02:31<00:59,  2.26it/s]"
     ]
    },
    {
     "name": "stdout",
     "output_type": "stream",
     "text": [
      "{'entryType': 'UniProtKB reviewed (Swiss-Prot)', 'primaryAccession': 'Q9H4L4', 'proteinDescription': {'recommendedName': {'fullName': {'value': 'Sentrin-specific protease 3'}, 'ecNumbers': [{'evidences': [{'evidenceCode': 'ECO:0000269', 'source': 'PubMed', 'id': '36050397'}], 'value': '3.4.22.-'}]}, 'alternativeNames': [{'fullName': {'value': 'SUMO-1-specific protease 3'}}, {'fullName': {'value': 'Sentrin/SUMO-specific protease SENP3'}}]}, 'genes': [{'geneName': {'evidences': [{'evidenceCode': 'ECO:0000303', 'source': 'PubMed', 'id': '16608850'}, {'evidenceCode': 'ECO:0000303', 'source': 'PubMed', 'id': '18259216'}, {'evidenceCode': 'ECO:0000312', 'source': 'HGNC', 'id': 'HGNC:17862'}], 'value': 'SENP3'}, 'synonyms': [{'value': 'SSP3'}, {'value': 'SUSP3'}]}], 'sequence': {'value': 'MKETIQGTGSWGPEPPGPGIPPAYSSPRRERLRWPPPPKPRLKSGGGFGPDPGSGTTVPARRLPVPRPSFDASASEEEEEEEEEEDEDEEEEVAAWRLPPRWSQLGTSQRPRPSRPTHRKTCSQRRRRAMRAFRMLLYSKSTSLTFHWKLWGRHRGRRRGLAHPKNHLSPQQGGATPQVPSPCCRFDSPRGPPPPRLGLLGALMAEDGVRGSPPVPSGPPMEEDGLRWTPKSPLDPDSGLLSCTLPNGFGGQSGPEGERSLAPPDASILISNVCSIGDHVAQELFQGSDLGMAEEAERPGEKAGQHSPLREEHVTCVQSILDEFLQTYGSLIPLSTDEVVEKLEDIFQQEFSTPSRKGLVLQLIQSYQRMPGNAMVRGFRVAYKRHVLTMDDLGTLYGQNWLNDQVMNMYGDLVMDTVPEKVHFFNSFFYDKLRTKGYDGVKRWTKNVDIFNKELLLIPIHLEVHWSLISVDVRRRTITYFDSQRTLNRRCPKHIAKYLQAEAVKKDRLDFHQGWKGYFKMNVARQNNDSDCGAFVLQYCKHLALSQPFSFTQQDMPKLRRQIYKELCHCKLTV', 'length': 574, 'molWeight': 65010, 'crc64': 'E495137EE7500741', 'md5': '10F89077AA8547EB59326577D12D9434'}, 'extraAttributes': {'uniParcId': 'UPI0000163BE7'}}\n"
     ]
    },
    {
     "name": "stderr",
     "output_type": "stream",
     "text": [
      "Fetching sequences:  72%|███████▏  | 336/469 [02:31<00:58,  2.27it/s]"
     ]
    },
    {
     "name": "stdout",
     "output_type": "stream",
     "text": [
      "{'entryType': 'UniProtKB reviewed (Swiss-Prot)', 'primaryAccession': 'Q9Y230', 'proteinDescription': {'recommendedName': {'fullName': {'value': 'RuvB-like 2'}, 'ecNumbers': [{'evidences': [{'evidenceCode': 'ECO:0000269', 'source': 'PubMed', 'id': '10428817'}, {'evidenceCode': 'ECO:0000269', 'source': 'PubMed', 'id': '17157868'}], 'value': '3.6.4.12'}]}, 'alternativeNames': [{'fullName': {'value': '48 kDa TATA box-binding protein-interacting protein'}, 'shortNames': [{'value': '48 kDa TBP-interacting protein'}]}, {'fullName': {'value': '51 kDa erythrocyte cytosolic protein'}, 'shortNames': [{'value': 'ECP-51'}]}, {'fullName': {'value': 'INO80 complex subunit J'}}, {'fullName': {'value': 'Repressing pontin 52'}, 'shortNames': [{'value': 'Reptin 52'}]}, {'fullName': {'value': 'TIP49b'}}, {'fullName': {'value': 'TIP60-associated protein 54-beta'}, 'shortNames': [{'value': 'TAP54-beta'}]}]}, 'genes': [{'geneName': {'value': 'RUVBL2'}, 'synonyms': [{'value': 'INO80J'}, {'value': 'TIP48'}, {'value': 'TIP49B'}], 'orfNames': [{'value': 'CGI-46'}]}], 'sequence': {'value': 'MATVTATTKVPEIRDVTRIERIGAHSHIRGLGLDDALEPRQASQGMVGQLAARRAAGVVLEMIREGKIAGRAVLIAGQPGTGKTAIAMGMAQALGPDTPFTAIAGSEIFSLEMSKTEALTQAFRRSIGVRIKEETEIIEGEVVEIQIDRPATGTGSKVGKLTLKTTEMETIYDLGTKMIESLTKDKVQAGDVITIDKATGKISKLGRSFTRARDYDAMGSQTKFVQCPDGELQKRKEVVHTVSLHEIDVINSRTQGFLALFSGDTGEIKSEVREQINAKVAEWREEGKAEIIPGVLFIDEVHMLDIESFSFLNRALESDMAPVLIMATNRGITRIRGTSYQSPHGIPIDLLDRLLIVSTTPYSEKDTKQILRIRCEEEDVEMSEDAYTVLTRIGLETSLRYAIQLITAASLVCRKRKGTEVQVDDIKRVYSLFLDESRSTQYMKEYQDAFLFNELKGETMDTS', 'length': 463, 'molWeight': 51157, 'crc64': '54C78E9C587D975A', 'md5': '112F01EA0FE6A1D2591536A92A2BF886'}, 'extraAttributes': {'uniParcId': 'UPI0000044738'}}\n"
     ]
    },
    {
     "name": "stderr",
     "output_type": "stream",
     "text": [
      "Fetching sequences:  72%|███████▏  | 337/469 [02:32<01:09,  1.91it/s]"
     ]
    },
    {
     "name": "stdout",
     "output_type": "stream",
     "text": [
      "{'entryType': 'UniProtKB reviewed (Swiss-Prot)', 'primaryAccession': 'Q9UHA3', 'proteinDescription': {'recommendedName': {'fullName': {'value': 'Probable ribosome biogenesis protein RLP24'}}, 'alternativeNames': [{'fullName': {'value': 'Ribosomal L24 domain-containing protein 1'}}, {'fullName': {'value': 'Ribosomal protein L24-like'}}]}, 'genes': [{'geneName': {'value': 'RSL24D1'}, 'synonyms': [{'value': 'C15orf15'}, {'value': 'RPL24L'}], 'orfNames': [{'value': 'My024'}]}], 'sequence': {'value': 'MRIEKCYFCSGPIYPGHGMMFVRNDCKVFRFCKSKCHKNFKKKRNPRKVRWTKAFRKAAGKELTVDNSFEFEKRRNEPIKYQRELWNKTIDAMKRVEEIKQKRQAKFIMNRLKKNKELQKVQDIKEVKQNIHLIRAPLAGKGKQLEEKMVQQLQEDVDMEDAP', 'length': 163, 'molWeight': 19621, 'crc64': '1E5D9ECFFCF678D1', 'md5': 'F8FFA2805A944D83412C0E115ABE3F3F'}, 'extraAttributes': {'uniParcId': 'UPI0000073C55'}}\n"
     ]
    },
    {
     "name": "stderr",
     "output_type": "stream",
     "text": [
      "Fetching sequences:  72%|███████▏  | 338/469 [02:33<01:05,  2.01it/s]"
     ]
    },
    {
     "name": "stdout",
     "output_type": "stream",
     "text": [
      "{'entryType': 'UniProtKB reviewed (Swiss-Prot)', 'primaryAccession': 'P08621', 'proteinDescription': {'recommendedName': {'fullName': {'value': 'U1 small nuclear ribonucleoprotein 70 kDa'}, 'shortNames': [{'evidences': [{'evidenceCode': 'ECO:0000303', 'source': 'PubMed', 'id': '3028775'}], 'value': 'U1 snRNP 70 kDa'}, {'evidences': [{'evidenceCode': 'ECO:0000303', 'source': 'PubMed', 'id': '2447561'}, {'evidenceCode': 'ECO:0000303', 'source': 'PubMed', 'id': '25555158'}], 'value': 'U1-70K'}, {'value': 'snRNP70'}]}}, 'genes': [{'geneName': {'value': 'SNRNP70'}, 'synonyms': [{'value': 'RNPU1Z'}, {'value': 'RPU1'}, {'value': 'SNRP70'}, {'value': 'U1AP1'}]}], 'sequence': {'value': 'MTQFLPPNLLALFAPRDPIPYLPPLEKLPHEKHHNQPYCGIAPYIREFEDPRDAPPPTRAETREERMERKRREKIERRQQEVETELKMWDPHNDPNAQGDAFKTLFVARVNYDTTESKLRREFEVYGPIKRIHMVYSKRSGKPRGYAFIEYEHERDMHSAYKHADGKKIDGRRVLVDVERGRTVKGWRPRRLGGGLGGTRRGGADVNIRHSGRDDTSRYDERPGPSPLPHRDRDRDRERERRERSRERDKERERRRSRSRDRRRRSRSRDKEERRRSRERSKDKDRDRKRRSSRSRERARRERERKEELRGGGGDMAEPSEAGDAPPDDGPPGELGPDGPDGPEEKGRDRDRERRRSHRSERERRRDRDRDRDRDREHKRGERGSERGRDEARGGGGGQDNGLEGLGNDSRDMYMESEGGDGYLAPENGYLMEAAPE', 'length': 437, 'molWeight': 51557, 'crc64': 'F1020BF5C40CF97D', 'md5': '8F870D618760F66B4AB1D95D48A59F85'}, 'extraAttributes': {'uniParcId': 'UPI00001352E4'}}\n"
     ]
    },
    {
     "name": "stderr",
     "output_type": "stream",
     "text": [
      "Fetching sequences:  72%|███████▏  | 339/469 [02:33<01:02,  2.08it/s]"
     ]
    },
    {
     "name": "stdout",
     "output_type": "stream",
     "text": [
      "{'entryType': 'UniProtKB reviewed (Swiss-Prot)', 'primaryAccession': 'P26358', 'proteinDescription': {'recommendedName': {'fullName': {'value': 'DNA (cytosine-5)-methyltransferase 1'}, 'shortNames': [{'value': 'Dnmt1'}], 'ecNumbers': [{'value': '2.1.1.37'}]}, 'alternativeNames': [{'fullName': {'value': 'CXXC-type zinc finger protein 9'}}, {'fullName': {'value': 'DNA methyltransferase HsaI'}, 'shortNames': [{'value': 'DNA MTase HsaI'}, {'value': 'M.HsaI'}]}, {'fullName': {'value': 'MCMT'}}]}, 'genes': [{'geneName': {'value': 'DNMT1'}, 'synonyms': [{'value': 'AIM'}, {'value': 'CXXC9'}, {'value': 'DNMT'}]}], 'sequence': {'value': 'MPARTAPARVPTLAVPAISLPDDVRRRLKDLERDSLTEKECVKEKLNLLHEFLQTEIKNQLCDLETKLRKEELSEEGYLAKVKSLLNKDLSLENGAHAYNREVNGRLENGNQARSEARRVGMADANSPPKPLSKPRTPRRSKSDGEAKPEPSPSPRITRKSTRQTTITSHFAKGPAKRKPQEESERAKSDESIKEEDKDQDEKRRRVTSRERVARPLPAEEPERAKSGTRTEKEEERDEKEEKRLRSQTKEPTPKQKLKEEPDREARAGVQADEDEDGDEKDEKKHRSQPKDLAAKRRPEEKEPEKVNPQISDEKDEDEKEEKRRKTTPKEPTEKKMARAKTVMNSKTHPPKCIQCGQYLDDPDLKYGQHPPDAVDEPQMLTNEKLSIFDANESGFESYEALPQHKLTCFSVYCKHGHLCPIDTGLIEKNIELFFSGSAKPIYDDDPSLEGGVNGKNLGPINEWWITGFDGGEKALIGFSTSFAEYILMDPSPEYAPIFGLMQEKIYISKIVVEFLQSNSDSTYEDLINKIETTVPPSGLNLNRFTEDSLLRHAQFVVEQVESYDEAGDSDEQPIFLTPCMRDLIKLAGVTLGQRRAQARRQTIRHSTREKDRGPTKATTTKLVYQIFDTFFAEQIEKDDREDKENAFKRRRCGVCEVCQQPECGKCKACKDMVKFGGSGRSKQACQERRCPNMAMKEADDDEEVDDNIPEMPSPKKMHQGKKKKQNKNRISWVGEAVKTDGKKSYYKKVCIDAETLEVGDCVSVIPDDSSKPLYLARVTALWEDSSNGQMFHAHWFCAGTDTVLGATSDPLELFLVDECEDMQLSYIHSKVKVIYKAPSENWAMEGGMDPESLLEGDDGKTYFYQLWYDQDYARFESPPKTQPTEDNKFKFCVSCARLAEMRQKEIPRVLEQLEDLDSRVLYYSATKNGILYRVGDGVYLPPEAFTFNIKLSSPVKRPRKEPVDEDLYPEHYRKYSDYIKGSNLDAPEPYRIGRIKEIFCPKKSNGRPNETDIKIRVNKFYRPENTHKSTPASYHADINLLYWSDEEAVVDFKAVQGRCTVEYGEDLPECVQVYSMGGPNRFYFLEAYNAKSKSFEDPPNHARSPGNKGKGKGKGKGKPKSQACEPSEPEIEIKLPKLRTLDVFSGCGGLSEGFHQAGISDTLWAIEMWDPAAQAFRLNNPGSTVFTEDCNILLKLVMAGETTNSRGQRLPQKGDVEMLCGGPPCQGFSGMNRFNSRTYSKFKNSLVVSFLSYCDYYRPRFFLLENVRNFVSFKRSMVLKLTLRCLVRMGYQCTFGVLQAGQYGVAQTRRRAIILAAAPGEKLPLFPEPLHVFAPRACQLSVVVDDKKFVSNITRLSSGPFRTITVRDTMSDLPEVRNGASALEISYNGEPQSWFQRQLRGAQYQPILRDHICKDMSALVAARMRHIPLAPGSDWRDLPNIEVRLSDGTMARKLRYTHHDRKNGRSSSGALRGVCSCVEAGKACDPAARQFNTLIPWCLPHTGNRHNHWAGLYGRLEWDGFFSTTVTNPEPMGKQGRVLHPEQHRVVSVRECARSQGFPDTYRLFGNILDKHRQVGNAVPPPLAKAIGLEIKLCMLAKARESASAKIKEEEAAKD', 'length': 1616, 'molWeight': 183165, 'crc64': '1E833192D22AFA5B', 'md5': 'AA4D2DF629C398A84BFE0389AD4BB83A'}, 'extraAttributes': {'uniParcId': 'UPI0000129694'}}\n"
     ]
    },
    {
     "name": "stderr",
     "output_type": "stream",
     "text": [
      "Fetching sequences:  72%|███████▏  | 340/469 [02:33<01:00,  2.14it/s]"
     ]
    },
    {
     "name": "stdout",
     "output_type": "stream",
     "text": [
      "{'entryType': 'UniProtKB reviewed (Swiss-Prot)', 'primaryAccession': 'Q9Y3I0', 'proteinDescription': {'recommendedName': {'fullName': {'evidences': [{'evidenceCode': 'ECO:0000255', 'source': 'HAMAP-Rule', 'id': 'MF_03144'}, {'evidenceCode': 'ECO:0000305'}], 'value': 'RNA-splicing ligase RtcB homolog'}, 'ecNumbers': [{'evidences': [{'evidenceCode': 'ECO:0000255', 'source': 'HAMAP-Rule', 'id': 'MF_03144'}, {'evidenceCode': 'ECO:0000269', 'source': 'PubMed', 'id': '24870230'}, {'evidenceCode': 'ECO:0000305', 'source': 'PubMed', 'id': '21311021'}], 'value': '6.5.1.8'}]}, 'alternativeNames': [{'fullName': {'evidences': [{'evidenceCode': 'ECO:0000255', 'source': 'HAMAP-Rule', 'id': 'MF_03144'}, {'evidenceCode': 'ECO:0000305'}], 'value': \"3'-phosphate/5'-hydroxy nucleic acid ligase\"}}]}, 'genes': [{'geneName': {'evidences': [{'evidenceCode': 'ECO:0000255', 'source': 'HAMAP-Rule', 'id': 'MF_03144'}], 'value': 'RTCB'}, 'synonyms': [{'value': 'C22orf28'}], 'orfNames': [{'value': 'HSPC117'}]}], 'sequence': {'value': 'MSRSYNDELQFLEKINKNCWRIKKGFVPNMQVEGVFYVNDALEKLMFEELRNACRGGGVGGFLPAMKQIGNVAALPGIVHRSIGLPDVHSGYGFAIGNMAAFDMNDPEAVVSPGGVGFDINCGVRLLRTNLDESDVQPVKEQLAQAMFDHIPVGVGSKGVIPMNAKDLEEALEMGVDWSLREGYAWAEDKEHCEEYGRMLQADPNKVSARAKKRGLPQLGTLGAGNHYAEIQVVDEIFNEYAAKKMGIDHKGQVCVMIHSGSRGLGHQVATDALVAMEKAMKRDKIIVNDRQLACARIASPEGQDYLKGMAAAGNYAWVNRSSMTFLTRQAFAKVFNTTPDDLDLHVIYDVSHNIAKVEQHVVDGKERTLLVHRKGSTRAFPPHHPLIAVDYQLTGQPVLIGGTMGTCSYVLTGTEQGMTETFGTTCHGAGRALSRAKSRRNLDFQDVLDKLADMGIAIRVASPKLVMEEAPESYKNVTDVVNTCHDAGISKKAIKLRPIAVIKG', 'length': 505, 'molWeight': 55210, 'crc64': 'C7C0CC2C95BDD27B', 'md5': '99736FCBE3FED94CE485FED1E47D0D54'}, 'extraAttributes': {'uniParcId': 'UPI000006E0DE'}}\n"
     ]
    },
    {
     "name": "stderr",
     "output_type": "stream",
     "text": [
      "Fetching sequences:  73%|███████▎  | 341/469 [02:34<00:59,  2.17it/s]"
     ]
    },
    {
     "name": "stdout",
     "output_type": "stream",
     "text": [
      "{'entryType': 'UniProtKB reviewed (Swiss-Prot)', 'primaryAccession': 'P11387', 'proteinDescription': {'recommendedName': {'fullName': {'value': 'DNA topoisomerase 1'}, 'ecNumbers': [{'evidences': [{'evidenceCode': 'ECO:0000255', 'source': 'PROSITE-ProRule', 'id': 'PRU10130'}, {'evidenceCode': 'ECO:0000269', 'source': 'PubMed', 'id': '14594810'}, {'evidenceCode': 'ECO:0000269', 'source': 'PubMed', 'id': '16033260'}, {'evidenceCode': 'ECO:0000269', 'source': 'PubMed', 'id': '2833744'}], 'value': '5.6.2.1'}]}, 'alternativeNames': [{'fullName': {'value': 'DNA topoisomerase I'}}]}, 'genes': [{'geneName': {'value': 'TOP1'}}], 'sequence': {'value': 'MSGDHLHNDSQIEADFRLNDSHKHKDKHKDREHRHKEHKKEKDREKSKHSNSEHKDSEKKHKEKEKTKHKDGSSEKHKDKHKDRDKEKRKEEKVRASGDAKIKKEKENGFSSPPQIKDEPEDDGYFVPPKEDIKPLKRPRDEDDADYKPKKIKTEDTKKEKKRKLEEEEDGKLKKPKNKDKDKKVPEPDNKKKKPKKEEEQKWKWWEEERYPEGIKWKFLEHKGPVFAPPYEPLPENVKFYYDGKVMKLSPKAEEVATFFAKMLDHEYTTKEIFRKNFFKDWRKEMTNEEKNIITNLSKCDFTQMSQYFKAQTEARKQMSKEEKLKIKEENEKLLKEYGFCIMDNHKERIANFKIEPPGLFRGRGNHPKMGMLKRRIMPEDIIINCSKDAKVPSPPPGHKWKEVRHDNKVTWLVSWTENIQGSIKYIMLNPSSRIKGEKDWQKYETARRLKKCVDKIRNQYREDWKSKEMKVRQRAVALYFIDKLALRAGNEKEEGETADTVGCCSLRVEHINLHPELDGQEYVVEFDFLGKDSIRYYNKVPVEKRVFKNLQLFMENKQPEDDLFDRLNTGILNKHLQDLMEGLTAKVFRTYNASITLQQQLKELTAPDENIPAKILSYNRANRAVAILCNHQRAPPKTFEKSMMNLQTKIDAKKEQLADARRDLKSAKADAKVMKDAKTKKVVESKKKAVQRLEEQLMKLEVQATDREENKQIALGTSKLNYLDPRITVAWCKKWGVPIEKIYNKTQREKFAWAIDMADEDYEF', 'length': 765, 'molWeight': 90726, 'crc64': '6FBED540BCF7BE28', 'md5': '7911E311A28C83E4163D69CC48645357'}, 'extraAttributes': {'uniParcId': 'UPI000004F0B1'}}\n"
     ]
    },
    {
     "name": "stderr",
     "output_type": "stream",
     "text": [
      "Fetching sequences:  73%|███████▎  | 342/469 [02:34<00:57,  2.19it/s]"
     ]
    },
    {
     "name": "stdout",
     "output_type": "stream",
     "text": [
      "{'entryType': 'UniProtKB reviewed (Swiss-Prot)', 'primaryAccession': 'Q9Y3Y2', 'proteinDescription': {'recommendedName': {'fullName': {'value': 'Chromatin target of PRMT1 protein'}}, 'alternativeNames': [{'fullName': {'value': 'Friend of PRMT1 protein'}}, {'fullName': {'value': 'Small arginine- and glycine-rich protein'}, 'shortNames': [{'value': 'SRAG'}]}]}, 'genes': [{'geneName': {'value': 'CHTOP'}, 'synonyms': [{'value': 'C1orf77'}, {'value': 'FOP'}], 'orfNames': [{'value': 'HT031'}, {'value': 'PP7704'}]}], 'sequence': {'value': 'MAAQSAPKVVLKSTTKMSLNERFTNMLKNKQPTPVNIRASMQQQQQLASARNRRLAQQMENRPSVQAALKLKQSLKQRLGKSNIQARLGRPIGALARGAIGGRGLPIIQRGLPRGGLRGGRATRTLLRGGMSLRGQNLLRGGRAVAPRMGLRRGGVRGRGGPGRGGLGRGAMGRGGIGGRGRGMIGRGRGGFGGRGRGRGRGRGALARPVLTKEQLDNQLDAYMSKTKGHLDAELDAYMAQTDPETND', 'length': 248, 'molWeight': 26397, 'crc64': '3D97D16610FCE0E6', 'md5': 'CC9D7CE2B473588556460BDB13F870AD'}, 'extraAttributes': {'uniParcId': 'UPI00000467F6'}}\n"
     ]
    },
    {
     "name": "stderr",
     "output_type": "stream",
     "text": [
      "Fetching sequences:  73%|███████▎  | 343/469 [02:35<00:56,  2.23it/s]"
     ]
    },
    {
     "name": "stdout",
     "output_type": "stream",
     "text": [
      "{'entryType': 'UniProtKB reviewed (Swiss-Prot)', 'primaryAccession': 'P63244', 'proteinDescription': {'recommendedName': {'fullName': {'evidences': [{'evidenceCode': 'ECO:0000303', 'source': 'PubMed', 'id': '24524803'}], 'value': 'Small ribosomal subunit protein RACK1'}}, 'alternativeNames': [{'fullName': {'value': 'Cell proliferation-inducing gene 21 protein'}}, {'fullName': {'value': 'Guanine nucleotide-binding protein subunit beta-2-like 1'}}, {'fullName': {'value': 'Guanine nucleotide-binding protein subunit beta-like protein 12.3'}}, {'fullName': {'value': 'Human lung cancer oncogene 7 protein'}, 'shortNames': [{'value': 'HLC-7'}]}, {'fullName': {'value': 'Receptor for activated C kinase'}}, {'fullName': {'value': 'Receptor of activated protein C kinase 1'}}], 'contains': [{'recommendedName': {'fullName': {'value': 'Small ribosomal subunit protein RACK1, N-terminally processed'}}, 'alternativeNames': [{'fullName': {'value': 'Guanine nucleotide-binding protein subunit beta-2-like 1, N-terminally processed'}}, {'fullName': {'value': 'Receptor of activated protein C kinase 1, N-terminally processed'}}]}]}, 'genes': [{'geneName': {'evidences': [{'evidenceCode': 'ECO:0000312', 'source': 'HGNC', 'id': 'HGNC:4399'}], 'value': 'RACK1'}, 'synonyms': [{'value': 'GNB2L1'}], 'orfNames': [{'value': 'HLC7'}, {'value': 'PIG21'}]}], 'sequence': {'value': 'MTEQMTLRGTLKGHNGWVTQIATTPQFPDMILSASRDKTIIMWKLTRDETNYGIPQRALRGHSHFVSDVVISSDGQFALSGSWDGTLRLWDLTTGTTTRRFVGHTKDVLSVAFSSDNRQIVSGSRDKTIKLWNTLGVCKYTVQDESHSEWVSCVRFSPNSSNPIIVSCGWDKLVKVWNLANCKLKTNHIGHTGYLNTVTVSPDGSLCASGGKDGQAMLWDLNEGKHLYTLDGGDIINALCFSPNRYWLCAATGPSIKIWDLEGKIIVDELKQEVISTSSKAEPPQCTSLAWSADGQTLFAGYTDNLVRVWQVTIGTR', 'length': 317, 'molWeight': 35077, 'crc64': '257F91E369ED2044', 'md5': '2301D151678D4606D30BA9E919AC4D2C'}, 'extraAttributes': {'uniParcId': 'UPI0000001602'}}\n"
     ]
    },
    {
     "name": "stderr",
     "output_type": "stream",
     "text": [
      "Fetching sequences:  73%|███████▎  | 344/469 [02:35<00:55,  2.25it/s]"
     ]
    },
    {
     "name": "stdout",
     "output_type": "stream",
     "text": [
      "{'entryType': 'UniProtKB reviewed (Swiss-Prot)', 'primaryAccession': 'O60508', 'proteinDescription': {'recommendedName': {'fullName': {'value': 'Pre-mRNA-processing factor 17'}}, 'alternativeNames': [{'fullName': {'value': 'Cell division cycle 40 homolog'}}, {'fullName': {'value': 'EH-binding protein 3'}, 'shortNames': [{'value': 'Ehb3'}]}, {'fullName': {'value': 'PRP17 homolog'}, 'shortNames': [{'value': 'hPRP17'}]}]}, 'genes': [{'geneName': {'value': 'CDC40'}, 'synonyms': [{'value': 'EHB3'}, {'value': 'PRP17'}, {'value': 'PRPF17'}]}], 'sequence': {'value': 'MSAAIAALAASYGSGSGSESDSDSESSRCPLPAADSLMHLTKSPSSKPSLAVAVDSAPEVAVKEDLETGVHLDPAVKEVQYNPTYETMFAPEFGPENPFRTQQMAAPRNMLSGYAEPAHINDFMFEQQRRTFATYGYALDPSLDNHQVSAKYIGSVEEAEKNQGLTVFETGQKKTEKRKKFKENDASNIDGFLGPWAKYVDEKDVAKPSEEEQKELDEITAKRQKKGKQEEEKPGEEKTILHVKEMYDYQGRSYLHIPQDVGVNLRSTMPPEKCYLPKKQIHVWSGHTKGVSAVRLFPLSGHLLLSCSMDCKIKLWEVYGERRCLRTFIGHSKAVRDICFNTAGTQFLSAAYDRYLKLWDTETGQCISRFTNRKVPYCVKFNPDEDKQNLFVAGMSDKKIVQWDIRSGEIVQEYDRHLGAVNTIVFVDENRRFVSTSDDKSLRVWEWDIPVDFKYIAEPSMHSMPAVTLSPNGKWLACQSMDNQILIFGAQNRFRLNKKKIFKGHMVAGYACQVDFSPDMSYVISGDGNGKLNIWDWKTTKLYSRFKAHDKVCIGAVWHPHETSKVITCGWDGLIKLWD', 'length': 579, 'molWeight': 65521, 'crc64': '1DE2BAA6F03FF16D', 'md5': '4FF7BCD00181BEEC2F2D3E27683322FE'}, 'extraAttributes': {'uniParcId': 'UPI0000132145'}}\n"
     ]
    },
    {
     "name": "stderr",
     "output_type": "stream",
     "text": [
      "Fetching sequences:  74%|███████▎  | 345/469 [02:36<00:54,  2.26it/s]"
     ]
    },
    {
     "name": "stdout",
     "output_type": "stream",
     "text": [
      "{'entryType': 'UniProtKB reviewed (Swiss-Prot)', 'primaryAccession': 'Q9Y5B9', 'proteinDescription': {'recommendedName': {'fullName': {'value': 'FACT complex subunit SPT16'}}, 'alternativeNames': [{'fullName': {'value': 'Chromatin-specific transcription elongation factor 140 kDa subunit'}}, {'fullName': {'value': 'FACT 140 kDa subunit'}}, {'fullName': {'value': 'FACTp140'}}, {'fullName': {'value': 'Facilitates chromatin transcription complex subunit SPT16'}, 'shortNames': [{'value': 'hSPT16'}]}]}, 'genes': [{'geneName': {'value': 'SUPT16H'}, 'synonyms': [{'value': 'FACT140'}, {'value': 'FACTP140'}]}], 'sequence': {'value': 'MAVTLDKDAYYRRVKRLYSNWRKGEDEYANVDAIVVSVGVDEEIVYAKSTALQTWLFGYELTDTIMVFCDDKIIFMASKKKVEFLKQIANTKGNENANGAPAITLLIREKNESNKSSFDKMIEAIKESKNGKKIGVFSKDKFPGEFMKSWNDCLNKEGFDKIDISAVVAYTIAVKEDGELNLMKKAASITSEVFNKFFKERVMEIVDADEKVRHSKLAESVEKAIEEKKYLAGADPSTVEMCYPPIIQSGGNYNLKFSVVSDKNHMHFGAITCAMGIRFKSYCSNLVRTLMVDPSQEVQENYNFLLQLQEELLKELRHGVKICDVYNAVMDVVKKQKPELLNKITKNLGFGMGIEFREGSLVINSKNQYKLKKGMVFSINLGFSDLTNKEGKKPEEKTYALFIGDTVLVDEDGPATVLTSVKKKVKNVGIFLKNEDEEEEEEEKDEAEDLLGRGSRAALLTERTRNEMTAEEKRRAHQKELAAQLNEEAKRRLTEQKGEQQIQKARKSNVSYKNPSLMPKEPHIREMKIYIDKKYETVIMPVFGIATPFHIATIKNISMSVEGDYTYLRINFYCPGSALGRNEGNIFPNPEATFVKEITYRASNIKAPGEQTVPALNLQNAFRIIKEVQKRYKTREAEEKEKEGIVKQDSLVINLNRSNPKLKDLYIRPNIAQKRMQGSLEAHVNGFRFTSVRGDKVDILYNNIKHALFQPCDGEMIIVLHFHLKNAIMFGKKRHTDVQFYTEVGEITTDLGKHQHMHDRDDLYAEQMEREMRHKLKTAFKNFIEKVEALTKEELEFEVPFRDLGFNGAPYRSTCLLQPTSSALVNATEWPPFVVTLDEVELIHFERVQFHLKNFDMVIVYKDYSKKVTMINAIPVASLDPIKEWLNSCDLKYTEGVQSLNWTKIMKTIVDDPEGFFEQGGWSFLEPEGEGSDAEEGDSESEIEDETFNPSEDDYEEEEEDSDEDYSSEAEESDYSKESLGSEEESGKDWDELEEEARKADRESRYEEEEEQSRSMSRKRKASVHSSGRGSNRGSRHSSAPPKKKRK', 'length': 1047, 'molWeight': 119914, 'crc64': '3E1B23C45BDC61C2', 'md5': '282D3D85227E4877A9EF530D9849646D'}, 'extraAttributes': {'uniParcId': 'UPI0000035D5C'}}\n"
     ]
    },
    {
     "name": "stderr",
     "output_type": "stream",
     "text": [
      "Fetching sequences:  74%|███████▍  | 346/469 [02:36<00:54,  2.25it/s]"
     ]
    },
    {
     "name": "stdout",
     "output_type": "stream",
     "text": [
      "{'entryType': 'UniProtKB reviewed (Swiss-Prot)', 'primaryAccession': 'Q9NW64', 'proteinDescription': {'recommendedName': {'fullName': {'value': 'Pre-mRNA-splicing factor RBM22'}}, 'alternativeNames': [{'fullName': {'value': 'RNA-binding motif protein 22'}}, {'fullName': {'value': 'Zinc finger CCCH domain-containing protein 16'}}]}, 'genes': [{'geneName': {'value': 'RBM22'}, 'synonyms': [{'value': 'ZC3H16'}], 'orfNames': [{'value': '199G4'}]}], 'sequence': {'value': 'MATSLGSNTYNRQNWEDADFPILCQTCLGENPYIRMTKEKYGKECKICARPFTVFRWCPGVRMRFKKTEVCQTCSKLKNVCQTCLLDLEYGLPIQVRDAGLSFKDDMPKSDVNKEYYTQNMEREISNSDGTRPVGMLGKATSTSDMLLKLARTTPYYKRNRPHICSFWVKGECKRGEECPYRHEKPTDPDDPLADQNIKDRYYGINDPVADKLLKRASTMPRLDPPEDKTITTLYVGGLGDTITETDLRNHFYQFGEIRTITVVQRQQCAFIQFATRQAAEVAAEKSFNKLIVNGRRLNVKWGRSQAARGKEKEKDGTTDSGIKLEPVPGLPGALPPPPAAEEEASANYFNLPPSGPPAVVNIALPPPPGIAPPPPPGFGPHMFHPMGPPPPFMRAPGPIHYPSQDPQRMGAHAGKHSSP', 'length': 420, 'molWeight': 46896, 'crc64': 'A82549D8CC88C7D0', 'md5': 'D615411403A0ED516F830F18D16C7251'}, 'extraAttributes': {'uniParcId': 'UPI00000223D3'}}\n"
     ]
    },
    {
     "name": "stderr",
     "output_type": "stream",
     "text": [
      "Fetching sequences:  74%|███████▍  | 347/469 [02:37<00:54,  2.22it/s]"
     ]
    },
    {
     "name": "stdout",
     "output_type": "stream",
     "text": [
      "{'entryType': 'UniProtKB reviewed (Swiss-Prot)', 'primaryAccession': 'P08575', 'proteinDescription': {'recommendedName': {'fullName': {'evidences': [{'evidenceCode': 'ECO:0000305'}], 'value': 'Receptor-type tyrosine-protein phosphatase C'}, 'ecNumbers': [{'value': '3.1.3.48'}]}, 'alternativeNames': [{'fullName': {'value': 'Leukocyte common antigen'}, 'shortNames': [{'value': 'L-CA'}]}, {'fullName': {'value': 'T200'}}], 'cdAntigenNames': [{'value': 'CD45'}], 'flag': 'Precursor'}, 'genes': [{'geneName': {'evidences': [{'evidenceCode': 'ECO:0000312', 'source': 'HGNC', 'id': 'HGNC:9666'}], 'value': 'PTPRC'}, 'synonyms': [{'value': 'CD45'}]}], 'sequence': {'value': 'MTMYLWLKLLAFGFAFLDTEVFVTGQSPTPSPTGLTTAKMPSVPLSSDPLPTHTTAFSPASTFERENDFSETTTSLSPDNTSTQVSPDSLDNASAFNTTGVSSVQTPHLPTHADSQTPSAGTDTQTFSGSAANAKLNPTPGSNAISDVPGERSTASTFPTDPVSPLTTTLSLAHHSSAALPARTSNTTITANTSDAYLNASETTTLSPSGSAVISTTTIATTPSKPTCDEKYANITVDYLYNKETKLFTAKLNVNENVECGNNTCTNNEVHNLTECKNASVSISHNSCTAPDKTLILDVPPGVEKFQLHDCTQVEKADTTICLKWKNIETFTCDTQNITYRFQCGNMIFDNKEIKLENLEPEHEYKCDSEILYNNHKFTNASKIIKTDFGSPGEPQIIFCRSEAAHQGVITWNPPQRSFHNFTLCYIKETEKDCLNLDKNLIKYDLQNLKPYTKYVLSLHAYIIAKVQRNGSAAMCHFTTKSAPPSQVWNMTVSMTSDNSMHVKCRPPRDRNGPHERYHLEVEAGNTLVRNESHKNCDFRVKDLQYSTDYTFKAYFHNGDYPGEPFILHHSTSYNSKALIAFLAFLIIVTSIALLVVLYKIYDLHKKRSCNLDEQQELVERDDEKQLMNVEPIHADILLETYKRKIADEGRLFLAEFQSIPRVFSKFPIKEARKPFNQNKNRYVDILPYDYNRVELSEINGDAGSNYINASYIDGFKEPRKYIAAQGPRDETVDDFWRMIWEQKATVIVMVTRCEEGNRNKCAEYWPSMEEGTRAFGDVVVKINQHKRCPDYIIQKLNIVNKKEKATGREVTHIQFTSWPDHGVPEDPHLLLKLRRRVNAFSNFFSGPIVVHCSAGVGRTGTYIGIDAMLEGLEAENKVDVYGYVVKLRRQRCLMVQVEAQYILIHQALVEYNQFGETEVNLSELHPYLHNMKKRDPPSEPSPLEAEFQRLPSYRSWRTQHIGNQEENKSKNRNSNVIPYDYNRVPLKHELEMSKESEHDSDESSDDDSDSEEPSKYINASFIMSYWKPEVMIAAQGPLKETIGDFWQMIFQRKVKVIVMLTELKHGDQEICAQYWGEGKQTYGDIEVDLKDTDKSSTYTLRVFELRHSKRKDSRTVYQYQYTNWSVEQLPAEPKELISMIQVVKQKLPQKNSSEGNKHHKSTPLLIHCRDGSQQTGIFCALLNLLESAETEEVVDIFQVVKALRKARPGMVSTFEQYQFLYDVIASTYPAQNGQVKKNNHQEDKIEFDNEVDKVKQDANCVNPLGAPEKLPEAKEQAEGSEPTSGTEGPEHSVNGPASPALNQGS', 'length': 1306, 'molWeight': 147486, 'crc64': '6E942E2BF6B17AC5', 'md5': '803FF227F325068ACF025BE0BFDA2C27'}, 'extraAttributes': {'uniParcId': 'UPI000046FDB4'}}\n"
     ]
    },
    {
     "name": "stderr",
     "output_type": "stream",
     "text": [
      "Fetching sequences:  74%|███████▍  | 348/469 [02:39<02:23,  1.19s/it]"
     ]
    },
    {
     "name": "stdout",
     "output_type": "stream",
     "text": [
      "{'entryType': 'UniProtKB reviewed (Swiss-Prot)', 'primaryAccession': 'P01112', 'proteinDescription': {'recommendedName': {'fullName': {'value': 'GTPase HRas'}, 'ecNumbers': [{'evidences': [{'evidenceCode': 'ECO:0000269', 'source': 'PubMed', 'id': '9020151'}], 'value': '3.6.5.2'}]}, 'alternativeNames': [{'fullName': {'value': 'H-Ras-1'}}, {'fullName': {'value': 'Ha-Ras'}}, {'fullName': {'value': 'Transforming protein p21'}}, {'fullName': {'value': 'c-H-ras'}}, {'fullName': {'value': 'p21ras'}}], 'contains': [{'recommendedName': {'fullName': {'value': 'GTPase HRas, N-terminally processed'}}}], 'flag': 'Precursor'}, 'genes': [{'geneName': {'value': 'HRAS'}, 'synonyms': [{'value': 'HRAS1'}]}], 'sequence': {'value': 'MTEYKLVVVGAGGVGKSALTIQLIQNHFVDEYDPTIEDSYRKQVVIDGETCLLDILDTAGQEEYSAMRDQYMRTGEGFLCVFAINNTKSFEDIHQYREQIKRVKDSDDVPMVLVGNKCDLAARTVESRQAQDLARSYGIPYIETSAKTRQGVEDAFYTLVREIRQHKLRKLNPPDESGPGCMSCKCVLS', 'length': 189, 'molWeight': 21298, 'crc64': 'EE6DC2D933E2856A', 'md5': '90E23CA169B65F2B833159B51CDA20C3'}, 'extraAttributes': {'uniParcId': 'UPI0000001251'}}\n"
     ]
    },
    {
     "name": "stderr",
     "output_type": "stream",
     "text": [
      "Fetching sequences:  74%|███████▍  | 349/469 [02:40<01:56,  1.03it/s]"
     ]
    },
    {
     "name": "stdout",
     "output_type": "stream",
     "text": [
      "{'entryType': 'UniProtKB reviewed (Swiss-Prot)', 'primaryAccession': 'Q9H1E3', 'proteinDescription': {'recommendedName': {'fullName': {'evidences': [{'evidenceCode': 'ECO:0000303', 'source': 'PubMed', 'id': '11298763'}], 'value': 'Nuclear ubiquitous casein and cyclin-dependent kinase substrate 1'}}, 'alternativeNames': [{'fullName': {'value': 'P1'}}]}, 'genes': [{'geneName': {'evidences': [{'evidenceCode': 'ECO:0000303', 'source': 'PubMed', 'id': '26323318'}, {'evidenceCode': 'ECO:0000312', 'source': 'HGNC', 'id': 'HGNC:29923'}], 'value': 'NUCKS1'}, 'synonyms': [{'evidences': [{'evidenceCode': 'ECO:0000303', 'source': 'PubMed', 'id': '11298763'}], 'value': 'NUCKS'}], 'orfNames': [{'evidences': [{'evidenceCode': 'ECO:0000303', 'source': 'Reference', 'id': 'Ref.2'}], 'value': 'JC7'}]}], 'sequence': {'value': 'MSRPVRNRKVVDYSQFQESDDADEDYGRDSGPPTKKIRSSPREAKNKRRSGKNSQEDSEDSEDKDVKTKKDDSHSAEDSEDEKEDHKNVRQQRQAASKAASKQREMLMEDVGSEEEQEEEDEAPFQEKDSGSDEDFLMEDDDDSDYGSSKKKNKKMVKKSKPERKEKKMPKPRLKATVTPSPVKGKGKVGRPTASKASKEKTPSPKEEDEEPESPPEKKTSTSPPPEKSGDEGSEDEAPSGED', 'length': 243, 'molWeight': 27296, 'crc64': '136BA1885F893950', 'md5': '4ACC81B3F4B6B34C4B70322D1162B07A'}, 'extraAttributes': {'uniParcId': 'UPI000013096A'}}\n"
     ]
    },
    {
     "name": "stderr",
     "output_type": "stream",
     "text": [
      "Fetching sequences:  75%|███████▍  | 350/469 [02:40<01:37,  1.22it/s]"
     ]
    },
    {
     "name": "stdout",
     "output_type": "stream",
     "text": [
      "{'entryType': 'UniProtKB reviewed (Swiss-Prot)', 'primaryAccession': 'O43818', 'proteinDescription': {'recommendedName': {'fullName': {'value': 'U3 small nucleolar RNA-interacting protein 2'}}, 'alternativeNames': [{'fullName': {'value': 'RRP9 homolog'}}, {'fullName': {'evidences': [{'evidenceCode': 'ECO:0000303', 'source': 'PubMed', 'id': '26867678'}], 'value': 'U3 small nucleolar ribonucleoprotein-associated 55 kDa protein'}, 'shortNames': [{'evidences': [{'evidenceCode': 'ECO:0000303', 'source': 'PubMed', 'id': '26867678'}], 'value': 'U3 snoRNP-associated 55 kDa protein'}, {'evidences': [{'evidenceCode': 'ECO:0000303', 'source': 'PubMed', 'id': '26867678'}], 'value': 'U3-55K'}]}]}, 'genes': [{'geneName': {'evidences': [{'evidenceCode': 'ECO:0000312', 'source': 'HGNC', 'id': 'HGNC:16829'}], 'value': 'RRP9'}, 'synonyms': [{'value': 'RNU3IP2'}, {'evidences': [{'evidenceCode': 'ECO:0000303', 'source': 'PubMed', 'id': '26867678'}], 'value': 'U355K'}]}], 'sequence': {'value': 'MSATAAARKRGKPASGAGAGAGAGKRRRKADSAGDRGKSKGGGKMNEEISSDSESESLAPRKPEEEEEEELEETAQEKKLRLAKLYLEQLRQQEEEKAEARAFEEDQVAGRLKEDVLEQRGRLQKLVAKEIQAPASADIRVLRGHQLSITCLVVTPDDSAIFSAAKDCSIIKWSVESGRKLHVIPRAKKGAEGKPPGHSSHVLCMAISSDGKYLASGDRSKLILIWEAQSCQHLYTFTGHRDAVSGLAFRRGTHQLYSTSHDRSVKVWNVAENSYVETLFGHQDAVAALDALSRECCVTAGGRDGTVRVWKIPEESQLVFYGHQGSIDCIHLINEEHMVSGADDGSVALWGLSKKRPLALQREAHGLRGEPGLEQPFWISSVAALLNTDLVATGSHSSCVRLWQCGEGFRQLDLLCDIPLVGFINSLKFSSSGDFLVAGVGQEHRLGRWWRIKEARNSVCIIPLRRVPVPPAAGS', 'length': 475, 'molWeight': 51841, 'crc64': '3CD19F66EA75B627', 'md5': 'C6DD035CF4D5258190B7FDEAD477D05B'}, 'extraAttributes': {'uniParcId': 'UPI000006F889'}}\n"
     ]
    },
    {
     "name": "stderr",
     "output_type": "stream",
     "text": [
      "Fetching sequences:  75%|███████▍  | 351/469 [02:41<01:23,  1.41it/s]"
     ]
    },
    {
     "name": "stdout",
     "output_type": "stream",
     "text": [
      "{'entryType': 'UniProtKB reviewed (Swiss-Prot)', 'primaryAccession': 'O95232', 'proteinDescription': {'recommendedName': {'fullName': {'value': 'Luc7-like protein 3'}}, 'alternativeNames': [{'fullName': {'value': 'Cisplatin resistance-associated-overexpressed protein'}}, {'fullName': {'value': 'Luc7A'}}, {'fullName': {'value': 'Okadaic acid-inducible phosphoprotein OA48-18'}}, {'fullName': {'value': 'cAMP regulatory element-associated protein 1'}, 'shortNames': [{'value': 'CRE-associated protein 1'}, {'value': 'CREAP-1'}]}]}, 'genes': [{'geneName': {'value': 'LUC7L3'}, 'synonyms': [{'value': 'CREAP1'}, {'value': 'CROP'}, {'value': 'O48'}]}], 'sequence': {'value': 'MISAAQLLDELMGRDRNLAPDEKRSNVRWDHESVCKYYLCGFCPAELFTNTRSDLGPCEKIHDENLRKQYEKSSRFMKVGYERDFLRYLQSLLAEVERRIRRGHARLALSQNQQSSGAAGPTGKNEEKIQVLTDKIDVLLQQIEELGSEGKVEEAQGMMKLVEQLKEERELLRSTTSTIESFAAQEKQMEVCEVCGAFLIVGDAQSRVDDHLMGKQHMGYAKIKATVEELKEKLRKRTEEPDRDERLKKEKQEREEREKEREREREERERKRRREEEEREKERARDRERRKRSRSRSRHSSRTSDRRCSRSRDHKRSRSRERRRSRSRDRRRSRSHDRSERKHRSRSRDRRRSKSRDRKSYKHRSKSRDREQDRKSKEKEKRGSDDKKSSVKSGSREKQSEDTNTESKESDTKNEVNGTSEDIKSEGDTQSN', 'length': 432, 'molWeight': 51466, 'crc64': 'E75F55EC0137310C', 'md5': 'BAFD7631E71C55AEFC3A88E6F691DD5A'}, 'extraAttributes': {'uniParcId': 'UPI00000736F2'}}\n"
     ]
    },
    {
     "name": "stderr",
     "output_type": "stream",
     "text": [
      "Fetching sequences:  75%|███████▌  | 352/469 [02:41<01:13,  1.59it/s]"
     ]
    },
    {
     "name": "stdout",
     "output_type": "stream",
     "text": [
      "{'entryType': 'UniProtKB reviewed (Swiss-Prot)', 'primaryAccession': 'P08754', 'proteinDescription': {'recommendedName': {'fullName': {'value': 'Guanine nucleotide-binding protein G(i) subunit alpha-3'}}, 'alternativeNames': [{'fullName': {'value': 'G(i) alpha-3'}}]}, 'genes': [{'geneName': {'value': 'GNAI3'}}], 'sequence': {'value': 'MGCTLSAEDKAAVERSKMIDRNLREDGEKAAKEVKLLLLGAGESGKSTIVKQMKIIHEDGYSEDECKQYKVVVYSNTIQSIIAIIRAMGRLKIDFGEAARADDARQLFVLAGSAEEGVMTPELAGVIKRLWRDGGVQACFSRSREYQLNDSASYYLNDLDRISQSNYIPTQQDVLRTRVKTTGIVETHFTFKDLYFKMFDVGGQRSERKKWIHCFEGVTAIIFCVALSDYDLVLAEDEEMNRMHESMKLFDSICNNKWFTETSIILFLNKKDLFEEKIKRSPLTICYPEYTGSNTYEEAAAYIQCQFEDLNRRKDTKEIYTHFTCATDTKNVQFVFDAVTDVIIKNNLKECGLY', 'length': 354, 'molWeight': 40532, 'crc64': 'EAB6B4DD3646BC01', 'md5': '0F2B8AD250703331A700CDF60326E36B'}, 'extraAttributes': {'uniParcId': 'UPI000004D205'}}\n"
     ]
    },
    {
     "name": "stderr",
     "output_type": "stream",
     "text": [
      "Fetching sequences:  75%|███████▌  | 353/469 [02:42<01:05,  1.76it/s]"
     ]
    },
    {
     "name": "stdout",
     "output_type": "stream",
     "text": [
      "{'entryType': 'UniProtKB reviewed (Swiss-Prot)', 'primaryAccession': 'P26368', 'proteinDescription': {'recommendedName': {'fullName': {'value': 'Splicing factor U2AF 65 kDa subunit'}}, 'alternativeNames': [{'fullName': {'value': 'U2 auxiliary factor 65 kDa subunit'}, 'shortNames': [{'value': 'hU2AF(65)'}, {'value': 'hU2AF65'}]}, {'fullName': {'value': 'U2 snRNP auxiliary factor large subunit'}}]}, 'genes': [{'geneName': {'value': 'U2AF2'}, 'synonyms': [{'value': 'U2AF65'}]}], 'sequence': {'value': 'MSDFDEFERQLNENKQERDKENRHRKRSHSRSRSRDRKRRSRSRDRRNRDQRSASRDRRRRSKPLTRGAKEEHGGLIRSPRHEKKKKVRKYWDVPPPGFEHITPMQYKAMQAAGQIPATALLPTMTPDGLAVTPTPVPVVGSQMTRQARRLYVGNIPFGITEEAMMDFFNAQMRLGGLTQAPGNPVLAVQINQDKNFAFLEFRSVDETTQAMAFDGIIFQGQSLKIRRPHDYQPLPGMSENPSVYVPGVVSTVVPDSAHKLFIGGLPNYLNDDQVKELLTSFGPLKAFNLVKDSATGLSKGYAFCEYVDINVTDQAIAGLNGMQLGDKKLLVQRASVGAKNATLVSPPSTINQTPVTLQVPGLMSSQVQMGGHPTEVLCLMNMVLPEELLDDEEYEEIVEDVRDECSKYGLVKSIEIPRPVDGVEVPGCGKIFVEFTSVFDCQKAMQGLTGRKFANRVVVTKYCDPDSYHRRDFW', 'length': 475, 'molWeight': 53501, 'crc64': '26AD271CD8FC6211', 'md5': 'F276AC8946CE3FD4D170D3EF19DC29A0'}, 'extraAttributes': {'uniParcId': 'UPI0000137924'}}\n"
     ]
    },
    {
     "name": "stderr",
     "output_type": "stream",
     "text": [
      "Fetching sequences:  75%|███████▌  | 354/469 [02:42<01:00,  1.89it/s]"
     ]
    },
    {
     "name": "stdout",
     "output_type": "stream",
     "text": [
      "{'entryType': 'UniProtKB reviewed (Swiss-Prot)', 'primaryAccession': 'Q14974', 'proteinDescription': {'recommendedName': {'fullName': {'value': 'Importin subunit beta-1'}}, 'alternativeNames': [{'fullName': {'value': 'Importin-90'}}, {'fullName': {'value': 'Karyopherin subunit beta-1'}}, {'fullName': {'evidences': [{'evidenceCode': 'ECO:0000303', 'source': 'PubMed', 'id': '7615630'}], 'value': 'Nuclear factor p97'}}, {'fullName': {'value': 'Pore targeting complex 97 kDa subunit'}, 'shortNames': [{'value': 'PTAC97'}]}]}, 'genes': [{'geneName': {'value': 'KPNB1'}, 'synonyms': [{'value': 'NTF97'}]}], 'sequence': {'value': 'MELITILEKTVSPDRLELEAAQKFLERAAVENLPTFLVELSRVLANPGNSQVARVAAGLQIKNSLTSKDPDIKAQYQQRWLAIDANARREVKNYVLQTLGTETYRPSSASQCVAGIACAEIPVNQWPELIPQLVANVTNPNSTEHMKESTLEAIGYICQDIDPEQLQDKSNEILTAIIQGMRKEEPSNNVKLAATNALLNSLEFTKANFDKESERHFIMQVVCEATQCPDTRVRVAALQNLVKIMSLYYQYMETYMGPALFAITIEAMKSDIDEVALQGIEFWSNVCDEEMDLAIEASEAAEQGRPPEHTSKFYAKGALQYLVPILTQTLTKQDENDDDDDWNPCKAAGVCLMLLATCCEDDIVPHVLPFIKEHIKNPDWRYRDAAVMAFGCILEGPEPSQLKPLVIQAMPTLIELMKDPSVVVRDTAAWTVGRICELLPEAAINDVYLAPLLQCLIEGLSAEPRVASNVCWAFSSLAEAAYEAADVADDQEEPATYCLSSSFELIVQKLLETTDRPDGHQNNLRSSAYESLMEIVKNSAKDCYPAVQKTTLVIMERLQQVLQMESHIQSTSDRIQFNDLQSLLCATLQNVLRKVQHQDALQISDVVMASLLRMFQSTAGSGGVQEDALMAVSTLVEVLGGEFLKYMEAFKPFLGIGLKNYAEYQVCLAAVGLVGDLCRALQSNIIPFCDEVMQLLLENLGNENVHRSVKPQILSVFGDIALAIGGEFKKYLEVVLNTLQQASQAQVDKSDYDMVDYLNELRESCLEAYTGIVQGLKGDQENVHPDVMLVQPRVEFILSFIDHIAGDEDHTDGVVACAAGLIGDLCTAFGKDVLKLVEARPMIHELLTEGRRSKTNKAKTLATWATKELRKLKNQA', 'length': 876, 'molWeight': 97170, 'crc64': 'F3BB8B73E7E51639', 'md5': '4F6828E61CF45163DF68E67041427629'}, 'extraAttributes': {'uniParcId': 'UPI0000001C21'}}\n"
     ]
    },
    {
     "name": "stderr",
     "output_type": "stream",
     "text": [
      "Fetching sequences:  76%|███████▌  | 355/469 [02:43<00:57,  2.00it/s]"
     ]
    },
    {
     "name": "stdout",
     "output_type": "stream",
     "text": [
      "{'entryType': 'UniProtKB reviewed (Swiss-Prot)', 'primaryAccession': 'Q13573', 'proteinDescription': {'recommendedName': {'fullName': {'value': 'SNW domain-containing protein 1'}}, 'alternativeNames': [{'fullName': {'value': 'Nuclear protein SkiP'}}, {'fullName': {'evidences': [{'evidenceCode': 'ECO:0000303', 'source': 'PubMed', 'id': '9632709'}], 'value': 'Nuclear receptor coactivator NCoA-62'}}, {'fullName': {'evidences': [{'evidenceCode': 'ECO:0000303', 'source': 'PubMed', 'id': '11278756'}, {'evidenceCode': 'ECO:0000303', 'source': 'PubMed', 'id': '9569025'}], 'value': 'Ski-interacting protein'}}]}, 'genes': [{'geneName': {'value': 'SNW1'}, 'synonyms': [{'value': 'SKIIP'}, {'evidences': [{'evidenceCode': 'ECO:0000303', 'source': 'PubMed', 'id': '10713164'}, {'evidenceCode': 'ECO:0000303', 'source': 'PubMed', 'id': '11371506'}], 'value': 'SKIP'}]}], 'sequence': {'value': 'MALTSFLPAPTQLSQDQLEAEEKARSQRSRQTSLVSSRREPPPYGYRKGWIPRLLEDFGDGGAFPEIHVAQYPLDMGRKKKMSNALAIQVDSEGKIKYDAIARQGQSKDKVIYSKYTDLVPKEVMNADDPDLQRPDEEAIKEITEKTRVALEKSVSQKVAAAMPVRAADKLAPAQYIRYTPSQQGVAFNSGAKQRVIRMVEMQKDPMEPPRFKINKKIPRGPPSPPAPVMHSPSRKMTVKEQQEWKIPPCISNWKNAKGYTIPLDKRLAADGRGLQTVHINENFAKLAEALYIADRKAREAVEMRAQVERKMAQKEKEKHEEKLREMAQKARERRAGIKTHVEKEDGEARERDEIRHDRRKERQHDRNLSRAAPDKRSKLQRNENRDISEVIALGVPNPRTSNEVQYDQRLFNQSKGMDSGFAGGEDEIYNVYDQAWRGGKDMAQSIYRPSKNLDKDMYGDDLEARIKTNRFVPDKEFSGSDRRQRGREGPVQFEEDPFGLDKFLEEAKQHGGSKRPSDSSRPKEHEHEGKKRRKE', 'length': 536, 'molWeight': 61494, 'crc64': '0CC75E0D0B2CF842', 'md5': '67E8778897068C21B434526783EA4BC9'}, 'extraAttributes': {'uniParcId': 'UPI000000DB2D'}}\n"
     ]
    },
    {
     "name": "stderr",
     "output_type": "stream",
     "text": [
      "Fetching sequences:  76%|███████▌  | 356/469 [02:43<00:54,  2.08it/s]"
     ]
    },
    {
     "name": "stdout",
     "output_type": "stream",
     "text": [
      "{'entryType': 'UniProtKB reviewed (Swiss-Prot)', 'primaryAccession': 'Q6UN15', 'proteinDescription': {'recommendedName': {'fullName': {'value': \"Pre-mRNA 3'-end-processing factor FIP1\"}, 'shortNames': [{'value': 'hFip1'}]}, 'alternativeNames': [{'fullName': {'value': 'FIP1-like 1 protein'}}, {'fullName': {'value': 'Factor interacting with PAP'}}, {'fullName': {'value': 'Rearranged in hypereosinophilia'}}]}, 'genes': [{'geneName': {'value': 'FIP1L1'}, 'synonyms': [{'value': 'FIP1'}, {'value': 'RHE'}]}], 'sequence': {'value': 'MSAGEVERLVSELSGGTGGDEEEEWLYGGPWDVHVHSDLAKDLDENEVERPEEENASANPPSGIEDETAENGVPKPKVTETEDDSDSDSDDDEDDVHVTIGDIKTGAPQYGSYGTAPVNLNIKTGGRVYGTTGTKVKGVDLDAPGSINGVPLLEVDLDSFEDKPWRKPGADLSDYFNYGFNEDTWKAYCEKQKRIRMGLEVIPVTSTTNKITAEDCTMEVTPGAEIQDGRFNLFKVQQGRTGNSEKETALPSTKAEFTSPPSLFKTGLPPSRNSTSSQSQTSTASRKANSSVGKWQDRYGRAESPDLRRLPGAIDVIGQTITISRVEGRRRANENSNIQVLSERSATEVDNNFSKPPPFFPPGAPPTHLPPPPFLPPPPTVSTAPPLIPPPGFPPPPGAPPPSLIPTIESGHSSGYDSRSARAFPYGNVAFPHLPGSAPSWPSLVDTSKQWDYYARREKDRDRERDRDRERDRDRDRERERTRERERERDHSPTPSVFNSDEERYRYREYAERGYERHRASREKEERHRERRHREKEETRHKSSRSNSRRRHESEEGDSHRRHKHKKSKRSKEGKEAGSEPAPEQESTEATPAE', 'length': 594, 'molWeight': 66526, 'crc64': 'B391D142419ED061', 'md5': 'FFFDC13441994469738EAFA7BDB52B85'}, 'extraAttributes': {'uniParcId': 'UPI0000035FBF'}}\n"
     ]
    },
    {
     "name": "stderr",
     "output_type": "stream",
     "text": [
      "Fetching sequences:  76%|███████▌  | 357/469 [02:43<00:52,  2.13it/s]"
     ]
    },
    {
     "name": "stdout",
     "output_type": "stream",
     "text": [
      "{'entryType': 'UniProtKB reviewed (Swiss-Prot)', 'primaryAccession': 'P78371', 'proteinDescription': {'recommendedName': {'fullName': {'value': 'T-complex protein 1 subunit beta'}, 'shortNames': [{'value': 'TCP-1-beta'}]}, 'alternativeNames': [{'fullName': {'value': 'CCT-beta'}}, {'fullName': {'value': 'Chaperonin containing T-complex polypeptide 1 subunit 2'}}]}, 'genes': [{'geneName': {'value': 'CCT2'}, 'synonyms': [{'value': '99D8.1'}, {'value': 'CCTB'}]}], 'sequence': {'value': 'MASLSLAPVNIFKAGADEERAETARLTSFIGAIAIGDLVKSTLGPKGMDKILLSSGRDASLMVTNDGATILKNIGVDNPAAKVLVDMSRVQDDEVGDGTTSVTVLAAELLREAESLIAKKIHPQTIIAGWREATKAAREALLSSAVDHGSDEVKFRQDLMNIAGTTLSSKLLTHHKDHFTKLAVEAVLRLKGSGNLEAIHIIKKLGGSLADSYLDEGFLLDKKIGVNQPKRIENAKILIANTGMDTDKIKIFGSRVRVDSTAKVAEIEHAEKEKMKEKVERILKHGINCFINRQLIYNYPEQLFGAAGVMAIEHADFAGVERLALVTGGEIASTFDHPELVKLGSCKLIEEVMIGEDKLIHFSGVALGEACTIVLRGATQQILDEAERSLHDALCVLAQTVKDSRTVYGGGCSEMLMAHAVTQLANRTPGKEAVAMESYAKALRMLPTIIADNAGYDSADLVAQLRAAHSEGNTTAGLDMREGTIGDMAILGITESFQVKRQVLLSAAEAAEVILRVDNIIKAAPRKRVPDHHPC', 'length': 535, 'molWeight': 57488, 'crc64': '57F9E1720D84A31F', 'md5': 'F57CFD71A95785B1FE3D7F102153F961'}, 'extraAttributes': {'uniParcId': 'UPI0000136AF3'}}\n"
     ]
    },
    {
     "name": "stderr",
     "output_type": "stream",
     "text": [
      "Fetching sequences:  76%|███████▋  | 358/469 [02:44<00:50,  2.19it/s]"
     ]
    },
    {
     "name": "stdout",
     "output_type": "stream",
     "text": [
      "{'entryType': 'UniProtKB reviewed (Swiss-Prot)', 'primaryAccession': 'Q15366', 'proteinDescription': {'recommendedName': {'fullName': {'evidences': [{'evidenceCode': 'ECO:0000303', 'source': 'PubMed', 'id': '7607214'}], 'value': 'Poly(rC)-binding protein 2'}}, 'alternativeNames': [{'fullName': {'value': 'Alpha-CP2'}}, {'fullName': {'value': 'Heterogeneous nuclear ribonucleoprotein E2'}, 'shortNames': [{'value': 'hnRNP E2'}]}]}, 'genes': [{'geneName': {'evidences': [{'evidenceCode': 'ECO:0000303', 'source': 'PubMed', 'id': '7607214'}, {'evidenceCode': 'ECO:0000312', 'source': 'HGNC', 'id': 'HGNC:8648'}], 'value': 'PCBP2'}}], 'sequence': {'value': 'MDTGVIEGGLNVTLTIRLLMHGKEVGSIIGKKGESVKKMREESGARINISEGNCPERIITLAGPTNAIFKAFAMIIDKLEEDISSSMTNSTAASRPPVTLRLVVPASQCGSLIGKGGCKIKEIRESTGAQVQVAGDMLPNSTERAITIAGIPQSIIECVKQICVVMLETLSQSPPKGVTIPYRPKPSSSPVIFAGGQDRYSTGSDSASFPHTTPSMCLNPDLEGPPLEAYTIQGQYAIPQPDLTKLHQLAMQQSHFPMTHGNTGFSGIESSSPEVKGYWGLDASAQTTSHELTIPNDLIGCIIGRQGAKINEIRQMSGAQIKIANPVEGSTDRQVTITGSAASISLAQYLINVRLSSETGGMGSS', 'length': 365, 'molWeight': 38580, 'crc64': '43F035D76FDC2C63', 'md5': 'F85E529A295BC279CA60720499FBB7F4'}, 'extraAttributes': {'uniParcId': 'UPI00001313C9'}}\n"
     ]
    },
    {
     "name": "stderr",
     "output_type": "stream",
     "text": [
      "Fetching sequences:  77%|███████▋  | 359/469 [02:44<00:50,  2.20it/s]"
     ]
    },
    {
     "name": "stdout",
     "output_type": "stream",
     "text": [
      "{'entryType': 'UniProtKB reviewed (Swiss-Prot)', 'primaryAccession': 'Q13428-3', 'proteinDescription': {'recommendedName': {'fullName': {'value': 'Isoform 3 of Treacle protein'}}, 'alternativeNames': [{'fullName': {'value': 'Treacher Collins syndrome protein'}}]}, 'genes': [{'geneName': {'value': 'TCOF1'}}], 'sequence': {'value': 'MAEARKRRELLPLIYHHLLRAGYVRAAREVKEQSGQKCFLAQPVTLLDIYTHWQQTSELGRKRKAEEDAALQAKKTRVSDPISTSESSEEEEEAEAETAKATPRLASTNSSVLGADLPSSMKEKAKAETEKAGKTGNSMPHPATGKTVANLLSGKSPRKSAEPSANTTLVSETEEEGSVPAFGAAAKPGMVSAGQADSSSEDTSSSSDETDVEGKPSVKPAQVKASSVSTKESPARKAAPAPGKVGDVTPQVKGGALPPAKRAKKPEEESESSEEGSESEEEAPAGTRSQVKASEKILQVRAASAPAKGTPGKGATPAPPGKAGAVASQTKAGKPEEDSESSSEESSDSEEETPAAKALLQAKASGKTSQVGAASAPAKESPRKGAAPAPPGKTGPAVAKAQAGKREEDSQSSSEESDSEEEAPAQAKPSGKAPQVRAASAPAKESPRKGAAPAPPRKTGPAAAQVQVGKQEEDSRSSSEESDSDREALAAMNAAQVKPLGKSPQVKPASTMGMGPLGKGAGPVPPGKVGPATPSAQVGKWEEDSESSSEESSDSSDGEVPTAVAPAQEKSLGNILQAKPTSSPAKGPPQKAGPVAVQVKAEKPMDNSESSEESSDSADSEEAPAAMTAAQAKPALKIPQTKACPKKTNTTASAKVAPVRVGTQAPRKAGTATSPAGSSPAVAGGTQRPAEDSSSSEESDSEEEKTGLAVTVGQAKSVGKGLQVKAASVPVKGSLGQGTAPVLPGKTGPTVTQVKAEKQEDSESSEEESDSEEAAASPAQVKTSVKKTQAKANPAAARAPSAKGTISAPGKVVTAAAQAKQRSPSKVKPPVRNPQNSTVLARGPASVPSVGKAVATAAQAQTGPEEDSGSSEEESDSEEEAETLAQVKPSGKTHQIRAALAPAKESPRKGAAPTPPGKTGPSAAQAGKQDDSGSSSEESDSDGEAPAAVTSAQVIKPPLIFVDPNRSPAGPAATPAQAQAASTPRKARASESTARSSSSESEDEDVIPATQCLTPGIRTNVVTMPTAHPRIAPKASMAGASSSKESSRISDGKKQEGPATQVSKKNPASLPLTQAALKVLAQKASEAQPPVARTQPSSGVDSAVGTLPATSPQSTSVQAKGTNKLRKPKLPEVQQATKAPESSDDSEDSSDSSSGSEEDGEGPQGAKSAHTLVGPTPSRTETLVEETAAESSEDDVVAPSQSLLSGYMTPGLTPANSQASKATPKLDSSPSVSSTLAAKDDPDGKQEAKPQQAAGMLSPKTGGKEAASGTTPQKSRKPKKGAGNPQASTLALQSNITQCLLGQPWPLNEAQVQASVVKVLTELLEQERKKVVDTTKESSRKGWESRKRKLSGDQPAARTPRSKKKKKLGAGEGGEASVSPEKTSTTSKGKAKRDKASGDVKEKKGKGSLGSQGAKDEPEEELQKGMGTVEGGDQSNPKSKKEKKKSDKRKKDKEKKEKKKKAKKASTKDSESPSQKKKKKKKKTAEQTV', 'length': 1489, 'molWeight': 152205, 'crc64': 'E24970345707B2CC', 'md5': 'CF21A49A71E1BC4572C3FEF3E78252E0'}, 'extraAttributes': {'uniParcId': 'UPI000020CF90'}}\n"
     ]
    },
    {
     "name": "stderr",
     "output_type": "stream",
     "text": [
      "Fetching sequences:  77%|███████▋  | 360/469 [02:45<00:49,  2.21it/s]"
     ]
    },
    {
     "name": "stdout",
     "output_type": "stream",
     "text": [
      "{'entryType': 'UniProtKB reviewed (Swiss-Prot)', 'primaryAccession': 'Q58FF8', 'proteinDescription': {'recommendedName': {'fullName': {'value': 'Putative heat shock protein HSP 90-beta 2'}}, 'alternativeNames': [{'fullName': {'value': 'Heat shock protein 90-beta b'}, 'shortNames': [{'value': 'Heat shock protein 90Bb'}]}]}, 'genes': [{'geneName': {'value': 'HSP90AB2P'}, 'synonyms': [{'value': 'HSP90BB'}]}], 'sequence': {'value': 'MPEEVHLGEKEVETFAFQAEIAQLMSLIINTFYSNKEIFLWELISNASDALDKIRYESLTDPSKLDSGKELKIDIIPNTQEHTLTLVDTGIGMTKADLINNLGTIAKFQDQTEYLEEMQVKEVVEKHSQFLGYPITLYLEKEREKEISDGKAEEEKGEKEEENKDDEEKPKIEDVGSDEEDDSGKDKKKKTKKIKEKYIDQEELNKTKPIWTRNTEDITQEEYGEFYKSLTNDWKDHLAVRYFSVEEYVSRMKEIQKSIYYITGESKEQVANSAFVEQVWKRDSRVVYMTEPIDGYQLKEFDGKSLVSVTKEGLELPEDGEEKKRMEERKAKFENLCKFMKETLDKKVEMVTVSNRLVSSSCCIVTSTYSWTANMEQIMKA', 'length': 381, 'molWeight': 44349, 'crc64': 'B8F6A86959E30905', 'md5': '52712EFFB360AA9E189FA6F69D05C14E'}, 'extraAttributes': {'uniParcId': 'UPI000175031A'}}\n"
     ]
    },
    {
     "name": "stderr",
     "output_type": "stream",
     "text": [
      "Fetching sequences:  77%|███████▋  | 361/469 [02:45<00:48,  2.22it/s]"
     ]
    },
    {
     "name": "stdout",
     "output_type": "stream",
     "text": [
      "{'entryType': 'UniProtKB reviewed (Swiss-Prot)', 'primaryAccession': 'O75152', 'proteinDescription': {'recommendedName': {'fullName': {'value': 'Zinc finger CCCH domain-containing protein 11A'}}}, 'genes': [{'geneName': {'value': 'ZC3H11A'}, 'synonyms': [{'value': 'KIAA0663'}, {'value': 'ZC3HDC11A'}]}], 'sequence': {'value': 'MPNQGEDCYFFFYSTCTKGDSCPFRHCEAAIGNETVCTLWQEGRCFRQVCRFRHMEIDKKRSEIPCYWENQPTGCQKLNCAFHHNRGRYVDGLFLPPSKTVLPTVPESPEEEVKASQLSVQQNKLSVQSNPSPQLRSVMKVESSENVPSPTHPPVVINAADDDEDDDDQFSEEGDETKTPTLQPTPEVHNGLRVTSVRKPAVNIKQGECLNFGIKTLEEIKSKKMKEKSKKQGEGSSGVSSLLLHPEPVPGPEKENVRTVVRTVTLSTKQGEEPLVRLSLTERLGKRKFSAGGDSDPPLKRSLAQRLGKKVEAPETNIDKTPKKAQVSKSLKERLGMSADPDNEDATDKVNKVGEIHVKTLEEILLERASQKRGELQTKLKTEGPSKTDDSTSGARSSSTIRIKTFSEVLAEKKHRQQEAERQKSKKDTTCIKLKIDSEIKKTVVLPPIVASRGQSEEPAGKTKSMQEVHIKTLEEIKLEKALRVQQSSESSTSSPSQHEATPGARRLLRITKRTGMKEEKNLQEGNEVDSQSSIRTEAKEASGETTGVDITKIQVKRCETMREKHMQKQQEREKSVLTPLRGDVASCNTQVAEKPVLTAVPGITRHLTKRLPTKSSQKVEVETSGIGDSLLNVKCAAQTLEKRGKAKPKVNVKPSVVKVVSSPKLAPKRKAVEMHAAVIAAVKPLSSSSVLQEPPAKKAAVAVVPLVSEDKSVTVPEAENPRDSLVLPPTQSSSDSSPPEVSGPSSSQMSMKTRRLSSASTGKPPLSVEDDFEKLIWEISGGKLEAEIDLDPGKDEDDLLLELSEMIDS', 'length': 810, 'molWeight': 89131, 'crc64': '9048ABC7F4A372FB', 'md5': 'DC6E2E563BE24146DD1AAA8885D46DA3'}, 'extraAttributes': {'uniParcId': 'UPI000006F3FD'}}\n"
     ]
    },
    {
     "name": "stderr",
     "output_type": "stream",
     "text": [
      "Fetching sequences:  77%|███████▋  | 362/469 [02:46<00:47,  2.24it/s]"
     ]
    },
    {
     "name": "stdout",
     "output_type": "stream",
     "text": [
      "{'entryType': 'UniProtKB reviewed (Swiss-Prot)', 'primaryAccession': 'Q7L014', 'proteinDescription': {'recommendedName': {'fullName': {'value': 'Probable ATP-dependent RNA helicase DDX46'}, 'ecNumbers': [{'value': '3.6.4.13'}]}, 'alternativeNames': [{'fullName': {'value': 'DEAD box protein 46'}}, {'fullName': {'evidences': [{'evidenceCode': 'ECO:0000303', 'source': 'PubMed', 'id': '12234937'}], 'value': 'PRP5 homolog'}}]}, 'genes': [{'geneName': {'evidences': [{'evidenceCode': 'ECO:0000303', 'source': 'PubMed', 'id': '36797247'}, {'evidenceCode': 'ECO:0000312', 'source': 'HGNC', 'id': 'HGNC:18681'}], 'value': 'DDX46'}, 'synonyms': [{'evidences': [{'evidenceCode': 'ECO:0000303', 'source': 'PubMed', 'id': '9872452'}], 'value': 'KIAA0801'}]}], 'sequence': {'value': 'MGRESRHYRKRSASRGRSGSRSRSRSPSDKRSKRGDDRRSRSRDRDRRRERSRSRDKRRSRSRDRKRLRRSRSRERDRSRERRRSRSRDRRRSRSRSRGRRSRSSSPGNKSKKTENRSRSKEKTDGGESSKEKKKDKDDKEDEKEKDAGNFDQNKLEEEMRKRKERVEKWREEQRKKAMENIGELKKEIEEMKQGKKWSLEDDDDDEDDPAEAEKEGNEMEGEELDPLDAYMEEVKEEVKKFNMRSVKGGGGNEKKSGPTVTKVVTVVTTKKAVVDSDKKKGELMENDQDAMEYSSEEEEVDLQTALTGYQTKQRKLLEPVDHGKIEYEPFRKNFYVEVPELAKMSQEEVNVFRLEMEGITVKGKGCPKPIKSWVQCGISMKILNSLKKHGYEKPTPIQTQAIPAIMSGRDLIGIAKTGSGKTIAFLLPMFRHIMDQRSLEEGEGPIAVIMTPTRELALQITKECKKFSKTLGLRVVCVYGGTGISEQIAELKRGAEIIVCTPGRMIDMLAANSGRVTNLRRVTYVVLDEADRMFDMGFEPQVMRIVDNVRPDRQTVMFSATFPRAMEALARRILSKPIEVQVGGRSVVCSDVEQQVIVIEEEKKFLKLLELLGHYQESGSVIIFVDKQEHADGLLKDLMRASYPCMSLHGGIDQYDRDSIINDFKNGTCKLLVATSVAARGLDVKHLILVVNYSCPNHYEDYVHRAGRTGRAGNKGYAYTFITEDQARYAGDIIKALELSGTAVPPDLEKLWSDFKDQQKAEGKIIKKSSGFSGKGFKFDETEQALANERKKLQKAALGLQDSDDEDAAVDIDEQIESMFNSKKRVKDMAAPGTSSVPAPTAGNAEKLEIAKRLALRINAQKNLGIESQDVMQQATNAILRGGTILAPTVSAKTIAEQLAEKINAKLNYVPLEKQEEERQDGGQNESFKRYEEELEINDFPQTARWKVTSKEALQRISEYSEAAITIRGTYFPPGKEPKEGERKIYLAIESANELAVQKAKAEITRLIKEELIRLQNSYQPTNKGRYKVL', 'length': 1031, 'molWeight': 117362, 'crc64': '52535164FEB48A72', 'md5': '7C38F9B33005D202E3137121626BF624'}, 'extraAttributes': {'uniParcId': 'UPI0000072E73'}}\n"
     ]
    },
    {
     "name": "stderr",
     "output_type": "stream",
     "text": [
      "Fetching sequences:  77%|███████▋  | 363/469 [02:46<00:47,  2.23it/s]"
     ]
    },
    {
     "name": "stdout",
     "output_type": "stream",
     "text": [
      "{'entryType': 'UniProtKB reviewed (Swiss-Prot)', 'primaryAccession': 'P78362', 'proteinDescription': {'recommendedName': {'fullName': {'value': 'SRSF protein kinase 2'}, 'ecNumbers': [{'evidences': [{'evidenceCode': 'ECO:0000269', 'source': 'PubMed', 'id': '12134018'}, {'evidenceCode': 'ECO:0000269', 'source': 'PubMed', 'id': '18559500'}, {'evidenceCode': 'ECO:0000269', 'source': 'PubMed', 'id': '9472028'}, {'evidenceCode': 'ECO:0000305', 'source': 'PubMed', 'id': '21157427'}], 'value': '2.7.11.1'}]}, 'alternativeNames': [{'fullName': {'value': 'SFRS protein kinase 2'}}, {'fullName': {'value': 'Serine/arginine-rich protein-specific kinase 2'}, 'shortNames': [{'value': 'SR-protein-specific kinase 2'}]}], 'contains': [{'recommendedName': {'fullName': {'value': 'SRSF protein kinase 2 N-terminal'}}}, {'recommendedName': {'fullName': {'value': 'SRSF protein kinase 2 C-terminal'}}}]}, 'genes': [{'geneName': {'evidences': [{'evidenceCode': 'ECO:0000312', 'source': 'EMBL', 'id': 'AAH68547.1'}], 'value': 'SRPK2'}}], 'sequence': {'value': 'MSVNSEKSSSSERPEPQQKAPLVPPPPPPPPPPPPPLPDPTPPEPEEEILGSDDEEQEDPADYCKGGYHPVKIGDLFNGRYHVIRKLGWGHFSTVWLCWDMQGKRFVAMKVVKSAQHYTETALDEIKLLKCVRESDPSDPNKDMVVQLIDDFKISGMNGIHVCMVFEVLGHHLLKWIIKSNYQGLPVRCVKSIIRQVLQGLDYLHSKCKIIHTDIKPENILMCVDDAYVRRMAAEATEWQKAGAPPPSGSAVSTAPQQKPIGKISKNKKKKLKKKQKRQAELLEKRLQEIEELEREAERKIIEENITSAAPSNDQDGEYCPEVKLKTTGLEEAAEAETAKDNGEAEDQEEKEDAEKENIEKDEDDVDQELANIDPTWIESPKTNGHIENGPFSLEQQLDDEDDDEEDCPNPEEYNLDEPNAESDYTYSSSYEQFNGELPNGRHKIPESQFPEFSTSLFSGSLEPVACGSVLSEGSPLTEQEESSPSHDRSRTVSASSTGDLPKAKTRAADLLVNPLDPRNADKIRVKIADLGNACWVHKHFTEDIQTRQYRSIEVLIGAGYSTPADIWSTACMAFELATGDYLFEPHSGEDYSRDEDHIAHIIELLGSIPRHFALSGKYSREFFNRRGELRHITKLKPWSLFDVLVEKYGWPHEDAAQFTDFLIPMLEMVPEKRASAGECLRHPWLNS', 'length': 688, 'molWeight': 77527, 'crc64': 'ACCAF2A887444EC2', 'md5': 'B2471C8C7F9C8AB2F5E7ED244F46F6BE'}, 'extraAttributes': {'uniParcId': 'UPI000007420D'}}\n"
     ]
    },
    {
     "name": "stderr",
     "output_type": "stream",
     "text": [
      "Fetching sequences:  78%|███████▊  | 364/469 [02:47<00:47,  2.22it/s]"
     ]
    },
    {
     "name": "stdout",
     "output_type": "stream",
     "text": [
      "{'entryType': 'UniProtKB reviewed (Swiss-Prot)', 'primaryAccession': 'P50991', 'proteinDescription': {'recommendedName': {'fullName': {'value': 'T-complex protein 1 subunit delta'}, 'shortNames': [{'value': 'TCP-1-delta'}]}, 'alternativeNames': [{'fullName': {'value': 'CCT-delta'}}, {'fullName': {'value': 'Chaperonin containing T-complex polypeptide 1 subunit 4'}}, {'fullName': {'value': 'Stimulator of TAR RNA-binding'}}]}, 'genes': [{'geneName': {'value': 'CCT4'}, 'synonyms': [{'value': 'CCTD'}, {'value': 'SRB'}]}], 'sequence': {'value': 'MPENVAPRSGATAGAAGGRGKGAYQDRDKPAQIRFSNISAAKAVADAIRTSLGPKGMDKMIQDGKGDVTITNDGATILKQMQVLHPAARMLVELSKAQDIEAGDGTTSVVIIAGSLLDSCTKLLQKGIHPTIISESFQKALEKGIEILTDMSRPVELSDRETLLNSATTSLNSKVVSQYSSLLSPMSVNAVMKVIDPATATSVDLRDIKIVKKLGGTIDDCELVEGLVLTQKVSNSGITRVEKAKIGLIQFCLSAPKTDMDNQIVVSDYAQMDRVLREERAYILNLVKQIKKTGCNVLLIQKSILRDALSDLALHFLNKMKIMVIKDIEREDIEFICKTIGTKPVAHIDQFTADMLGSAELAEEVNLNGSGKLLKITGCASPGKTVTIVVRGSNKLVIEEAERSIHDALCVIRCLVKKRALIAGGGAPEIELALRLTEYSRTLSGMESYCVRAFADAMEVIPSTLAENAGLNPISTVTELRNRHAQGEKTAGINVRKGGISNILEELVVQPLLVSVSALTLATETVRSILKIDDVVNTR', 'length': 539, 'molWeight': 57924, 'crc64': '39913C0D0735180D', 'md5': '5EF644B2F1183C633820DE367714AA69'}, 'extraAttributes': {'uniParcId': 'UPI00000362DF'}}\n"
     ]
    },
    {
     "name": "stderr",
     "output_type": "stream",
     "text": [
      "Fetching sequences:  78%|███████▊  | 365/469 [02:47<00:46,  2.22it/s]"
     ]
    },
    {
     "name": "stdout",
     "output_type": "stream",
     "text": [
      "{'entryType': 'UniProtKB reviewed (Swiss-Prot)', 'primaryAccession': 'Q9Y388', 'proteinDescription': {'recommendedName': {'fullName': {'value': 'RNA-binding motif protein, X-linked 2'}}}, 'genes': [{'geneName': {'value': 'RBMX2'}, 'orfNames': [{'value': 'CGI-79'}]}], 'sequence': {'value': 'MNPLTKVKLINELNEREVQLGVADKVSWHSEYKDSAWIFLGGLPYELTEGDIICVFSQYGEIVNINLVRDKKTGKSKGFCFLCYEDQRSTILAVDNFNGIKIKGRTIRVDHVSNYRAPKDSEEIDDVTRQLQEKGCGARTPSPSLSESSEDEKPTKKHKKDKKEKKKKKKEKEKADREVQAEQPSSSSPRRKTVKEKDDTGPKKHSSKNSERAQKSEPREGQKLPKSRTAYSGGAEDLERELKKEKPKHEHKSSSRREAREEKTRIRDRGRSSDAHSSWYNGRSEGRSYRSRSRSRDKSHRHKRARRSRERESSNPSDRWRH', 'length': 322, 'molWeight': 37336, 'crc64': '05EF1C0FD17BD45F', 'md5': 'EEE49DBCA84AABCEF09575DC98976101'}, 'extraAttributes': {'uniParcId': 'UPI00000704DB'}}\n"
     ]
    },
    {
     "name": "stderr",
     "output_type": "stream",
     "text": [
      "Fetching sequences:  78%|███████▊  | 366/469 [02:47<00:46,  2.23it/s]"
     ]
    },
    {
     "name": "stdout",
     "output_type": "stream",
     "text": [
      "{'entryType': 'UniProtKB reviewed (Swiss-Prot)', 'primaryAccession': 'Q13283', 'proteinDescription': {'recommendedName': {'fullName': {'value': 'Ras GTPase-activating protein-binding protein 1'}, 'shortNames': [{'value': 'G3BP-1'}], 'ecNumbers': [{'evidences': [{'evidenceCode': 'ECO:0000269', 'source': 'PubMed', 'id': '9889278'}], 'value': '3.6.4.12'}, {'evidences': [{'evidenceCode': 'ECO:0000269', 'source': 'PubMed', 'id': '9889278'}], 'value': '3.6.4.13'}]}, 'alternativeNames': [{'fullName': {'value': 'ATP-dependent DNA helicase VIII'}, 'shortNames': [{'value': 'hDH VIII'}]}, {'fullName': {'value': 'GAP SH3 domain-binding protein 1'}}]}, 'genes': [{'geneName': {'evidences': [{'evidenceCode': 'ECO:0000303', 'source': 'PubMed', 'id': '23279204'}, {'evidenceCode': 'ECO:0000312', 'source': 'HGNC', 'id': 'HGNC:30292'}], 'value': 'G3BP1'}, 'synonyms': [{'value': 'G3BP'}]}], 'sequence': {'value': 'MVMEKPSPLLVGREFVRQYYTLLNQAPDMLHRFYGKNSSYVHGGLDSNGKPADAVYGQKEIHRKVMSQNFTNCHTKIRHVDAHATLNDGVVVQVMGLLSNNNQALRRFMQTFVLAPEGSVANKFYVHNDIFRYQDEVFGGFVTEPQEESEEEVEEPEERQQTPEVVPDDSGTFYDQAVVSNDMEEHLEEPVAEPEPDPEPEPEQEPVSEIQEEKPEPVLEETAPEDAQKSSSPAPADIAQTVQEDLRTFSWASVTSKNLPPSGAVPVTGIPPHVVKVPASQPRPESKPESQIPPQRPQRDQRVREQRINIPPQRGPRPIREAGEQGDIEPRRMVRHPDSHQLFIGNLPHEVDKSELKDFFQSYGNVVELRINSGGKLPNFGFVVFDDSEPVQKVLSNRPIMFRGEVRLNVEEKKTRAAREGDRRDNRLRGPGGPRGGLGGGMRGPPRGGMVQKPGFGVGRGLAPRQ', 'length': 466, 'molWeight': 52164, 'crc64': '0F9429D78E0C7F59', 'md5': '9930FA3C352FD18EC9A7D100C10D1E8C'}, 'extraAttributes': {'uniParcId': 'UPI0000030309'}}\n"
     ]
    },
    {
     "name": "stderr",
     "output_type": "stream",
     "text": [
      "Fetching sequences:  78%|███████▊  | 367/469 [02:48<00:45,  2.24it/s]"
     ]
    },
    {
     "name": "stdout",
     "output_type": "stream",
     "text": [
      "{'entryType': 'UniProtKB reviewed (Swiss-Prot)', 'primaryAccession': 'P09234', 'proteinDescription': {'recommendedName': {'fullName': {'evidences': [{'evidenceCode': 'ECO:0000255', 'source': 'HAMAP-Rule', 'id': 'MF_03153'}], 'value': 'U1 small nuclear ribonucleoprotein C'}, 'shortNames': [{'evidences': [{'evidenceCode': 'ECO:0000255', 'source': 'HAMAP-Rule', 'id': 'MF_03153'}], 'value': 'U1 snRNP C'}, {'evidences': [{'evidenceCode': 'ECO:0000255', 'source': 'HAMAP-Rule', 'id': 'MF_03153'}], 'value': 'U1-C'}, {'evidences': [{'evidenceCode': 'ECO:0000255', 'source': 'HAMAP-Rule', 'id': 'MF_03153'}], 'value': 'U1C'}]}}, 'genes': [{'geneName': {'evidences': [{'evidenceCode': 'ECO:0000255', 'source': 'HAMAP-Rule', 'id': 'MF_03153'}], 'value': 'SNRPC'}}], 'sequence': {'value': 'MPKFYCDYCDTYLTHDSPSVRKTHCSGRKHKENVKDYYQKWMEEQAQSLIDKTTAAFQQGKIPPTPFSAPPPAGAMIPPPPSLPGPPRPGMMPAPHMGGPPMMPMMGPPPPGMMPVGPAPGMRPPMGGHMPMMPGPPMMRPPARPMMVPTRPGMTRPDR', 'length': 159, 'molWeight': 17394, 'crc64': 'EC313A57DEC79D95', 'md5': 'F09745DC0E7545F1BFC4726899FE7BB2'}, 'extraAttributes': {'uniParcId': 'UPI00001352E7'}}\n"
     ]
    },
    {
     "name": "stderr",
     "output_type": "stream",
     "text": [
      "Fetching sequences:  78%|███████▊  | 368/469 [02:48<00:44,  2.25it/s]"
     ]
    },
    {
     "name": "stdout",
     "output_type": "stream",
     "text": [
      "{'entryType': 'UniProtKB reviewed (Swiss-Prot)', 'primaryAccession': 'Q16531', 'proteinDescription': {'recommendedName': {'fullName': {'value': 'DNA damage-binding protein 1'}}, 'alternativeNames': [{'fullName': {'value': 'DDB p127 subunit'}}, {'fullName': {'value': 'DNA damage-binding protein a'}, 'shortNames': [{'value': 'DDBa'}]}, {'fullName': {'value': 'Damage-specific DNA-binding protein 1'}}, {'fullName': {'value': 'HBV X-associated protein 1'}, 'shortNames': [{'value': 'XAP-1'}]}, {'fullName': {'value': 'UV-damaged DNA-binding factor'}}, {'fullName': {'value': 'UV-damaged DNA-binding protein 1'}, 'shortNames': [{'value': 'UV-DDB 1'}]}, {'fullName': {'value': 'XPE-binding factor'}, 'shortNames': [{'value': 'XPE-BF'}]}, {'fullName': {'value': 'Xeroderma pigmentosum group E-complementing protein'}, 'shortNames': [{'value': 'XPCe'}]}]}, 'genes': [{'geneName': {'value': 'DDB1'}, 'synonyms': [{'value': 'XAP1'}]}], 'sequence': {'value': 'MSYNYVVTAQKPTAVNGCVTGHFTSAEDLNLLIAKNTRLEIYVVTAEGLRPVKEVGMYGKIAVMELFRPKGESKDLLFILTAKYNACILEYKQSGESIDIITRAHGNVQDRIGRPSETGIIGIIDPECRMIGLRLYDGLFKVIPLDRDNKELKAFNIRLEELHVIDVKFLYGCQAPTICFVYQDPQGRHVKTYEVSLREKEFNKGPWKQENVEAEASMVIAVPEPFGGAIIIGQESITYHNGDKYLAIAPPIIKQSTIVCHNRVDPNGSRYLLGDMEGRLFMLLLEKEEQMDGTVTLKDLRVELLGETSIAECLTYLDNGVVFVGSRLGDSQLVKLNVDSNEQGSYVVAMETFTNLGPIVDMCVVDLERQGQGQLVTCSGAFKEGSLRIIRNGIGIHEHASIDLPGIKGLWPLRSDPNRETDDTLVLSFVGQTRVLMLNGEEVEETELMGFVDDQQTFFCGNVAHQQLIQITSASVRLVSQEPKALVSEWKEPQAKNISVASCNSSQVVVAVGRALYYLQIHPQELRQISHTEMEHEVACLDITPLGDSNGLSPLCAIGLWTDISARILKLPSFELLHKEMLGGEIIPRSILMTTFESSHYLLCALGDGALFYFGLNIETGLLSDRKKVTLGTQPTVLRTFRSLSTTNVFACSDRPTVIYSSNHKLVFSNVNLKEVNYMCPLNSDGYPDSLALANNSTLTIGTIDEIQKLHIRTVPLYESPRKICYQEVSQCFGVLSSRIEVQDTSGGTTALRPSASTQALSSSVSSSKLFSSSTAPHETSFGEEVEVHNLLIIDQHTFEVLHAHQFLQNEYALSLVSCKLGKDPNTYFIVGTAMVYPEEAEPKQGRIVVFQYSDGKLQTVAEKEVKGAVYSMVEFNGKLLASINSTVRLYEWTTEKELRTECNHYNNIMALYLKTKGDFILVGDLMRSVLLLAYKPMEGNFEEIARDFNPNWMSAVEILDDDNFLGAENAFNLFVCQKDSAATTDEERQHLQEVGLFHLGEFVNVFCHGSLVMQNLGETSTPTQGSVLFGTVNGMIGLVTSLSESWYNLLLDMQNRLNKVIKSVGKIEHSFWRSFHTERKTEPATGFIDGDLIESFLDISRPKMQEVVANLQYDDGSGMKREATADDLIKVVEELTRIH', 'length': 1140, 'molWeight': 126968, 'crc64': '74D082023E3D846D', 'md5': 'F1D6A6B1EBA3FDEA340C1EB6D3B971F4'}, 'extraAttributes': {'uniParcId': 'UPI0000000CB7'}}\n"
     ]
    },
    {
     "name": "stderr",
     "output_type": "stream",
     "text": [
      "Fetching sequences:  79%|███████▊  | 369/469 [02:49<00:44,  2.26it/s]"
     ]
    },
    {
     "name": "stdout",
     "output_type": "stream",
     "text": [
      "{'entryType': 'UniProtKB reviewed (Swiss-Prot)', 'primaryAccession': 'Q16629', 'proteinDescription': {'recommendedName': {'fullName': {'value': 'Serine/arginine-rich splicing factor 7'}}, 'alternativeNames': [{'fullName': {'value': 'Splicing factor 9G8'}}, {'fullName': {'value': 'Splicing factor, arginine/serine-rich 7'}}]}, 'genes': [{'geneName': {'value': 'SRSF7'}, 'synonyms': [{'value': 'SFRS7'}]}], 'sequence': {'value': 'MSRYGRYGGETKVYVGNLGTGAGKGELERAFSYYGPLRTVWIARNPPGFAFVEFEDPRDAEDAVRGLDGKVICGSRVRVELSTGMPRRSRFDRPPARRPFDPNDRCYECGEKGHYAYDCHRYSRRRRSRSRSRSHSRSRGRRYSRSRSRSRGRRSRSASPRRSRSISLRRSRSASLRRSRSGSIKGSRYFQSPSRSRSRSRSISRPRSSRSKSRSPSPKRSRSPSGSPRRSASPERMD', 'length': 238, 'molWeight': 27367, 'crc64': '49136754D9630853', 'md5': '1CE8A2C2325C906A87AC0AB967444438'}, 'extraAttributes': {'uniParcId': 'UPI000000D853'}}\n"
     ]
    },
    {
     "name": "stderr",
     "output_type": "stream",
     "text": [
      "Fetching sequences:  79%|███████▉  | 370/469 [02:49<00:43,  2.26it/s]"
     ]
    },
    {
     "name": "stdout",
     "output_type": "stream",
     "text": [
      "{'entryType': 'UniProtKB reviewed (Swiss-Prot)', 'primaryAccession': 'P60842', 'proteinDescription': {'recommendedName': {'fullName': {'value': 'Eukaryotic initiation factor 4A-I'}, 'shortNames': [{'value': 'eIF-4A-I'}, {'value': 'eIF4A-I'}], 'ecNumbers': [{'value': '3.6.4.13'}]}, 'alternativeNames': [{'fullName': {'value': 'ATP-dependent RNA helicase eIF4A-1'}}]}, 'genes': [{'geneName': {'value': 'EIF4A1'}, 'synonyms': [{'value': 'DDX2A'}, {'value': 'EIF4A'}]}], 'sequence': {'value': 'MSASQDSRSRDNGPDGMEPEGVIESNWNEIVDSFDDMNLSESLLRGIYAYGFEKPSAIQQRAILPCIKGYDVIAQAQSGTGKTATFAISILQQIELDLKATQALVLAPTRELAQQIQKVVMALGDYMGASCHACIGGTNVRAEVQKLQMEAPHIIVGTPGRVFDMLNRRYLSPKYIKMFVLDEADEMLSRGFKDQIYDIFQKLNSNTQVVLLSATMPSDVLEVTKKFMRDPIRILVKKEELTLEGIRQFYINVEREEWKLDTLCDLYETLTITQAVIFINTRRKVDWLTEKMHARDFTVSAMHGDMDQKERDVIMREFRSGSSRVLITTDLLARGIDVQQVSLVINYDLPTNRENYIHRIGRGGRFGRKGVAINMVTEEDKRTLRDIETFYNTSIEEMPLNVADLI', 'length': 406, 'molWeight': 46154, 'crc64': '6EF89939F3045420', 'md5': '591B8A464C57E0DFC8B038F152A133F9'}, 'extraAttributes': {'uniParcId': 'UPI000000411B'}}\n"
     ]
    },
    {
     "name": "stderr",
     "output_type": "stream",
     "text": [
      "Fetching sequences:  79%|███████▉  | 371/469 [02:50<00:57,  1.71it/s]"
     ]
    },
    {
     "name": "stdout",
     "output_type": "stream",
     "text": [
      "{'entryType': 'UniProtKB reviewed (Swiss-Prot)', 'primaryAccession': 'Q15326', 'proteinDescription': {'recommendedName': {'fullName': {'evidences': [{'evidenceCode': 'ECO:0000305'}], 'value': 'Zinc finger MYND domain-containing protein 11'}}, 'alternativeNames': [{'fullName': {'value': 'Adenovirus 5 E1A-binding protein'}}, {'fullName': {'value': 'Bone morphogenetic protein receptor-associated molecule 1'}}, {'fullName': {'value': 'Protein BS69'}}]}, 'genes': [{'geneName': {'evidences': [{'evidenceCode': 'ECO:0000312', 'source': 'HGNC', 'id': 'HGNC:16966'}], 'value': 'ZMYND11'}, 'synonyms': [{'value': 'BRAM1'}, {'evidences': [{'evidenceCode': 'ECO:0000303', 'source': 'PubMed', 'id': '24675531'}], 'value': 'BS69'}]}], 'sequence': {'value': 'MARLTKRRQADTKAIQHLWAAIEIIRNQKQIANIDRITKYMSRVHGMHPKETTRQLSLAVKDGLIVETLTVGCKGSKAGIEQEGYWLPGDEIDWETENHDWYCFECHLPGEVLICDLCFRVYHSKCLSDEFRLRDSSSPWQCPVCRSIKKKNTNKQEMGTYLRFIVSRMKERAIDLNKKGKDNKHPMYRRLVHSAVDVPTIQEKVNEGKYRSYEEFKADAQLLLHNTVIFYGADSEQADIARMLYKDTCHELDELQLCKNCFYLSNARPDNWFCYPCIPNHELVWAKMKGFGFWPAKVMQKEDNQVDVRFFGHHHQRAWIPSENIQDITVNIHRLHVKRSMGWKKACDELELHQRFLREGRFWKSKNEDRGEEEAESSISSTSNEQLKVTQEPRAKKGRRNQSVEPKKEEPEPETEAVSSSQEIPTMPQPIEKVSVSTQTKKLSASSPRMLHRSTQTTNDGVCQSMCHDKYTKIFNDFKDRMKSDHKRETERVVREALEKLRSEMEEEKRQAVNKAVANMQGEMDRKCKQVKEKCKEEFVEEIKKLATQHKQLISQTKKKQWCYNCEEEAMYHCCWNTSYCSIKCQQEHWHAEHKRTCRRKR', 'length': 602, 'molWeight': 70963, 'crc64': '3AD525B90574BDE8', 'md5': '12C9EBAE378BFDCA6B9C79FDAC8C249D'}, 'extraAttributes': {'uniParcId': 'UPI0000458A5F'}}\n"
     ]
    },
    {
     "name": "stderr",
     "output_type": "stream",
     "text": [
      "Fetching sequences:  79%|███████▉  | 372/469 [02:51<00:52,  1.85it/s]"
     ]
    },
    {
     "name": "stdout",
     "output_type": "stream",
     "text": [
      "{'entryType': 'UniProtKB reviewed (Swiss-Prot)', 'primaryAccession': 'Q15020', 'proteinDescription': {'recommendedName': {'fullName': {'evidences': [{'evidenceCode': 'ECO:0000305'}], 'value': 'Squamous cell carcinoma antigen recognized by T-cells 3'}, 'shortNames': [{'evidences': [{'evidenceCode': 'ECO:0000312', 'source': 'EMBL', 'id': 'BAA78384.1'}], 'value': 'SART-3'}]}, 'alternativeNames': [{'fullName': {'evidences': [{'evidenceCode': 'ECO:0000303', 'source': 'PubMed', 'id': '11959860'}], 'value': 'Tat-interacting protein of 110 kDa'}, 'shortNames': [{'evidences': [{'evidenceCode': 'ECO:0000303', 'source': 'PubMed', 'id': '11959860'}], 'value': 'Tip110'}]}, {'fullName': {'evidences': [{'evidenceCode': 'ECO:0000303', 'source': 'PubMed', 'id': '12032085'}], 'value': 'p110 nuclear RNA-binding protein'}}]}, 'genes': [{'geneName': {'evidences': [{'evidenceCode': 'ECO:0000312', 'source': 'HGNC', 'id': 'HGNC:16860'}], 'value': 'SART3'}, 'synonyms': [{'evidences': [{'evidenceCode': 'ECO:0000312', 'source': 'EMBL', 'id': 'BAA09929.1'}], 'value': 'KIAA0156'}, {'evidences': [{'evidenceCode': 'ECO:0000303', 'source': 'PubMed', 'id': '11959860'}], 'value': 'TIP110'}]}], 'sequence': {'value': 'MATAAETSASEPEAESKAGPKADGEEDEVKAARTRRKVLSRAVAAATYKTMGPAWDQQEEGVSESDGDEYAMASSAESSPGEYEWEYDEEEEKNQLEIERLEEQLSINVYDYNCHVDLIRLLRLEGELTKVRMARQKMSEIFPLTEELWLEWLHDEISMAQDGLDREHVYDLFEKAVKDYICPNIWLEYGQYSVGGIGQKGGLEKVRSVFERALSSVGLHMTKGLALWEAYREFESAIVEAARLEKVHSLFRRQLAIPLYDMEATFAEYEEWSEDPIPESVIQNYNKALQQLEKYKPYEEALLQAEAPRLAEYQAYIDFEMKIGDPARIQLIFERALVENCLVPDLWIRYSQYLDRQLKVKDLVLSVHNRAIRNCPWTVALWSRYLLAMERHGVDHQVISVTFEKALNAGFIQATDYVEIWQAYLDYLRRRVDFKQDSSKELEELRAAFTRALEYLKQEVEERFNESGDPSCVIMQNWARIEARLCNNMQKARELWDSIMTRGNAKYANMWLEYYNLERAHGDTQHCRKALHRAVQCTSDYPEHVCEVLLTMERTEGSLEDWDIAVQKTETRLARVNEQRMKAAEKEAALVQQEEEKAEQRKRARAEKKALKKKKKIRGPEKRGADEDDEKEWGDDEEEQPSKRRRVENSIPAAGETQNVEVAAGPAGKCAAVDVEPPSKQKEKAASLKRDMPKVLHDSSKDSITVFVSNLPYSMQEPDTKLRPLFEACGEVVQIRPIFSNRGDFRGYCYVEFKEEKSALQALEMDRKSVEGRPMFVSPCVDKSKNPDFKVFRYSTSLEKHKLFISGLPFSCTKEELEEICKAHGTVKDLRLVTNRAGKPKGLAYVEYENESQASQAVMKMDGMTIKENIIKVAISNPPQRKVPEKPETRKAPGGPMLLPQTYGARGKGRTQLSLLPRALQRPSAAAPQAENGPAAAPAVAAPAATEAPKMSNADFAKLFLRK', 'length': 963, 'molWeight': 109935, 'crc64': '06B26CEB8B19102A', 'md5': '23147ACD09FFE9915EA2E0F47AF1326A'}, 'extraAttributes': {'uniParcId': 'UPI000006D72B'}}\n"
     ]
    },
    {
     "name": "stderr",
     "output_type": "stream",
     "text": [
      "Fetching sequences:  80%|███████▉  | 373/469 [02:51<00:48,  1.96it/s]"
     ]
    },
    {
     "name": "stdout",
     "output_type": "stream",
     "text": [
      "{'entryType': 'UniProtKB reviewed (Swiss-Prot)', 'primaryAccession': 'P15153', 'proteinDescription': {'recommendedName': {'fullName': {'evidences': [{'evidenceCode': 'ECO:0000305'}], 'value': 'Ras-related C3 botulinum toxin substrate 2'}, 'ecNumbers': [{'evidences': [{'evidenceCode': 'ECO:0000269', 'source': 'PubMed', 'id': '30723080'}], 'value': '3.6.5.2'}]}, 'alternativeNames': [{'fullName': {'value': 'GX'}}, {'fullName': {'value': 'Small G protein'}}, {'fullName': {'value': 'p21-Rac2'}}], 'flag': 'Precursor'}, 'genes': [{'geneName': {'evidences': [{'evidenceCode': 'ECO:0000312', 'source': 'HGNC', 'id': 'HGNC:9802'}], 'value': 'RAC2'}}], 'sequence': {'value': 'MQAIKCVVVGDGAVGKTCLLISYTTNAFPGEYIPTVFDNYSANVMVDSKPVNLGLWDTAGQEDYDRLRPLSYPQTDVFLICFSLVSPASYENVRAKWFPEVRHHCPSTPIILVGTKLDLRDDKDTIEKLKEKKLAPITYPQGLALAKEIDSVKYLECSALTQRGLKTVFDEAIRAVLCPQPTRQQKRACSLL', 'length': 192, 'molWeight': 21429, 'crc64': '2A1F1266B07C3210', 'md5': '5F081DFE8DEA7EC44E30F961966E834D'}, 'extraAttributes': {'uniParcId': 'UPI00001110AB'}}\n"
     ]
    },
    {
     "name": "stderr",
     "output_type": "stream",
     "text": [
      "Fetching sequences:  80%|███████▉  | 374/469 [02:51<00:46,  2.04it/s]"
     ]
    },
    {
     "name": "stdout",
     "output_type": "stream",
     "text": [
      "{'entryType': 'UniProtKB reviewed (Swiss-Prot)', 'primaryAccession': 'O43684', 'proteinDescription': {'recommendedName': {'fullName': {'value': 'Mitotic checkpoint protein BUB3'}}}, 'genes': [{'geneName': {'value': 'BUB3'}}], 'sequence': {'value': 'MTGSNEFKLNQPPEDGISSVKFSPNTSQFLLVSSWDTSVRLYDVPANSMRLKYQHTGAVLDCAFYDPTHAWSGGLDHQLKMHDLNTDQENLVGTHDAPIRCVEYCPEVNVMVTGSWDQTVKLWDPRTPCNAGTFSQPEKVYTLSVSGDRLIVGTAGRRVLVWDLRNMGYVQQRRESSLKYQTRCIRAFPNKQGYVLSSIEGRVAVEYLDPSPEVQKKKYAFKCHRLKENNIEQIYPVNAISFHNIHNTFATGGSDGFVNIWDPFNKKRLCQFHRYPTSIASLAFSNDGTTLAIASSYMYEMDDTEHPEDGIFIRQVTDAETKPKSPCT', 'length': 328, 'molWeight': 37155, 'crc64': '2915572A57368E5A', 'md5': '9DED942A7C7A5D89BD9CFDAE8B2A89C9'}, 'extraAttributes': {'uniParcId': 'UPI0000126B30'}}\n"
     ]
    },
    {
     "name": "stderr",
     "output_type": "stream",
     "text": [
      "Fetching sequences:  80%|███████▉  | 375/469 [02:52<00:44,  2.10it/s]"
     ]
    },
    {
     "name": "stdout",
     "output_type": "stream",
     "text": [
      "{'entryType': 'UniProtKB reviewed (Swiss-Prot)', 'primaryAccession': 'P05198', 'proteinDescription': {'recommendedName': {'fullName': {'value': 'Eukaryotic translation initiation factor 2 subunit 1'}}, 'alternativeNames': [{'fullName': {'value': 'Eukaryotic translation initiation factor 2 subunit alpha'}, 'shortNames': [{'value': 'eIF-2-alpha'}, {'value': 'eIF-2A'}, {'value': 'eIF-2alpha'}, {'value': 'eIF2-alpha'}]}]}, 'genes': [{'geneName': {'evidences': [{'evidenceCode': 'ECO:0000312', 'source': 'HGNC', 'id': 'HGNC:3265'}], 'value': 'EIF2S1'}, 'synonyms': [{'value': 'EIF2A'}]}], 'sequence': {'value': 'MPGLSCRFYQHKFPEVEDVVMVNVRSIAEMGAYVSLLEYNNIEGMILLSELSRRRIRSINKLIRIGRNECVVVIRVDKEKGYIDLSKRRVSPEEAIKCEDKFTKSKTVYSILRHVAEVLEYTKDEQLESLFQRTAWVFDDKYKRPGYGAYDAFKHAVSDPSILDSLDLNEDEREVLINNINRRLTPQAVKIRADIEVACYGYEGIDAVKEALRAGLNCSTENMPIKINLIAPPRYVMTTTTLERTEGLSVLSQAMAVIKEKIEEKRGVFNVQMEPKVVTDTDETELARQMERLERENAEVDGDDDAEEMEAKAED', 'length': 315, 'molWeight': 36112, 'crc64': 'FF3E75E3816E6B1E', 'md5': '65D2039EBD4CA3143486668431506408'}, 'extraAttributes': {'uniParcId': 'UPI000000CC43'}}\n"
     ]
    },
    {
     "name": "stderr",
     "output_type": "stream",
     "text": [
      "Fetching sequences:  80%|████████  | 376/469 [02:52<00:45,  2.05it/s]"
     ]
    },
    {
     "name": "stdout",
     "output_type": "stream",
     "text": [
      "{'entryType': 'UniProtKB reviewed (Swiss-Prot)', 'primaryAccession': 'P84103', 'proteinDescription': {'recommendedName': {'fullName': {'value': 'Serine/arginine-rich splicing factor 3'}}, 'alternativeNames': [{'fullName': {'value': 'Pre-mRNA-splicing factor SRP20'}}, {'fullName': {'value': 'Splicing factor, arginine/serine-rich 3'}}]}, 'genes': [{'geneName': {'value': 'SRSF3'}, 'synonyms': [{'value': 'SFRS3'}, {'value': 'SRP20'}]}], 'sequence': {'value': 'MHRDSCPLDCKVYVGNLGNNGNKTELERAFGYYGPLRSVWVARNPPGFAFVEFEDPRDAADAVRELDGRTLCGCRVRVELSNGEKRSRNRGPPPSWGRRPRDDYRRRSPPPRRRSPRRRSFSRSRSRSLSRDRRRERSLSRERNHKPSRSFSRSRSRSRSNERK', 'length': 164, 'molWeight': 19330, 'crc64': '02F0A5EE33FF28A0', 'md5': 'E558D7C4BEF0A67B17F3F453BC48BBF2'}, 'extraAttributes': {'uniParcId': 'UPI0000004131'}}\n"
     ]
    },
    {
     "name": "stderr",
     "output_type": "stream",
     "text": [
      "Fetching sequences:  80%|████████  | 377/469 [02:53<00:43,  2.11it/s]"
     ]
    },
    {
     "name": "stdout",
     "output_type": "stream",
     "text": [
      "{'entryType': 'UniProtKB reviewed (Swiss-Prot)', 'primaryAccession': 'P58107', 'proteinDescription': {'recommendedName': {'fullName': {'evidences': [{'evidenceCode': 'ECO:0000303', 'source': 'PubMed', 'id': '11278896'}], 'value': 'Epiplakin'}}, 'alternativeNames': [{'fullName': {'value': '450 kDa epidermal antigen'}}]}, 'genes': [{'geneName': {'evidences': [{'evidenceCode': 'ECO:0000303', 'source': 'PubMed', 'id': '14708632'}, {'evidenceCode': 'ECO:0000312', 'source': 'HGNC', 'id': 'HGNC:15577'}], 'value': 'EPPK1'}, 'synonyms': [{'value': 'EPIPL'}]}], 'sequence': {'value': 'MSGHTLPPLPVPGTNSTEQASVPRAMAATLGAGTPPRPQARSIAGVYVEASGQAQSVYAAMEQGLLPAGLGQALLEAQAATGGLVDLARGQLLPVSKALQQGLVGLELKEKLLAAERATTGYPDPYGGEKLALFQAIGKEVVDRALGQSWLEVQLATGGLVDPAQGVLVAPEPACHQGLLDRETWHKLSELEPGTGDLRFLDPNTLERLTYHQLLERCVRAPGSGLALLPLKITFRSMGGAVSAAELLEVGILDEQAVQGLREGRLAAVDVSARAEVRRYLEGTGSVAGVVLLPEGHKKSFFQAATEHLLPMGTALPLLEAQAATHTLVDPITGQRLWVDEAVRAGLVSPELHEQLLVAEQAVTGHHDPFSGSQIPLFQAMKKGLVDRPLALRLLDAQLATGGLVCPARRLRLPLEAALRCGCLDEDTQRQLSQAGSFSDGTHGGLRYEQLLALCVTDPETGLAFLPLSGGPRGGEPQGPPFIKYSTRQALSTATATVSVGKFRGRPVSLWELLFSEAISSEQRAMLAQQYQEGTLSVEKLAAKLSATLEQAAATARVTFSGLRDTVTPGELLKAEIIDQDLYERLEHGQATAKDVGSLASVQRYLQGTGCIAGLLLPGSQERLSIYEARCKGLLRPGTALILLEAQAATGFIIDPKANKGHSVEEALRAAVIGPDVFAKLLSAERAVTGYTDPYTGQQISLFQAMQKGLIVREHGIRLLEAQIATGGVIDPVHSHRVPVDVAYRRGYFDQMLNLILLDPSDDTKGFFDPNTHENLTYLQLLERCVRDPETGLYLLPLSSTQSPLVDSATQQAFQNLLLSVKYGRFQGQRVSAWELINSEYFSEGRRRQLLRRYRQREVTLGQVAKLLEAETQRQADIMLPALRSRVTVHQLLEAGIIDQQLLDQVLAGTISPEALLLMDGVRRYLCGLGAVGGVRLLPSGQRLSLYQAMRQKLLGPRVALALLEAQAATGTIMDPHSPESLSVDEAVRRGVVGPELYGRLKRAEGAIAGFRDPFSGKQVSVFQAMKKGLIPWEQAARLLEAQVATGGIIDPTSHHHLPMPVAIQRGYVDQEMETALSSSSETFPTPDGQGRTSYAQLLEECPRDETSGLHLLPLPESAPALPTEEQVQRSLQAVPGAKDGTSLWDLLSSCHFTEEQRRGLLEDVQEGRTTVPQLLASVQRWVQETKLLAQARVMVPGPRGEVPAVWLLDAGIITQETLEALAQGTQSPAQVAEQPAVKACLWGTGCVAGVLLQPSGAKASIAQAVRDGLLPTGLGQRLLEAQVASGFLVDPLNNQRLSVEDAVKVGLVGRELSEQLGQAERAAAGYPDPYSRASLSLWQAMEKGLVPQNEGLPLLQVQLATGGVVDPVHGVHLPQAAACRLGLLDTQTSQVLTAVDKDNKFFFDPSARDQVTYQQLRERCVCDSETGLLLLPLPSDTVLEVDDHTAVALRAMKVPVSTGRFKGCSVSLWDLLLSEYVGADKRRELVALCRSGRAAALRQVVSAVTTLVEAAERQPLQATFRGLRKQVSARDLFRAQLISRKTLDELSQGTTTVKEVAEMDSVKRSLEGGNFIAGVLIQGTQERMSIPEALRRHILRPGTALVLLEAQAATGFIIDPVENRKLTVEEAFKAGMFGKETYVKLLSAERAVTGYTDPYTGQQISLFQAMQKDLIVREHGIRLLEAQIATGGIIDPVHSHRVPVDVAYRCGYFDEEMNRILADPSDDTKGFFDPNTHENLTYLQLLERCVEDPETGLYLLQIIKKGENYVYINEATRHVLQSRTAKMRVGRFADQVVSFWDLLSSPYFTEDRKRELIQEYGAQSGGLEKLLEIITTTIEETETQNQGIKVAAIRGEVTAADLFNSRVIDQKTLHTLRVGRTGGQALSTLECVKPYLEGSGCIAGVTVPSTREVMSLHEASRKELIPAAFATWLLEAQAATGFLLDPCTRQKLSVDEAVDVGLVNEELRERLLKAERAATGYRDPATGDTIPLFQAMQKQLIEKAEALRLLEVQVATGGVIDPQHHHRLPLETAYRRGCLHKDIYALISDQKHMRKRFVDPNTQEKVSYRELQERCRPQEDTGWLLFPVNKAARDSEHIDDETRRALEAEQVEITVGRFRGQKPTLWALLNSEYVTEEKKLQLVRMYRTHTRRALQTVAQLILELIEKQETSNKHLWFQGIRRQITASELLSSAIITEEMLQDLETGRSTTQELMEDDRVKRYLEGTSCIAGVLVPAKDQPGRQEKMSIYQAMWKGVLRPGTALVLLEAQAATGFVIDPVRNLRLSVEEAVAAGVVGGEIQEKLLSAERAVTGYTDPYTGQQISLFQAMQKDLIVREHGIRLLEAQIATGGVIDPVHSHRVPVDVAYRRGYFDEEMNRVLADPSDDTKGFFDPNTHENLTYVQLLRRCVPDPDTGLYMLQLAGRGSAVHQLSEELRCALRDARVTPGSGALQGQSVSVWELLFYREVSEDRRQDLLSRYRAGTLTVEELGATLTSLLAQAQAQARAEAEAGSPRPDPREALRAATMEVKVGRLRGRAVPVWDVLASGYVSRAAREELLAEFGSGTLDLPALTRRLTAIIEEAEEAPGARPQLQDAWRGPREPGPAGRGDGDSGRSQREGQGEGETQEAAAAAAAAAARRQEQTLRDATMEVQRGQFQGRPVSVWDVLFSSYLSEARRDELLAQHAAGALGLPDLVAVLTRVIEETEERLSKVSFRGLRRQVSASELHTSGILGPETLRDLAQGTKTLQEVTEMDSVKRYLEGTSCIAGVLVPAKDQPGRQEKMSIYQAMWKGVLRPGTALVLLEAQAATGFVIDPVRNLRLSVEEAVAAGVVGGEIQEKLLSAERAVTGYTDPYTGQQISLFQAMQKDLIVREHGIRLLEAQIATGGVIDPVHSHRVPVDVAYQRGYFDEEMNRVLADPSDDTKGFFDPNTHENLTYVQLLRRCVPDPDTGLYMLQLAGRGSAVHQLSEELRCALRDARVTPGSGALQGQSVSVWELLFYREVSEDRRQDLLSRYRAGTLTVEELGATLTSLLAQAQAQARAEAEAGSPRPDPREALRAATMEVKVGRLRGRAVPVWDVLASGYVSRAAREELLAEFGSGTLDLPALTRRLTAIIEEAEEAPGARPQLQDAWRGPREPGPAGRGDGDSGRSQREGQGEGETQEAAAAARRQEQTLRDATMEVQRGQFQGRPVSVWDVLFSSYLSEARRDELLAQHAAGALGLPDLVAVLTRVIEETEERLSKVSFRGLRCQVSASELHTSGILGPETLRDLAQGTKTLQEVTEMDSVKRYLEGTSCIAGVLVPAKDQPGRQEKMSIYQAMWKGVLRPGTALVLLEAQAATGFVIDPVRNLRLSVEEAVAAGVVGGEIQEKLLSAERAVTGYTDPYTGQQISLFQAMQKDLIVREHGIRLLEAQIATGGVIDPVHSHRVPVDVAYRRGYFDEEMNRVLADPSDDTKGFFDPNTHENLTYVQLLRRCVPDPDTGLYMLQLAGRGSAVHQLSEELRCALRDARVTPGSGALQGQSVSVWELLFYREVSEDRRQDLLSRYRAGTLTVEELGATLTSLLAQAQAQARAEAEAGSPRPDPREALRAATMEVKVGRLRGRAVPVWDVLASGYVSRAAREELLAEFGSGTLDLPALTRRLTAIIEEAEEAPGARPQLQDAWRGPREPGPAGRGDGDSGRSQREGQGEGETQEAAAATAAARRQEQTLRDATMEVQRGQFQGRPVSVWDVLFSSYLSEARRDELLAQHAAGALGLPDLVAVLTRVIEETEERLSKVSFRGLRRQVSASELHTSGILGPETLRDLAQGTKTLQEVTEMDSVKRYLEGTSCIAGVLVPAKDQPGRQEKMSIYQAMWKGVLRPGTALVLLEAQAATGFVIDPVRNLRLSVEEAVAAGVVGGEIQEKLLSAERAVTGYTDPYTGQQISLFQAMQKDLIVREHGIRLLEAQIATGGVIDPVHSHRVPVDVAYRRGYFDEEMNRVLADPSDDTKGFFDPNTHENLTYVQLLRRCVPDPDTGLYMLQLAGRGSAVHQLSEELRCALRDARVTPGSGALQGQSVSVWELLFYREVSEDRRQDLLSRYRAGTLTVEELGATLTSLLAQAQAQARAEAEAGSPRPDPREALRAATMEVKVGRLRGRAVPVWDVLASGYVSRAAREELLAEFGSGTLDLPALTRRLTAIIEEAEEAPGARPQLQDAWRGPREPGPAGRGDGDSGRSQREGQGEGETQEAAAATAAARRQEQTLRDATMEVQRGQFQGRPVSVWDVLFSSYLSEARRDELLAQHAAGALGLPDLVAVLTRVIEETEERLSKVSFRGLRRQVSASELHTSGILGPETLRDLAQGTKTLQEVTEMDSVKRYLEGTSCIAGVLVPAKDQPGHQEKMSIYQAMWKGVLRPGTALVLLEAQAATGFVIDPVRNLRLSVEEAVAAGVVGGEIQEKLLSAERAVTGYTDPYTGQQISLFQAMQKDLIVREHGIRLLEAQIATGGVIDPVHSHRVPVDVAYRRGYFDEEMNRVLAHPSDDTKGFFDPNTHENLTYVQLLRRCVPDPDTGLYMLQLAGRGSAVHQLSEELRCALRDARVMPGSGALQGQSVSVWELLFYREVSEDRRQDLLSRYRAGTLTVEELGATLTSLLAQAQAQARAEAEAEAGSPRPDPREALRAATMEVKVGRLRGRAVPVWDVLASGYVSGAAREELLAEFGSGTLDLPALTRRLTAIIEEAEEAPGARPQLQDAWRGPREPGPAGRGDGDSGRSQREGQGEGETQEAAAAARRQEQTLRDATMEVQRGQFQGRPVSVWDVLFSSYLSEAHRDELLAQHAAGALGLPDLVAVLTRVIEETEERLSKVSFRGLRRQVSASELHTSGILGPETLRDLAQGTKTLQEVTEMDSVKRYLEGTSCIAGVLVPAKDQPGRQEKMSIYQAMWKGVLRPGTALVLLEAQAATGFVIDPVRNLRLSVEEAVAAGVVGGEIQEKLLSAERAVTGYTDPYTGQQISLFQAMQKDLIVREHGIRLLEAQIATGGVIDPVHSHRVPVDVAYRRGYFDEEMNRVLADPSDDTKGFFDPNTHENLTYLQLLQRATLDPETGLLFLSLSLQ', 'length': 5088, 'molWeight': 555658, 'crc64': 'ED7799C641FA8FC5', 'md5': '2E71FE1D05BB3CC5753141370C1AA85A'}, 'extraAttributes': {'uniParcId': 'UPI0002065B93'}}\n"
     ]
    },
    {
     "name": "stderr",
     "output_type": "stream",
     "text": [
      "Fetching sequences:  81%|████████  | 378/469 [02:53<00:42,  2.16it/s]"
     ]
    },
    {
     "name": "stdout",
     "output_type": "stream",
     "text": [
      "{'entryType': 'UniProtKB reviewed (Swiss-Prot)', 'primaryAccession': 'Q8WVV9', 'proteinDescription': {'recommendedName': {'fullName': {'value': 'Heterogeneous nuclear ribonucleoprotein L-like'}, 'shortNames': [{'value': 'hnRNPLL'}]}, 'alternativeNames': [{'fullName': {'value': 'Stromal RNA-regulating factor'}}]}, 'genes': [{'geneName': {'value': 'HNRNPLL'}, 'synonyms': [{'value': 'HNRPLL'}, {'value': 'SRRF'}], 'orfNames': [{'value': 'BLOCK24'}]}], 'sequence': {'value': 'MSSSSSSPRETYEEDREYESQAKRLKTEEGEIDYSAEEGENRREATPRGGGDGGGGGRSFSQPEAGGSHHKVSVSPVVHVRGLCESVVEADLVEALEKFGTICYVMMMPFKRQALVEFENIDSAKECVTFAADEPVYIAGQQAFFNYSTSKRITRPGNTDDPSGGNKVLLLSIQNPLYPITVDVLYTVCNPVGKVQRIVIFKRNGIQAMVEFESVLCAQKAKAALNGADIYAGCCTLKIEYARPTRLNVIRNDNDSWDYTKPYLGRRDRGKGRQRQAILGEHPSSFRHDGYGSHGPLLPLPSRYRMGSRDTPELVAYPLPQASSSYMHGGNPSGSVVMVSGLHQLKMNCSRVFNLFCLYGNIEKVKFMKTIPGTALVEMGDEYAVERAVTHLNNVKLFGKRLNVCVSKQHSVVPSQIFELEDGTSSYKDFAMSKNNRFTSAGQASKNIIQPPSCVLHYYNVPLCVTEETFTKLCNDHEVLTFIKYKVFDAKPSAKTLSGLLEWECKTDAVEALTALNHYQIRVPNGSNPYTLKLCFSTSSHL', 'length': 542, 'molWeight': 60083, 'crc64': '466FAAB47B4C59D3', 'md5': '0A4899E6B8CE3A58B989C9AC9E882900'}, 'extraAttributes': {'uniParcId': 'UPI0000073754'}}\n"
     ]
    },
    {
     "name": "stderr",
     "output_type": "stream",
     "text": [
      "Fetching sequences:  81%|████████  | 379/469 [02:54<00:41,  2.19it/s]"
     ]
    },
    {
     "name": "stdout",
     "output_type": "stream",
     "text": [
      "{'entryType': 'UniProtKB reviewed (Swiss-Prot)', 'primaryAccession': 'Q8NCA5', 'proteinDescription': {'recommendedName': {'fullName': {'evidences': [{'evidenceCode': 'ECO:0000305'}], 'value': 'Protein FAM98A'}}}, 'genes': [{'geneName': {'evidences': [{'evidenceCode': 'ECO:0000312', 'source': 'HGNC', 'id': 'HGNC:24520'}], 'value': 'FAM98A'}}], 'sequence': {'value': 'MECDLMETDILESLEDLGYKGPLLEDGALSQAVSAGASSPEFTKLCAWLVSELRVLCKLEENVQATNSPSEAEEFQLEVSGLLGEMNCPYLSLTSGDVTKRLLIQKNCLLLLTYLISELEAARMLCVNAPPKKAQEGGGSEVFQELKGICIALGMSKPPANITMFQFFSGIEKKLKETLAKVPPNHVGKPLLKKPMGPAHWEKIEAINQAIANEYEVRRKLLIKRLDVTVQSFGWSDRAKSQTEKLAKVYQPKRSVLSPKTTISVAHLLAARQDLSKILRTSSGSIREKTACAINKVLMGRVPDRGGRPNEIEPPPPEMPPWQKRQDGPQQQTGGRGGGRGGYEHSSYGGRGGHEQGGGRGGRGGYDHGGRGGGRGNKHQGGWTDGGSGGGGGYQDGGYRDSGFQPGGYHGGHSSGGYQGGGYGGFQTSSSYTGSGYQGGGYQQDNRYQDGGHHGDRGGGRGGRGGRGGRGGRAGQGGGWGGRGSQNYHQGGQFEQHFQHGGYQYNHSGFGQGRHYTS', 'length': 518, 'molWeight': 55273, 'crc64': 'BED845DFE305060D', 'md5': 'CEFD28B20D49D142443AEF221D48D893'}, 'extraAttributes': {'uniParcId': 'UPI000013F15A'}}\n"
     ]
    },
    {
     "name": "stderr",
     "output_type": "stream",
     "text": [
      "Fetching sequences:  81%|████████  | 380/469 [02:54<00:40,  2.21it/s]"
     ]
    },
    {
     "name": "stdout",
     "output_type": "stream",
     "text": [
      "{'entryType': 'UniProtKB reviewed (Swiss-Prot)', 'primaryAccession': 'Q9NWB6', 'proteinDescription': {'recommendedName': {'fullName': {'value': 'Arginine and glutamate-rich protein 1'}}}, 'genes': [{'geneName': {'value': 'ARGLU1'}}], 'sequence': {'value': 'MGRSRSRSSSRSKHTKSSKHNKKRSRSRSRSRDKERVRKRSKSRESKRNRRRESRSRSRSTNTAVSRRERDRERASSPPDRIDIFGRTVSKRSSLDEKQKREEEEKKAEFERQRKIRQQEIEEKLIEEETARRVEELVAKRVEEELEKRKDEIEREVLRRVEEAKRIMEKQLLEELERQRQAELAAQKAREEEERAKREELERILEENNRKIAEAQAKLAEEQLRIVEEQRKIHEERMKLEQERQRQQKEEQKIILGKGKSRPKLSFSLKTQD', 'length': 273, 'molWeight': 33216, 'crc64': '70B88496BF18AAE0', 'md5': 'E5747E0F8251B43551ED5B7B50E68AAB'}, 'extraAttributes': {'uniParcId': 'UPI00000373ED'}}\n"
     ]
    },
    {
     "name": "stderr",
     "output_type": "stream",
     "text": [
      "Fetching sequences:  81%|████████  | 381/469 [02:55<00:39,  2.21it/s]"
     ]
    },
    {
     "name": "stdout",
     "output_type": "stream",
     "text": [
      "{'entryType': 'UniProtKB reviewed (Swiss-Prot)', 'primaryAccession': 'Q9HCS7', 'proteinDescription': {'recommendedName': {'fullName': {'value': 'Pre-mRNA-splicing factor SYF1'}}, 'alternativeNames': [{'fullName': {'value': 'Protein HCNP'}}, {'fullName': {'value': 'XPA-binding protein 2'}}]}, 'genes': [{'geneName': {'value': 'XAB2'}, 'synonyms': [{'value': 'HCNP'}, {'value': 'KIAA1177'}, {'value': 'SYF1'}], 'orfNames': [{'value': 'PP3898'}]}], 'sequence': {'value': 'MVVMARLSRPERPDLVFEEEDLPYEEEIMRNQFSVKCWLRYIEFKQGAPKPRLNQLYERALKLLPCSYKLWYRYLKARRAQVKHRCVTDPAYEDVNNCHERAFVFMHKMPRLWLDYCQFLMDQGRVTHTRRTFDRALRALPITQHSRIWPLYLRFLRSHPLPETAVRGYRRFLKLSPESAEEYIEYLKSSDRLDEAAQRLATVVNDERFVSKAGKSNYQLWHELCDLISQNPDKVQSLNVDAIIRGGLTRFTDQLGKLWCSLADYYIRSGHFEKARDVYEEAIRTVMTVRDFTQVFDSYAQFEESMIAAKMETASELGREEEDDVDLELRLARFEQLISRRPLLLNSVLLRQNPHHVHEWHKRVALHQGRPREIINTYTEAVQTVDPFKATGKPHTLWVAFAKFYEDNGQLDDARVILEKATKVNFKQVDDLASVWCQCGELELRHENYDEALRLLRKATALPARRAEYFDGSEPVQNRVYKSLKVWSMLADLEESLGTFQSTKAVYDRILDLRIATPQIVINYAMFLEEHKYFEESFKAYERGISLFKWPNVSDIWSTYLTKFIARYGGRKLERARDLFEQALDGCPPKYAKTLYLLYAQLEEEWGLARHAMAVYERATRAVEPAQQYDMFNIYIKRAAEIYGVTHTRGIYQKAIEVLSDEHAREMCLRFADMECKLGEIDRARAIYSFCSQICDPRTTGAFWQTWKDFEVRHGNEDTIKEMLRIRRSVQATYNTQVNFMASQMLKVSGSATGTVSDLAPGQSGMDDMKLLEQRAEQLAAEAERDQPLRAQSKILFVRSDASREELAELAQQVNPEEIQLGEDEDEDEMDLEPNEVRLEQQSVPAAVFGSLKED', 'length': 855, 'molWeight': 100010, 'crc64': 'CF766917CD65F6FD', 'md5': '782B52E4844EB2892C49C6DFB1FF6104'}, 'extraAttributes': {'uniParcId': 'UPI0000001BDE'}}\n"
     ]
    },
    {
     "name": "stderr",
     "output_type": "stream",
     "text": [
      "Fetching sequences:  81%|████████▏ | 382/469 [02:56<01:05,  1.33it/s]"
     ]
    },
    {
     "name": "stdout",
     "output_type": "stream",
     "text": [
      "{'entryType': 'UniProtKB reviewed (Swiss-Prot)', 'primaryAccession': 'P26641', 'proteinDescription': {'recommendedName': {'fullName': {'value': 'Elongation factor 1-gamma'}, 'shortNames': [{'value': 'EF-1-gamma'}]}, 'alternativeNames': [{'fullName': {'value': 'eEF-1B gamma'}}]}, 'genes': [{'geneName': {'value': 'EEF1G'}, 'synonyms': [{'value': 'EF1G'}], 'orfNames': [{'value': 'PRO1608'}]}], 'sequence': {'value': 'MAAGTLYTYPENWRAFKALIAAQYSGAQVRVLSAPPHFHFGQTNRTPEFLRKFPAGKVPAFEGDDGFCVFESNAIAYYVSNEELRGSTPEAAAQVVQWVSFADSDIVPPASTWVFPTLGIMHHNKQATENAKEEVRRILGLLDAYLKTRTFLVGERVTLADITVVCTLLWLYKQVLEPSFRQAFPNTNRWFLTCINQPQFRAVLGEVKLCEKMAQFDAKKFAETQPKKDTPRKEKGSREEKQKPQAERKEEKKAAAPAPEEEMDECEQALAAEPKAKDPFAHLPKSTFVLDEFKRKYSNEDTLSVALPYFWEHFDKDGWSLWYSEYRFPEELTQTFMSCNLITGMFQRLDKLRKNAFASVILFGTNNSSSISGVWVFRGQELAFPLSPDWQVDYESYTWRKLDPGSEETQTLVREYFSWEGAFQHVGKAFNQGKIFK', 'length': 437, 'molWeight': 50119, 'crc64': 'A6110663110CF3FC', 'md5': '632FE40D54DBA2C003B49D3A8BE9A8E2'}, 'extraAttributes': {'uniParcId': 'UPI00000012C3'}}\n"
     ]
    },
    {
     "name": "stderr",
     "output_type": "stream",
     "text": [
      "Fetching sequences:  82%|████████▏ | 383/469 [02:57<00:56,  1.53it/s]"
     ]
    },
    {
     "name": "stdout",
     "output_type": "stream",
     "text": [
      "{'entryType': 'UniProtKB reviewed (Swiss-Prot)', 'primaryAccession': 'P33992', 'proteinDescription': {'recommendedName': {'fullName': {'evidences': [{'evidenceCode': 'ECO:0000303', 'source': 'Reference', 'id': 'Ref.3'}], 'value': 'DNA replication licensing factor MCM5'}, 'ecNumbers': [{'evidences': [{'evidenceCode': 'ECO:0000305', 'source': 'PubMed', 'id': '32453425'}], 'value': '3.6.4.12'}]}, 'alternativeNames': [{'fullName': {'evidences': [{'evidenceCode': 'ECO:0000250', 'source': 'UniProtKB', 'id': 'P49718'}], 'value': 'CDC46 homolog'}}, {'fullName': {'evidences': [{'evidenceCode': 'ECO:0000303', 'source': 'PubMed', 'id': '8265339'}], 'value': 'P1-CDC46'}}]}, 'genes': [{'geneName': {'value': 'MCM5'}, 'synonyms': [{'value': 'CDC46'}]}], 'sequence': {'value': 'MSGFDDPGIFYSDSFGGDAQADEGQARKSQLQRRFKEFLRQYRVGTDRTGFTFKYRDELKRHYNLGEYWIEVEMEDLASFDEDLADYLYKQPAEHLQLLEEAAKEVADEVTRPRPSGEEVLQDIQVMLKSDASPSSIRSLKSDMMSHLVKIPGIIIAASAVRAKATRISIQCRSCRNTLTNIAMRPGLEGYALPRKCNTDQAGRPKCPLDPYFIMPDKCKCVDFQTLKLQELPDAVPHGEMPRHMQLYCDRYLCDKVVPGNRVTIMGIYSIKKFGLTTSRGRDRVGVGIRSSYIRVLGIQVDTDGSGRSFAGAVSPQEEEEFRRLAALPNVYEVISKSIAPSIFGGTDMKKAIACLLFGGSRKRLPDGLTRRGDINLLMLGDPGTAKSQLLKFVEKCSPIGVYTSGKGSSAAGLTASVMRDPSSRNFIMEGGAMVLADGGVVCIDEFDKMREDDRVAIHEAMEQQTISIAKAGITTTLNSRCSVLAAANSVFGRWDETKGEDNIDFMPTILSRFDMIFIVKDEHNEERDVMLAKHVITLHVSALTQTQAVEGEIDLAKLKKFIAYCRVKCGPRLSAEAAEKLKNRYIIMRSGARQHERDSDRRSSIPITVRQLEAIVRIAEALSKMKLQPFATEADVEEALRLFQVSTLDAALSGTLSGVEGFTSQEDQEMLSRIEKQLKRRFAIGSQVSEHSIIKDFTKQKYPEHAIHKVLQLMLRRGEIQHRMQRKVLYRLK', 'length': 734, 'molWeight': 82286, 'crc64': 'A80280E61749998D', 'md5': '0F1753BC2D2891CD8BE77CE5686D21F0'}, 'extraAttributes': {'uniParcId': 'UPI000000D8F4'}}\n"
     ]
    },
    {
     "name": "stderr",
     "output_type": "stream",
     "text": [
      "Fetching sequences:  82%|████████▏ | 384/469 [02:57<00:50,  1.69it/s]"
     ]
    },
    {
     "name": "stdout",
     "output_type": "stream",
     "text": [
      "{'entryType': 'UniProtKB reviewed (Swiss-Prot)', 'primaryAccession': 'P54136', 'proteinDescription': {'recommendedName': {'fullName': {'value': 'Arginine--tRNA ligase, cytoplasmic'}, 'ecNumbers': [{'evidences': [{'evidenceCode': 'ECO:0000269', 'source': 'PubMed', 'id': '16055448'}, {'evidenceCode': 'ECO:0000269', 'source': 'PubMed', 'id': '25288775'}], 'value': '6.1.1.19'}]}, 'alternativeNames': [{'fullName': {'value': 'Arginyl-tRNA synthetase'}, 'shortNames': [{'value': 'ArgRS'}]}]}, 'genes': [{'geneName': {'evidences': [{'evidenceCode': 'ECO:0000312', 'source': 'HGNC', 'id': 'HGNC:9870'}], 'value': 'RARS1'}, 'synonyms': [{'value': 'RARS'}]}], 'sequence': {'value': 'MDVLVSECSARLLQQEEEIKSLTAEIDRLKNCGCLGASPNLEQLQEENLKLKYRLNILRKSLQAERNKPTKNMINIISRLQEVFGHAIKAAYPDLENPPLLVTPSQQAKFGDYQCNSAMGISQMLKTKEQKVNPREIAENITKHLPDNECIEKVEIAGPGFINVHLRKDFVSEQLTSLLVNGVQLPALGENKKVIVDFSSPNIAKEMHVGHLRSTIIGESISRLFEFAGYDVLRLNHVGDWGTQFGMLIAHLQDKFPDYLTVSPPIGDLQVFYKESKKRFDTEEEFKKRAYQCVVLLQGKNPDITKAWKLICDVSRQELNKIYDALDVSLIERGESFYQDRMNDIVKEFEDRGFVQVDDGRKIVFVPGCSIPLTIVKSDGGYTYDTSDLAAIKQRLFEEKADMIIYVVDNGQSVHFQTIFAAAQMIGWYDPKVTRVFHAGFGVVLGEDKKKFKTRSGETVRLMDLLGEGLKRSMDKLKEKERDKVLTAEELNAAQTSVAYGCIKYADLSHNRLNDYIFSFDKMLDDRGNTAAYLLYAFTRIRSIARLANIDEEMLQKAARETKILLDHEKEWKLGRCILRFPEILQKILDDLFLHTLCDYIYELATAFTEFYDSCYCVEKDRQTGKILKVNMWRMLLCEAVAAVMAKGFDILGIKPVQRM', 'length': 660, 'molWeight': 75379, 'crc64': 'FE9FB5C910709956', 'md5': 'FEECD1A8D907772A2DD70F1423A1B807'}, 'extraAttributes': {'uniParcId': 'UPI0000136648'}}\n"
     ]
    },
    {
     "name": "stderr",
     "output_type": "stream",
     "text": [
      "Fetching sequences:  82%|████████▏ | 385/469 [02:57<00:46,  1.82it/s]"
     ]
    },
    {
     "name": "stdout",
     "output_type": "stream",
     "text": [
      "{'entryType': 'UniProtKB reviewed (Swiss-Prot)', 'primaryAccession': 'Q99880', 'proteinDescription': {'recommendedName': {'fullName': {'value': 'Histone H2B type 1-L'}}, 'alternativeNames': [{'fullName': {'value': 'Histone H2B.c'}, 'shortNames': [{'value': 'H2B/c'}]}]}, 'genes': [{'geneName': {'evidences': [{'evidenceCode': 'ECO:0000312', 'source': 'HGNC', 'id': 'HGNC:4748'}], 'value': 'H2BC13'}, 'synonyms': [{'evidences': [{'evidenceCode': 'ECO:0000312', 'source': 'HGNC', 'id': 'HGNC:4748'}], 'value': 'H2BFC'}, {'evidences': [{'evidenceCode': 'ECO:0000312', 'source': 'HGNC', 'id': 'HGNC:4748'}], 'value': 'HIST1H2BL'}]}], 'sequence': {'value': 'MPELAKSAPAPKKGSKKAVTKAQKKDGKKRKRSRKESYSVYVYKVLKQVHPDTGISSKAMGIMNSFVNDIFERIASEASRLAHYNKRSTITSREIQTAVRLLLPGELAKHAVSEGTKAVTKYTSSK', 'length': 126, 'molWeight': 13952, 'crc64': 'EAA150A983C8B03D', 'md5': '1D8BE7A3CC9C34C3244F3B4681DBDF05'}, 'extraAttributes': {'uniParcId': 'UPI0000001BD6'}}\n"
     ]
    },
    {
     "name": "stderr",
     "output_type": "stream",
     "text": [
      "Fetching sequences:  82%|████████▏ | 386/469 [02:58<00:42,  1.94it/s]"
     ]
    },
    {
     "name": "stdout",
     "output_type": "stream",
     "text": [
      "{'entryType': 'UniProtKB reviewed (Swiss-Prot)', 'primaryAccession': 'O43670', 'proteinDescription': {'recommendedName': {'fullName': {'evidences': [{'evidenceCode': 'ECO:0000303', 'source': 'PubMed', 'id': '24462186'}, {'evidenceCode': 'ECO:0000303', 'source': 'PubMed', 'id': '24462187'}], 'value': 'BUB3-interacting and GLEBS motif-containing protein ZNF207'}, 'shortNames': [{'evidences': [{'evidenceCode': 'ECO:0000303', 'source': 'PubMed', 'id': '24462186'}, {'evidenceCode': 'ECO:0000303', 'source': 'PubMed', 'id': '24462187'}], 'value': 'BuGZ'}, {'evidences': [{'evidenceCode': 'ECO:0000303', 'source': 'PubMed', 'id': '26388440'}], 'value': 'hBuGZ'}]}, 'alternativeNames': [{'fullName': {'value': 'Zinc finger protein 207'}}]}, 'genes': [{'geneName': {'evidences': [{'evidenceCode': 'ECO:0000312', 'source': 'HGNC', 'id': 'HGNC:12998'}], 'value': 'ZNF207'}, 'synonyms': [{'evidences': [{'evidenceCode': 'ECO:0000303', 'source': 'PubMed', 'id': '24462186'}, {'evidenceCode': 'ECO:0000303', 'source': 'PubMed', 'id': '24462187'}], 'value': 'BUGZ'}]}], 'sequence': {'value': 'MGRKKKKQLKPWCWYCNRDFDDEKILIQHQKAKHFKCHICHKKLYTGPGLAIHCMQVHKETIDAVPNAIPGRTDIELEIYGMEGIPEKDMDERRRLLEQKTQESQKKKQQDDSDEYDDDDSAASTSFQPQPVQPQQGYIPPMAQPGLPPVPGAPGMPPGIPPLMPGVPPLMPGMPPVMPGMPPGMMPMGGMMPPGPGIPPLMPGMPPGMPPPVPRPGIPPMTQAQAVSAPGILNRPPAPTATVPAPQPPVTKPLFPSAGQMGTPVTSSSTASSNSESLSASSKALFPSTAQAQAAVQGPVGTDFKPLNSTPATTTEPPKPTFPAYTQSTASTTSTTNSTAAKPAASITSKPATLTTTSATSKLIHPDEDISLEERRAQLPKYQRNLPRPGQAPIGNPPVGPIGGMMPPQPGIPQQQGMRPPMPPHGQYGGHHQGMPGYLPGAMPPYGQGPPMVPPYQGGPPRPPMGMRPPVMSQGGRY', 'length': 478, 'molWeight': 50751, 'crc64': '308B0303059052F7', 'md5': '3616BD98A9243E0F9953A20216583019'}, 'extraAttributes': {'uniParcId': 'UPI000013C31B'}}\n"
     ]
    },
    {
     "name": "stderr",
     "output_type": "stream",
     "text": [
      "Fetching sequences:  83%|████████▎ | 387/469 [02:58<00:42,  1.94it/s]"
     ]
    },
    {
     "name": "stdout",
     "output_type": "stream",
     "text": [
      "{'entryType': 'UniProtKB reviewed (Swiss-Prot)', 'primaryAccession': 'P30041', 'proteinDescription': {'recommendedName': {'fullName': {'value': 'Peroxiredoxin-6'}, 'ecNumbers': [{'evidences': [{'evidenceCode': 'ECO:0000269', 'source': 'PubMed', 'id': '10893423'}, {'evidenceCode': 'ECO:0000269', 'source': 'PubMed', 'id': '9497358'}], 'value': '1.11.1.27'}]}, 'alternativeNames': [{'fullName': {'value': '1-Cys peroxiredoxin'}, 'shortNames': [{'value': '1-Cys PRX'}]}, {'fullName': {'value': '24 kDa protein'}}, {'fullName': {'value': 'Acidic calcium-independent phospholipase A2'}, 'shortNames': [{'value': 'aiPLA2'}], 'ecNumbers': [{'evidences': [{'evidenceCode': 'ECO:0000269', 'source': 'PubMed', 'id': '10893423'}, {'evidenceCode': 'ECO:0000269', 'source': 'PubMed', 'id': '26830860'}], 'value': '3.1.1.4'}]}, {'fullName': {'value': 'Antioxidant protein 2'}}, {'fullName': {'evidences': [{'evidenceCode': 'ECO:0000305'}], 'value': 'Glutathione-dependent peroxiredoxin'}}, {'fullName': {'value': 'Liver 2D page spot 40'}}, {'fullName': {'evidences': [{'evidenceCode': 'ECO:0000303', 'source': 'PubMed', 'id': '26830860'}], 'value': 'Lysophosphatidylcholine acyltransferase 5'}, 'shortNames': [{'value': 'LPC acyltransferase 5'}, {'value': 'LPCAT-5'}, {'value': 'Lyso-PC acyltransferase 5'}], 'ecNumbers': [{'evidences': [{'evidenceCode': 'ECO:0000269', 'source': 'PubMed', 'id': '26830860'}], 'value': '2.3.1.23'}]}, {'fullName': {'value': 'Non-selenium glutathione peroxidase'}, 'shortNames': [{'value': 'NSGPx'}]}, {'fullName': {'value': 'Red blood cells page spot 12'}}]}, 'genes': [{'geneName': {'value': 'PRDX6'}, 'synonyms': [{'value': 'AOP2'}, {'value': 'KIAA0106'}]}], 'sequence': {'value': 'MPGGLLLGDVAPNFEANTTVGRIRFHDFLGDSWGILFSHPRDFTPVCTTELGRAAKLAPEFAKRNVKLIALSIDSVEDHLAWSKDINAYNCEEPTEKLPFPIIDDRNRELAILLGMLDPAEKDEKGMPVTARVVFVFGPDKKLKLSILYPATTGRNFDEILRVVISLQLTAEKRVATPVDWKDGDSVMVLPTIPEEEAKKLFPKGVFTKELPSGKKYLRYTPQP', 'length': 224, 'molWeight': 25035, 'crc64': '017D955F0FEEDFBC', 'md5': '1DE8066A42A2FB3D2722892B9E75FEA6'}, 'extraAttributes': {'uniParcId': 'UPI0000001C4B'}}\n"
     ]
    },
    {
     "name": "stderr",
     "output_type": "stream",
     "text": [
      "Fetching sequences:  83%|████████▎ | 388/469 [02:59<00:40,  2.02it/s]"
     ]
    },
    {
     "name": "stdout",
     "output_type": "stream",
     "text": [
      "{'entryType': 'UniProtKB reviewed (Swiss-Prot)', 'primaryAccession': 'Q9H6Y2', 'proteinDescription': {'recommendedName': {'fullName': {'value': 'WD repeat-containing protein 55'}}}, 'genes': [{'geneName': {'value': 'WDR55'}}], 'sequence': {'value': 'MDRTCEERPAEDGSDEEDPDSMEAPTRIRDTPEDIVLEAPASGLAFHPARDLLAAGDVDGDVFVFSYSCQEGETKELWSSGHHLKACRAVAFSEDGQKLITVSKDKAIHVLDVEQGQLERRVSKAHGAPINSLLLVDENVLATGDDTGGICLWDQRKEGPLMDMRQHEEYIADMALDPAKKLLLTASGDGCLGIFNIKRRRFELLSEPQSGDLTSVTLMKWGKKVACGSSEGTIYLFNWNGFGATSDRFALRAESIDCMVPVTESLLCTGSTDGVIRAVNILPNRVVGSVGQHTGEPVEELALSHCGRFLASSGHDQRLKFWDMAQLRAVVVDDYRRRKKKGGPLRALSSKTWSTDDFFAGLREEGEDSMAQEEKEETGDDSD', 'length': 383, 'molWeight': 42070, 'crc64': '757962232E1034EB', 'md5': '22B1616F7B89C19E432AC313DFB6C2B6'}, 'extraAttributes': {'uniParcId': 'UPI000013F1EC'}}\n"
     ]
    },
    {
     "name": "stderr",
     "output_type": "stream",
     "text": [
      "Fetching sequences:  83%|████████▎ | 389/469 [02:59<00:38,  2.10it/s]"
     ]
    },
    {
     "name": "stdout",
     "output_type": "stream",
     "text": [
      "{'entryType': 'UniProtKB reviewed (Swiss-Prot)', 'primaryAccession': 'Q09028', 'proteinDescription': {'recommendedName': {'fullName': {'value': 'Histone-binding protein RBBP4'}}, 'alternativeNames': [{'fullName': {'value': 'Chromatin assembly factor 1 subunit C'}, 'shortNames': [{'value': 'CAF-1 subunit C'}]}, {'fullName': {'value': 'Chromatin assembly factor I p48 subunit'}, 'shortNames': [{'value': 'CAF-I 48 kDa subunit'}, {'value': 'CAF-I p48'}]}, {'fullName': {'value': 'Nucleosome-remodeling factor subunit RBAP48'}}, {'fullName': {'value': 'Retinoblastoma-binding protein 4'}, 'shortNames': [{'value': 'RBBP-4'}]}, {'fullName': {'value': 'Retinoblastoma-binding protein p48'}}]}, 'genes': [{'geneName': {'value': 'RBBP4'}, 'synonyms': [{'value': 'RBAP48'}]}], 'sequence': {'value': 'MADKEAAFDDAVEERVINEEYKIWKKNTPFLYDLVMTHALEWPSLTAQWLPDVTRPEGKDFSIHRLVLGTHTSDEQNHLVIASVQLPNDDAQFDASHYDSEKGEFGGFGSVSGKIEIEIKINHEGEVNRARYMPQNPCIIATKTPSSDVLVFDYTKHPSKPDPSGECNPDLRLRGHQKEGYGLSWNPNLSGHLLSASDDHTICLWDISAVPKEGKVVDAKTIFTGHTAVVEDVSWHLLHESLFGSVADDQKLMIWDTRSNNTSKPSHSVDAHTAEVNCLSFNPYSEFILATGSADKTVALWDLRNLKLKLHSFESHKDEIFQVQWSPHNETILASSGTDRRLNVWDLSKIGEEQSPEDAEDGPPELLFIHGGHTAKISDFSWNPNEPWVICSVSEDNIMQVWQMAENIYNDEDPEGSVDPEGQGS', 'length': 425, 'molWeight': 47656, 'crc64': 'B71E2D55A444C360', 'md5': '5AE86272955CAE222DDC736958B9489C'}, 'extraAttributes': {'uniParcId': 'UPI000013318C'}}\n"
     ]
    },
    {
     "name": "stderr",
     "output_type": "stream",
     "text": [
      "Fetching sequences:  83%|████████▎ | 390/469 [03:00<00:37,  2.13it/s]"
     ]
    },
    {
     "name": "stdout",
     "output_type": "stream",
     "text": [
      "{'entryType': 'UniProtKB reviewed (Swiss-Prot)', 'primaryAccession': 'Q9NW13', 'proteinDescription': {'recommendedName': {'fullName': {'value': 'RNA-binding protein 28'}}, 'alternativeNames': [{'fullName': {'value': 'RNA-binding motif protein 28'}}]}, 'genes': [{'geneName': {'value': 'RBM28'}}], 'sequence': {'value': 'MAGLTLFVGRLPPSARSEQLEELFSQVGPVKQCFVVTEKGSKACRGFGYVTFSMLEDVQRALKEITTFEGCKINVTVAKKKLRNKTKEKGKNENSECPKKEPKAKKAKVADKKARLIIRNLSFKCSEDDLKTVFAQFGAVLEVNIPRKPDGKMRGFGFVQFKNLLEAGKALKGMNMKEIKGRTVAVDWAVAKDKYKDTQSVSAIGEEKSHESKHQESVKKKGREEEDMEEEENDDDDDDDDEEDGVFDDEDEEEENIESKVTKPVQIQKRAVKRPAPAKSSDHSEEDSDLEESDSIDDGEELAQSDTSTEEQEDKAVQVSNKKKRKLPSDVNEGKTVFIRNLSFDSEEEELGELLQQFGELKYVRIVLHPDTEHSKGCAFAQFMTQEAAQKCLLAASPENEAGGLKLDGRQLKVDLAVTRDEAAKLQTTKVKKPTGTRNLYLAREGLIRAGTKAAEGVSAADMAKRERFELLKHQKLKDQNIFVSRTRLCLHNLPKAVDDKQLRKLLLSATSGEKGVRIKECRVMRDLKGVHGNMKGQSLGYAFAEFQEHEHALKALRLINNNPEIFGPLKRPIVEFSLEDRRKLKMKELRIQRSLQKMRSKPATGEPQKGQPEPAKDQQQKAAQHHTEEQSKVPPEQKRKAGSTSWTGFQTKAEVEQVELPDGKKRRKVLALPSHRGPKIRLRDKGKVKPVHPKKPKPQINQWKQEKQQLSSEQVSRKKAKGNKTETRFNQLVEQYKQKLLGPSKGAPLAKRSKWFDS', 'length': 759, 'molWeight': 85738, 'crc64': 'B477EDB9561D6771', 'md5': '7FCF8705545387F1B0ABAAF4FC68E2A2'}, 'extraAttributes': {'uniParcId': 'UPI000006FFF1'}}\n"
     ]
    },
    {
     "name": "stderr",
     "output_type": "stream",
     "text": [
      "Fetching sequences:  83%|████████▎ | 391/469 [03:00<00:36,  2.15it/s]"
     ]
    },
    {
     "name": "stdout",
     "output_type": "stream",
     "text": [
      "{'entryType': 'UniProtKB reviewed (Swiss-Prot)', 'primaryAccession': 'Q9NY61', 'proteinDescription': {'recommendedName': {'fullName': {'value': 'Protein AATF'}}, 'alternativeNames': [{'fullName': {'value': 'Apoptosis-antagonizing transcription factor'}}, {'fullName': {'value': 'Rb-binding protein Che-1'}}]}, 'genes': [{'geneName': {'evidences': [{'evidenceCode': 'ECO:0000312', 'source': 'HGNC', 'id': 'HGNC:19235'}], 'value': 'AATF'}, 'synonyms': [{'value': 'CHE1'}, {'value': 'DED'}], 'orfNames': [{'value': 'HSPC277'}]}], 'sequence': {'value': 'MAGPQPLALQLEQLLNPRPSEADPEADPEEATAARVIDRFDEGEDGEGDFLVVGSIRKLASASLLDTDKRYCGKTTSRKAWNEDHWEQTLPGSSDEEISDEEGSGDEDSEGLGLEEYDEDDLGAAEEQECGDHRESKKSRSHSAKTPGFSVQSISDFEKFTKGMDDLGSSEEEEDEESGMEEGDDAEDSQGESEEDRAGDRNSEDDGVVMTFSSVKVSEEVEKGRAVKNQIALWDQLLEGRIKLQKALLTTNQLPQPDVFPLFKDKGGPEFSSALKNSHKALKALLRSLVGLQEELLFQYPDTRYLVDGTKPNAGSEEISSEDDELVEEKKQQRRRVPAKRKLEMEDYPSFMAKRFADFTVYRNRTLQKWHDKTKLASGKLGKGFGAFERSILTQIDHILMDKERLLRRTQTKRSVYRVLGKPEPAAQPVPESLPGEPEILPQAPANAHLKDLDEEIFDDDDFYHQLLRELIERKTSSLDPNDQVAMGRQWLAIQKLRSKIHKKVDRKASKGRKLRFHVLSKLLSFMAPIDHTTMNDDARTELYRSLFGQLHPPDEGHGD', 'length': 560, 'molWeight': 63133, 'crc64': 'EC493EF3B4C3A199', 'md5': '7DF4EAF1B269A214ED7628CA7CDAED23'}, 'extraAttributes': {'uniParcId': 'UPI000006E3DE'}}\n"
     ]
    },
    {
     "name": "stderr",
     "output_type": "stream",
     "text": [
      "Fetching sequences:  84%|████████▎ | 392/469 [03:01<00:35,  2.19it/s]"
     ]
    },
    {
     "name": "stdout",
     "output_type": "stream",
     "text": [
      "{'entryType': 'UniProtKB reviewed (Swiss-Prot)', 'primaryAccession': 'P56182', 'proteinDescription': {'recommendedName': {'fullName': {'value': 'Ribosomal RNA processing protein 1 homolog A'}}, 'alternativeNames': [{'fullName': {'value': 'Novel nuclear protein 1'}, 'shortNames': [{'value': 'NNP-1'}]}, {'fullName': {'value': 'Nucleolar protein Nop52'}}, {'fullName': {'value': 'RRP1-like protein'}}]}, 'genes': [{'geneName': {'value': 'RRP1'}, 'synonyms': [{'value': 'D21S2056E'}, {'value': 'NNP1'}, {'value': 'NOP52'}, {'value': 'RRP1A'}]}], 'sequence': {'value': 'MVSRVQLPPEIQLAQRLAGNEQVTRDRAVRKLRKYIVARTQRAAGGFTHDELLKVWKGLFYCMWMQDKPLLQEELGRTISQLVHAFQTTEAQHLFLQAFWQTMNREWTGIDRLRLDKFYMLMRMVLNESLKVLKMQGWEERQIEELLELLMTEILHPSSQAPNGVKSHFIEIFLEELTKVGAEELTADQNLKFIDPFCRIAARTKDSLVLNNITRGIFETIVEQAPLAIEDLLNELDTQDEEVASDSDESSEGGERGDALSQKRSEKPPAGSICRAEPEAGEEQAGDDRDSGGPVLQFDYEAVANRLFEMASRQSTPSQNRKRLYKVIRKLQDLAGGIFPEDEIPEKACRRLLEGRRQKKTKKQKRLLRLQQERGKGEKEPPSPGMERKRSRRRGVGADPEARAEAGEQPGTAERALLRDQPRGRGQRGARQRRRTPRPLTSARAKAANVQEPEKKKKRRE', 'length': 461, 'molWeight': 52839, 'crc64': 'C6F204EF4161AEAE', 'md5': '7B290B02011C4BA658BE92AA5F99D747'}, 'extraAttributes': {'uniParcId': 'UPI0000130286'}}\n"
     ]
    },
    {
     "name": "stderr",
     "output_type": "stream",
     "text": [
      "Fetching sequences:  84%|████████▍ | 393/469 [03:01<00:34,  2.20it/s]"
     ]
    },
    {
     "name": "stdout",
     "output_type": "stream",
     "text": [
      "{'entryType': 'UniProtKB reviewed (Swiss-Prot)', 'primaryAccession': 'Q02040', 'proteinDescription': {'recommendedName': {'fullName': {'value': 'A-kinase anchor protein 17A'}, 'shortNames': [{'value': 'AKAP-17A'}]}, 'alternativeNames': [{'fullName': {'value': '721P'}}, {'fullName': {'value': 'B-lymphocyte antigen'}}, {'fullName': {'value': 'Protein XE7'}}, {'fullName': {'value': 'Protein kinase A-anchoring protein 17A'}, 'shortNames': [{'value': 'PRKA17A'}]}, {'fullName': {'value': 'Splicing factor, arginine/serine-rich 17A'}}]}, 'genes': [{'geneName': {'value': 'AKAP17A'}, 'synonyms': [{'value': 'CXYorf3'}, {'value': 'DXYS155E'}, {'value': 'SFRS17A'}, {'value': 'XE7'}]}], 'sequence': {'value': 'MAAATIVHDTSEAVELCPAYGLYLKPITKMTISVALPQLKQPGKSISNWEVMERLKGMVQNHQFSTLRISKSTMDFIRFEGEVENKSLVKSFLACLDGKTIKLSGFSDILKVRAAEFKIDFPTRHDWDSFFRDAKDMNETLPGERPDTIHLEGLPCKWFALKESGSEKPSEDVLVKVFEKFGEIRNVDIPMLDPYREEMTGRNFHTFSFGGHLNFEAYVQYREYMGFIQAMSALRGMKLMYKGEDGKAVACNIKVSFDSTKHLSDASIKKRQLERQKLQELEQQREEQKRREKEAEERQRAEERKQKELEELERERKREEKLRKREQKQRDRELRRNQKKLEKLQAEEQKQLQEKIKLEERKLLLAQRNLQSIRLIAELLSRAKAVKLREQEQKEEKLRLQQQEERRRLQEAELRRVEEEKERALGLQRKERELRERLLSILLSKKPDDSHTHDELGVAHADLLQPVLDILQTVSSGCVSATTLHPLGGQPPAGAPKESPAHPEADGAPKSVNGSVAEEAPCKEVQSSCRVVPEDGSPEKRCPGGVLSCIPDNNQQPKGIPACEQNVSRKDTRSEQDKCNREPSKGRGRATGDGLADRHKRERSRARRASSREDGRPRKERRPHKKHAYKDDSPRRRSTSPDHTRSRRSHSKDRHRRERSRERRGSASRKHSRHRRRSERSRSRSPSRHRSTWNR', 'length': 695, 'molWeight': 80735, 'crc64': '639E88ECA8006CF2', 'md5': 'BBF62887225273D35FFAC638C353A143'}, 'extraAttributes': {'uniParcId': 'UPI00001AF072'}}\n"
     ]
    },
    {
     "name": "stderr",
     "output_type": "stream",
     "text": [
      "Fetching sequences:  84%|████████▍ | 394/469 [03:01<00:34,  2.20it/s]"
     ]
    },
    {
     "name": "stdout",
     "output_type": "stream",
     "text": [
      "{'entryType': 'UniProtKB reviewed (Swiss-Prot)', 'primaryAccession': 'P11142', 'proteinDescription': {'recommendedName': {'fullName': {'evidences': [{'evidenceCode': 'ECO:0000305'}], 'value': 'Heat shock cognate 71 kDa protein'}, 'ecNumbers': [{'evidences': [{'evidenceCode': 'ECO:0000269', 'source': 'PubMed', 'id': '12526792'}], 'value': '3.6.4.10'}]}, 'alternativeNames': [{'fullName': {'value': 'Heat shock 70 kDa protein 8'}}, {'fullName': {'value': 'Heat shock protein family A member 8'}}, {'fullName': {'value': 'Lipopolysaccharide-associated protein 1'}, 'shortNames': [{'value': 'LAP-1'}, {'value': 'LPS-associated protein 1'}]}]}, 'genes': [{'geneName': {'evidences': [{'evidenceCode': 'ECO:0000312', 'source': 'HGNC', 'id': 'HGNC:5241'}], 'value': 'HSPA8'}, 'synonyms': [{'evidences': [{'evidenceCode': 'ECO:0000303', 'source': 'Reference', 'id': 'Ref.3'}], 'value': 'HSC70'}, {'value': 'HSP73'}, {'value': 'HSPA10'}]}], 'sequence': {'value': 'MSKGPAVGIDLGTTYSCVGVFQHGKVEIIANDQGNRTTPSYVAFTDTERLIGDAAKNQVAMNPTNTVFDAKRLIGRRFDDAVVQSDMKHWPFMVVNDAGRPKVQVEYKGETKSFYPEEVSSMVLTKMKEIAEAYLGKTVTNAVVTVPAYFNDSQRQATKDAGTIAGLNVLRIINEPTAAAIAYGLDKKVGAERNVLIFDLGGGTFDVSILTIEDGIFEVKSTAGDTHLGGEDFDNRMVNHFIAEFKRKHKKDISENKRAVRRLRTACERAKRTLSSSTQASIEIDSLYEGIDFYTSITRARFEELNADLFRGTLDPVEKALRDAKLDKSQIHDIVLVGGSTRIPKIQKLLQDFFNGKELNKSINPDEAVAYGAAVQAAILSGDKSENVQDLLLLDVTPLSLGIETAGGVMTVLIKRNTTIPTKQTQTFTTYSDNQPGVLIQVYEGERAMTKDNNLLGKFELTGIPPAPRGVPQIEVTFDIDANGILNVSAVDKSTGKENKITITNDKGRLSKEDIERMVQEAEKYKAEDEKQRDKVSSKNSLESYAFNMKATVEDEKLQGKINDEDKQKILDKCNEIINWLDKNQTAEKEEFEHQQKELEKVCNPIITKLYQSAGGMPGGMPGGFPGGGAPPSGGASSGPTIEEVD', 'length': 646, 'molWeight': 70898, 'crc64': '9AA27B210730670C', 'md5': 'D7BC28BA69DA98A3EE84D089F67F05E4'}, 'extraAttributes': {'uniParcId': 'UPI0000000801'}}\n"
     ]
    },
    {
     "name": "stderr",
     "output_type": "stream",
     "text": [
      "Fetching sequences:  84%|████████▍ | 395/469 [03:02<00:33,  2.22it/s]"
     ]
    },
    {
     "name": "stdout",
     "output_type": "stream",
     "text": [
      "{'entryType': 'UniProtKB reviewed (Swiss-Prot)', 'primaryAccession': 'P35579', 'proteinDescription': {'recommendedName': {'fullName': {'value': 'Myosin-9'}}, 'alternativeNames': [{'fullName': {'value': 'Cellular myosin heavy chain, type A'}}, {'fullName': {'value': 'Myosin heavy chain 9'}}, {'fullName': {'value': 'Myosin heavy chain, non-muscle IIa'}}, {'fullName': {'value': 'Non-muscle myosin heavy chain A'}, 'shortNames': [{'value': 'NMMHC-A'}]}, {'fullName': {'evidences': [{'evidenceCode': 'ECO:0000303', 'source': 'PubMed', 'id': '20944748'}], 'value': 'Non-muscle myosin heavy chain IIa'}, 'shortNames': [{'evidences': [{'evidenceCode': 'ECO:0000303', 'source': 'PubMed', 'id': '20944748'}], 'value': 'NMMHC II-a'}, {'evidences': [{'evidenceCode': 'ECO:0000303', 'source': 'PubMed', 'id': '20944748'}], 'value': 'NMMHC-IIA'}]}]}, 'genes': [{'geneName': {'value': 'MYH9'}}], 'sequence': {'value': 'MAQQAADKYLYVDKNFINNPLAQADWAAKKLVWVPSDKSGFEPASLKEEVGEEAIVELVENGKKVKVNKDDIQKMNPPKFSKVEDMAELTCLNEASVLHNLKERYYSGLIYTYSGLFCVVINPYKNLPIYSEEIVEMYKGKKRHEMPPHIYAITDTAYRSMMQDREDQSILCTGESGAGKTENTKKVIQYLAYVASSHKSKKDQGELERQLLQANPILEAFGNAKTVKNDNSSRFGKFIRINFDVNGYIVGANIETYLLEKSRAIRQAKEERTFHIFYYLLSGAGEHLKTDLLLEPYNKYRFLSNGHVTIPGQQDKDMFQETMEAMRIMGIPEEEQMGLLRVISGVLQLGNIVFKKERNTDQASMPDNTAAQKVSHLLGINVTDFTRGILTPRIKVGRDYVQKAQTKEQADFAIEALAKATYERMFRWLVLRINKALDKTKRQGASFIGILDIAGFEIFDLNSFEQLCINYTNEKLQQLFNHTMFILEQEEYQREGIEWNFIDFGLDLQPCIDLIEKPAGPPGILALLDEECWFPKATDKSFVEKVMQEQGTHPKFQKPKQLKDKADFCIIHYAGKVDYKADEWLMKNMDPLNDNIATLLHQSSDKFVSELWKDVDRIIGLDQVAGMSETALPGAFKTRKGMFRTVGQLYKEQLAKLMATLRNTNPNFVRCIIPNHEKKAGKLDPHLVLDQLRCNGVLEGIRICRQGFPNRVVFQEFRQRYEILTPNSIPKGFMDGKQACVLMIKALELDSNLYRIGQSKVFFRAGVLAHLEEERDLKITDVIIGFQACCRGYLARKAFAKRQQQLTAMKVLQRNCAAYLKLRNWQWWRLFTKVKPLLQVSRQEEEMMAKEEELVKVREKQLAAENRLTEMETLQSQLMAEKLQLQEQLQAETELCAEAEELRARLTAKKQELEEICHDLEARVEEEEERCQHLQAEKKKMQQNIQELEEQLEEEESARQKLQLEKVTTEAKLKKLEEEQIILEDQNCKLAKEKKLLEDRIAEFTTNLTEEEEKSKSLAKLKNKHEAMITDLEERLRREEKQRQELEKTRRKLEGDSTDLSDQIAELQAQIAELKMQLAKKEEELQAALARVEEEAAQKNMALKKIRELESQISELQEDLESERASRNKAEKQKRDLGEELEALKTELEDTLDSTAAQQELRSKREQEVNILKKTLEEEAKTHEAQIQEMRQKHSQAVEELAEQLEQTKRVKANLEKAKQTLENERGELANEVKVLLQGKGDSEHKRKKVEAQLQELQVKFNEGERVRTELADKVTKLQVELDNVTGLLSQSDSKSSKLTKDFSALESQLQDTQELLQEENRQKLSLSTKLKQVEDEKNSFREQLEEEEEAKHNLEKQIATLHAQVADMKKKMEDSVGCLETAEEVKRKLQKDLEGLSQRHEEKVAAYDKLEKTKTRLQQELDDLLVDLDHQRQSACNLEKKQKKFDQLLAEEKTISAKYAEERDRAEAEAREKETKALSLARALEEAMEQKAELERLNKQFRTEMEDLMSSKDDVGKSVHELEKSKRALEQQVEEMKTQLEELEDELQATEDAKLRLEVNLQAMKAQFERDLQGRDEQSEEKKKQLVRQVREMEAELEDERKQRSMAVAARKKLEMDLKDLEAHIDSANKNRDEAIKQLRKLQAQMKDCMRELDDTRASREEILAQAKENEKKLKSMEAEMIQLQEELAAAERAKRQAQQERDELADEIANSSGKGALALEEKRRLEARIAQLEEELEEEQGNTELINDRLKKANLQIDQINTDLNLERSHAQKNENARQQLERQNKELKVKLQEMEGTVKSKYKASITALEAKIAQLEEQLDNETKERQAACKQVRRTEKKLKDVLLQVDDERRNAEQYKDQADKASTRLKQLKRQLEEAEEEAQRANASRRKLQRELEDATETADAMNREVSSLKNKLRRGDLPFVVPRRMARKGAGDGSDEEVDGKADGAEAKPAE', 'length': 1960, 'molWeight': 226532, 'crc64': '588F84BB8C106E6F', 'md5': '4F27CA1261546BE895F38671626F9FEC'}, 'extraAttributes': {'uniParcId': 'UPI000012FB80'}}\n"
     ]
    },
    {
     "name": "stderr",
     "output_type": "stream",
     "text": [
      "Fetching sequences:  84%|████████▍ | 396/469 [03:02<00:32,  2.23it/s]"
     ]
    },
    {
     "name": "stdout",
     "output_type": "stream",
     "text": [
      "{'entryType': 'UniProtKB reviewed (Swiss-Prot)', 'primaryAccession': 'O43175', 'proteinDescription': {'recommendedName': {'fullName': {'value': 'D-3-phosphoglycerate dehydrogenase'}, 'shortNames': [{'value': '3-PGDH'}], 'ecNumbers': [{'evidences': [{'evidenceCode': 'ECO:0000269', 'source': 'PubMed', 'id': '11751922'}], 'value': '1.1.1.95'}]}, 'alternativeNames': [{'fullName': {'evidences': [{'evidenceCode': 'ECO:0000305'}], 'value': '2-oxoglutarate reductase'}, 'ecNumbers': [{'evidences': [{'evidenceCode': 'ECO:0000269', 'source': 'PubMed', 'id': '25406093'}], 'value': '1.1.1.399'}]}, {'fullName': {'evidences': [{'evidenceCode': 'ECO:0000305'}], 'value': 'Malate dehydrogenase'}, 'ecNumbers': [{'evidences': [{'evidenceCode': 'ECO:0000269', 'source': 'PubMed', 'id': '25406093'}], 'value': '1.1.1.37'}]}]}, 'genes': [{'geneName': {'value': 'PHGDH'}, 'synonyms': [{'value': 'PGDH3'}]}], 'sequence': {'value': 'MAFANLRKVLISDSLDPCCRKILQDGGLQVVEKQNLSKEELIAELQDCEGLIVRSATKVTADVINAAEKLQVVGRAGTGVDNVDLEAATRKGILVMNTPNGNSLSAAELTCGMIMCLARQIPQATASMKDGKWERKKFMGTELNGKTLGILGLGRIGREVATRMQSFGMKTIGYDPIISPEVSASFGVQQLPLEEIWPLCDFITVHTPLLPSTTGLLNDNTFAQCKKGVRVVNCARGGIVDEGALLRALQSGQCAGAALDVFTEEPPRDRALVDHENVISCPHLGASTKEAQSRCGEEIAVQFVDMVKGKSLTGVVNAQALTSAFSPHTKPWIGLAEALGTLMRAWAGSPKGTIQVITQGTSLKNAGNCLSPAVIVGLLKEASKQADVNLVNAKLLVKEAGLNVTTSHSPAAPGEQGFGECLLAVALAGAPYQAVGLVQGTTPVLQGLNGAVFRPEVPLRRDLPLLLFRTQTSDPAMLPTMIGLLAEAGVRLLSYQTSLVSDGETWHVMGISSLLPSLEAWKQHVTEAFQFHF', 'length': 533, 'molWeight': 56651, 'crc64': 'C58EB72275C45B35', 'md5': '76E06F0382407475A724B89FD1EB77AF'}, 'extraAttributes': {'uniParcId': 'UPI000013586A'}}\n"
     ]
    },
    {
     "name": "stderr",
     "output_type": "stream",
     "text": [
      "Fetching sequences:  85%|████████▍ | 397/469 [03:03<00:32,  2.22it/s]"
     ]
    },
    {
     "name": "stdout",
     "output_type": "stream",
     "text": [
      "{'entryType': 'UniProtKB reviewed (Swiss-Prot)', 'primaryAccession': 'P13639', 'proteinDescription': {'recommendedName': {'fullName': {'value': 'Elongation factor 2'}, 'shortNames': [{'value': 'EF-2'}], 'ecNumbers': [{'evidences': [{'evidenceCode': 'ECO:0000305', 'source': 'PubMed', 'id': '26593721'}], 'value': '3.6.5.-'}]}}, 'genes': [{'geneName': {'value': 'EEF2'}, 'synonyms': [{'value': 'EF2'}]}], 'sequence': {'value': 'MVNFTVDQIRAIMDKKANIRNMSVIAHVDHGKSTLTDSLVCKAGIIASARAGETRFTDTRKDEQERCITIKSTAISLFYELSENDLNFIKQSKDGAGFLINLIDSPGHVDFSSEVTAALRVTDGALVVVDCVSGVCVQTETVLRQAIAERIKPVLMMNKMDRALLELQLEPEELYQTFQRIVENVNVIISTYGEGESGPMGNIMIDPVLGTVGFGSGLHGWAFTLKQFAEMYVAKFAAKGEGQLGPAERAKKVEDMMKKLWGDRYFDPANGKFSKSATSPEGKKLPRTFCQLILDPIFKVFDAIMNFKKEETAKLIEKLDIKLDSEDKDKEGKPLLKAVMRRWLPAGDALLQMITIHLPSPVTAQKYRCELLYEGPPDDEAAMGIKSCDPKGPLMMYISKMVPTSDKGRFYAFGRVFSGLVSTGLKVRIMGPNYTPGKKEDLYLKPIQRTILMMGRYVEPIEDVPCGNIVGLVGVDQFLVKTGTITTFEHAHNMRVMKFSVSPVVRVAVEAKNPADLPKLVEGLKRLAKSDPMVQCIIEESGEHIIAGAGELHLEICLKDLEEDHACIPIKKSDPVVSYRETVSEESNVLCLSKSPNKHNRLYMKARPFPDGLAEDIDKGEVSARQELKQRARYLAEKYEWDVAEARKIWCFGPDGTGPNILTDITKGVQYLNEIKDSVVAGFQWATKEGALCEENMRGVRFDVHDVTLHADAIHRGGGQIIPTARRCLYASVLTAQPRLMEPIYLVEIQCPEQVVGGIYGVLNRKRGHVFEESQVAGTPMFVVKAYLPVNESFGFTADLRSNTGGQAFPQCVFDHWQILPGDPFDNSSRPSQVVAETRKRKGLKEGIPALDNFLDKL', 'length': 858, 'molWeight': 95338, 'crc64': '78BD1710236C0D9C', 'md5': 'E4E239EC473AC3B71FE62A531E35A29B'}, 'extraAttributes': {'uniParcId': 'UPI00001649F3'}}\n"
     ]
    },
    {
     "name": "stderr",
     "output_type": "stream",
     "text": [
      "Fetching sequences:  85%|████████▍ | 398/469 [03:03<00:31,  2.24it/s]"
     ]
    },
    {
     "name": "stdout",
     "output_type": "stream",
     "text": [
      "{'entryType': 'UniProtKB reviewed (Swiss-Prot)', 'primaryAccession': 'Q06323', 'proteinDescription': {'recommendedName': {'fullName': {'value': 'Proteasome activator complex subunit 1'}}, 'alternativeNames': [{'fullName': {'value': '11S regulator complex subunit alpha'}, 'shortNames': [{'value': 'REG-alpha'}]}, {'fullName': {'value': 'Activator of multicatalytic protease subunit 1'}}, {'fullName': {'value': 'Interferon gamma up-regulated I-5111 protein'}, 'shortNames': [{'value': 'IGUP I-5111'}]}, {'fullName': {'value': 'Proteasome activator 28 subunit alpha'}, 'shortNames': [{'value': 'PA28a'}, {'value': 'PA28alpha'}]}]}, 'genes': [{'geneName': {'value': 'PSME1'}, 'synonyms': [{'value': 'IFI5111'}]}], 'sequence': {'value': 'MAMLRVQPEAQAKVDVFREDLCTKTENLLGSYFPKKISELDAFLKEPALNEANLSNLKAPLDIPVPDPVKEKEKEERKKQQEKEDKDEKKKGEDEDKGPPCGPVNCNEKIVVLLQRLKPEIKDVIEQLNLVTTWLQLQIPRIEDGNNFGVAVQEKVFELMTSLHTKLEGFHTQISKYFSERGDAVTKAAKQPHVGDYRQLVHELDEAEYRDIRLMVMEIRNAYAVLYDIILKNFEKLKKPRGETKGMIY', 'length': 249, 'molWeight': 28723, 'crc64': '5E27727E5A0B0AAB', 'md5': '07C1E37F696E7C140661A13083A1EAE4'}, 'extraAttributes': {'uniParcId': 'UPI0000132794'}}\n"
     ]
    },
    {
     "name": "stderr",
     "output_type": "stream",
     "text": [
      "Fetching sequences:  85%|████████▌ | 399/469 [03:04<00:30,  2.27it/s]"
     ]
    },
    {
     "name": "stdout",
     "output_type": "stream",
     "text": [
      "{'entryType': 'UniProtKB reviewed (Swiss-Prot)', 'primaryAccession': 'Q14498', 'proteinDescription': {'recommendedName': {'fullName': {'evidences': [{'evidenceCode': 'ECO:0000303', 'source': 'PubMed', 'id': '28302793'}], 'value': 'RNA-binding protein 39'}}, 'alternativeNames': [{'fullName': {'evidences': [{'evidenceCode': 'ECO:0000303', 'source': 'PubMed', 'id': '24795046'}, {'evidenceCode': 'ECO:0000303', 'source': 'PubMed', 'id': '28437394'}], 'value': 'CAPER alpha'}, 'shortNames': [{'evidences': [{'evidenceCode': 'ECO:0000303', 'source': 'PubMed', 'id': '24795046'}, {'evidenceCode': 'ECO:0000303', 'source': 'PubMed', 'id': '28437394'}], 'value': 'CAPERalpha'}]}, {'fullName': {'evidences': [{'evidenceCode': 'ECO:0000303', 'source': 'PubMed', 'id': '8227358'}], 'value': 'Hepatocellular carcinoma protein 1'}}, {'fullName': {'value': 'RNA-binding motif protein 39'}}, {'fullName': {'value': 'RNA-binding region-containing protein 2'}}, {'fullName': {'value': 'Splicing factor HCC1'}}]}, 'genes': [{'geneName': {'evidences': [{'evidenceCode': 'ECO:0000303', 'source': 'PubMed', 'id': '28302793'}, {'evidenceCode': 'ECO:0000312', 'source': 'HGNC', 'id': 'HGNC:15923'}], 'value': 'RBM39'}, 'synonyms': [{'evidences': [{'evidenceCode': 'ECO:0000303', 'source': 'PubMed', 'id': '8227358'}], 'value': 'HCC1'}, {'value': 'RNPC2'}]}], 'sequence': {'value': 'MADDIDIEAMLEAPYKKDENKLSSANGHEERSKKRKKSKSRSRSHERKRSKSKERKRSRDRERKKSKSRERKRSRSKERRRSRSRSRDRRFRGRYRSPYSGPKFNSAIRGKIGLPHSIKLSRRRSRSKSPFRKDKSPVREPIDNLTPEERDARTVFCMQLAARIRPRDLEEFFSTVGKVRDVRMISDRNSRRSKGIAYVEFVDVSSVPLAIGLTGQRVLGVPIIVQASQAEKNRAAAMANNLQKGSAGPMRLYVGSLHFNITEDMLRGIFEPFGRIESIQLMMDSETGRSKGYGFITFSDSECAKKALEQLNGFELAGRPMKVGHVTERTDASSASSFLDSDELERTGIDLGTTGRLQLMARLAEGTGLQIPPAAQQALQMSGSLAFGAVAEFSFVIDLQTRLSQQTEASALAAAASVQPLATQCFQLSNMFNPQTEEEVGWDTEIKDDVIEECNKHGGVIHIYVDKNSAQGNVYVKCPSIAAAIAAVNALHGRWFAGKMITAAYVPLPTYHNLFPDSMTATQLLVPSRR', 'length': 530, 'molWeight': 59380, 'crc64': '0CC610356D4AA040', 'md5': 'B17D9EC7E8785AFB23A38355C0D57BCC'}, 'extraAttributes': {'uniParcId': 'UPI0000134418'}}\n"
     ]
    },
    {
     "name": "stderr",
     "output_type": "stream",
     "text": [
      "Fetching sequences:  85%|████████▌ | 400/469 [03:04<00:30,  2.28it/s]"
     ]
    },
    {
     "name": "stdout",
     "output_type": "stream",
     "text": [
      "{'entryType': 'UniProtKB reviewed (Swiss-Prot)', 'primaryAccession': 'Q9P2J5', 'proteinDescription': {'recommendedName': {'fullName': {'evidences': [{'evidenceCode': 'ECO:0000305'}], 'value': 'Leucine--tRNA ligase, cytoplasmic'}, 'ecNumbers': [{'evidences': [{'evidenceCode': 'ECO:0000269', 'source': 'PubMed', 'id': '25051973'}], 'value': '6.1.1.4'}]}, 'alternativeNames': [{'fullName': {'evidences': [{'evidenceCode': 'ECO:0000303', 'source': 'PubMed', 'id': '25051973'}], 'value': 'Leucyl-tRNA synthetase'}, 'shortNames': [{'evidences': [{'evidenceCode': 'ECO:0000303', 'source': 'PubMed', 'id': '25051973'}], 'value': 'LeuRS'}, {'evidences': [{'evidenceCode': 'ECO:0000303', 'source': 'PubMed', 'id': '32232361'}], 'value': 'cLRS'}]}]}, 'genes': [{'geneName': {'evidences': [{'evidenceCode': 'ECO:0000312', 'source': 'HGNC', 'id': 'HGNC:6512'}], 'value': 'LARS1'}, 'synonyms': [{'value': 'KIAA1352'}, {'value': 'LARS'}]}], 'sequence': {'value': 'MAERKGTAKVDFLKKIEKEIQQKWDTERVFEVNASNLEKQTSKGKYFVTFPYPYMNGRLHLGHTFSLSKCEFAVGYQRLKGKCCLFPFGLHCTGMPIKACADKLKREIELYGCPPDFPDEEEEEEETSVKTEDIIIKDKAKGKKSKAAAKAGSSKYQWGIMKSLGLSDEEIVKFSEAEHWLDYFPPLAIQDLKRMGLKVDWRRSFITTDVNPYYDSFVRWQFLTLRERNKIKFGKRYTIYSPKDGQPCMDHDRQTGEGVGPQEYTLLKLKVLEPYPSKLSGLKGKNIFLVAATLRPETMFGQTNCWVRPDMKYIGFETVNGDIFICTQKAARNMSYQGFTKDNGVVPVVKELMGEEILGASLSAPLTSYKVIYVLPMLTIKEDKGTGVVTSVPSDSPDDIAALRDLKKKQALRAKYGIRDDMVLPFEPVPVIEIPGFGNLSAVTICDELKIQSQNDREKLAEAKEKIYLKGFYEGIMLVDGFKGQKVQDVKKTIQKKMIDAGDALIYMEPEKQVMSRSSDECVVALCDQWYLDYGEENWKKQTSQCLKNLETFCEETRRNFEATLGWLQEHACSRTYGLGTHLPWDEQWLIESLSDSTIYMAFYTVAHLLQGGNLHGQAESPLGIRPQQMTKEVWDYVFFKEAPFPKTQIAKEKLDQLKQEFEFWYPVDLRVSGKDLVPNHLSYYLYNHVAMWPEQSDKWPTAVRANGHLLLNSEKMSKSTGNFLTLTQAIDKFSADGMRLALADAGDTVEDANFVEAMADAGILRLYTWVEWVKEMVANWDSLRSGPASTFNDRVFASELNAGIIKTDQNYEKMMFKEALKTGFFEFQAAKDKYRELAVEGMHRELVFRFIEVQTLLLAPFCPHLCEHIWTLLGKPDSIMNASWPVAGPVNEVLIHSSQYLMEVTHDLRLRLKNYMMPAKGKKTDKQPLQKPSHCTIYVAKNYPPWQHTTLSVLRKHFEANNGKLPDNKVIASELGSMPELKKYMKKVMPFVAMIKENLEKMGPRILDLQLEFDEKAVLMENIVYLTNSLELEHIEVKFASEAEDKIREDCCPGKPLNVFRIEPGVSVSLVNPQPSNGHFSTKIEIRQGDNCDSIIRRLMKMNRGIKDLSKVKLMRFDDPLLGPRRVPVLGKEYTEKTPISEHAVFNVDLMSKKIHLTENGIRVDIGDTIIYLVH', 'length': 1176, 'molWeight': 134466, 'crc64': '44A4D1A1EF31634A', 'md5': '8844B80B76678A6D3CE0B8E6C1FEBD58'}, 'extraAttributes': {'uniParcId': 'UPI0000037316'}}\n"
     ]
    },
    {
     "name": "stderr",
     "output_type": "stream",
     "text": [
      "Fetching sequences:  86%|████████▌ | 401/469 [03:05<00:30,  2.26it/s]"
     ]
    },
    {
     "name": "stdout",
     "output_type": "stream",
     "text": [
      "{'entryType': 'UniProtKB reviewed (Swiss-Prot)', 'primaryAccession': 'P00558', 'proteinDescription': {'recommendedName': {'fullName': {'value': 'Phosphoglycerate kinase 1'}, 'ecNumbers': [{'evidences': [{'evidenceCode': 'ECO:0000269', 'source': 'PubMed', 'id': '26942675'}], 'value': '2.7.11.1'}, {'evidences': [{'evidenceCode': 'ECO:0000269', 'source': 'PubMed', 'id': '30323285'}], 'value': '2.7.2.3'}]}, 'alternativeNames': [{'fullName': {'value': 'Cell migration-inducing gene 10 protein'}}, {'fullName': {'value': 'Primer recognition protein 2'}, 'shortNames': [{'value': 'PRP 2'}]}]}, 'genes': [{'geneName': {'value': 'PGK1'}, 'synonyms': [{'value': 'PGKA'}], 'orfNames': [{'value': 'MIG10'}, {'value': 'OK/SW-cl.110'}]}], 'sequence': {'value': 'MSLSNKLTLDKLDVKGKRVVMRVDFNVPMKNNQITNNQRIKAAVPSIKFCLDNGAKSVVLMSHLGRPDGVPMPDKYSLEPVAVELKSLLGKDVLFLKDCVGPEVEKACANPAAGSVILLENLRFHVEEEGKGKDASGNKVKAEPAKIEAFRASLSKLGDVYVNDAFGTAHRAHSSMVGVNLPQKAGGFLMKKELNYFAKALESPERPFLAILGGAKVADKIQLINNMLDKVNEMIIGGGMAFTFLKVLNNMEIGTSLFDEEGAKIVKDLMSKAEKNGVKITLPVDFVTADKFDENAKTGQATVASGIPAGWMGLDCGPESSKKYAEAVTRAKQIVWNGPVGVFEWEAFARGTKALMDEVVKATSRGCITIIGGGDTATCCAKWNTEDKVSHVSTGGGASLELLEGKVLPGVDALSNI', 'length': 417, 'molWeight': 44615, 'crc64': 'B5DFC7B5FA01767C', 'md5': '7E9C0B3C11306A3463E3BE6EBB98602D'}, 'extraAttributes': {'uniParcId': 'UPI00000727EE'}}\n"
     ]
    },
    {
     "name": "stderr",
     "output_type": "stream",
     "text": [
      "Fetching sequences:  86%|████████▌ | 402/469 [03:05<00:29,  2.25it/s]"
     ]
    },
    {
     "name": "stdout",
     "output_type": "stream",
     "text": [
      "{'entryType': 'UniProtKB reviewed (Swiss-Prot)', 'primaryAccession': 'Q03188', 'proteinDescription': {'recommendedName': {'fullName': {'value': 'Centromere protein C'}, 'shortNames': [{'value': 'CENP-C'}]}, 'alternativeNames': [{'fullName': {'value': 'Centromere autoantigen C'}}, {'fullName': {'value': 'Centromere protein C 1'}, 'shortNames': [{'value': 'CENP-C 1'}]}, {'fullName': {'value': 'Interphase centromere complex protein 7'}}]}, 'genes': [{'geneName': {'value': 'CENPC'}, 'synonyms': [{'value': 'CENPC1'}, {'value': 'ICEN7'}]}], 'sequence': {'value': 'MAASGLDHLKNGYRRRFCRPSRARDINTEQGQNVLEILQDCFEEKSLANDFSTNSTKSVPNSTRKIKDTCIQSPSKECQKSHPKSVPVSSKKKEASLQFVVEPSEATNRSVQAHEVHQKILATDVSSKNTPDSKKISSRNINDHHSEADEEFYLSVGSPSVLLDAKTSVSQNVIPSSAQKRETYTFENSVNMLPSSTEVSVKTKKRLNFDDKVMLKKIEIDNKVSDEEDKTSEGQERKPSGSSQNRIRDSEYEIQRQAKKSFSTLFLETVKRKSESSPIVRHAATAPPHSCPPDDTKLIEDEFIIDESDQSFASRSWITIPRKAGSLKQRTISPAESTALLQGRKSREKHHNILPKTLANDKHSHKPHPVETSQPSDKTVLDTSYALIGETVNNYRSTKYEMYSKNAEKPSRSKRTIKQKQRRKFMAKPAEEQLDVGQSKDENIHTSHITQDEFQRNSDRNMEEHEEMGNDCVSKKQMPPVGSKKSSTRKDKEESKKKRFSSESKNKLVPEEVTSTVTKSRRISRRPSDWWVVKSEESPVYSNSSVRNELPMHHNSSRKSTKKTNQSSKNIRKKTIPLKRQKTATKGNQRVQKFLNAEGSGGIVGHDEISRCSLSEPLESDEADLAKKKNLDCSRSTRSSKNEDNIMTAQNVPLKPQTSGYTCNIPTESNLDSGEHKTSVLEESGPSRLNNNYLMSGKNDVDDEEVHGSSDDSKQSKVIPKNRIHHKLVLPSNTPNVRRTKRTRLKPLEYWRGERIDYQGRPSGGFVISGVLSPDTISSKRKAKENIGKVNKKSNKKRICLDNDERKTNLMVNLGIPLGDPLQPTRVKDPETREIILMDLVRPQDTYQFFVKHGELKVYKTLDTPFFSTGKLILGPQEEKGKQHVGQDILVFYVNFGDLLCTLHETPYILSTGDSFYVPSGNYYNIKNLRNEESVLLFTQIKR', 'length': 943, 'molWeight': 106834, 'crc64': '2AA5AF82BA88C809', 'md5': 'D2180CC765D13ACA2D2D2D4F407A40DD'}, 'extraAttributes': {'uniParcId': 'UPI00004135A3'}}\n"
     ]
    },
    {
     "name": "stderr",
     "output_type": "stream",
     "text": [
      "Fetching sequences:  86%|████████▌ | 403/469 [03:05<00:29,  2.25it/s]"
     ]
    },
    {
     "name": "stdout",
     "output_type": "stream",
     "text": [
      "{'entryType': 'UniProtKB reviewed (Swiss-Prot)', 'primaryAccession': 'Q01130', 'proteinDescription': {'recommendedName': {'fullName': {'value': 'Serine/arginine-rich splicing factor 2'}}, 'alternativeNames': [{'fullName': {'value': 'Protein PR264'}}, {'fullName': {'value': 'Splicing component, 35 kDa'}}, {'fullName': {'value': 'Splicing factor SC35'}, 'shortNames': [{'value': 'SC-35'}]}, {'fullName': {'value': 'Splicing factor, arginine/serine-rich 2'}}]}, 'genes': [{'geneName': {'value': 'SRSF2'}, 'synonyms': [{'value': 'SFRS2'}]}], 'sequence': {'value': 'MSYGRPPPDVEGMTSLKVDNLTYRTSPDTLRRVFEKYGRVGDVYIPRDRYTKESRGFAFVRFHDKRDAEDAMDAMDGAVLDGRELRVQMARYGRPPDSHHSRRGPPPRRYGGGGYGRRSRSPRRRRRSRSRSRSRSRSRSRSRYSRSKSRSRTRSRSRSTSKSRSARRSKSKSSSVSRSRSRSRSRSRSRSPPPVSKRESKSRSRSKSPPKSPEEEGAVSS', 'length': 221, 'molWeight': 25476, 'crc64': '68121AC4D35714FA', 'md5': '9FC75A5CC5D2AAF88AB4EFF22C8847EF'}, 'extraAttributes': {'uniParcId': 'UPI0000000C2A'}}\n"
     ]
    },
    {
     "name": "stderr",
     "output_type": "stream",
     "text": [
      "Fetching sequences:  86%|████████▌ | 404/469 [03:06<00:28,  2.25it/s]"
     ]
    },
    {
     "name": "stdout",
     "output_type": "stream",
     "text": [
      "{'entryType': 'UniProtKB reviewed (Swiss-Prot)', 'primaryAccession': 'O43159', 'proteinDescription': {'recommendedName': {'fullName': {'value': 'Ribosomal RNA-processing protein 8'}, 'ecNumbers': [{'value': '2.1.1.-'}]}, 'alternativeNames': [{'fullName': {'value': 'Cerebral protein 1'}}, {'fullName': {'value': 'Nucleomethylin'}}]}, 'genes': [{'geneName': {'value': 'RRP8'}, 'synonyms': [{'value': 'KIAA0409'}, {'value': 'NML'}], 'orfNames': [{'value': 'hucep-1'}]}], 'sequence': {'value': 'MFEEPEWAEAAPVAAGLGPVISRPPPAASSQNKGSKRRQLLATLRALEAASLSQHPPSLCISDSEEEEEERKKKCPKKASFASASAEVGKKGKKKCQKQGPPCSDSEEEVERKKKCHKQALVGSDSAEDEKRKRKCQKHAPINSAQHLDNVDQTGPKAWKGSTTNDPPKQSPGSTSPKPPHTLSRKQWRNRQKNKRRCKNKFQPPQVPDQAPAEAPTEKTEVSPVPRTDSHEARAGALRARMAQRLDGARFRYLNEQLYSGPSSAAQRLFQEDPEAFLLYHRGFQSQVKKWPLQPVDRIARDLRQRPASLVVADFGCGDCRLASSIRNPVHCFDLASLDPRVTVCDMAQVPLEDESVDVAVFCLSLMGTNIRDFLEEANRVLKPGGLLKVAEVSSRFEDVRTFLRAVTKLGFKIVSKDLTNSHFFLFDFQKTGPPLVGPKAQLSGLQLQPCLYKRR', 'length': 456, 'molWeight': 50715, 'crc64': '49251E2A488DA1C4', 'md5': '6C87D957417A58AF0838CC7BD4D10EB6'}, 'extraAttributes': {'uniParcId': 'UPI00001580F8'}}\n"
     ]
    },
    {
     "name": "stderr",
     "output_type": "stream",
     "text": [
      "Fetching sequences:  86%|████████▋ | 405/469 [03:06<00:29,  2.18it/s]"
     ]
    },
    {
     "name": "stdout",
     "output_type": "stream",
     "text": [
      "{'entryType': 'UniProtKB reviewed (Swiss-Prot)', 'primaryAccession': 'Q71DI3', 'proteinDescription': {'recommendedName': {'fullName': {'value': 'Histone H3.2'}}, 'alternativeNames': [{'fullName': {'evidences': [{'evidenceCode': 'ECO:0000312', 'source': 'HGNC', 'id': 'HGNC:25311'}], 'value': 'H3-clustered histone 13'}}, {'fullName': {'evidences': [{'evidenceCode': 'ECO:0000312', 'source': 'HGNC', 'id': 'HGNC:20503'}], 'value': 'H3-clustered histone 14'}}, {'fullName': {'evidences': [{'evidenceCode': 'ECO:0000312', 'source': 'HGNC', 'id': 'HGNC:20505'}], 'value': 'H3-clustered histone 15'}}, {'fullName': {'value': 'Histone H3/m'}}, {'fullName': {'value': 'Histone H3/o'}}]}, 'genes': [{'geneName': {'evidences': [{'evidenceCode': 'ECO:0000312', 'source': 'HGNC', 'id': 'HGNC:20505'}], 'value': 'H3C15'}, 'synonyms': [{'evidences': [{'evidenceCode': 'ECO:0000312', 'source': 'HGNC', 'id': 'HGNC:20505'}], 'value': 'HIST2H3A'}]}, {'geneName': {'evidences': [{'evidenceCode': 'ECO:0000312', 'source': 'HGNC', 'id': 'HGNC:20503'}], 'value': 'H3C14'}, 'synonyms': [{'value': 'H3F2'}, {'value': 'H3FM'}, {'evidences': [{'evidenceCode': 'ECO:0000312', 'source': 'HGNC', 'id': 'HGNC:20503'}], 'value': 'HIST2H3C'}]}, {'geneName': {'evidences': [{'evidenceCode': 'ECO:0000312', 'source': 'HGNC', 'id': 'HGNC:25311'}], 'value': 'H3C13'}, 'synonyms': [{'evidences': [{'evidenceCode': 'ECO:0000312', 'source': 'HGNC', 'id': 'HGNC:25311'}], 'value': 'HIST2H3D'}]}], 'sequence': {'value': 'MARTKQTARKSTGGKAPRKQLATKAARKSAPATGGVKKPHRYRPGTVALREIRRYQKSTELLIRKLPFQRLVREIAQDFKTDLRFQSSAVMALQEASEAYLVGLFEDTNLCAIHAKRVTIMPKDIQLARRIRGERA', 'length': 136, 'molWeight': 15388, 'crc64': '6FD8508EA50A0EEC', 'md5': '420DFCE8D910D2EB7AA5C8D92BDAE351'}, 'extraAttributes': {'uniParcId': 'UPI0000000586'}}\n"
     ]
    },
    {
     "name": "stderr",
     "output_type": "stream",
     "text": [
      "Fetching sequences:  87%|████████▋ | 406/469 [03:07<00:28,  2.20it/s]"
     ]
    },
    {
     "name": "stdout",
     "output_type": "stream",
     "text": [
      "{'entryType': 'UniProtKB reviewed (Swiss-Prot)', 'primaryAccession': 'P17987', 'proteinDescription': {'recommendedName': {'fullName': {'value': 'T-complex protein 1 subunit alpha'}, 'shortNames': [{'value': 'TCP-1-alpha'}]}, 'alternativeNames': [{'fullName': {'value': 'CCT-alpha'}}, {'fullName': {'value': 'Chaperonin containing T-complex polypeptide 1 subunit 1'}}]}, 'genes': [{'geneName': {'value': 'TCP1'}, 'synonyms': [{'value': 'CCT1'}, {'value': 'CCTA'}]}], 'sequence': {'value': 'MEGPLSVFGDRSTGETIRSQNVMAAASIANIVKSSLGPVGLDKMLVDDIGDVTITNDGATILKLLEVEHPAAKVLCELADLQDKEVGDGTTSVVIIAAELLKNADELVKQKIHPTSVISGYRLACKEAVRYINENLIVNTDELGRDCLINAAKTSMSSKIIGINGDFFANMVVDAVLAIKYTDIRGQPRYPVNSVNILKAHGRSQMESMLISGYALNCVVGSQGMPKRIVNAKIACLDFSLQKTKMKLGVQVVITDPEKLDQIRQRESDITKERIQKILATGANVILTTGGIDDMCLKYFVEAGAMAVRRVLKRDLKRIAKASGATILSTLANLEGEETFEAAMLGQAEEVVQERICDDELILIKNTKARTSASIILRGANDFMCDEMERSLHDALCVVKRVLESKSVVPGGGAVEAALSIYLENYATSMGSREQLAIAEFARSLLVIPNTLAVNAAQDSTDLVAKLRAFHNEAQVNPERKNLKWIGLDLSNGKPRDNKQAGVFEPTIVKVKSLKFATEAAITILRIDDLIKLHPESKDDKHGSYEDAVHSGALND', 'length': 556, 'molWeight': 60344, 'crc64': '486ECA836EA258A1', 'md5': 'DB396B7DF1335B47AF06B221D22BC1D8'}, 'extraAttributes': {'uniParcId': 'UPI0000136AEA'}}\n"
     ]
    },
    {
     "name": "stderr",
     "output_type": "stream",
     "text": [
      "Fetching sequences:  87%|████████▋ | 407/469 [03:07<00:27,  2.22it/s]"
     ]
    },
    {
     "name": "stdout",
     "output_type": "stream",
     "text": [
      "{'entryType': 'UniProtKB reviewed (Swiss-Prot)', 'primaryAccession': 'P63241', 'proteinDescription': {'recommendedName': {'fullName': {'evidences': [{'evidenceCode': 'ECO:0000305'}], 'value': 'Eukaryotic translation initiation factor 5A-1'}, 'shortNames': [{'value': 'eIF-5A-1'}, {'value': 'eIF-5A1'}]}, 'alternativeNames': [{'fullName': {'value': 'Eukaryotic initiation factor 5A isoform 1'}, 'shortNames': [{'value': 'eIF-5A'}]}, {'fullName': {'value': 'Rev-binding factor'}}, {'fullName': {'value': 'eIF-4D'}}]}, 'genes': [{'geneName': {'evidences': [{'evidenceCode': 'ECO:0000312', 'source': 'HGNC', 'id': 'HGNC:3300'}], 'value': 'EIF5A'}}], 'sequence': {'value': 'MADDLDFETGDAGASATFPMQCSALRKNGFVVLKGRPCKIVEMSTSKTGKHGHAKVHLVGIDIFTGKKYEDICPSTHNMDVPNIKRNDFQLIGIQDGYLSLLQDSGEVREDLRLPEGDLGKEIEQKYDCGEEILITVLSAMTEEAAVAIKAMAK', 'length': 154, 'molWeight': 16832, 'crc64': '07EF043C7DEA3091', 'md5': '320FD0672CF4DF16CC00BF6892D8D279'}, 'extraAttributes': {'uniParcId': 'UPI0000006BEE'}}\n"
     ]
    },
    {
     "name": "stderr",
     "output_type": "stream",
     "text": [
      "Fetching sequences:  87%|████████▋ | 408/469 [03:08<00:27,  2.24it/s]"
     ]
    },
    {
     "name": "stdout",
     "output_type": "stream",
     "text": [
      "{'entryType': 'UniProtKB reviewed (Swiss-Prot)', 'primaryAccession': 'O60841', 'proteinDescription': {'recommendedName': {'fullName': {'value': 'Eukaryotic translation initiation factor 5B'}, 'shortNames': [{'value': 'eIF-5B'}], 'ecNumbers': [{'value': '3.6.5.3'}]}, 'alternativeNames': [{'fullName': {'value': 'Translation initiation factor IF-2'}}]}, 'genes': [{'geneName': {'value': 'EIF5B'}, 'synonyms': [{'value': 'IF2'}, {'value': 'KIAA0741'}]}], 'sequence': {'value': 'MGKKQKNKSEDSTKDDIDLDALAAEIEGAGAAKEQEPQKSKGKKKKEKKKQDFDEDDILKELEELSLEAQGIKADRETVAVKPTENNEEEFTSKDKKKKGQKGKKQSFDDNDSEELEDKDSKSKKTAKPKVEMYSGSDDDDDFNKLPKKAKGKAQKSNKKWDGSEEDEDNSKKIKERSRINSSGESGDESDEFLQSRKGQKKNQKNKPGPNIESGNEDDDASFKIKTVAQKKAEKKERERKKRDEEKAKLRKLKEKEELETGKKDQSKQKESQRKFEEETVKSKVTVDTGVIPASEEKAETPTAAEDDNEGDKKKKDKKKKKGEKEEKEKEKKKGPSKATVKAMQEALAKLKEEEERQKREEEERIKRLEELEAKRKEEERLEQEKRERKKQKEKERKERLKKEGKLLTKSQREARARAEATLKLLQAQGVEVPSKDSLPKKRPIYEDKKRKKIPQQLESKEVSESMELCAAVEVMEQGVPEKEETPPPVEPEEEEDTEDAGLDDWEAMASDEETEKVEGNKVHIEVKENPEEEEEEEEEEEEDEESEEEEEEEGESEGSEGDEEDEKVSDEKDSGKTLDKKPSKEMSSDSEYDSDDDRTKEERAYDKAKRRIEKRRLEHSKNVNTEKLRAPIICVLGHVDTGKTKILDKLRHTHVQDGEAGGITQQIGATNVPLEAINEQTKMIKNFDRENVRIPGMLIIDTPGHESFSNLRNRGSSLCDIAILVVDIMHGLEPQTIESINLLKSKKCPFIVALNKIDRLYDWKKSPDSDVAATLKKQKKNTKDEFEERAKAIIVEFAQQGLNAALFYENKDPRTFVSLVPTSAHTGDGMGSLIYLLVELTQTMLSKRLAHCEELRAQVMEVKALPGMGTTIDVILINGRLKEGDTIIVPGVEGPIVTQIRGLLLPPPMKELRVKNQYEKHKEVEAAQGVKILGKDLEKTLAGLPLLVAYKEDEIPVLKDELIHELKQTLNAIKLEEKGVYVQASTLGSLEALLEFLKTSEVPYAGINIGPVHKKDVMKASVMLEHDPQYAVILAFDVRIERDAQEMADSLGVRIFSAEIIYHLFDAFTKYRQDYKKQKQEEFKHIAVFPCKIKILPQYIFNSRDPIVMGVTVEAGQVKQGTPMCVPSKNFVDIGIVTSIEINHKQVDVAKKGQEVCVKIEPIPGESPKMFGRHFEATDILVSKISRQSIDALKDWFRDEMQKSDWQLIVELKKVFEII', 'length': 1220, 'molWeight': 138827, 'crc64': '454C29FB90AA768E', 'md5': 'D49431EEB322D270FBACAF1B59A1CEA5'}, 'extraAttributes': {'uniParcId': 'UPI0000207EC7'}}\n"
     ]
    },
    {
     "name": "stderr",
     "output_type": "stream",
     "text": [
      "Fetching sequences:  87%|████████▋ | 409/469 [03:08<00:26,  2.24it/s]"
     ]
    },
    {
     "name": "stdout",
     "output_type": "stream",
     "text": [
      "{'entryType': 'UniProtKB reviewed (Swiss-Prot)', 'primaryAccession': 'P60891', 'proteinDescription': {'recommendedName': {'fullName': {'evidences': [{'evidenceCode': 'ECO:0000305'}], 'value': 'Ribose-phosphate pyrophosphokinase 1'}, 'ecNumbers': [{'evidences': [{'evidenceCode': 'ECO:0000269', 'source': 'PubMed', 'id': '16939420'}, {'evidenceCode': 'ECO:0000269', 'source': 'PubMed', 'id': '17701900'}, {'evidenceCode': 'ECO:0000269', 'source': 'PubMed', 'id': '7593598'}], 'value': '2.7.6.1'}]}, 'alternativeNames': [{'fullName': {'value': 'PPRibP'}}, {'fullName': {'value': 'Phosphoribosyl pyrophosphate synthase I'}, 'shortNames': [{'value': 'PRS-I'}]}]}, 'genes': [{'geneName': {'evidences': [{'evidenceCode': 'ECO:0000312', 'source': 'HGNC', 'id': 'HGNC:9462'}], 'value': 'PRPS1'}}], 'sequence': {'value': 'MPNIKIFSGSSHQDLSQKIADRLGLELGKVVTKKFSNQETCVEIGESVRGEDVYIVQSGCGEINDNLMELLIMINACKIASASRVTAVIPCFPYARQDKKDKSRAPISAKLVANMLSVAGADHIITMDLHASQIQGFFDIPVDNLYAEPAVLKWIRENISEWRNCTIVSPDAGGAKRVTSIADRLNVDFALIHKERKKANEVDRMVLVGDVKDRVAILVDDMADTCGTICHAADKLLSAGATRVYAILTHGIFSGPAISRINNACFEAVVVTNTIPQEDKMKHCSKIQVIDISMILAEAIRRTHNGESVSYLFSHVPL', 'length': 318, 'molWeight': 34834, 'crc64': '46D017E969908BA0', 'md5': '9A253203F2900E4E03845C669FF11E17'}, 'extraAttributes': {'uniParcId': 'UPI00000000A5'}}\n"
     ]
    },
    {
     "name": "stderr",
     "output_type": "stream",
     "text": [
      "Fetching sequences:  87%|████████▋ | 410/469 [03:09<00:25,  2.27it/s]"
     ]
    },
    {
     "name": "stdout",
     "output_type": "stream",
     "text": [
      "{'entryType': 'UniProtKB reviewed (Swiss-Prot)', 'primaryAccession': 'P31146', 'proteinDescription': {'recommendedName': {'fullName': {'value': 'Coronin-1A'}}, 'alternativeNames': [{'fullName': {'value': 'Coronin-like protein A'}, 'shortNames': [{'value': 'Clipin-A'}]}, {'fullName': {'value': 'Coronin-like protein p57'}}, {'fullName': {'value': 'Tryptophan aspartate-containing coat protein'}, 'shortNames': [{'value': 'TACO'}]}]}, 'genes': [{'geneName': {'value': 'CORO1A'}, 'synonyms': [{'value': 'CORO1'}]}], 'sequence': {'value': 'MSRQVVRSSKFRHVFGQPAKADQCYEDVRVSQTTWDSGFCAVNPKFVALICEASGGGAFLVLPLGKTGRVDKNAPTVCGHTAPVLDIAWCPHNDNVIASGSEDCTVMVWEIPDGGLMLPLREPVVTLEGHTKRVGIVAWHTTAQNVLLSAGCDNVIMVWDVGTGAAMLTLGPEVHPDTIYSVDWSRDGGLICTSCRDKRVRIIEPRKGTVVAEKDRPHEGTRPVRAVFVSEGKILTTGFSRMSERQVALWDTKHLEEPLSLQELDTSSGVLLPFFDPDTNIVYLCGKGDSSIRYFEITSEAPFLHYLSMFSSKESQRGMGYMPKRGLEVNKCEIARFYKLHERRCEPIAMTVPRKSDLFQEDLYPPTAGPDPALTAEEWLGGRDAGPLLISLKDGYVPPKSRELRVNRGLDTGRRRAAPEASGTPSSDAVSRLEEEMRKLQATVQELQKRLDRLEETVQAK', 'length': 461, 'molWeight': 51026, 'crc64': 'DE3FEDA57041515E', 'md5': '2C04874AA444FFE7E0E108263977D4DD'}, 'extraAttributes': {'uniParcId': 'UPI00000413AE'}}\n"
     ]
    },
    {
     "name": "stderr",
     "output_type": "stream",
     "text": [
      "Fetching sequences:  88%|████████▊ | 411/469 [03:09<00:26,  2.18it/s]"
     ]
    },
    {
     "name": "stdout",
     "output_type": "stream",
     "text": [
      "{'entryType': 'UniProtKB reviewed (Swiss-Prot)', 'primaryAccession': 'P14618', 'proteinDescription': {'recommendedName': {'fullName': {'value': 'Pyruvate kinase PKM'}, 'ecNumbers': [{'evidences': [{'evidenceCode': 'ECO:0000269', 'source': 'PubMed', 'id': '15996096'}, {'evidenceCode': 'ECO:0000269', 'source': 'PubMed', 'id': '1854723'}, {'evidenceCode': 'ECO:0000269', 'source': 'PubMed', 'id': '20847263'}], 'value': '2.7.1.40'}]}, 'alternativeNames': [{'fullName': {'evidences': [{'evidenceCode': 'ECO:0000303', 'source': 'PubMed', 'id': '2813362'}], 'value': 'Cytosolic thyroid hormone-binding protein'}, 'shortNames': [{'evidences': [{'evidenceCode': 'ECO:0000303', 'source': 'PubMed', 'id': '2813362'}], 'value': 'CTHBP'}]}, {'fullName': {'evidences': [{'evidenceCode': 'ECO:0000303', 'source': 'PubMed', 'id': '9466265'}], 'value': 'Opa-interacting protein 3'}, 'shortNames': [{'evidences': [{'evidenceCode': 'ECO:0000303', 'source': 'PubMed', 'id': '9466265'}], 'value': 'OIP-3'}]}, {'fullName': {'value': 'Pyruvate kinase 2/3'}}, {'fullName': {'value': 'Pyruvate kinase muscle isozyme'}}, {'fullName': {'evidences': [{'evidenceCode': 'ECO:0000305'}], 'value': 'Threonine-protein kinase PKM2'}, 'ecNumbers': [{'evidences': [{'evidenceCode': 'ECO:0000269', 'source': 'PubMed', 'id': '22901803'}, {'evidenceCode': 'ECO:0000269', 'source': 'PubMed', 'id': '24120661'}], 'value': '2.7.11.1'}]}, {'fullName': {'value': 'Thyroid hormone-binding protein 1'}, 'shortNames': [{'value': 'THBP1'}]}, {'fullName': {'value': 'Tumor M2-PK'}}, {'fullName': {'evidences': [{'evidenceCode': 'ECO:0000305'}], 'value': 'Tyrosine-protein kinase PKM2'}, 'ecNumbers': [{'evidences': [{'evidenceCode': 'ECO:0000269', 'source': 'PubMed', 'id': '22306293'}, {'evidenceCode': 'ECO:0000269', 'source': 'PubMed', 'id': '24120661'}], 'value': '2.7.10.2'}]}, {'fullName': {'value': 'p58'}}]}, 'genes': [{'geneName': {'value': 'PKM'}, 'synonyms': [{'evidences': [{'evidenceCode': 'ECO:0000303', 'source': 'PubMed', 'id': '9466265'}], 'value': 'OIP3'}, {'value': 'PK2'}, {'value': 'PK3'}, {'value': 'PKM2'}]}], 'sequence': {'value': 'MSKPHSEAGTAFIQTQQLHAAMADTFLEHMCRLDIDSPPITARNTGIICTIGPASRSVETLKEMIKSGMNVARLNFSHGTHEYHAETIKNVRTATESFASDPILYRPVAVALDTKGPEIRTGLIKGSGTAEVELKKGATLKITLDNAYMEKCDENILWLDYKNICKVVEVGSKIYVDDGLISLQVKQKGADFLVTEVENGGSLGSKKGVNLPGAAVDLPAVSEKDIQDLKFGVEQDVDMVFASFIRKASDVHEVRKVLGEKGKNIKIISKIENHEGVRRFDEILEASDGIMVARGDLGIEIPAEKVFLAQKMMIGRCNRAGKPVICATQMLESMIKKPRPTRAEGSDVANAVLDGADCIMLSGETAKGDYPLEAVRMQHLIAREAEAAIYHLQLFEELRRLAPITSDPTEATAVGAVEASFKCCSGAIIVLTKSGRSAHQVARYRPRAPIIAVTRNPQTARQAHLYRGIFPVLCKDPVQEAWAEDVDLRVNFAMNVGKARGFFKKGDVVIVLTGWRPGSGFTNTMRVVPVP', 'length': 531, 'molWeight': 57937, 'crc64': 'AA94D7818ED6BBAD', 'md5': 'B9F341DB7EDC1C70C1439F8176EA2889'}, 'extraAttributes': {'uniParcId': 'UPI0000169DBC'}}\n"
     ]
    },
    {
     "name": "stderr",
     "output_type": "stream",
     "text": [
      "Fetching sequences:  88%|████████▊ | 412/469 [03:10<00:25,  2.21it/s]"
     ]
    },
    {
     "name": "stdout",
     "output_type": "stream",
     "text": [
      "{'entryType': 'UniProtKB reviewed (Swiss-Prot)', 'primaryAccession': 'Q9Y3F4', 'proteinDescription': {'recommendedName': {'fullName': {'value': 'Serine-threonine kinase receptor-associated protein'}}, 'alternativeNames': [{'fullName': {'value': 'MAP activator with WD repeats'}}, {'fullName': {'value': 'UNR-interacting protein'}}, {'fullName': {'value': 'WD-40 repeat protein PT-WD'}}]}, 'genes': [{'geneName': {'value': 'STRAP'}, 'synonyms': [{'value': 'MAWD'}, {'value': 'UNRIP'}]}], 'sequence': {'value': 'MAMRQTPLTCSGHTRPVVDLAFSGITPYGYFLISACKDGKPMLRQGDTGDWIGTFLGHKGAVWGATLNKDATKAATAAADFTAKVWDAVSGDELMTLAHKHIVKTVDFTQDSNYLLTGGQDKLLRIYDLNKPEAEPKEISGHTSGIKKALWCSEDKQILSADDKTVRLWDHATMTEVKSLNFNMSVSSMEYIPEGEILVITYGRSIAFHSAVSLDPIKSFEAPATINSASLHPEKEFLVAGGEDFKLYKYDYNSGEELESYKGHFGPIHCVRFSPDGELYASGSEDGTLRLWQTVVGKTYGLWKCVLPEEDSGELAKPKIGFPETTEEELEEIASENSDCIFPSAPDVKA', 'length': 350, 'molWeight': 38438, 'crc64': 'CFCB34D3946290E2', 'md5': 'A90C2981BBFDB2A524499974620E3A20'}, 'extraAttributes': {'uniParcId': 'UPI0000137C97'}}\n"
     ]
    },
    {
     "name": "stderr",
     "output_type": "stream",
     "text": [
      "Fetching sequences:  88%|████████▊ | 413/469 [03:10<00:25,  2.22it/s]"
     ]
    },
    {
     "name": "stdout",
     "output_type": "stream",
     "text": [
      "{'entryType': 'UniProtKB reviewed (Swiss-Prot)', 'primaryAccession': 'Q9NPE3', 'proteinDescription': {'recommendedName': {'fullName': {'value': 'H/ACA ribonucleoprotein complex subunit 3'}}, 'alternativeNames': [{'fullName': {'value': 'Nucleolar protein 10'}}, {'fullName': {'value': 'Nucleolar protein family A member 3'}}, {'fullName': {'value': 'snoRNP protein NOP10'}}]}, 'genes': [{'geneName': {'value': 'NOP10'}, 'synonyms': [{'value': 'NOLA3'}]}], 'sequence': {'value': 'MFLQYYLNEQGDRVYTLKKFDPMGQQTCSAHPARFSPDDKYSRHRITIKKRFKVLMTQQPRPVL', 'length': 64, 'molWeight': 7706, 'crc64': '62E9BCFFB27036FA', 'md5': '9BC913D3EAB70C69CEDBF7B46DCEA674'}, 'extraAttributes': {'uniParcId': 'UPI0000022AEE'}}\n"
     ]
    },
    {
     "name": "stderr",
     "output_type": "stream",
     "text": [
      "Fetching sequences:  88%|████████▊ | 414/469 [03:10<00:24,  2.24it/s]"
     ]
    },
    {
     "name": "stdout",
     "output_type": "stream",
     "text": [
      "{'entryType': 'UniProtKB reviewed (Swiss-Prot)', 'primaryAccession': 'Q8NDF8', 'proteinDescription': {'recommendedName': {'fullName': {'evidences': [{'evidenceCode': 'ECO:0000305'}], 'value': 'Terminal nucleotidyltransferase 4B'}}, 'alternativeNames': [{'fullName': {'evidences': [{'evidenceCode': 'ECO:0000305'}], 'value': 'Non-canonical poly(A) RNA polymerase PAPD5'}, 'ecNumbers': [{'evidences': [{'evidenceCode': 'ECO:0000269', 'source': 'PubMed', 'id': '21788334'}], 'value': '2.7.7.19'}]}, {'fullName': {'value': 'PAP-associated domain-containing protein 5'}}, {'fullName': {'evidences': [{'evidenceCode': 'ECO:0000305'}], 'value': 'Terminal guanylyltransferase'}, 'ecNumbers': [{'evidences': [{'evidenceCode': 'ECO:0000269', 'source': 'PubMed', 'id': '30026317'}], 'value': '2.7.7.-'}]}, {'fullName': {'value': 'Terminal uridylyltransferase 3'}, 'shortNames': [{'value': 'TUTase 3'}]}, {'fullName': {'value': 'Topoisomerase-related function protein 4-2'}, 'shortNames': [{'evidences': [{'evidenceCode': 'ECO:0000303', 'source': 'PubMed', 'id': '21788334'}], 'value': 'TRF4-2'}]}]}, 'genes': [{'geneName': {'evidences': [{'evidenceCode': 'ECO:0000312', 'source': 'HGNC', 'id': 'HGNC:30758'}], 'value': 'TENT4B'}, 'synonyms': [{'evidences': [{'evidenceCode': 'ECO:0000303', 'source': 'PubMed', 'id': '28383716'}], 'value': 'GLD4'}, {'evidences': [{'evidenceCode': 'ECO:0000312', 'source': 'HGNC', 'id': 'HGNC:30758'}], 'value': 'PAPD5'}, {'evidences': [{'evidenceCode': 'ECO:0000303', 'source': 'PubMed', 'id': '21788334'}], 'value': 'TRF4-2'}, {'value': 'TUT3'}]}], 'sequence': {'value': 'MYRSGERLLGSHALPAEQRDFLPLETTNNNNNHHQPGAWARRAGSSASSPPSASSSPHPSAAVPAADPADSASGSSNKRKRDNKASGGRAAGGGRADGGGVVYSGTPWKRRNYNQGVVGLHEEISDFYEYMSPRPEEEKMRMEVVNRIESVIKELWPSADVQIFGSFKTGLYLPTSDIDLVVFGKWENLPLWTLEEALRKHKVADEDSVKVLDKATVPIIKLTDSFTEVKVDISFNVQNGVRAADLIKDFTKKYPVLPYLVLVLKQFLLQRDLNEVFTGGIGSYSLFLMAVSFLQLHPREDACIPNTNYGVLLIEFFELYGRHFNYLKTGIRIKDGGSYVAKDEVQKNMLDGYRPSMLYIEDPLQPGNDVGRSSYGAMQVKQAFDYAYVVLSHAVSPIAKYYPNNETESILGRIIRVTDEVATYRDWISKQWGLKNRPEPSCNGPVSSSSATQSSSSDVDSDATPCKTPKQLLCRPSTGNRVGSQDVSLESSQAVGKMQSTQTTNTSNSTNKSQHGSARLFRSSSKGFQGTTQTSHGSLMTNKQHQGKSNNQYYHGKKRKHKRDAPLSDLCR', 'length': 572, 'molWeight': 63267, 'crc64': 'D205C0DE961DA701', 'md5': '7DA92A5A2915722707580D0D910173BC'}, 'extraAttributes': {'uniParcId': 'UPI00004C2CEA'}}\n"
     ]
    },
    {
     "name": "stderr",
     "output_type": "stream",
     "text": [
      "Fetching sequences:  88%|████████▊ | 415/469 [03:11<00:23,  2.25it/s]"
     ]
    },
    {
     "name": "stdout",
     "output_type": "stream",
     "text": [
      "{'entryType': 'UniProtKB reviewed (Swiss-Prot)', 'primaryAccession': 'Q8WU90', 'proteinDescription': {'recommendedName': {'fullName': {'value': 'Zinc finger CCCH domain-containing protein 15'}}, 'alternativeNames': [{'fullName': {'value': 'DRG family-regulatory protein 1'}}, {'fullName': {'value': 'Likely ortholog of mouse immediate early response erythropoietin 4'}}]}, 'genes': [{'geneName': {'value': 'ZC3H15'}, 'synonyms': [{'value': 'DFRP1'}, {'value': 'LEREPO4'}], 'orfNames': [{'value': 'HSPC303'}, {'value': 'HT010'}, {'value': 'MSTP012'}, {'value': 'PP730'}]}], 'sequence': {'value': 'MPPKKQAQAGGSKKAEQKKKEKIIEDKTFGLKNKKGAKQQKFIKAVTHQVKFGQQNPRQVAQSEAEKKLKKDDKKKELQELNELFKPVVAAQKISKGADPKSVVCAFFKQGQCTKGDKCKFSHDLTLERKCEKRSVYIDARDEELEKDTMDNWDEKKLEEVVNKKHGEAEKKKPKTQIVCKHFLEAIENNKYGWFWVCPGGGDICMYRHALPPGFVLKKDKKKEEKEDEISLEDLIERERSALGPNVTKITLESFLAWKKRKRQEKIDKLEQDMERRKADFKAGKALVISGREVFEFRPELVNDDDEEADDTRYTQGTGGDEVDDSVSVNDIDLSLYIPRDVDETGITVASLERFSTYTSDKDENKLSEASGGRAENGERSDLEEDNEREGTENGAIDAVPVDENLFTGEDLDELEEELNTLDLEE', 'length': 426, 'molWeight': 48602, 'crc64': '4A80B7FDC3376181', 'md5': '313282501C7262E07611D9CC4AC2CAF0'}, 'extraAttributes': {'uniParcId': 'UPI00000437CE'}}\n"
     ]
    },
    {
     "name": "stderr",
     "output_type": "stream",
     "text": [
      "Fetching sequences:  89%|████████▊ | 416/469 [03:11<00:24,  2.13it/s]"
     ]
    },
    {
     "name": "stdout",
     "output_type": "stream",
     "text": [
      "{'entryType': 'UniProtKB reviewed (Swiss-Prot)', 'primaryAccession': 'Q8NEJ9', 'proteinDescription': {'recommendedName': {'fullName': {'value': 'Neuroguidin'}}, 'alternativeNames': [{'fullName': {'value': 'Centromere accumulated nuclear protein 1'}, 'shortNames': [{'value': 'CANu1'}]}, {'fullName': {'value': 'EIF4E-binding protein'}}]}, 'genes': [{'geneName': {'evidences': [{'evidenceCode': 'ECO:0000312', 'source': 'HGNC', 'id': 'HGNC:20271'}], 'value': 'NGDN'}, 'synonyms': [{'value': 'C14orf120'}]}], 'sequence': {'value': 'MAALGVLESDLPSAVTLLKNLQEQVMAVTAQVKSLTQKVQAGAYPTEKGLSFLEVKDQLLLMYLMDLTHLILDKASGGSLQGHDAVLRLVEIRTVLEKLRPLDQKLKYQIDKLIKTAVTGSLSENDPLRFKPHPSNMMSKLSSEDEEEDEAEDDQSEASGKKSVKGVSKKYVPPRLVPVHYDETEAEREKKRLERAKRRALSSSVIRELKEQYSDAPEEIRDARHPHVTRQSQEDQHRINYEESMMVRLSVSKREKGRRKRANVMSSQLHSLTHFSDISALTGGTVHLDEDQNPIKKRKKIPQKGRKKKGFRRRR', 'length': 315, 'molWeight': 35894, 'crc64': 'F5B26C3C2EDDC840', 'md5': 'A6881795606761B435EEE515A8B8EED6'}, 'extraAttributes': {'uniParcId': 'UPI000006F7A0'}}\n"
     ]
    },
    {
     "name": "stderr",
     "output_type": "stream",
     "text": [
      "Fetching sequences:  89%|████████▉ | 417/469 [03:12<00:24,  2.16it/s]"
     ]
    },
    {
     "name": "stdout",
     "output_type": "stream",
     "text": [
      "{'entryType': 'UniProtKB reviewed (Swiss-Prot)', 'primaryAccession': 'Q96G21', 'proteinDescription': {'recommendedName': {'fullName': {'value': 'U3 small nucleolar ribonucleoprotein protein IMP4'}, 'shortNames': [{'value': 'U3 snoRNP protein IMP4'}]}, 'alternativeNames': [{'fullName': {'value': 'Brix domain-containing protein 4'}}]}, 'genes': [{'geneName': {'evidences': [{'evidenceCode': 'ECO:0000312', 'source': 'HGNC', 'id': 'HGNC:30856'}], 'value': 'IMP4'}, 'synonyms': [{'value': 'BXDC4'}]}], 'sequence': {'value': 'MLRREARLRREYLYRKAREEAQRSAQERKERLRRALEENRLIPTELRREALALQGSLEFDDAGGEGVTSHVDDEYRWAGVEDPKVMITTSRDPSSRLKMFAKELKLVFPGAQRMNRGRHEVGALVRACKANGVTDLLVVHEHRGTPVGLIVSHLPFGPTAYFTLCNVVMRHDIPDLGTMSEAKPHLITHGFSSRLGKRVSDILRYLFPVPKDDSHRVITFANQDDYISFRHHVYKKTDHRNVELTEVGPRFELKLYMIRLGTLEQEATADVEWRWHPYTNTARKRVFLSTE', 'length': 291, 'molWeight': 33757, 'crc64': '460A05DFFE70C580', 'md5': 'E26CF601B9D42252C9896A77971AEFC5'}, 'extraAttributes': {'uniParcId': 'UPI0000071F26'}}\n"
     ]
    },
    {
     "name": "stderr",
     "output_type": "stream",
     "text": [
      "Fetching sequences:  89%|████████▉ | 418/469 [03:12<00:23,  2.19it/s]"
     ]
    },
    {
     "name": "stdout",
     "output_type": "stream",
     "text": [
      "{'entryType': 'UniProtKB reviewed (Swiss-Prot)', 'primaryAccession': 'P62937', 'proteinDescription': {'recommendedName': {'fullName': {'value': 'Peptidyl-prolyl cis-trans isomerase A'}, 'shortNames': [{'value': 'PPIase A'}], 'ecNumbers': [{'evidences': [{'evidenceCode': 'ECO:0000269', 'source': 'PubMed', 'id': '2001362'}, {'evidenceCode': 'ECO:0000269', 'source': 'PubMed', 'id': '20676357'}, {'evidenceCode': 'ECO:0000269', 'source': 'PubMed', 'id': '21245143'}, {'evidenceCode': 'ECO:0000269', 'source': 'PubMed', 'id': '21593166'}, {'evidenceCode': 'ECO:0000269', 'source': 'PubMed', 'id': '25678563'}, {'evidenceCode': 'ECO:0000305', 'source': 'PubMed', 'id': '19207730'}, {'evidenceCode': 'ECO:0000305', 'source': 'PubMed', 'id': '26095851'}], 'value': '5.2.1.8'}]}, 'alternativeNames': [{'fullName': {'value': 'Cyclophilin A'}}, {'fullName': {'value': 'Cyclosporin A-binding protein'}}, {'fullName': {'value': 'Rotamase A'}}], 'contains': [{'recommendedName': {'fullName': {'value': 'Peptidyl-prolyl cis-trans isomerase A, N-terminally processed'}}}]}, 'genes': [{'geneName': {'value': 'PPIA'}, 'synonyms': [{'value': 'CYPA'}]}], 'sequence': {'value': 'MVNPTVFFDIAVDGEPLGRVSFELFADKVPKTAENFRALSTGEKGFGYKGSCFHRIIPGFMCQGGDFTRHNGTGGKSIYGEKFEDENFILKHTGPGILSMANAGPNTNGSQFFICTAKTEWLDGKHVVFGKVKEGMNIVEAMERFGSRNGKTSKKITIADCGQLE', 'length': 165, 'molWeight': 18012, 'crc64': '9B2E637A555E4434', 'md5': '5364A334C335E7D706A5569FBC3F602D'}, 'extraAttributes': {'uniParcId': 'UPI000003AF82'}}\n"
     ]
    },
    {
     "name": "stderr",
     "output_type": "stream",
     "text": [
      "Fetching sequences:  89%|████████▉ | 419/469 [03:13<00:22,  2.22it/s]"
     ]
    },
    {
     "name": "stdout",
     "output_type": "stream",
     "text": [
      "{'entryType': 'UniProtKB reviewed (Swiss-Prot)', 'primaryAccession': 'P06733', 'proteinDescription': {'recommendedName': {'fullName': {'value': 'Alpha-enolase'}, 'ecNumbers': [{'evidences': [{'evidenceCode': 'ECO:0000269', 'source': 'PubMed', 'id': '1369209'}, {'evidenceCode': 'ECO:0000269', 'source': 'PubMed', 'id': '29775581'}], 'value': '4.2.1.11'}]}, 'alternativeNames': [{'fullName': {'value': '2-phospho-D-glycerate hydro-lyase'}}, {'fullName': {'value': 'C-myc promoter-binding protein'}}, {'fullName': {'value': 'Enolase 1'}}, {'fullName': {'value': 'MBP-1'}}, {'fullName': {'value': 'MPB-1'}}, {'fullName': {'value': 'Non-neural enolase'}, 'shortNames': [{'value': 'NNE'}]}, {'fullName': {'value': 'Phosphopyruvate hydratase'}}, {'fullName': {'value': 'Plasminogen-binding protein'}}]}, 'genes': [{'geneName': {'value': 'ENO1'}, 'synonyms': [{'value': 'ENO1L1'}, {'value': 'MBPB1'}, {'value': 'MPB1'}]}], 'sequence': {'value': 'MSILKIHAREIFDSRGNPTVEVDLFTSKGLFRAAVPSGASTGIYEALELRDNDKTRYMGKGVSKAVEHINKTIAPALVSKKLNVTEQEKIDKLMIEMDGTENKSKFGANAILGVSLAVCKAGAVEKGVPLYRHIADLAGNSEVILPVPAFNVINGGSHAGNKLAMQEFMILPVGAANFREAMRIGAEVYHNLKNVIKEKYGKDATNVGDEGGFAPNILENKEGLELLKTAIGKAGYTDKVVIGMDVAASEFFRSGKYDLDFKSPDDPSRYISPDQLADLYKSFIKDYPVVSIEDPFDQDDWGAWQKFTASAGIQVVGDDLTVTNPKRIAKAVNEKSCNCLLLKVNQIGSVTESLQACKLAQANGWGVMVSHRSGETEDTFIADLVVGLCTGQIKTGAPCRSERLAKYNQLLRIEEELGSKAKFAGRNFRNPLAK', 'length': 434, 'molWeight': 47169, 'crc64': 'A0ED663FCC15ADA5', 'md5': '188E4EF1958BEEF60AE57277B64FCCA8'}, 'extraAttributes': {'uniParcId': 'UPI000013C9AF'}}\n"
     ]
    },
    {
     "name": "stderr",
     "output_type": "stream",
     "text": [
      "Fetching sequences:  90%|████████▉ | 420/469 [03:13<00:21,  2.24it/s]"
     ]
    },
    {
     "name": "stdout",
     "output_type": "stream",
     "text": [
      "{'entryType': 'UniProtKB reviewed (Swiss-Prot)', 'primaryAccession': 'Q07955', 'proteinDescription': {'recommendedName': {'fullName': {'evidences': [{'evidenceCode': 'ECO:0000305'}], 'value': 'Serine/arginine-rich splicing factor 1'}}, 'alternativeNames': [{'fullName': {'value': 'Alternative-splicing factor 1'}, 'shortNames': [{'value': 'ASF-1'}]}, {'fullName': {'value': 'Splicing factor, arginine/serine-rich 1'}}, {'fullName': {'value': 'pre-mRNA-splicing factor SF2, P33 subunit'}}]}, 'genes': [{'geneName': {'evidences': [{'evidenceCode': 'ECO:0000312', 'source': 'HGNC', 'id': 'HGNC:10780'}], 'value': 'SRSF1'}, 'synonyms': [{'value': 'ASF'}, {'value': 'SF2'}, {'value': 'SF2P33'}, {'value': 'SFRS1'}], 'orfNames': [{'value': 'OK/SW-cl.3'}]}], 'sequence': {'value': 'MSGGGVIRGPAGNNDCRIYVGNLPPDIRTKDIEDVFYKYGAIRDIDLKNRRGGPPFAFVEFEDPRDAEDAVYGRDGYDYDGYRLRVEFPRSGRGTGRGGGGGGGGGAPRGRYGPPSRRSENRVVVSGLPPSGSWQDLKDHMREAGDVCYADVYRDGTGVVEFVRKEDMTYAVRKLDNTKFRSHEGETAYIRVKVDGPRSPSYGRSRSRSRSRSRSRSRSNSRSRSYSPRRSRGSPRYSPRHSRSRSRT', 'length': 248, 'molWeight': 27745, 'crc64': 'C28A0B2F112EA713', 'md5': 'A793B367DC86BCCADCE28A308F2ACF82'}, 'extraAttributes': {'uniParcId': 'UPI0000001220'}}\n"
     ]
    },
    {
     "name": "stderr",
     "output_type": "stream",
     "text": [
      "Fetching sequences:  90%|████████▉ | 421/469 [03:14<00:21,  2.24it/s]"
     ]
    },
    {
     "name": "stdout",
     "output_type": "stream",
     "text": [
      "{'entryType': 'UniProtKB reviewed (Swiss-Prot)', 'primaryAccession': 'Q15287', 'proteinDescription': {'recommendedName': {'fullName': {'value': 'RNA-binding protein with serine-rich domain 1'}}, 'alternativeNames': [{'fullName': {'value': 'SR-related protein LDC2'}}]}, 'genes': [{'geneName': {'value': 'RNPS1'}, 'synonyms': [{'value': 'LDC2'}]}], 'sequence': {'value': 'MDLSGVKKKSLLGVKENNKKSSTRAPSPTKRKDRSDEKSKDRSKDKGATKESSEKDRGRDKTRKRRSASSGSSSTRSRSSSTSSSGSSTSTGSSSGSSSSSASSRSGSSSTSRSSSSSSSSGSPSPSRRRHDNRRRSRSKSKPPKRDEKERKRRSPSPKPTKVHIGRLTRNVTKDHIMEIFSTYGKIKMIDMPVERMHPHLSKGYAYVEFENPDEAEKALKHMDGGQIDGQEITATAVLAPWPRPPPRRFSPPRRMLPPPPMWRRSPPRMRRRSRSPRRRSPVRRRSRSPGRRRHRSRSSSNSSR', 'length': 305, 'molWeight': 34208, 'crc64': '930C9D36C2486144', 'md5': '9701E30AAAFA9D23238E3D1803BE8FAF'}, 'extraAttributes': {'uniParcId': 'UPI00000245F5'}}\n"
     ]
    },
    {
     "name": "stderr",
     "output_type": "stream",
     "text": [
      "Fetching sequences:  90%|████████▉ | 422/469 [03:14<00:20,  2.24it/s]"
     ]
    },
    {
     "name": "stdout",
     "output_type": "stream",
     "text": [
      "{'entryType': 'UniProtKB reviewed (Swiss-Prot)', 'primaryAccession': 'Q9NWH9', 'proteinDescription': {'recommendedName': {'fullName': {'value': 'SAFB-like transcription modulator'}}, 'alternativeNames': [{'fullName': {'value': 'Modulator of estrogen-induced transcription'}}]}, 'genes': [{'geneName': {'value': 'SLTM'}, 'synonyms': [{'value': 'MET'}]}], 'sequence': {'value': 'MAAATGAVAASAASGQAEGKKITDLRVIDLKSELKRRNLDITGVKTVLISRLKQAIEEEGGDPDNIELTVSTDTPNKKPTKGKGKKHEADELSGDASVEDDAFIKDCELENQEAHEQDGNDELKDSEEFGENEEENVHSKELLSAEENKRAHELIEAEGIEDIEKEDIESQEIEAQEGEDDTFLTAQDGEEEENEKDIAGSGDGTQEVSKPLPSEGSLAEADHTAHEEMEAHTTVKEAEDDNISVTIQAEDAITLDFDGDDLLETGKNVKITDSEASKPKDGQDAIAQSPEKESKDYEMNANHKDGKKEDCVKGDPVEKEARESSKKAESGDKEKDTLKKGPSSTGASGQAKSSSKESKDSKTSSKDDKGSTSSTSGSSGSSTKNIWVSGLSSNTKAADLKNLFGKYGKVLSAKVVTNARSPGAKCYGIVTMSSSTEVSRCIAHLHRTELHGQLISVEKVKGDPSKKEMKKENDEKSSSRSSGDKKNTSDRSSKTQASVKKEEKRSSEKSEKKESKDTKKIEGKDEKNDNGASGQTSESIKKSEEKKRISSKSPGHMVILDQTKGDHCRPSRRGRYEKIHGRSKEKERASLDKKRDKDYRRKEILPFEKMKEQRLREHLVRFERLRRAMELRRRREIAERERRERERIRIIREREERERLQRERERLEIERQKLERERMERERLERERIRIEQERRKEAERIAREREELRRQQQQLRYEQEKRNSLKRPRDVDHRRDDPYWSENKKLSLDTDARFGHGSDYSRQQNRFNDFDHRERGRFPESSAVQSSSFERRDRFVGQSEGKKARPTARREDPSFERYPKNFSDSRRNEPPPPRNELRESDRREVRGERDERRTVIIHDRPDITHPRHPREAGPNPSRPTSWKSEGSMSTDKRETRVERPERSGREVSGHSVRGAPPGNRSSASGYGSREGDRGVITDRGGGSQHYPEERHVVERHGRDTSGPRKEWHGPPSQGPSYHDTRRMGDGRAGAGMITQHSSNASPINRIVQISGNSMPRGSGSGFKPFKGGPPRRF', 'length': 1034, 'molWeight': 117148, 'crc64': 'FF63F506929CFD6F', 'md5': '2EFEBD40CD3DB76F5F9D8AFF9B78F0D1'}, 'extraAttributes': {'uniParcId': 'UPI0000039EA4'}}\n"
     ]
    },
    {
     "name": "stderr",
     "output_type": "stream",
     "text": [
      "Fetching sequences:  90%|█████████ | 423/469 [03:14<00:20,  2.25it/s]"
     ]
    },
    {
     "name": "stdout",
     "output_type": "stream",
     "text": [
      "{'entryType': 'UniProtKB reviewed (Swiss-Prot)', 'primaryAccession': 'Q02790', 'proteinDescription': {'recommendedName': {'fullName': {'value': 'Peptidyl-prolyl cis-trans isomerase FKBP4'}, 'shortNames': [{'value': 'PPIase FKBP4'}], 'ecNumbers': [{'value': '5.2.1.8'}]}, 'alternativeNames': [{'fullName': {'value': '51 kDa FK506-binding protein'}, 'shortNames': [{'value': 'FKBP51'}]}, {'fullName': {'value': '52 kDa FK506-binding protein'}, 'shortNames': [{'value': '52 kDa FKBP'}, {'value': 'FKBP-52'}]}, {'fullName': {'value': '59 kDa immunophilin'}, 'shortNames': [{'value': 'p59'}]}, {'fullName': {'value': 'FK506-binding protein 4'}, 'shortNames': [{'value': 'FKBP-4'}]}, {'fullName': {'value': 'FKBP59'}}, {'fullName': {'value': 'HSP-binding immunophilin'}, 'shortNames': [{'value': 'HBI'}]}, {'fullName': {'value': 'Immunophilin FKBP52'}}, {'fullName': {'value': 'Rotamase'}}], 'contains': [{'recommendedName': {'fullName': {'value': 'Peptidyl-prolyl cis-trans isomerase FKBP4, N-terminally processed'}}}]}, 'genes': [{'geneName': {'value': 'FKBP4'}, 'synonyms': [{'value': 'FKBP52'}]}], 'sequence': {'value': 'MTAEEMKATESGAQSAPLPMEGVDISPKQDEGVLKVIKREGTGTEMPMIGDRVFVHYTGWLLDGTKFDSSLDRKDKFSFDLGKGEVIKAWDIAIATMKVGEVCHITCKPEYAYGSAGSPPKIPPNATLVFEVELFEFKGEDLTEEEDGGIIRRIQTRGEGYAKPNEGAIVEVALEGYYKDKLFDQRELRFEIGEGENLDLPYGLERAIQRMEKGEHSIVYLKPSYAFGSVGKEKFQIPPNAELKYELHLKSFEKAKESWEMNSEEKLEQSTIVKERGTVYFKEGKYKQALLQYKKIVSWLEYESSFSNEEAQKAQALRLASHLNLAMCHLKLQAFSAAIESCNKALELDSNNEKGLFRRGEAHLAVNDFELARADFQKVLQLYPNNKAAKTQLAVCQQRIRRQLAREKKLYANMFERLAEEENKAKAEASSGDHPTDTEMKEEQKSNTAGSQSQVETEA', 'length': 459, 'molWeight': 51805, 'crc64': '6A498105418D9435', 'md5': '74A70E0128956AFD5302D1DCA89598EF'}, 'extraAttributes': {'uniParcId': 'UPI000013C4D0'}}\n"
     ]
    },
    {
     "name": "stderr",
     "output_type": "stream",
     "text": [
      "Fetching sequences:  90%|█████████ | 424/469 [03:15<00:20,  2.24it/s]"
     ]
    },
    {
     "name": "stdout",
     "output_type": "stream",
     "text": [
      "{'entryType': 'UniProtKB reviewed (Swiss-Prot)', 'primaryAccession': 'Q9NS39', 'proteinDescription': {'recommendedName': {'fullName': {'value': 'Double-stranded RNA-specific editase B2'}, 'ecNumbers': [{'value': '3.5.-.-'}]}, 'alternativeNames': [{'fullName': {'value': 'RNA-dependent adenosine deaminase 3'}}, {'fullName': {'value': 'RNA-editing deaminase 2'}}, {'fullName': {'value': 'RNA-editing enzyme 2'}}, {'fullName': {'value': 'dsRNA adenosine deaminase B2'}}]}, 'genes': [{'geneName': {'value': 'ADARB2'}, 'synonyms': [{'value': 'ADAR3'}, {'value': 'RED2'}]}], 'sequence': {'value': 'MASVLGSGRGSGGLSSQLKCKSKRRRRRRSKRKDKVSILSTFLAPFKHLSPGITNTEDDDTLSTSSAEVKENRNVGNLAARPPPSGDRARGGAPGAKRKRPLEEGNGGHLCKLQLVWKKLSWSVAPKNALVQLHELRPGLQYRTVSQTGPVHAPVFAVAVEVNGLTFEGTGPTKKKAKMRAAELALRSFVQFPNACQAHLAMGGGPGPGTDFTSDQADFPDTLFQEFEPPAPRPGLAGGRPGDAALLSAAYGRRRLLCRALDLVGPTPATPAAPGERNPVVLLNRLRAGLRYVCLAEPAERRARSFVMAVSVDGRTFEGSGRSKKLARGQAAQAALQELFDIQMPGHAPGRARRTPMPQEFADSISQLVTQKFREVTTDLTPMHARHKALAGIVMTKGLDARQAQVVALSSGTKCISGEHLSDQGLVVNDCHAEVVARRAFLHFLYTQLELHLSKRREDSERSIFVRLKEGGYRLRENILFHLYVSTSPCGDARLHSPYEITTDLHSSKHLVRKFRGHLRTKIESGEGTVPVRGPSAVQTWDGVLLGEQLITMSCTDKIARWNVLGLQGALLSHFVEPVYLQSIVVGSLHHTGHLARVMSHRMEGVGQLPASYRHNRPLLSGVSDAEARQPGKSPPFSMNWVVGSADLEIINATTGRRSCGGPSRLCKHVLSARWARLYGRLSTRTPSPGDTPSMYCEAKLGAHTYQSVKQQLFKAFQKAGLGTWVRKPPEQQQFLLTL', 'length': 739, 'molWeight': 80621, 'crc64': 'A158A81D35894F79', 'md5': 'D944DB7E2F49BEB06C812B0604428DA7'}, 'extraAttributes': {'uniParcId': 'UPI0000071776'}}\n"
     ]
    },
    {
     "name": "stderr",
     "output_type": "stream",
     "text": [
      "Fetching sequences:  91%|█████████ | 425/469 [03:15<00:19,  2.24it/s]"
     ]
    },
    {
     "name": "stdout",
     "output_type": "stream",
     "text": [
      "{'entryType': 'UniProtKB reviewed (Swiss-Prot)', 'primaryAccession': 'O00541', 'proteinDescription': {'recommendedName': {'fullName': {'evidences': [{'evidenceCode': 'ECO:0000255', 'source': 'HAMAP-Rule', 'id': 'MF_03028'}], 'value': 'Pescadillo homolog'}}}, 'genes': [{'geneName': {'evidences': [{'evidenceCode': 'ECO:0000255', 'source': 'HAMAP-Rule', 'id': 'MF_03028'}], 'value': 'PES1'}}], 'sequence': {'value': 'MGGLEKKKYERGSATNYITRNKARKKLQLSLADFRRLCILKGIYPHEPKHKKKVNKGSTAARTFYLIKDIRFLLHEPIVNKFREYKVFVRKLRKAYGKSEWNTVERLKDNKPNYKLDHIIKERYPTFIDALRDLDDALSMCFLFSTFPRTGKCHVQTIQLCRRLTVEFMHYIIAARALRKVFLSIKGIYYQAEVLGQPIVWITPYAFSHDHPTDVDYRVMATFTEFYTTLLGFVNFRLYQLLNLHYPPKLEGQAQAEAKAGEGTYALDSESCMEKLAALSASLARVVVPATEEEAEVDEFPTDGEMSAQEEDRRKELEAQEKHKKLFEGLKFFLNREVPREALAFIIRSFGGEVSWDKSLCIGATYDVTDSRITHQIVDRPGQQTSVIGRCYVQPQWVFDSVNARLLLPVAEYFSGVQLPPHLSPFVTEKEGDYVPPEKLKLLALQRGEDPGNLNESEEEEEEDDNNEGDGDEEGENEEEEEDAEAGSEKEEEARLAALEEQRMEGKKPRVMAGTLKLEDKQRLAQEEESEAKRLAIMMMKKREKYLYQKIMFGKRRKIREANKLAEKRKAHDEAVRSEKKAKKARPE', 'length': 588, 'molWeight': 68003, 'crc64': 'CB6201D6E34D82B1', 'md5': '119B6C3947E6A6C301E5320E814CB53A'}, 'extraAttributes': {'uniParcId': 'UPI0000001618'}}\n"
     ]
    },
    {
     "name": "stderr",
     "output_type": "stream",
     "text": [
      "Fetching sequences:  91%|█████████ | 426/469 [03:16<00:19,  2.26it/s]"
     ]
    },
    {
     "name": "stdout",
     "output_type": "stream",
     "text": [
      "{'entryType': 'UniProtKB reviewed (Swiss-Prot)', 'primaryAccession': 'P08238', 'proteinDescription': {'recommendedName': {'fullName': {'value': 'Heat shock protein HSP 90-beta'}, 'shortNames': [{'value': 'HSP 90'}]}, 'alternativeNames': [{'fullName': {'value': 'Heat shock 84 kDa'}, 'shortNames': [{'value': 'HSP 84'}, {'value': 'HSP84'}]}, {'fullName': {'evidences': [{'evidenceCode': 'ECO:0000303', 'source': 'PubMed', 'id': '18663603'}], 'value': 'Heat shock protein family C member 3'}}]}, 'genes': [{'geneName': {'evidences': [{'evidenceCode': 'ECO:0000312', 'source': 'HGNC', 'id': 'HGNC:5258'}], 'value': 'HSP90AB1'}, 'synonyms': [{'value': 'HSP90B'}, {'value': 'HSPC2'}, {'evidences': [{'evidenceCode': 'ECO:0000303', 'source': 'PubMed', 'id': '18663603'}], 'value': 'HSPC3'}, {'value': 'HSPCB'}]}], 'sequence': {'value': 'MPEEVHHGEEEVETFAFQAEIAQLMSLIINTFYSNKEIFLRELISNASDALDKIRYESLTDPSKLDSGKELKIDIIPNPQERTLTLVDTGIGMTKADLINNLGTIAKSGTKAFMEALQAGADISMIGQFGVGFYSAYLVAEKVVVITKHNDDEQYAWESSAGGSFTVRADHGEPIGRGTKVILHLKEDQTEYLEERRVKEVVKKHSQFIGYPITLYLEKEREKEISDDEAEEEKGEKEEEDKDDEEKPKIEDVGSDEEDDSGKDKKKKTKKIKEKYIDQEELNKTKPIWTRNPDDITQEEYGEFYKSLTNDWEDHLAVKHFSVEGQLEFRALLFIPRRAPFDLFENKKKKNNIKLYVRRVFIMDSCDELIPEYLNFIRGVVDSEDLPLNISREMLQQSKILKVIRKNIVKKCLELFSELAEDKENYKKFYEAFSKNLKLGIHEDSTNRRRLSELLRYHTSQSGDEMTSLSEYVSRMKETQKSIYYITGESKEQVANSAFVERVRKRGFEVVYMTEPIDEYCVQQLKEFDGKSLVSVTKEGLELPEDEEEKKKMEESKAKFENLCKLMKEILDKKVEKVTISNRLVSSPCCIVTSTYGWTANMERIMKAQALRDNSTMGYMMAKKHLEINPDHPIVETLRQKAEADKNDKAVKDLVVLLFETALLSSGFSLEDPQTHSNRIYRMIKLGLGIDEDEVAAEEPNAAVPDEIPPLEGDEDASRMEEVD', 'length': 724, 'molWeight': 83264, 'crc64': 'A93118C214D03810', 'md5': '949F432CE31C866B10F2AD852C228CE0'}, 'extraAttributes': {'uniParcId': 'UPI00001411EF'}}\n"
     ]
    },
    {
     "name": "stderr",
     "output_type": "stream",
     "text": [
      "Fetching sequences:  91%|█████████ | 427/469 [03:16<00:18,  2.25it/s]"
     ]
    },
    {
     "name": "stdout",
     "output_type": "stream",
     "text": [
      "{'entryType': 'UniProtKB reviewed (Swiss-Prot)', 'primaryAccession': 'O43463', 'proteinDescription': {'recommendedName': {'fullName': {'value': 'Histone-lysine N-methyltransferase SUV39H1'}, 'ecNumbers': [{'evidences': [{'evidenceCode': 'ECO:0000269', 'source': 'PubMed', 'id': '10949293'}, {'evidenceCode': 'ECO:0000269', 'source': 'PubMed', 'id': '18004385'}], 'value': '2.1.1.355'}]}, 'alternativeNames': [{'fullName': {'value': 'Histone H3-K9 methyltransferase 1'}, 'shortNames': [{'value': 'H3-K9-HMTase 1'}]}, {'fullName': {'value': 'Lysine N-methyltransferase 1A'}}, {'fullName': {'value': 'Position-effect variegation 3-9 homolog'}}, {'fullName': {'value': 'Suppressor of variegation 3-9 homolog 1'}, 'shortNames': [{'value': 'Su(var)3-9 homolog 1'}]}]}, 'genes': [{'geneName': {'value': 'SUV39H1'}, 'synonyms': [{'value': 'KMT1A'}, {'value': 'SUV39H'}]}], 'sequence': {'value': 'MAENLKGCSVCCKSSWNQLQDLCRLAKLSCPALGISKRNLYDFEVEYLCDYKKIREQEYYLVKWRGYPDSESTWEPRQNLKCVRILKQFHKDLERELLRRHHRSKTPRHLDPSLANYLVQKAKQRRALRRWEQELNAKRSHLGRITVENEVDLDGPPRAFVYINEYRVGEGITLNQVAVGCECQDCLWAPTGGCCPGASLHKFAYNDQGQVRLRAGLPIYECNSRCRCGYDCPNRVVQKGIRYDLCIFRTDDGRGWGVRTLEKIRKNSFVMEYVGEIITSEEAERRGQIYDRQGATYLFDLDYVEDVYTVDAAYYGNISHFVNHSCDPNLQVYNVFIDNLDERLPRIAFFATRTIRAGEELTFDYNMQVDPVDMESTRMDSNFGLAGLPGSPKKRVRIECKCGTESCRKYLF', 'length': 412, 'molWeight': 47907, 'crc64': 'AF6F959AD20C6C76', 'md5': '7596A2D31C330D06D7546A7C5F7F0792'}, 'extraAttributes': {'uniParcId': 'UPI000002E1D7'}}\n"
     ]
    },
    {
     "name": "stderr",
     "output_type": "stream",
     "text": [
      "Fetching sequences:  91%|█████████▏| 428/469 [03:17<00:18,  2.26it/s]"
     ]
    },
    {
     "name": "stdout",
     "output_type": "stream",
     "text": [
      "{'entryType': 'UniProtKB reviewed (Swiss-Prot)', 'primaryAccession': 'P18583', 'proteinDescription': {'recommendedName': {'fullName': {'value': 'Protein SON'}}, 'alternativeNames': [{'fullName': {'value': 'Bax antagonist selected in saccharomyces 1'}, 'shortNames': [{'value': 'BASS1'}]}, {'fullName': {'value': 'Negative regulatory element-binding protein'}, 'shortNames': [{'value': 'NRE-binding protein'}]}, {'fullName': {'value': 'Protein DBP-5'}}, {'fullName': {'value': 'SON3'}}]}, 'genes': [{'geneName': {'value': 'SON'}, 'synonyms': [{'value': 'C21orf50'}, {'value': 'DBP5'}, {'value': 'KIAA1019'}, {'value': 'NREBP'}], 'orfNames': [{'value': 'HSPC310'}, {'value': 'HSPC312'}]}], 'sequence': {'value': 'MATNIEQIFRSFVVSKFREIQQELSSGRNEGQLNGETNTPIEGNQAGDAAASARSLPNEEIVQKIEEVLSGVLDTELRYKPDLKEGSRKSRCVSVQTDPTDEIPTKKSKKHKKHKNKKKKKKKEKEKKYKRQPEESESKTKSHDDGNIDLESDSFLKFDSEPSAVALELPTRAFGPSETNESPAVVLEPPVVSMEVSEPHILETLKPATKTAELSVVSTSVISEQSEQSVAVMPEPSMTKILDSFAAAPVPTTTLVLKSSEPVVTMSVEYQMKSVLKSVESTSPEPSKIMLVEPPVAKVLEPSETLVVSSETPTEVYPEPSTSTTMDFPESSAIEALRLPEQPVDVPSEIADSSMTRPQELPELPKTTALELQESSVASAMELPGPPATSMPELQGPPVTPVLELPGPSATPVPELPGPLSTPVPELPGPPATAVPELPGPSVTPVPQLSQELPGLPAPSMGLEPPQEVPEPPVMAQELPGLPLVTAAVELPEQPAVTVAMELTEQPVTTTELEQPVGMTTVEHPGHPEVTTATGLLGQPEATMVLELPGQPVATTALELPGQPSVTGVPELPGLPSATRALELSGQPVATGALELPGPLMAAGALEFSGQSGAAGALELLGQPLATGVLELPGQPGAPELPGQPVATVALEISVQSVVTTSELSTMTVSQSLEVPSTTALESYNTVAQELPTTLVGETSVTVGVDPLMAPESHILASNTMETHILASNTMDSQMLASNTMDSQMLASNTMDSQMLASSTMDSQMLATSSMDSQMLATSSMDSQMLATSTMDSQMLATSSMDSQMLATSSMDSQMLATSSMDSQMLATSSMDSQMLATSTMDSQMLATSTMDSQMLATSSMDSQMLASGTMDSQMLASGTMDAQMLASGTMDAQMLASSTQDSAMLGSKSPDPYRLAQDPYRLAQDPYRLGHDPYRLGHDAYRLGQDPYRLGHDPYRLTPDPYRMSPRPYRIAPRSYRIAPRPYRLAPRPLMLASRRSMMMSYAAERSMMSSYERSMMSYERSMMSPMAERSMMSAYERSMMSAYERSMMSPMAERSMMSAYERSMMSAYERSMMSPMADRSMMSMGADRSMMSSYSAADRSMMSSYSAADRSMMSSYTADRSMMSMAADSYTDSYTDTYTEAYMVPPLPPEEPPTMPPLPPEEPPMTPPLPPEEPPEGPALPTEQSALTAENTWPTEVPSSPSEESVSQPEPPVSQSEISEPSAVPTDYSVSASDPSVLVSEAAVTVPEPPPEPESSITLTPVESAVVAEEHEVVPERPVTCMVSETPAMSAEPTVLASEPPVMSETAETFDSMRASGHVASEVSTSLLVPAVTTPVLAESILEPPAMAAPESSAMAVLESSAVTVLESSTVTVLESSTVTVLEPSVVTVPEPPVVAEPDYVTIPVPVVSALEPSVPVLEPAVSVLQPSMIVSEPSVSVQESTVTVSEPAVTVSEQTQVIPTEVAIESTPMILESSIMSSHVMKGINLSSGDQNLAPEIGMQEIALHSGEEPHAEEHLKGDFYESEHGINIDLNINNHLIAKEMEHNTVCAAGTSPVGEIGEEKILPTSETKQRTVLDTYPGVSEADAGETLSSTGPFALEPDATGTSKGIEFTTASTLSLVNKYDVDLSLTTQDTEHDMVISTSPSGGSEADIEGPLPAKDIHLDLPSNNNLVSKDTEEPLPVKESDQTLAALLSPKESSGGEKEVPPPPKETLPDSGFSANIEDINEADLVRPLLPKDMERLTSLRAGIEGPLLASDVGRDRSAASPVVSSMPERASESSSEEKDDYEIFVKVKDTHEKSKKNKNRDKGEKEKKRDSSLRSRSKRSKSSEHKSRKRTSESRSRARKRSSKSKSHRSQTRSRSRSRRRRRSSRSRSKSRGRRSVSKEKRKRSPKHRSKSRERKRKRSSSRDNRKTVRARSRTPSRRSRSHTPSRRRRSRSVGRRRSFSISPSRRSRTPSRRSRTPSRRSRTPSRRSRTPSRRSRTPSRRSRTPSRRRRSRSVVRRRSFSISPVRLRRSRTPLRRRFSRSPIRRKRSRSSERGRSPKRLTDLDKAQLLEIAKANAAAMCAKAGVPLPPNLKPAPPPTIEEKVAKKSGGATIEELTEKCKQIAQSKEDDDVIVNKPHVSDEEEEEPPFYHHPFKLSEPKPIFFNLNIAAAKPTPPKSQVTLTKEFPVSSGSQHRKKEADSVYGEWVPVEKNGEENKDDDNVFSSNLPSEPVDISTAMSERALAQKRLSENAFDLEAMSMLNRAQERIDAWAQLNSIPGQFTGSTGVQVLTQEQLANTGAQAWIKKDQFLRAAPVTGGMGAVLMRKMGWREGEGLGKNKEGNKEPILVDFKTDRKGLVAVGERAQKRSGNFSAAMKDLSGKHPVSALMEICNKRRWQPPEFLLVHDSGPDHRKHFLFRVLRNGALTRPNCMFFLNRY', 'length': 2426, 'molWeight': 263830, 'crc64': 'AE53B1157A37657D', 'md5': '697ECD68150DD7293CE2BD50BFBC49B4'}, 'extraAttributes': {'uniParcId': 'UPI0000140BFD'}}\n"
     ]
    },
    {
     "name": "stderr",
     "output_type": "stream",
     "text": [
      "Fetching sequences:  91%|█████████▏| 429/469 [03:17<00:17,  2.26it/s]"
     ]
    },
    {
     "name": "stdout",
     "output_type": "stream",
     "text": [
      "{'entryType': 'UniProtKB reviewed (Swiss-Prot)', 'primaryAccession': 'P61204', 'proteinDescription': {'recommendedName': {'fullName': {'value': 'ADP-ribosylation factor 3'}}}, 'genes': [{'geneName': {'value': 'ARF3'}}], 'sequence': {'value': 'MGNIFGNLLKSLIGKKEMRILMVGLDAAGKTTILYKLKLGEIVTTIPTIGFNVETVEYKNISFTVWDVGGQDKIRPLWRHYFQNTQGLIFVVDSNDRERVNEAREELMRMLAEDELRDAVLLVFANKQDLPNAMNAAEITDKLGLHSLRHRNWYIQATCATSGDGLYEGLDWLANQLKNKK', 'length': 181, 'molWeight': 20601, 'crc64': 'D6FA234DFAED3E5F', 'md5': 'BB3D9D24EDF66E07359B41613E675499'}, 'extraAttributes': {'uniParcId': 'UPI00000012C8'}}\n"
     ]
    },
    {
     "name": "stderr",
     "output_type": "stream",
     "text": [
      "Fetching sequences:  92%|█████████▏| 430/469 [03:18<00:17,  2.27it/s]"
     ]
    },
    {
     "name": "stdout",
     "output_type": "stream",
     "text": [
      "{'entryType': 'UniProtKB reviewed (Swiss-Prot)', 'primaryAccession': 'Q9UJV9', 'proteinDescription': {'recommendedName': {'fullName': {'value': 'Probable ATP-dependent RNA helicase DDX41'}, 'ecNumbers': [{'value': '3.6.4.13'}]}, 'alternativeNames': [{'fullName': {'value': 'DEAD box protein 41'}}, {'fullName': {'value': 'DEAD box protein abstrakt homolog'}}]}, 'genes': [{'geneName': {'value': 'DDX41'}, 'synonyms': [{'value': 'ABS'}]}], 'sequence': {'value': 'MEESEPERKRARTDEVPAGGSRSEAEDEDDEDYVPYVPLRQRRQLLLQKLLQRRRKGAAEEEQQDSGSEPRGDEDDIPLGPQSNVSLLDQHQHLKEKAEARKESAKEKQLKEEEKILESVAEGRALMSVKEMAKGITYDDPIKTSWTPPRYVLSMSEERHERVRKKYHILVEGDGIPPPIKSFKEMKFPAAILRGLKKKGIHHPTPIQIQGIPTILSGRDMIGIAFTGSGKTLVFTLPVIMFCLEQEKRLPFSKREGPYGLIICPSRELARQTHGILEYYCRLLQEDSSPLLRCALCIGGMSVKEQMETIRHGVHMMVATPGRLMDLLQKKMVSLDICRYLALDEADRMIDMGFEGDIRTIFSYFKGQRQTLLFSATMPKKIQNFAKSALVKPVTINVGRAGAASLDVIQEVEYVKEEAKMVYLLECLQKTPPPVLIFAEKKADVDAIHEYLLLKGVEAVAIHGGKDQEERTKAIEAFREGKKDVLVATDVASKGLDFPAIQHVINYDMPEEIENYVHRIGRTGRSGNTGIATTFINKACDESVLMDLKALLLEAKQKVPPVLQVLHCGDESMLDIGGERGCAFCGGLGHRITDCPKLEAMQTKQVSNIGRKDYLAHSSMDF', 'length': 622, 'molWeight': 69838, 'crc64': 'E0A328724E0DF99A', 'md5': 'B5617ED5C3280DC35A5BFC0D59D2B7B3'}, 'extraAttributes': {'uniParcId': 'UPI0000125164'}}\n"
     ]
    },
    {
     "name": "stderr",
     "output_type": "stream",
     "text": [
      "Fetching sequences:  92%|█████████▏| 431/469 [03:18<00:16,  2.26it/s]"
     ]
    },
    {
     "name": "stdout",
     "output_type": "stream",
     "text": [
      "{'entryType': 'UniProtKB reviewed (Swiss-Prot)', 'primaryAccession': 'Q9H6W3', 'proteinDescription': {'recommendedName': {'fullName': {'evidences': [{'evidenceCode': 'ECO:0000305'}], 'value': 'Ribosomal oxygenase 1'}}, 'alternativeNames': [{'fullName': {'value': '60S ribosomal protein L8 histidine hydroxylase'}}, {'fullName': {'value': 'Bifunctional lysine-specific demethylase and histidyl-hydroxylase NO66'}, 'ecNumbers': [{'evidences': [{'evidenceCode': 'ECO:0000250', 'source': 'UniProtKB', 'id': 'Q9JJF3'}], 'value': '1.14.11.27'}, {'evidences': [{'evidenceCode': 'ECO:0000269', 'source': 'PubMed', 'id': '23103944'}], 'value': '1.14.11.79'}]}, {'fullName': {'value': 'Myc-associated protein with JmjC domain'}}, {'fullName': {'evidences': [{'evidenceCode': 'ECO:0000303', 'source': 'PubMed', 'id': '23103944'}], 'value': 'Nucleolar protein 66'}, 'shortNames': [{'evidences': [{'evidenceCode': 'ECO:0000303', 'source': 'PubMed', 'id': '23103944'}], 'value': 'hsNO66'}]}, {'fullName': {'evidences': [{'evidenceCode': 'ECO:0000303', 'source': 'PubMed', 'id': '23103944'}], 'value': 'Ribosomal oxygenase NO66'}, 'shortNames': [{'evidences': [{'evidenceCode': 'ECO:0000303', 'source': 'PubMed', 'id': '23103944'}], 'value': 'ROX'}]}]}, 'genes': [{'geneName': {'evidences': [{'evidenceCode': 'ECO:0000303', 'source': 'PubMed', 'id': '35210392'}, {'evidenceCode': 'ECO:0000312', 'source': 'HGNC', 'id': 'HGNC:20968'}], 'value': 'RIOX1'}, 'synonyms': [{'evidences': [{'evidenceCode': 'ECO:0000312', 'source': 'HGNC', 'id': 'HGNC:20968'}], 'value': 'C14orf169'}, {'value': 'MAPJD'}, {'evidences': [{'evidenceCode': 'ECO:0000303', 'source': 'PubMed', 'id': '23103944'}], 'value': 'NO66'}]}], 'sequence': {'value': 'MDGLQASAGPLRRGRPKRRRKPQPHSGSVLALPLRSRKIRKQLRSVVSRMAALRTQTLPSENSEESRVESTADDLGDALPGGAAVAAVPDAARREPYGHLGPAELLEASPAARSLQTPSARLVPASAPPARLVEVPAAPVRVVETSALLCTAQHLAAVQSSGAPATASGPQVDNTGGEPAWDSPLRRVLAELNRIPSSRRRAARLFEWLIAPMPPDHFYRRLWEREAVLVRRQDHTYYQGLFSTADLDSMLRNEEVQFGQHLDAARYINGRRETLNPPGRALPAAAWSLYQAGCSLRLLCPQAFSTTVWQFLAVLQEQFGSMAGSNVYLTPPNSQGFAPHYDDIEAFVLQLEGRKLWRVYRPRVPTEELALTSSPNFSQDDLGEPVLQTVLEPGDLLYFPRGFIHQAECQDGVHSLHLTLSTYQRNTWGDFLEAILPLAVQAAMEENVEFRRGLPRDFMDYMGAQHSDSKDPRRTAFMEKVRVLVARLGHFAPVDAVADQRAKDFIHDSLPPVLTDRERALSVYGLPIRWEAGEPVNVGAQLTTETEVHMLQDGIARLVGEGGHLFLYYTVENSRVYHLEEPKCLEIYPQQADAMELLLGSYPEFVRVGDLPCDSVEDQLSLATTLYDKGLLLTKMPLALN', 'length': 641, 'molWeight': 71086, 'crc64': 'E66A4342B1D1BFF2', 'md5': 'C457D8A231FFFD5CCC259FC48EBBF791'}, 'extraAttributes': {'uniParcId': 'UPI0000D820D1'}}\n"
     ]
    },
    {
     "name": "stderr",
     "output_type": "stream",
     "text": [
      "Fetching sequences:  92%|█████████▏| 432/469 [03:18<00:16,  2.27it/s]"
     ]
    },
    {
     "name": "stdout",
     "output_type": "stream",
     "text": [
      "{'entryType': 'UniProtKB reviewed (Swiss-Prot)', 'primaryAccession': 'Q96EY1', 'proteinDescription': {'recommendedName': {'fullName': {'value': 'DnaJ homolog subfamily A member 3, mitochondrial'}}, 'alternativeNames': [{'fullName': {'value': 'DnaJ protein Tid-1'}, 'shortNames': [{'value': 'hTid-1'}]}, {'fullName': {'value': 'Hepatocellular carcinoma-associated antigen 57'}}, {'fullName': {'value': 'Tumorous imaginal discs protein Tid56 homolog'}}], 'flag': 'Precursor'}, 'genes': [{'geneName': {'value': 'DNAJA3'}, 'synonyms': [{'value': 'HCA57'}, {'value': 'TID1'}]}], 'sequence': {'value': 'MAARCSTRWLLVVVGTPRLPAISGRGARPPREGVVGAWLSRKLSVPAFASSLTSCGPRALLTLRPGVSLTGTKHNPFICTASFHTSAPLAKEDYYQILGVPRNASQKEIKKAYYQLAKKYHPDTNKDDPKAKEKFSQLAEAYEVLSDEVKRKQYDAYGSAGFDPGASGSQHSYWKGGPTVDPEELFRKIFGEFSSSSFGDFQTVFDQPQEYFMELTFNQAAKGVNKEFTVNIMDTCERCNGKGNEPGTKVQHCHYCGGSGMETINTGPFVMRSTCRRCGGRGSIIISPCVVCRGAGQAKQKKRVMIPVPAGVEDGQTVRMPVGKREIFITFRVQKSPVFRRDGADIHSDLFISIAQALLGGTARAQGLYETINVTIPPGTQTDQKIRMGGKGIPRINSYGYGDHYIHIKIRVPKRLTSRQQSLILSYAEDETDVEGTVNGVTLTSSGGSTMDSSAGSKARREAGEDEEGFLSKLKKMFTS', 'length': 480, 'molWeight': 52489, 'crc64': '5A57B9020992CF59', 'md5': '08B3725C5ADD9AC1A45596F4B98DA7F1'}, 'extraAttributes': {'uniParcId': 'UPI0000043C38'}}\n"
     ]
    },
    {
     "name": "stderr",
     "output_type": "stream",
     "text": [
      "Fetching sequences:  92%|█████████▏| 433/469 [03:19<00:15,  2.26it/s]"
     ]
    },
    {
     "name": "stdout",
     "output_type": "stream",
     "text": [
      "{'entryType': 'UniProtKB reviewed (Swiss-Prot)', 'primaryAccession': 'P62820', 'proteinDescription': {'recommendedName': {'fullName': {'value': 'Ras-related protein Rab-1A'}, 'ecNumbers': [{'evidences': [{'evidenceCode': 'ECO:0000269', 'source': 'PubMed', 'id': '22939626'}], 'value': '3.6.5.2'}]}, 'alternativeNames': [{'fullName': {'value': 'YPT1-related protein'}}]}, 'genes': [{'geneName': {'value': 'RAB1A'}, 'synonyms': [{'value': 'RAB1'}]}], 'sequence': {'value': 'MSSMNPEYDYLFKLLLIGDSGVGKSCLLLRFADDTYTESYISTIGVDFKIRTIELDGKTIKLQIWDTAGQERFRTITSSYYRGAHGIIVVYDVTDQESFNNVKQWLQEIDRYASENVNKLLVGNKCDLTTKKVVDYTTAKEFADSLGIPFLETSAKNATNVEQSFMTMAAEIKKRMGPGATAGGAEKSNVKIQSTPVKQSGGGCC', 'length': 205, 'molWeight': 22678, 'crc64': 'B2A8F4E3B0FB17D6', 'md5': '017EBB6A8C6A0E214E578332E756CAEC'}, 'extraAttributes': {'uniParcId': 'UPI0000001259'}}\n"
     ]
    },
    {
     "name": "stderr",
     "output_type": "stream",
     "text": [
      "Fetching sequences:  93%|█████████▎| 434/469 [03:19<00:15,  2.25it/s]"
     ]
    },
    {
     "name": "stdout",
     "output_type": "stream",
     "text": [
      "{'entryType': 'UniProtKB reviewed (Swiss-Prot)', 'primaryAccession': 'Q08AN1', 'proteinDescription': {'recommendedName': {'fullName': {'value': 'Zinc finger protein 616'}}}, 'genes': [{'geneName': {'value': 'ZNF616'}}], 'sequence': {'value': 'MATQGHLTFKDVAIEFSQEEWKCLEPVQKALYKDVMLENYRNLVFLGISPKCVIKELPPTENSNTGERFQTVALERHQSYDIENLYFREIQKHLHDLEFQWKDGETNDKEVPVPHENNLTGKRDQHSQGDVENNHIENQLTSNFESRLAELQKVQTEGRLYECNETEKTGNNGCLVSPHIREKTYVCNECGKAFKASSSLINHQRIHTTEKPYKCNECGKAFHRASLLTVHKVVHTRGKSYQCDVCGKIFRKNSYFVRHQRSHTGQKPYICNECGKSFSKSSHLAVHQRIHTGEKPYKCNLCGKSFSQRVHLRLHQTVHTGERPFKCNECGKTFKRSSNLTVHQVIHAGKKPYKCDVCGKAFRHRSNLVCHRRIHSGEKQYKCNECGKVFSKRSSLAVHRRIHTVEKPCKCNECGKVFSKRSSLAVHQRIHTGQKTYKCNKCGKVYSKHSHLAVHWRIHTGEKAYKCNECGKVFSIHSRLAAHQRIHTGEKPYKCNECGKVFSQHSRLAVHRRIHTGEKPYKCKECGKVFSDRSAFARHRRIHTGEKPYKCKECGKVFSQCSRLTVHRRIHSGEKPYKCNECGKVYSQYSHLVGHRRVHTGEKPYKCHECGKAFNQGSTLNRHQRIHTGEKPYKCNQCGNSFSQRVHLRLHQTVHTGDRPYKCNECGKTFKRSSNLTAHQIIHAGKKPYKCDECGKVFRHSSHLVSHQRIHTGEKRYKCIECGKAFGRLFSLSKHQRIHSGKKPYKCNECGKSFICRSGLTKHRIRHTGESLTTKLNVTRP', 'length': 781, 'molWeight': 90273, 'crc64': '487A86A65B70CE10', 'md5': '7C72553DEB8EA11D3B00A66443804941'}, 'extraAttributes': {'uniParcId': 'UPI0000140D49'}}\n"
     ]
    },
    {
     "name": "stderr",
     "output_type": "stream",
     "text": [
      "Fetching sequences:  93%|█████████▎| 435/469 [03:20<00:15,  2.26it/s]"
     ]
    },
    {
     "name": "stdout",
     "output_type": "stream",
     "text": [
      "{'entryType': 'UniProtKB reviewed (Swiss-Prot)', 'primaryAccession': 'P18669', 'proteinDescription': {'recommendedName': {'fullName': {'evidences': [{'evidenceCode': 'ECO:0000305'}], 'value': 'Phosphoglycerate mutase 1'}, 'ecNumbers': [{'evidences': [{'evidenceCode': 'ECO:0000269', 'source': 'PubMed', 'id': '23653202'}], 'value': '5.4.2.11'}, {'evidences': [{'evidenceCode': 'ECO:0000269', 'source': 'PubMed', 'id': '23653202'}], 'value': '5.4.2.4'}]}, 'alternativeNames': [{'fullName': {'value': 'BPG-dependent PGAM 1'}}, {'fullName': {'value': 'Phosphoglycerate mutase isozyme B'}, 'shortNames': [{'value': 'PGAM-B'}]}]}, 'genes': [{'geneName': {'evidences': [{'evidenceCode': 'ECO:0000312', 'source': 'HGNC', 'id': 'HGNC:8888'}], 'value': 'PGAM1'}, 'synonyms': [{'value': 'PGAMA'}], 'orfNames': [{'value': 'CDABP0006'}]}], 'sequence': {'value': 'MAAYKLVLIRHGESAWNLENRFSGWYDADLSPAGHEEAKRGGQALRDAGYEFDICFTSVQKRAIRTLWTVLDAIDQMWLPVVRTWRLNERHYGGLTGLNKAETAAKHGEAQVKIWRRSYDVPPPPMEPDHPFYSNISKDRRYADLTEDQLPSCESLKDTIARALPFWNEEIVPQIKEGKRVLIAAHGNSLRGIVKHLEGLSEEAIMELNLPTGIPIVYELDKNLKPIKPMQFLGDEETVRKAMEAVAAQGKAKK', 'length': 254, 'molWeight': 28804, 'crc64': '6DC0852BEBB22409', 'md5': 'B3870512958E565426E2AFABF5F857CE'}, 'extraAttributes': {'uniParcId': 'UPI000013E9FE'}}\n"
     ]
    },
    {
     "name": "stderr",
     "output_type": "stream",
     "text": [
      "Fetching sequences:  93%|█████████▎| 436/469 [03:20<00:14,  2.26it/s]"
     ]
    },
    {
     "name": "stdout",
     "output_type": "stream",
     "text": [
      "{'entryType': 'UniProtKB reviewed (Swiss-Prot)', 'primaryAccession': 'Q06830', 'proteinDescription': {'recommendedName': {'fullName': {'value': 'Peroxiredoxin-1'}, 'ecNumbers': [{'evidences': [{'evidenceCode': 'ECO:0000269', 'source': 'PubMed', 'id': '11986303'}, {'evidenceCode': 'ECO:0000269', 'source': 'PubMed', 'id': '9497357'}], 'value': '1.11.1.24'}]}, 'alternativeNames': [{'fullName': {'value': 'Natural killer cell-enhancing factor A'}, 'shortNames': [{'value': 'NKEF-A'}]}, {'fullName': {'value': 'Proliferation-associated gene protein'}, 'shortNames': [{'value': 'PAG'}]}, {'fullName': {'value': 'Thioredoxin peroxidase 2'}}, {'fullName': {'value': 'Thioredoxin-dependent peroxide reductase 2'}}, {'fullName': {'evidences': [{'evidenceCode': 'ECO:0000305'}], 'value': 'Thioredoxin-dependent peroxiredoxin 1'}}]}, 'genes': [{'geneName': {'value': 'PRDX1'}, 'synonyms': [{'value': 'PAGA'}, {'value': 'PAGB'}, {'value': 'TDPX2'}]}], 'sequence': {'value': 'MSSGNAKIGHPAPNFKATAVMPDGQFKDISLSDYKGKYVVFFFYPLDFTFVCPTEIIAFSDRAEEFKKLNCQVIGASVDSHFCHLAWVNTPKKQGGLGPMNIPLVSDPKRTIAQDYGVLKADEGISFRGLFIIDDKGILRQITVNDLPVGRSVDETLRLVQAFQFTDKHGEVCPAGWKPGSDTIKPDVQKSKEYFSKQK', 'length': 199, 'molWeight': 22110, 'crc64': '8F68E56D75BF5304', 'md5': '2BF3E3F2EE45796FB1D25609FD20002C'}, 'extraAttributes': {'uniParcId': 'UPI000002FC88'}}\n"
     ]
    },
    {
     "name": "stderr",
     "output_type": "stream",
     "text": [
      "Fetching sequences:  93%|█████████▎| 437/469 [03:21<00:14,  2.26it/s]"
     ]
    },
    {
     "name": "stdout",
     "output_type": "stream",
     "text": [
      "{'entryType': 'UniProtKB reviewed (Swiss-Prot)', 'primaryAccession': 'P45973', 'proteinDescription': {'recommendedName': {'fullName': {'value': 'Chromobox protein homolog 5'}}, 'alternativeNames': [{'fullName': {'value': 'Antigen p25'}}, {'fullName': {'value': 'Heterochromatin protein 1 homolog alpha'}, 'shortNames': [{'value': 'HP1 alpha'}]}]}, 'genes': [{'geneName': {'value': 'CBX5'}, 'synonyms': [{'value': 'HP1A'}]}], 'sequence': {'value': 'MGKKTKRTADSSSSEDEEEYVVEKVLDRRVVKGQVEYLLKWKGFSEEHNTWEPEKNLDCPELISEFMKKYKKMKEGENNKPREKSESNKRKSNFSNSADDIKSKKKREQSNDIARGFERGLEPEKIIGATDSCGDLMFLMKWKDTDEADLVLAKEANVKCPQIVIAFYEERLTWHAYPEDAENKEKETAKS', 'length': 191, 'molWeight': 22225, 'crc64': '16FFC476367093B1', 'md5': '54C128B4135582D57EE07B0AC0798BF7'}, 'extraAttributes': {'uniParcId': 'UPI00001271FC'}}\n"
     ]
    },
    {
     "name": "stderr",
     "output_type": "stream",
     "text": [
      "Fetching sequences:  93%|█████████▎| 438/469 [03:21<00:13,  2.27it/s]"
     ]
    },
    {
     "name": "stdout",
     "output_type": "stream",
     "text": [
      "{'entryType': 'UniProtKB reviewed (Swiss-Prot)', 'primaryAccession': 'Q08945', 'proteinDescription': {'recommendedName': {'fullName': {'value': 'FACT complex subunit SSRP1'}}, 'alternativeNames': [{'fullName': {'value': 'Chromatin-specific transcription elongation factor 80 kDa subunit'}}, {'fullName': {'value': 'Facilitates chromatin transcription complex 80 kDa subunit'}, 'shortNames': [{'value': 'FACT 80 kDa subunit'}, {'value': 'FACTp80'}]}, {'fullName': {'value': 'Facilitates chromatin transcription complex subunit SSRP1'}}, {'fullName': {'value': 'Recombination signal sequence recognition protein 1'}}, {'fullName': {'value': 'Structure-specific recognition protein 1'}, 'shortNames': [{'value': 'hSSRP1'}]}, {'fullName': {'value': 'T160'}}]}, 'genes': [{'geneName': {'value': 'SSRP1'}, 'synonyms': [{'value': 'FACT80'}]}], 'sequence': {'value': 'MAETLEFNDVYQEVKGSMNDGRLRLSRQGIIFKNSKTGKVDNIQAGELTEGIWRRVALGHGLKLLTKNGHVYKYDGFRESEFEKLSDFFKTHYRLELMEKDLCVKGWNWGTVKFGGQLLSFDIGDQPVFEIPLSNVSQCTTGKNEVTLEFHQNDDAEVSLMEVRFYVPPTQEDGVDPVEAFAQNVLSKADVIQATGDAICIFRELQCLTPRGRYDIRIYPTFLHLHGKTFDYKIPYTTVLRLFLLPHKDQRQMFFVISLDPPIKQGQTRYHFLILLFSKDEDISLTLNMNEEEVEKRFEGRLTKNMSGSLYEMVSRVMKALVNRKITVPGNFQGHSGAQCITCSYKASSGLLYPLERGFIYVHKPPVHIRFDEISFVNFARGTTTTRSFDFEIETKQGTQYTFSSIEREEYGKLFDFVNAKKLNIKNRGLKEGMNPSYDEYADSDEDQHDAYLERMKEEGKIREENANDSSDDSGEETDESFNPGEEEEDVAEEFDSNASASSSSNEGDSDRDEKKRKQLKKAKMAKDRKSRKKPVEVKKGKDPNAPKRPMSAYMLWLNASREKIKSDHPGISITDLSKKAGEIWKGMSKEKKEEWDRKAEDARRDYEKAMKEYEGGRGESSKRDKSKKKKKVKVKMEKKSTPSRGSSSKSSSRQLSESFKSKEFVSSDESSSGENKSKKKRRRSEDSEEEELASTPPSSEDSASGSDE', 'length': 709, 'molWeight': 81075, 'crc64': '4E7EE3735EB41082', 'md5': '8444CAA9A94B826FAD423399EED7DF0D'}, 'extraAttributes': {'uniParcId': 'UPI000013601D'}}\n"
     ]
    },
    {
     "name": "stderr",
     "output_type": "stream",
     "text": [
      "Fetching sequences:  94%|█████████▎| 439/469 [03:22<00:13,  2.28it/s]"
     ]
    },
    {
     "name": "stdout",
     "output_type": "stream",
     "text": [
      "{'entryType': 'UniProtKB reviewed (Swiss-Prot)', 'primaryAccession': 'Q92979', 'proteinDescription': {'recommendedName': {'fullName': {'evidences': [{'evidenceCode': 'ECO:0000305', 'source': 'PubMed', 'id': '20047967'}], 'value': 'Ribosomal RNA small subunit methyltransferase NEP1'}, 'ecNumbers': [{'evidences': [{'evidenceCode': 'ECO:0000269', 'source': 'PubMed', 'id': '20047967'}], 'value': '2.1.1.-'}]}, 'alternativeNames': [{'fullName': {'evidences': [{'evidenceCode': 'ECO:0000303', 'source': 'PubMed', 'id': '20047967'}], 'value': '18S rRNA (pseudouridine(1248)-N1)-methyltransferase'}}, {'fullName': {'evidences': [{'evidenceCode': 'ECO:0000303', 'source': 'PubMed', 'id': '20047967'}], 'value': '18S rRNA Psi1248 methyltransferase'}}, {'fullName': {'evidences': [{'evidenceCode': 'ECO:0000250', 'source': 'UniProtKB', 'id': 'Q06287'}], 'value': 'Nucleolar protein EMG1 homolog'}}, {'fullName': {'evidences': [{'evidenceCode': 'ECO:0000303', 'source': 'PubMed', 'id': '9074930'}], 'value': 'Protein C2f'}}, {'fullName': {'evidences': [{'evidenceCode': 'ECO:0000303', 'source': 'PubMed', 'id': '20047967'}], 'value': 'Ribosome biogenesis protein NEP1'}}]}, 'genes': [{'geneName': {'evidences': [{'evidenceCode': 'ECO:0000303', 'source': 'PubMed', 'id': '19463982'}], 'value': 'EMG1'}, 'synonyms': [{'evidences': [{'evidenceCode': 'ECO:0000303', 'source': 'PubMed', 'id': '9074930'}], 'value': 'C2F'}]}], 'sequence': {'value': 'MAAPSDGFKPRERSGGEQAQDWDALPPKRPRLGAGNKIGGRRLIVVLEGASLETVKVGKTYELLNCDKHKSILLKNGRDPGEARPDITHQSLLMLMDSPLNRAGLLQVYIHTQKNVLIEVNPQTRIPRTFDRFCGLMVQLLHKLSVRAADGPQKLLKVIKNPVSDHFPVGCMKVGTSFSIPVVSDVRELVPSSDPIVFVVGAFAHGKVSVEYTEKMVSISNYPLSAALTCAKLTTAFEEVWGVI', 'length': 244, 'molWeight': 26720, 'crc64': '922F6CF49B4EFD11', 'md5': '19EC444884117220551C3EB542D350E4'}, 'extraAttributes': {'uniParcId': 'UPI000012FF36'}}\n"
     ]
    },
    {
     "name": "stderr",
     "output_type": "stream",
     "text": [
      "Fetching sequences:  94%|█████████▍| 440/469 [03:22<00:12,  2.29it/s]"
     ]
    },
    {
     "name": "stdout",
     "output_type": "stream",
     "text": [
      "{'entryType': 'UniProtKB reviewed (Swiss-Prot)', 'primaryAccession': 'P26599', 'proteinDescription': {'recommendedName': {'fullName': {'value': 'Polypyrimidine tract-binding protein 1'}, 'shortNames': [{'value': 'PTB'}]}, 'alternativeNames': [{'fullName': {'value': '57 kDa RNA-binding protein PPTB-1'}}, {'fullName': {'value': 'Heterogeneous nuclear ribonucleoprotein I'}, 'shortNames': [{'value': 'hnRNP I'}]}]}, 'genes': [{'geneName': {'value': 'PTBP1'}, 'synonyms': [{'value': 'PTB'}]}], 'sequence': {'value': 'MDGIVPDIAVGTKRGSDELFSTCVTNGPFIMSSNSASAANGNDSKKFKGDSRSAGVPSRVIHIRKLPIDVTEGEVISLGLPFGKVTNLLMLKGKNQAFIEMNTEEAANTMVNYYTSVTPVLRGQPIYIQFSNHKELKTDSSPNQARAQAALQAVNSVQSGNLALAASAAAVDAGMAMAGQSPVLRIIVENLFYPVTLDVLHQIFSKFGTVLKIITFTKNNQFQALLQYADPVSAQHAKLSLDGQNIYNACCTLRIDFSKLTSLNVKYNNDKSRDYTRPDLPSGDSQPSLDQTMAAAFGAPGIISASPYAGAGFPPTFAIPQAAGLSVPNVHGALAPLAIPSAAAAAAAAGRIAIPGLAGAGNSVLLVSNLNPERVTPQSLFILFGVYGDVQRVKILFNKKENALVQMADGNQAQLAMSHLNGHKLHGKPIRITLSKHQNVQLPREGQEDQGLTKDYGNSPLHRFKKPGSKNFQNIFPPSATLHLSNIPPSVSEEDLKVLFSSNGGVVKGFKFFQKDRKMALIQMGSVEEAVQALIDLHNHDLGENHHLRVSFSKSTI', 'length': 557, 'molWeight': 59633, 'crc64': 'DAFE52BAC0E4BE5C', 'md5': '92558B39181BD545229FD0873E489BBE'}, 'extraAttributes': {'uniParcId': 'UPI00000720B7'}}\n"
     ]
    },
    {
     "name": "stderr",
     "output_type": "stream",
     "text": [
      "Fetching sequences:  94%|█████████▍| 441/469 [03:22<00:12,  2.26it/s]"
     ]
    },
    {
     "name": "stdout",
     "output_type": "stream",
     "text": [
      "{'entryType': 'UniProtKB reviewed (Swiss-Prot)', 'primaryAccession': 'P23528', 'proteinDescription': {'recommendedName': {'fullName': {'value': 'Cofilin-1'}}, 'alternativeNames': [{'fullName': {'value': '18 kDa phosphoprotein'}, 'shortNames': [{'value': 'p18'}]}, {'fullName': {'value': 'Cofilin, non-muscle isoform'}}]}, 'genes': [{'geneName': {'value': 'CFL1'}, 'synonyms': [{'value': 'CFL'}]}], 'sequence': {'value': 'MASGVAVSDGVIKVFNDMKVRKSSTPEEVKKRKKAVLFCLSEDKKNIILEEGKEILVGDVGQTVDDPYATFVKMLPDKDCRYALYDATYETKESKKEDLVFIFWAPESAPLKSKMIYASSKDAIKKKLTGIKHELQANCYEEVKDRCTLAEKLGGSAVISLEGKPL', 'length': 166, 'molWeight': 18502, 'crc64': '589EF8FC1EC13719', 'md5': '8EA3DD063BC698CAF5C14240C7EB72ED'}, 'extraAttributes': {'uniParcId': 'UPI0000127E2C'}}\n"
     ]
    },
    {
     "name": "stderr",
     "output_type": "stream",
     "text": [
      "Fetching sequences:  94%|█████████▍| 442/469 [03:23<00:12,  2.25it/s]"
     ]
    },
    {
     "name": "stdout",
     "output_type": "stream",
     "text": [
      "{'entryType': 'UniProtKB reviewed (Swiss-Prot)', 'primaryAccession': 'Q96GD4', 'proteinDescription': {'recommendedName': {'fullName': {'evidences': [{'evidenceCode': 'ECO:0000303', 'source': 'PubMed', 'id': '33542149'}], 'value': 'Aurora kinase B'}, 'ecNumbers': [{'evidences': [{'evidenceCode': 'ECO:0000269', 'source': 'PubMed', 'id': '11784863'}, {'evidenceCode': 'ECO:0000269', 'source': 'PubMed', 'id': '11856369'}, {'evidenceCode': 'ECO:0000269', 'source': 'PubMed', 'id': '14722118'}, {'evidenceCode': 'ECO:0000269', 'source': 'PubMed', 'id': '25666058'}, {'evidenceCode': 'ECO:0000269', 'source': 'PubMed', 'id': '26829474'}, {'evidenceCode': 'ECO:0000269', 'source': 'PubMed', 'id': '33542149'}], 'value': '2.7.11.1'}]}, 'alternativeNames': [{'fullName': {'value': 'Aurora 1'}}, {'fullName': {'evidences': [{'evidenceCode': 'ECO:0000303', 'source': 'PubMed', 'id': '9809983'}], 'value': 'Aurora- and IPL1-like midbody-associated protein 1'}, 'shortNames': [{'evidences': [{'evidenceCode': 'ECO:0000303', 'source': 'PubMed', 'id': '9809983'}], 'value': 'AIM-1'}]}, {'fullName': {'evidences': [{'evidenceCode': 'ECO:0000303', 'source': 'PubMed', 'id': '9514916'}], 'value': 'Aurora/IPL1-related kinase 2'}, 'shortNames': [{'evidences': [{'evidenceCode': 'ECO:0000303', 'source': 'PubMed', 'id': '9514916'}], 'value': 'ARK-2'}, {'value': 'Aurora-related kinase 2'}]}, {'fullName': {'value': 'STK-1'}}, {'fullName': {'evidences': [{'evidenceCode': 'ECO:0000303', 'source': 'PubMed', 'id': '9858806'}], 'value': 'Serine/threonine-protein kinase 12'}}, {'fullName': {'value': 'Serine/threonine-protein kinase 5'}}, {'fullName': {'evidences': [{'evidenceCode': 'ECO:0000305'}], 'value': 'Serine/threonine-protein kinase aurora-B'}}]}, 'genes': [{'geneName': {'value': 'AURKB'}, 'synonyms': [{'evidences': [{'evidenceCode': 'ECO:0000303', 'source': 'PubMed', 'id': '9858806'}], 'value': 'AIK2'}, {'evidences': [{'evidenceCode': 'ECO:0000303', 'source': 'PubMed', 'id': '9809983'}], 'value': 'AIM1'}, {'value': 'AIRK2'}, {'evidences': [{'evidenceCode': 'ECO:0000303', 'source': 'PubMed', 'id': '9514916'}], 'value': 'ARK2'}, {'value': 'STK1'}, {'evidences': [{'evidenceCode': 'ECO:0000303', 'source': 'PubMed', 'id': '9858806'}], 'value': 'STK12'}, {'value': 'STK5'}]}], 'sequence': {'value': 'MAQKENSYPWPYGRQTAPSGLSTLPQRVLRKEPVTPSALVLMSRSNVQPTAAPGQKVMENSSGTPDILTRHFTIDDFEIGRPLGKGKFGNVYLAREKKSHFIVALKVLFKSQIEKEGVEHQLRREIEIQAHLHHPNILRLYNYFYDRRRIYLILEYAPRGELYKELQKSCTFDEQRTATIMEELADALMYCHGKKVIHRDIKPENLLLGLKGELKIADFGWSVHAPSLRRKTMCGTLDYLPPEMIEGRMHNEKVDLWCIGVLCYELLVGNPPFESASHNETYRRIVKVDLKFPASVPMGAQDLISKLLRHNPSERLPLAQVSAHPWVRANSRRVLPPSALQSVA', 'length': 344, 'molWeight': 39311, 'crc64': 'A5ED13EF5A1FAFBF', 'md5': 'A2092D9052D9794255E32E8E525FF988'}, 'extraAttributes': {'uniParcId': 'UPI000013FD00'}}\n"
     ]
    },
    {
     "name": "stderr",
     "output_type": "stream",
     "text": [
      "Fetching sequences:  94%|█████████▍| 443/469 [03:23<00:11,  2.26it/s]"
     ]
    },
    {
     "name": "stdout",
     "output_type": "stream",
     "text": [
      "{'entryType': 'UniProtKB reviewed (Swiss-Prot)', 'primaryAccession': 'Q9Y2W1', 'proteinDescription': {'recommendedName': {'fullName': {'value': 'Thyroid hormone receptor-associated protein 3'}}, 'alternativeNames': [{'fullName': {'evidences': [{'evidenceCode': 'ECO:0000312', 'source': 'HGNC', 'id': 'HGNC:22964'}], 'value': 'BCLAF1 and THRAP3 family member 2'}}, {'fullName': {'value': 'Thyroid hormone receptor-associated protein complex 150 kDa component'}, 'shortNames': [{'value': 'Trap150'}]}]}, 'genes': [{'geneName': {'evidences': [{'evidenceCode': 'ECO:0000312', 'source': 'HGNC', 'id': 'HGNC:22964'}], 'value': 'THRAP3'}, 'synonyms': [{'evidences': [{'evidenceCode': 'ECO:0000312', 'source': 'HGNC', 'id': 'HGNC:22964'}], 'value': 'BCLAF2'}, {'value': 'TRAP150'}]}], 'sequence': {'value': 'MSKTNKSKSGSRSSRSRSASRSRSRSFSKSRSRSRSLSRSRKRRLSSRSRSRSYSPAHNRERNHPRVYQNRDFRGHNRGYRRPYYFRGRNRGFYPWGQYNRGGYGNYRSNWQNYRQAYSPRRGRSRSRSPKRRSPSPRSRSHSRNSDKSSSDRSRRSSSSRSSSNHSRVESSKRKSAKEKKSSSKDSRPSQAAGDNQGDEAKEQTFSGGTSQDTKASESSKPWPDATYGTGSASRASAVSELSPRERSPALKSPLQSVVVRRRSPRPSPVPKPSPPLSSTSQMGSTLPSGAGYQSGTHQGQFDHGSGSLSPSKKSPVGKSPPSTGSTYGSSQKEESAASGGAAYTKRYLEEQKTENGKDKEQKQTNTDKEKIKEKGSFSDTGLGDGKMKSDSFAPKTDSEKPFRGSQSPKRYKLRDDFEKKMADFHKEEMDDQDKDKAKGRKESEFDDEPKFMSKVIGANKNQEEEKSGKWEGLVYAPPGKEKQRKTEELEEESFPERSKKEDRGKRSEGGHRGFVPEKNFRVTAYKAVQEKSSSPPPRKTSESRDKLGAKGDFPTGKSSFSITREAQVNVRMDSFDEDLARPSGLLAQERKLCRDLVHSNKKEQEFRSIFQHIQSAQSQRSPSELFAQHIVTIVHHVKEHHFGSSGMTLHERFTKYLKRGTEQEAAKNKKSPEIHRRIDISPSTFRKHGLAHDEMKSPREPGYKAEGKYKDDPVDLRLDIERRKKHKERDLKRGKSRESVDSRDSSHSRERSAEKTEKTHKGSKKQKKHRRARDRSRSSSSSSQSSHSYKAEEYTEETEEREESTTGFDKSRLGTKDFVGPSERGGGRARGTFQFRARGRGWGRGNYSGNNNNNSNNDFQKRNREEEWDPEYTPKSKKYYLHDDREGEGSDKWVSRGRGRGAFPRGRGRFMFRKSSTSPKWAHDKFSGEEGEIEDDESGTENREEKDNIQPTTE', 'length': 955, 'molWeight': 108666, 'crc64': '01131D2479B8C0F4', 'md5': '362E54332494A2D4F63C03930512FF10'}, 'extraAttributes': {'uniParcId': 'UPI0000203F28'}}\n"
     ]
    },
    {
     "name": "stderr",
     "output_type": "stream",
     "text": [
      "Fetching sequences:  95%|█████████▍| 444/469 [03:24<00:11,  2.27it/s]"
     ]
    },
    {
     "name": "stdout",
     "output_type": "stream",
     "text": [
      "{'entryType': 'UniProtKB reviewed (Swiss-Prot)', 'primaryAccession': 'Q15102', 'proteinDescription': {'recommendedName': {'fullName': {'evidences': [{'evidenceCode': 'ECO:0000305'}], 'value': 'Platelet-activating factor acetylhydrolase IB subunit alpha1'}, 'ecNumbers': [{'evidences': [{'evidenceCode': 'ECO:0000250', 'source': 'UniProtKB', 'id': 'Q29460'}], 'value': '3.1.1.47'}]}, 'alternativeNames': [{'fullName': {'value': 'PAF acetylhydrolase 29 kDa subunit'}, 'shortNames': [{'value': 'PAF-AH 29 kDa subunit'}]}, {'fullName': {'value': 'PAF-AH subunit gamma'}, 'shortNames': [{'value': 'PAFAH subunit gamma'}]}]}, 'genes': [{'geneName': {'evidences': [{'evidenceCode': 'ECO:0000312', 'source': 'HGNC', 'id': 'HGNC:8576'}], 'value': 'PAFAH1B3'}, 'synonyms': [{'value': 'PAFAHG'}]}], 'sequence': {'value': 'MSGEENPASKPTPVQDVQGDGRWMSLHHRFVADSKDKEPEVVFIGDSLVQLMHQCEIWRELFSPLHALNFGIGGDGTQHVLWRLENGELEHIRPKIVVVWVGTNNHGHTAEQVTGGIKAIVQLVNERQPQARVVVLGLLPRGQHPNPLREKNRQVNELVRAALAGHPRAHFLDADPGFVHSDGTISHHDMYDYLHLSRLGYTPVCRALHSLLLRLLAQDQGQGAPLLEPAP', 'length': 231, 'molWeight': 25734, 'crc64': '58A4CB8E7076AE23', 'md5': '9EBAB8F3311B0BDB1D7921527CAEC683'}, 'extraAttributes': {'uniParcId': 'UPI0000131074'}}\n"
     ]
    },
    {
     "name": "stderr",
     "output_type": "stream",
     "text": [
      "Fetching sequences:  95%|█████████▍| 445/469 [03:24<00:10,  2.27it/s]"
     ]
    },
    {
     "name": "stdout",
     "output_type": "stream",
     "text": [
      "{'entryType': 'UniProtKB reviewed (Swiss-Prot)', 'primaryAccession': 'Q9UQ35', 'proteinDescription': {'recommendedName': {'fullName': {'value': 'Serine/arginine repetitive matrix protein 2'}}, 'alternativeNames': [{'fullName': {'value': '300 kDa nuclear matrix antigen'}}, {'fullName': {'value': 'Serine/arginine-rich splicing factor-related nuclear matrix protein of 300 kDa'}, 'shortNames': [{'value': 'SR-related nuclear matrix protein of 300 kDa'}, {'value': 'Ser/Arg-related nuclear matrix protein of 300 kDa'}]}, {'fullName': {'value': 'Splicing coactivator subunit SRm300'}}, {'fullName': {'value': 'Tax-responsive enhancer element-binding protein 803'}, 'shortNames': [{'value': 'TaxREB803'}]}]}, 'genes': [{'geneName': {'value': 'SRRM2'}, 'synonyms': [{'value': 'KIAA0324'}, {'value': 'SRL300'}, {'value': 'SRM300'}], 'orfNames': [{'value': 'HSPC075'}]}], 'sequence': {'value': 'MYNGIGLPTPRGSGTNGYVQRNLSLVRGRRGERPDYKGEEELRRLEAALVKRPNPDILDHERKRRVELRCLELEEMMEEQGYEEQQIQEKVATFRLMLLEKDVNPGGKEETPGQRPAVTETHQLAELNEKKNERLRAAFGISDSYVDGSSFDPQRRAREAKQPAPEPPKPYSLVRESSSSRSPTPKQKKKKKKKDRGRRSESSSPRRERKKSSKKKKHRSESESKKRKHRSPTPKSKRKSKDKKRKRSRSTTPAPKSRRAHRSTSADSASSSDTSRSRSRSAAAKTHTTALAGRSPSPASGRRGEGDAPFSEPGTTSTQRPSSPETATKQPSSPYEDKDKDKKEKSATRPSPSPERSSTGPEPPAPTPLLAERHGGSPQPLATTPLSQEPVNPPSEASPTRDRSPPKSPEKLPQSSSSESSPPSPQPTKVSRHASSSPESPKPAPAPGSHREISSSPTSKNRSHGRAKRDKSHSHTPSRRMGRSRSPATAKRGRSRSRTPTKRGHSRSRSPQWRRSRSAQRWGRSRSPQRRGRSRSPQRPGWSRSRNTQRRGRSRSARRGRSHSRSPATRGRSRSRTPARRGRSRSRTPARRRSRSRTPTRRRSRSRTPARRGRSRSRTPARRRSRTRSPVRRRSRSRSPARRSGRSRSRTPARRGRSRSRTPARRGRSRSRTPARRSGRSRSRTPARRGRSRSRTPRRGRSRSRSLVRRGRSHSRTPQRRGRSGSSSERKNKSRTSQRRSRSNSSPEMKKSRISSRRSRSLSSPRSKAKSRLSLRRSLSGSSPCPKQKSQTPPRRSRSGSSQPKAKSRTPPRRSRSSSSPPPKQKSKTPSRQSHSSSSPHPKVKSGTPPRQGSITSPQANEQSVTPQRRSCFESSPDPELKSRTPSRHSCSGSSPPRVKSSTPPRQSPSRSSSPQPKVKAIISPRQRSHSGSSSPSPSRVTSRTTPRRSRSVSPCSNVESRLLPRYSHSGSSSPDTKVKPETPPRQSHSGSISPYPKVKAQTPPGPSLSGSKSPCPQEKSKDSLVQSCPGSLSLCAGVKSSTPPGESYFGVSSLQLKGQSQTSPDHRSDTSSPEVRQSHSESPSLQSKSQTSPKGGRSRSSSPVTELASRSPIRQDRGEFSASPMLKSGMSPEQSRFQSDSSSYPTVDSNSLLGQSRLETAESKEKMALPPQEDATASPPRQKDKFSPFPVQDRPESSLVFKDTLRTPPRERSGAGSSPETKEQNSALPTSSQDEELMEVVEKSEEPAGQILSHLSSELKEMSTSNFESSPEVEERPAVSLTLDQSQSQASLEAVEVPSMASSWGGPHFSPEHKELSNSPLRENSFGSPLEFRNSGPLGTEMNTGFSSEVKEDLNGPFLNQLETDPSLDMKEQSTRSSGHSSSELSPDAVEKAGMSSNQSISSPVLDAVPRTPSRERSSSASSPEMKDGLPRTPSRRSRSGSSPGLRDGSGTPSRHSLSGSSPGMKDIPRTPSRGRSECDSSPEPKALPQTPRPRSRSPSSPELNNKCLTPQRERSGSESSVDQKTVARTPLGQRSRSGSSQELDVKPSASPQERSESDSSPDSKAKTRTPLRQRSRSGSSPEVDSKSRLSPRRSRSGSSPEVKDKPRAAPRAQSGSDSSPEPKAPAPRALPRRSRSGSSSKGRGPSPEGSSSTESSPEHPPKSRTARRGSRSSPEPKTKSRTPPRRRSSRSSPELTRKARLSRRSRSASSSPETRSRTPPRHRRSPSVSSPEPAEKSRSSRRRRSASSPRTKTTSRRGRSPSPKPRGLQRSRSRSRREKTRTTRRRDRSGSSQSTSRRRQRSRSRSRVTRRRRGGSGYHSRSPARQESSRTSSRRRRGRSRTPPTSRKRSRSRTSPAPWKRSRSRASPATHRRSRSRTPLISRRRSRSRTSPVSRRRSRSRTSVTRRRSRSRASPVSRRRSRSRTPPVTRRRSRSRTPTTRRRSRSRTPPVTRRRSRSRTPPVTRRRSRSRTSPITRRRSRSRTSPVTRRRSRSRTSPVTRRRSRSRTSPVTRRRSRSRTPPAIRRRSRSRTPLLPRKRSRSRSPLAIRRRSRSRTPRTARGKRSLTRSPPAIRRRSASGSSSDRSRSATPPATRNHSGSRTPPVALNSSRMSCFSRPSMSPTPLDRCRSPGMLEPLGSSRTPMSVLQQAGGSMMDGPGPRIPDHQRTSVPENHAQSRIALALTAISLGTARPPPSMSAAGLAARMSQVPAPVPLMSLRTAPAANLASRIPAASAAAMNLASARTPAIPTAVNLADSRTPAAAAAMNLASPRTAVAPSAVNLADPRTPTAPAVNLAGARTPAALAALSLTGSGTPPTAANYPSSSRTPQAPASANLVGPRSAHATAPVNIAGSRTAAALAPASLTSARMAPALSGANLTSPRVPLSAYERVSGRTSPPLLDRARSRTPPSAPSQSRMTSERAPSPSSRMGQAPSQSLLPPAQDQPRSPVPSAFSDQSRCLIAQTTPVAGSQSLSSGAVATTTSSAGDHNGMLSVPAPGVPHSDVGEPPASTGAQQPSALAALQPAKERRSSSSSSSSSSSSSSSSSSSSSSSSSGSSSSDSEGSSLPVQPEVALKRVPSPTPAPKEAVREGRPPEPTPAKRKRRSSSSSSSSSSSSSSSSSSSSSSSSSSSSSSSSSSSSSSSSSSPSPAKPGPQALPKPASPKKPPPGERRSRSPRKPIDSLRDSRSLSYSPVERRRPSPQPSPRDQQSSSSERGSRRGQRGDSRSPSHKRRRETPSPRPMRHRSSRSP', 'length': 2752, 'molWeight': 299615, 'crc64': '7A5DCEB9B50AA912', 'md5': 'DCC752F8485B6EFDA37D5DBBA52633A2'}, 'extraAttributes': {'uniParcId': 'UPI000049DDFC'}}\n"
     ]
    },
    {
     "name": "stderr",
     "output_type": "stream",
     "text": [
      "Fetching sequences:  95%|█████████▌| 446/469 [03:25<00:10,  2.27it/s]"
     ]
    },
    {
     "name": "stdout",
     "output_type": "stream",
     "text": [
      "{'entryType': 'UniProtKB reviewed (Swiss-Prot)', 'primaryAccession': 'Q9BVI4', 'proteinDescription': {'recommendedName': {'fullName': {'value': 'Nucleolar complex protein 4 homolog'}, 'shortNames': [{'value': 'NOC4 protein homolog'}]}, 'alternativeNames': [{'fullName': {'value': 'NOC4-like protein'}}, {'fullName': {'value': 'Nucleolar complex-associated protein 4-like protein'}}]}, 'genes': [{'geneName': {'value': 'NOC4L'}}], 'sequence': {'value': 'MEREPGAAGVRRALGRRLEAVLASRSEANAVFDILAVLQSEDQEEIQEAVRTCSRLFGALLERGELFVGQLPSEEMVMTGSQGATRKYKVWMRHRYHSCCNRLGELLGHPSFQVKELALSALLKFVQLEGAHPLEKSKWEGNYLFPRELFKLVVGGLLSPEEDQSLLLSQFREYLDYDDTRYHTMQAAVDAVARVTGQHPEVPPAFWNNAFTLLSAVSLPRREPTVSSFYVKRAELWDTWKVAHLKEHRRVFQAMWLSFLKHKLPLSLYKKVLLIVHDAILPQLAQPTLMIDFLTRACDLGGALSLLALNGLFILIHKHNLEYPDFYRKLYGLLDPSVFHVKYRARFFHLADLFLSSSHLPAYLVAAFAKRLARLALTAPPEALLMVLPFICNLLRRHPACRVLVHRPHGPELDADPYDPGEEDPAQSRALESSLWELQALQRHYHPEVSKAASVINQALSMPEVSIAPLLELTAYEIFERDLKKKGPEPVPLEFIPAQGLLGRPGELCAQHFTLS', 'length': 516, 'molWeight': 58468, 'crc64': '656D835CB4207DF8', 'md5': '3BBAED615B732411F705CE463002FA99'}, 'extraAttributes': {'uniParcId': 'UPI00000723C4'}}\n"
     ]
    },
    {
     "name": "stderr",
     "output_type": "stream",
     "text": [
      "Fetching sequences:  95%|█████████▌| 447/469 [03:25<00:09,  2.28it/s]"
     ]
    },
    {
     "name": "stdout",
     "output_type": "stream",
     "text": [
      "{'entryType': 'UniProtKB reviewed (Swiss-Prot)', 'primaryAccession': 'P15121', 'proteinDescription': {'recommendedName': {'fullName': {'value': 'Aldo-keto reductase family 1 member B1'}, 'ecNumbers': [{'evidences': [{'evidenceCode': 'ECO:0000269', 'source': 'PubMed', 'id': '8245005'}], 'value': '1.1.1.21'}, {'evidences': [{'evidenceCode': 'ECO:0000269', 'source': 'PubMed', 'id': '12732097'}], 'value': '1.1.1.300'}, {'evidences': [{'evidenceCode': 'ECO:0000269', 'source': 'PubMed', 'id': '10510318'}, {'evidenceCode': 'ECO:0000269', 'source': 'PubMed', 'id': '12732097'}, {'evidenceCode': 'ECO:0000269', 'source': 'PubMed', 'id': '8245005'}], 'value': '1.1.1.372'}, {'evidences': [{'evidenceCode': 'ECO:0000269', 'source': 'PubMed', 'id': '10510318'}, {'evidenceCode': 'ECO:0000269', 'source': 'PubMed', 'id': '21329684'}], 'value': '1.1.1.54'}]}, 'alternativeNames': [{'fullName': {'value': 'Aldehyde reductase'}}, {'fullName': {'value': 'Aldose reductase'}, 'shortNames': [{'value': 'AR'}]}]}, 'genes': [{'geneName': {'value': 'AKR1B1'}, 'synonyms': [{'value': 'ALDR1'}, {'evidences': [{'evidenceCode': 'ECO:0000303', 'source': 'PubMed', 'id': '17368668'}], 'value': 'ALR2'}]}], 'sequence': {'value': 'MASRLLLNNGAKMPILGLGTWKSPPGQVTEAVKVAIDVGYRHIDCAHVYQNENEVGVAIQEKLREQVVKREELFIVSKLWCTYHEKGLVKGACQKTLSDLKLDYLDLYLIHWPTGFKPGKEFFPLDESGNVVPSDTNILDTWAAMEELVDEGLVKAIGISNFNHLQVEMILNKPGLKYKPAVNQIECHPYLTQEKLIQYCQSKGIVVTAYSPLGSPDRPWAKPEDPSLLEDPRIKAIAAKHNKTTAQVLIRFPMQRNLVVIPKSVTPERIAENFKVFDFELSSQDMTTLLSYNRNWRVCALLSCTSHKDYPFHEEF', 'length': 316, 'molWeight': 35853, 'crc64': '1852E8616B5DCEAE', 'md5': 'B9CB1C8F66B09E25B16B9059983374E3'}, 'extraAttributes': {'uniParcId': 'UPI000000D78E'}}\n"
     ]
    },
    {
     "name": "stderr",
     "output_type": "stream",
     "text": [
      "Fetching sequences:  96%|█████████▌| 448/469 [03:26<00:09,  2.25it/s]"
     ]
    },
    {
     "name": "stdout",
     "output_type": "stream",
     "text": [
      "{'entryType': 'UniProtKB reviewed (Swiss-Prot)', 'primaryAccession': 'Q13435', 'proteinDescription': {'recommendedName': {'fullName': {'value': 'Splicing factor 3B subunit 2'}}, 'alternativeNames': [{'fullName': {'value': 'Pre-mRNA-splicing factor SF3b 145 kDa subunit'}, 'shortNames': [{'value': 'SF3b145'}]}, {'fullName': {'value': 'Spliceosome-associated protein 145'}, 'shortNames': [{'value': 'SAP 145'}]}]}, 'genes': [{'geneName': {'value': 'SF3B2'}, 'synonyms': [{'value': 'SAP145'}]}], 'sequence': {'value': 'MATEHPEPPKAELQLPPPPPPGHYGAWAAQELQAKLAEIGAPIQGNREELVERLQSYTRQTGIVLNRPVLRGEDGDKAAPPPMSAQLPGIPMPPPPLGLPPLQPPPPPPPPPPGLGLGFPMAHPPNLGPPPPLRVGEPVALSEEERLKLAQQQAALLMQQEERAKQQGDHSLKEHELLEQQKRAAVLLEQERQQEIAKMGTPVPRPPQDMGQIGVRTPLGPRVAAPVGPVGPTPTVLPMGAPVPRPRGPPPPPGDENREMDDPSVGPKIPQALEKILQLKESRQEEMNSQQEEEEMETDARSSLGQSASETEEDTVSVSKKEKNRKRRNRKKKKKPQRVRGVSSESSGDREKDSTRSRGSDSPAADVEIEYVTEEPEIYEPNFIFFKRIFEAFKLTDDVKKEKEKEPEKLDKLENSAAPKKKGFEEEHKDSDDDSSDDEQEKKPEAPKLSKKKLRRMNRFTVAELKQLVARPDVVEMHDVTAQDPKLLVHLKATRNSVPVPRHWCFKRKYLQGKRGIEKPPFELPDFIKRTGIQEMREALQEKEEQKTMKSKMREKVRPKMGKIDIDYQKLHDAFFKWQTKPKLTIHGDLYYEGKEFETRLKEKKPGDLSDELRISLGMPVGPNAHKVPPPWLIAMQRYGPPPSYPNLKIPGLNSPIPESCSFGYHAGGWGKPPVDETGKPLYGDVFGTNAAEFQTKTEEEEIDRTPWGELEPSDEESSEEEEEEESDEDKPDETGFITPADSGLITPGGFSSVPAGMETPELIELRKKKIEEAMDGSETPQLFTVLPEKRTATVGGAMMGSTHIYDMSTVMSRKGPAPELQGVEVALAPEELELDPMAMTQKYEEHVREQQAQVEKEDFSDMVAEHAAKQKQKKRKAQPQDSRGGSKKYKEFKF', 'length': 895, 'molWeight': 100228, 'crc64': 'D372AFA679443AD6', 'md5': 'FAFD33BFC204D787C6DF4ACBA8CE8544'}, 'extraAttributes': {'uniParcId': 'UPI00001C1F20'}}\n"
     ]
    },
    {
     "name": "stderr",
     "output_type": "stream",
     "text": [
      "Fetching sequences:  96%|█████████▌| 449/469 [03:26<00:08,  2.26it/s]"
     ]
    },
    {
     "name": "stdout",
     "output_type": "stream",
     "text": [
      "{'entryType': 'UniProtKB reviewed (Swiss-Prot)', 'primaryAccession': 'P25205', 'proteinDescription': {'recommendedName': {'fullName': {'evidences': [{'evidenceCode': 'ECO:0000305'}], 'value': 'DNA replication licensing factor MCM3'}, 'ecNumbers': [{'evidences': [{'evidenceCode': 'ECO:0000269', 'source': 'PubMed', 'id': '32453425'}], 'value': '3.6.4.12'}]}, 'alternativeNames': [{'fullName': {'value': 'DNA polymerase alpha holoenzyme-associated protein P1'}}, {'fullName': {'value': 'P1-MCM3'}}, {'fullName': {'value': 'RLF subunit beta'}}, {'fullName': {'value': 'p102'}}]}, 'genes': [{'geneName': {'evidences': [{'evidenceCode': 'ECO:0000312', 'source': 'HGNC', 'id': 'HGNC:6945'}], 'value': 'MCM3'}}], 'sequence': {'value': 'MAGTVVLDDVELREAQRDYLDFLDDEEDQGIYQSKVRELISDNQYRLIVNVNDLRRKNEKRANRLLNNAFEELVAFQRALKDFVASIDATYAKQYEEFYVGLEGSFGSKHVSPRTLTSCFLSCVVCVEGIVTKCSLVRPKVVRSVHYCPATKKTIERRYSDLTTLVAFPSSSVYPTKDEENNPLETEYGLSVYKDHQTITIQEMPEKAPAGQLPRSVDVILDDDLVDKAKPGDRVQVVGTYRCLPGKKGGYTSGTFRTVLIACNVKQMSKDAQPSFSAEDIAKIKKFSKTRSKDIFDQLAKSLAPSIHGHDYVKKAILCLLLGGVERDLENGSHIRGDINILLIGDPSVAKSQLLRYVLCTAPRAIPTTGRGSSGVGLTAAVTTDQETGERRLEAGAMVLADRGVVCIDEFDKMSDMDRTAIHEVMEQGRVTIAKAGIHARLNARCSVLAAANPVYGRYDQYKTPMENIGLQDSLLSRFDLLFIMLDQMDPEQDREISDHVLRMHRYRAPGEQDGDAMPLGSAVDILATDDPNFSQEDQQDTQIYEKHDNLLHGTKKKKEKMVSAAFMKKYIHVAKIIKPVLTQESATYIAEEYSRLRSQDSMSSDTARTSPVTARTLETLIRLATAHAKARMSKTVDLQDAEEAVELVQYAYFKKVLEKEKKRKKRSEDESETEDEEEKSQEDQEQKRKRRKTRQPDAKDGDSYDPYDFSDTEEEMPQVHTPKTADSQETKESQKVELSESRLKAFKVALLDVFREAHAQSIGMNRLTESINRDSEEPFSSVEIQAALSKMQDDNQVMVSEGIIFLI', 'length': 808, 'molWeight': 90981, 'crc64': 'C967C068B7090558', 'md5': '2E7950A61FA2BC6B54DD920C4CD5B13E'}, 'extraAttributes': {'uniParcId': 'UPI000012ED97'}}\n"
     ]
    },
    {
     "name": "stderr",
     "output_type": "stream",
     "text": [
      "Fetching sequences:  96%|█████████▌| 450/469 [03:26<00:08,  2.27it/s]"
     ]
    },
    {
     "name": "stdout",
     "output_type": "stream",
     "text": [
      "{'entryType': 'UniProtKB reviewed (Swiss-Prot)', 'primaryAccession': 'P68104', 'proteinDescription': {'recommendedName': {'fullName': {'value': 'Elongation factor 1-alpha 1'}, 'shortNames': [{'value': 'EF-1-alpha-1'}], 'ecNumbers': [{'evidences': [{'evidenceCode': 'ECO:0000305', 'source': 'PubMed', 'id': '26593721'}], 'value': '3.6.5.-'}]}, 'alternativeNames': [{'fullName': {'value': 'Elongation factor Tu'}, 'shortNames': [{'value': 'EF-Tu'}]}, {'fullName': {'value': 'Eukaryotic elongation factor 1 A-1'}, 'shortNames': [{'value': 'eEF1A-1'}]}, {'fullName': {'value': 'Leukocyte receptor cluster member 7'}}]}, 'genes': [{'geneName': {'value': 'EEF1A1'}, 'synonyms': [{'value': 'EEF1A'}, {'value': 'EF1A'}, {'value': 'LENG7'}]}], 'sequence': {'value': 'MGKEKTHINIVVIGHVDSGKSTTTGHLIYKCGGIDKRTIEKFEKEAAEMGKGSFKYAWVLDKLKAERERGITIDISLWKFETSKYYVTIIDAPGHRDFIKNMITGTSQADCAVLIVAAGVGEFEAGISKNGQTREHALLAYTLGVKQLIVGVNKMDSTEPPYSQKRYEEIVKEVSTYIKKIGYNPDTVAFVPISGWNGDNMLEPSANMPWFKGWKVTRKDGNASGTTLLEALDCILPPTRPTDKPLRLPLQDVYKIGGIGTVPVGRVETGVLKPGMVVTFAPVNVTTEVKSVEMHHEALSEALPGDNVGFNVKNVSVKDVRRGNVAGDSKNDPPMEAAGFTAQVIILNHPGQISAGYAPVLDCHTAHIACKFAELKEKIDRRSGKKLEDGPKFLKSGDAAIVDMVPGKPMCVESFSDYPPLGRFAVRDMRQTVAVGVIKAVDKKAAGAGKVTKSAQKAQKAK', 'length': 462, 'molWeight': 50141, 'crc64': 'D465615545AF686A', 'md5': '085556FA4557CF4B606C9A11392E1333'}, 'extraAttributes': {'uniParcId': 'UPI00000012CA'}}\n"
     ]
    },
    {
     "name": "stderr",
     "output_type": "stream",
     "text": [
      "Fetching sequences:  96%|█████████▌| 451/469 [03:27<00:07,  2.26it/s]"
     ]
    },
    {
     "name": "stdout",
     "output_type": "stream",
     "text": [
      "{'entryType': 'UniProtKB reviewed (Swiss-Prot)', 'primaryAccession': 'E9PAV3', 'proteinDescription': {'recommendedName': {'fullName': {'value': 'Nascent polypeptide-associated complex subunit alpha, muscle-specific form'}}, 'alternativeNames': [{'fullName': {'value': 'Alpha-NAC, muscle-specific form'}, 'shortNames': [{'value': 'skNAC'}]}]}, 'genes': [{'geneName': {'value': 'NACA'}}], 'sequence': {'value': 'MPGEATETVPATEQELPQPQAETAVLPMSSALSVTAALGQPGPTLPPPCSPAPQQCPLSAANQASPFPSPSTIASTPLEVPFPQSSSGTALPLGTAPEAPTFLPNLIGPPISPAALALASPMIAPTLKGTPSSSAPLALVALAPHSVQKSSAFPPNLLTSPPSVAVAESGSVITLSAPIAPSEPKTNLNKVPSEVVPNPKGTPSPPCIVSTVPYHCVTPMASIQSGVASLPQTTPTTTLAIASPQVKDTTISSVLISPQNPGSLSLKGPVSPPAALSLSTQSLPVVTSSQKTAGPNTPPDFPISLGSHLAPLHQSSFGSVQLLGQTGPSALSDPTVKTISVDHSSTGASYPSQRSVIPPLPSRNEVVPATVAAFPVVAPSVDKGPSTISSITCSPSGSLNVATSFSLSPTTSLILKSSPNATYHYPLVAQMPVSSVGTTPLVVTNPCTIAAAPTTTFEVATCVSPPMSSGPISNIEPTSPAALVMAPVAPKEPSTQVATTLRIPVSPPLPDPEDLKNLPSSVLVKFPTQKDLQTVPASLEGAPFSPAQAGLTTKKDPTVLPLVQAAPKNSPSFQSTSSSPEIPLSPEATLAKKSLGEPLPIGKPASSMTSPLGVNSSASVIKTDSYAGPDSAGPLLKSSLITPTVAAFPLESADPAGVAPTTAKGTSTYTTTASPFLEGTVSLAPKNHPVKEGTLTTLPLVPTASENCPVAPSPQNTCAPLATLVLAPEIPKSVPSPSLPPAGTPPGTKKVDGISHTSALAPVASSPKECPTEDSGASATASSKGTLTYLADSPSPLGVSVSPQTKRPPTKKGSAGPDTPIGNLSSPVSPVEASFLPENSLSFQGSKDSPATTHSPTPPSPKGAPTPSAVTPLSPKGVTLPPKETPTPSVVNLPFPKEGPATPAPKQAPALSMTSSSPKKARATPAPKGIPASPSPKGAPTPPAATPPSPKGGPATPSPKWAPTPPAATPPSPKGGPATPSPKGAPTPPAATPPSPKGGPATPSPKGAPTPPAVTPPSPKGSPAATPFPKGASTPPAATPPSPKGSPAATPLPKGAPTTPAATLPSPKGGPATPSLKGAPTPPAATPPSPKGGPATPSPKGAPMPPAATPPSPKGGLATPPHKGAPTTPAATPPSPKGGLATPPPKGAPTTPAATPPSPKGGLATPPPKGAPTTPAATPPSPKGGLATPSPKGAPTTPAATPPSPKGGLATPSPKGAPTTPAATPPSPKGGLATPSPKGAPTTPAATPPSPKGGPATPPPKGAPTPPAATPPSLKGGLATPPHKGAPNPAVVTPPSPKGGPATSPPKGAPTPPAATPPSPKGSPGTPPPKGAPTPPAVTPPSPKGTPTLPATTPSSKGGPTTPSSKEGPTPPAATPSHKGGPAMTPPSPKRGPAIPSPKGDPTSPAVIPLSPKKAPATPVTREGAATPSKGDLTPPAVTPVSLKKAPATSAPKGGPATPSSKGDPTLPAVTPPSPKEPPAPKQVATSSSPKKAPATPAPMGAPTLPAVIPSSPKEVPATPSSRRDPIAPTATLLSKKTPATLAPKEALIPPAMTVPSPKKTPAIPTPKEAPATPSSKEASSPPAVTPSTYKGAPSPKELLIPPAVTSPSPKEAPTPPAVTPPSPEKGPATPAPKGTPTSPPVTPSSLKDSPTSPASVTCKMGATVPQASKGLPAKKGPTALKEVLVAPAPESTPIITAPTRKGPQTKKSSATSPPICPDPSAKNGSKGPLSTVAPAPLLPVQKDSSKTAKGKDASHSPKGPLAPPESKASTPLTAAAFEKVLPKPESASVSAAPSPPVSLPLAPSPVPTLPPKQQFLPSSPGLVLESPSKPLAPADEDELLPLIPPEPISGGVPFQSVLVNMPTPKSAGIPVPTPSAKQPVTKNNKGSGTESDSDESVPELEEQDSTQATTQQAQLAAAAEIDEEPVSKAKQSRSEKKARKAMSKLGLRQVTGVTRVTIRKSKNILFVITKPDVYKSPASDTYIVFGEAKIEDLSQQAQLAAAEKFKVQGEAVSNIQENTQTPTVQEESEEEEVDETGVEVKDIELVMSQANVSRAKAVRALKNNSNDIVNAIMELTM', 'length': 2078, 'molWeight': 205422, 'crc64': '9A07C05D3F24C34B', 'md5': 'FD7BCDA26876C10FFA08A3441B0A67FE'}, 'extraAttributes': {'uniParcId': 'UPI000162C860'}}\n"
     ]
    },
    {
     "name": "stderr",
     "output_type": "stream",
     "text": [
      "Fetching sequences:  96%|█████████▋| 452/469 [03:27<00:07,  2.22it/s]"
     ]
    },
    {
     "name": "stdout",
     "output_type": "stream",
     "text": [
      "{'entryType': 'UniProtKB reviewed (Swiss-Prot)', 'primaryAccession': 'Q9Y383', 'proteinDescription': {'recommendedName': {'fullName': {'value': 'Putative RNA-binding protein Luc7-like 2'}}}, 'genes': [{'geneName': {'value': 'LUC7L2'}, 'orfNames': [{'value': 'CGI-59'}, {'value': 'CGI-74'}]}], 'sequence': {'value': 'MSAQAQMRAMLDQLMGTSRDGDTTRQRIKFSDDRVCKSHLLNCCPHDVLSGTRMDLGECLKVHDLALRADYEIASKEQDFFFELDAMDHLQSFIADCDRRTEVAKKRLAETQEEISAEVAAKAERVHELNEEIGKLLAKVEQLGAEGNVEESQKVMDEVEKARAKKREAEEVYRNSMPASSFQQQKLRVCEVCSAYLGLHDNDRRLADHFGGKLHLGFIEIREKLEELKRVVAEKQEKRNQERLKRREEREREEREKLRRSRSHSKNPKRSRSREHRRHRSRSMSRERKRRTRSKSREKRHRHRSRSSSRSRSRSHQRSRHSSRDRSRERSKRRSSKERFRDQDLASCDRDRSSRDRSPRDRDRKDKKRSYESANGRSEDRRSSEEREAGEI', 'length': 392, 'molWeight': 46514, 'crc64': '1C559CCE0F23F693', 'md5': 'CA1DD23954667831048516C9F5AC1B60'}, 'extraAttributes': {'uniParcId': 'UPI000003F000'}}\n"
     ]
    },
    {
     "name": "stderr",
     "output_type": "stream",
     "text": [
      "Fetching sequences:  97%|█████████▋| 453/469 [03:28<00:07,  2.23it/s]"
     ]
    },
    {
     "name": "stdout",
     "output_type": "stream",
     "text": [
      "{'entryType': 'UniProtKB reviewed (Swiss-Prot)', 'primaryAccession': 'Q9UQ80', 'proteinDescription': {'recommendedName': {'fullName': {'value': 'Proliferation-associated protein 2G4'}}, 'alternativeNames': [{'fullName': {'value': 'Cell cycle protein p38-2G4 homolog'}, 'shortNames': [{'value': 'hG4-1'}]}, {'fullName': {'value': 'ErbB3-binding protein 1'}}]}, 'genes': [{'geneName': {'value': 'PA2G4'}, 'synonyms': [{'value': 'EBP1'}]}], 'sequence': {'value': 'MSGEDEQQEQTIAEDLVVTKYKMGGDIANRVLRSLVEASSSGVSVLSLCEKGDAMIMEETGKIFKKEKEMKKGIAFPTSISVNNCVCHFSPLKSDQDYILKEGDLVKIDLGVHVDGFIANVAHTFVVDVAQGTQVTGRKADVIKAAHLCAEAALRLVKPGNQNTQVTEAWNKVAHSFNCTPIEGMLSHQLKQHVIDGEKTIIQNPTDQQKKDHEKAEFEVHEVYAVDVLVSSGEGKAKDAGQRTTIYKRDPSKQYGLKMKTSRAFFSEVERRFDAMPFTLRAFEDEKKARMGVVECAKHELLQPFNVLYEKEGEFVAQFKFTVLLMPNGPMRITSGPFEPDLYKSEMEVQDAELKALLQSSASRKTQKKKKKKASKTAENATSGETLEENEAGD', 'length': 394, 'molWeight': 43787, 'crc64': 'CD45466507AD6047', 'md5': 'F3E3D0FA28FB9180B176C1517361123B'}, 'extraAttributes': {'uniParcId': 'UPI0000049B6B'}}\n"
     ]
    },
    {
     "name": "stderr",
     "output_type": "stream",
     "text": [
      "Fetching sequences:  97%|█████████▋| 454/469 [03:28<00:06,  2.24it/s]"
     ]
    },
    {
     "name": "stdout",
     "output_type": "stream",
     "text": [
      "{'entryType': 'UniProtKB reviewed (Swiss-Prot)', 'primaryAccession': 'P04075', 'proteinDescription': {'recommendedName': {'fullName': {'evidences': [{'evidenceCode': 'ECO:0000305'}], 'value': 'Fructose-bisphosphate aldolase A'}, 'ecNumbers': [{'evidences': [{'evidenceCode': 'ECO:0000269', 'source': 'PubMed', 'id': '14766013'}, {'evidenceCode': 'ECO:0000269', 'source': 'PubMed', 'id': '2204832'}], 'value': '4.1.2.13'}]}, 'alternativeNames': [{'fullName': {'value': 'Lung cancer antigen NY-LU-1'}}, {'fullName': {'value': 'Muscle-type aldolase'}}]}, 'genes': [{'geneName': {'evidences': [{'evidenceCode': 'ECO:0000312', 'source': 'HGNC', 'id': 'HGNC:414'}], 'value': 'ALDOA'}, 'synonyms': [{'value': 'ALDA'}]}], 'sequence': {'value': 'MPYQYPALTPEQKKELSDIAHRIVAPGKGILAADESTGSIAKRLQSIGTENTEENRRFYRQLLLTADDRVNPCIGGVILFHETLYQKADDGRPFPQVIKSKGGVVGIKVDKGVVPLAGTNGETTTQGLDGLSERCAQYKKDGADFAKWRCVLKIGEHTPSALAIMENANVLARYASICQQNGIVPIVEPEILPDGDHDLKRCQYVTEKVLAAVYKALSDHHIYLEGTLLKPNMVTPGHACTQKFSHEEIAMATVTALRRTVPPAVTGITFLSGGQSEEEASINLNAINKCPLLKPWALTFSYGRALQASALKAWGGKKENLKAAQEEYVKRALANSLACQGKYTPSGQAGAAASESLFVSNHAY', 'length': 364, 'molWeight': 39420, 'crc64': '0AAED80F755A7BE8', 'md5': '32A023B31233B64340AFA2C7A0073EF2'}, 'extraAttributes': {'uniParcId': 'UPI0000000C5D'}}\n"
     ]
    },
    {
     "name": "stderr",
     "output_type": "stream",
     "text": [
      "Fetching sequences:  97%|█████████▋| 455/469 [03:29<00:06,  2.25it/s]"
     ]
    },
    {
     "name": "stdout",
     "output_type": "stream",
     "text": [
      "{'entryType': 'UniProtKB reviewed (Swiss-Prot)', 'primaryAccession': 'P07737', 'proteinDescription': {'recommendedName': {'fullName': {'value': 'Profilin-1'}}, 'alternativeNames': [{'fullName': {'value': 'Epididymis tissue protein Li 184a'}}, {'fullName': {'value': 'Profilin I'}}]}, 'genes': [{'geneName': {'value': 'PFN1'}}], 'sequence': {'value': 'MAGWNAYIDNLMADGTCQDAAIVGYKDSPSVWAAVPGKTFVNITPAEVGVLVGKDRSSFYVNGLTLGGQKCSVIRDSLLQDGEFSMDLRTKSTGGAPTFNVTVTKTDKTLVLLMGKEGVHGGLINKKCYEMASHLRRSQY', 'length': 140, 'molWeight': 15054, 'crc64': 'F725119E55A289EB', 'md5': 'E22C93D262030CAA39864706482A23E0'}, 'extraAttributes': {'uniParcId': 'UPI000013C879'}}\n"
     ]
    },
    {
     "name": "stderr",
     "output_type": "stream",
     "text": [
      "Fetching sequences:  97%|█████████▋| 456/469 [03:29<00:05,  2.27it/s]"
     ]
    },
    {
     "name": "stdout",
     "output_type": "stream",
     "text": [
      "{'entryType': 'UniProtKB reviewed (Swiss-Prot)', 'primaryAccession': 'O15042', 'proteinDescription': {'recommendedName': {'fullName': {'value': 'U2 snRNP-associated SURP motif-containing protein'}}, 'alternativeNames': [{'fullName': {'value': '140 kDa Ser/Arg-rich domain protein'}}, {'fullName': {'value': 'U2-associated protein SR140'}}]}, 'genes': [{'geneName': {'value': 'U2SURP'}, 'synonyms': [{'value': 'KIAA0332'}, {'value': 'SR140'}]}], 'sequence': {'value': 'MADKTPGGSQKASSKTRSSDVHSSGSSDAHMDASGPSDSDMPSRTRPKSPRKHNYRNESARESLCDSPHQNLSRPLLENKLKAFSIGKMSTAKRTLSKKEQEELKKKEDEKAAAEIYEEFLAAFEGSDGNKVKTFVRGGVVNAAKEEHETDEKRGKIYKPSSRFADQKNPPNQSSNERPPSLLVIETKKPPLKKGEKEKKKSNLELFKEELKQIQEERDERHKTKGRLSRFEPPQSDSDGQRRSMDAPSRRNRSSGVLDDYAPGSHDVGDPSTTNLYLGNINPQMNEEMLCQEFGRFGPLASVKIMWPRTDEERARERNCGFVAFMNRRDAERALKNLNGKMIMSFEMKLGWGKAVPIPPHPIYIPPSMMEHTLPPPPSGLPFNAQPRERLKNPNAPMLPPPKNKEDFEKTLSQAIVKVVIPTERNLLALIHRMIEFVVREGPMFEAMIMNREINNPMFRFLFENQTPAHVYYRWKLYSILQGDSPTKWRTEDFRMFKNGSFWRPPPLNPYLHGMSEEQETEAFVEEPSKKGALKEEQRDKLEEILRGLTPRKNDIGDAMVFCLNNAEAAEEIVDCITESLSILKTPLPKKIARLYLVSDVLYNSSAKVANASYYRKFFETKLCQIFSDLNATYRTIQGHLQSENFKQRVMTCFRAWEDWAIYPEPFLIKLQNIFLGLVNIIEEKETEDVPDDLDGAPIEEELDGAPLEDVDGIPIDATPIDDLDGVPIKSLDDDLDGVPLDATEDSKKNEPIFKVAPSKWEAVDESELEAQAVTTSKWELFDQHEESEEEENQNQEEESEDEEDTQSSKSEEHHLYSNPIKEEMTESKFSKYSEMSEEKRAKLREIELKVMKFQDELESGKRPKKPGQSFQEQVEHYRDKLLQREKEKELERERERDKKDKEKLESRSKDKKEKDECTPTRKERKRRHSTSPSPSRSSSGRRVKSPSPKSERSERSERSHKESSRSRSSHKDSPRDVSKKAKRSPSGSRTPKRSRRSRSRSPKKSGKKSRSQSRSPHRSHKKSKKNKH', 'length': 1029, 'molWeight': 118292, 'crc64': '7AB9235C63299714', 'md5': 'DC08EDB2C6700236BDB4635D20B569C5'}, 'extraAttributes': {'uniParcId': 'UPI0000160746'}}\n"
     ]
    },
    {
     "name": "stderr",
     "output_type": "stream",
     "text": [
      "Fetching sequences:  97%|█████████▋| 457/469 [03:30<00:05,  2.27it/s]"
     ]
    },
    {
     "name": "stdout",
     "output_type": "stream",
     "text": [
      "{'entryType': 'UniProtKB reviewed (Swiss-Prot)', 'primaryAccession': 'Q00610', 'proteinDescription': {'recommendedName': {'fullName': {'evidences': [{'evidenceCode': 'ECO:0000303', 'source': 'PubMed', 'id': '26822784'}, {'evidenceCode': 'ECO:0000303', 'source': 'PubMed', 'id': '29100083'}], 'value': 'Clathrin heavy chain 1'}}, 'alternativeNames': [{'fullName': {'value': 'Clathrin heavy chain on chromosome 17'}, 'shortNames': [{'value': 'CLH-17'}]}]}, 'genes': [{'geneName': {'evidences': [{'evidenceCode': 'ECO:0000303', 'source': 'PubMed', 'id': '26822784'}, {'evidenceCode': 'ECO:0000303', 'source': 'PubMed', 'id': '29100083'}, {'evidenceCode': 'ECO:0000312', 'source': 'HGNC', 'id': 'HGNC:2092'}], 'value': 'CLTC'}, 'synonyms': [{'value': 'CLH17'}, {'value': 'CLTCL2'}, {'value': 'KIAA0034'}]}], 'sequence': {'value': 'MAQILPIRFQEHLQLQNLGINPANIGFSTLTMESDKFICIREKVGEQAQVVIIDMNDPSNPIRRPISADSAIMNPASKVIALKAGKTLQIFNIEMKSKMKAHTMTDDVTFWKWISLNTVALVTDNAVYHWSMEGESQPVKMFDRHSSLAGCQIINYRTDAKQKWLLLTGISAQQNRVVGAMQLYSVDRKVSQPIEGHAASFAQFKMEGNAEESTLFCFAVRGQAGGKLHIIEVGTPPTGNQPFPKKAVDVFFPPEAQNDFPVAMQISEKHDVVFLITKYGYIHLYDLETGTCIYMNRISGETIFVTAPHEATAGIIGVNRKGQVLSVCVEEENIIPYITNVLQNPDLALRMAVRNNLAGAEELFARKFNALFAQGNYSEAAKVAANAPKGILRTPDTIRRFQSVPAQPGQTSPLLQYFGILLDQGQLNKYESLELCRPVLQQGRKQLLEKWLKEDKLECSEELGDLVKSVDPTLALSVYLRANVPNKVIQCFAETGQVQKIVLYAKKVGYTPDWIFLLRNVMRISPDQGQQFAQMLVQDEEPLADITQIVDVFMEYNLIQQCTAFLLDALKNNRPSEGPLQTRLLEMNLMHAPQVADAILGNQMFTHYDRAHIAQLCEKAGLLQRALEHFTDLYDIKRAVVHTHLLNPEWLVNYFGSLSVEDSLECLRAMLSANIRQNLQICVQVASKYHEQLSTQSLIELFESFKSFEGLFYFLGSIVNFSQDPDVHFKYIQAACKTGQIKEVERICRESNCYDPERVKNFLKEAKLTDQLPLIIVCDRFDFVHDLVLYLYRNNLQKYIEIYVQKVNPSRLPVVIGGLLDVDCSEDVIKNLILVVRGQFSTDELVAEVEKRNRLKLLLPWLEARIHEGCEEPATHNALAKIYIDSNNNPERFLRENPYYDSRVVGKYCEKRDPHLACVAYERGQCDLELINVCNENSLFKSLSRYLVRRKDPELWGSVLLESNPYRRPLIDQVVQTALSETQDPEEVSVTVKAFMTADLPNELIELLEKIVLDNSVFSEHRNLQNLLILTAIKADRTRVMEYINRLDNYDAPDIANIAISNELFEEAFAIFRKFDVNTSAVQVLIEHIGNLDRAYEFAERCNEPAVWSQLAKAQLQKGMVKEAIDSYIKADDPSSYMEVVQAANTSGNWEELVKYLQMARKKARESYVETELIFALAKTNRLAELEEFINGPNNAHIQQVGDRCYDEKMYDAAKLLYNNVSNFGRLASTLVHLGEYQAAVDGARKANSTRTWKEVCFACVDGKEFRLAQMCGLHIVVHADELEELINYYQDRGYFEELITMLEAALGLERAHMGMFTELAILYSKFKPQKMREHLELFWSRVNIPKVLRAAEQAHLWAELVFLYDKYEEYDNAIITMMNHPTDAWKEGQFKDIITKVANVELYYRAIQFYLEFKPLLLNDLLMVLSPRLDHTRAVNYFSKVKQLPLVKPYLRSVQNHNNKSVNESLNNLFITEEDYQALRTSIDAYDNFDNISLAQRLEKHELIEFRRIAAYLFKGNNRWKQSVELCKKDSLYKDAMQYASESKDTELAEELLQWFLQEEKRECFGACLFTCYDLLRPDVVLETAWRHNIMDFAMPYFIQVMKEYLTKVDKLDASESLRKEEEQATETQPIVYGQPQLMLTAGPSVAVPPQAPFGYGYTAPPYGQPQPGFGYSM', 'length': 1675, 'molWeight': 191615, 'crc64': '6C4F2D54950079E2', 'md5': '6D810337E30CE4304C953B26A25C5F2C'}, 'extraAttributes': {'uniParcId': 'UPI0000127ABD'}}\n"
     ]
    },
    {
     "name": "stderr",
     "output_type": "stream",
     "text": [
      "Fetching sequences:  98%|█████████▊| 458/469 [03:30<00:04,  2.26it/s]"
     ]
    },
    {
     "name": "stdout",
     "output_type": "stream",
     "text": [
      "{'entryType': 'UniProtKB reviewed (Swiss-Prot)', 'primaryAccession': 'P61981', 'proteinDescription': {'recommendedName': {'fullName': {'evidences': [{'evidenceCode': 'ECO:0000305'}], 'value': '14-3-3 protein gamma'}}, 'alternativeNames': [{'fullName': {'value': 'Protein kinase C inhibitor protein 1'}, 'shortNames': [{'value': 'KCIP-1'}]}], 'contains': [{'recommendedName': {'fullName': {'value': '14-3-3 protein gamma, N-terminally processed'}}}]}, 'genes': [{'geneName': {'evidences': [{'evidenceCode': 'ECO:0000312', 'source': 'HGNC', 'id': 'HGNC:12852'}], 'value': 'YWHAG'}}], 'sequence': {'value': 'MVDREQLVQKARLAEQAERYDDMAAAMKNVTELNEPLSNEERNLLSVAYKNVVGARRSSWRVISSIEQKTSADGNEKKIEMVRAYREKIEKELEAVCQDVLSLLDNYLIKNCSETQYESKVFYLKMKGDYYRYLAEVATGEKRATVVESSEKAYSEAHEISKEHMQPTHPIRLGLALNYSVFYYEIQNAPEQACHLAKTAFDDAIAELDTLNEDSYKDSTLIMQLLRDNLTLWTSDQQDDDGGEGNN', 'length': 247, 'molWeight': 28303, 'crc64': 'B0D16C6DE1F4455D', 'md5': 'AF0EF9579977271FEA3448C46F56F121'}, 'extraAttributes': {'uniParcId': 'UPI000000106B'}}\n"
     ]
    },
    {
     "name": "stderr",
     "output_type": "stream",
     "text": [
      "Fetching sequences:  98%|█████████▊| 459/469 [03:30<00:04,  2.29it/s]"
     ]
    },
    {
     "name": "stdout",
     "output_type": "stream",
     "text": [
      "{'entryType': 'UniProtKB reviewed (Swiss-Prot)', 'primaryAccession': 'O00303', 'proteinDescription': {'recommendedName': {'fullName': {'evidences': [{'evidenceCode': 'ECO:0000255', 'source': 'HAMAP-Rule', 'id': 'MF_03005'}], 'value': 'Eukaryotic translation initiation factor 3 subunit F'}, 'shortNames': [{'evidences': [{'evidenceCode': 'ECO:0000255', 'source': 'HAMAP-Rule', 'id': 'MF_03005'}], 'value': 'eIF3f'}]}, 'alternativeNames': [{'fullName': {'value': 'Deubiquitinating enzyme eIF3f'}, 'ecNumbers': [{'value': '3.4.19.12'}]}, {'fullName': {'evidences': [{'evidenceCode': 'ECO:0000255', 'source': 'HAMAP-Rule', 'id': 'MF_03005'}], 'value': 'Eukaryotic translation initiation factor 3 subunit 5'}}, {'fullName': {'evidences': [{'evidenceCode': 'ECO:0000255', 'source': 'HAMAP-Rule', 'id': 'MF_03005'}], 'value': 'eIF-3-epsilon'}}, {'fullName': {'evidences': [{'evidenceCode': 'ECO:0000255', 'source': 'HAMAP-Rule', 'id': 'MF_03005'}], 'value': 'eIF3 p47'}}]}, 'genes': [{'geneName': {'evidences': [{'evidenceCode': 'ECO:0000255', 'source': 'HAMAP-Rule', 'id': 'MF_03005'}], 'value': 'EIF3F'}, 'synonyms': [{'evidences': [{'evidenceCode': 'ECO:0000255', 'source': 'HAMAP-Rule', 'id': 'MF_03005'}], 'value': 'EIF3S5'}]}], 'sequence': {'value': 'MATPAVPVSAPPATPTPVPAAAPASVPAPTPAPAAAPVPAAAPASSSDPAAAAAATAAPGQTPASAQAPAQTPAPALPGPALPGPFPGGRVVRLHPVILASIVDSYERRNEGAARVIGTLLGTVDKHSVEVTNCFSVPHNESEDEVAVDMEFAKNMYELHKKVSPNELILGWYATGHDITEHSVLIHEYYSREAPNPIHLTVDTSLQNGRMSIKAYVSTLMGVPGRTMGVMFTPLTVKYAYYDTERIGVDLIMKTCFSPNRVIGLSSDLQQVGGASARIQDALSTVLQYAEDVLSGKVSADNTVGRFLMSLVNQVPKIVPDDFETMLNSNINDLLMVTYLANLTQSQIALNEKLVNL', 'length': 357, 'molWeight': 37564, 'crc64': '8A70FC6E2BF07737', 'md5': '7A6A85908DC070D2407DCCA2EB7AB587'}, 'extraAttributes': {'uniParcId': 'UPI000012D301'}}\n"
     ]
    },
    {
     "name": "stderr",
     "output_type": "stream",
     "text": [
      "Fetching sequences:  98%|█████████▊| 460/469 [03:31<00:04,  2.25it/s]"
     ]
    },
    {
     "name": "stdout",
     "output_type": "stream",
     "text": [
      "{'entryType': 'UniProtKB reviewed (Swiss-Prot)', 'primaryAccession': 'O15197', 'proteinDescription': {'recommendedName': {'fullName': {'value': 'Ephrin type-B receptor 6'}}, 'alternativeNames': [{'fullName': {'value': 'HEP'}}, {'fullName': {'value': 'Tyrosine-protein kinase-defective receptor EPH-6'}}], 'flag': 'Precursor'}, 'genes': [{'geneName': {'value': 'EPHB6'}}], 'sequence': {'value': 'MATEGAAQLGNRVAGMVCSLWVLLLVSSVLALEEVLLDTTGETSEIGWLTYPPGGWDEVSVLDDQRRLTRTFEACHVAGAPPGTGQDNWLQTHFVERRGAQRAHIRLHFSVRACSSLGVSGGTCRETFTLYYRQAEEPDSPDSVSSWHLKRWTKVDTIAADESFPSSSSSSSSSSSAAWAVGPHGAGQRAGLQLNVKERSFGPLTQRGFYVAFQDTGACLALVAVRLFSYTCPAVLRSFASFPETQASGAGGASLVAAVGTCVAHAEPEEDGVGGQAGGSPPRLHCNGEGKWMVAVGGCRCQPGYQPARGDKACQACPRGLYKSSAGNAPCSPCPARSHAPNPAAPVCPCLEGFYRASSDPPEAPCTGPPSAPQELWFEVQGSALMLHWRLPRELGGRGDLLFNVVCKECEGRQEPASGGGGTCHRCRDEVHFDPRQRGLTESRVLVGGLRAHVPYILEVQAVNGVSELSPDPPQAAAINVSTSHEVPSAVPVVHQVSRASNSITVSWPQPDQTNGNILDYQLRYYDQAEDESHSFTLTSETNTATVTQLSPGHIYGFQVRARTAAGHGPYGGKVYFQTLPQGELSSQLPERLSLVIGSILGALAFLLLAAITVLAVVFQRKRRGTGYTEQLQQYSSPGLGVKYYIDPSTYEDPCQAIRELAREVDPAYIKIEEVIGTGSFGEVRQGRLQPRGRREQTVAIQALWAGGAESLQMTFLGRAAVLGQFQHPNILRLEGVVTKSRPLMVLTEFMELGPLDSFLRQREGQFSSLQLVAMQRGVAAAMQYLSSFAFVHRSLSAHSVLVNSHLVCKVARLGHSPQGPSCLLRWAAPEVIAHGKHTTSSDVWSFGILMWEVMSYGERPYWDMSEQEVLNAIEQEFRLPPPPGCPPGLHLLMLDTWQKDRARRPHFDQLVAAFDKMIRKPDTLQAGGDPGERPSQALLTPVALDFPCLDSPQAWLSAIGLECYQDNFSKFGLCTFSDVAQLSLEDLPALGITLAGHQKKLLHHIQLLQQHLRQQGSVEV', 'length': 1021, 'molWeight': 110700, 'crc64': 'BF1D4D9BE34358A5', 'md5': '1AFE3D29F85272281507E040960704DF'}, 'extraAttributes': {'uniParcId': 'UPI00006635A8'}}\n"
     ]
    },
    {
     "name": "stderr",
     "output_type": "stream",
     "text": [
      "Fetching sequences:  98%|█████████▊| 461/469 [03:31<00:03,  2.21it/s]"
     ]
    },
    {
     "name": "stdout",
     "output_type": "stream",
     "text": [
      "{'entryType': 'UniProtKB reviewed (Swiss-Prot)', 'primaryAccession': 'Q9NXE8', 'proteinDescription': {'recommendedName': {'fullName': {'value': 'Pre-mRNA-splicing factor CWC25 homolog'}}, 'alternativeNames': [{'fullName': {'value': 'Coiled-coil domain-containing protein 49'}}, {'fullName': {'value': 'Spliceosome-associated protein homolog CWC25'}}]}, 'genes': [{'geneName': {'value': 'CWC25'}, 'synonyms': [{'value': 'CCDC49'}]}], 'sequence': {'value': 'MGGGDLNLKKSWHPQTLRNVEKVWKAEQKHEAERKKIEELQRELREERAREEMQRYAEDVGAVKKKEEKLDWMYQGPGGMVNRDEYLLGRPIDKYVFEKMEEKEAGCSSETGLLPGSIFAPSGANSLLDMASKIREDPLFIIRKKEEEKKREVLNNPVKMKKIKELLQMSLEKKEKKKKKEKKKKHKKHKHRSSSSDRSSSEDEHSAGRSQKKMANSSPVLSKVPGYGLQVRNSDRNQGLQGPLTAEQKRGHGMKNHSRSRSSSHSPPRHASKKSTREAGSRDRRSRSLGRRSRSPRPSKLHNSKVNRRETGQTRSPSPKKEVYQRRHAPGYTRKLSAEELERKRQEMMENAKWREEERLNILKRHAKDEEREQRLEKLDSRDGKFIHRMKLESASTSSLEDRVKRNIYSLQRTSVALEKNFMKR', 'length': 425, 'molWeight': 49647, 'crc64': 'F8288E143A3FF764', 'md5': '520C757D75224C914B6EAA5EE36E30B8'}, 'extraAttributes': {'uniParcId': 'UPI000007081D'}}\n"
     ]
    },
    {
     "name": "stderr",
     "output_type": "stream",
     "text": [
      "Fetching sequences:  99%|█████████▊| 462/469 [03:32<00:03,  2.22it/s]"
     ]
    },
    {
     "name": "stdout",
     "output_type": "stream",
     "text": [
      "{'entryType': 'UniProtKB reviewed (Swiss-Prot)', 'primaryAccession': 'O60264', 'proteinDescription': {'recommendedName': {'fullName': {'value': 'SWI/SNF-related matrix-associated actin-dependent regulator of chromatin subfamily A member 5'}, 'shortNames': [{'value': 'SWI/SNF-related matrix-associated actin-dependent regulator of chromatin A5'}], 'ecNumbers': [{'evidences': [{'evidenceCode': 'ECO:0000269', 'source': 'PubMed', 'id': '12972596'}, {'evidenceCode': 'ECO:0000269', 'source': 'PubMed', 'id': '28801535'}], 'value': '3.6.4.-'}]}, 'alternativeNames': [{'fullName': {'value': 'Sucrose nonfermenting protein 2 homolog'}, 'shortNames': [{'value': 'hSNF2H'}]}]}, 'genes': [{'geneName': {'value': 'SMARCA5'}, 'synonyms': [{'value': 'SNF2H'}, {'value': 'WCRF135'}]}], 'sequence': {'value': 'MSSAAEPPPPPPPESAPSKPAASIASGGSNSSNKGGPEGVAAQAVASAASAGPADAEMEEIFDDASPGKQKEIQEPDPTYEEKMQTDRANRFEYLLKQTELFAHFIQPAAQKTPTSPLKMKPGRPRIKKDEKQNLLSVGDYRHRRTEQEEDEELLTESSKATNVCTRFEDSPSYVKWGKLRDYQVRGLNWLISLYENGINGILADEMGLGKTLQTISLLGYMKHYRNIPGPHMVLVPKSTLHNWMSEFKRWVPTLRSVCLIGDKEQRAAFVRDVLLPGEWDVCVTSYEMLIKEKSVFKKFNWRYLVIDEAHRIKNEKSKLSEIVREFKTTNRLLLTGTPLQNNLHELWSLLNFLLPDVFNSADDFDSWFDTNNCLGDQKLVERLHMVLRPFLLRRIKADVEKSLPPKKEVKIYVGLSKMQREWYTRILMKDIDILNSAGKMDKMRLLNILMQLRKCCNHPYLFDGAEPGPPYTTDMHLVTNSGKMVVLDKLLPKLKEQGSRVLIFSQMTRVLDILEDYCMWRNYEYCRLDGQTPHDERQDSINAYNEPNSTKFVFMLSTRAGGLGINLATADVVILYDSDWNPQVDLQAMDRAHRIGQTKTVRVFRFITDNTVEERIVERAEMKLRLDSIVIQQGRLVDQNLNKIGKDEMLQMIRHGATHVFASKESEITDEDIDGILERGAKKTAEMNEKLSKMGESSLRNFTMDTESSVYNFEGEDYREKQKIAFTEWIEPPKRERKANYAVDAYFREALRVSEPKAPKAPRPPKQPNVQDFQFFPPRLFELLEKEILFYRKTIGYKVPRNPELPNAAQAQKEEQLKIDEAESLNDEELEEKEKLLTQGFTNWNKRDFNQFIKANEKWGRDDIENIAREVEGKTPEEVIEYSAVFWERCNELQDIEKIMAQIERGEARIQRRISIKKALDTKIGRYKAPFHQLRISYGTNKGKNYTEEEDRFLICMLHKLGFDKENVYDELRQCIRNSPQFRFDWFLKSRTAMELQRRCNTLITLIERENMELEEKEKAEKKKRGPKPSTQKRKMDGAPDGRGRKKKLKL', 'length': 1052, 'molWeight': 121905, 'crc64': '6CC8CB25BAF7A876', 'md5': 'B6615A2D806D2FD72B2D5F1B8D988620'}, 'extraAttributes': {'uniParcId': 'UPI000006E693'}}\n"
     ]
    },
    {
     "name": "stderr",
     "output_type": "stream",
     "text": [
      "Fetching sequences:  99%|█████████▊| 463/469 [03:32<00:02,  2.26it/s]"
     ]
    },
    {
     "name": "stdout",
     "output_type": "stream",
     "text": [
      "{'entryType': 'UniProtKB reviewed (Swiss-Prot)', 'primaryAccession': 'P30153', 'proteinDescription': {'recommendedName': {'fullName': {'value': 'Serine/threonine-protein phosphatase 2A 65 kDa regulatory subunit A alpha isoform'}, 'shortNames': [{'evidences': [{'evidenceCode': 'ECO:0000303', 'source': 'PubMed', 'id': '38123684'}], 'value': 'PP2Aa'}]}, 'alternativeNames': [{'fullName': {'value': 'Medium tumor antigen-associated 61 kDa protein'}}, {'fullName': {'value': 'PP2A subunit A isoform PR65-alpha'}}, {'fullName': {'value': 'PP2A subunit A isoform R1-alpha'}}]}, 'genes': [{'geneName': {'evidences': [{'evidenceCode': 'ECO:0000312', 'source': 'HGNC', 'id': 'HGNC:9302'}], 'value': 'PPP2R1A'}}], 'sequence': {'value': 'MAAADGDDSLYPIAVLIDELRNEDVQLRLNSIKKLSTIALALGVERTRSELLPFLTDTIYDEDEVLLALAEQLGTFTTLVGGPEYVHCLLPPLESLATVEETVVRDKAVESLRAISHEHSPSDLEAHFVPLVKRLAGGDWFTSRTSACGLFSVCYPRVSSAVKAELRQYFRNLCSDDTPMVRRAAASKLGEFAKVLELDNVKSEIIPMFSNLASDEQDSVRLLAVEACVNIAQLLPQEDLEALVMPTLRQAAEDKSWRVRYMVADKFTELQKAVGPEITKTDLVPAFQNLMKDCEAEVRAAASHKVKEFCENLSADCRENVIMSQILPCIKELVSDANQHVKSALASVIMGLSPILGKDNTIEHLLPLFLAQLKDECPEVRLNIISNLDCVNEVIGIRQLSQSLLPAIVELAEDAKWRVRLAIIEYMPLLAGQLGVEFFDEKLNSLCMAWLVDHVYAIREAATSNLKKLVEKFGKEWAHATIIPKVLAMSGDPNYLHRMTTLFCINVLSEVCGQDITTKHMLPTVLRMAGDPVANVRFNVAKSLQKIGPILDNSTLQSEVKPILEKLTQDQDVDVKYFAQEALTVLSLA', 'length': 589, 'molWeight': 65309, 'crc64': '5174EBE94D537836', 'md5': '1A2D27207BE3B0B9444056BEA555F602'}, 'extraAttributes': {'uniParcId': 'UPI000006EB9C'}}\n"
     ]
    },
    {
     "name": "stderr",
     "output_type": "stream",
     "text": [
      "Fetching sequences:  99%|█████████▉| 464/469 [03:33<00:02,  2.25it/s]"
     ]
    },
    {
     "name": "stdout",
     "output_type": "stream",
     "text": [
      "{'entryType': 'UniProtKB reviewed (Swiss-Prot)', 'primaryAccession': 'Q9BPU6', 'proteinDescription': {'recommendedName': {'fullName': {'value': 'Dihydropyrimidinase-related protein 5'}, 'shortNames': [{'value': 'DRP-5'}]}, 'alternativeNames': [{'fullName': {'value': 'CRMP3-associated molecule'}, 'shortNames': [{'value': 'CRAM'}]}, {'fullName': {'value': 'Collapsin response mediator protein 5'}, 'shortNames': [{'value': 'CRMP-5'}]}, {'fullName': {'value': 'UNC33-like phosphoprotein 6'}, 'shortNames': [{'value': 'ULIP-6'}]}]}, 'genes': [{'geneName': {'value': 'DPYSL5'}, 'synonyms': [{'value': 'CRMP5'}, {'value': 'ULIP6'}]}], 'sequence': {'value': 'MLANSASVRILIKGGKVVNDDCTHEADVYIENGIIQQVGRELMIPGGAKVIDATGKLVIPGGIDTSTHFHQTFMNATCVDDFYHGTKAALVGGTTMIIGHVLPDKETSLVDAYEKCRGLADPKVCCDYALHVGITWWAPKVKAEMETLVREKGVNSFQMFMTYKDLYMLRDSELYQVLHACKDIGAIARVHAENGELVAEGAKEALDLGITGPEGIEISRPEELEAEATHRVITIANRTHCPIYLVNVSSISAGDVIAAAKMQGKVVLAETTTAHATLTGLHYYHQDWSHAAAYVTVPPLRLDTNTSTYLMSLLANDTLNIVASDHRPFTTKQKAMGKEDFTKIPHGVSGVQDRMSVIWERGVVGGKMDENRFVAVTSSNAAKLLNLYPRKGRIIPGADADVVVWDPEATKTISASTQVQGGDFNLYENMRCHGVPLVTISRGRVVYENGVFMCAEGTGKFCPLRSFPDTVYKKLVQREKTLKVRGVDRTPYLGDVAVVVHPGKKEMGTPLADTPTRPVTRHGGMRDLHESSFSLSGSQIDDHVPKRASARILAPPGGRSSGIW', 'length': 564, 'molWeight': 61421, 'crc64': 'FF9DD1D44C599928', 'md5': '22831F12D06BAC95A69A304DC3DCFDB8'}, 'extraAttributes': {'uniParcId': 'UPI00000411CF'}}\n"
     ]
    },
    {
     "name": "stderr",
     "output_type": "stream",
     "text": [
      "Fetching sequences:  99%|█████████▉| 465/469 [03:33<00:01,  2.26it/s]"
     ]
    },
    {
     "name": "stdout",
     "output_type": "stream",
     "text": [
      "{'entryType': 'UniProtKB reviewed (Swiss-Prot)', 'primaryAccession': 'Q14978', 'proteinDescription': {'recommendedName': {'fullName': {'evidences': [{'evidenceCode': 'ECO:0000305'}], 'value': 'Nucleolar and coiled-body phosphoprotein 1'}}, 'alternativeNames': [{'fullName': {'evidences': [{'evidenceCode': 'ECO:0000303', 'source': 'PubMed', 'id': '10567578'}], 'value': '140 kDa nucleolar phosphoprotein'}, 'shortNames': [{'evidences': [{'evidenceCode': 'ECO:0000303', 'source': 'PubMed', 'id': '10567578'}], 'value': 'Nopp140'}]}, {'fullName': {'value': 'Hepatitis C virus NS5A-transactivated protein 13'}, 'shortNames': [{'value': 'HCV NS5A-transactivated protein 13'}]}, {'fullName': {'evidences': [{'evidenceCode': 'ECO:0000303', 'source': 'PubMed', 'id': '7657714'}], 'value': 'Nucleolar 130 kDa protein'}}, {'fullName': {'evidences': [{'evidenceCode': 'ECO:0000303', 'source': 'PubMed', 'id': '7657714'}], 'value': 'Nucleolar phosphoprotein p130'}}]}, 'genes': [{'geneName': {'evidences': [{'evidenceCode': 'ECO:0000312', 'source': 'HGNC', 'id': 'HGNC:15608'}], 'value': 'NOLC1'}, 'synonyms': [{'evidences': [{'evidenceCode': 'ECO:0000303', 'source': 'PubMed', 'id': '7584026'}], 'value': 'KIAA0035'}, {'value': 'NS5ATP13'}]}], 'sequence': {'value': 'MADAGIRRVVPSDLYPLVLGFLRDNQLSEVANKFAKATGATQQDANASSLLDIYSFWLKSAKVPERKLQANGPVAKKAKKKASSSDSEDSSEEEEEVQGPPAKKAAVPAKRVGLPPGKAAAKASESSSSEESSDDDDEEDQKKQPVQKGVKPQAKAAKAPPKKAKSSDSDSDSSSEDEPPKNQKPKITPVTVKAQTKAPPKPARAAPKIANGKAASSSSSSSSSSSSDDSEEEKAAATPKKTVPKKQVVAKAPVKAATTPTRKSSSSEDSSSDEEEEQKKPMKNKPGPYSSVPPPSAPPPKKSLGTQPPKKAVEKQQPVESSEDSSDESDSSSEEEKKPPTKAVVSKATTKPPPAKKAAESSSDSSDSDSSEDDEAPSKPAGTTKNSSNKPAVTTKSPAVKPAAAPKQPVGGGQKLLTRKADSSSSEEESSSSEEEKTKKMVATTKPKATAKAALSLPAKQAPQGSRDSSSDSDSSSSEEEEEKTSKSAVKKKPQKVAGGAAPSKPASAKKGKAESSNSSSSDDSSEEEEEKLKGKGSPRPQAPKANGTSALTAQNGKAAKNSEEEEEEKKKAAVVVSKSGSLKKRKQNEAAKEAETPQAKKIKLQTPNTFPKRKKGEKRASSPFRRVREEEIEVDSRVADNSFDAKRGAAGDWGERANQVLKFTKGKSFRHEKTKKKRGSYRGGSISVQVNSIKFDSE', 'length': 699, 'molWeight': 73603, 'crc64': '7C5C4F25677E2E61', 'md5': '0297E58178E3F37ECAA080F23A5EFC20'}, 'extraAttributes': {'uniParcId': 'UPI000013E575'}}\n"
     ]
    },
    {
     "name": "stderr",
     "output_type": "stream",
     "text": [
      "Fetching sequences:  99%|█████████▉| 466/469 [03:34<00:01,  2.18it/s]"
     ]
    },
    {
     "name": "stdout",
     "output_type": "stream",
     "text": [
      "{'entryType': 'UniProtKB reviewed (Swiss-Prot)', 'primaryAccession': 'Q13347', 'proteinDescription': {'recommendedName': {'fullName': {'evidences': [{'evidenceCode': 'ECO:0000255', 'source': 'HAMAP-Rule', 'id': 'MF_03008'}], 'value': 'Eukaryotic translation initiation factor 3 subunit I'}, 'shortNames': [{'evidences': [{'evidenceCode': 'ECO:0000255', 'source': 'HAMAP-Rule', 'id': 'MF_03008'}], 'value': 'eIF3i'}]}, 'alternativeNames': [{'fullName': {'evidences': [{'evidenceCode': 'ECO:0000255', 'source': 'HAMAP-Rule', 'id': 'MF_03008'}], 'value': 'Eukaryotic translation initiation factor 3 subunit 2'}}, {'fullName': {'value': 'TGF-beta receptor-interacting protein 1'}, 'shortNames': [{'value': 'TRIP-1'}]}, {'fullName': {'evidences': [{'evidenceCode': 'ECO:0000255', 'source': 'HAMAP-Rule', 'id': 'MF_03008'}], 'value': 'eIF-3-beta'}}, {'fullName': {'evidences': [{'evidenceCode': 'ECO:0000255', 'source': 'HAMAP-Rule', 'id': 'MF_03008'}], 'value': 'eIF3 p36'}}]}, 'genes': [{'geneName': {'evidences': [{'evidenceCode': 'ECO:0000255', 'source': 'HAMAP-Rule', 'id': 'MF_03008'}], 'value': 'EIF3I'}, 'synonyms': [{'evidences': [{'evidenceCode': 'ECO:0000255', 'source': 'HAMAP-Rule', 'id': 'MF_03008'}], 'value': 'EIF3S2'}, {'value': 'TRIP1'}]}], 'sequence': {'value': 'MKPILLQGHERSITQIKYNREGDLLFTVAKDPIVNVWYSVNGERLGTYMGHTGAVWCVDADWDTKHVLTGSADNSCRLWDCETGKQLALLKTNSAVRTCGFDFGGNIIMFSTDKQMGYQCFVSFFDLRDPSQIDNNEPYMKIPCNDSKITSAVWGPLGECIIAGHESGELNQYSAKSGEVLVNVKEHSRQINDIQLSRDMTMFVTASKDNTAKLFDSTTLEHQKTFRTERPVNSAALSPNYDHVVLGGGQEAMDVTTTSTRIGKFEARFFHLAFEEEFGRVKGHFGPINSVAFHPDGKSYSSGGEDGYVRIHYFDPQYFEFEFEA', 'length': 325, 'molWeight': 36502, 'crc64': '02797BB72A752A96', 'md5': 'CC0CB4657C0917F4DA9B3F9D50687B5B'}, 'extraAttributes': {'uniParcId': 'UPI000012D2FB'}}\n"
     ]
    },
    {
     "name": "stderr",
     "output_type": "stream",
     "text": [
      "Fetching sequences: 100%|█████████▉| 467/469 [03:34<00:00,  2.21it/s]"
     ]
    },
    {
     "name": "stdout",
     "output_type": "stream",
     "text": [
      "{'entryType': 'UniProtKB reviewed (Swiss-Prot)', 'primaryAccession': 'P62834', 'proteinDescription': {'recommendedName': {'fullName': {'value': 'Ras-related protein Rap-1A'}, 'ecNumbers': [{'evidences': [{'evidenceCode': 'ECO:0000250', 'source': 'UniProtKB', 'id': 'P61224'}], 'value': '3.6.5.2'}]}, 'alternativeNames': [{'fullName': {'value': 'C21KG'}}, {'fullName': {'value': 'G-22K'}}, {'fullName': {'value': 'GTP-binding protein smg p21A'}}, {'fullName': {'value': 'Ras-related protein Krev-1'}}], 'flag': 'Precursor'}, 'genes': [{'geneName': {'value': 'RAP1A'}, 'synonyms': [{'value': 'KREV1'}]}], 'sequence': {'value': 'MREYKLVVLGSGGVGKSALTVQFVQGIFVEKYDPTIEDSYRKQVEVDCQQCMLEILDTAGTEQFTAMRDLYMKNGQGFALVYSITAQSTFNDLQDLREQILRVKDTEDVPMILVGNKCDLEDERVVGKEQGQNLARQWCNCAFLESSAKSKINVNEIFYDLVRQINRKTPVEKKKPKKKSCLLL', 'length': 184, 'molWeight': 20987, 'crc64': '42C39290C98E0A92', 'md5': '3D957362BCF34E22DBB7A44930D36BF4'}, 'extraAttributes': {'uniParcId': 'UPI0000001250'}}\n"
     ]
    },
    {
     "name": "stderr",
     "output_type": "stream",
     "text": [
      "Fetching sequences: 100%|█████████▉| 468/469 [03:34<00:00,  2.23it/s]"
     ]
    },
    {
     "name": "stdout",
     "output_type": "stream",
     "text": [
      "{'entryType': 'UniProtKB reviewed (Swiss-Prot)', 'primaryAccession': 'P26639', 'proteinDescription': {'recommendedName': {'fullName': {'evidences': [{'evidenceCode': 'ECO:0000305'}], 'value': 'Threonine--tRNA ligase 1, cytoplasmic'}, 'ecNumbers': [{'evidences': [{'evidenceCode': 'ECO:0000269', 'source': 'PubMed', 'id': '25824639'}], 'value': '6.1.1.3'}]}, 'alternativeNames': [{'fullName': {'value': 'Threonyl-tRNA synthetase'}, 'shortNames': [{'value': 'ThrRS'}]}, {'fullName': {'evidences': [{'evidenceCode': 'ECO:0000312', 'source': 'HGNC', 'id': 'HGNC:11572'}], 'value': 'Threonyl-tRNA synthetase 1'}}]}, 'genes': [{'geneName': {'evidences': [{'evidenceCode': 'ECO:0000312', 'source': 'HGNC', 'id': 'HGNC:11572'}], 'value': 'TARS1'}, 'synonyms': [{'value': 'TARS'}]}], 'sequence': {'value': 'MFEEKASSPSGKMGGEEKPIGAGEEKQKEGGKKKNKEGSGDGGRAELNPWPEYIYTRLEMYNILKAEHDSILAEKAEKDSKPIKVTLPDGKQVDAESWKTTPYQIACGISQGLADNTVIAKVNNVVWDLDRPLEEDCTLELLKFEDEEAQAVYWHSSAHIMGEAMERVYGGCLCYGPPIENGFYYDMYLEEGGVSSNDFSSLEALCKKIIKEKQAFERLEVKKETLLAMFKYNKFKCRILNEKVNTPTTTVYRCGPLIDLCRGPHVRHTGKIKALKIHKNSSTYWEGKADMETLQRIYGISFPDPKMLKEWEKFQEEAKNRDHRKIGRDQELYFFHELSPGSCFFLPKGAYIYNALIEFIRSEYRKRGFQEVVTPNIFNSRLWMTSGHWQHYSENMFSFEVEKELFALKPMNCPGHCLMFDHRPRSWRELPLRLADFGVLHRNELSGALTGLTRVRRFQQDDAHIFCAMEQIEDEIKGCLDFLRTVYSVFGFSFKLNLSTRPEKFLGDIEVWDQAEKQLENSLNEFGEKWELNSGDGAFYGPKIDIQIKDAIGRYHQCATIQLDFQLPIRFNLTYVSHDGDDKKRPVIVHRAILGSVERMIAILTENYGGKWPFWLSPRQVMVVPVGPTCDEYAQKVRQQFHDAKFMADIDLDPGCTLNKKIRNAQLAQYNFILVVGEKEKISGTVNIRTRDNKVHGERTISETIERLQQLKEFRSKQAEEEF', 'length': 723, 'molWeight': 83435, 'crc64': '885745118972C5A9', 'md5': '984C74A119F6B1916305DDD2FB0DB23F'}, 'extraAttributes': {'uniParcId': 'UPI00001BD8D0'}}\n"
     ]
    },
    {
     "name": "stderr",
     "output_type": "stream",
     "text": [
      "Fetching sequences: 100%|██████████| 469/469 [03:35<00:00,  2.18it/s]"
     ]
    },
    {
     "name": "stdout",
     "output_type": "stream",
     "text": [
      "{'entryType': 'UniProtKB reviewed (Swiss-Prot)', 'primaryAccession': 'P05204', 'proteinDescription': {'recommendedName': {'fullName': {'value': 'Non-histone chromosomal protein HMG-17'}}, 'alternativeNames': [{'fullName': {'value': 'High mobility group nucleosome-binding domain-containing protein 2'}}]}, 'genes': [{'geneName': {'value': 'HMGN2'}, 'synonyms': [{'value': 'HMG17'}]}], 'sequence': {'value': 'MPKRKAEGDAKGDKAKVKDEPQRRSARLSAKPAPPKPEPKPKKAPAKKGEKVPKGKKGKADAGKEGNNPAENGDAKTDQAQKAEGAGDAK', 'length': 90, 'molWeight': 9393, 'crc64': 'B1C58E52200422C8', 'md5': 'A9CFC49F70FC3ED141571BAB89415E5B'}, 'extraAttributes': {'uniParcId': 'UPI000013EBD7'}}\n",
      "\n",
      "Results summary:\n",
      "- Total proteins processed: 469\n",
      "- Successfully retrieved: 466 sequences\n",
      "\n",
      "Output files:\n",
      "- paper2_fasta_results.csv: Contains all retrieved entries with gene names, accessions, descriptions, and sequences\n",
      "- paper2_fasta_results.fasta: Contains protein sequences in FASTA format with gene names in headers\n"
     ]
    },
    {
     "name": "stderr",
     "output_type": "stream",
     "text": [
      "\n"
     ]
    }
   ],
   "source": [
    "import pandas as pd\n",
    "import requests\n",
    "from tqdm import tqdm\n",
    "import sys\n",
    "import json\n",
    "import time\n",
    "from requests.adapters import HTTPAdapter\n",
    "from urllib3.util.retry import Retry\n",
    "import random\n",
    "\n",
    "def fetch_sequence_and_info(protein_id):\n",
    "    \"\"\"\n",
    "    Fetch sequence and protein information from UniProt\n",
    "    \"\"\"\n",
    "    url = f\"https://rest.uniprot.org/uniprotkb/{protein_id}\"\n",
    "    params = {\"fields\": [\"sequence\", \"gene_names\", \"protein_name\"]}\n",
    "    headers = {\"accept\": \"application/json\"}\n",
    "    \n",
    "    response = requests.get(url, headers=headers, params=params)\n",
    "    if response.ok:\n",
    "        data = response.json()\n",
    "        print(data)\n",
    "        sequence = data.get(\"sequence\", {}).get(\"value\", None)\n",
    "        gene_names = data.get(\"genes\", [{}])[0].get(\"geneName\", {}).get(\"value\", \"\")\n",
    "        protein_name = data.get(\"proteinDescription\", {}).get(\"recommendedName\", {}).get(\"fullName\", {}).get(\"value\", \"\")\n",
    "        return sequence, gene_names, protein_name\n",
    "    else:\n",
    "        print(f\"Warning: Failed to fetch {protein_id}\", file=sys.stderr)\n",
    "        return None, None, None\n",
    "\n",
    "def main():\n",
    "    # Read the Excel file\n",
    "    excel_file = \"/Users/conny/Desktop/AlphaFold/Summer Project/data/Paper 2 data.xlsx\"\n",
    "    \n",
    "    # Read the relevant columns\n",
    "    df = pd.read_excel(excel_file, header=11)\n",
    "    \n",
    "    # Extract protein IDs and descriptions\n",
    "    protein_data = []\n",
    "    for _, row in df.iterrows():\n",
    "        protein_ids = row['T: Majority protein IDs'].split(';')\n",
    "        description = row['T: Protein names']\n",
    "        \n",
    "        # Get the first protein ID from each entry\n",
    "        primary_id = protein_ids[0].strip()\n",
    "        protein_data.append({\n",
    "            'accession': primary_id,\n",
    "            'description': description\n",
    "        })\n",
    "    \n",
    "    # Get sequences and create results\n",
    "    results = []\n",
    "    for entry in tqdm(protein_data, desc=\"Fetching sequences\"):\n",
    "        sequence, gene_name, protein_name = fetch_sequence_and_info(entry['accession'])\n",
    "        if sequence:\n",
    "            results.append({\n",
    "                'accession': entry['accession'],\n",
    "                'gene': gene_name,  # Added gene name\n",
    "                'description': entry['description'],\n",
    "                'protein_name': protein_name,  # Added protein name\n",
    "                'sequence': sequence\n",
    "            })\n",
    "    \n",
    "    # Save results to CSV\n",
    "    results_df = pd.DataFrame(results)\n",
    "    results_df.to_csv(\"paper2_fasta_results.csv\", index=False)\n",
    "    \n",
    "    # Save sequences to FASTA file\n",
    "    with open(\"paper2_fasta_results.fasta\", \"w\") as f:\n",
    "        for result in results:\n",
    "            f.write(f\">{result['accession']} {result['gene']} {result['protein_name']}\\n\")\n",
    "            f.write(f\"{result['sequence']}\\n\")\n",
    "    \n",
    "    print(\"\\nResults summary:\")\n",
    "    print(f\"- Total proteins processed: {len(protein_data)}\")\n",
    "    print(f\"- Successfully retrieved: {len(results)} sequences\")\n",
    "    print(\"\\nOutput files:\")\n",
    "    print(\"- paper2_fasta_results.csv: Contains all retrieved entries with gene names, accessions, descriptions, and sequences\")\n",
    "    print(\"- paper2_fasta_results.fasta: Contains protein sequences in FASTA format with gene names in headers\")\n",
    "\n",
    "if __name__ == \"__main__\":\n",
    "    main()"
   ]
  },
  {
   "cell_type": "code",
   "execution_count": null,
   "metadata": {},
   "outputs": [],
   "source": []
  }
 ],
 "metadata": {
  "kernelspec": {
   "display_name": "Python 3",
   "language": "python",
   "name": "python3"
  },
  "language_info": {
   "codemirror_mode": {
    "name": "ipython",
    "version": 3
   },
   "file_extension": ".py",
   "mimetype": "text/x-python",
   "name": "python",
   "nbconvert_exporter": "python",
   "pygments_lexer": "ipython3",
   "version": "3.11.1"
  }
 },
 "nbformat": 4,
 "nbformat_minor": 2
}
