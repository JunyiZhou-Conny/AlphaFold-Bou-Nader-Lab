{
 "cells": [
  {
   "cell_type": "code",
   "execution_count": 1,
   "metadata": {},
   "outputs": [],
   "source": [
    "# Libraries\n",
    "import pandas as pd"
   ]
  },
  {
   "cell_type": "code",
   "execution_count": 2,
   "metadata": {},
   "outputs": [
    {
     "name": "stdout",
     "output_type": "stream",
     "text": [
      "<class 'pandas.core.frame.DataFrame'>\n",
      "RangeIndex: 1717 entries, 0 to 1716\n",
      "Data columns (total 31 columns):\n",
      " #   Column                                                Non-Null Count  Dtype  \n",
      "---  ------                                                --------------  -----  \n",
      " 0   Symbol color                                          1717 non-null   object \n",
      " 1   Symbol type                                           1717 non-null   int64  \n",
      " 2   Symbol size                                           1717 non-null   int64  \n",
      " 3   Show label                                            0 non-null      float64\n",
      " 4   Protein.Ids                                           1717 non-null   object \n",
      " 5   Protein.Names                                         1716 non-null   object \n",
      " 6   Genes                                                 1717 non-null   object \n",
      " 7   First.Protein.Description                             1716 non-null   object \n",
      " 8   Student's T-test Significant RNH1-HTP_WT-Untagged     739 non-null    object \n",
      " 9   Student's T-test significant                          739 non-null    object \n",
      " 10  -Log Student's T-test p-value RNH1-HTP_WT-Untagged    1637 non-null   float64\n",
      " 11  Student's T-test Difference RNH1-HTP_WT-Untagged      1717 non-null   float64\n",
      " 12  Student's T-test Test statistic RNH1-HTP_WT-Untagged  1637 non-null   float64\n",
      " 13  WT-Untagged_1                                         1717 non-null   float64\n",
      " 14  RNH1-HTP_1                                            1717 non-null   float64\n",
      " 15  rnh1-D193N-HTP_1                                      1717 non-null   float64\n",
      " 16  untagged control-rrp6?_1                              1717 non-null   float64\n",
      " 17  RNH1-HTP-rrp6?_1                                      1717 non-null   float64\n",
      " 18  rnh1-D193N-HTP-rrp6?_1                                1717 non-null   float64\n",
      " 19  WT-Untagged_2                                         1717 non-null   float64\n",
      " 20  RNH1-HTP_2                                            1717 non-null   float64\n",
      " 21   rnh1-D193N-HTP_2                                     1717 non-null   float64\n",
      " 22  untagged control-rrp6?_2                              1717 non-null   float64\n",
      " 23  RNH1-HTP-rrp6?_2                                      1717 non-null   float64\n",
      " 24  rnh1-D193N-HTP-rrp6?_2                                1717 non-null   float64\n",
      " 25  WT-Untagged_3                                         1717 non-null   float64\n",
      " 26  RNH1-HTP_3                                            1717 non-null   float64\n",
      " 27  rnh1-D193N-HTP_3                                      1717 non-null   float64\n",
      " 28  untagged control-rrp6?_3                              1717 non-null   float64\n",
      " 29  RNH1-HTP-rrp6?_3                                      1717 non-null   float64\n",
      " 30  rnh1-D193N-HTP-rrp6?_3                                1717 non-null   float64\n",
      "dtypes: float64(22), int64(2), object(7)\n",
      "memory usage: 416.0+ KB\n"
     ]
    }
   ],
   "source": [
    "data = pd.read_excel(\"/Users/conny/Desktop/AlphaFold/WT untagged_vs_RNH1(collabo_Charles Bou Nader).xlsx\")\n",
    "data.info()"
   ]
  },
  {
   "cell_type": "code",
   "execution_count": 3,
   "metadata": {},
   "outputs": [
    {
     "name": "stdout",
     "output_type": "stream",
     "text": [
      "<class 'pandas.core.series.Series'>\n",
      "0              Q04740\n",
      "1              P32445\n",
      "2       P05755;O13516\n",
      "3       P0CX45;P0CX46\n",
      "4       P0CX39;P0CX40\n",
      "            ...      \n",
      "1712           P45976\n",
      "1713           O60200\n",
      "1714           P38934\n",
      "1715           P52891\n",
      "1716           P48510\n",
      "Name: Protein.Ids, Length: 1717, dtype: object\n"
     ]
    }
   ],
   "source": [
    "# Extract the Protein ID from the column\n",
    "protein_ids = data['Protein.Ids']\n",
    "print(type(protein_ids))\n",
    "print(protein_ids)\n",
    "\n"
   ]
  },
  {
   "cell_type": "code",
   "execution_count": 30,
   "metadata": {},
   "outputs": [
    {
     "name": "stdout",
     "output_type": "stream",
     "text": [
      "MARQGNFYAVRKGRETGIYNTWNECKNQVDGYGGAIYKKFNSYEQAKSFLGQPNTTSNYGSSTHAGGQVSKPHTTQKRVHRRNRPLHYSSLTSSSACSSLSSANTNTFYSVKSNVPNIESKIFNNWKDCQAYVKHKRGITFKKFEDQLAAENFISGMSAHDYKLMNISKESFESKYKLSSNTMYNKSMNVYCDGSSFGNGTSSSRAGYGAYFEGAPEENISEPLLSGAQTNNRAEIEAVSEALKKIWEKLTNEKEKVNYQIKTDSEYVTKLLNDRYMTYDNKKLEGLPNSDLIVPLVQRFVKVKKYYELNKECFKNNGKFQIEWVKGHDGDPGNEMADFLAKKGASRR\n"
     ]
    }
   ],
   "source": [
    "# Example code, trail for 1 protein\n",
    "import requests, sys, json\n",
    "\n",
    "params = {\n",
    "  \"fields\": [\n",
    "    \"sequence\"\n",
    "  ]\n",
    "}\n",
    "headers = {\n",
    "  \"accept\": \"application/json\"\n",
    "}\n",
    "base_url = \"https://rest.uniprot.org/uniprotkb/Q04740\"\n",
    "\n",
    "response = requests.get(base_url, headers=headers, params=params)\n",
    "if not response.ok:\n",
    "  response.raise_for_status()\n",
    "  sys.exit()\n",
    "\n",
    "data = response.json()\n",
    "\n",
    "# Full information\n",
    "#print(json.dumps(data, indent=2))\n",
    "# sequence = data.get(\"sequence\", {}).get(\"value\", None)\n",
    "# print(sequence)\n",
    "\n",
    "# If the sequence is not found, return an empty dictionary\n",
    "# If the actual sequence string is not found, return None\n",
    "sequence_info = data.get(\"sequence\", {})\n",
    "sequence_value = sequence_info.get(\"value\", None)\n",
    "\n",
    "# Print the sequence value if it exists\n",
    "if sequence_value:\n",
    "    print(sequence_value)\n",
    "else:\n",
    "    print(\"Sequence value not found.\")\n",
    "\n",
    "test_file = \"single_sequence.fasta\"\n",
    "# Save results to file\n",
    "with open(test_file, \"w\") as file:\n",
    "      file.write(f\">Q04740\\n{sequence_value}\\n\")"
   ]
  },
  {
   "cell_type": "code",
   "execution_count": 5,
   "metadata": {},
   "outputs": [
    {
     "name": "stdout",
     "output_type": "stream",
     "text": [
      "Protein IDs saved to protein_ids.txt\n"
     ]
    }
   ],
   "source": [
    "# Extract the Protein ID from the column and put them in a txt file, one per line\n",
    "protein_ids = data['Protein.Ids']\n",
    "# Create output file\n",
    "with open('protein_ids.txt', 'w') as f:\n",
    "    for entry in protein_ids:\n",
    "        # Split on semicolon in case of multiple IDs per row\n",
    "        ids = entry.split(';')\n",
    "        for protein_id in ids:\n",
    "            # Write each ID on a new line after stripping whitespace\n",
    "            f.write(f\"{protein_id.strip()}\\n\")\n",
    "\n",
    "print(\"Protein IDs saved to protein_ids.txt\")\n",
    "\n",
    "# There are repeated IDs, a total of 1993\n"
   ]
  },
  {
   "cell_type": "code",
   "execution_count": 35,
   "metadata": {},
   "outputs": [
    {
     "name": "stdout",
     "output_type": "stream",
     "text": [
      "Protein sequences saved to protein_sequences.fasta\n"
     ]
    }
   ],
   "source": [
    "# The  foolowing script already remove the repeated IDs, a total of 1862*2 lines.\n",
    "import requests\n",
    "import sys\n",
    "import json\n",
    "import pandas as pd\n",
    "\n",
    "# Extract the Protein ID from the column\n",
    "protein_ids = data['Protein.Ids']\n",
    "\n",
    "# API Parameters\n",
    "params = {\"fields\": [\"sequence\"]}\n",
    "headers = {\"accept\": \"application/json\"}\n",
    "\n",
    "# Output file\n",
    "output_file = \"unique_protein_sequences.fasta\"\n",
    "\n",
    "# Function to fetch amino acid sequence\n",
    "def fetch_sequence(protein_id):\n",
    "    url = f\"https://rest.uniprot.org/uniprotkb/{protein_id}\"\n",
    "    response = requests.get(url, headers=headers, params=params)\n",
    "\n",
    "    if response.ok:\n",
    "        data = response.json()\n",
    "        sequence_info = data.get(\"sequence\", {})\n",
    "        return sequence_info.get(\"value\", None)  # Return sequence or None if not found\n",
    "    else:\n",
    "        print(f\"Warning: Failed to fetch {protein_id}\", file=sys.stderr)\n",
    "        return None\n",
    "\n",
    "# Process protein IDs and fetch sequences\n",
    "results = {}\n",
    "for entry in protein_ids:\n",
    "    protein_ids = entry.split(\";\")  # Handle multiple protein IDs in a row\n",
    "    for protein_id in protein_ids:\n",
    "        protein_id = protein_id.strip()  # Remove whitespace\n",
    "        if protein_id and protein_id not in results:  # Avoid redundant queries\n",
    "            sequence = fetch_sequence(protein_id)\n",
    "            if sequence:\n",
    "                results[protein_id] = sequence\n",
    "            else:\n",
    "                results[protein_id] = \"Sequence Not Found\"\n",
    "\n",
    "# Save results to file\n",
    "with open(output_file, \"w\") as file:\n",
    "    for protein_id, sequence in results.items():\n",
    "        file.write(f\">{protein_id}\\n{sequence}\\n\")\n",
    "\n",
    "print(f\"Protein sequences saved to {output_file}\")\n"
   ]
  },
  {
   "cell_type": "code",
   "execution_count": null,
   "metadata": {},
   "outputs": [],
   "source": [
    "#"
   ]
  }
 ],
 "metadata": {
  "kernelspec": {
   "display_name": "Python 3",
   "language": "python",
   "name": "python3"
  },
  "language_info": {
   "codemirror_mode": {
    "name": "ipython",
    "version": 3
   },
   "file_extension": ".py",
   "mimetype": "text/x-python",
   "name": "python",
   "nbconvert_exporter": "python",
   "pygments_lexer": "ipython3",
   "version": "3.11.1"
  }
 },
 "nbformat": 4,
 "nbformat_minor": 2
}
